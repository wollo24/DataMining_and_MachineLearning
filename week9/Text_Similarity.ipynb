{
  "nbformat": 4,
  "nbformat_minor": 0,
  "metadata": {
    "colab": {
      "provenance": [],
      "collapsed_sections": []
    },
    "kernelspec": {
      "name": "python3",
      "display_name": "Python 3"
    }
  },
  "cells": [
    {
      "cell_type": "markdown",
      "source": [
        "<a href=\"https://colab.research.google.com/github/michalis0/DataMining_and_MachineLearning/blob/master/week9/Text_Similarity.ipynb\" target=\"_parent\"><img src=\"https://colab.research.google.com/assets/colab-badge.svg\" alt=\"Open In Colab\"/></a>"
      ],
      "metadata": {
        "id": "FXFkMk9xVUIi"
      }
    },
    {
      "cell_type": "markdown",
      "source": [
        "# Text Similarity "
      ],
      "metadata": {
        "id": "fITH_G1xVUbB"
      }
    },
    {
      "cell_type": "code",
      "metadata": {
        "id": "GQi481ap9CEM"
      },
      "source": [
        "#nltk.download('punkt')\n",
        "# we update and install spaCy\n",
        "# !pip install -U spacy"
      ],
      "execution_count": null,
      "outputs": []
    },
    {
      "cell_type": "code",
      "metadata": {
        "id": "fe7twV8Q7dGg",
        "outputId": "3e029085-d527-48e1-f12a-b0ce3fda3f0d",
        "colab": {
          "base_uri": "https://localhost:8080/"
        }
      },
      "source": [
        "pip install wikipedia"
      ],
      "execution_count": null,
      "outputs": [
        {
          "output_type": "stream",
          "name": "stdout",
          "text": [
            "Looking in indexes: https://pypi.org/simple, https://us-python.pkg.dev/colab-wheels/public/simple/\n",
            "Collecting wikipedia\n",
            "  Downloading wikipedia-1.4.0.tar.gz (27 kB)\n",
            "Requirement already satisfied: beautifulsoup4 in /usr/local/lib/python3.7/dist-packages (from wikipedia) (4.6.3)\n",
            "Requirement already satisfied: requests<3.0.0,>=2.0.0 in /usr/local/lib/python3.7/dist-packages (from wikipedia) (2.23.0)\n",
            "Requirement already satisfied: chardet<4,>=3.0.2 in /usr/local/lib/python3.7/dist-packages (from requests<3.0.0,>=2.0.0->wikipedia) (3.0.4)\n",
            "Requirement already satisfied: idna<3,>=2.5 in /usr/local/lib/python3.7/dist-packages (from requests<3.0.0,>=2.0.0->wikipedia) (2.10)\n",
            "Requirement already satisfied: urllib3!=1.25.0,!=1.25.1,<1.26,>=1.21.1 in /usr/local/lib/python3.7/dist-packages (from requests<3.0.0,>=2.0.0->wikipedia) (1.24.3)\n",
            "Requirement already satisfied: certifi>=2017.4.17 in /usr/local/lib/python3.7/dist-packages (from requests<3.0.0,>=2.0.0->wikipedia) (2022.9.24)\n",
            "Building wheels for collected packages: wikipedia\n",
            "  Building wheel for wikipedia (setup.py) ... \u001b[?25l\u001b[?25hdone\n",
            "  Created wheel for wikipedia: filename=wikipedia-1.4.0-py3-none-any.whl size=11696 sha256=09bdc9fb4cbcef780f6b81234fe4d5bd14b21038ec19eed592cd9177857c4edd\n",
            "  Stored in directory: /root/.cache/pip/wheels/15/93/6d/5b2c68b8a64c7a7a04947b4ed6d89fb557dcc6bc27d1d7f3ba\n",
            "Successfully built wikipedia\n",
            "Installing collected packages: wikipedia\n",
            "Successfully installed wikipedia-1.4.0\n"
          ]
        }
      ]
    },
    {
      "cell_type": "markdown",
      "metadata": {
        "id": "uY-QWMKHuWPx"
      },
      "source": [
        "It's much easier to use an existing library that does all this preprocessing for us (but it's limited to wikipedia articles)."
      ]
    },
    {
      "cell_type": "code",
      "metadata": {
        "id": "_S39iF0Wsu2u"
      },
      "source": [
        "import wikipedia\n",
        "\n",
        "topics = [\"Albert Einstein\", \n",
        "          \"A da Lovelace\",\n",
        "          \"Abraham Lincoln\",\n",
        "          \"Stephen Hawking\", \n",
        "          \"Steve J obs\",\n",
        "          \"Bill G ates\",\n",
        "          \"Bill Clinton\"\n",
        "]\n",
        "\n",
        "data = [wikipedia.summary(topics[p], sentences=20) for p in range(len(topics))]\n",
        "\n",
        "# we will try this later\n",
        "# data = [wikipedia.page(topics[p]).content for p in range(len(topics))]"
      ],
      "execution_count": null,
      "outputs": []
    },
    {
      "cell_type": "code",
      "metadata": {
        "id": "szdCm_N2s1xP",
        "outputId": "06e46cbd-2ce4-4abd-e741-d8042ffd12b7",
        "colab": {
          "base_uri": "https://localhost:8080/",
          "height": 165
        }
      },
      "source": [
        "# show the first sentences about Ada Lovelace\n",
        "data[1]"
      ],
      "execution_count": null,
      "outputs": [
        {
          "output_type": "execute_result",
          "data": {
            "text/plain": [
              "'Augusta Ada King, Countess of Lovelace (née Byron; 10 December 1815 – 27 November 1852) was an English mathematician and writer, chiefly known for her work on Charles Babbage\\'s proposed mechanical general-purpose computer, the Analytical Engine. She was the first to recognise that the machine had applications beyond pure calculation, and to have published the first algorithm intended to be carried out by such a machine. As a result, she is often regarded as the first computer programmer.Ada Byron was the only legitimate child of poet Lord Byron and Lady Byron. All of Byron\\'s other children were born out of wedlock to other women. Byron separated from his wife a month after Ada was born and left England forever. Four months later, he commemorated the parting in a poem that begins, \"Is thy face like thy mother\\'s my fair child! ADA! sole daughter of my house and heart?\" He died in Greece when Ada was eight. Her mother remained bitter and promoted Ada\\'s interest in mathematics and logic in an effort to prevent her from developing her father\\'s perceived insanity. Despite this, Ada remained interested in him, naming her two sons Byron and Gordon.'"
            ],
            "application/vnd.google.colaboratory.intrinsic+json": {
              "type": "string"
            }
          },
          "metadata": {},
          "execution_count": 17
        }
      ]
    },
    {
      "cell_type": "markdown",
      "metadata": {
        "id": "MKC0hmfgZesx"
      },
      "source": [
        "## Converting the text into vectors"
      ]
    },
    {
      "cell_type": "code",
      "metadata": {
        "id": "abDmZVMZLuXP"
      },
      "source": [
        "from sklearn.feature_extraction.text import CountVectorizer\n",
        "from sklearn.feature_extraction import _stop_words\n",
        "import pandas as pd\n",
        "\n",
        "stopwords = _stop_words.ENGLISH_STOP_WORDS\n",
        "\n",
        "# using default tokenizer \n",
        "count = CountVectorizer(ngram_range=(1,2), stop_words = None)\n",
        "bow = count.fit_transform(data)"
      ],
      "execution_count": null,
      "outputs": []
    },
    {
      "cell_type": "markdown",
      "metadata": {
        "id": "UAwCpPh9ZYOB"
      },
      "source": [
        "## Computing the Cosine Similarity"
      ]
    },
    {
      "cell_type": "code",
      "metadata": {
        "id": "aq3E7gSBWnNE",
        "outputId": "9a7b6e0b-880b-4b99-ac99-835fc2c41b56",
        "colab": {
          "base_uri": "https://localhost:8080/"
        }
      },
      "source": [
        "from sklearn.metrics.pairwise import cosine_similarity\n",
        "\n",
        "# compute first item against all the rest\n",
        "cosine_similarity(bow[0:1], bow)"
      ],
      "execution_count": null,
      "outputs": [
        {
          "output_type": "execute_result",
          "data": {
            "text/plain": [
              "array([[1.        , 0.34499993, 0.43749309, 0.58919088, 0.55037199,\n",
              "        0.42078143, 0.3978623 ]])"
            ]
          },
          "metadata": {},
          "execution_count": 27
        }
      ]
    },
    {
      "cell_type": "markdown",
      "metadata": {
        "id": "nA4_Z07bY9xd"
      },
      "source": [
        "We see that the maximum cosine similarity is achieved for the 4th item and it is 0.69. The above shows that \"Albert Einstein\" is more similar to \"Steven Hawking\".\n",
        "\n",
        "Now let's see all the pairwise similarities.\n"
      ]
    },
    {
      "cell_type": "markdown",
      "metadata": {
        "id": "u5OzgKfcZtSb"
      },
      "source": []
    },
    {
      "cell_type": "code",
      "metadata": {
        "id": "UmUb5yL3YwIp",
        "outputId": "785d969c-7d1a-4857-d548-036af685c155",
        "colab": {
          "base_uri": "https://localhost:8080/",
          "height": 269
        }
      },
      "source": [
        "pairwise_similarities = cosine_similarity(bow, bow)\n",
        "\n",
        "pairwise_df = pd.DataFrame(\n",
        "    pairwise_similarities,\n",
        "    columns = topics,\n",
        "    index = topics\n",
        ")\n",
        "pairwise_df"
      ],
      "execution_count": null,
      "outputs": [
        {
          "output_type": "execute_result",
          "data": {
            "text/plain": [
              "                 Albert Einstein  A da Lovelace  Abraham Lincoln  \\\n",
              "Albert Einstein         1.000000       0.345000         0.437493   \n",
              "A da Lovelace           0.345000       1.000000         0.398811   \n",
              "Abraham Lincoln         0.437493       0.398811         1.000000   \n",
              "Stephen Hawking         0.589191       0.403004         0.511476   \n",
              "Steve J obs             0.550372       0.433322         0.548259   \n",
              "Bill G ates             0.420781       0.331869         0.447159   \n",
              "Bill Clinton            0.397862       0.372918         0.483488   \n",
              "\n",
              "                 Stephen Hawking  Steve J obs  Bill G ates  Bill Clinton  \n",
              "Albert Einstein         0.589191     0.550372     0.420781      0.397862  \n",
              "A da Lovelace           0.403004     0.433322     0.331869      0.372918  \n",
              "Abraham Lincoln         0.511476     0.548259     0.447159      0.483488  \n",
              "Stephen Hawking         1.000000     0.590199     0.476354      0.440723  \n",
              "Steve J obs             0.590199     1.000000     0.553468      0.455594  \n",
              "Bill G ates             0.476354     0.553468     1.000000      0.393454  \n",
              "Bill Clinton            0.440723     0.455594     0.393454      1.000000  "
            ],
            "text/html": [
              "\n",
              "  <div id=\"df-aec1bd65-59dc-4d41-b159-a07182538b8c\">\n",
              "    <div class=\"colab-df-container\">\n",
              "      <div>\n",
              "<style scoped>\n",
              "    .dataframe tbody tr th:only-of-type {\n",
              "        vertical-align: middle;\n",
              "    }\n",
              "\n",
              "    .dataframe tbody tr th {\n",
              "        vertical-align: top;\n",
              "    }\n",
              "\n",
              "    .dataframe thead th {\n",
              "        text-align: right;\n",
              "    }\n",
              "</style>\n",
              "<table border=\"1\" class=\"dataframe\">\n",
              "  <thead>\n",
              "    <tr style=\"text-align: right;\">\n",
              "      <th></th>\n",
              "      <th>Albert Einstein</th>\n",
              "      <th>A da Lovelace</th>\n",
              "      <th>Abraham Lincoln</th>\n",
              "      <th>Stephen Hawking</th>\n",
              "      <th>Steve J obs</th>\n",
              "      <th>Bill G ates</th>\n",
              "      <th>Bill Clinton</th>\n",
              "    </tr>\n",
              "  </thead>\n",
              "  <tbody>\n",
              "    <tr>\n",
              "      <th>Albert Einstein</th>\n",
              "      <td>1.000000</td>\n",
              "      <td>0.345000</td>\n",
              "      <td>0.437493</td>\n",
              "      <td>0.589191</td>\n",
              "      <td>0.550372</td>\n",
              "      <td>0.420781</td>\n",
              "      <td>0.397862</td>\n",
              "    </tr>\n",
              "    <tr>\n",
              "      <th>A da Lovelace</th>\n",
              "      <td>0.345000</td>\n",
              "      <td>1.000000</td>\n",
              "      <td>0.398811</td>\n",
              "      <td>0.403004</td>\n",
              "      <td>0.433322</td>\n",
              "      <td>0.331869</td>\n",
              "      <td>0.372918</td>\n",
              "    </tr>\n",
              "    <tr>\n",
              "      <th>Abraham Lincoln</th>\n",
              "      <td>0.437493</td>\n",
              "      <td>0.398811</td>\n",
              "      <td>1.000000</td>\n",
              "      <td>0.511476</td>\n",
              "      <td>0.548259</td>\n",
              "      <td>0.447159</td>\n",
              "      <td>0.483488</td>\n",
              "    </tr>\n",
              "    <tr>\n",
              "      <th>Stephen Hawking</th>\n",
              "      <td>0.589191</td>\n",
              "      <td>0.403004</td>\n",
              "      <td>0.511476</td>\n",
              "      <td>1.000000</td>\n",
              "      <td>0.590199</td>\n",
              "      <td>0.476354</td>\n",
              "      <td>0.440723</td>\n",
              "    </tr>\n",
              "    <tr>\n",
              "      <th>Steve J obs</th>\n",
              "      <td>0.550372</td>\n",
              "      <td>0.433322</td>\n",
              "      <td>0.548259</td>\n",
              "      <td>0.590199</td>\n",
              "      <td>1.000000</td>\n",
              "      <td>0.553468</td>\n",
              "      <td>0.455594</td>\n",
              "    </tr>\n",
              "    <tr>\n",
              "      <th>Bill G ates</th>\n",
              "      <td>0.420781</td>\n",
              "      <td>0.331869</td>\n",
              "      <td>0.447159</td>\n",
              "      <td>0.476354</td>\n",
              "      <td>0.553468</td>\n",
              "      <td>1.000000</td>\n",
              "      <td>0.393454</td>\n",
              "    </tr>\n",
              "    <tr>\n",
              "      <th>Bill Clinton</th>\n",
              "      <td>0.397862</td>\n",
              "      <td>0.372918</td>\n",
              "      <td>0.483488</td>\n",
              "      <td>0.440723</td>\n",
              "      <td>0.455594</td>\n",
              "      <td>0.393454</td>\n",
              "      <td>1.000000</td>\n",
              "    </tr>\n",
              "  </tbody>\n",
              "</table>\n",
              "</div>\n",
              "      <button class=\"colab-df-convert\" onclick=\"convertToInteractive('df-aec1bd65-59dc-4d41-b159-a07182538b8c')\"\n",
              "              title=\"Convert this dataframe to an interactive table.\"\n",
              "              style=\"display:none;\">\n",
              "        \n",
              "  <svg xmlns=\"http://www.w3.org/2000/svg\" height=\"24px\"viewBox=\"0 0 24 24\"\n",
              "       width=\"24px\">\n",
              "    <path d=\"M0 0h24v24H0V0z\" fill=\"none\"/>\n",
              "    <path d=\"M18.56 5.44l.94 2.06.94-2.06 2.06-.94-2.06-.94-.94-2.06-.94 2.06-2.06.94zm-11 1L8.5 8.5l.94-2.06 2.06-.94-2.06-.94L8.5 2.5l-.94 2.06-2.06.94zm10 10l.94 2.06.94-2.06 2.06-.94-2.06-.94-.94-2.06-.94 2.06-2.06.94z\"/><path d=\"M17.41 7.96l-1.37-1.37c-.4-.4-.92-.59-1.43-.59-.52 0-1.04.2-1.43.59L10.3 9.45l-7.72 7.72c-.78.78-.78 2.05 0 2.83L4 21.41c.39.39.9.59 1.41.59.51 0 1.02-.2 1.41-.59l7.78-7.78 2.81-2.81c.8-.78.8-2.07 0-2.86zM5.41 20L4 18.59l7.72-7.72 1.47 1.35L5.41 20z\"/>\n",
              "  </svg>\n",
              "      </button>\n",
              "      \n",
              "  <style>\n",
              "    .colab-df-container {\n",
              "      display:flex;\n",
              "      flex-wrap:wrap;\n",
              "      gap: 12px;\n",
              "    }\n",
              "\n",
              "    .colab-df-convert {\n",
              "      background-color: #E8F0FE;\n",
              "      border: none;\n",
              "      border-radius: 50%;\n",
              "      cursor: pointer;\n",
              "      display: none;\n",
              "      fill: #1967D2;\n",
              "      height: 32px;\n",
              "      padding: 0 0 0 0;\n",
              "      width: 32px;\n",
              "    }\n",
              "\n",
              "    .colab-df-convert:hover {\n",
              "      background-color: #E2EBFA;\n",
              "      box-shadow: 0px 1px 2px rgba(60, 64, 67, 0.3), 0px 1px 3px 1px rgba(60, 64, 67, 0.15);\n",
              "      fill: #174EA6;\n",
              "    }\n",
              "\n",
              "    [theme=dark] .colab-df-convert {\n",
              "      background-color: #3B4455;\n",
              "      fill: #D2E3FC;\n",
              "    }\n",
              "\n",
              "    [theme=dark] .colab-df-convert:hover {\n",
              "      background-color: #434B5C;\n",
              "      box-shadow: 0px 1px 3px 1px rgba(0, 0, 0, 0.15);\n",
              "      filter: drop-shadow(0px 1px 2px rgba(0, 0, 0, 0.3));\n",
              "      fill: #FFFFFF;\n",
              "    }\n",
              "  </style>\n",
              "\n",
              "      <script>\n",
              "        const buttonEl =\n",
              "          document.querySelector('#df-aec1bd65-59dc-4d41-b159-a07182538b8c button.colab-df-convert');\n",
              "        buttonEl.style.display =\n",
              "          google.colab.kernel.accessAllowed ? 'block' : 'none';\n",
              "\n",
              "        async function convertToInteractive(key) {\n",
              "          const element = document.querySelector('#df-aec1bd65-59dc-4d41-b159-a07182538b8c');\n",
              "          const dataTable =\n",
              "            await google.colab.kernel.invokeFunction('convertToInteractive',\n",
              "                                                     [key], {});\n",
              "          if (!dataTable) return;\n",
              "\n",
              "          const docLinkHtml = 'Like what you see? Visit the ' +\n",
              "            '<a target=\"_blank\" href=https://colab.research.google.com/notebooks/data_table.ipynb>data table notebook</a>'\n",
              "            + ' to learn more about interactive tables.';\n",
              "          element.innerHTML = '';\n",
              "          dataTable['output_type'] = 'display_data';\n",
              "          await google.colab.output.renderOutput(dataTable, element);\n",
              "          const docLink = document.createElement('div');\n",
              "          docLink.innerHTML = docLinkHtml;\n",
              "          element.appendChild(docLink);\n",
              "        }\n",
              "      </script>\n",
              "    </div>\n",
              "  </div>\n",
              "  "
            ]
          },
          "metadata": {},
          "execution_count": 29
        }
      ]
    },
    {
      "cell_type": "code",
      "metadata": {
        "id": "EcX5XMaEalYJ",
        "outputId": "0a7a618c-7c34-47b1-cced-06ab08a957b8",
        "colab": {
          "base_uri": "https://localhost:8080/",
          "height": 342
        }
      },
      "source": [
        "import seaborn as sns\n",
        "import matplotlib.pyplot as plt\n",
        "\n",
        "# show it \n",
        "plt.figure(figsize=(15,5))\n",
        "sns.heatmap(\n",
        "    pairwise_df,\n",
        "    cmap='OrRd',\n",
        "    linewidth=1,\n",
        "    annot=True\n",
        ")"
      ],
      "execution_count": null,
      "outputs": [
        {
          "output_type": "execute_result",
          "data": {
            "text/plain": [
              "<matplotlib.axes._subplots.AxesSubplot at 0x7fce92aece50>"
            ]
          },
          "metadata": {},
          "execution_count": 30
        },
        {
          "output_type": "display_data",
          "data": {
            "text/plain": [
              "<Figure size 1080x360 with 2 Axes>"
            ],
            "image/png": "[encoded data removed]"
          },
          "metadata": {
            "needs_background": "light"
          }
        }
      ]
    },
    {
      "cell_type": "markdown",
      "metadata": {
        "id": "-pBWchtQgjio"
      },
      "source": [
        "# Exercise 1\n",
        "\n",
        "In the first block, uncomment this code:\n",
        "\n",
        "> `# data = [wikipedia.page(topics[p]).content for p in range(len(topics))]`\n",
        "\n",
        "to get the full text from each wikipedia entry, not just a summary.\n",
        "\n",
        "**Questions**:\n",
        "1. What do you notice in the pairwise similarities?\n",
        "2. Why is this happening?"
      ]
    },
    {
      "cell_type": "markdown",
      "metadata": {
        "id": "ozD1H2ofhKg5"
      },
      "source": [
        "# Exercise 2\n",
        "\n",
        "We will remedy what you noticed before. \n",
        "\n",
        "1. How can we do it?\n",
        "2. How does the new pairwise matrix look like now?"
      ]
    },
    {
      "cell_type": "code",
      "metadata": {
        "id": "wkY1b59sa2gV"
      },
      "source": [],
      "execution_count": null,
      "outputs": []
    }
  ]
}