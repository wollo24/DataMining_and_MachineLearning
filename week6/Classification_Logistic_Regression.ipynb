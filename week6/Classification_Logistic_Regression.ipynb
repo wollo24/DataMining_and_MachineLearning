{
  "nbformat": 4,
  "nbformat_minor": 0,
  "metadata": {
    "colab": {
      "provenance": [],
      "collapsed_sections": []
    },
    "kernelspec": {
      "name": "python3",
      "display_name": "Python 3"
    },
    "language_info": {
      "name": "python"
    }
  },
  "cells": [
    {
      "cell_type": "markdown",
      "metadata": {
        "id": "view-in-github"
      },
      "source": [
        "<a href=\"https://colab.research.google.com/github/michalis0/DataMining_and_MachineLearning/blob/master/week6/Classification_Logistic_Regression.ipynb\" target=\"_parent\"><img src=\"https://colab.research.google.com/assets/colab-badge.svg\" alt=\"Open In Colab\"/></a>"
      ]
    },
    {
      "cell_type": "markdown",
      "metadata": {
        "id": "zNh7izQ9Obcc"
      },
      "source": [
        "# Data Mining and Machine Learning - Week 6\n",
        "# Classification (I)\n",
        "\n",
        "Classification is part of **supervised learning**. The objective is to predict a category (or a label), by training a model on a set of annotated (labelled) samples. The variable to predict is categorical (not numerical as in regression), and its categories are predefined.\n",
        "\n",
        "For example you can predict whether an email is spam or not spam. Or looking at email advertisements, predict whether a client will click or not on the advert.  \n",
        "\n",
        "This notebook looks at **binary classifiers** (when the target variable only has 2 classes, like yes or no) and **multi-class classifiers** (when the target variable has more than 2 classes, like low, medium and high income)\n",
        "\n",
        "Let's look at a concrete first classification task and solve it step by step using Scikit-learn."
      ]
    },
    {
      "cell_type": "code",
      "metadata": {
        "id": "hwFo_At1OM-V"
      },
      "source": [
        "# import required packages\n",
        "import numpy as np\n",
        "import pandas as pd\n",
        "import seaborn as sns\n",
        "import matplotlib.pyplot as plt\n",
        "from sklearn.preprocessing import LabelEncoder, OrdinalEncoder, OneHotEncoder, StandardScaler\n",
        "from sklearn.model_selection import train_test_split\n",
        "from sklearn.metrics import confusion_matrix, accuracy_score, precision_score, recall_score, f1_score\n",
        "\n",
        "from sklearn.linear_model import LogisticRegression, LogisticRegressionCV\n",
        "\n",
        "%matplotlib inline\n",
        "sns.set_style('dark')"
      ],
      "execution_count": null,
      "outputs": []
    },
    {
      "cell_type": "markdown",
      "metadata": {
        "id": "YtB0lxemR3xg"
      },
      "source": [
        "##1. Logistic Regression for Binary Classifiers: first simple easy example\n",
        "\n",
        "To start with, we create our own dataset so that it includes two numerical variables (x1 and x2) and one binary target variable, which only takes two values: 0 and 1.\n",
        "\n",
        "The goal is to fit a model using the features x1 and x2 to learn when the target variable is 0 and when it is 1."
      ]
    },
    {
      "cell_type": "code",
      "metadata": {
        "colab": {
          "base_uri": "https://localhost:8080/",
          "height": 363
        },
        "id": "TQ6zMamPR3KS",
        "outputId": "9707eb40-2998-4272-d54b-2e7067e5d4ba"
      },
      "source": [
        "sample = [[0.1, 0.2, 0],\n",
        "          [0.3, 0.05, 0],\n",
        "          [0.3, 0.2, 0],\n",
        "          [0.7, 0.65, 1],\n",
        "          [0.25, 0.3, 0],\n",
        "          [0.85, 0.55, 1],\n",
        "          [0.1, 0.45, 0],\n",
        "          [0.9, 0.85, 1],\n",
        "          [0.95, 0.55, 1],\n",
        "          [0.8, 0.8, 1]\n",
        "          ]\n",
        "df = pd.DataFrame(sample, columns=['x1', 'x2', 'target'])\n",
        "df"
      ],
      "execution_count": null,
      "outputs": [
        {
          "output_type": "execute_result",
          "data": {
            "text/plain": [
              "     x1    x2  target\n",
              "0  0.10  0.20       0\n",
              "1  0.30  0.05       0\n",
              "2  0.30  0.20       0\n",
              "3  0.70  0.65       1\n",
              "4  0.25  0.30       0\n",
              "5  0.85  0.55       1\n",
              "6  0.10  0.45       0\n",
              "7  0.90  0.85       1\n",
              "8  0.95  0.55       1\n",
              "9  0.80  0.80       1"
            ],
            "text/html": [
              "\n",
              "  <div id=\"df-faa703b9-17dc-4a19-8d2d-8cd1f62256b0\">\n",
              "    <div class=\"colab-df-container\">\n",
              "      <div>\n",
              "<style scoped>\n",
              "    .dataframe tbody tr th:only-of-type {\n",
              "        vertical-align: middle;\n",
              "    }\n",
              "\n",
              "    .dataframe tbody tr th {\n",
              "        vertical-align: top;\n",
              "    }\n",
              "\n",
              "    .dataframe thead th {\n",
              "        text-align: right;\n",
              "    }\n",
              "</style>\n",
              "<table border=\"1\" class=\"dataframe\">\n",
              "  <thead>\n",
              "    <tr style=\"text-align: right;\">\n",
              "      <th></th>\n",
              "      <th>x1</th>\n",
              "      <th>x2</th>\n",
              "      <th>target</th>\n",
              "    </tr>\n",
              "  </thead>\n",
              "  <tbody>\n",
              "    <tr>\n",
              "      <th>0</th>\n",
              "      <td>0.10</td>\n",
              "      <td>0.20</td>\n",
              "      <td>0</td>\n",
              "    </tr>\n",
              "    <tr>\n",
              "      <th>1</th>\n",
              "      <td>0.30</td>\n",
              "      <td>0.05</td>\n",
              "      <td>0</td>\n",
              "    </tr>\n",
              "    <tr>\n",
              "      <th>2</th>\n",
              "      <td>0.30</td>\n",
              "      <td>0.20</td>\n",
              "      <td>0</td>\n",
              "    </tr>\n",
              "    <tr>\n",
              "      <th>3</th>\n",
              "      <td>0.70</td>\n",
              "      <td>0.65</td>\n",
              "      <td>1</td>\n",
              "    </tr>\n",
              "    <tr>\n",
              "      <th>4</th>\n",
              "      <td>0.25</td>\n",
              "      <td>0.30</td>\n",
              "      <td>0</td>\n",
              "    </tr>\n",
              "    <tr>\n",
              "      <th>5</th>\n",
              "      <td>0.85</td>\n",
              "      <td>0.55</td>\n",
              "      <td>1</td>\n",
              "    </tr>\n",
              "    <tr>\n",
              "      <th>6</th>\n",
              "      <td>0.10</td>\n",
              "      <td>0.45</td>\n",
              "      <td>0</td>\n",
              "    </tr>\n",
              "    <tr>\n",
              "      <th>7</th>\n",
              "      <td>0.90</td>\n",
              "      <td>0.85</td>\n",
              "      <td>1</td>\n",
              "    </tr>\n",
              "    <tr>\n",
              "      <th>8</th>\n",
              "      <td>0.95</td>\n",
              "      <td>0.55</td>\n",
              "      <td>1</td>\n",
              "    </tr>\n",
              "    <tr>\n",
              "      <th>9</th>\n",
              "      <td>0.80</td>\n",
              "      <td>0.80</td>\n",
              "      <td>1</td>\n",
              "    </tr>\n",
              "  </tbody>\n",
              "</table>\n",
              "</div>\n",
              "      <button class=\"colab-df-convert\" onclick=\"convertToInteractive('df-faa703b9-17dc-4a19-8d2d-8cd1f62256b0')\"\n",
              "              title=\"Convert this dataframe to an interactive table.\"\n",
              "              style=\"display:none;\">\n",
              "        \n",
              "  <svg xmlns=\"http://www.w3.org/2000/svg\" height=\"24px\"viewBox=\"0 0 24 24\"\n",
              "       width=\"24px\">\n",
              "    <path d=\"M0 0h24v24H0V0z\" fill=\"none\"/>\n",
              "    <path d=\"M18.56 5.44l.94 2.06.94-2.06 2.06-.94-2.06-.94-.94-2.06-.94 2.06-2.06.94zm-11 1L8.5 8.5l.94-2.06 2.06-.94-2.06-.94L8.5 2.5l-.94 2.06-2.06.94zm10 10l.94 2.06.94-2.06 2.06-.94-2.06-.94-.94-2.06-.94 2.06-2.06.94z\"/><path d=\"M17.41 7.96l-1.37-1.37c-.4-.4-.92-.59-1.43-.59-.52 0-1.04.2-1.43.59L10.3 9.45l-7.72 7.72c-.78.78-.78 2.05 0 2.83L4 21.41c.39.39.9.59 1.41.59.51 0 1.02-.2 1.41-.59l7.78-7.78 2.81-2.81c.8-.78.8-2.07 0-2.86zM5.41 20L4 18.59l7.72-7.72 1.47 1.35L5.41 20z\"/>\n",
              "  </svg>\n",
              "      </button>\n",
              "      \n",
              "  <style>\n",
              "    .colab-df-container {\n",
              "      display:flex;\n",
              "      flex-wrap:wrap;\n",
              "      gap: 12px;\n",
              "    }\n",
              "\n",
              "    .colab-df-convert {\n",
              "      background-color: #E8F0FE;\n",
              "      border: none;\n",
              "      border-radius: 50%;\n",
              "      cursor: pointer;\n",
              "      display: none;\n",
              "      fill: #1967D2;\n",
              "      height: 32px;\n",
              "      padding: 0 0 0 0;\n",
              "      width: 32px;\n",
              "    }\n",
              "\n",
              "    .colab-df-convert:hover {\n",
              "      background-color: #E2EBFA;\n",
              "      box-shadow: 0px 1px 2px rgba(60, 64, 67, 0.3), 0px 1px 3px 1px rgba(60, 64, 67, 0.15);\n",
              "      fill: #174EA6;\n",
              "    }\n",
              "\n",
              "    [theme=dark] .colab-df-convert {\n",
              "      background-color: #3B4455;\n",
              "      fill: #D2E3FC;\n",
              "    }\n",
              "\n",
              "    [theme=dark] .colab-df-convert:hover {\n",
              "      background-color: #434B5C;\n",
              "      box-shadow: 0px 1px 3px 1px rgba(0, 0, 0, 0.15);\n",
              "      filter: drop-shadow(0px 1px 2px rgba(0, 0, 0, 0.3));\n",
              "      fill: #FFFFFF;\n",
              "    }\n",
              "  </style>\n",
              "\n",
              "      <script>\n",
              "        const buttonEl =\n",
              "          document.querySelector('#df-faa703b9-17dc-4a19-8d2d-8cd1f62256b0 button.colab-df-convert');\n",
              "        buttonEl.style.display =\n",
              "          google.colab.kernel.accessAllowed ? 'block' : 'none';\n",
              "\n",
              "        async function convertToInteractive(key) {\n",
              "          const element = document.querySelector('#df-faa703b9-17dc-4a19-8d2d-8cd1f62256b0');\n",
              "          const dataTable =\n",
              "            await google.colab.kernel.invokeFunction('convertToInteractive',\n",
              "                                                     [key], {});\n",
              "          if (!dataTable) return;\n",
              "\n",
              "          const docLinkHtml = 'Like what you see? Visit the ' +\n",
              "            '<a target=\"_blank\" href=https://colab.research.google.com/notebooks/data_table.ipynb>data table notebook</a>'\n",
              "            + ' to learn more about interactive tables.';\n",
              "          element.innerHTML = '';\n",
              "          dataTable['output_type'] = 'display_data';\n",
              "          await google.colab.output.renderOutput(dataTable, element);\n",
              "          const docLink = document.createElement('div');\n",
              "          docLink.innerHTML = docLinkHtml;\n",
              "          element.appendChild(docLink);\n",
              "        }\n",
              "      </script>\n",
              "    </div>\n",
              "  </div>\n",
              "  "
            ]
          },
          "metadata": {},
          "execution_count": 2
        }
      ]
    },
    {
      "cell_type": "markdown",
      "metadata": {
        "id": "0p2fAh8tWPlI"
      },
      "source": [
        "###Plot `x1` and `x2` according to `target`\n",
        "\n",
        "The idea is to get a graphical representation of the problem at hand using x1 and x2 as the two dimension of a scatter plot and varying the color of the resulting scatter points by the target vairable (which shows either 0 or 1)."
      ]
    },
    {
      "cell_type": "code",
      "metadata": {
        "colab": {
          "base_uri": "https://localhost:8080/",
          "height": 258
        },
        "id": "3PJAmrCrWiKp",
        "outputId": "83c0b821-50f9-4844-b7f6-5339a2bdf1b6"
      },
      "source": [
        "df.plot.scatter(x='x1', y='x2', c='target', colormap='winter');\n",
        "# set the (c) color of the map to vary by the \"target\" feature of the df"
      ],
      "execution_count": null,
      "outputs": [
        {
          "output_type": "display_data",
          "data": {
            "text/plain": [
              "<Figure size 432x288 with 2 Axes>"
            ],
            "image/png": "[encoded data removed]"
          },
          "metadata": {}
        }
      ]
    },
    {
      "cell_type": "markdown",
      "metadata": {
        "id": "cpVjvbMhYJWZ"
      },
      "source": [
        "We can see there is a clear linear separation between the green scatter points (target=1) and the blue points (target=0). You can easily draw a line that separates the two categories.\n",
        "\n",
        "This situation is a good candidate for training a logistic regression.\n",
        "\n",
        "### Logistic Regression and Decision Boundary\n",
        "\n",
        "We'll do just that below."
      ]
    },
    {
      "cell_type": "code",
      "metadata": {
        "colab": {
          "base_uri": "https://localhost:8080/"
        },
        "id": "XFEzc5VXaYOn",
        "outputId": "f9291954-fde0-4d44-b257-881cedb58e99"
      },
      "source": [
        "# Set 'X' and 'y'\n",
        "# Reminder: 'X' will contain our independent features and 'y' will contain our dependent feature\n",
        "\n",
        "X = df[['x1', 'x2']] # this is our input matrix, it includes our two numerical features\n",
        "\n",
        "y = df.target # this is our binary target vector, it contains our categorical variable, the labels we'd like to learn\n",
        "\n",
        "#instantiate the estimator\n",
        "LR = LogisticRegression()\n",
        "\n",
        "# fit the estimator to our labelled data (input matrix and target vector)\n",
        "LR.fit(X, y)"
      ],
      "execution_count": null,
      "outputs": [
        {
          "output_type": "execute_result",
          "data": {
            "text/plain": [
              "LogisticRegression()"
            ]
          },
          "metadata": {},
          "execution_count": 8
        }
      ]
    },
    {
      "cell_type": "markdown",
      "metadata": {
        "id": "1lLRGcM-dWCO"
      },
      "source": [
        "Some results of our simple Logistic Regression model. We will apply the train-test-split in the second example. Here we only have 10 data points."
      ]
    },
    {
      "cell_type": "code",
      "metadata": {
        "colab": {
          "base_uri": "https://localhost:8080/"
        },
        "id": "2E3vzDWmdPfw",
        "outputId": "54a60d9c-35a4-4b5e-efcd-ec4673810177"
      },
      "source": [
        "LR.coef_ # these are the fitted coefficients for x1 and x2"
      ],
      "execution_count": null,
      "outputs": [
        {
          "output_type": "execute_result",
          "data": {
            "text/plain": [
              "array([[1.15013435, 0.79371503]])"
            ]
          },
          "metadata": {},
          "execution_count": 9
        }
      ]
    },
    {
      "cell_type": "code",
      "metadata": {
        "colab": {
          "base_uri": "https://localhost:8080/"
        },
        "id": "QkmP-6qWdiE0",
        "outputId": "105febe3-f276-4281-aae4-9f9b286cf97e"
      },
      "source": [
        "LR.intercept_ # this is fitted the intercept"
      ],
      "execution_count": null,
      "outputs": [
        {
          "output_type": "execute_result",
          "data": {
            "text/plain": [
              "array([-0.96836108])"
            ]
          },
          "metadata": {},
          "execution_count": 10
        }
      ]
    },
    {
      "cell_type": "code",
      "metadata": {
        "colab": {
          "base_uri": "https://localhost:8080/"
        },
        "id": "LR_fAPqwd2VZ",
        "outputId": "e752ef17-1fb8-47b3-b01f-fde741721323"
      },
      "source": [
        "LR.predict(X) # these are the model predictions for y given the set of X's"
      ],
      "execution_count": null,
      "outputs": [
        {
          "output_type": "execute_result",
          "data": {
            "text/plain": [
              "array([0, 0, 0, 1, 0, 1, 0, 1, 1, 1])"
            ]
          },
          "metadata": {},
          "execution_count": 11
        }
      ]
    },
    {
      "cell_type": "code",
      "metadata": {
        "colab": {
          "base_uri": "https://localhost:8080/"
        },
        "id": "HQTQRIO4eQOH",
        "outputId": "0f515f7c-7b88-4f6a-f025-39be56e67e33"
      },
      "source": [
        "LR.predict_proba(X) # for each point in the dataset, these are the predicted probabilities for each class (0 and 1)"
      ],
      "execution_count": null,
      "outputs": [
        {
          "output_type": "execute_result",
          "data": {
            "text/plain": [
              "array([[0.66699047, 0.33300953],\n",
              "       [0.6419034 , 0.3580966 ],\n",
              "       [0.61409959, 0.38590041],\n",
              "       [0.4127405 , 0.5872595 ],\n",
              "       [0.60890529, 0.39109471],\n",
              "       [0.39036068, 0.60963932],\n",
              "       [0.62156023, 0.37843977],\n",
              "       [0.32269423, 0.67730577],\n",
              "       [0.3633601 , 0.6366399 ],\n",
              "       [0.35738815, 0.64261185]])"
            ]
          },
          "metadata": {},
          "execution_count": 12
        }
      ]
    },
    {
      "cell_type": "code",
      "metadata": {
        "colab": {
          "base_uri": "https://localhost:8080/"
        },
        "id": "X1YopsVWe15r",
        "outputId": "72399a7b-8cd1-4384-be92-f286f6134184"
      },
      "source": [
        "LR.classes_ # these are classes that the model learned to predict for the target vector y"
      ],
      "execution_count": null,
      "outputs": [
        {
          "output_type": "execute_result",
          "data": {
            "text/plain": [
              "array([0, 1])"
            ]
          },
          "metadata": {},
          "execution_count": 13
        }
      ]
    },
    {
      "cell_type": "markdown",
      "metadata": {
        "id": "SHsYG9DsRAzw"
      },
      "source": [
        "How good is this model? One way we could assess goodness of fit is by looking at accuracy.\n",
        "\n",
        "***Accuracy** is the proportion of data points (from the test set) that the model classifies as correct. We'll come back to see the train-test split later. But for the moment, let's check the accuracy of our model with the code below. Our model seems 100% accurate. That can be because we have not tested it on any unseen labelled data (the test set)."
      ]
    },
    {
      "cell_type": "code",
      "metadata": {
        "colab": {
          "base_uri": "https://localhost:8080/"
        },
        "id": "5Q1Pd_OpRJHe",
        "outputId": "58076142-b4ba-44a1-891e-06bc55a9b895"
      },
      "source": [
        "LR.score(X, y)"
      ],
      "execution_count": null,
      "outputs": [
        {
          "output_type": "execute_result",
          "data": {
            "text/plain": [
              "1.0"
            ]
          },
          "metadata": {},
          "execution_count": 14
        }
      ]
    },
    {
      "cell_type": "markdown",
      "metadata": {
        "id": "x8l_p-m0flcv"
      },
      "source": [
        "Can we have a nice graphical representation of our simple, easy model?"
      ]
    },
    {
      "cell_type": "code",
      "metadata": {
        "colab": {
          "base_uri": "https://localhost:8080/",
          "height": 504
        },
        "id": "Ncd6texDgwv6",
        "outputId": "5b9bdb43-e2c0-46d1-f360-b51d52ecc202"
      },
      "source": [
        "# here is the decision boundary plot\n",
        "\n",
        "# create a grid of values bounded by the actual min and max values of x1 and x2\n",
        "x_min, x_max = X.x1.min()-0.1, X.x1.max() + 0.1\n",
        "y_min, y_max = X.x2.min()-0.1, X.x2.max() +.01\n",
        "xx, yy = np.meshgrid(np.linspace(x_min, x_max, 100), np.linspace(y_min, y_max, 100))\n",
        "\n",
        "# get the predicted target values for the generated grid of values\n",
        "Z = LR.predict(np.c_[xx.ravel(), yy.ravel()])\n",
        "Z = Z.reshape(xx.shape)\n",
        "\n",
        "# put the result into a pseudocolor plot\n",
        "plt.figure(1, figsize=(10, 7))\n",
        "plt.pcolormesh(xx, yy, Z, cmap='winter') # x and y specify the corners, Z specifies the color\n",
        "\n",
        "# plot the training points\n",
        "plt.scatter(X.x1, X.x2, edgecolors='k', c='white')\n",
        "\n",
        "# plot two new unseen points p1 and p2\n",
        "plt.scatter(0.4, 0.4, c='black') # p1\n",
        "plt.scatter(0.6, 0.5, c='black') #p2\n",
        "plt.text(0.36, 0.36, 'p1') # the label of p1\n",
        "plt.text(0.61, 0.5, 'p2') # the label of p2\n",
        "plt.xlabel('x1', fontsize=15)\n",
        "plt.ylabel('x2', fontsize=15);"
      ],
      "execution_count": null,
      "outputs": [
        {
          "output_type": "stream",
          "name": "stderr",
          "text": [
            "/usr/local/lib/python3.7/dist-packages/sklearn/base.py:451: UserWarning: X does not have valid feature names, but LogisticRegression was fitted with feature names\n",
            "  \"X does not have valid feature names, but\"\n"
          ]
        },
        {
          "output_type": "display_data",
          "data": {
            "text/plain": [
              "<Figure size 720x504 with 1 Axes>"
            ],
            "image/png": "[encoded data removed]"
          },
          "metadata": {}
        }
      ]
    },
    {
      "cell_type": "markdown",
      "metadata": {
        "id": "KF6oZ-F5vnaS"
      },
      "source": [
        "This pseudo color plot shows the decision boundary for our Logistic Regression classifier. We have seen previously this seems to be a linearly separable problem given the position of the train scatter points on the plot. Now we can see where the model drew the line.\n",
        "\n",
        "We have also plotted two new \"unseen\" points: p1 and p2. Given our simple easy model, what target class can we predict for p1 and p2?\n",
        "\n",
        "### Predictions for two new unseen points"
      ]
    },
    {
      "cell_type": "code",
      "metadata": {
        "colab": {
          "base_uri": "https://localhost:8080/",
          "height": 112
        },
        "id": "hpGaKPGlw-df",
        "outputId": "2e0159b2-e8f9-4546-d8d5-2967fbe2f422"
      },
      "source": [
        "# Make a dataframe with our two new points p1 and p2 for which we know the x1 and x2 values\n",
        "\n",
        "new_points = pd.DataFrame([[0.4, 0.4], [0.6, 0.5]], columns=['x1', 'x2'], index=['p1', 'p2'])\n",
        "new_points"
      ],
      "execution_count": null,
      "outputs": [
        {
          "output_type": "execute_result",
          "data": {
            "text/plain": [
              "     x1   x2\n",
              "p1  0.4  0.4\n",
              "p2  0.6  0.5"
            ],
            "text/html": [
              "\n",
              "  <div id=\"df-41f20457-ee4a-49f2-a321-7b7bdfcd2a7e\">\n",
              "    <div class=\"colab-df-container\">\n",
              "      <div>\n",
              "<style scoped>\n",
              "    .dataframe tbody tr th:only-of-type {\n",
              "        vertical-align: middle;\n",
              "    }\n",
              "\n",
              "    .dataframe tbody tr th {\n",
              "        vertical-align: top;\n",
              "    }\n",
              "\n",
              "    .dataframe thead th {\n",
              "        text-align: right;\n",
              "    }\n",
              "</style>\n",
              "<table border=\"1\" class=\"dataframe\">\n",
              "  <thead>\n",
              "    <tr style=\"text-align: right;\">\n",
              "      <th></th>\n",
              "      <th>x1</th>\n",
              "      <th>x2</th>\n",
              "    </tr>\n",
              "  </thead>\n",
              "  <tbody>\n",
              "    <tr>\n",
              "      <th>p1</th>\n",
              "      <td>0.4</td>\n",
              "      <td>0.4</td>\n",
              "    </tr>\n",
              "    <tr>\n",
              "      <th>p2</th>\n",
              "      <td>0.6</td>\n",
              "      <td>0.5</td>\n",
              "    </tr>\n",
              "  </tbody>\n",
              "</table>\n",
              "</div>\n",
              "      <button class=\"colab-df-convert\" onclick=\"convertToInteractive('df-41f20457-ee4a-49f2-a321-7b7bdfcd2a7e')\"\n",
              "              title=\"Convert this dataframe to an interactive table.\"\n",
              "              style=\"display:none;\">\n",
              "        \n",
              "  <svg xmlns=\"http://www.w3.org/2000/svg\" height=\"24px\"viewBox=\"0 0 24 24\"\n",
              "       width=\"24px\">\n",
              "    <path d=\"M0 0h24v24H0V0z\" fill=\"none\"/>\n",
              "    <path d=\"M18.56 5.44l.94 2.06.94-2.06 2.06-.94-2.06-.94-.94-2.06-.94 2.06-2.06.94zm-11 1L8.5 8.5l.94-2.06 2.06-.94-2.06-.94L8.5 2.5l-.94 2.06-2.06.94zm10 10l.94 2.06.94-2.06 2.06-.94-2.06-.94-.94-2.06-.94 2.06-2.06.94z\"/><path d=\"M17.41 7.96l-1.37-1.37c-.4-.4-.92-.59-1.43-.59-.52 0-1.04.2-1.43.59L10.3 9.45l-7.72 7.72c-.78.78-.78 2.05 0 2.83L4 21.41c.39.39.9.59 1.41.59.51 0 1.02-.2 1.41-.59l7.78-7.78 2.81-2.81c.8-.78.8-2.07 0-2.86zM5.41 20L4 18.59l7.72-7.72 1.47 1.35L5.41 20z\"/>\n",
              "  </svg>\n",
              "      </button>\n",
              "      \n",
              "  <style>\n",
              "    .colab-df-container {\n",
              "      display:flex;\n",
              "      flex-wrap:wrap;\n",
              "      gap: 12px;\n",
              "    }\n",
              "\n",
              "    .colab-df-convert {\n",
              "      background-color: #E8F0FE;\n",
              "      border: none;\n",
              "      border-radius: 50%;\n",
              "      cursor: pointer;\n",
              "      display: none;\n",
              "      fill: #1967D2;\n",
              "      height: 32px;\n",
              "      padding: 0 0 0 0;\n",
              "      width: 32px;\n",
              "    }\n",
              "\n",
              "    .colab-df-convert:hover {\n",
              "      background-color: #E2EBFA;\n",
              "      box-shadow: 0px 1px 2px rgba(60, 64, 67, 0.3), 0px 1px 3px 1px rgba(60, 64, 67, 0.15);\n",
              "      fill: #174EA6;\n",
              "    }\n",
              "\n",
              "    [theme=dark] .colab-df-convert {\n",
              "      background-color: #3B4455;\n",
              "      fill: #D2E3FC;\n",
              "    }\n",
              "\n",
              "    [theme=dark] .colab-df-convert:hover {\n",
              "      background-color: #434B5C;\n",
              "      box-shadow: 0px 1px 3px 1px rgba(0, 0, 0, 0.15);\n",
              "      filter: drop-shadow(0px 1px 2px rgba(0, 0, 0, 0.3));\n",
              "      fill: #FFFFFF;\n",
              "    }\n",
              "  </style>\n",
              "\n",
              "      <script>\n",
              "        const buttonEl =\n",
              "          document.querySelector('#df-41f20457-ee4a-49f2-a321-7b7bdfcd2a7e button.colab-df-convert');\n",
              "        buttonEl.style.display =\n",
              "          google.colab.kernel.accessAllowed ? 'block' : 'none';\n",
              "\n",
              "        async function convertToInteractive(key) {\n",
              "          const element = document.querySelector('#df-41f20457-ee4a-49f2-a321-7b7bdfcd2a7e');\n",
              "          const dataTable =\n",
              "            await google.colab.kernel.invokeFunction('convertToInteractive',\n",
              "                                                     [key], {});\n",
              "          if (!dataTable) return;\n",
              "\n",
              "          const docLinkHtml = 'Like what you see? Visit the ' +\n",
              "            '<a target=\"_blank\" href=https://colab.research.google.com/notebooks/data_table.ipynb>data table notebook</a>'\n",
              "            + ' to learn more about interactive tables.';\n",
              "          element.innerHTML = '';\n",
              "          dataTable['output_type'] = 'display_data';\n",
              "          await google.colab.output.renderOutput(dataTable, element);\n",
              "          const docLink = document.createElement('div');\n",
              "          docLink.innerHTML = docLinkHtml;\n",
              "          element.appendChild(docLink);\n",
              "        }\n",
              "      </script>\n",
              "    </div>\n",
              "  </div>\n",
              "  "
            ]
          },
          "metadata": {},
          "execution_count": 17
        }
      ]
    },
    {
      "cell_type": "code",
      "metadata": {
        "colab": {
          "base_uri": "https://localhost:8080/"
        },
        "id": "rkpWQ2lixu5q",
        "outputId": "1aee210d-b588-4dd6-9f5c-1a6e84f6ca2c"
      },
      "source": [
        "# use our model LR to predict\n",
        "LR.predict(new_points)"
      ],
      "execution_count": null,
      "outputs": [
        {
          "output_type": "execute_result",
          "data": {
            "text/plain": [
              "array([0, 1])"
            ]
          },
          "metadata": {},
          "execution_count": 18
        }
      ]
    },
    {
      "cell_type": "markdown",
      "metadata": {
        "id": "Z6SZeZXDx6j2"
      },
      "source": [
        "Our guess is confirmed, the model predicts p1 to be of label 0 (blue in the decision boundary plot) and p2 to be of label 1 (green).\n",
        "\n",
        "But with what probability are they of the predicted labels? Remember, they are quite close to the decision boundary, thus the predictions have close to 50-50 probability to be accurate)."
      ]
    },
    {
      "cell_type": "code",
      "metadata": {
        "colab": {
          "base_uri": "https://localhost:8080/"
        },
        "id": "qFaLroMgySEn",
        "outputId": "64af62b3-0849-4769-b1ba-d48fd8e03432"
      },
      "source": [
        "LR.predict_proba(new_points)"
      ],
      "execution_count": null,
      "outputs": [
        {
          "output_type": "execute_result",
          "data": {
            "text/plain": [
              "array([[0.5475611 , 0.4524389 ],\n",
              "       [0.47039042, 0.52960958]])"
            ]
          },
          "metadata": {},
          "execution_count": 19
        }
      ]
    },
    {
      "cell_type": "markdown",
      "metadata": {
        "id": "DW3AwJCgy1c6"
      },
      "source": [
        "### A few theoretical elements\n",
        "\n",
        "Logistic Regression gets its name from the function used at its core, the logistic function. Also called the Sigmoid Function, it is used to describe probabilities. The function has an S-shaped curve shown below. It takes any float x and maps it to a probability value between 0 and 1. The function applies this non-linear transformation to x to map it to a probability value.\n",
        "\n",
        "This is the Sigmoid Function:\n",
        "\n",
        "$$\\frac{1}{1+e^{-x}}$$\n",
        "\n"
      ]
    },
    {
      "cell_type": "code",
      "metadata": {
        "colab": {
          "base_uri": "https://localhost:8080/",
          "height": 404
        },
        "id": "Wbh-EqCa4itE",
        "outputId": "e0ea5713-c3a6-48d4-d88b-a17689c3b7f1"
      },
      "source": [
        "x = np.linspace(-6, 6, num=100)\n",
        "plt.figure(figsize=(10,6))\n",
        "plt.plot(x, (1/(1+np.exp(-x))), c='purple')\n",
        "plt.title('Sigmoid Function')\n",
        "plt.xlabel('x values')\n",
        "plt.ylabel('probability value');"
      ],
      "execution_count": null,
      "outputs": [
        {
          "output_type": "display_data",
          "data": {
            "text/plain": [
              "<Figure size 720x432 with 1 Axes>"
            ],
            "image/png": "[encoded data removed]"
          },
          "metadata": {}
        }
      ]
    },
    {
      "cell_type": "markdown",
      "metadata": {
        "id": "5Woo239n6YQr"
      },
      "source": [
        "Preparing data for Binary Logistic Regression\n",
        "\n",
        "Just a reminder of some of the underlying assumptions:\n",
        "\n",
        "* **Binary target variable**: the model is intended for binary (two-class) classification problems. It predicts the probability of an instance belonging to one of these two classes.\n",
        "* **Remove noise**: it assumes no error is present in the target variable. Thus you should consider removing misclassified instances and cleaning your data.\n",
        "* **Linear relationship**: it assumes there is a linear relationship between X and y-probabilities (that the problem is linearly separable). Thus you should consider plotting your data like we have seen above.\n",
        "* **Fail to converge**: It is possible that the estimation fails to converge and given an error. This can happen if there are many highly correlated inputs in your data or if the data are very sparse (many zero values in the input data). In this case you can set a number for the `max_iter` parameter.\n",
        "\n",
        "\n",
        "Perhaps we could do better in the example above if we applied some of the improvements we have learned before for regression:\n",
        "* train-test-split (test our results on a set of unseen data)\n",
        "* standardisation (when x1 and x2 are on different scales)\n",
        "* cross-validation (have several test sets)\n",
        "* regularization (when x1 and x2 are highly correlated; to reduce overfitting)\n"
      ]
    },
    {
      "cell_type": "markdown",
      "metadata": {
        "id": "g_3zFPVK_Tq7"
      },
      "source": [
        "##2. Logistic Regression to Predict Ad Click\n",
        "\n",
        "Let's try this out Logistic Regression in a real-world example from Kaggle on Advertising data. The dataset is available online here: https://github.com/michalis0/DataMining_and_MachineLearning/blob/master/week6/data/advertising.csv\n",
        "\n",
        "It has 1000 rows and 10 features:\n",
        "* `Daily Time Spent on Site`: consumer time on site in minutes\n",
        "* `Age`: customer age in years\n",
        "* `Area Income`: average income of geographical area in which customer resides\n",
        "* `Daily Internet Usage`: average minutes a day a customer is online\n",
        "* `Ad Topic Line`: headline of the advertisement\n",
        "* `City`: city of the customer\n",
        "* `Male`: takes 1 if customer is male\n",
        "* `Country`: country of the customer\n",
        "* `Timestamp`: time at which customer clicked on ad\n",
        "* `Clicked ad`: 1 if clicked on ad and 0 otherwise.\n",
        "\n",
        "The goal is the predict whether a customer clicks on an advertisement email using the `Clicked ad` column.\n",
        "\n",
        "First, load the dataset."
      ]
    },
    {
      "cell_type": "code",
      "metadata": {
        "colab": {
          "base_uri": "https://localhost:8080/",
          "height": 354
        },
        "id": "SXb5LEk__x8B",
        "outputId": "648c6bfb-dd53-4313-b71d-7a02caf85eac"
      },
      "source": [
        "data = pd.read_csv('https://raw.githubusercontent.com/michalis0/DataMining_and_MachineLearning/master/week6/data/advertising.csv')\n",
        "data.head()"
      ],
      "execution_count": null,
      "outputs": [
        {
          "output_type": "execute_result",
          "data": {
            "text/plain": [
              "   Daily Time Spent on Site  Age  Area Income  Daily Internet Usage  \\\n",
              "0                     68.95   35     61833.90                256.09   \n",
              "1                     80.23   31     68441.85                193.77   \n",
              "2                     69.47   26     59785.94                236.50   \n",
              "3                     74.15   29     54806.18                245.89   \n",
              "4                     68.37   35     73889.99                225.58   \n",
              "\n",
              "                           Ad Topic Line            City  Male     Country  \\\n",
              "0     Cloned 5thgeneration orchestration     Wrightburgh     0     Tunisia   \n",
              "1     Monitored national standardization       West Jodi     1       Nauru   \n",
              "2       Organic bottom-line service-desk        Davidton     0  San Marino   \n",
              "3  Triple-buffered reciprocal time-frame  West Terrifurt     1       Italy   \n",
              "4          Robust logistical utilization    South Manuel     0     Iceland   \n",
              "\n",
              "             Timestamp  Clicked on Ad  \n",
              "0  2016-03-27 00:53:11              0  \n",
              "1  2016-04-04 01:39:02              0  \n",
              "2  2016-03-13 20:35:42              0  \n",
              "3  2016-01-10 02:31:19              0  \n",
              "4  2016-06-03 03:36:18              0  "
            ],
            "text/html": [
              "\n",
              "  <div id=\"df-fd61d361-27ec-4af9-9fd5-c869cbad17ef\">\n",
              "    <div class=\"colab-df-container\">\n",
              "      <div>\n",
              "<style scoped>\n",
              "    .dataframe tbody tr th:only-of-type {\n",
              "        vertical-align: middle;\n",
              "    }\n",
              "\n",
              "    .dataframe tbody tr th {\n",
              "        vertical-align: top;\n",
              "    }\n",
              "\n",
              "    .dataframe thead th {\n",
              "        text-align: right;\n",
              "    }\n",
              "</style>\n",
              "<table border=\"1\" class=\"dataframe\">\n",
              "  <thead>\n",
              "    <tr style=\"text-align: right;\">\n",
              "      <th></th>\n",
              "      <th>Daily Time Spent on Site</th>\n",
              "      <th>Age</th>\n",
              "      <th>Area Income</th>\n",
              "      <th>Daily Internet Usage</th>\n",
              "      <th>Ad Topic Line</th>\n",
              "      <th>City</th>\n",
              "      <th>Male</th>\n",
              "      <th>Country</th>\n",
              "      <th>Timestamp</th>\n",
              "      <th>Clicked on Ad</th>\n",
              "    </tr>\n",
              "  </thead>\n",
              "  <tbody>\n",
              "    <tr>\n",
              "      <th>0</th>\n",
              "      <td>68.95</td>\n",
              "      <td>35</td>\n",
              "      <td>61833.90</td>\n",
              "      <td>256.09</td>\n",
              "      <td>Cloned 5thgeneration orchestration</td>\n",
              "      <td>Wrightburgh</td>\n",
              "      <td>0</td>\n",
              "      <td>Tunisia</td>\n",
              "      <td>2016-03-27 00:53:11</td>\n",
              "      <td>0</td>\n",
              "    </tr>\n",
              "    <tr>\n",
              "      <th>1</th>\n",
              "      <td>80.23</td>\n",
              "      <td>31</td>\n",
              "      <td>68441.85</td>\n",
              "      <td>193.77</td>\n",
              "      <td>Monitored national standardization</td>\n",
              "      <td>West Jodi</td>\n",
              "      <td>1</td>\n",
              "      <td>Nauru</td>\n",
              "      <td>2016-04-04 01:39:02</td>\n",
              "      <td>0</td>\n",
              "    </tr>\n",
              "    <tr>\n",
              "      <th>2</th>\n",
              "      <td>69.47</td>\n",
              "      <td>26</td>\n",
              "      <td>59785.94</td>\n",
              "      <td>236.50</td>\n",
              "      <td>Organic bottom-line service-desk</td>\n",
              "      <td>Davidton</td>\n",
              "      <td>0</td>\n",
              "      <td>San Marino</td>\n",
              "      <td>2016-03-13 20:35:42</td>\n",
              "      <td>0</td>\n",
              "    </tr>\n",
              "    <tr>\n",
              "      <th>3</th>\n",
              "      <td>74.15</td>\n",
              "      <td>29</td>\n",
              "      <td>54806.18</td>\n",
              "      <td>245.89</td>\n",
              "      <td>Triple-buffered reciprocal time-frame</td>\n",
              "      <td>West Terrifurt</td>\n",
              "      <td>1</td>\n",
              "      <td>Italy</td>\n",
              "      <td>2016-01-10 02:31:19</td>\n",
              "      <td>0</td>\n",
              "    </tr>\n",
              "    <tr>\n",
              "      <th>4</th>\n",
              "      <td>68.37</td>\n",
              "      <td>35</td>\n",
              "      <td>73889.99</td>\n",
              "      <td>225.58</td>\n",
              "      <td>Robust logistical utilization</td>\n",
              "      <td>South Manuel</td>\n",
              "      <td>0</td>\n",
              "      <td>Iceland</td>\n",
              "      <td>2016-06-03 03:36:18</td>\n",
              "      <td>0</td>\n",
              "    </tr>\n",
              "  </tbody>\n",
              "</table>\n",
              "</div>\n",
              "      <button class=\"colab-df-convert\" onclick=\"convertToInteractive('df-fd61d361-27ec-4af9-9fd5-c869cbad17ef')\"\n",
              "              title=\"Convert this dataframe to an interactive table.\"\n",
              "              style=\"display:none;\">\n",
              "        \n",
              "  <svg xmlns=\"http://www.w3.org/2000/svg\" height=\"24px\"viewBox=\"0 0 24 24\"\n",
              "       width=\"24px\">\n",
              "    <path d=\"M0 0h24v24H0V0z\" fill=\"none\"/>\n",
              "    <path d=\"M18.56 5.44l.94 2.06.94-2.06 2.06-.94-2.06-.94-.94-2.06-.94 2.06-2.06.94zm-11 1L8.5 8.5l.94-2.06 2.06-.94-2.06-.94L8.5 2.5l-.94 2.06-2.06.94zm10 10l.94 2.06.94-2.06 2.06-.94-2.06-.94-.94-2.06-.94 2.06-2.06.94z\"/><path d=\"M17.41 7.96l-1.37-1.37c-.4-.4-.92-.59-1.43-.59-.52 0-1.04.2-1.43.59L10.3 9.45l-7.72 7.72c-.78.78-.78 2.05 0 2.83L4 21.41c.39.39.9.59 1.41.59.51 0 1.02-.2 1.41-.59l7.78-7.78 2.81-2.81c.8-.78.8-2.07 0-2.86zM5.41 20L4 18.59l7.72-7.72 1.47 1.35L5.41 20z\"/>\n",
              "  </svg>\n",
              "      </button>\n",
              "      \n",
              "  <style>\n",
              "    .colab-df-container {\n",
              "      display:flex;\n",
              "      flex-wrap:wrap;\n",
              "      gap: 12px;\n",
              "    }\n",
              "\n",
              "    .colab-df-convert {\n",
              "      background-color: #E8F0FE;\n",
              "      border: none;\n",
              "      border-radius: 50%;\n",
              "      cursor: pointer;\n",
              "      display: none;\n",
              "      fill: #1967D2;\n",
              "      height: 32px;\n",
              "      padding: 0 0 0 0;\n",
              "      width: 32px;\n",
              "    }\n",
              "\n",
              "    .colab-df-convert:hover {\n",
              "      background-color: #E2EBFA;\n",
              "      box-shadow: 0px 1px 2px rgba(60, 64, 67, 0.3), 0px 1px 3px 1px rgba(60, 64, 67, 0.15);\n",
              "      fill: #174EA6;\n",
              "    }\n",
              "\n",
              "    [theme=dark] .colab-df-convert {\n",
              "      background-color: #3B4455;\n",
              "      fill: #D2E3FC;\n",
              "    }\n",
              "\n",
              "    [theme=dark] .colab-df-convert:hover {\n",
              "      background-color: #434B5C;\n",
              "      box-shadow: 0px 1px 3px 1px rgba(0, 0, 0, 0.15);\n",
              "      filter: drop-shadow(0px 1px 2px rgba(0, 0, 0, 0.3));\n",
              "      fill: #FFFFFF;\n",
              "    }\n",
              "  </style>\n",
              "\n",
              "      <script>\n",
              "        const buttonEl =\n",
              "          document.querySelector('#df-fd61d361-27ec-4af9-9fd5-c869cbad17ef button.colab-df-convert');\n",
              "        buttonEl.style.display =\n",
              "          google.colab.kernel.accessAllowed ? 'block' : 'none';\n",
              "\n",
              "        async function convertToInteractive(key) {\n",
              "          const element = document.querySelector('#df-fd61d361-27ec-4af9-9fd5-c869cbad17ef');\n",
              "          const dataTable =\n",
              "            await google.colab.kernel.invokeFunction('convertToInteractive',\n",
              "                                                     [key], {});\n",
              "          if (!dataTable) return;\n",
              "\n",
              "          const docLinkHtml = 'Like what you see? Visit the ' +\n",
              "            '<a target=\"_blank\" href=https://colab.research.google.com/notebooks/data_table.ipynb>data table notebook</a>'\n",
              "            + ' to learn more about interactive tables.';\n",
              "          element.innerHTML = '';\n",
              "          dataTable['output_type'] = 'display_data';\n",
              "          await google.colab.output.renderOutput(dataTable, element);\n",
              "          const docLink = document.createElement('div');\n",
              "          docLink.innerHTML = docLinkHtml;\n",
              "          element.appendChild(docLink);\n",
              "        }\n",
              "      </script>\n",
              "    </div>\n",
              "  </div>\n",
              "  "
            ]
          },
          "metadata": {},
          "execution_count": 21
        }
      ]
    },
    {
      "cell_type": "markdown",
      "metadata": {
        "id": "EUk2aIawBsuQ"
      },
      "source": [
        "Check how variables are encoded."
      ]
    },
    {
      "cell_type": "code",
      "metadata": {
        "colab": {
          "base_uri": "https://localhost:8080/"
        },
        "id": "bV2e_aSQAF-q",
        "outputId": "d420ca76-a8c9-453d-ab07-7236a626594b"
      },
      "source": [
        "data.dtypes"
      ],
      "execution_count": null,
      "outputs": [
        {
          "output_type": "execute_result",
          "data": {
            "text/plain": [
              "Daily Time Spent on Site    float64\n",
              "Age                           int64\n",
              "Area Income                 float64\n",
              "Daily Internet Usage        float64\n",
              "Ad Topic Line                object\n",
              "City                         object\n",
              "Male                          int64\n",
              "Country                      object\n",
              "Timestamp                    object\n",
              "Clicked on Ad                 int64\n",
              "dtype: object"
            ]
          },
          "metadata": {},
          "execution_count": 22
        }
      ]
    },
    {
      "cell_type": "markdown",
      "metadata": {
        "id": "jOpN1xvhB0zS"
      },
      "source": [
        "Convert timestamp to date time format."
      ]
    },
    {
      "cell_type": "code",
      "metadata": {
        "id": "zlmw-jarB4li"
      },
      "source": [
        "data.Timestamp = pd.to_datetime(data.Timestamp, format='%Y-%m-%d')"
      ],
      "execution_count": null,
      "outputs": []
    },
    {
      "cell_type": "markdown",
      "metadata": {
        "id": "HB6WJzgWCoyT"
      },
      "source": [
        "Encode `country` and `city` as categorical variables using a LabelEncoder (or else you won't be able to use them as features in your model).\n",
        "\n",
        "The Label Encoder does not assume there is any order within the list of Cities and Countries (they are categorical but not ordinal variables)."
      ]
    },
    {
      "cell_type": "code",
      "metadata": {
        "id": "PaRwIc0fCz67"
      },
      "source": [
        "# instantiate encoder\n",
        "le=LabelEncoder()\n",
        "# fit_transform on entire dataset\n",
        "data['city_label'] = pd.Series(le.fit_transform(data.City))\n"
      ],
      "execution_count": null,
      "outputs": []
    },
    {
      "cell_type": "code",
      "metadata": {
        "colab": {
          "base_uri": "https://localhost:8080/"
        },
        "id": "4xYeUJeDDu9r",
        "outputId": "9ef3e0e1-a1a4-480f-a173-feccd5ae12df"
      },
      "source": [
        "data.City.head()"
      ],
      "execution_count": null,
      "outputs": [
        {
          "output_type": "execute_result",
          "data": {
            "text/plain": [
              "0       Wrightburgh\n",
              "1         West Jodi\n",
              "2          Davidton\n",
              "3    West Terrifurt\n",
              "4      South Manuel\n",
              "Name: City, dtype: object"
            ]
          },
          "metadata": {},
          "execution_count": 30
        }
      ]
    },
    {
      "cell_type": "code",
      "source": [
        "data.city_label.head() # Indeed we see no order"
      ],
      "metadata": {
        "colab": {
          "base_uri": "https://localhost:8080/"
        },
        "id": "5Bu64Z5JessF",
        "outputId": "d01785b2-4665-4b24-baad-3000a6c1e00d"
      },
      "execution_count": null,
      "outputs": [
        {
          "output_type": "execute_result",
          "data": {
            "text/plain": [
              "0    961\n",
              "1    903\n",
              "2    111\n",
              "3    939\n",
              "4    805\n",
              "Name: city_label, dtype: int64"
            ]
          },
          "metadata": {},
          "execution_count": 31
        }
      ]
    },
    {
      "cell_type": "code",
      "metadata": {
        "id": "5yooNcZHD_DV"
      },
      "source": [
        "# do the same for country\n",
        "data['country_label'] = pd.Series(le.fit_transform(data.Country))"
      ],
      "execution_count": null,
      "outputs": []
    },
    {
      "cell_type": "code",
      "metadata": {
        "colab": {
          "base_uri": "https://localhost:8080/"
        },
        "id": "nJBgZti7ER8K",
        "outputId": "e38205ce-6d65-4bd3-c90b-8742e58773af"
      },
      "source": [
        "data.columns # so we get two new columns 'city_label' and 'country_label'"
      ],
      "execution_count": null,
      "outputs": [
        {
          "output_type": "execute_result",
          "data": {
            "text/plain": [
              "Index(['Daily Time Spent on Site', 'Age', 'Area Income',\n",
              "       'Daily Internet Usage', 'Ad Topic Line', 'City', 'Male', 'Country',\n",
              "       'Timestamp', 'Clicked on Ad', 'city_label', 'country_label'],\n",
              "      dtype='object')"
            ]
          },
          "metadata": {},
          "execution_count": 33
        }
      ]
    },
    {
      "cell_type": "markdown",
      "metadata": {
        "id": "FCrlktJElzp9"
      },
      "source": [
        "There is another encoder we would like to introduce: **Ordinal Encoder**, in which the order of categories counts and can be set.\n",
        "\n",
        "For this, let's look at the `Age` column and split it just for the purpose of demonstratin into 3 categories: \n",
        "*   16 to 25,\n",
        "*   26 to 40,\n",
        "*   41 to 61.\n",
        "\n"
      ]
    },
    {
      "cell_type": "code",
      "metadata": {
        "id": "l5UD8jLAkgh7"
      },
      "source": [
        "# create a new column age_cat which stores the three groups using list comprehesion\n",
        "\n",
        "data['age_cat'] = ['26-40' if x>25 and x<=40 \n",
        "                   else '16-25' if x<=25\n",
        "                   else '41-61' \n",
        "                   for x in data.Age]"
      ],
      "execution_count": null,
      "outputs": []
    },
    {
      "cell_type": "code",
      "metadata": {
        "id": "uTFjdg9XpLpV",
        "colab": {
          "base_uri": "https://localhost:8080/"
        },
        "outputId": "b93bbb49-4ab3-424d-94e2-3e02ae25237e"
      },
      "source": [
        "data.age_cat.value_counts()"
      ],
      "execution_count": null,
      "outputs": [
        {
          "output_type": "execute_result",
          "data": {
            "text/plain": [
              "26-40    613\n",
              "41-61    289\n",
              "16-25     98\n",
              "Name: age_cat, dtype: int64"
            ]
          },
          "metadata": {},
          "execution_count": 36
        }
      ]
    },
    {
      "cell_type": "markdown",
      "metadata": {
        "id": "ChzhkIKZv7aL"
      },
      "source": [
        "Let's assume we want to label-encode this column and make sure that the order of the categories respects the order of age. In other words you want the order of the labels is 16-25 =0, 26-40=1, 41-61=2. Then you can use an ordinal encoder in which you can set the order of your categories."
      ]
    },
    {
      "cell_type": "code",
      "metadata": {
        "id": "RAfidi-swyqX",
        "colab": {
          "base_uri": "https://localhost:8080/"
        },
        "outputId": "d0505473-291f-4d9d-a581-62f6568b662c"
      },
      "source": [
        "# instantiate encoder\n",
        "oe=OrdinalEncoder()\n",
        "\n",
        "# set the order of your categories\n",
        "oe.set_params(categories= [['16-25', '26-40', '41-61']])\n",
        "\n",
        "# fit-transform a dataframe of the categorical age variable\n",
        "oe_age= oe.fit_transform(data[['age_cat']])\n",
        "\n",
        "# double check your encoder used the categories in the right order\n",
        "oe.categories_"
      ],
      "execution_count": null,
      "outputs": [
        {
          "output_type": "execute_result",
          "data": {
            "text/plain": [
              "[array(['16-25', '26-40', '41-61'], dtype=object)]"
            ]
          },
          "metadata": {},
          "execution_count": 37
        }
      ]
    },
    {
      "cell_type": "markdown",
      "metadata": {
        "id": "cvg2obNhxrcP"
      },
      "source": [
        "This seems to be the right order. Let's have a look at the value counts to be sure. remember, your new column is `oe_age`"
      ]
    },
    {
      "cell_type": "code",
      "metadata": {
        "id": "7N2qDf-9x0km",
        "colab": {
          "base_uri": "https://localhost:8080/"
        },
        "outputId": "501c366e-69f5-446f-cf35-cdc0c508c396"
      },
      "source": [
        "oe_age = pd.DataFrame(oe_age).astype('int')\n",
        "oe_age.value_counts()"
      ],
      "execution_count": null,
      "outputs": [
        {
          "output_type": "execute_result",
          "data": {
            "text/plain": [
              "1    613\n",
              "2    289\n",
              "0     98\n",
              "dtype: int64"
            ]
          },
          "metadata": {},
          "execution_count": 38
        }
      ]
    },
    {
      "cell_type": "markdown",
      "metadata": {
        "id": "7LqCu6bRyz9E"
      },
      "source": [
        "So now we are sure that the 98 '16-25' observations we had before were encoded with label 0, the 613 '26-40' got lable 1 and so on."
      ]
    },
    {
      "cell_type": "markdown",
      "metadata": {
        "id": "DR80z-8dE0fG"
      },
      "source": [
        "### Quick exploratory data analysis\n",
        "\n",
        "What is the relationship between these variables? You can use a pairplot from the Seaborn package."
      ]
    },
    {
      "cell_type": "code",
      "metadata": {
        "colab": {
          "base_uri": "https://localhost:8080/",
          "height": 568
        },
        "id": "zftKIYw1FHT5",
        "outputId": "fb36b7ea-5e8c-4ed7-9066-034ad56af5e5"
      },
      "source": [
        "sns.pairplot(data=data, x_vars=['Daily Time Spent on Site', 'Daily Internet Usage', 'Age'], \n",
        "             y_vars=['Daily Time Spent on Site', 'Daily Internet Usage', 'Age'], hue='Clicked on Ad')"
      ],
      "execution_count": 39,
      "outputs": [
        {
          "output_type": "execute_result",
          "data": {
            "text/plain": [
              "<seaborn.axisgrid.PairGrid at 0x7f3bca0f6990>"
            ]
          },
          "metadata": {},
          "execution_count": 39
        },
        {
          "output_type": "display_data",
          "data": {
            "text/plain": [
              "<Figure size 615.75x540 with 12 Axes>"
            ],
            "image/png": "[encoded data removed]"
          },
          "metadata": {}
        }
      ]
    },
    {
      "cell_type": "markdown",
      "metadata": {
        "id": "c-3al_uQJsm6"
      },
      "source": [
        "This problem is not as clear-cut linearly separable as in the previous example, but still it is a good candidate. For comparison we included the similar pairplot for the previous synthetic example. \n",
        "\n",
        "For example for age there is a bigger overlap between the \"have clicked\" and \"have not clicked\" customers in subplots."
      ]
    },
    {
      "cell_type": "code",
      "metadata": {
        "colab": {
          "base_uri": "https://localhost:8080/",
          "height": 392
        },
        "id": "gLd3PfK6JE2k",
        "outputId": "3663a745-860a-4c37-d481-08da0aedf7f7"
      },
      "source": [
        "# this was for the previous dataset just for comparison's sake\n",
        "sns.pairplot(df, hue='target')"
      ],
      "execution_count": 40,
      "outputs": [
        {
          "output_type": "execute_result",
          "data": {
            "text/plain": [
              "<seaborn.axisgrid.PairGrid at 0x7f3bce61ba10>"
            ]
          },
          "metadata": {},
          "execution_count": 40
        },
        {
          "output_type": "display_data",
          "data": {
            "text/plain": [
              "<Figure size 402.375x360 with 6 Axes>"
            ],
            "image/png": "[encoded data removed]"
          },
          "metadata": {}
        }
      ]
    },
    {
      "cell_type": "markdown",
      "metadata": {
        "id": "guszdMcsK-HK"
      },
      "source": [
        "### Logistic Regression with Train-Test Split \n",
        "\n",
        "Let's try our Logistic Regression on all of the features, using `Clicked on Ad` as our target variable. "
      ]
    },
    {
      "cell_type": "code",
      "metadata": {
        "id": "uAC0AaByLlak"
      },
      "source": [
        "# Select the input and target variables\n",
        "X = data.drop(['Timestamp', 'Clicked on Ad', 'Ad Topic Line', 'City', 'Country', 'age_cat'], axis=1)\n",
        "\n",
        "y= data['Clicked on Ad']"
      ],
      "execution_count": 41,
      "outputs": []
    },
    {
      "cell_type": "code",
      "metadata": {
        "colab": {
          "base_uri": "https://localhost:8080/",
          "height": 112
        },
        "id": "aXWEBBVgMEX9",
        "outputId": "73192c2f-7445-4017-bb03-3a8c8d156382"
      },
      "source": [
        "X.head(2)"
      ],
      "execution_count": 42,
      "outputs": [
        {
          "output_type": "execute_result",
          "data": {
            "text/plain": [
              "   Daily Time Spent on Site  Age  Area Income  Daily Internet Usage  Male  \\\n",
              "0                     68.95   35     61833.90                256.09     0   \n",
              "1                     80.23   31     68441.85                193.77     1   \n",
              "\n",
              "   city_label  country_label  \n",
              "0         961            215  \n",
              "1         903            147  "
            ],
            "text/html": [
              "\n",
              "  <div id=\"df-bd9949d6-c938-4e9a-95df-453ee974728b\">\n",
              "    <div class=\"colab-df-container\">\n",
              "      <div>\n",
              "<style scoped>\n",
              "    .dataframe tbody tr th:only-of-type {\n",
              "        vertical-align: middle;\n",
              "    }\n",
              "\n",
              "    .dataframe tbody tr th {\n",
              "        vertical-align: top;\n",
              "    }\n",
              "\n",
              "    .dataframe thead th {\n",
              "        text-align: right;\n",
              "    }\n",
              "</style>\n",
              "<table border=\"1\" class=\"dataframe\">\n",
              "  <thead>\n",
              "    <tr style=\"text-align: right;\">\n",
              "      <th></th>\n",
              "      <th>Daily Time Spent on Site</th>\n",
              "      <th>Age</th>\n",
              "      <th>Area Income</th>\n",
              "      <th>Daily Internet Usage</th>\n",
              "      <th>Male</th>\n",
              "      <th>city_label</th>\n",
              "      <th>country_label</th>\n",
              "    </tr>\n",
              "  </thead>\n",
              "  <tbody>\n",
              "    <tr>\n",
              "      <th>0</th>\n",
              "      <td>68.95</td>\n",
              "      <td>35</td>\n",
              "      <td>61833.90</td>\n",
              "      <td>256.09</td>\n",
              "      <td>0</td>\n",
              "      <td>961</td>\n",
              "      <td>215</td>\n",
              "    </tr>\n",
              "    <tr>\n",
              "      <th>1</th>\n",
              "      <td>80.23</td>\n",
              "      <td>31</td>\n",
              "      <td>68441.85</td>\n",
              "      <td>193.77</td>\n",
              "      <td>1</td>\n",
              "      <td>903</td>\n",
              "      <td>147</td>\n",
              "    </tr>\n",
              "  </tbody>\n",
              "</table>\n",
              "</div>\n",
              "      <button class=\"colab-df-convert\" onclick=\"convertToInteractive('df-bd9949d6-c938-4e9a-95df-453ee974728b')\"\n",
              "              title=\"Convert this dataframe to an interactive table.\"\n",
              "              style=\"display:none;\">\n",
              "        \n",
              "  <svg xmlns=\"http://www.w3.org/2000/svg\" height=\"24px\"viewBox=\"0 0 24 24\"\n",
              "       width=\"24px\">\n",
              "    <path d=\"M0 0h24v24H0V0z\" fill=\"none\"/>\n",
              "    <path d=\"M18.56 5.44l.94 2.06.94-2.06 2.06-.94-2.06-.94-.94-2.06-.94 2.06-2.06.94zm-11 1L8.5 8.5l.94-2.06 2.06-.94-2.06-.94L8.5 2.5l-.94 2.06-2.06.94zm10 10l.94 2.06.94-2.06 2.06-.94-2.06-.94-.94-2.06-.94 2.06-2.06.94z\"/><path d=\"M17.41 7.96l-1.37-1.37c-.4-.4-.92-.59-1.43-.59-.52 0-1.04.2-1.43.59L10.3 9.45l-7.72 7.72c-.78.78-.78 2.05 0 2.83L4 21.41c.39.39.9.59 1.41.59.51 0 1.02-.2 1.41-.59l7.78-7.78 2.81-2.81c.8-.78.8-2.07 0-2.86zM5.41 20L4 18.59l7.72-7.72 1.47 1.35L5.41 20z\"/>\n",
              "  </svg>\n",
              "      </button>\n",
              "      \n",
              "  <style>\n",
              "    .colab-df-container {\n",
              "      display:flex;\n",
              "      flex-wrap:wrap;\n",
              "      gap: 12px;\n",
              "    }\n",
              "\n",
              "    .colab-df-convert {\n",
              "      background-color: #E8F0FE;\n",
              "      border: none;\n",
              "      border-radius: 50%;\n",
              "      cursor: pointer;\n",
              "      display: none;\n",
              "      fill: #1967D2;\n",
              "      height: 32px;\n",
              "      padding: 0 0 0 0;\n",
              "      width: 32px;\n",
              "    }\n",
              "\n",
              "    .colab-df-convert:hover {\n",
              "      background-color: #E2EBFA;\n",
              "      box-shadow: 0px 1px 2px rgba(60, 64, 67, 0.3), 0px 1px 3px 1px rgba(60, 64, 67, 0.15);\n",
              "      fill: #174EA6;\n",
              "    }\n",
              "\n",
              "    [theme=dark] .colab-df-convert {\n",
              "      background-color: #3B4455;\n",
              "      fill: #D2E3FC;\n",
              "    }\n",
              "\n",
              "    [theme=dark] .colab-df-convert:hover {\n",
              "      background-color: #434B5C;\n",
              "      box-shadow: 0px 1px 3px 1px rgba(0, 0, 0, 0.15);\n",
              "      filter: drop-shadow(0px 1px 2px rgba(0, 0, 0, 0.3));\n",
              "      fill: #FFFFFF;\n",
              "    }\n",
              "  </style>\n",
              "\n",
              "      <script>\n",
              "        const buttonEl =\n",
              "          document.querySelector('#df-bd9949d6-c938-4e9a-95df-453ee974728b button.colab-df-convert');\n",
              "        buttonEl.style.display =\n",
              "          google.colab.kernel.accessAllowed ? 'block' : 'none';\n",
              "\n",
              "        async function convertToInteractive(key) {\n",
              "          const element = document.querySelector('#df-bd9949d6-c938-4e9a-95df-453ee974728b');\n",
              "          const dataTable =\n",
              "            await google.colab.kernel.invokeFunction('convertToInteractive',\n",
              "                                                     [key], {});\n",
              "          if (!dataTable) return;\n",
              "\n",
              "          const docLinkHtml = 'Like what you see? Visit the ' +\n",
              "            '<a target=\"_blank\" href=https://colab.research.google.com/notebooks/data_table.ipynb>data table notebook</a>'\n",
              "            + ' to learn more about interactive tables.';\n",
              "          element.innerHTML = '';\n",
              "          dataTable['output_type'] = 'display_data';\n",
              "          await google.colab.output.renderOutput(dataTable, element);\n",
              "          const docLink = document.createElement('div');\n",
              "          docLink.innerHTML = docLinkHtml;\n",
              "          element.appendChild(docLink);\n",
              "        }\n",
              "      </script>\n",
              "    </div>\n",
              "  </div>\n",
              "  "
            ]
          },
          "metadata": {},
          "execution_count": 42
        }
      ]
    },
    {
      "cell_type": "markdown",
      "metadata": {
        "id": "h6eDBIELMNsk"
      },
      "source": [
        "Let's have a look at Y to see how many \"have clicked\" events we have in our dataset."
      ]
    },
    {
      "cell_type": "code",
      "metadata": {
        "colab": {
          "base_uri": "https://localhost:8080/"
        },
        "id": "4VrAs-ddMZlO",
        "outputId": "ec7f277b-90ee-4358-d3fe-2dfcfa3f02a1"
      },
      "source": [
        "y.value_counts()"
      ],
      "execution_count": 43,
      "outputs": [
        {
          "output_type": "execute_result",
          "data": {
            "text/plain": [
              "0    500\n",
              "1    500\n",
              "Name: Clicked on Ad, dtype: int64"
            ]
          },
          "metadata": {},
          "execution_count": 43
        }
      ]
    },
    {
      "cell_type": "markdown",
      "metadata": {
        "id": "i6P6Wu4NMd97"
      },
      "source": [
        "To get this value expressed as a proportion of all the observations you can use the code below. This gives the frequency of each class."
      ]
    },
    {
      "cell_type": "code",
      "metadata": {
        "colab": {
          "base_uri": "https://localhost:8080/"
        },
        "id": "EGK-LOxgMdcM",
        "outputId": "91fa7e37-7b71-40ef-ce74-806302d6aaf5"
      },
      "source": [
        "y.value_counts()/len(y)"
      ],
      "execution_count": 44,
      "outputs": [
        {
          "output_type": "execute_result",
          "data": {
            "text/plain": [
              "0    0.5\n",
              "1    0.5\n",
              "Name: Clicked on Ad, dtype: float64"
            ]
          },
          "metadata": {},
          "execution_count": 44
        }
      ]
    },
    {
      "cell_type": "markdown",
      "metadata": {
        "id": "bkrTgmXxMq7d"
      },
      "source": [
        "So it's 50-50! Let's apply our train test split using an 80-20 ratio. This shuffles our data so that the resulting samples have nearly the same proportion of \"have clicked\" occurances.\n",
        "\n",
        "Also check out the `stratify` parameter of train test split. Set `stratify=y` to get a train-test split in which the frequencies are the same."
      ]
    },
    {
      "cell_type": "code",
      "metadata": {
        "id": "zLTa3QYRMzJd"
      },
      "source": [
        "X_train, X_test, y_train, y_test = train_test_split(X, y, test_size=0.2, random_state=10)"
      ],
      "execution_count": 45,
      "outputs": []
    },
    {
      "cell_type": "markdown",
      "metadata": {
        "id": "A9d7N8piNSPf"
      },
      "source": [
        "Let's check, what is the proportion of have clicked in the training set?"
      ]
    },
    {
      "cell_type": "code",
      "metadata": {
        "colab": {
          "base_uri": "https://localhost:8080/"
        },
        "id": "j7Wcl1tANbDL",
        "outputId": "7ee57b09-294f-48c9-84ab-db0a4a4369b6"
      },
      "source": [
        "y_train.value_counts(normalize=True)\n",
        "# By setting 'normalize=True' , the object returned will contain the relative frequencies of the unique values. \n",
        "# By default the setting is set as 'normalize=false'"
      ],
      "execution_count": 46,
      "outputs": [
        {
          "output_type": "execute_result",
          "data": {
            "text/plain": [
              "0    0.505\n",
              "1    0.495\n",
              "Name: Clicked on Ad, dtype: float64"
            ]
          },
          "metadata": {},
          "execution_count": 46
        }
      ]
    },
    {
      "cell_type": "markdown",
      "metadata": {
        "id": "EbDbVw_CNovz"
      },
      "source": [
        "So we can see 0 is the most frequent class in the train set. And in the test set?"
      ]
    },
    {
      "cell_type": "code",
      "metadata": {
        "colab": {
          "base_uri": "https://localhost:8080/"
        },
        "id": "IXNuA71WNrUR",
        "outputId": "0be1d708-7432-4237-882a-d5cd7aee115a"
      },
      "source": [
        "y_test.value_counts(normalize=True)"
      ],
      "execution_count": 47,
      "outputs": [
        {
          "output_type": "execute_result",
          "data": {
            "text/plain": [
              "1    0.52\n",
              "0    0.48\n",
              "Name: Clicked on Ad, dtype: float64"
            ]
          },
          "metadata": {},
          "execution_count": 47
        }
      ]
    },
    {
      "cell_type": "markdown",
      "metadata": {
        "id": "dJvk-tolOF0o"
      },
      "source": [
        "And now we see in the y_test that 1 is the most frequent class.\n",
        "\n",
        "If we use the most frequent value from the train set (0) and we use it as a guess for the train set, we get 0.48 correct estimates on the test set.\n",
        "\n",
        "This will be our **baseline** for our model. It shows given the most frequent class in the train set, what is the proportion of data points from the test set that the model classified correctly. This is one of the metrics we will try to improve with our model.\n",
        "\n",
        "More formally, we can use a DummyClassifier to find the baseline estimator."
      ]
    },
    {
      "cell_type": "code",
      "metadata": {
        "colab": {
          "base_uri": "https://localhost:8080/"
        },
        "id": "nMpSYyeuPrdi",
        "outputId": "95554f9b-13ef-445e-8790-75199e538d27"
      },
      "source": [
        "from sklearn.dummy import DummyClassifier\n",
        "\n",
        "# instantiate with the \"most frequent\" parameter\n",
        "dummy = DummyClassifier(strategy='most_frequent')\n",
        "\n",
        "# fit it as if we had no X features to train it on\n",
        "dummy.fit(None, y_train)\n",
        "\n",
        "#compute test baseline and store it for later\n",
        "baseline = dummy.score(None, y_test)\n",
        "baseline"
      ],
      "execution_count": 48,
      "outputs": [
        {
          "output_type": "execute_result",
          "data": {
            "text/plain": [
              "0.48"
            ]
          },
          "metadata": {},
          "execution_count": 48
        }
      ]
    },
    {
      "cell_type": "markdown",
      "metadata": {
        "id": "4Hvcp8OFQlBu"
      },
      "source": [
        "OK, so now back to our Logistic Regression. We have X and y, we can just apply the steps we learned before, this time paying attention to train the classifier on the train data and to test our model on the test data."
      ]
    },
    {
      "cell_type": "code",
      "metadata": {
        "colab": {
          "base_uri": "https://localhost:8080/"
        },
        "id": "BRT89AoWQ7qk",
        "outputId": "5de80f9a-f2e4-4b28-922c-df9d01dafff5"
      },
      "source": [
        "log_reg =LogisticRegression(max_iter=1000, solver='lbfgs', random_state=0)\n",
        "\n",
        "log_reg.fit(X_train, y_train)\n",
        "\n",
        "y_pred = log_reg.predict(X_test)\n",
        "\n",
        "y_pred"
      ],
      "execution_count": 49,
      "outputs": [
        {
          "output_type": "execute_result",
          "data": {
            "text/plain": [
              "array([1, 1, 0, 0, 0, 1, 0, 0, 0, 0, 0, 1, 1, 1, 0, 0, 1, 0, 0, 0, 1, 0,\n",
              "       1, 1, 0, 1, 1, 1, 1, 0, 1, 0, 0, 1, 0, 0, 1, 0, 0, 1, 0, 1, 0, 0,\n",
              "       0, 0, 1, 1, 0, 1, 1, 1, 0, 1, 0, 1, 0, 0, 1, 1, 0, 1, 1, 0, 1, 1,\n",
              "       1, 0, 0, 1, 1, 0, 0, 1, 0, 1, 1, 0, 1, 0, 0, 0, 1, 0, 1, 1, 0, 1,\n",
              "       0, 1, 0, 1, 1, 0, 0, 0, 0, 0, 1, 0, 1, 0, 1, 1, 0, 0, 0, 0, 1, 1,\n",
              "       1, 1, 0, 0, 0, 1, 1, 0, 0, 0, 0, 0, 1, 0, 1, 1, 0, 0, 0, 1, 1, 0,\n",
              "       0, 1, 0, 0, 1, 1, 1, 0, 1, 1, 0, 1, 1, 0, 0, 0, 0, 1, 0, 1, 1, 0,\n",
              "       0, 1, 0, 1, 1, 0, 1, 0, 0, 1, 1, 1, 1, 0, 1, 0, 1, 1, 0, 1, 1, 0,\n",
              "       0, 1, 1, 0, 1, 0, 1, 0, 0, 1, 0, 0, 1, 0, 1, 1, 1, 1, 1, 0, 1, 0,\n",
              "       0, 1])"
            ]
          },
          "metadata": {},
          "execution_count": 49
        }
      ]
    },
    {
      "cell_type": "markdown",
      "metadata": {
        "id": "wm1rmWycUTel"
      },
      "source": [
        "#### Evaluate the model\n",
        "\n",
        "To evaluate our models we can build our own function below which combines several useful metrics.\n",
        "\n",
        "In this function for precision and recall set parameters `average=None` to get precision and recall results for all the classes (0 and 1)."
      ]
    },
    {
      "cell_type": "code",
      "metadata": {
        "id": "jIvft0bmUfTi"
      },
      "source": [
        "def evaluate(test, pred):\n",
        "  precision = precision_score(test, pred)\n",
        "  recall = recall_score(test, pred)\n",
        "  f1= f1_score(test, pred)\n",
        "  print(f'CONFUSION MATRIX:\\n{confusion_matrix(test, pred)}')\n",
        "  print(f\"ACCURACY SCORE:\\n{accuracy_score(test, pred) :.4f}\")\n",
        "  print(f'CLASSIFICATION REPORT:\\n\\tPrecision: {precision:.4f}\\n\\tRecall: {recall:.4f}\\n\\tF1_Score: {f1:.4f}')"
      ],
      "execution_count": 50,
      "outputs": []
    },
    {
      "cell_type": "code",
      "metadata": {
        "colab": {
          "base_uri": "https://localhost:8080/"
        },
        "id": "oTghEGHTWaAA",
        "outputId": "5be774c0-484e-41df-ffb2-72a95f4d5213"
      },
      "source": [
        "evaluate(y_test, y_pred)"
      ],
      "execution_count": 51,
      "outputs": [
        {
          "output_type": "stream",
          "name": "stdout",
          "text": [
            "CONFUSION MATRIX:\n",
            "[[89  7]\n",
            " [13 91]]\n",
            "ACCURACY SCORE:\n",
            "0.9000\n",
            "CLASSIFICATION REPORT:\n",
            "\tPrecision: 0.9286\n",
            "\tRecall: 0.8750\n",
            "\tF1_Score: 0.9010\n"
          ]
        }
      ]
    },
    {
      "cell_type": "markdown",
      "metadata": {
        "id": "XKWnqYfYX4QR"
      },
      "source": [
        "First, as concerns accuracy, we can clearly see that this is much better than the baseline. What else can we conclude from these results?\n",
        "\n",
        "#### Little recap of evaluation metrics in classification\n",
        "\n",
        "**Confusion matrix**: shows where our model makes errors by showing the number of true positives, true negatives, false positives and false negatives on the test set.\n",
        "\n",
        "**True positives**: customers who clicked on the ad (1) and were classified by our model as having clicked on the ad (1). Here 91.\n",
        "\n",
        "**True negatives**: customers who did not click (0) and were classified by our model as not having clicked (0). Here 89.\n",
        "\n",
        "**False positives**: customers who did not click (0), but our model classified as having clicked (1). Here 7.\n",
        "\n",
        "**False negatives**: customers who clicked (1), but our model classified as not having clicked (0). Here 13."
      ]
    },
    {
      "cell_type": "code",
      "metadata": {
        "colab": {
          "base_uri": "https://localhost:8080/"
        },
        "id": "K_1ce11gX-WC",
        "outputId": "b42b9836-43b1-4303-f6df-ad5defed44d8"
      },
      "source": [
        "# this shows the classes that the model is using, so first 0 and then 1\n",
        "log_reg.classes_"
      ],
      "execution_count": 52,
      "outputs": [
        {
          "output_type": "execute_result",
          "data": {
            "text/plain": [
              "array([0, 1])"
            ]
          },
          "metadata": {},
          "execution_count": 52
        }
      ]
    },
    {
      "cell_type": "code",
      "metadata": {
        "colab": {
          "base_uri": "https://localhost:8080/"
        },
        "id": "xKQOezu6a9Yv",
        "outputId": "af0bdfe9-72b4-45f7-cce3-0d3dec40dc4a"
      },
      "source": [
        "# use the code below to identify your TP, TN, FP, FN\n",
        "tn, fp, fn, tp = confusion_matrix(y_test, y_pred).ravel()\n",
        "print(\"True positives: \"+ str(tp))\n",
        "print(\"True negatives: \"+ str(tn))\n",
        "print(\"False positives: \"+ str(fp))\n",
        "print(\"False negatives: \"+ str(fn))"
      ],
      "execution_count": 53,
      "outputs": [
        {
          "output_type": "stream",
          "name": "stdout",
          "text": [
            "True positives: 91\n",
            "True negatives: 89\n",
            "False positives: 7\n",
            "False negatives: 13\n"
          ]
        }
      ]
    },
    {
      "cell_type": "markdown",
      "metadata": {
        "id": "g07kmclUbhKz"
      },
      "source": [
        "Another way to view this confusion matrix, is by transforming it into a DataFrame as below."
      ]
    },
    {
      "cell_type": "code",
      "metadata": {
        "colab": {
          "base_uri": "https://localhost:8080/",
          "height": 112
        },
        "id": "EQCn46GObn57",
        "outputId": "1d204424-bfde-4519-fadf-aa03c1ea35fd"
      },
      "source": [
        "pd.DataFrame(confusion_matrix(y_test, y_pred), columns=['predicted: 0', 'predicted: 1 (clicked)'], index= ['true: 0', 'true: 1 (clicked)'])"
      ],
      "execution_count": 54,
      "outputs": [
        {
          "output_type": "execute_result",
          "data": {
            "text/plain": [
              "                   predicted: 0  predicted: 1 (clicked)\n",
              "true: 0                      89                       7\n",
              "true: 1 (clicked)            13                      91"
            ],
            "text/html": [
              "\n",
              "  <div id=\"df-8862f053-fb03-46e5-8729-a9ad38405194\">\n",
              "    <div class=\"colab-df-container\">\n",
              "      <div>\n",
              "<style scoped>\n",
              "    .dataframe tbody tr th:only-of-type {\n",
              "        vertical-align: middle;\n",
              "    }\n",
              "\n",
              "    .dataframe tbody tr th {\n",
              "        vertical-align: top;\n",
              "    }\n",
              "\n",
              "    .dataframe thead th {\n",
              "        text-align: right;\n",
              "    }\n",
              "</style>\n",
              "<table border=\"1\" class=\"dataframe\">\n",
              "  <thead>\n",
              "    <tr style=\"text-align: right;\">\n",
              "      <th></th>\n",
              "      <th>predicted: 0</th>\n",
              "      <th>predicted: 1 (clicked)</th>\n",
              "    </tr>\n",
              "  </thead>\n",
              "  <tbody>\n",
              "    <tr>\n",
              "      <th>true: 0</th>\n",
              "      <td>89</td>\n",
              "      <td>7</td>\n",
              "    </tr>\n",
              "    <tr>\n",
              "      <th>true: 1 (clicked)</th>\n",
              "      <td>13</td>\n",
              "      <td>91</td>\n",
              "    </tr>\n",
              "  </tbody>\n",
              "</table>\n",
              "</div>\n",
              "      <button class=\"colab-df-convert\" onclick=\"convertToInteractive('df-8862f053-fb03-46e5-8729-a9ad38405194')\"\n",
              "              title=\"Convert this dataframe to an interactive table.\"\n",
              "              style=\"display:none;\">\n",
              "        \n",
              "  <svg xmlns=\"http://www.w3.org/2000/svg\" height=\"24px\"viewBox=\"0 0 24 24\"\n",
              "       width=\"24px\">\n",
              "    <path d=\"M0 0h24v24H0V0z\" fill=\"none\"/>\n",
              "    <path d=\"M18.56 5.44l.94 2.06.94-2.06 2.06-.94-2.06-.94-.94-2.06-.94 2.06-2.06.94zm-11 1L8.5 8.5l.94-2.06 2.06-.94-2.06-.94L8.5 2.5l-.94 2.06-2.06.94zm10 10l.94 2.06.94-2.06 2.06-.94-2.06-.94-.94-2.06-.94 2.06-2.06.94z\"/><path d=\"M17.41 7.96l-1.37-1.37c-.4-.4-.92-.59-1.43-.59-.52 0-1.04.2-1.43.59L10.3 9.45l-7.72 7.72c-.78.78-.78 2.05 0 2.83L4 21.41c.39.39.9.59 1.41.59.51 0 1.02-.2 1.41-.59l7.78-7.78 2.81-2.81c.8-.78.8-2.07 0-2.86zM5.41 20L4 18.59l7.72-7.72 1.47 1.35L5.41 20z\"/>\n",
              "  </svg>\n",
              "      </button>\n",
              "      \n",
              "  <style>\n",
              "    .colab-df-container {\n",
              "      display:flex;\n",
              "      flex-wrap:wrap;\n",
              "      gap: 12px;\n",
              "    }\n",
              "\n",
              "    .colab-df-convert {\n",
              "      background-color: #E8F0FE;\n",
              "      border: none;\n",
              "      border-radius: 50%;\n",
              "      cursor: pointer;\n",
              "      display: none;\n",
              "      fill: #1967D2;\n",
              "      height: 32px;\n",
              "      padding: 0 0 0 0;\n",
              "      width: 32px;\n",
              "    }\n",
              "\n",
              "    .colab-df-convert:hover {\n",
              "      background-color: #E2EBFA;\n",
              "      box-shadow: 0px 1px 2px rgba(60, 64, 67, 0.3), 0px 1px 3px 1px rgba(60, 64, 67, 0.15);\n",
              "      fill: #174EA6;\n",
              "    }\n",
              "\n",
              "    [theme=dark] .colab-df-convert {\n",
              "      background-color: #3B4455;\n",
              "      fill: #D2E3FC;\n",
              "    }\n",
              "\n",
              "    [theme=dark] .colab-df-convert:hover {\n",
              "      background-color: #434B5C;\n",
              "      box-shadow: 0px 1px 3px 1px rgba(0, 0, 0, 0.15);\n",
              "      filter: drop-shadow(0px 1px 2px rgba(0, 0, 0, 0.3));\n",
              "      fill: #FFFFFF;\n",
              "    }\n",
              "  </style>\n",
              "\n",
              "      <script>\n",
              "        const buttonEl =\n",
              "          document.querySelector('#df-8862f053-fb03-46e5-8729-a9ad38405194 button.colab-df-convert');\n",
              "        buttonEl.style.display =\n",
              "          google.colab.kernel.accessAllowed ? 'block' : 'none';\n",
              "\n",
              "        async function convertToInteractive(key) {\n",
              "          const element = document.querySelector('#df-8862f053-fb03-46e5-8729-a9ad38405194');\n",
              "          const dataTable =\n",
              "            await google.colab.kernel.invokeFunction('convertToInteractive',\n",
              "                                                     [key], {});\n",
              "          if (!dataTable) return;\n",
              "\n",
              "          const docLinkHtml = 'Like what you see? Visit the ' +\n",
              "            '<a target=\"_blank\" href=https://colab.research.google.com/notebooks/data_table.ipynb>data table notebook</a>'\n",
              "            + ' to learn more about interactive tables.';\n",
              "          element.innerHTML = '';\n",
              "          dataTable['output_type'] = 'display_data';\n",
              "          await google.colab.output.renderOutput(dataTable, element);\n",
              "          const docLink = document.createElement('div');\n",
              "          docLink.innerHTML = docLinkHtml;\n",
              "          element.appendChild(docLink);\n",
              "        }\n",
              "      </script>\n",
              "    </div>\n",
              "  </div>\n",
              "  "
            ]
          },
          "metadata": {},
          "execution_count": 54
        }
      ]
    },
    {
      "cell_type": "markdown",
      "metadata": {
        "id": "MPxnr3PmchyK"
      },
      "source": [
        "And, for a graphical presentation, you can also plot the confusion matrix like below."
      ]
    },
    {
      "cell_type": "code",
      "metadata": {
        "colab": {
          "base_uri": "https://localhost:8080/",
          "height": 267
        },
        "id": "xIEkYgVccoqx",
        "outputId": "37bece98-3b69-4534-fe95-0a57a5053cd2"
      },
      "source": [
        "sns.heatmap(pd.DataFrame(confusion_matrix(y_test, y_pred)), annot=True, cmap='Oranges', fmt='.4g');"
      ],
      "execution_count": 55,
      "outputs": [
        {
          "output_type": "display_data",
          "data": {
            "text/plain": [
              "<Figure size 432x288 with 2 Axes>"
            ],
            "image/png": "[encoded data removed]"
          },
          "metadata": {}
        }
      ]
    },
    {
      "cell_type": "markdown",
      "metadata": {
        "id": "aSJl3krkWr6j"
      },
      "source": [
        "#### Continuation little recap on evaluation metrics\n",
        "\n",
        "**Precision**: how many times our model is correct when predicting the positive class (1). $TP/(TP+FP) = 91/(91+7)=0.9286$\n",
        "\n",
        "**Recall**: how many times the model predicts the positive class (1) when it really is positive. $TP/(TP+FN) = 91/(91+13)=0.875$\n",
        "\n",
        "**F1**: harmonic mean of precision and recall.  \n",
        "\n",
        "(....)\n",
        "\n",
        "Little parentesis, you can also get the test accuracy by using the slightly different code below. Just note that the parameters are different"
      ]
    },
    {
      "cell_type": "code",
      "metadata": {
        "colab": {
          "base_uri": "https://localhost:8080/"
        },
        "id": "4LN0_WBoW4ro",
        "outputId": "b546b613-c7d6-46a0-a649-1d64b812ccf3"
      },
      "source": [
        "log_reg.score(X_test, y_test)"
      ],
      "execution_count": 56,
      "outputs": [
        {
          "output_type": "execute_result",
          "data": {
            "text/plain": [
              "0.9"
            ]
          },
          "metadata": {},
          "execution_count": 56
        }
      ]
    },
    {
      "cell_type": "markdown",
      "metadata": {
        "id": "vXSzu7p0XUJi"
      },
      "source": [
        "Let's also store this accuracy for later."
      ]
    },
    {
      "cell_type": "code",
      "metadata": {
        "id": "Ir2FdLjPXYV1"
      },
      "source": [
        "a1=log_reg.score(X_test, y_test)"
      ],
      "execution_count": 57,
      "outputs": []
    },
    {
      "cell_type": "markdown",
      "metadata": {
        "id": "rEZ1ipzFdEdd"
      },
      "source": [
        "### Apply Standardisation\n",
        "\n",
        "One way to improve results is to try to apply standardisation.\n",
        "You can do so by applying the ScandardScaler from Scikit-learn. This will transform your X features so that they each have a mean of 0 and a standard deviation of 1. \n",
        "\n",
        "Standardisation is helpful to give the same weight (importance) to each predictor variable.\n",
        "\n",
        "***Important: do not forget that you must fit your scaler on the train set only, then apply (transform) to both the train and test data***"
      ]
    },
    {
      "cell_type": "code",
      "metadata": {
        "id": "wQqmtgtPeIiT"
      },
      "source": [
        "# instantiate\n",
        "scaler = StandardScaler()\n",
        "# fit on train set only\n",
        "scaler.fit(X_train, y_train)\n",
        "\n",
        "# apply to the train set and your test\n",
        "\n",
        "X_train_s = scaler.transform(X_train)\n",
        "X_test_s = scaler.transform(X_test)"
      ],
      "execution_count": 58,
      "outputs": []
    },
    {
      "cell_type": "code",
      "metadata": {
        "colab": {
          "base_uri": "https://localhost:8080/",
          "height": 300
        },
        "id": "vQGp9FTsepTu",
        "outputId": "3f37672f-247d-4568-9d5a-300a3ae405a9"
      },
      "source": [
        "# to check that indeed the scaled X_train has mean 0 and standard deviation 1 (approximately)\n",
        "pd.DataFrame(X_train_s, columns=X_train.columns).describe().round()"
      ],
      "execution_count": 59,
      "outputs": [
        {
          "output_type": "execute_result",
          "data": {
            "text/plain": [
              "       Daily Time Spent on Site    Age  Area Income  Daily Internet Usage  \\\n",
              "count                     800.0  800.0        800.0                 800.0   \n",
              "mean                        0.0   -0.0          0.0                  -0.0   \n",
              "std                         1.0    1.0          1.0                   1.0   \n",
              "min                        -2.0   -2.0         -3.0                  -2.0   \n",
              "25%                        -1.0   -1.0         -1.0                  -1.0   \n",
              "50%                         0.0   -0.0          0.0                   0.0   \n",
              "75%                         1.0    1.0          1.0                   1.0   \n",
              "max                         2.0    3.0          2.0                   2.0   \n",
              "\n",
              "        Male  city_label  country_label  \n",
              "count  800.0       800.0          800.0  \n",
              "mean    -0.0         0.0            0.0  \n",
              "std      1.0         1.0            1.0  \n",
              "min     -1.0        -2.0           -2.0  \n",
              "25%     -1.0        -1.0           -1.0  \n",
              "50%     -1.0        -0.0           -0.0  \n",
              "75%      1.0         1.0            1.0  \n",
              "max      1.0         2.0            2.0  "
            ],
            "text/html": [
              "\n",
              "  <div id=\"df-d1d4c354-84e0-4121-9aa1-8d4fb77388b7\">\n",
              "    <div class=\"colab-df-container\">\n",
              "      <div>\n",
              "<style scoped>\n",
              "    .dataframe tbody tr th:only-of-type {\n",
              "        vertical-align: middle;\n",
              "    }\n",
              "\n",
              "    .dataframe tbody tr th {\n",
              "        vertical-align: top;\n",
              "    }\n",
              "\n",
              "    .dataframe thead th {\n",
              "        text-align: right;\n",
              "    }\n",
              "</style>\n",
              "<table border=\"1\" class=\"dataframe\">\n",
              "  <thead>\n",
              "    <tr style=\"text-align: right;\">\n",
              "      <th></th>\n",
              "      <th>Daily Time Spent on Site</th>\n",
              "      <th>Age</th>\n",
              "      <th>Area Income</th>\n",
              "      <th>Daily Internet Usage</th>\n",
              "      <th>Male</th>\n",
              "      <th>city_label</th>\n",
              "      <th>country_label</th>\n",
              "    </tr>\n",
              "  </thead>\n",
              "  <tbody>\n",
              "    <tr>\n",
              "      <th>count</th>\n",
              "      <td>800.0</td>\n",
              "      <td>800.0</td>\n",
              "      <td>800.0</td>\n",
              "      <td>800.0</td>\n",
              "      <td>800.0</td>\n",
              "      <td>800.0</td>\n",
              "      <td>800.0</td>\n",
              "    </tr>\n",
              "    <tr>\n",
              "      <th>mean</th>\n",
              "      <td>0.0</td>\n",
              "      <td>-0.0</td>\n",
              "      <td>0.0</td>\n",
              "      <td>-0.0</td>\n",
              "      <td>-0.0</td>\n",
              "      <td>0.0</td>\n",
              "      <td>0.0</td>\n",
              "    </tr>\n",
              "    <tr>\n",
              "      <th>std</th>\n",
              "      <td>1.0</td>\n",
              "      <td>1.0</td>\n",
              "      <td>1.0</td>\n",
              "      <td>1.0</td>\n",
              "      <td>1.0</td>\n",
              "      <td>1.0</td>\n",
              "      <td>1.0</td>\n",
              "    </tr>\n",
              "    <tr>\n",
              "      <th>min</th>\n",
              "      <td>-2.0</td>\n",
              "      <td>-2.0</td>\n",
              "      <td>-3.0</td>\n",
              "      <td>-2.0</td>\n",
              "      <td>-1.0</td>\n",
              "      <td>-2.0</td>\n",
              "      <td>-2.0</td>\n",
              "    </tr>\n",
              "    <tr>\n",
              "      <th>25%</th>\n",
              "      <td>-1.0</td>\n",
              "      <td>-1.0</td>\n",
              "      <td>-1.0</td>\n",
              "      <td>-1.0</td>\n",
              "      <td>-1.0</td>\n",
              "      <td>-1.0</td>\n",
              "      <td>-1.0</td>\n",
              "    </tr>\n",
              "    <tr>\n",
              "      <th>50%</th>\n",
              "      <td>0.0</td>\n",
              "      <td>-0.0</td>\n",
              "      <td>0.0</td>\n",
              "      <td>0.0</td>\n",
              "      <td>-1.0</td>\n",
              "      <td>-0.0</td>\n",
              "      <td>-0.0</td>\n",
              "    </tr>\n",
              "    <tr>\n",
              "      <th>75%</th>\n",
              "      <td>1.0</td>\n",
              "      <td>1.0</td>\n",
              "      <td>1.0</td>\n",
              "      <td>1.0</td>\n",
              "      <td>1.0</td>\n",
              "      <td>1.0</td>\n",
              "      <td>1.0</td>\n",
              "    </tr>\n",
              "    <tr>\n",
              "      <th>max</th>\n",
              "      <td>2.0</td>\n",
              "      <td>3.0</td>\n",
              "      <td>2.0</td>\n",
              "      <td>2.0</td>\n",
              "      <td>1.0</td>\n",
              "      <td>2.0</td>\n",
              "      <td>2.0</td>\n",
              "    </tr>\n",
              "  </tbody>\n",
              "</table>\n",
              "</div>\n",
              "      <button class=\"colab-df-convert\" onclick=\"convertToInteractive('df-d1d4c354-84e0-4121-9aa1-8d4fb77388b7')\"\n",
              "              title=\"Convert this dataframe to an interactive table.\"\n",
              "              style=\"display:none;\">\n",
              "        \n",
              "  <svg xmlns=\"http://www.w3.org/2000/svg\" height=\"24px\"viewBox=\"0 0 24 24\"\n",
              "       width=\"24px\">\n",
              "    <path d=\"M0 0h24v24H0V0z\" fill=\"none\"/>\n",
              "    <path d=\"M18.56 5.44l.94 2.06.94-2.06 2.06-.94-2.06-.94-.94-2.06-.94 2.06-2.06.94zm-11 1L8.5 8.5l.94-2.06 2.06-.94-2.06-.94L8.5 2.5l-.94 2.06-2.06.94zm10 10l.94 2.06.94-2.06 2.06-.94-2.06-.94-.94-2.06-.94 2.06-2.06.94z\"/><path d=\"M17.41 7.96l-1.37-1.37c-.4-.4-.92-.59-1.43-.59-.52 0-1.04.2-1.43.59L10.3 9.45l-7.72 7.72c-.78.78-.78 2.05 0 2.83L4 21.41c.39.39.9.59 1.41.59.51 0 1.02-.2 1.41-.59l7.78-7.78 2.81-2.81c.8-.78.8-2.07 0-2.86zM5.41 20L4 18.59l7.72-7.72 1.47 1.35L5.41 20z\"/>\n",
              "  </svg>\n",
              "      </button>\n",
              "      \n",
              "  <style>\n",
              "    .colab-df-container {\n",
              "      display:flex;\n",
              "      flex-wrap:wrap;\n",
              "      gap: 12px;\n",
              "    }\n",
              "\n",
              "    .colab-df-convert {\n",
              "      background-color: #E8F0FE;\n",
              "      border: none;\n",
              "      border-radius: 50%;\n",
              "      cursor: pointer;\n",
              "      display: none;\n",
              "      fill: #1967D2;\n",
              "      height: 32px;\n",
              "      padding: 0 0 0 0;\n",
              "      width: 32px;\n",
              "    }\n",
              "\n",
              "    .colab-df-convert:hover {\n",
              "      background-color: #E2EBFA;\n",
              "      box-shadow: 0px 1px 2px rgba(60, 64, 67, 0.3), 0px 1px 3px 1px rgba(60, 64, 67, 0.15);\n",
              "      fill: #174EA6;\n",
              "    }\n",
              "\n",
              "    [theme=dark] .colab-df-convert {\n",
              "      background-color: #3B4455;\n",
              "      fill: #D2E3FC;\n",
              "    }\n",
              "\n",
              "    [theme=dark] .colab-df-convert:hover {\n",
              "      background-color: #434B5C;\n",
              "      box-shadow: 0px 1px 3px 1px rgba(0, 0, 0, 0.15);\n",
              "      filter: drop-shadow(0px 1px 2px rgba(0, 0, 0, 0.3));\n",
              "      fill: #FFFFFF;\n",
              "    }\n",
              "  </style>\n",
              "\n",
              "      <script>\n",
              "        const buttonEl =\n",
              "          document.querySelector('#df-d1d4c354-84e0-4121-9aa1-8d4fb77388b7 button.colab-df-convert');\n",
              "        buttonEl.style.display =\n",
              "          google.colab.kernel.accessAllowed ? 'block' : 'none';\n",
              "\n",
              "        async function convertToInteractive(key) {\n",
              "          const element = document.querySelector('#df-d1d4c354-84e0-4121-9aa1-8d4fb77388b7');\n",
              "          const dataTable =\n",
              "            await google.colab.kernel.invokeFunction('convertToInteractive',\n",
              "                                                     [key], {});\n",
              "          if (!dataTable) return;\n",
              "\n",
              "          const docLinkHtml = 'Like what you see? Visit the ' +\n",
              "            '<a target=\"_blank\" href=https://colab.research.google.com/notebooks/data_table.ipynb>data table notebook</a>'\n",
              "            + ' to learn more about interactive tables.';\n",
              "          element.innerHTML = '';\n",
              "          dataTable['output_type'] = 'display_data';\n",
              "          await google.colab.output.renderOutput(dataTable, element);\n",
              "          const docLink = document.createElement('div');\n",
              "          docLink.innerHTML = docLinkHtml;\n",
              "          element.appendChild(docLink);\n",
              "        }\n",
              "      </script>\n",
              "    </div>\n",
              "  </div>\n",
              "  "
            ]
          },
          "metadata": {},
          "execution_count": 59
        }
      ]
    },
    {
      "cell_type": "code",
      "metadata": {
        "colab": {
          "base_uri": "https://localhost:8080/"
        },
        "id": "ZQ4TVkx4fTwI",
        "outputId": "cfaa019d-fa39-4ffa-ef2d-8401439b7029"
      },
      "source": [
        "log_reg_s = LogisticRegression(max_iter=1000, solver='lbfgs', random_state=0)\n",
        "\n",
        "log_reg_s.fit(X_train_s, y_train)\n",
        "\n",
        "y_pred_s = log_reg_s.predict(X_test_s)\n",
        "\n",
        "# preformance measurement\n",
        "evaluate(y_test, y_pred_s)"
      ],
      "execution_count": 60,
      "outputs": [
        {
          "output_type": "stream",
          "name": "stdout",
          "text": [
            "CONFUSION MATRIX:\n",
            "[[91  5]\n",
            " [ 5 99]]\n",
            "ACCURACY SCORE:\n",
            "0.9500\n",
            "CLASSIFICATION REPORT:\n",
            "\tPrecision: 0.9519\n",
            "\tRecall: 0.9519\n",
            "\tF1_Score: 0.9519\n"
          ]
        }
      ]
    },
    {
      "cell_type": "code",
      "metadata": {
        "colab": {
          "base_uri": "https://localhost:8080/",
          "height": 265
        },
        "id": "XiPfeQXIgMUp",
        "outputId": "07eeac80-5218-4d70-816e-001bf2c6c547"
      },
      "source": [
        "sns.heatmap(pd.DataFrame(confusion_matrix(y_test, y_pred_s)), annot=True, cmap='Oranges', fmt='.4g');"
      ],
      "execution_count": 61,
      "outputs": [
        {
          "output_type": "display_data",
          "data": {
            "text/plain": [
              "<Figure size 432x288 with 2 Axes>"
            ],
            "image/png": "[encoded data removed]"
          },
          "metadata": {}
        }
      ]
    },
    {
      "cell_type": "markdown",
      "metadata": {
        "id": "8d-THac2gVbj"
      },
      "source": [
        "There is no doubt, our model is better with standardisation. It has above all higher recall "
      ]
    },
    {
      "cell_type": "code",
      "metadata": {
        "id": "_87hL0nQic1-"
      },
      "source": [
        "a2=log_reg_s.score(X_test_s, y_test)"
      ],
      "execution_count": 62,
      "outputs": []
    },
    {
      "cell_type": "markdown",
      "metadata": {
        "id": "txvf9hOri-C_"
      },
      "source": [
        "### Use Cross-Validation\n",
        "\n",
        "Still on our quest to improve our model. We will try to apply both standardisation and cross-validation to check our test accuracy.\n",
        "\n",
        "We will use a 5-fold cross-validation by setting the `cv` parameter to 5."
      ]
    },
    {
      "cell_type": "code",
      "metadata": {
        "colab": {
          "base_uri": "https://localhost:8080/"
        },
        "id": "gSLLMKi1jY1M",
        "outputId": "2a7dd292-1828-4993-db76-d25097efb9a6"
      },
      "source": [
        "# instantiate\n",
        "log_reg_s_c = LogisticRegressionCV(solver='lbfgs', cv=5, max_iter=1000)\n",
        "\n",
        "# fit\n",
        "log_reg_s_c.fit(X_train_s, y_train)\n",
        "\n",
        "#make predictions on the standardised test set\n",
        "y_pred_s_c=log_reg_s_c.predict(X_test_s)\n",
        "\n",
        "# preformance measurement\n",
        "evaluate(y_test, y_pred_s_c)\n"
      ],
      "execution_count": 63,
      "outputs": [
        {
          "output_type": "stream",
          "name": "stdout",
          "text": [
            "CONFUSION MATRIX:\n",
            "[[92  4]\n",
            " [ 5 99]]\n",
            "ACCURACY SCORE:\n",
            "0.9550\n",
            "CLASSIFICATION REPORT:\n",
            "\tPrecision: 0.9612\n",
            "\tRecall: 0.9519\n",
            "\tF1_Score: 0.9565\n"
          ]
        }
      ]
    },
    {
      "cell_type": "code",
      "metadata": {
        "id": "HDf2axOckjQA"
      },
      "source": [
        "# store this value for later\n",
        "a3=log_reg_s_c.score(X_test_s, y_test)"
      ],
      "execution_count": 64,
      "outputs": []
    },
    {
      "cell_type": "markdown",
      "metadata": {
        "id": "rpKn0SHalFtR"
      },
      "source": [
        "###What about Regularization?\n",
        "\n",
        "The Logistic Regression classifier uses one by default. You can use the C parameter to check this out. C is the inverse of the regularization strength. Here below we use a very small C, which means strong regularisation. As a result the accuracy drops a little."
      ]
    },
    {
      "cell_type": "code",
      "metadata": {
        "colab": {
          "base_uri": "https://localhost:8080/"
        },
        "id": "IRgZA42plkrr",
        "outputId": "85aefa0b-f661-4dcc-8f59-c0f64c0110b3"
      },
      "source": [
        "# instantiate\n",
        "log_reg = LogisticRegression(solver='lbfgs', max_iter=1000, C=0.002)\n",
        "\n",
        "# fit\n",
        "log_reg.fit(X_train_s, y_train)\n",
        "\n",
        "#make predictions on the standardised test set\n",
        "y_pred=log_reg.predict(X_test_s)\n",
        "\n",
        "# preformance measurement\n",
        "evaluate(y_test, y_pred)"
      ],
      "execution_count": 65,
      "outputs": [
        {
          "output_type": "stream",
          "name": "stdout",
          "text": [
            "CONFUSION MATRIX:\n",
            "[[96  0]\n",
            " [11 93]]\n",
            "ACCURACY SCORE:\n",
            "0.9450\n",
            "CLASSIFICATION REPORT:\n",
            "\tPrecision: 1.0000\n",
            "\tRecall: 0.8942\n",
            "\tF1_Score: 0.9442\n"
          ]
        }
      ]
    },
    {
      "cell_type": "markdown",
      "metadata": {
        "id": "R0-4tyKlnM9Q"
      },
      "source": [
        "There is a similar parameters you can use to control regularisation for the LogisticRegressionCV. This time `Cs` is a list of floats chosen in a logarithmic scale between 1e-4 and 1e+4. As before, smaller values specify stronger regularisation."
      ]
    },
    {
      "cell_type": "code",
      "metadata": {
        "colab": {
          "base_uri": "https://localhost:8080/"
        },
        "id": "CUrVCdTWnxiG",
        "outputId": "a869a79e-69a2-4c2c-acfa-0a75e865a535"
      },
      "source": [
        "# instantiate\n",
        "log_reg = LogisticRegressionCV(solver='lbfgs', max_iter=1000, Cs=np.logspace(start=-4, stop=4, num=50))\n",
        "\n",
        "# fit\n",
        "log_reg.fit(X_train_s, y_train)\n",
        "\n",
        "#make predictions on the standardised test set\n",
        "y_pred=log_reg.predict(X_test_s)\n",
        "\n",
        "# preformance measurement\n",
        "evaluate(y_test, y_pred)"
      ],
      "execution_count": 66,
      "outputs": [
        {
          "output_type": "stream",
          "name": "stdout",
          "text": [
            "CONFUSION MATRIX:\n",
            "[[92  4]\n",
            " [ 5 99]]\n",
            "ACCURACY SCORE:\n",
            "0.9550\n",
            "CLASSIFICATION REPORT:\n",
            "\tPrecision: 0.9612\n",
            "\tRecall: 0.9519\n",
            "\tF1_Score: 0.9565\n"
          ]
        }
      ]
    },
    {
      "cell_type": "code",
      "metadata": {
        "colab": {
          "base_uri": "https://localhost:8080/"
        },
        "id": "kpBkri7roFP3",
        "outputId": "0bfc290f-6e86-4ae5-c95d-ee2e27b99a98"
      },
      "source": [
        "# this is the generated list of 50 C's\n",
        "log_reg.Cs_"
      ],
      "execution_count": 67,
      "outputs": [
        {
          "output_type": "execute_result",
          "data": {
            "text/plain": [
              "array([1.00000000e-04, 1.45634848e-04, 2.12095089e-04, 3.08884360e-04,\n",
              "       4.49843267e-04, 6.55128557e-04, 9.54095476e-04, 1.38949549e-03,\n",
              "       2.02358965e-03, 2.94705170e-03, 4.29193426e-03, 6.25055193e-03,\n",
              "       9.10298178e-03, 1.32571137e-02, 1.93069773e-02, 2.81176870e-02,\n",
              "       4.09491506e-02, 5.96362332e-02, 8.68511374e-02, 1.26485522e-01,\n",
              "       1.84206997e-01, 2.68269580e-01, 3.90693994e-01, 5.68986603e-01,\n",
              "       8.28642773e-01, 1.20679264e+00, 1.75751062e+00, 2.55954792e+00,\n",
              "       3.72759372e+00, 5.42867544e+00, 7.90604321e+00, 1.15139540e+01,\n",
              "       1.67683294e+01, 2.44205309e+01, 3.55648031e+01, 5.17947468e+01,\n",
              "       7.54312006e+01, 1.09854114e+02, 1.59985872e+02, 2.32995181e+02,\n",
              "       3.39322177e+02, 4.94171336e+02, 7.19685673e+02, 1.04811313e+03,\n",
              "       1.52641797e+03, 2.22299648e+03, 3.23745754e+03, 4.71486636e+03,\n",
              "       6.86648845e+03, 1.00000000e+04])"
            ]
          },
          "metadata": {},
          "execution_count": 67
        }
      ]
    },
    {
      "cell_type": "code",
      "metadata": {
        "colab": {
          "base_uri": "https://localhost:8080/"
        },
        "id": "qL6PVIG5oOnA",
        "outputId": "de68d3d5-6255-408f-86c5-1ae84c6954e5"
      },
      "source": [
        "# this is the best regularisation parameter\n",
        "log_reg.C_"
      ],
      "execution_count": 68,
      "outputs": [
        {
          "output_type": "execute_result",
          "data": {
            "text/plain": [
              "array([0.184207])"
            ]
          },
          "metadata": {},
          "execution_count": 68
        }
      ]
    },
    {
      "cell_type": "markdown",
      "metadata": {
        "id": "Ci7AqcPAtrzZ"
      },
      "source": [
        "#### Accuracy improvements\n",
        "\n",
        "Plot all your results."
      ]
    },
    {
      "cell_type": "code",
      "metadata": {
        "colab": {
          "base_uri": "https://localhost:8080/",
          "height": 81
        },
        "id": "HcqtEpy2tvu0",
        "outputId": "d22416db-0f9e-472b-829f-9e95052f505b"
      },
      "source": [
        "results = pd.DataFrame({'base_rate': baseline, 'logreg': a1, \n",
        "                        'logreg std': a2, 'logreg std cv': a3\n",
        "                        }, index=[0])\n",
        "results"
      ],
      "execution_count": 69,
      "outputs": [
        {
          "output_type": "execute_result",
          "data": {
            "text/plain": [
              "   base_rate  logreg  logreg std  logreg std cv\n",
              "0       0.48     0.9        0.95          0.955"
            ],
            "text/html": [
              "\n",
              "  <div id=\"df-0ddea3b3-3239-48d7-b427-1873528efb8b\">\n",
              "    <div class=\"colab-df-container\">\n",
              "      <div>\n",
              "<style scoped>\n",
              "    .dataframe tbody tr th:only-of-type {\n",
              "        vertical-align: middle;\n",
              "    }\n",
              "\n",
              "    .dataframe tbody tr th {\n",
              "        vertical-align: top;\n",
              "    }\n",
              "\n",
              "    .dataframe thead th {\n",
              "        text-align: right;\n",
              "    }\n",
              "</style>\n",
              "<table border=\"1\" class=\"dataframe\">\n",
              "  <thead>\n",
              "    <tr style=\"text-align: right;\">\n",
              "      <th></th>\n",
              "      <th>base_rate</th>\n",
              "      <th>logreg</th>\n",
              "      <th>logreg std</th>\n",
              "      <th>logreg std cv</th>\n",
              "    </tr>\n",
              "  </thead>\n",
              "  <tbody>\n",
              "    <tr>\n",
              "      <th>0</th>\n",
              "      <td>0.48</td>\n",
              "      <td>0.9</td>\n",
              "      <td>0.95</td>\n",
              "      <td>0.955</td>\n",
              "    </tr>\n",
              "  </tbody>\n",
              "</table>\n",
              "</div>\n",
              "      <button class=\"colab-df-convert\" onclick=\"convertToInteractive('df-0ddea3b3-3239-48d7-b427-1873528efb8b')\"\n",
              "              title=\"Convert this dataframe to an interactive table.\"\n",
              "              style=\"display:none;\">\n",
              "        \n",
              "  <svg xmlns=\"http://www.w3.org/2000/svg\" height=\"24px\"viewBox=\"0 0 24 24\"\n",
              "       width=\"24px\">\n",
              "    <path d=\"M0 0h24v24H0V0z\" fill=\"none\"/>\n",
              "    <path d=\"M18.56 5.44l.94 2.06.94-2.06 2.06-.94-2.06-.94-.94-2.06-.94 2.06-2.06.94zm-11 1L8.5 8.5l.94-2.06 2.06-.94-2.06-.94L8.5 2.5l-.94 2.06-2.06.94zm10 10l.94 2.06.94-2.06 2.06-.94-2.06-.94-.94-2.06-.94 2.06-2.06.94z\"/><path d=\"M17.41 7.96l-1.37-1.37c-.4-.4-.92-.59-1.43-.59-.52 0-1.04.2-1.43.59L10.3 9.45l-7.72 7.72c-.78.78-.78 2.05 0 2.83L4 21.41c.39.39.9.59 1.41.59.51 0 1.02-.2 1.41-.59l7.78-7.78 2.81-2.81c.8-.78.8-2.07 0-2.86zM5.41 20L4 18.59l7.72-7.72 1.47 1.35L5.41 20z\"/>\n",
              "  </svg>\n",
              "      </button>\n",
              "      \n",
              "  <style>\n",
              "    .colab-df-container {\n",
              "      display:flex;\n",
              "      flex-wrap:wrap;\n",
              "      gap: 12px;\n",
              "    }\n",
              "\n",
              "    .colab-df-convert {\n",
              "      background-color: #E8F0FE;\n",
              "      border: none;\n",
              "      border-radius: 50%;\n",
              "      cursor: pointer;\n",
              "      display: none;\n",
              "      fill: #1967D2;\n",
              "      height: 32px;\n",
              "      padding: 0 0 0 0;\n",
              "      width: 32px;\n",
              "    }\n",
              "\n",
              "    .colab-df-convert:hover {\n",
              "      background-color: #E2EBFA;\n",
              "      box-shadow: 0px 1px 2px rgba(60, 64, 67, 0.3), 0px 1px 3px 1px rgba(60, 64, 67, 0.15);\n",
              "      fill: #174EA6;\n",
              "    }\n",
              "\n",
              "    [theme=dark] .colab-df-convert {\n",
              "      background-color: #3B4455;\n",
              "      fill: #D2E3FC;\n",
              "    }\n",
              "\n",
              "    [theme=dark] .colab-df-convert:hover {\n",
              "      background-color: #434B5C;\n",
              "      box-shadow: 0px 1px 3px 1px rgba(0, 0, 0, 0.15);\n",
              "      filter: drop-shadow(0px 1px 2px rgba(0, 0, 0, 0.3));\n",
              "      fill: #FFFFFF;\n",
              "    }\n",
              "  </style>\n",
              "\n",
              "      <script>\n",
              "        const buttonEl =\n",
              "          document.querySelector('#df-0ddea3b3-3239-48d7-b427-1873528efb8b button.colab-df-convert');\n",
              "        buttonEl.style.display =\n",
              "          google.colab.kernel.accessAllowed ? 'block' : 'none';\n",
              "\n",
              "        async function convertToInteractive(key) {\n",
              "          const element = document.querySelector('#df-0ddea3b3-3239-48d7-b427-1873528efb8b');\n",
              "          const dataTable =\n",
              "            await google.colab.kernel.invokeFunction('convertToInteractive',\n",
              "                                                     [key], {});\n",
              "          if (!dataTable) return;\n",
              "\n",
              "          const docLinkHtml = 'Like what you see? Visit the ' +\n",
              "            '<a target=\"_blank\" href=https://colab.research.google.com/notebooks/data_table.ipynb>data table notebook</a>'\n",
              "            + ' to learn more about interactive tables.';\n",
              "          element.innerHTML = '';\n",
              "          dataTable['output_type'] = 'display_data';\n",
              "          await google.colab.output.renderOutput(dataTable, element);\n",
              "          const docLink = document.createElement('div');\n",
              "          docLink.innerHTML = docLinkHtml;\n",
              "          element.appendChild(docLink);\n",
              "        }\n",
              "      </script>\n",
              "    </div>\n",
              "  </div>\n",
              "  "
            ]
          },
          "metadata": {},
          "execution_count": 69
        }
      ]
    },
    {
      "cell_type": "code",
      "metadata": {
        "colab": {
          "base_uri": "https://localhost:8080/",
          "height": 284
        },
        "id": "l6BZIQtPu69z",
        "outputId": "eaa53305-6c56-4b60-8f30-6bfcd6563375"
      },
      "source": [
        "plt.plot(results.iloc[0], marker='o')"
      ],
      "execution_count": 70,
      "outputs": [
        {
          "output_type": "execute_result",
          "data": {
            "text/plain": [
              "[<matplotlib.lines.Line2D at 0x7f3bc8418910>]"
            ]
          },
          "metadata": {},
          "execution_count": 70
        },
        {
          "output_type": "display_data",
          "data": {
            "text/plain": [
              "<Figure size 432x288 with 1 Axes>"
            ],
            "image/png": "[encoded data removed]"
          },
          "metadata": {}
        }
      ]
    },
    {
      "cell_type": "markdown",
      "metadata": {
        "id": "p7uxS0TKo3QB"
      },
      "source": [
        "##3. Multi-class Classification\n",
        "\n",
        "What happens when we have more than 2 labels in our target vector?\n",
        "We'll briefly go over it using the IRIS dataset, in which we classify flowers into three kinds of flowers.\n",
        "\n",
        "### Brief Recap on the theory\n",
        "\n",
        "You use Softmax regression. This is a generalization of logistics regression to multiple classes. The model fits one linear regression for each class, and then transforms their output into probabilities using the Softmax function."
      ]
    },
    {
      "cell_type": "code",
      "metadata": {
        "colab": {
          "base_uri": "https://localhost:8080/"
        },
        "id": "whThz3zdquJs",
        "outputId": "21757bdb-f6cc-4b4c-d587-ee82cd9108b7"
      },
      "source": [
        "# load the data\n",
        "from sklearn import datasets\n",
        "\n",
        "iris=datasets.load_iris()\n",
        "\n",
        "#select only the first two features\n",
        "X = iris.data[:, :2]\n",
        "\n",
        "y = iris.target\n",
        "\n",
        "#show first 10 instances of X\n",
        "X[:10]"
      ],
      "execution_count": 72,
      "outputs": [
        {
          "output_type": "execute_result",
          "data": {
            "text/plain": [
              "array([[5.1, 3.5],\n",
              "       [4.9, 3. ],\n",
              "       [4.7, 3.2],\n",
              "       [4.6, 3.1],\n",
              "       [5. , 3.6],\n",
              "       [5.4, 3.9],\n",
              "       [4.6, 3.4],\n",
              "       [5. , 3.4],\n",
              "       [4.4, 2.9],\n",
              "       [4.9, 3.1]])"
            ]
          },
          "metadata": {},
          "execution_count": 72
        }
      ]
    },
    {
      "cell_type": "code",
      "metadata": {
        "colab": {
          "base_uri": "https://localhost:8080/"
        },
        "id": "3UKIKK1Xr8q8",
        "outputId": "a693d6d6-207c-4617-e032-272b40056f87"
      },
      "source": [
        "# check out how many classes we have in y\n",
        "np.unique(y, return_counts=True)"
      ],
      "execution_count": 73,
      "outputs": [
        {
          "output_type": "execute_result",
          "data": {
            "text/plain": [
              "(array([0, 1, 2]), array([50, 50, 50]))"
            ]
          },
          "metadata": {},
          "execution_count": 73
        }
      ]
    },
    {
      "cell_type": "code",
      "metadata": {
        "id": "MgfUhrItsnTe"
      },
      "source": [
        "# Train test split\n",
        "X_train, X_test, y_train, y_test = train_test_split(X, y, test_size=0.2, random_state=100)"
      ],
      "execution_count": 74,
      "outputs": []
    },
    {
      "cell_type": "code",
      "metadata": {
        "colab": {
          "base_uri": "https://localhost:8080/"
        },
        "id": "k-SGi7TLtTek",
        "outputId": "4eeb9764-c959-4fb0-e969-5e5ce34c9c80"
      },
      "source": [
        "# Fit model\n",
        "log_reg = LogisticRegressionCV(solver='lbfgs', cv=5, max_iter=1000)\n",
        "log_reg.fit(X_train, y_train)"
      ],
      "execution_count": 75,
      "outputs": [
        {
          "output_type": "execute_result",
          "data": {
            "text/plain": [
              "LogisticRegressionCV(cv=5, max_iter=1000)"
            ]
          },
          "metadata": {},
          "execution_count": 75
        }
      ]
    },
    {
      "cell_type": "code",
      "metadata": {
        "colab": {
          "base_uri": "https://localhost:8080/"
        },
        "id": "ZBb1kuaswPhN",
        "outputId": "3f4ff04f-9cb6-48f8-b2cc-028a8a776739"
      },
      "source": [
        "log_reg.score(X_test, y_test)\n",
        "# accuracy_score(log_reg.predict(X_test), y_test)"
      ],
      "execution_count": 76,
      "outputs": [
        {
          "output_type": "execute_result",
          "data": {
            "text/plain": [
              "0.8333333333333334"
            ]
          },
          "metadata": {},
          "execution_count": 76
        }
      ]
    },
    {
      "cell_type": "code",
      "metadata": {
        "colab": {
          "base_uri": "https://localhost:8080/"
        },
        "id": "WNk0TvZiwzVW",
        "outputId": "b9f79e84-ace3-4160-f9aa-8a7d21541497"
      },
      "source": [
        "# Predictions\n",
        "log_reg.predict(X_test)"
      ],
      "execution_count": 77,
      "outputs": [
        {
          "output_type": "execute_result",
          "data": {
            "text/plain": [
              "array([2, 0, 2, 0, 1, 2, 0, 0, 2, 0, 0, 2, 0, 0, 2, 1, 1, 2, 2, 2, 2, 0,\n",
              "       1, 0, 1, 1, 2, 0, 1, 2])"
            ]
          },
          "metadata": {},
          "execution_count": 77
        }
      ]
    },
    {
      "cell_type": "code",
      "metadata": {
        "colab": {
          "base_uri": "https://localhost:8080/"
        },
        "id": "WLceOkM2w5kl",
        "outputId": "b61d4dfb-a812-4e93-c0f7-7384ae7204c9"
      },
      "source": [
        "log_reg.predict_proba(X_test)"
      ],
      "execution_count": 78,
      "outputs": [
        {
          "output_type": "execute_result",
          "data": {
            "text/plain": [
              "array([[2.79276702e-02, 4.82059393e-01, 4.90012937e-01],\n",
              "       [8.75034139e-01, 9.71683117e-02, 2.77975490e-02],\n",
              "       [4.44958229e-04, 2.19829187e-01, 7.79725855e-01],\n",
              "       [8.65964983e-01, 5.11324961e-02, 8.29025206e-02],\n",
              "       [2.92406748e-02, 5.26031369e-01, 4.44727956e-01],\n",
              "       [9.81777116e-04, 1.71818447e-01, 8.27199776e-01],\n",
              "       [9.29624479e-01, 4.01736833e-02, 3.02018373e-02],\n",
              "       [6.75032397e-01, 2.63179707e-01, 6.17878964e-02],\n",
              "       [3.26454125e-02, 4.17111618e-01, 5.50242969e-01],\n",
              "       [7.24874223e-01, 2.27233073e-01, 4.78927035e-02],\n",
              "       [8.45104986e-01, 1.11987825e-01, 4.29071894e-02],\n",
              "       [6.43059762e-02, 3.93194969e-01, 5.42499055e-01],\n",
              "       [8.11202753e-01, 1.39337132e-01, 4.94601144e-02],\n",
              "       [7.23216057e-01, 1.92151290e-01, 8.46326528e-02],\n",
              "       [1.88274801e-02, 3.72100383e-01, 6.09072137e-01],\n",
              "       [5.80673755e-02, 4.99899774e-01, 4.42032851e-01],\n",
              "       [2.02002492e-02, 6.91211289e-01, 2.88588462e-01],\n",
              "       [1.88274801e-02, 3.72100383e-01, 6.09072137e-01],\n",
              "       [6.62191111e-04, 1.94712953e-01, 8.04624856e-01],\n",
              "       [1.42049726e-02, 3.49162195e-01, 6.36632832e-01],\n",
              "       [6.64532042e-03, 2.32607501e-01, 7.60747179e-01],\n",
              "       [6.11405773e-01, 2.51271119e-01, 1.37323108e-01],\n",
              "       [1.88111487e-02, 5.68583409e-01, 4.12605443e-01],\n",
              "       [8.45248298e-01, 1.26800125e-01, 2.79515767e-02],\n",
              "       [1.01978329e-01, 6.69660190e-01, 2.28361480e-01],\n",
              "       [1.46277322e-01, 5.05002755e-01, 3.48719924e-01],\n",
              "       [2.48497441e-02, 3.94885278e-01, 5.80264978e-01],\n",
              "       [6.11405773e-01, 2.51271119e-01, 1.37323108e-01],\n",
              "       [6.03460860e-02, 5.41449879e-01, 3.98204035e-01],\n",
              "       [1.60646629e-02, 2.92295895e-01, 6.91639442e-01]])"
            ]
          },
          "metadata": {},
          "execution_count": 78
        }
      ]
    },
    {
      "cell_type": "code",
      "metadata": {
        "colab": {
          "base_uri": "https://localhost:8080/",
          "height": 990
        },
        "id": "-Wrkyla3w9Nl",
        "outputId": "da07faf4-c422-4229-d7c2-2b0b7d813547"
      },
      "source": [
        "# Create DateFrame with probabilities, predictions, and true classes in test set\n",
        "iris_LR_summary = pd.DataFrame(np.round(log_reg.predict_proba(X_test), 2), columns=[\"p(0)\", \"p(1)\", \"p(2)\"])\n",
        "iris_LR_summary[\"Prediction\"] = log_reg.predict(X_test)\n",
        "iris_LR_summary[\"True Class\"] = y_test\n",
        "iris_LR_summary"
      ],
      "execution_count": 79,
      "outputs": [
        {
          "output_type": "execute_result",
          "data": {
            "text/plain": [
              "    p(0)  p(1)  p(2)  Prediction  True Class\n",
              "0   0.03  0.48  0.49           2           2\n",
              "1   0.88  0.10  0.03           0           0\n",
              "2   0.00  0.22  0.78           2           2\n",
              "3   0.87  0.05  0.08           0           0\n",
              "4   0.03  0.53  0.44           1           2\n",
              "5   0.00  0.17  0.83           2           2\n",
              "6   0.93  0.04  0.03           0           0\n",
              "7   0.68  0.26  0.06           0           0\n",
              "8   0.03  0.42  0.55           2           2\n",
              "9   0.72  0.23  0.05           0           0\n",
              "10  0.85  0.11  0.04           0           0\n",
              "11  0.06  0.39  0.54           2           2\n",
              "12  0.81  0.14  0.05           0           0\n",
              "13  0.72  0.19  0.08           0           0\n",
              "14  0.02  0.37  0.61           2           2\n",
              "15  0.06  0.50  0.44           1           1\n",
              "16  0.02  0.69  0.29           1           1\n",
              "17  0.02  0.37  0.61           2           1\n",
              "18  0.00  0.19  0.80           2           2\n",
              "19  0.01  0.35  0.64           2           2\n",
              "20  0.01  0.23  0.76           2           2\n",
              "21  0.61  0.25  0.14           0           0\n",
              "22  0.02  0.57  0.41           1           2\n",
              "23  0.85  0.13  0.03           0           0\n",
              "24  0.10  0.67  0.23           1           1\n",
              "25  0.15  0.51  0.35           1           2\n",
              "26  0.02  0.39  0.58           2           1\n",
              "27  0.61  0.25  0.14           0           0\n",
              "28  0.06  0.54  0.40           1           1\n",
              "29  0.02  0.29  0.69           2           2"
            ],
            "text/html": [
              "\n",
              "  <div id=\"df-7a29a0c1-1c5c-4293-a334-da3fff3ef6f2\">\n",
              "    <div class=\"colab-df-container\">\n",
              "      <div>\n",
              "<style scoped>\n",
              "    .dataframe tbody tr th:only-of-type {\n",
              "        vertical-align: middle;\n",
              "    }\n",
              "\n",
              "    .dataframe tbody tr th {\n",
              "        vertical-align: top;\n",
              "    }\n",
              "\n",
              "    .dataframe thead th {\n",
              "        text-align: right;\n",
              "    }\n",
              "</style>\n",
              "<table border=\"1\" class=\"dataframe\">\n",
              "  <thead>\n",
              "    <tr style=\"text-align: right;\">\n",
              "      <th></th>\n",
              "      <th>p(0)</th>\n",
              "      <th>p(1)</th>\n",
              "      <th>p(2)</th>\n",
              "      <th>Prediction</th>\n",
              "      <th>True Class</th>\n",
              "    </tr>\n",
              "  </thead>\n",
              "  <tbody>\n",
              "    <tr>\n",
              "      <th>0</th>\n",
              "      <td>0.03</td>\n",
              "      <td>0.48</td>\n",
              "      <td>0.49</td>\n",
              "      <td>2</td>\n",
              "      <td>2</td>\n",
              "    </tr>\n",
              "    <tr>\n",
              "      <th>1</th>\n",
              "      <td>0.88</td>\n",
              "      <td>0.10</td>\n",
              "      <td>0.03</td>\n",
              "      <td>0</td>\n",
              "      <td>0</td>\n",
              "    </tr>\n",
              "    <tr>\n",
              "      <th>2</th>\n",
              "      <td>0.00</td>\n",
              "      <td>0.22</td>\n",
              "      <td>0.78</td>\n",
              "      <td>2</td>\n",
              "      <td>2</td>\n",
              "    </tr>\n",
              "    <tr>\n",
              "      <th>3</th>\n",
              "      <td>0.87</td>\n",
              "      <td>0.05</td>\n",
              "      <td>0.08</td>\n",
              "      <td>0</td>\n",
              "      <td>0</td>\n",
              "    </tr>\n",
              "    <tr>\n",
              "      <th>4</th>\n",
              "      <td>0.03</td>\n",
              "      <td>0.53</td>\n",
              "      <td>0.44</td>\n",
              "      <td>1</td>\n",
              "      <td>2</td>\n",
              "    </tr>\n",
              "    <tr>\n",
              "      <th>5</th>\n",
              "      <td>0.00</td>\n",
              "      <td>0.17</td>\n",
              "      <td>0.83</td>\n",
              "      <td>2</td>\n",
              "      <td>2</td>\n",
              "    </tr>\n",
              "    <tr>\n",
              "      <th>6</th>\n",
              "      <td>0.93</td>\n",
              "      <td>0.04</td>\n",
              "      <td>0.03</td>\n",
              "      <td>0</td>\n",
              "      <td>0</td>\n",
              "    </tr>\n",
              "    <tr>\n",
              "      <th>7</th>\n",
              "      <td>0.68</td>\n",
              "      <td>0.26</td>\n",
              "      <td>0.06</td>\n",
              "      <td>0</td>\n",
              "      <td>0</td>\n",
              "    </tr>\n",
              "    <tr>\n",
              "      <th>8</th>\n",
              "      <td>0.03</td>\n",
              "      <td>0.42</td>\n",
              "      <td>0.55</td>\n",
              "      <td>2</td>\n",
              "      <td>2</td>\n",
              "    </tr>\n",
              "    <tr>\n",
              "      <th>9</th>\n",
              "      <td>0.72</td>\n",
              "      <td>0.23</td>\n",
              "      <td>0.05</td>\n",
              "      <td>0</td>\n",
              "      <td>0</td>\n",
              "    </tr>\n",
              "    <tr>\n",
              "      <th>10</th>\n",
              "      <td>0.85</td>\n",
              "      <td>0.11</td>\n",
              "      <td>0.04</td>\n",
              "      <td>0</td>\n",
              "      <td>0</td>\n",
              "    </tr>\n",
              "    <tr>\n",
              "      <th>11</th>\n",
              "      <td>0.06</td>\n",
              "      <td>0.39</td>\n",
              "      <td>0.54</td>\n",
              "      <td>2</td>\n",
              "      <td>2</td>\n",
              "    </tr>\n",
              "    <tr>\n",
              "      <th>12</th>\n",
              "      <td>0.81</td>\n",
              "      <td>0.14</td>\n",
              "      <td>0.05</td>\n",
              "      <td>0</td>\n",
              "      <td>0</td>\n",
              "    </tr>\n",
              "    <tr>\n",
              "      <th>13</th>\n",
              "      <td>0.72</td>\n",
              "      <td>0.19</td>\n",
              "      <td>0.08</td>\n",
              "      <td>0</td>\n",
              "      <td>0</td>\n",
              "    </tr>\n",
              "    <tr>\n",
              "      <th>14</th>\n",
              "      <td>0.02</td>\n",
              "      <td>0.37</td>\n",
              "      <td>0.61</td>\n",
              "      <td>2</td>\n",
              "      <td>2</td>\n",
              "    </tr>\n",
              "    <tr>\n",
              "      <th>15</th>\n",
              "      <td>0.06</td>\n",
              "      <td>0.50</td>\n",
              "      <td>0.44</td>\n",
              "      <td>1</td>\n",
              "      <td>1</td>\n",
              "    </tr>\n",
              "    <tr>\n",
              "      <th>16</th>\n",
              "      <td>0.02</td>\n",
              "      <td>0.69</td>\n",
              "      <td>0.29</td>\n",
              "      <td>1</td>\n",
              "      <td>1</td>\n",
              "    </tr>\n",
              "    <tr>\n",
              "      <th>17</th>\n",
              "      <td>0.02</td>\n",
              "      <td>0.37</td>\n",
              "      <td>0.61</td>\n",
              "      <td>2</td>\n",
              "      <td>1</td>\n",
              "    </tr>\n",
              "    <tr>\n",
              "      <th>18</th>\n",
              "      <td>0.00</td>\n",
              "      <td>0.19</td>\n",
              "      <td>0.80</td>\n",
              "      <td>2</td>\n",
              "      <td>2</td>\n",
              "    </tr>\n",
              "    <tr>\n",
              "      <th>19</th>\n",
              "      <td>0.01</td>\n",
              "      <td>0.35</td>\n",
              "      <td>0.64</td>\n",
              "      <td>2</td>\n",
              "      <td>2</td>\n",
              "    </tr>\n",
              "    <tr>\n",
              "      <th>20</th>\n",
              "      <td>0.01</td>\n",
              "      <td>0.23</td>\n",
              "      <td>0.76</td>\n",
              "      <td>2</td>\n",
              "      <td>2</td>\n",
              "    </tr>\n",
              "    <tr>\n",
              "      <th>21</th>\n",
              "      <td>0.61</td>\n",
              "      <td>0.25</td>\n",
              "      <td>0.14</td>\n",
              "      <td>0</td>\n",
              "      <td>0</td>\n",
              "    </tr>\n",
              "    <tr>\n",
              "      <th>22</th>\n",
              "      <td>0.02</td>\n",
              "      <td>0.57</td>\n",
              "      <td>0.41</td>\n",
              "      <td>1</td>\n",
              "      <td>2</td>\n",
              "    </tr>\n",
              "    <tr>\n",
              "      <th>23</th>\n",
              "      <td>0.85</td>\n",
              "      <td>0.13</td>\n",
              "      <td>0.03</td>\n",
              "      <td>0</td>\n",
              "      <td>0</td>\n",
              "    </tr>\n",
              "    <tr>\n",
              "      <th>24</th>\n",
              "      <td>0.10</td>\n",
              "      <td>0.67</td>\n",
              "      <td>0.23</td>\n",
              "      <td>1</td>\n",
              "      <td>1</td>\n",
              "    </tr>\n",
              "    <tr>\n",
              "      <th>25</th>\n",
              "      <td>0.15</td>\n",
              "      <td>0.51</td>\n",
              "      <td>0.35</td>\n",
              "      <td>1</td>\n",
              "      <td>2</td>\n",
              "    </tr>\n",
              "    <tr>\n",
              "      <th>26</th>\n",
              "      <td>0.02</td>\n",
              "      <td>0.39</td>\n",
              "      <td>0.58</td>\n",
              "      <td>2</td>\n",
              "      <td>1</td>\n",
              "    </tr>\n",
              "    <tr>\n",
              "      <th>27</th>\n",
              "      <td>0.61</td>\n",
              "      <td>0.25</td>\n",
              "      <td>0.14</td>\n",
              "      <td>0</td>\n",
              "      <td>0</td>\n",
              "    </tr>\n",
              "    <tr>\n",
              "      <th>28</th>\n",
              "      <td>0.06</td>\n",
              "      <td>0.54</td>\n",
              "      <td>0.40</td>\n",
              "      <td>1</td>\n",
              "      <td>1</td>\n",
              "    </tr>\n",
              "    <tr>\n",
              "      <th>29</th>\n",
              "      <td>0.02</td>\n",
              "      <td>0.29</td>\n",
              "      <td>0.69</td>\n",
              "      <td>2</td>\n",
              "      <td>2</td>\n",
              "    </tr>\n",
              "  </tbody>\n",
              "</table>\n",
              "</div>\n",
              "      <button class=\"colab-df-convert\" onclick=\"convertToInteractive('df-7a29a0c1-1c5c-4293-a334-da3fff3ef6f2')\"\n",
              "              title=\"Convert this dataframe to an interactive table.\"\n",
              "              style=\"display:none;\">\n",
              "        \n",
              "  <svg xmlns=\"http://www.w3.org/2000/svg\" height=\"24px\"viewBox=\"0 0 24 24\"\n",
              "       width=\"24px\">\n",
              "    <path d=\"M0 0h24v24H0V0z\" fill=\"none\"/>\n",
              "    <path d=\"M18.56 5.44l.94 2.06.94-2.06 2.06-.94-2.06-.94-.94-2.06-.94 2.06-2.06.94zm-11 1L8.5 8.5l.94-2.06 2.06-.94-2.06-.94L8.5 2.5l-.94 2.06-2.06.94zm10 10l.94 2.06.94-2.06 2.06-.94-2.06-.94-.94-2.06-.94 2.06-2.06.94z\"/><path d=\"M17.41 7.96l-1.37-1.37c-.4-.4-.92-.59-1.43-.59-.52 0-1.04.2-1.43.59L10.3 9.45l-7.72 7.72c-.78.78-.78 2.05 0 2.83L4 21.41c.39.39.9.59 1.41.59.51 0 1.02-.2 1.41-.59l7.78-7.78 2.81-2.81c.8-.78.8-2.07 0-2.86zM5.41 20L4 18.59l7.72-7.72 1.47 1.35L5.41 20z\"/>\n",
              "  </svg>\n",
              "      </button>\n",
              "      \n",
              "  <style>\n",
              "    .colab-df-container {\n",
              "      display:flex;\n",
              "      flex-wrap:wrap;\n",
              "      gap: 12px;\n",
              "    }\n",
              "\n",
              "    .colab-df-convert {\n",
              "      background-color: #E8F0FE;\n",
              "      border: none;\n",
              "      border-radius: 50%;\n",
              "      cursor: pointer;\n",
              "      display: none;\n",
              "      fill: #1967D2;\n",
              "      height: 32px;\n",
              "      padding: 0 0 0 0;\n",
              "      width: 32px;\n",
              "    }\n",
              "\n",
              "    .colab-df-convert:hover {\n",
              "      background-color: #E2EBFA;\n",
              "      box-shadow: 0px 1px 2px rgba(60, 64, 67, 0.3), 0px 1px 3px 1px rgba(60, 64, 67, 0.15);\n",
              "      fill: #174EA6;\n",
              "    }\n",
              "\n",
              "    [theme=dark] .colab-df-convert {\n",
              "      background-color: #3B4455;\n",
              "      fill: #D2E3FC;\n",
              "    }\n",
              "\n",
              "    [theme=dark] .colab-df-convert:hover {\n",
              "      background-color: #434B5C;\n",
              "      box-shadow: 0px 1px 3px 1px rgba(0, 0, 0, 0.15);\n",
              "      filter: drop-shadow(0px 1px 2px rgba(0, 0, 0, 0.3));\n",
              "      fill: #FFFFFF;\n",
              "    }\n",
              "  </style>\n",
              "\n",
              "      <script>\n",
              "        const buttonEl =\n",
              "          document.querySelector('#df-7a29a0c1-1c5c-4293-a334-da3fff3ef6f2 button.colab-df-convert');\n",
              "        buttonEl.style.display =\n",
              "          google.colab.kernel.accessAllowed ? 'block' : 'none';\n",
              "\n",
              "        async function convertToInteractive(key) {\n",
              "          const element = document.querySelector('#df-7a29a0c1-1c5c-4293-a334-da3fff3ef6f2');\n",
              "          const dataTable =\n",
              "            await google.colab.kernel.invokeFunction('convertToInteractive',\n",
              "                                                     [key], {});\n",
              "          if (!dataTable) return;\n",
              "\n",
              "          const docLinkHtml = 'Like what you see? Visit the ' +\n",
              "            '<a target=\"_blank\" href=https://colab.research.google.com/notebooks/data_table.ipynb>data table notebook</a>'\n",
              "            + ' to learn more about interactive tables.';\n",
              "          element.innerHTML = '';\n",
              "          dataTable['output_type'] = 'display_data';\n",
              "          await google.colab.output.renderOutput(dataTable, element);\n",
              "          const docLink = document.createElement('div');\n",
              "          docLink.innerHTML = docLinkHtml;\n",
              "          element.appendChild(docLink);\n",
              "        }\n",
              "      </script>\n",
              "    </div>\n",
              "  </div>\n",
              "  "
            ]
          },
          "metadata": {},
          "execution_count": 79
        }
      ]
    },
    {
      "cell_type": "code",
      "metadata": {
        "colab": {
          "base_uri": "https://localhost:8080/"
        },
        "id": "wS2LndkSxOK5",
        "outputId": "3162c742-e3ee-4f43-f939-3dce8a1a3890"
      },
      "source": [
        "# Confusion matrix - 5 errors out of 30 points\n",
        "confusion_matrix(y_test, log_reg.predict(X_test))"
      ],
      "execution_count": 81,
      "outputs": [
        {
          "output_type": "execute_result",
          "data": {
            "text/plain": [
              "array([[11,  0,  0],\n",
              "       [ 0,  4,  2],\n",
              "       [ 0,  3, 10]])"
            ]
          },
          "metadata": {},
          "execution_count": 81
        }
      ]
    },
    {
      "cell_type": "code",
      "metadata": {
        "colab": {
          "base_uri": "https://localhost:8080/",
          "height": 550
        },
        "id": "QOkUiKizxgYn",
        "outputId": "dbc0349a-3856-4004-c3cd-eedc242023e2"
      },
      "source": [
        "from sklearn.utils.multiclass import unique_labels\n",
        "\n",
        "def plot_confusion_matrix(y_true, y_pred, classes,\n",
        "                          normalize=False,\n",
        "                          title=None,\n",
        "                          cmap=plt.cm.Blues):\n",
        "    \"\"\"\n",
        "    This function prints and plots the confusion matrix.\n",
        "    Normalization can be applied by setting `normalize=True`.\n",
        "    \"\"\"\n",
        "    if not title:\n",
        "        if normalize:\n",
        "            title = 'Normalized confusion matrix'\n",
        "        else:\n",
        "            title = 'Confusion matrix, without normalization'\n",
        "\n",
        "    # Compute confusion matrix\n",
        "    cm = confusion_matrix(y_true, y_pred)\n",
        "    # Only use the labels that appear in the data\n",
        "    classes = classes[unique_labels(y_true, y_pred)]\n",
        "    if normalize:\n",
        "        cm = cm.astype('float') / cm.sum(axis=1)[:, np.newaxis]\n",
        "        print(\"Normalized confusion matrix\")\n",
        "    else:\n",
        "        print('Confusion matrix, without normalization')\n",
        "\n",
        "#     print(cm)\n",
        "\n",
        "    fig, ax = plt.subplots(figsize=(10,7))\n",
        "    im = ax.imshow(cm, interpolation='nearest', cmap=cmap)\n",
        "    ax.figure.colorbar(im, ax=ax)\n",
        "    # We want to show all ticks...\n",
        "    ax.set(xticks=np.arange(cm.shape[1]),\n",
        "           yticks=np.arange(cm.shape[0]),\n",
        "           # ... and label them with the respective list entries\n",
        "           xticklabels=classes, yticklabels=classes,\n",
        "           title=title,\n",
        "           ylabel='True label',\n",
        "           xlabel='Predicted label')\n",
        "    plt.ylim([-0.5, 2.5])\n",
        "\n",
        "    # Rotate the tick labels and set their alignment.\n",
        "    plt.setp(ax.get_xticklabels(), rotation=45, ha=\"right\",\n",
        "             rotation_mode=\"anchor\")\n",
        "\n",
        "    \n",
        "    # Loop over data dimensions and create text annotations.\n",
        "    fmt = '.2f' if normalize else 'd'\n",
        "    thresh = cm.max() / 2.\n",
        "    for i in range(cm.shape[0]):\n",
        "        for j in range(cm.shape[1]):\n",
        "            ax.text(j, i, format(cm[i, j], fmt),\n",
        "                    ha=\"center\", va=\"center\",\n",
        "                    color=\"white\" if cm[i, j] > thresh else \"black\")\n",
        "    fig.tight_layout();\n",
        "    return ax\n",
        "\n",
        "# Plot non-normalized confusion matrix\n",
        "plot_confusion_matrix(y_test, log_reg.predict(X_test), classes=iris.target_names,\n",
        "                      title='Confusion matrix on the test set, without normalization')"
      ],
      "execution_count": 83,
      "outputs": [
        {
          "output_type": "stream",
          "name": "stdout",
          "text": [
            "Confusion matrix, without normalization\n"
          ]
        },
        {
          "output_type": "execute_result",
          "data": {
            "text/plain": [
              "<matplotlib.axes._subplots.AxesSubplot at 0x7f3bc7d90510>"
            ]
          },
          "metadata": {},
          "execution_count": 83
        },
        {
          "output_type": "display_data",
          "data": {
            "text/plain": [
              "<Figure size 720x504 with 2 Axes>"
            ],
            "image/png": "[encoded data removed]"
          },
          "metadata": {}
        }
      ]
    },
    {
      "cell_type": "code",
      "metadata": {
        "colab": {
          "base_uri": "https://localhost:8080/",
          "height": 610
        },
        "id": "CqwKEctKyF3R",
        "outputId": "9202ee9a-2089-4396-8b19-37415183c9bc"
      },
      "source": [
        "# Plot the decision boundaries for test set. For that, we will assign a \n",
        "# color to each point in the mesh [x_min, x_max]x[y_min, y_max].\n",
        "x_min, x_max = X_test[:, 0].min() - .2, X_test[:, 0].max() + .2\n",
        "y_min, y_max = X_test[:, 1].min() - .2, X_test[:, 1].max() + .2\n",
        "h = .001  # step size in the mesh\n",
        "xx, yy = np.meshgrid(np.arange(x_min, x_max, h), np.arange(y_min, y_max, h))\n",
        "Z = log_reg.predict(np.c_[xx.ravel(), yy.ravel()])\n",
        "\n",
        "# Put the result into a color plot\n",
        "Z = Z.reshape(xx.shape)\n",
        "plt.figure(1, figsize=(15, 10))\n",
        "plt.pcolormesh(xx, yy, Z, cmap=plt.cm.Paired)\n",
        "\n",
        "# Plot also the training points\n",
        "plt.scatter(X_test[:, 0], X_test[:, 1], c=y_test, edgecolors='k', cmap=plt.cm.Paired)\n",
        "plt.xlabel('Sepal length', fontsize=15)\n",
        "plt.ylabel('Sepal width', fontsize=15)\n",
        "\n",
        "plt.xlim(xx.min(), xx.max())\n",
        "plt.ylim(yy.min(), yy.max())\n",
        "plt.xticks(())\n",
        "plt.yticks(())\n",
        "plt.title('Decision boundary for the test set')\n",
        "\n",
        "plt.show()"
      ],
      "execution_count": 84,
      "outputs": [
        {
          "output_type": "display_data",
          "data": {
            "text/plain": [
              "<Figure size 1080x720 with 1 Axes>"
            ],
            "image/png": "[encoded data removed]"
          },
          "metadata": {}
        }
      ]
    },
    {
      "cell_type": "code",
      "metadata": {
        "colab": {
          "base_uri": "https://localhost:8080/",
          "height": 550
        },
        "id": "vomS-yyaykOO",
        "outputId": "0b9d404d-4435-4a1e-f359-fbc40d20ff13"
      },
      "source": [
        "# confusion matrix - training set\n",
        "\n",
        "# Plot non-normalized confusion matrix\n",
        "plot_confusion_matrix(y_train, log_reg.predict(X_train), classes=iris.target_names,\n",
        "                      title='Confusion matrix on the training set, without normalization')"
      ],
      "execution_count": 85,
      "outputs": [
        {
          "output_type": "stream",
          "name": "stdout",
          "text": [
            "Confusion matrix, without normalization\n"
          ]
        },
        {
          "output_type": "execute_result",
          "data": {
            "text/plain": [
              "<matplotlib.axes._subplots.AxesSubplot at 0x7f3bc7caf450>"
            ]
          },
          "metadata": {},
          "execution_count": 85
        },
        {
          "output_type": "display_data",
          "data": {
            "text/plain": [
              "<Figure size 720x504 with 2 Axes>"
            ],
            "image/png": "[encoded data removed]"
          },
          "metadata": {}
        }
      ]
    },
    {
      "cell_type": "code",
      "metadata": {
        "colab": {
          "base_uri": "https://localhost:8080/",
          "height": 610
        },
        "id": "lkQPgk_4yt-s",
        "outputId": "fec9ee3b-45c3-432a-ae60-c4beebee7ee4"
      },
      "source": [
        "# Plot the decision boundaries for training set. For that, we will assign a \n",
        "# color to each point in the mesh [x_min, x_max]x[y_min, y_max].\n",
        "x_min, x_max = X_train[:, 0].min() - .2, X_train[:, 0].max() + .2\n",
        "y_min, y_max = X_train[:, 1].min() - .2, X_train[:, 1].max() + .2\n",
        "h = .01  # step size in the mesh\n",
        "xx, yy = np.meshgrid(np.arange(x_min, x_max, h), np.arange(y_min, y_max, h))\n",
        "Z = log_reg.predict(np.c_[xx.ravel(), yy.ravel()])\n",
        "\n",
        "# Put the result into a color plot\n",
        "Z = Z.reshape(xx.shape)\n",
        "plt.figure(1, figsize=(15, 10))\n",
        "plt.pcolormesh(xx, yy, Z, cmap=plt.cm.Paired)\n",
        "\n",
        "# Plot also the training points\n",
        "plt.scatter(X_train[:, 0], X_train[:, 1], c=y_train, edgecolors='k', cmap=plt.cm.Paired)\n",
        "plt.xlabel('Sepal length', fontsize=15)\n",
        "plt.ylabel('Sepal width', fontsize=15)\n",
        "\n",
        "plt.xlim(xx.min(), xx.max())\n",
        "plt.ylim(yy.min(), yy.max())\n",
        "plt.xticks(())\n",
        "plt.yticks(())\n",
        "plt.title('Decision boundary on the training set')\n",
        "\n",
        "plt.show()"
      ],
      "execution_count": 86,
      "outputs": [
        {
          "output_type": "display_data",
          "data": {
            "text/plain": [
              "<Figure size 1080x720 with 1 Axes>"
            ],
            "image/png": "[encoded data removed]"
          },
          "metadata": {}
        }
      ]
    },
    {
      "cell_type": "markdown",
      "metadata": {
        "id": "gCGTIGkOzSvI"
      },
      "source": [
        "\n",
        "## References:\n",
        "[Scikit Learn Library](https://scikit-learn.org/stable/supervised_learning.html#supervised-learning)   \n",
        "[Logistic Regression for Machine Learning by Jason Brownlee PhD](https://machinelearningmastery.com/logistic-regression-for-machine-learning/)  \n",
        "  "
      ]
    }
  ]
}