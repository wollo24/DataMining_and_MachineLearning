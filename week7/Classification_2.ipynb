{
  "nbformat": 4,
  "nbformat_minor": 0,
  "metadata": {
    "colab": {
      "name": "Classification_2.ipynb",
      "provenance": [],
      "collapsed_sections": [],
      "include_colab_link": true
    },
    "kernelspec": {
      "display_name": "Python 3",
      "language": "python",
      "name": "python3"
    },
    "language_info": {
      "codemirror_mode": {
        "name": "ipython",
        "version": 3
      },
      "file_extension": ".py",
      "mimetype": "text/x-python",
      "name": "python",
      "nbconvert_exporter": "python",
      "pygments_lexer": "ipython3",
      "version": "3.6.9"
    }
  },
  "cells": [
    {
      "cell_type": "markdown",
      "metadata": {
        "id": "view-in-github",
        "colab_type": "text"
      },
      "source": [
        "<a href=\"https://colab.research.google.com/github/michalis0/DataMining_and_MachineLearning/blob/master/week7/Classification_2.ipynb\" target=\"_parent\"><img src=\"https://colab.research.google.com/assets/colab-badge.svg\" alt=\"Open In Colab\"/></a>"
      ]
    },
    {
      "cell_type": "markdown",
      "metadata": {
        "id": "fwKWzkX4sUzG"
      },
      "source": [
        "# Data Mining and Machine Learning - Week 7\n",
        "# Classification 2\n",
        "\n",
        "Classification is a core technique in data science and machine learning that is used to predict the categories of a target variable, based on some existing labelled dataset. There are many algorithms that we can use, for example:\n",
        "* Logistic Regression *(already covered in week 6)*\n",
        "* K-Nearest Neighbours (KNN)\n",
        "* Decision Tree\n",
        "* Random Forest\n",
        "* Support Vector Machines (SVM)\n",
        "* Naive Bayes\n",
        "* Neural Networks\n",
        "* Etc.\n",
        "\n",
        "Documentation about supervised learning algorithms (including classification and regression) with sklearn can be found [here](https://scikit-learn.org/stable/supervised_learning.html#supervised-learning). \n",
        "\n",
        "This week we cover **K-Nearest Neighbours (KNN)** and **Decision Trees**.\n",
        "\n",
        "## Table of Contents\n",
        "#### 1. Introduction /recap on some important concepts\n",
        "\n",
        "\n",
        "#### 2. Basic examples\n",
        "\n",
        "#### 3. Drug classification with different algorithms\n",
        "\n",
        "#### 4. Exercise\n"
      ]
    },
    {
      "cell_type": "markdown",
      "metadata": {
        "id": "6Npu1v_aqCOO"
      },
      "source": [
        "## 1. Intro & recap on some important concepts\n",
        "We first recap some concepts seen in class."
      ]
    },
    {
      "cell_type": "markdown",
      "metadata": {
        "id": "2oX9rJjEPP_S"
      },
      "source": [
        "### 1.1 KNN\n",
        "\n",
        "In the K-Nearest Neighbors algorithm, in order to classify a point, we measure the distance (e.g. Euclidean distance) to the nearest k instances of the training set, and let them vote. K is typically chosen to be an odd number.\n",
        "\n",
        "![KNN](https://miro.medium.com/max/1300/0*Sk18h9op6uK9EpT8.)\n",
        "\n",
        "\n",
        "The KNN algorithm is very useful when there are non-linear decision boundaries, as shown below.\n",
        "\n",
        "![KNN2](https://miro.medium.com/max/374/1*-W7HOfNfWk5BeXgF5jao6g.png)"
      ]
    },
    {
      "cell_type": "markdown",
      "metadata": {
        "id": "resaJFoDWA1w"
      },
      "source": [
        "### 1.2 Decision Trees\n",
        "\n",
        "Decison trees are also good at handling non linearly separable data. The tree is built based on the training set. At each node, the algorithm chooses a splitting rule (based on a feature) that maximizes the accuracy of the model. More precisely, at every split the algorithm maximizes a certain criterion previously given (e.g. Gini index, information gain). \n",
        "\n",
        "The objective of the algorithm is to find the simplest possible decison tree (i.e. only a few nodes = a small depth) with high accuracy. \n",
        "\n",
        "In the example below, if we would have chosen another criterion for the first split (e.g. \"Exercises in the morning\"), we could have ended up with a lower accuracy and/or more splits (i.e. a more complex tree). \n",
        "\n",
        "![DT2](https://cdn.educba.com/academy/wp-content/uploads/2019/05/is-a-person-fit.png)"
      ]
    },
    {
      "cell_type": "markdown",
      "metadata": {
        "id": "HvO_eR7nqI0j"
      },
      "source": [
        "## 2. Basic examples\n",
        "We illustrate KNN and Decision Tree with simple synthetic data sets."
      ]
    },
    {
      "cell_type": "code",
      "metadata": {
        "id": "fJ2nghivqQw3"
      },
      "source": [
        "# Import\n",
        "import pandas as pd\n",
        "import matplotlib.pyplot as plt\n",
        "import seaborn as sns\n",
        "import numpy as np\n",
        "\n",
        "from sklearn.metrics import confusion_matrix, accuracy_score\n",
        "\n",
        "# Customize plots\n",
        "%matplotlib inline\n",
        "sns.set_theme(style=\"white\")\n",
        "plt.style.use('grayscale')"
      ],
      "execution_count": null,
      "outputs": []
    },
    {
      "cell_type": "markdown",
      "metadata": {
        "id": "H_irgNanWGoL"
      },
      "source": [
        "### 2.1 KNN\n",
        "We create data from scratch. We generate 16 points in the plane [0,1]. Points with low values of x1 and x2 are associated with class 0 and points with high values of x1 and x2 are associated with class 1."
      ]
    },
    {
      "cell_type": "code",
      "metadata": {
        "id": "OFaVbSpZqHVc",
        "colab": {
          "base_uri": "https://localhost:8080/",
          "height": 551
        },
        "outputId": "9321c431-480e-4652-dce0-a46870b3683d"
      },
      "source": [
        "# Create Data\n",
        "data = {\"x1\":[0, 0.4, 0.15, 0.05, 0.4, 0.20, 0, 0.45, 1, 0.85, 0.9, 0.7, 0.65, 0.95, 1, 0.8],\n",
        "\"x2\":[0.2, 0.35, 0, 0.10, 0.4, 0.25, 0.40, 0.35, 0.85, 0.95, 1, 0.65, 0.75, 0.9, 0.9, 0.95],\n",
        "\"y\":[0, 0, 0, 0, 0, 0, 0, 0, 1, 1, 1, 1, 1, 1, 1, 1]}\n",
        "\n",
        "data = pd.DataFrame(data)\n",
        "data"
      ],
      "execution_count": null,
      "outputs": [
        {
          "output_type": "execute_result",
          "data": {
            "text/html": [
              "<div>\n",
              "<style scoped>\n",
              "    .dataframe tbody tr th:only-of-type {\n",
              "        vertical-align: middle;\n",
              "    }\n",
              "\n",
              "    .dataframe tbody tr th {\n",
              "        vertical-align: top;\n",
              "    }\n",
              "\n",
              "    .dataframe thead th {\n",
              "        text-align: right;\n",
              "    }\n",
              "</style>\n",
              "<table border=\"1\" class=\"dataframe\">\n",
              "  <thead>\n",
              "    <tr style=\"text-align: right;\">\n",
              "      <th></th>\n",
              "      <th>x1</th>\n",
              "      <th>x2</th>\n",
              "      <th>y</th>\n",
              "    </tr>\n",
              "  </thead>\n",
              "  <tbody>\n",
              "    <tr>\n",
              "      <th>0</th>\n",
              "      <td>0.00</td>\n",
              "      <td>0.20</td>\n",
              "      <td>0</td>\n",
              "    </tr>\n",
              "    <tr>\n",
              "      <th>1</th>\n",
              "      <td>0.40</td>\n",
              "      <td>0.35</td>\n",
              "      <td>0</td>\n",
              "    </tr>\n",
              "    <tr>\n",
              "      <th>2</th>\n",
              "      <td>0.15</td>\n",
              "      <td>0.00</td>\n",
              "      <td>0</td>\n",
              "    </tr>\n",
              "    <tr>\n",
              "      <th>3</th>\n",
              "      <td>0.05</td>\n",
              "      <td>0.10</td>\n",
              "      <td>0</td>\n",
              "    </tr>\n",
              "    <tr>\n",
              "      <th>4</th>\n",
              "      <td>0.40</td>\n",
              "      <td>0.40</td>\n",
              "      <td>0</td>\n",
              "    </tr>\n",
              "    <tr>\n",
              "      <th>5</th>\n",
              "      <td>0.20</td>\n",
              "      <td>0.25</td>\n",
              "      <td>0</td>\n",
              "    </tr>\n",
              "    <tr>\n",
              "      <th>6</th>\n",
              "      <td>0.00</td>\n",
              "      <td>0.40</td>\n",
              "      <td>0</td>\n",
              "    </tr>\n",
              "    <tr>\n",
              "      <th>7</th>\n",
              "      <td>0.45</td>\n",
              "      <td>0.35</td>\n",
              "      <td>0</td>\n",
              "    </tr>\n",
              "    <tr>\n",
              "      <th>8</th>\n",
              "      <td>1.00</td>\n",
              "      <td>0.85</td>\n",
              "      <td>1</td>\n",
              "    </tr>\n",
              "    <tr>\n",
              "      <th>9</th>\n",
              "      <td>0.85</td>\n",
              "      <td>0.95</td>\n",
              "      <td>1</td>\n",
              "    </tr>\n",
              "    <tr>\n",
              "      <th>10</th>\n",
              "      <td>0.90</td>\n",
              "      <td>1.00</td>\n",
              "      <td>1</td>\n",
              "    </tr>\n",
              "    <tr>\n",
              "      <th>11</th>\n",
              "      <td>0.70</td>\n",
              "      <td>0.65</td>\n",
              "      <td>1</td>\n",
              "    </tr>\n",
              "    <tr>\n",
              "      <th>12</th>\n",
              "      <td>0.65</td>\n",
              "      <td>0.75</td>\n",
              "      <td>1</td>\n",
              "    </tr>\n",
              "    <tr>\n",
              "      <th>13</th>\n",
              "      <td>0.95</td>\n",
              "      <td>0.90</td>\n",
              "      <td>1</td>\n",
              "    </tr>\n",
              "    <tr>\n",
              "      <th>14</th>\n",
              "      <td>1.00</td>\n",
              "      <td>0.90</td>\n",
              "      <td>1</td>\n",
              "    </tr>\n",
              "    <tr>\n",
              "      <th>15</th>\n",
              "      <td>0.80</td>\n",
              "      <td>0.95</td>\n",
              "      <td>1</td>\n",
              "    </tr>\n",
              "  </tbody>\n",
              "</table>\n",
              "</div>"
            ],
            "text/plain": [
              "      x1    x2  y\n",
              "0   0.00  0.20  0\n",
              "1   0.40  0.35  0\n",
              "2   0.15  0.00  0\n",
              "3   0.05  0.10  0\n",
              "4   0.40  0.40  0\n",
              "5   0.20  0.25  0\n",
              "6   0.00  0.40  0\n",
              "7   0.45  0.35  0\n",
              "8   1.00  0.85  1\n",
              "9   0.85  0.95  1\n",
              "10  0.90  1.00  1\n",
              "11  0.70  0.65  1\n",
              "12  0.65  0.75  1\n",
              "13  0.95  0.90  1\n",
              "14  1.00  0.90  1\n",
              "15  0.80  0.95  1"
            ]
          },
          "metadata": {},
          "execution_count": 29
        }
      ]
    },
    {
      "cell_type": "markdown",
      "metadata": {
        "id": "at3Q8Tvuqhbb"
      },
      "source": [
        "We also have 3 new points for which we do not know the class.\n",
        "\n",
        "We want to build  a model (or several to find out to which class, 0 or 1 these 3 point belong."
      ]
    },
    {
      "cell_type": "code",
      "metadata": {
        "id": "OPzW2PLUw7PE",
        "colab": {
          "base_uri": "https://localhost:8080/",
          "height": 143
        },
        "outputId": "5fc24434-3e2a-4a6a-c83e-9dbc3a06e053"
      },
      "source": [
        "# New points\n",
        "p = pd.DataFrame({\"name\":[\"p1\", \"p2\", \"p3\"], \"x1\":[0.15, 0.75, 0.5],\n",
        "\"x2\":[0.35, 0.8, 0.6]})\n",
        "p"
      ],
      "execution_count": null,
      "outputs": [
        {
          "output_type": "execute_result",
          "data": {
            "text/html": [
              "<div>\n",
              "<style scoped>\n",
              "    .dataframe tbody tr th:only-of-type {\n",
              "        vertical-align: middle;\n",
              "    }\n",
              "\n",
              "    .dataframe tbody tr th {\n",
              "        vertical-align: top;\n",
              "    }\n",
              "\n",
              "    .dataframe thead th {\n",
              "        text-align: right;\n",
              "    }\n",
              "</style>\n",
              "<table border=\"1\" class=\"dataframe\">\n",
              "  <thead>\n",
              "    <tr style=\"text-align: right;\">\n",
              "      <th></th>\n",
              "      <th>name</th>\n",
              "      <th>x1</th>\n",
              "      <th>x2</th>\n",
              "    </tr>\n",
              "  </thead>\n",
              "  <tbody>\n",
              "    <tr>\n",
              "      <th>0</th>\n",
              "      <td>p1</td>\n",
              "      <td>0.15</td>\n",
              "      <td>0.35</td>\n",
              "    </tr>\n",
              "    <tr>\n",
              "      <th>1</th>\n",
              "      <td>p2</td>\n",
              "      <td>0.75</td>\n",
              "      <td>0.80</td>\n",
              "    </tr>\n",
              "    <tr>\n",
              "      <th>2</th>\n",
              "      <td>p3</td>\n",
              "      <td>0.50</td>\n",
              "      <td>0.60</td>\n",
              "    </tr>\n",
              "  </tbody>\n",
              "</table>\n",
              "</div>"
            ],
            "text/plain": [
              "  name    x1    x2\n",
              "0   p1  0.15  0.35\n",
              "1   p2  0.75  0.80\n",
              "2   p3  0.50  0.60"
            ]
          },
          "metadata": {},
          "execution_count": 30
        }
      ]
    },
    {
      "cell_type": "markdown",
      "metadata": {
        "id": "v0YmLeFElLsh"
      },
      "source": [
        "First we plot our dataset with the x1 values on the horizontal axis and the x2 values on the vertical axes. We color points according to the y target variable, which only takes values 0 (red) and 1 (blue).\n",
        "\n",
        "The new points are marked by a green x marker."
      ]
    },
    {
      "cell_type": "code",
      "metadata": {
        "id": "C2GaCblLu0FH",
        "colab": {
          "base_uri": "https://localhost:8080/",
          "height": 313
        },
        "outputId": "674f693a-0b0d-4bcc-ab33-e7f43c07cdc7"
      },
      "source": [
        "# Plot\n",
        "data.plot.scatter(\"x1\", \"x2\", c=\"y\", colormap=\"coolwarm_r\", figsize=(7, 5))\n",
        "plt.scatter(p.x1, p.x2, c=\"green\", marker=\"x\")\n",
        "for point in p.values:\n",
        "  plt.text(point[1]+0.01, point[2], point[0])"
      ],
      "execution_count": null,
      "outputs": [
        {
          "output_type": "display_data",
          "data": {
            "image/png": "[encoded data removed]",
            "text/plain": [
              "<Figure size 504x360 with 2 Axes>"
            ]
          },
          "metadata": {}
        }
      ]
    },
    {
      "cell_type": "markdown",
      "metadata": {
        "id": "xJuADOPoq2LI"
      },
      "source": [
        "The two classes can be identified on the above scatter plot. In addition, p1 seems to belong to class 0, p2 to class 1, and this is more difficult for p3. \n",
        "\n",
        "Below we classify the new points using the KNN algorithm with different k (i.e. the number of neightboor we consider). Please note that we skip the train-test split as the dataset is very small, however this should still be applied before training the model in a real-life scenario."
      ]
    },
    {
      "cell_type": "code",
      "metadata": {
        "id": "pfFnVdKwmD0-"
      },
      "source": [
        "# Select X and y\n",
        "X = data[[\"x1\", \"x2\"]]\n",
        "y = data[\"y\"]"
      ],
      "execution_count": null,
      "outputs": []
    },
    {
      "cell_type": "markdown",
      "metadata": {
        "id": "uyeNi09LosoB"
      },
      "source": [
        "First build a simple model using the Sklearn KNeighbordClassifier."
      ]
    },
    {
      "cell_type": "code",
      "metadata": {
        "id": "3zLc0_MhmkFj",
        "colab": {
          "base_uri": "https://localhost:8080/"
        },
        "outputId": "596892d6-879a-44a5-c2a0-785aabb8db28"
      },
      "source": [
        "from sklearn.neighbors import KNeighborsClassifier\n",
        "knn = KNeighborsClassifier()\n",
        "knn.fit(X, y)\n",
        "y_pred = knn.predict(X)\n",
        "y_pred"
      ],
      "execution_count": null,
      "outputs": [
        {
          "output_type": "execute_result",
          "data": {
            "text/plain": [
              "array([0, 0, 0, 0, 0, 0, 0, 0, 1, 1, 1, 1, 1, 1, 1, 1])"
            ]
          },
          "metadata": {},
          "execution_count": 33
        }
      ]
    },
    {
      "cell_type": "markdown",
      "metadata": {
        "id": "hVshJ6Zuo26r"
      },
      "source": [
        "Let's have a look at what parameters it used by default. We can check their meaning by looking the the [documentation](https://scikit-learn.org/stable/modules/generated/sklearn.neighbors.KNeighborsClassifier.html).\n",
        "\n",
        "* How many neighbors? `n_neighbors` this is the number of neighbors to use. The default is 5.  \n",
        "* What similarity/distance measure to use? `p` set p=2  to use the Euclidean distance (L2) and p = 1 to use the Manhattan distance (l1)\n",
        "* What weight to give to the different neighbors? `weights` use uniform if all points should be given equal weight, use distance if you want to weigh neighbors by the inverse of their distance."
      ]
    },
    {
      "cell_type": "code",
      "metadata": {
        "id": "b8rc0pAZnnWY",
        "colab": {
          "base_uri": "https://localhost:8080/"
        },
        "outputId": "f81748b8-81a4-4af0-e7d3-0a82f07b5a62"
      },
      "source": [
        "knn"
      ],
      "execution_count": null,
      "outputs": [
        {
          "output_type": "execute_result",
          "data": {
            "text/plain": [
              "KNeighborsClassifier(algorithm='auto', leaf_size=30, metric='minkowski',\n",
              "                     metric_params=None, n_jobs=None, n_neighbors=5, p=2,\n",
              "                     weights='uniform')"
            ]
          },
          "metadata": {},
          "execution_count": 34
        }
      ]
    },
    {
      "cell_type": "markdown",
      "metadata": {
        "id": "oM9NSaRpr4XA"
      },
      "source": [
        "But let's get back to our 3 points with unknown labels and see what class KNN would predict for them for different values of k."
      ]
    },
    {
      "cell_type": "code",
      "metadata": {
        "id": "_Ly5UMD_x8Rb",
        "colab": {
          "base_uri": "https://localhost:8080/",
          "height": 338
        },
        "outputId": "f48eaa4b-b4da-48e3-92b8-7243e3eefae5"
      },
      "source": [
        "# KNN plot\n",
        "fig, ax = plt.subplots(1, 3, figsize=(18,5))\n",
        "i = 0\n",
        "for k in [1, 3, 5]:\n",
        "  model = KNeighborsClassifier(n_neighbors=k).fit(X,y)\n",
        "  pred = model.predict(p[[\"x1\", \"x2\"]])\n",
        "  ax[i].scatter(data.x1, data.x2, c=data.y, cmap=\"coolwarm_r\")\n",
        "  ax[i].scatter(p.x1, p.x2, c=pred, cmap=\"coolwarm_r\", marker=\"x\")\n",
        "  ax[i].set_title(\"KNN with k = \" + str(k))\n",
        "  i += 1"
      ],
      "execution_count": null,
      "outputs": [
        {
          "output_type": "display_data",
          "data": {
            "image/png": "[encoded data removed]",
            "text/plain": [
              "<Figure size 1296x360 with 3 Axes>"
            ]
          },
          "metadata": {}
        }
      ]
    },
    {
      "cell_type": "markdown",
      "metadata": {
        "id": "0jB0jxPytQPj"
      },
      "source": [
        "For k = 1 and k = 3, p3 belongs to class 0 while it belongs to class 1 for k = 5."
      ]
    },
    {
      "cell_type": "markdown",
      "metadata": {
        "id": "rWH8CXE9WKFJ"
      },
      "source": [
        "### 2.2 Decision Trees\n",
        "We now present a simple example for demonstrating how to use the decision tree classifier from sklearn. \n",
        "\n",
        "The goal is to learn a model that predicts the salary class (0 or 1) based on some existing individual characteristics. "
      ]
    },
    {
      "cell_type": "code",
      "metadata": {
        "id": "2cgwHKHAZZcb"
      },
      "source": [
        "# Change style (to make the trees below beautiful)\n",
        "plt.style.use('classic')"
      ],
      "execution_count": null,
      "outputs": []
    },
    {
      "cell_type": "code",
      "metadata": {
        "id": "KMod-jACvqm9",
        "colab": {
          "base_uri": "https://localhost:8080/",
          "height": 363
        },
        "outputId": "cc506c52-cc5d-415a-a036-e20ecc613395"
      },
      "source": [
        "# set example equal to 1, 2 and 3 to got through the different examples\n",
        "example = 1 # 1, 2 or 3 \n",
        "\n",
        "if example == 1:\n",
        "  data = {\"Degree\":[\"Apprenticeship\", \"Apprenticeship\", \"Master\", \"Bachelor\", \"Master\", \"Apprenticeship\", \"Bachelor\", \"Bachelor\", \"Master\", \"Master\"],\n",
        "  \"Sex\":[1, 1, 0, 1, 0, 1, 1, 0, 1, 1], \n",
        "  \"Salary Class\":[0, 0, 1, 0, 1, 0, 0, 1, 1, 1]}\n",
        "  data = pd.DataFrame(data)\n",
        "elif example == 2:\n",
        "  data = {\"Age\":[20, 16, 50, 23, 36, 33, 41, 22, 27, 57],\n",
        "  \"Degree\":[\"Apprenticeship\", \"School\", \"Master\", \"Bachelor\", \"Bachelor\", \"Apprenticeship\", \"Bachelor\", \"Bachelor\", \"Master\", \"Master\"],\n",
        "  \"Sex\":[0, 1, 0, 1, 0, 1, 0, 1, 0, 1], \n",
        "  \"Salary Class\":[0, 0, 0, 0, 1, 1, 0, 0, 1, 1]}\n",
        "  data = pd.DataFrame(data)\n",
        "elif example == 3:\n",
        "  data = {\"Degree\":[\"Apprenticeship\", \"School\", \"Master\", \"Bachelor\", \"Bachelor\", \"Apprenticeship\", \"Bachelor\", \"Bachelor\", \"Master\", \"Master\"],\n",
        "  \"Sex\":[0, 1, 0, 1, 0, 1, 0, 1, 0, 1], \n",
        "  \"Salary Class\":[1, 1, 0, 1, 1, 0, 0, 0, 1, 1]}\n",
        "  data = pd.DataFrame(data)\n",
        "else:\n",
        "  data = np.nan\n",
        "  raise ValueError(\"'example' should be 1, 2 or 3\")\n",
        "\n",
        "data"
      ],
      "execution_count": null,
      "outputs": [
        {
          "output_type": "execute_result",
          "data": {
            "text/html": [
              "<div>\n",
              "<style scoped>\n",
              "    .dataframe tbody tr th:only-of-type {\n",
              "        vertical-align: middle;\n",
              "    }\n",
              "\n",
              "    .dataframe tbody tr th {\n",
              "        vertical-align: top;\n",
              "    }\n",
              "\n",
              "    .dataframe thead th {\n",
              "        text-align: right;\n",
              "    }\n",
              "</style>\n",
              "<table border=\"1\" class=\"dataframe\">\n",
              "  <thead>\n",
              "    <tr style=\"text-align: right;\">\n",
              "      <th></th>\n",
              "      <th>Degree</th>\n",
              "      <th>Sex</th>\n",
              "      <th>Salary Class</th>\n",
              "    </tr>\n",
              "  </thead>\n",
              "  <tbody>\n",
              "    <tr>\n",
              "      <th>0</th>\n",
              "      <td>Apprenticeship</td>\n",
              "      <td>1</td>\n",
              "      <td>0</td>\n",
              "    </tr>\n",
              "    <tr>\n",
              "      <th>1</th>\n",
              "      <td>Apprenticeship</td>\n",
              "      <td>1</td>\n",
              "      <td>0</td>\n",
              "    </tr>\n",
              "    <tr>\n",
              "      <th>2</th>\n",
              "      <td>Master</td>\n",
              "      <td>0</td>\n",
              "      <td>1</td>\n",
              "    </tr>\n",
              "    <tr>\n",
              "      <th>3</th>\n",
              "      <td>Bachelor</td>\n",
              "      <td>1</td>\n",
              "      <td>0</td>\n",
              "    </tr>\n",
              "    <tr>\n",
              "      <th>4</th>\n",
              "      <td>Master</td>\n",
              "      <td>0</td>\n",
              "      <td>1</td>\n",
              "    </tr>\n",
              "    <tr>\n",
              "      <th>5</th>\n",
              "      <td>Apprenticeship</td>\n",
              "      <td>1</td>\n",
              "      <td>0</td>\n",
              "    </tr>\n",
              "    <tr>\n",
              "      <th>6</th>\n",
              "      <td>Bachelor</td>\n",
              "      <td>1</td>\n",
              "      <td>0</td>\n",
              "    </tr>\n",
              "    <tr>\n",
              "      <th>7</th>\n",
              "      <td>Bachelor</td>\n",
              "      <td>0</td>\n",
              "      <td>1</td>\n",
              "    </tr>\n",
              "    <tr>\n",
              "      <th>8</th>\n",
              "      <td>Master</td>\n",
              "      <td>1</td>\n",
              "      <td>1</td>\n",
              "    </tr>\n",
              "    <tr>\n",
              "      <th>9</th>\n",
              "      <td>Master</td>\n",
              "      <td>1</td>\n",
              "      <td>1</td>\n",
              "    </tr>\n",
              "  </tbody>\n",
              "</table>\n",
              "</div>"
            ],
            "text/plain": [
              "           Degree  Sex  Salary Class\n",
              "0  Apprenticeship    1             0\n",
              "1  Apprenticeship    1             0\n",
              "2          Master    0             1\n",
              "3        Bachelor    1             0\n",
              "4          Master    0             1\n",
              "5  Apprenticeship    1             0\n",
              "6        Bachelor    1             0\n",
              "7        Bachelor    0             1\n",
              "8          Master    1             1\n",
              "9          Master    1             1"
            ]
          },
          "metadata": {},
          "execution_count": 37
        }
      ]
    },
    {
      "cell_type": "markdown",
      "metadata": {
        "id": "RSfLqzY-KHWo"
      },
      "source": [
        "We have three examples.\n",
        "\n",
        "Example 1: \n",
        "* All \"Master\" belong to class 1.\n",
        "* Among the rest, if sex == 0, then class 1.\n",
        "* A human could do the classification (easy).\n",
        "\n",
        "Example 2:\n",
        "* More difficult to see something...\n",
        "* Hint: look at young people...\n",
        "\n",
        "Example 3:\n",
        "* Illustrates that it is sometimes difficut to classify.\n",
        "* This is because of lack of pattern in the data.\n",
        "* If there is nothing to discover, then the algorithm will discover nothing...\n",
        "* The tree for this model illustrates this well."
      ]
    },
    {
      "cell_type": "code",
      "metadata": {
        "id": "OdVx7-8AR3bs",
        "colab": {
          "base_uri": "https://localhost:8080/",
          "height": 363
        },
        "outputId": "fe39c183-36ce-46b4-f421-6173a940cc62"
      },
      "source": [
        "# Encode the categorical feature\n",
        "from sklearn.preprocessing import OneHotEncoder\n",
        "one_hot = OneHotEncoder()\n",
        "one_hot_degree = one_hot.fit_transform(data[[\"Degree\"]]).toarray()\n",
        "one_hot_degree = pd.DataFrame(one_hot_degree, columns=one_hot.get_feature_names())\n",
        "one_hot_degree"
      ],
      "execution_count": null,
      "outputs": [
        {
          "output_type": "execute_result",
          "data": {
            "text/html": [
              "<div>\n",
              "<style scoped>\n",
              "    .dataframe tbody tr th:only-of-type {\n",
              "        vertical-align: middle;\n",
              "    }\n",
              "\n",
              "    .dataframe tbody tr th {\n",
              "        vertical-align: top;\n",
              "    }\n",
              "\n",
              "    .dataframe thead th {\n",
              "        text-align: right;\n",
              "    }\n",
              "</style>\n",
              "<table border=\"1\" class=\"dataframe\">\n",
              "  <thead>\n",
              "    <tr style=\"text-align: right;\">\n",
              "      <th></th>\n",
              "      <th>x0_Apprenticeship</th>\n",
              "      <th>x0_Bachelor</th>\n",
              "      <th>x0_Master</th>\n",
              "    </tr>\n",
              "  </thead>\n",
              "  <tbody>\n",
              "    <tr>\n",
              "      <th>0</th>\n",
              "      <td>1.0</td>\n",
              "      <td>0.0</td>\n",
              "      <td>0.0</td>\n",
              "    </tr>\n",
              "    <tr>\n",
              "      <th>1</th>\n",
              "      <td>1.0</td>\n",
              "      <td>0.0</td>\n",
              "      <td>0.0</td>\n",
              "    </tr>\n",
              "    <tr>\n",
              "      <th>2</th>\n",
              "      <td>0.0</td>\n",
              "      <td>0.0</td>\n",
              "      <td>1.0</td>\n",
              "    </tr>\n",
              "    <tr>\n",
              "      <th>3</th>\n",
              "      <td>0.0</td>\n",
              "      <td>1.0</td>\n",
              "      <td>0.0</td>\n",
              "    </tr>\n",
              "    <tr>\n",
              "      <th>4</th>\n",
              "      <td>0.0</td>\n",
              "      <td>0.0</td>\n",
              "      <td>1.0</td>\n",
              "    </tr>\n",
              "    <tr>\n",
              "      <th>5</th>\n",
              "      <td>1.0</td>\n",
              "      <td>0.0</td>\n",
              "      <td>0.0</td>\n",
              "    </tr>\n",
              "    <tr>\n",
              "      <th>6</th>\n",
              "      <td>0.0</td>\n",
              "      <td>1.0</td>\n",
              "      <td>0.0</td>\n",
              "    </tr>\n",
              "    <tr>\n",
              "      <th>7</th>\n",
              "      <td>0.0</td>\n",
              "      <td>1.0</td>\n",
              "      <td>0.0</td>\n",
              "    </tr>\n",
              "    <tr>\n",
              "      <th>8</th>\n",
              "      <td>0.0</td>\n",
              "      <td>0.0</td>\n",
              "      <td>1.0</td>\n",
              "    </tr>\n",
              "    <tr>\n",
              "      <th>9</th>\n",
              "      <td>0.0</td>\n",
              "      <td>0.0</td>\n",
              "      <td>1.0</td>\n",
              "    </tr>\n",
              "  </tbody>\n",
              "</table>\n",
              "</div>"
            ],
            "text/plain": [
              "   x0_Apprenticeship  x0_Bachelor  x0_Master\n",
              "0                1.0          0.0        0.0\n",
              "1                1.0          0.0        0.0\n",
              "2                0.0          0.0        1.0\n",
              "3                0.0          1.0        0.0\n",
              "4                0.0          0.0        1.0\n",
              "5                1.0          0.0        0.0\n",
              "6                0.0          1.0        0.0\n",
              "7                0.0          1.0        0.0\n",
              "8                0.0          0.0        1.0\n",
              "9                0.0          0.0        1.0"
            ]
          },
          "metadata": {},
          "execution_count": 38
        }
      ]
    },
    {
      "cell_type": "code",
      "metadata": {
        "id": "3vDIaknpTGFv",
        "colab": {
          "base_uri": "https://localhost:8080/",
          "height": 363
        },
        "outputId": "83184242-f515-4810-c52e-e6d41e69e621"
      },
      "source": [
        "# Concatenate back in the dataframe your one-hot encoded features\n",
        "data_tree = pd.concat([data, one_hot_degree], axis=1)\n",
        "data_tree"
      ],
      "execution_count": null,
      "outputs": [
        {
          "output_type": "execute_result",
          "data": {
            "text/html": [
              "<div>\n",
              "<style scoped>\n",
              "    .dataframe tbody tr th:only-of-type {\n",
              "        vertical-align: middle;\n",
              "    }\n",
              "\n",
              "    .dataframe tbody tr th {\n",
              "        vertical-align: top;\n",
              "    }\n",
              "\n",
              "    .dataframe thead th {\n",
              "        text-align: right;\n",
              "    }\n",
              "</style>\n",
              "<table border=\"1\" class=\"dataframe\">\n",
              "  <thead>\n",
              "    <tr style=\"text-align: right;\">\n",
              "      <th></th>\n",
              "      <th>Degree</th>\n",
              "      <th>Sex</th>\n",
              "      <th>Salary Class</th>\n",
              "      <th>x0_Apprenticeship</th>\n",
              "      <th>x0_Bachelor</th>\n",
              "      <th>x0_Master</th>\n",
              "    </tr>\n",
              "  </thead>\n",
              "  <tbody>\n",
              "    <tr>\n",
              "      <th>0</th>\n",
              "      <td>Apprenticeship</td>\n",
              "      <td>1</td>\n",
              "      <td>0</td>\n",
              "      <td>1.0</td>\n",
              "      <td>0.0</td>\n",
              "      <td>0.0</td>\n",
              "    </tr>\n",
              "    <tr>\n",
              "      <th>1</th>\n",
              "      <td>Apprenticeship</td>\n",
              "      <td>1</td>\n",
              "      <td>0</td>\n",
              "      <td>1.0</td>\n",
              "      <td>0.0</td>\n",
              "      <td>0.0</td>\n",
              "    </tr>\n",
              "    <tr>\n",
              "      <th>2</th>\n",
              "      <td>Master</td>\n",
              "      <td>0</td>\n",
              "      <td>1</td>\n",
              "      <td>0.0</td>\n",
              "      <td>0.0</td>\n",
              "      <td>1.0</td>\n",
              "    </tr>\n",
              "    <tr>\n",
              "      <th>3</th>\n",
              "      <td>Bachelor</td>\n",
              "      <td>1</td>\n",
              "      <td>0</td>\n",
              "      <td>0.0</td>\n",
              "      <td>1.0</td>\n",
              "      <td>0.0</td>\n",
              "    </tr>\n",
              "    <tr>\n",
              "      <th>4</th>\n",
              "      <td>Master</td>\n",
              "      <td>0</td>\n",
              "      <td>1</td>\n",
              "      <td>0.0</td>\n",
              "      <td>0.0</td>\n",
              "      <td>1.0</td>\n",
              "    </tr>\n",
              "    <tr>\n",
              "      <th>5</th>\n",
              "      <td>Apprenticeship</td>\n",
              "      <td>1</td>\n",
              "      <td>0</td>\n",
              "      <td>1.0</td>\n",
              "      <td>0.0</td>\n",
              "      <td>0.0</td>\n",
              "    </tr>\n",
              "    <tr>\n",
              "      <th>6</th>\n",
              "      <td>Bachelor</td>\n",
              "      <td>1</td>\n",
              "      <td>0</td>\n",
              "      <td>0.0</td>\n",
              "      <td>1.0</td>\n",
              "      <td>0.0</td>\n",
              "    </tr>\n",
              "    <tr>\n",
              "      <th>7</th>\n",
              "      <td>Bachelor</td>\n",
              "      <td>0</td>\n",
              "      <td>1</td>\n",
              "      <td>0.0</td>\n",
              "      <td>1.0</td>\n",
              "      <td>0.0</td>\n",
              "    </tr>\n",
              "    <tr>\n",
              "      <th>8</th>\n",
              "      <td>Master</td>\n",
              "      <td>1</td>\n",
              "      <td>1</td>\n",
              "      <td>0.0</td>\n",
              "      <td>0.0</td>\n",
              "      <td>1.0</td>\n",
              "    </tr>\n",
              "    <tr>\n",
              "      <th>9</th>\n",
              "      <td>Master</td>\n",
              "      <td>1</td>\n",
              "      <td>1</td>\n",
              "      <td>0.0</td>\n",
              "      <td>0.0</td>\n",
              "      <td>1.0</td>\n",
              "    </tr>\n",
              "  </tbody>\n",
              "</table>\n",
              "</div>"
            ],
            "text/plain": [
              "           Degree  Sex  Salary Class  x0_Apprenticeship  x0_Bachelor  x0_Master\n",
              "0  Apprenticeship    1             0                1.0          0.0        0.0\n",
              "1  Apprenticeship    1             0                1.0          0.0        0.0\n",
              "2          Master    0             1                0.0          0.0        1.0\n",
              "3        Bachelor    1             0                0.0          1.0        0.0\n",
              "4          Master    0             1                0.0          0.0        1.0\n",
              "5  Apprenticeship    1             0                1.0          0.0        0.0\n",
              "6        Bachelor    1             0                0.0          1.0        0.0\n",
              "7        Bachelor    0             1                0.0          1.0        0.0\n",
              "8          Master    1             1                0.0          0.0        1.0\n",
              "9          Master    1             1                0.0          0.0        1.0"
            ]
          },
          "metadata": {},
          "execution_count": 39
        }
      ]
    },
    {
      "cell_type": "code",
      "metadata": {
        "id": "lsvhV78Wvq5h",
        "colab": {
          "base_uri": "https://localhost:8080/"
        },
        "outputId": "d1893600-3c0d-41ea-8e88-e89c2c6d9c8d"
      },
      "source": [
        "# Select X and y\n",
        "X = data_tree.drop([\"Degree\", \"Salary Class\"], axis=1)\n",
        "y = data_tree[\"Salary Class\"]\n",
        "\n",
        "# Classification\n",
        "from sklearn.tree import DecisionTreeClassifier, plot_tree\n",
        "tree = DecisionTreeClassifier()\n",
        "tree.fit(X, y)\n",
        "tree.score(X, y)"
      ],
      "execution_count": null,
      "outputs": [
        {
          "output_type": "execute_result",
          "data": {
            "text/plain": [
              "1.0"
            ]
          },
          "metadata": {},
          "execution_count": 40
        }
      ]
    },
    {
      "cell_type": "markdown",
      "metadata": {
        "id": "x6GAzxox15tS"
      },
      "source": [
        "Let's plot our decision tree.   \n",
        "It starts with the root in which we have 10 samples (our data points) of which 5 belong to class 0 and 5 belong to class 1.  \n",
        "Each node represents a condition on which the tree splits into branches. The end of a branch that no longer splits is a leaf, in this case salary class 0 (orange) or 1 (blue).  \n",
        "The gini coefficient is our measure of purity of each node. In our dataset we start with 0.5 (corresponds to the 50-50 distribution of classes in the root) and then gradually go down to 0 (maximum purity). "
      ]
    },
    {
      "cell_type": "code",
      "metadata": {
        "id": "FZcmu5EWTeuK",
        "colab": {
          "base_uri": "https://localhost:8080/",
          "height": 352
        },
        "outputId": "f3ecc53e-c32d-4bda-90a8-54c6a467e860"
      },
      "source": [
        "plt.figure(figsize=(5,5))\n",
        "plot_tree(tree, filled=True);"
      ],
      "execution_count": null,
      "outputs": [
        {
          "output_type": "display_data",
          "data": {
            "image/png": "[encoded data removed]",
            "text/plain": [
              "<Figure size 400x400 with 1 Axes>"
            ]
          },
          "metadata": {}
        }
      ]
    },
    {
      "cell_type": "code",
      "metadata": {
        "id": "bTERI0jL9xQT",
        "colab": {
          "base_uri": "https://localhost:8080/",
          "height": 112
        },
        "outputId": "c6d6e0e1-7fd3-4c28-898c-8302b984f678"
      },
      "source": [
        "# To see the splits\n",
        "pd.concat([X, y], axis=1).head(2)"
      ],
      "execution_count": null,
      "outputs": [
        {
          "output_type": "execute_result",
          "data": {
            "text/html": [
              "<div>\n",
              "<style scoped>\n",
              "    .dataframe tbody tr th:only-of-type {\n",
              "        vertical-align: middle;\n",
              "    }\n",
              "\n",
              "    .dataframe tbody tr th {\n",
              "        vertical-align: top;\n",
              "    }\n",
              "\n",
              "    .dataframe thead th {\n",
              "        text-align: right;\n",
              "    }\n",
              "</style>\n",
              "<table border=\"1\" class=\"dataframe\">\n",
              "  <thead>\n",
              "    <tr style=\"text-align: right;\">\n",
              "      <th></th>\n",
              "      <th>Sex</th>\n",
              "      <th>x0_Apprenticeship</th>\n",
              "      <th>x0_Bachelor</th>\n",
              "      <th>x0_Master</th>\n",
              "      <th>Salary Class</th>\n",
              "    </tr>\n",
              "  </thead>\n",
              "  <tbody>\n",
              "    <tr>\n",
              "      <th>0</th>\n",
              "      <td>1</td>\n",
              "      <td>1.0</td>\n",
              "      <td>0.0</td>\n",
              "      <td>0.0</td>\n",
              "      <td>0</td>\n",
              "    </tr>\n",
              "    <tr>\n",
              "      <th>1</th>\n",
              "      <td>1</td>\n",
              "      <td>1.0</td>\n",
              "      <td>0.0</td>\n",
              "      <td>0.0</td>\n",
              "      <td>0</td>\n",
              "    </tr>\n",
              "  </tbody>\n",
              "</table>\n",
              "</div>"
            ],
            "text/plain": [
              "   Sex  x0_Apprenticeship  x0_Bachelor  x0_Master  Salary Class\n",
              "0    1                1.0          0.0        0.0             0\n",
              "1    1                1.0          0.0        0.0             0"
            ]
          },
          "metadata": {},
          "execution_count": 42
        }
      ]
    },
    {
      "cell_type": "markdown",
      "metadata": {
        "id": "RfXhL1X1CfFF"
      },
      "source": [
        "What is the depth of this tree?"
      ]
    },
    {
      "cell_type": "code",
      "metadata": {
        "id": "1-GQ7TMiChiN",
        "colab": {
          "base_uri": "https://localhost:8080/"
        },
        "outputId": "0f3eb74e-fc24-4d4a-c438-0caa4e12429a"
      },
      "source": [
        "tree.get_depth()"
      ],
      "execution_count": null,
      "outputs": [
        {
          "output_type": "execute_result",
          "data": {
            "text/plain": [
              "2"
            ]
          },
          "metadata": {},
          "execution_count": 43
        }
      ]
    },
    {
      "cell_type": "markdown",
      "metadata": {
        "id": "_OhRweN2x5n7"
      },
      "source": [
        "Let's have a look at the parameters of our classifier. For more help, have a look at the [sklearn documentation for this classifier](https://scikit-learn.org/stable/modules/generated/sklearn.tree.DecisionTreeClassifier.html)."
      ]
    },
    {
      "cell_type": "code",
      "metadata": {
        "id": "EuBfQc9ax-1m",
        "colab": {
          "base_uri": "https://localhost:8080/"
        },
        "outputId": "0b63eb98-c0a9-407c-d21b-56048fe6fb3a"
      },
      "source": [
        "tree"
      ],
      "execution_count": null,
      "outputs": [
        {
          "output_type": "execute_result",
          "data": {
            "text/plain": [
              "DecisionTreeClassifier(ccp_alpha=0.0, class_weight=None, criterion='gini',\n",
              "                       max_depth=None, max_features=None, max_leaf_nodes=None,\n",
              "                       min_impurity_decrease=0.0, min_impurity_split=None,\n",
              "                       min_samples_leaf=1, min_samples_split=2,\n",
              "                       min_weight_fraction_leaf=0.0, presort='deprecated',\n",
              "                       random_state=None, splitter='best')"
            ]
          },
          "metadata": {},
          "execution_count": 44
        }
      ]
    },
    {
      "cell_type": "markdown",
      "metadata": {
        "id": "4A2jeuKxyCPI"
      },
      "source": [
        "Some of the parameters reviewed:\n",
        "\n",
        "* Limit the maximum depth of my tree with `max_depth`.\n",
        "\n",
        "* Set a minimum number of observations in each leaf with `min_samples_leaf`\n",
        "\n",
        "With sklearn, the default `criterion` for determining the split at each node is the Gini index. [For more info you can read this Medium post](https://medium.com/analytics-steps/understanding-the-gini-index-and-information-gain-in-decision-trees-ab4720518ba8). It is based on this criterion that the algorithm choses which feature and what condition on this feature to use to make the best split."
      ]
    },
    {
      "cell_type": "markdown",
      "metadata": {
        "id": "PyaYoFnUniu9"
      },
      "source": [
        "#### **Important note**: if you end up with a deep tree and a **train** accuracy close to or equal to 1, there is a big probability of overfitting, as explained [here](https://towardsdatascience.com/how-to-find-decision-tree-depth-via-cross-validation-2bf143f0f3d6). The solution to avoid overfitting and find the best hyperparameters is to use cross-validation. More on this in Section 3 below."
      ]
    },
    {
      "cell_type": "markdown",
      "metadata": {
        "id": "OScpbfpNV0FG"
      },
      "source": [
        "## 3. Drug Classification\n",
        "We classify people into drug categories according to their individual characteristics."
      ]
    },
    {
      "cell_type": "markdown",
      "metadata": {
        "id": "faHiUxP6ZcWx"
      },
      "source": [
        "### 3.1 Load, Clean and Explore Data"
      ]
    },
    {
      "cell_type": "code",
      "metadata": {
        "id": "rjbMSebFfy3F",
        "colab": {
          "base_uri": "https://localhost:8080/",
          "height": 206
        },
        "outputId": "ac88a93e-b485-48c2-d917-667c646e6e3a"
      },
      "source": [
        "# Load dataset\n",
        "url = \"https://raw.githubusercontent.com/michalis0/DataMining_and_MachineLearning/master/week7/data/drug200.csv\"\n",
        "df = pd.read_csv(url)\n",
        "df.head()"
      ],
      "execution_count": null,
      "outputs": [
        {
          "output_type": "execute_result",
          "data": {
            "text/html": [
              "<div>\n",
              "<style scoped>\n",
              "    .dataframe tbody tr th:only-of-type {\n",
              "        vertical-align: middle;\n",
              "    }\n",
              "\n",
              "    .dataframe tbody tr th {\n",
              "        vertical-align: top;\n",
              "    }\n",
              "\n",
              "    .dataframe thead th {\n",
              "        text-align: right;\n",
              "    }\n",
              "</style>\n",
              "<table border=\"1\" class=\"dataframe\">\n",
              "  <thead>\n",
              "    <tr style=\"text-align: right;\">\n",
              "      <th></th>\n",
              "      <th>Age</th>\n",
              "      <th>Sex</th>\n",
              "      <th>BP</th>\n",
              "      <th>Cholesterol</th>\n",
              "      <th>Na_to_K</th>\n",
              "      <th>Drug</th>\n",
              "    </tr>\n",
              "  </thead>\n",
              "  <tbody>\n",
              "    <tr>\n",
              "      <th>0</th>\n",
              "      <td>23</td>\n",
              "      <td>F</td>\n",
              "      <td>HIGH</td>\n",
              "      <td>HIGH</td>\n",
              "      <td>25.355</td>\n",
              "      <td>DrugY</td>\n",
              "    </tr>\n",
              "    <tr>\n",
              "      <th>1</th>\n",
              "      <td>47</td>\n",
              "      <td>M</td>\n",
              "      <td>LOW</td>\n",
              "      <td>HIGH</td>\n",
              "      <td>13.093</td>\n",
              "      <td>drugC</td>\n",
              "    </tr>\n",
              "    <tr>\n",
              "      <th>2</th>\n",
              "      <td>47</td>\n",
              "      <td>M</td>\n",
              "      <td>LOW</td>\n",
              "      <td>HIGH</td>\n",
              "      <td>10.114</td>\n",
              "      <td>drugC</td>\n",
              "    </tr>\n",
              "    <tr>\n",
              "      <th>3</th>\n",
              "      <td>28</td>\n",
              "      <td>F</td>\n",
              "      <td>NORMAL</td>\n",
              "      <td>HIGH</td>\n",
              "      <td>7.798</td>\n",
              "      <td>drugX</td>\n",
              "    </tr>\n",
              "    <tr>\n",
              "      <th>4</th>\n",
              "      <td>61</td>\n",
              "      <td>F</td>\n",
              "      <td>LOW</td>\n",
              "      <td>HIGH</td>\n",
              "      <td>18.043</td>\n",
              "      <td>DrugY</td>\n",
              "    </tr>\n",
              "  </tbody>\n",
              "</table>\n",
              "</div>"
            ],
            "text/plain": [
              "   Age Sex      BP Cholesterol  Na_to_K   Drug\n",
              "0   23   F    HIGH        HIGH   25.355  DrugY\n",
              "1   47   M     LOW        HIGH   13.093  drugC\n",
              "2   47   M     LOW        HIGH   10.114  drugC\n",
              "3   28   F  NORMAL        HIGH    7.798  drugX\n",
              "4   61   F     LOW        HIGH   18.043  DrugY"
            ]
          },
          "metadata": {},
          "execution_count": 45
        }
      ]
    },
    {
      "cell_type": "markdown",
      "metadata": {
        "id": "Bd89fWxOP6aq"
      },
      "source": [
        "The variables:\n",
        "\n",
        "* Age: Age of patient\n",
        "* Sex: Gender of patient\n",
        "* BP: Blood pressure of patient\n",
        "* Cholesterol: Cholesterol of patient\n",
        "* Na_to_K: Sodium to Potassium Ratio in Blood\n",
        "* Drug: Drug Type"
      ]
    },
    {
      "cell_type": "code",
      "metadata": {
        "id": "c2otdRInZNcT",
        "colab": {
          "base_uri": "https://localhost:8080/"
        },
        "outputId": "616eb6f5-f62e-4f1c-d2c6-8cc9a97e077d"
      },
      "source": [
        "df.info()"
      ],
      "execution_count": null,
      "outputs": [
        {
          "output_type": "stream",
          "name": "stdout",
          "text": [
            "<class 'pandas.core.frame.DataFrame'>\n",
            "RangeIndex: 200 entries, 0 to 199\n",
            "Data columns (total 6 columns):\n",
            " #   Column       Non-Null Count  Dtype  \n",
            "---  ------       --------------  -----  \n",
            " 0   Age          200 non-null    int64  \n",
            " 1   Sex          200 non-null    object \n",
            " 2   BP           200 non-null    object \n",
            " 3   Cholesterol  200 non-null    object \n",
            " 4   Na_to_K      200 non-null    float64\n",
            " 5   Drug         200 non-null    object \n",
            "dtypes: float64(1), int64(1), object(4)\n",
            "memory usage: 9.5+ KB\n"
          ]
        }
      ]
    },
    {
      "cell_type": "code",
      "metadata": {
        "id": "NcVceQKJZSmI",
        "colab": {
          "base_uri": "https://localhost:8080/",
          "height": 300
        },
        "outputId": "bca6ada4-218e-4037-b2cb-16106cfa44a1"
      },
      "source": [
        "df.describe()"
      ],
      "execution_count": null,
      "outputs": [
        {
          "output_type": "execute_result",
          "data": {
            "text/html": [
              "<div>\n",
              "<style scoped>\n",
              "    .dataframe tbody tr th:only-of-type {\n",
              "        vertical-align: middle;\n",
              "    }\n",
              "\n",
              "    .dataframe tbody tr th {\n",
              "        vertical-align: top;\n",
              "    }\n",
              "\n",
              "    .dataframe thead th {\n",
              "        text-align: right;\n",
              "    }\n",
              "</style>\n",
              "<table border=\"1\" class=\"dataframe\">\n",
              "  <thead>\n",
              "    <tr style=\"text-align: right;\">\n",
              "      <th></th>\n",
              "      <th>Age</th>\n",
              "      <th>Na_to_K</th>\n",
              "    </tr>\n",
              "  </thead>\n",
              "  <tbody>\n",
              "    <tr>\n",
              "      <th>count</th>\n",
              "      <td>200.000000</td>\n",
              "      <td>200.000000</td>\n",
              "    </tr>\n",
              "    <tr>\n",
              "      <th>mean</th>\n",
              "      <td>44.315000</td>\n",
              "      <td>16.084485</td>\n",
              "    </tr>\n",
              "    <tr>\n",
              "      <th>std</th>\n",
              "      <td>16.544315</td>\n",
              "      <td>7.223956</td>\n",
              "    </tr>\n",
              "    <tr>\n",
              "      <th>min</th>\n",
              "      <td>15.000000</td>\n",
              "      <td>6.269000</td>\n",
              "    </tr>\n",
              "    <tr>\n",
              "      <th>25%</th>\n",
              "      <td>31.000000</td>\n",
              "      <td>10.445500</td>\n",
              "    </tr>\n",
              "    <tr>\n",
              "      <th>50%</th>\n",
              "      <td>45.000000</td>\n",
              "      <td>13.936500</td>\n",
              "    </tr>\n",
              "    <tr>\n",
              "      <th>75%</th>\n",
              "      <td>58.000000</td>\n",
              "      <td>19.380000</td>\n",
              "    </tr>\n",
              "    <tr>\n",
              "      <th>max</th>\n",
              "      <td>74.000000</td>\n",
              "      <td>38.247000</td>\n",
              "    </tr>\n",
              "  </tbody>\n",
              "</table>\n",
              "</div>"
            ],
            "text/plain": [
              "              Age     Na_to_K\n",
              "count  200.000000  200.000000\n",
              "mean    44.315000   16.084485\n",
              "std     16.544315    7.223956\n",
              "min     15.000000    6.269000\n",
              "25%     31.000000   10.445500\n",
              "50%     45.000000   13.936500\n",
              "75%     58.000000   19.380000\n",
              "max     74.000000   38.247000"
            ]
          },
          "metadata": {},
          "execution_count": 47
        }
      ]
    },
    {
      "cell_type": "code",
      "metadata": {
        "id": "JFm6BDY7Z4hQ",
        "colab": {
          "base_uri": "https://localhost:8080/",
          "height": 911
        },
        "outputId": "62f150bb-f43a-42b7-c49a-63fc27c8c1d4"
      },
      "source": [
        "# Univariate Analysis\n",
        "fig, ax = plt.subplots(3, 2, figsize=(20,15))\n",
        "i = 0\n",
        "j = 0\n",
        "for var in df:\n",
        "  if df[var].dtypes == \"object\":\n",
        "    sns.countplot(x=df[var], ax=ax[i, j])\n",
        "  else:\n",
        "    sns.histplot(df[var], ax=ax[i, j])\n",
        "  i += 1\n",
        "  if i == 3:\n",
        "    i = 0\n",
        "    j += 1\n",
        "plt.show()"
      ],
      "execution_count": null,
      "outputs": [
        {
          "output_type": "display_data",
          "data": {
            "image/png": "[encoded data removed]",
            "text/plain": [
              "<Figure size 1600x1200 with 6 Axes>"
            ]
          },
          "metadata": {}
        }
      ]
    },
    {
      "cell_type": "markdown",
      "metadata": {
        "id": "5SQTj-PZAAxG"
      },
      "source": [
        "Show the relative frequency of the different drug classes."
      ]
    },
    {
      "cell_type": "code",
      "metadata": {
        "id": "cDvsXzZp_4Co",
        "colab": {
          "base_uri": "https://localhost:8080/"
        },
        "outputId": "6ed3b6b0-e3a6-42a2-ac27-606653c29c1f"
      },
      "source": [
        "df.Drug.value_counts(normalize=True)"
      ],
      "execution_count": null,
      "outputs": [
        {
          "output_type": "execute_result",
          "data": {
            "text/plain": [
              "DrugY    0.455\n",
              "drugX    0.270\n",
              "drugA    0.115\n",
              "drugC    0.080\n",
              "drugB    0.080\n",
              "Name: Drug, dtype: float64"
            ]
          },
          "metadata": {},
          "execution_count": 49
        }
      ]
    },
    {
      "cell_type": "code",
      "metadata": {
        "id": "iJEvXYYTjUmp",
        "colab": {
          "base_uri": "https://localhost:8080/",
          "height": 448
        },
        "outputId": "5a37ad00-4dcb-46cc-8b0e-179c038133bf"
      },
      "source": [
        "plt.figure(figsize=(10,10))\n",
        "sns.pairplot(df, hue=\"Drug\")"
      ],
      "execution_count": null,
      "outputs": [
        {
          "output_type": "execute_result",
          "data": {
            "text/plain": [
              "<seaborn.axisgrid.PairGrid at 0x7faea5384950>"
            ]
          },
          "metadata": {},
          "execution_count": 50
        },
        {
          "output_type": "display_data",
          "data": {
            "text/plain": [
              "<Figure size 800x800 with 0 Axes>"
            ]
          },
          "metadata": {}
        },
        {
          "output_type": "display_data",
          "data": {
            "image/png": "[encoded data removed]",
            "text/plain": [
              "<Figure size 506.975x400 with 6 Axes>"
            ]
          },
          "metadata": {}
        }
      ]
    },
    {
      "cell_type": "markdown",
      "metadata": {
        "id": "9CMFLdbyQw-K"
      },
      "source": [
        "We see that all people with a Na_to_K ratio above around 15 take DrugY. This will be useful for classification."
      ]
    },
    {
      "cell_type": "markdown",
      "metadata": {
        "id": "_ZmQvvtdj8uX"
      },
      "source": [
        "### 3.2 Prepare data for algorthms"
      ]
    },
    {
      "cell_type": "code",
      "metadata": {
        "id": "C6-ulxgXir5l",
        "colab": {
          "base_uri": "https://localhost:8080/",
          "height": 424
        },
        "outputId": "9010fb04-fc74-49ce-ccdf-7d202236e45c"
      },
      "source": [
        "df"
      ],
      "execution_count": null,
      "outputs": [
        {
          "output_type": "execute_result",
          "data": {
            "text/html": [
              "<div>\n",
              "<style scoped>\n",
              "    .dataframe tbody tr th:only-of-type {\n",
              "        vertical-align: middle;\n",
              "    }\n",
              "\n",
              "    .dataframe tbody tr th {\n",
              "        vertical-align: top;\n",
              "    }\n",
              "\n",
              "    .dataframe thead th {\n",
              "        text-align: right;\n",
              "    }\n",
              "</style>\n",
              "<table border=\"1\" class=\"dataframe\">\n",
              "  <thead>\n",
              "    <tr style=\"text-align: right;\">\n",
              "      <th></th>\n",
              "      <th>Age</th>\n",
              "      <th>Sex</th>\n",
              "      <th>BP</th>\n",
              "      <th>Cholesterol</th>\n",
              "      <th>Na_to_K</th>\n",
              "      <th>Drug</th>\n",
              "    </tr>\n",
              "  </thead>\n",
              "  <tbody>\n",
              "    <tr>\n",
              "      <th>0</th>\n",
              "      <td>23</td>\n",
              "      <td>F</td>\n",
              "      <td>HIGH</td>\n",
              "      <td>HIGH</td>\n",
              "      <td>25.355</td>\n",
              "      <td>DrugY</td>\n",
              "    </tr>\n",
              "    <tr>\n",
              "      <th>1</th>\n",
              "      <td>47</td>\n",
              "      <td>M</td>\n",
              "      <td>LOW</td>\n",
              "      <td>HIGH</td>\n",
              "      <td>13.093</td>\n",
              "      <td>drugC</td>\n",
              "    </tr>\n",
              "    <tr>\n",
              "      <th>2</th>\n",
              "      <td>47</td>\n",
              "      <td>M</td>\n",
              "      <td>LOW</td>\n",
              "      <td>HIGH</td>\n",
              "      <td>10.114</td>\n",
              "      <td>drugC</td>\n",
              "    </tr>\n",
              "    <tr>\n",
              "      <th>3</th>\n",
              "      <td>28</td>\n",
              "      <td>F</td>\n",
              "      <td>NORMAL</td>\n",
              "      <td>HIGH</td>\n",
              "      <td>7.798</td>\n",
              "      <td>drugX</td>\n",
              "    </tr>\n",
              "    <tr>\n",
              "      <th>4</th>\n",
              "      <td>61</td>\n",
              "      <td>F</td>\n",
              "      <td>LOW</td>\n",
              "      <td>HIGH</td>\n",
              "      <td>18.043</td>\n",
              "      <td>DrugY</td>\n",
              "    </tr>\n",
              "    <tr>\n",
              "      <th>...</th>\n",
              "      <td>...</td>\n",
              "      <td>...</td>\n",
              "      <td>...</td>\n",
              "      <td>...</td>\n",
              "      <td>...</td>\n",
              "      <td>...</td>\n",
              "    </tr>\n",
              "    <tr>\n",
              "      <th>195</th>\n",
              "      <td>56</td>\n",
              "      <td>F</td>\n",
              "      <td>LOW</td>\n",
              "      <td>HIGH</td>\n",
              "      <td>11.567</td>\n",
              "      <td>drugC</td>\n",
              "    </tr>\n",
              "    <tr>\n",
              "      <th>196</th>\n",
              "      <td>16</td>\n",
              "      <td>M</td>\n",
              "      <td>LOW</td>\n",
              "      <td>HIGH</td>\n",
              "      <td>12.006</td>\n",
              "      <td>drugC</td>\n",
              "    </tr>\n",
              "    <tr>\n",
              "      <th>197</th>\n",
              "      <td>52</td>\n",
              "      <td>M</td>\n",
              "      <td>NORMAL</td>\n",
              "      <td>HIGH</td>\n",
              "      <td>9.894</td>\n",
              "      <td>drugX</td>\n",
              "    </tr>\n",
              "    <tr>\n",
              "      <th>198</th>\n",
              "      <td>23</td>\n",
              "      <td>M</td>\n",
              "      <td>NORMAL</td>\n",
              "      <td>NORMAL</td>\n",
              "      <td>14.020</td>\n",
              "      <td>drugX</td>\n",
              "    </tr>\n",
              "    <tr>\n",
              "      <th>199</th>\n",
              "      <td>40</td>\n",
              "      <td>F</td>\n",
              "      <td>LOW</td>\n",
              "      <td>NORMAL</td>\n",
              "      <td>11.349</td>\n",
              "      <td>drugX</td>\n",
              "    </tr>\n",
              "  </tbody>\n",
              "</table>\n",
              "<p>200 rows × 6 columns</p>\n",
              "</div>"
            ],
            "text/plain": [
              "     Age Sex      BP Cholesterol  Na_to_K   Drug\n",
              "0     23   F    HIGH        HIGH   25.355  DrugY\n",
              "1     47   M     LOW        HIGH   13.093  drugC\n",
              "2     47   M     LOW        HIGH   10.114  drugC\n",
              "3     28   F  NORMAL        HIGH    7.798  drugX\n",
              "4     61   F     LOW        HIGH   18.043  DrugY\n",
              "..   ...  ..     ...         ...      ...    ...\n",
              "195   56   F     LOW        HIGH   11.567  drugC\n",
              "196   16   M     LOW        HIGH   12.006  drugC\n",
              "197   52   M  NORMAL        HIGH    9.894  drugX\n",
              "198   23   M  NORMAL      NORMAL   14.020  drugX\n",
              "199   40   F     LOW      NORMAL   11.349  drugX\n",
              "\n",
              "[200 rows x 6 columns]"
            ]
          },
          "metadata": {},
          "execution_count": 51
        }
      ]
    },
    {
      "cell_type": "markdown",
      "metadata": {
        "id": "eP_X6ui0_GZp"
      },
      "source": [
        "Label encoding: two possibilities\n",
        "\n",
        "Using ColumnTransformer from sklearn"
      ]
    },
    {
      "cell_type": "code",
      "metadata": {
        "id": "iLIURoE06G4c",
        "colab": {
          "base_uri": "https://localhost:8080/",
          "height": 424
        },
        "outputId": "13b1a1c9-b808-43c8-f24e-07d7c37f399a"
      },
      "source": [
        "from sklearn.preprocessing import OrdinalEncoder\n",
        "from sklearn.compose import ColumnTransformer\n",
        "\n",
        "# instantiate encoder\n",
        "oe=OrdinalEncoder()\n",
        "# select variables for label encoding\n",
        "categorical_cols=['Sex', 'BP', 'Cholesterol', 'Drug']\n",
        "# set up your preprocessor (name, transformer, columns to transform)\n",
        "preprocessor = ColumnTransformer([('categorical', oe, categorical_cols)], remainder='passthrough')\n",
        "# fit pre-processor\n",
        "encoded_df = pd.DataFrame(preprocessor.fit_transform(df), columns=['Sex', 'BP', 'Cholesterol', 'Drug', 'Age', 'Na_to_K'])\n",
        "encoded_df"
      ],
      "execution_count": null,
      "outputs": [
        {
          "output_type": "execute_result",
          "data": {
            "text/html": [
              "<div>\n",
              "<style scoped>\n",
              "    .dataframe tbody tr th:only-of-type {\n",
              "        vertical-align: middle;\n",
              "    }\n",
              "\n",
              "    .dataframe tbody tr th {\n",
              "        vertical-align: top;\n",
              "    }\n",
              "\n",
              "    .dataframe thead th {\n",
              "        text-align: right;\n",
              "    }\n",
              "</style>\n",
              "<table border=\"1\" class=\"dataframe\">\n",
              "  <thead>\n",
              "    <tr style=\"text-align: right;\">\n",
              "      <th></th>\n",
              "      <th>Sex</th>\n",
              "      <th>BP</th>\n",
              "      <th>Cholesterol</th>\n",
              "      <th>Drug</th>\n",
              "      <th>Age</th>\n",
              "      <th>Na_to_K</th>\n",
              "    </tr>\n",
              "  </thead>\n",
              "  <tbody>\n",
              "    <tr>\n",
              "      <th>0</th>\n",
              "      <td>0.0</td>\n",
              "      <td>0.0</td>\n",
              "      <td>0.0</td>\n",
              "      <td>0.0</td>\n",
              "      <td>23.0</td>\n",
              "      <td>25.355</td>\n",
              "    </tr>\n",
              "    <tr>\n",
              "      <th>1</th>\n",
              "      <td>1.0</td>\n",
              "      <td>1.0</td>\n",
              "      <td>0.0</td>\n",
              "      <td>3.0</td>\n",
              "      <td>47.0</td>\n",
              "      <td>13.093</td>\n",
              "    </tr>\n",
              "    <tr>\n",
              "      <th>2</th>\n",
              "      <td>1.0</td>\n",
              "      <td>1.0</td>\n",
              "      <td>0.0</td>\n",
              "      <td>3.0</td>\n",
              "      <td>47.0</td>\n",
              "      <td>10.114</td>\n",
              "    </tr>\n",
              "    <tr>\n",
              "      <th>3</th>\n",
              "      <td>0.0</td>\n",
              "      <td>2.0</td>\n",
              "      <td>0.0</td>\n",
              "      <td>4.0</td>\n",
              "      <td>28.0</td>\n",
              "      <td>7.798</td>\n",
              "    </tr>\n",
              "    <tr>\n",
              "      <th>4</th>\n",
              "      <td>0.0</td>\n",
              "      <td>1.0</td>\n",
              "      <td>0.0</td>\n",
              "      <td>0.0</td>\n",
              "      <td>61.0</td>\n",
              "      <td>18.043</td>\n",
              "    </tr>\n",
              "    <tr>\n",
              "      <th>...</th>\n",
              "      <td>...</td>\n",
              "      <td>...</td>\n",
              "      <td>...</td>\n",
              "      <td>...</td>\n",
              "      <td>...</td>\n",
              "      <td>...</td>\n",
              "    </tr>\n",
              "    <tr>\n",
              "      <th>195</th>\n",
              "      <td>0.0</td>\n",
              "      <td>1.0</td>\n",
              "      <td>0.0</td>\n",
              "      <td>3.0</td>\n",
              "      <td>56.0</td>\n",
              "      <td>11.567</td>\n",
              "    </tr>\n",
              "    <tr>\n",
              "      <th>196</th>\n",
              "      <td>1.0</td>\n",
              "      <td>1.0</td>\n",
              "      <td>0.0</td>\n",
              "      <td>3.0</td>\n",
              "      <td>16.0</td>\n",
              "      <td>12.006</td>\n",
              "    </tr>\n",
              "    <tr>\n",
              "      <th>197</th>\n",
              "      <td>1.0</td>\n",
              "      <td>2.0</td>\n",
              "      <td>0.0</td>\n",
              "      <td>4.0</td>\n",
              "      <td>52.0</td>\n",
              "      <td>9.894</td>\n",
              "    </tr>\n",
              "    <tr>\n",
              "      <th>198</th>\n",
              "      <td>1.0</td>\n",
              "      <td>2.0</td>\n",
              "      <td>1.0</td>\n",
              "      <td>4.0</td>\n",
              "      <td>23.0</td>\n",
              "      <td>14.020</td>\n",
              "    </tr>\n",
              "    <tr>\n",
              "      <th>199</th>\n",
              "      <td>0.0</td>\n",
              "      <td>1.0</td>\n",
              "      <td>1.0</td>\n",
              "      <td>4.0</td>\n",
              "      <td>40.0</td>\n",
              "      <td>11.349</td>\n",
              "    </tr>\n",
              "  </tbody>\n",
              "</table>\n",
              "<p>200 rows × 6 columns</p>\n",
              "</div>"
            ],
            "text/plain": [
              "     Sex   BP  Cholesterol  Drug   Age  Na_to_K\n",
              "0    0.0  0.0          0.0   0.0  23.0   25.355\n",
              "1    1.0  1.0          0.0   3.0  47.0   13.093\n",
              "2    1.0  1.0          0.0   3.0  47.0   10.114\n",
              "3    0.0  2.0          0.0   4.0  28.0    7.798\n",
              "4    0.0  1.0          0.0   0.0  61.0   18.043\n",
              "..   ...  ...          ...   ...   ...      ...\n",
              "195  0.0  1.0          0.0   3.0  56.0   11.567\n",
              "196  1.0  1.0          0.0   3.0  16.0   12.006\n",
              "197  1.0  2.0          0.0   4.0  52.0    9.894\n",
              "198  1.0  2.0          1.0   4.0  23.0   14.020\n",
              "199  0.0  1.0          1.0   4.0  40.0   11.349\n",
              "\n",
              "[200 rows x 6 columns]"
            ]
          },
          "metadata": {},
          "execution_count": 52
        }
      ]
    },
    {
      "cell_type": "markdown",
      "metadata": {
        "id": "XRffId5C_YUL"
      },
      "source": [
        "Or label encoding using the Pandas `astype` function."
      ]
    },
    {
      "cell_type": "code",
      "metadata": {
        "id": "sxGYBM4Mh-6N",
        "colab": {
          "base_uri": "https://localhost:8080/",
          "height": 424
        },
        "outputId": "4164f9f5-aef2-4c6a-e6c7-f494bb9c838a"
      },
      "source": [
        "# Label Encoding\n",
        "df.Sex = df.Sex.astype('category').cat.codes\n",
        "df.BP = df.BP.astype('category').cat.codes\n",
        "df.Cholesterol = df.Cholesterol.astype('category').cat.codes\n",
        "df.Drug = df.Drug.astype('category').cat.codes\n",
        "df"
      ],
      "execution_count": null,
      "outputs": [
        {
          "output_type": "execute_result",
          "data": {
            "text/html": [
              "<div>\n",
              "<style scoped>\n",
              "    .dataframe tbody tr th:only-of-type {\n",
              "        vertical-align: middle;\n",
              "    }\n",
              "\n",
              "    .dataframe tbody tr th {\n",
              "        vertical-align: top;\n",
              "    }\n",
              "\n",
              "    .dataframe thead th {\n",
              "        text-align: right;\n",
              "    }\n",
              "</style>\n",
              "<table border=\"1\" class=\"dataframe\">\n",
              "  <thead>\n",
              "    <tr style=\"text-align: right;\">\n",
              "      <th></th>\n",
              "      <th>Age</th>\n",
              "      <th>Sex</th>\n",
              "      <th>BP</th>\n",
              "      <th>Cholesterol</th>\n",
              "      <th>Na_to_K</th>\n",
              "      <th>Drug</th>\n",
              "    </tr>\n",
              "  </thead>\n",
              "  <tbody>\n",
              "    <tr>\n",
              "      <th>0</th>\n",
              "      <td>23</td>\n",
              "      <td>0</td>\n",
              "      <td>0</td>\n",
              "      <td>0</td>\n",
              "      <td>25.355</td>\n",
              "      <td>0</td>\n",
              "    </tr>\n",
              "    <tr>\n",
              "      <th>1</th>\n",
              "      <td>47</td>\n",
              "      <td>1</td>\n",
              "      <td>1</td>\n",
              "      <td>0</td>\n",
              "      <td>13.093</td>\n",
              "      <td>3</td>\n",
              "    </tr>\n",
              "    <tr>\n",
              "      <th>2</th>\n",
              "      <td>47</td>\n",
              "      <td>1</td>\n",
              "      <td>1</td>\n",
              "      <td>0</td>\n",
              "      <td>10.114</td>\n",
              "      <td>3</td>\n",
              "    </tr>\n",
              "    <tr>\n",
              "      <th>3</th>\n",
              "      <td>28</td>\n",
              "      <td>0</td>\n",
              "      <td>2</td>\n",
              "      <td>0</td>\n",
              "      <td>7.798</td>\n",
              "      <td>4</td>\n",
              "    </tr>\n",
              "    <tr>\n",
              "      <th>4</th>\n",
              "      <td>61</td>\n",
              "      <td>0</td>\n",
              "      <td>1</td>\n",
              "      <td>0</td>\n",
              "      <td>18.043</td>\n",
              "      <td>0</td>\n",
              "    </tr>\n",
              "    <tr>\n",
              "      <th>...</th>\n",
              "      <td>...</td>\n",
              "      <td>...</td>\n",
              "      <td>...</td>\n",
              "      <td>...</td>\n",
              "      <td>...</td>\n",
              "      <td>...</td>\n",
              "    </tr>\n",
              "    <tr>\n",
              "      <th>195</th>\n",
              "      <td>56</td>\n",
              "      <td>0</td>\n",
              "      <td>1</td>\n",
              "      <td>0</td>\n",
              "      <td>11.567</td>\n",
              "      <td>3</td>\n",
              "    </tr>\n",
              "    <tr>\n",
              "      <th>196</th>\n",
              "      <td>16</td>\n",
              "      <td>1</td>\n",
              "      <td>1</td>\n",
              "      <td>0</td>\n",
              "      <td>12.006</td>\n",
              "      <td>3</td>\n",
              "    </tr>\n",
              "    <tr>\n",
              "      <th>197</th>\n",
              "      <td>52</td>\n",
              "      <td>1</td>\n",
              "      <td>2</td>\n",
              "      <td>0</td>\n",
              "      <td>9.894</td>\n",
              "      <td>4</td>\n",
              "    </tr>\n",
              "    <tr>\n",
              "      <th>198</th>\n",
              "      <td>23</td>\n",
              "      <td>1</td>\n",
              "      <td>2</td>\n",
              "      <td>1</td>\n",
              "      <td>14.020</td>\n",
              "      <td>4</td>\n",
              "    </tr>\n",
              "    <tr>\n",
              "      <th>199</th>\n",
              "      <td>40</td>\n",
              "      <td>0</td>\n",
              "      <td>1</td>\n",
              "      <td>1</td>\n",
              "      <td>11.349</td>\n",
              "      <td>4</td>\n",
              "    </tr>\n",
              "  </tbody>\n",
              "</table>\n",
              "<p>200 rows × 6 columns</p>\n",
              "</div>"
            ],
            "text/plain": [
              "     Age  Sex  BP  Cholesterol  Na_to_K  Drug\n",
              "0     23    0   0            0   25.355     0\n",
              "1     47    1   1            0   13.093     3\n",
              "2     47    1   1            0   10.114     3\n",
              "3     28    0   2            0    7.798     4\n",
              "4     61    0   1            0   18.043     0\n",
              "..   ...  ...  ..          ...      ...   ...\n",
              "195   56    0   1            0   11.567     3\n",
              "196   16    1   1            0   12.006     3\n",
              "197   52    1   2            0    9.894     4\n",
              "198   23    1   2            1   14.020     4\n",
              "199   40    0   1            1   11.349     4\n",
              "\n",
              "[200 rows x 6 columns]"
            ]
          },
          "metadata": {},
          "execution_count": 53
        }
      ]
    },
    {
      "cell_type": "code",
      "metadata": {
        "id": "U7JuXQRykCW4",
        "colab": {
          "base_uri": "https://localhost:8080/",
          "height": 424
        },
        "outputId": "4b2a76b7-b311-4a57-8d73-a3f0a47e3da1"
      },
      "source": [
        "# Select Features\n",
        "X = df.drop([\"Drug\"], axis=1)\n",
        "y = df.Drug\n",
        "\n",
        "# Train test split\n",
        "from sklearn.model_selection import train_test_split\n",
        "X_train, X_test, y_train, y_test = train_test_split(X, y, test_size=0.35, random_state=72)\n",
        "X_train"
      ],
      "execution_count": null,
      "outputs": [
        {
          "output_type": "execute_result",
          "data": {
            "text/html": [
              "<div>\n",
              "<style scoped>\n",
              "    .dataframe tbody tr th:only-of-type {\n",
              "        vertical-align: middle;\n",
              "    }\n",
              "\n",
              "    .dataframe tbody tr th {\n",
              "        vertical-align: top;\n",
              "    }\n",
              "\n",
              "    .dataframe thead th {\n",
              "        text-align: right;\n",
              "    }\n",
              "</style>\n",
              "<table border=\"1\" class=\"dataframe\">\n",
              "  <thead>\n",
              "    <tr style=\"text-align: right;\">\n",
              "      <th></th>\n",
              "      <th>Age</th>\n",
              "      <th>Sex</th>\n",
              "      <th>BP</th>\n",
              "      <th>Cholesterol</th>\n",
              "      <th>Na_to_K</th>\n",
              "    </tr>\n",
              "  </thead>\n",
              "  <tbody>\n",
              "    <tr>\n",
              "      <th>90</th>\n",
              "      <td>62</td>\n",
              "      <td>1</td>\n",
              "      <td>2</td>\n",
              "      <td>0</td>\n",
              "      <td>16.594</td>\n",
              "    </tr>\n",
              "    <tr>\n",
              "      <th>163</th>\n",
              "      <td>21</td>\n",
              "      <td>0</td>\n",
              "      <td>0</td>\n",
              "      <td>1</td>\n",
              "      <td>28.632</td>\n",
              "    </tr>\n",
              "    <tr>\n",
              "      <th>76</th>\n",
              "      <td>36</td>\n",
              "      <td>0</td>\n",
              "      <td>0</td>\n",
              "      <td>0</td>\n",
              "      <td>11.198</td>\n",
              "    </tr>\n",
              "    <tr>\n",
              "      <th>113</th>\n",
              "      <td>65</td>\n",
              "      <td>0</td>\n",
              "      <td>1</td>\n",
              "      <td>1</td>\n",
              "      <td>13.769</td>\n",
              "    </tr>\n",
              "    <tr>\n",
              "      <th>98</th>\n",
              "      <td>20</td>\n",
              "      <td>1</td>\n",
              "      <td>0</td>\n",
              "      <td>1</td>\n",
              "      <td>35.639</td>\n",
              "    </tr>\n",
              "    <tr>\n",
              "      <th>...</th>\n",
              "      <td>...</td>\n",
              "      <td>...</td>\n",
              "      <td>...</td>\n",
              "      <td>...</td>\n",
              "      <td>...</td>\n",
              "    </tr>\n",
              "    <tr>\n",
              "      <th>69</th>\n",
              "      <td>18</td>\n",
              "      <td>0</td>\n",
              "      <td>0</td>\n",
              "      <td>1</td>\n",
              "      <td>24.276</td>\n",
              "    </tr>\n",
              "    <tr>\n",
              "      <th>101</th>\n",
              "      <td>45</td>\n",
              "      <td>0</td>\n",
              "      <td>0</td>\n",
              "      <td>0</td>\n",
              "      <td>12.854</td>\n",
              "    </tr>\n",
              "    <tr>\n",
              "      <th>74</th>\n",
              "      <td>31</td>\n",
              "      <td>1</td>\n",
              "      <td>0</td>\n",
              "      <td>1</td>\n",
              "      <td>17.069</td>\n",
              "    </tr>\n",
              "    <tr>\n",
              "      <th>46</th>\n",
              "      <td>37</td>\n",
              "      <td>0</td>\n",
              "      <td>0</td>\n",
              "      <td>0</td>\n",
              "      <td>13.091</td>\n",
              "    </tr>\n",
              "    <tr>\n",
              "      <th>19</th>\n",
              "      <td>32</td>\n",
              "      <td>0</td>\n",
              "      <td>0</td>\n",
              "      <td>1</td>\n",
              "      <td>25.974</td>\n",
              "    </tr>\n",
              "  </tbody>\n",
              "</table>\n",
              "<p>130 rows × 5 columns</p>\n",
              "</div>"
            ],
            "text/plain": [
              "     Age  Sex  BP  Cholesterol  Na_to_K\n",
              "90    62    1   2            0   16.594\n",
              "163   21    0   0            1   28.632\n",
              "76    36    0   0            0   11.198\n",
              "113   65    0   1            1   13.769\n",
              "98    20    1   0            1   35.639\n",
              "..   ...  ...  ..          ...      ...\n",
              "69    18    0   0            1   24.276\n",
              "101   45    0   0            0   12.854\n",
              "74    31    1   0            1   17.069\n",
              "46    37    0   0            0   13.091\n",
              "19    32    0   0            1   25.974\n",
              "\n",
              "[130 rows x 5 columns]"
            ]
          },
          "metadata": {},
          "execution_count": 54
        }
      ]
    },
    {
      "cell_type": "markdown",
      "metadata": {
        "id": "U7PpgrxA_TxC"
      },
      "source": [
        "Calculate the base rate."
      ]
    },
    {
      "cell_type": "code",
      "metadata": {
        "id": "SOPuiBqekmOG",
        "colab": {
          "base_uri": "https://localhost:8080/"
        },
        "outputId": "2ac05eec-4270-458b-b3b1-186088814aa0"
      },
      "source": [
        "from sklearn.dummy import DummyClassifier\n",
        "\n",
        "# instantiate with the \"most frequent\" parameter\n",
        "dummy = DummyClassifier(strategy='most_frequent')\n",
        "\n",
        "# fit it as if we had no X features to train it on\n",
        "dummy.fit(None, y_train)\n",
        "\n",
        "#compute test baseline and store it for later\n",
        "baseline = dummy.score(None, y_test)\n",
        "baseline"
      ],
      "execution_count": null,
      "outputs": [
        {
          "output_type": "execute_result",
          "data": {
            "text/plain": [
              "0.42857142857142855"
            ]
          },
          "metadata": {},
          "execution_count": 55
        }
      ]
    },
    {
      "cell_type": "markdown",
      "metadata": {
        "id": "gJJWrJoelD9c"
      },
      "source": [
        "### 3.3 KNN and tuning hyperparameters with GridSearch"
      ]
    },
    {
      "cell_type": "markdown",
      "metadata": {
        "id": "kQxYdNAn_24P"
      },
      "source": [
        "We first need to normalize (i.e. rescale) the data since we are using distances. The `MinMaxScaler()` maps the data in the interval (0,1)."
      ]
    },
    {
      "cell_type": "code",
      "metadata": {
        "id": "7uyNJdmHkmR_",
        "colab": {
          "base_uri": "https://localhost:8080/"
        },
        "outputId": "6ae1ef1a-8fdf-468e-afe6-ee32bcac483f"
      },
      "source": [
        "# Normalization (since distance)\n",
        "from sklearn.preprocessing import MinMaxScaler\n",
        "scaler = MinMaxScaler()\n",
        "scaler.fit(X_train) #note fit only on X_train, then transofrm both X_train and X_test\n",
        "X_train_norm = scaler.transform(X_train) \n",
        "X_test_norm = scaler.transform(X_test)\n",
        "X_train_norm[:10]"
      ],
      "execution_count": null,
      "outputs": [
        {
          "output_type": "execute_result",
          "data": {
            "text/plain": [
              "array([[0.79661017, 1.        , 1.        , 0.        , 0.32287823],\n",
              "       [0.10169492, 0.        , 0.        , 1.        , 0.69932454],\n",
              "       [0.3559322 , 0.        , 0.        , 0.        , 0.15413722],\n",
              "       [0.84745763, 0.        , 0.5       , 1.        , 0.23453624],\n",
              "       [0.08474576, 1.        , 0.        , 1.        , 0.91844393],\n",
              "       [0.13559322, 0.        , 0.        , 0.        , 0.59684783],\n",
              "       [0.52542373, 1.        , 1.        , 1.        , 0.03177184],\n",
              "       [0.72881356, 0.        , 0.        , 1.        , 0.24923385],\n",
              "       [0.3559322 , 1.        , 0.5       , 1.        , 0.16120458],\n",
              "       [0.88135593, 1.        , 1.        , 1.        , 0.10147601]])"
            ]
          },
          "metadata": {},
          "execution_count": 56
        }
      ]
    },
    {
      "cell_type": "markdown",
      "metadata": {
        "id": "Bz07h_ak_-HI"
      },
      "source": [
        "It is also possible to normalize using a ColumnTransformer from sklearn."
      ]
    },
    {
      "cell_type": "code",
      "metadata": {
        "id": "E7aCPWeJAJmx",
        "colab": {
          "base_uri": "https://localhost:8080/"
        },
        "outputId": "c4052da9-8821-41db-e481-1a2c4194ff5e"
      },
      "source": [
        "# instantiate scaler\n",
        "scaler = MinMaxScaler()\n",
        "\n",
        "# select X variables for normalization (here all but could be fewer)\n",
        "normalized_cols=['Age', 'Sex', 'BP', 'Cholesterol', 'Na_to_K']\n",
        "# set up your preprocessor (name, transformer, columns to transform)\n",
        "preprocessor = ColumnTransformer([('minmax', scaler, normalized_cols)], remainder='passthrough')\n",
        "# fit pre-processor\n",
        "X_train_norm = preprocessor.fit_transform(X_train) #note fit_trasnform on X_train\n",
        "X_test_norm = preprocessor.transform(X_test) # note ONLY trasnform on X_test\n",
        "X_train_norm[:10]"
      ],
      "execution_count": null,
      "outputs": [
        {
          "output_type": "execute_result",
          "data": {
            "text/plain": [
              "array([[0.79661017, 1.        , 1.        , 0.        , 0.32287823],\n",
              "       [0.10169492, 0.        , 0.        , 1.        , 0.69932454],\n",
              "       [0.3559322 , 0.        , 0.        , 0.        , 0.15413722],\n",
              "       [0.84745763, 0.        , 0.5       , 1.        , 0.23453624],\n",
              "       [0.08474576, 1.        , 0.        , 1.        , 0.91844393],\n",
              "       [0.13559322, 0.        , 0.        , 0.        , 0.59684783],\n",
              "       [0.52542373, 1.        , 1.        , 1.        , 0.03177184],\n",
              "       [0.72881356, 0.        , 0.        , 1.        , 0.24923385],\n",
              "       [0.3559322 , 1.        , 0.5       , 1.        , 0.16120458],\n",
              "       [0.88135593, 1.        , 1.        , 1.        , 0.10147601]])"
            ]
          },
          "metadata": {},
          "execution_count": 57
        }
      ]
    },
    {
      "cell_type": "markdown",
      "metadata": {
        "id": "TENa86OKAMS0"
      },
      "source": [
        "And now fit the KNN model."
      ]
    },
    {
      "cell_type": "code",
      "metadata": {
        "id": "Z224TwfGkmVU",
        "colab": {
          "base_uri": "https://localhost:8080/",
          "height": 728
        },
        "outputId": "7cbbc5c7-36ae-42d1-a917-9c6d1f12b70d"
      },
      "source": [
        "# Fit KNN model\n",
        "k = 5\n",
        "knn = KNeighborsClassifier(n_neighbors=k)\n",
        "knn.fit(X_train_norm, y_train)\n",
        "\n",
        "# Prediction for test set\n",
        "y_pred = knn.predict(X_test_norm)\n",
        "\n",
        "# Evaluate model\n",
        "def accuracy_conf_mat(y_test, y_pred):\n",
        "  print(round(accuracy_score(y_test, y_pred), 4))\n",
        "  conf_mat = confusion_matrix(y_test, y_pred)\n",
        "  fig, ax = plt.subplots(figsize=(10,10))\n",
        "  sns.heatmap(conf_mat, annot=True, fmt='d')\n",
        "  plt.ylabel('Actual')\n",
        "  plt.xlabel('Predicted')\n",
        "  plt.show()\n",
        "\n",
        "accuracy_conf_mat(y_test, y_pred)"
      ],
      "execution_count": null,
      "outputs": [
        {
          "output_type": "stream",
          "name": "stdout",
          "text": [
            "0.7\n"
          ]
        },
        {
          "output_type": "display_data",
          "data": {
            "image/png": "[encoded data removed]",
            "text/plain": [
              "<Figure size 800x800 with 2 Axes>"
            ]
          },
          "metadata": {}
        }
      ]
    },
    {
      "cell_type": "markdown",
      "metadata": {
        "id": "Hv3z3x4HAxgH"
      },
      "source": [
        "We now want to find which hyperparameters of the [KNN class](https://scikit-learn.org/stable/modules/generated/sklearn.neighbors.KNeighborsClassifier.html) are the optimal ones. For this we use [Grid Search Cross Validation](https://scikit-learn.org/stable/modules/generated/sklearn.model_selection.GridSearchCV.html)."
      ]
    },
    {
      "cell_type": "code",
      "metadata": {
        "id": "ZQjrI_9tkmGF",
        "colab": {
          "base_uri": "https://localhost:8080/"
        },
        "outputId": "94e35197-faad-4376-b5ca-478f0cf02e69"
      },
      "source": [
        "# Grid Search - hyperparameter tuning\n",
        "from sklearn.model_selection import GridSearchCV\n",
        "\n",
        "# Define parameters to test\n",
        "grid = {'n_neighbors':np.arange(1,100),\n",
        "        'p':np.arange(1,3),\n",
        "        'weights':['uniform','distance']\n",
        "       }\n",
        "\n",
        "# Define and fit model\n",
        "knn = KNeighborsClassifier()\n",
        "knn_cv = GridSearchCV(knn, grid, cv=10)\n",
        "knn_cv.fit(X_train_norm, y_train)\n",
        "\n",
        "# Print results\n",
        "print(\"Hyperparameters:\", knn_cv.best_params_)\n",
        "print(\"Train Score:\", round(knn_cv.best_score_, 4))\n",
        "print(\"Test Score:\", round(knn_cv.score(X_test_norm, y_test), 4))"
      ],
      "execution_count": null,
      "outputs": [
        {
          "output_type": "stream",
          "name": "stdout",
          "text": [
            "Hyperparameters: {'n_neighbors': 1, 'p': 2, 'weights': 'uniform'}\n",
            "Train Score: 0.8308\n",
            "Test Score: 0.8143\n"
          ]
        }
      ]
    },
    {
      "cell_type": "code",
      "metadata": {
        "id": "X1dDiXjZJ3lo",
        "colab": {
          "base_uri": "https://localhost:8080/",
          "height": 728
        },
        "outputId": "89f0be61-f313-4a18-bbee-3b2f61d7935a"
      },
      "source": [
        "# Fit optimal KNN model\n",
        "knn = KNeighborsClassifier(n_neighbors=1, p=2, weights='uniform')\n",
        "knn.fit(X_train_norm, y_train)\n",
        "\n",
        "# Prediction for test set\n",
        "y_pred = knn.predict(X_test_norm)\n",
        "\n",
        "# Evaluate model\n",
        "def accuracy_conf_mat(y_test, y_pred):\n",
        "  print(round(accuracy_score(y_test, y_pred), 4))\n",
        "  conf_mat = confusion_matrix(y_test, y_pred)\n",
        "  fig, ax = plt.subplots(figsize=(10,10))\n",
        "  sns.heatmap(conf_mat, annot=True, fmt='d')\n",
        "  plt.ylabel('Actual')\n",
        "  plt.xlabel('Predicted')\n",
        "  plt.show()\n",
        "\n",
        "accuracy_conf_mat(y_test, y_pred)"
      ],
      "execution_count": null,
      "outputs": [
        {
          "output_type": "stream",
          "name": "stdout",
          "text": [
            "0.8143\n"
          ]
        },
        {
          "output_type": "display_data",
          "data": {
            "image/png": "[encoded data removed]",
            "text/plain": [
              "<Figure size 800x800 with 2 Axes>"
            ]
          },
          "metadata": {}
        }
      ]
    },
    {
      "cell_type": "markdown",
      "metadata": {
        "id": "2Dvixd3WjyZ_"
      },
      "source": [
        "### 3.4 Decision Tree"
      ]
    },
    {
      "cell_type": "code",
      "metadata": {
        "id": "Qpr0ZIYMoHYN",
        "colab": {
          "base_uri": "https://localhost:8080/",
          "height": 734
        },
        "outputId": "fc17d4ae-d955-48d8-cef2-3e384552ce15"
      },
      "source": [
        "# Fit model\n",
        "tree = DecisionTreeClassifier()\n",
        "tree.fit(X_train, y_train)\n",
        "\n",
        "# Predict\n",
        "y_pred = tree.predict(X_test)\n",
        "\n",
        "# Evaluate model\n",
        "accuracy_conf_mat(y_test, y_pred)"
      ],
      "execution_count": null,
      "outputs": [
        {
          "output_type": "stream",
          "name": "stdout",
          "text": [
            "0.9714\n"
          ]
        },
        {
          "output_type": "display_data",
          "data": {
            "image/png": "[encoded data removed]",
            "text/plain": [
              "<Figure size 800x800 with 2 Axes>"
            ]
          },
          "metadata": {}
        }
      ]
    },
    {
      "cell_type": "code",
      "metadata": {
        "id": "EXZilnquoH5P",
        "colab": {
          "base_uri": "https://localhost:8080/",
          "height": 801
        },
        "outputId": "e49998bd-5ccf-4d3c-e364-40cac1c0b8da"
      },
      "source": [
        "plt.figure(figsize=(12, 12))\n",
        "plot_tree(tree, filled=True);"
      ],
      "execution_count": null,
      "outputs": [
        {
          "output_type": "display_data",
          "data": {
            "image/png": "[encoded data removed]",
            "text/plain": [
              "<Figure size 960x960 with 1 Axes>"
            ]
          },
          "metadata": {}
        }
      ]
    },
    {
      "cell_type": "code",
      "metadata": {
        "id": "qN_nxhCoC-3y",
        "colab": {
          "base_uri": "https://localhost:8080/"
        },
        "outputId": "f2a9fb8b-c0c4-453f-99e4-70b8e59808f5"
      },
      "source": [
        "tree.get_depth()"
      ],
      "execution_count": null,
      "outputs": [
        {
          "output_type": "execute_result",
          "data": {
            "text/plain": [
              "4"
            ]
          },
          "metadata": {},
          "execution_count": 63
        }
      ]
    },
    {
      "cell_type": "code",
      "metadata": {
        "id": "hYW6rQD3rXL0",
        "colab": {
          "base_uri": "https://localhost:8080/",
          "height": 424
        },
        "outputId": "5ee00350-26d8-4ace-aa90-d08e19229b02"
      },
      "source": [
        "# First split totally identifies the leaf for drug Y (labelled with 0)\n",
        "training_data = pd.concat([X_train, y_train], axis=1)\n",
        "training_data[training_data.Na_to_K > 14.627]"
      ],
      "execution_count": null,
      "outputs": [
        {
          "output_type": "execute_result",
          "data": {
            "text/html": [
              "<div>\n",
              "<style scoped>\n",
              "    .dataframe tbody tr th:only-of-type {\n",
              "        vertical-align: middle;\n",
              "    }\n",
              "\n",
              "    .dataframe tbody tr th {\n",
              "        vertical-align: top;\n",
              "    }\n",
              "\n",
              "    .dataframe thead th {\n",
              "        text-align: right;\n",
              "    }\n",
              "</style>\n",
              "<table border=\"1\" class=\"dataframe\">\n",
              "  <thead>\n",
              "    <tr style=\"text-align: right;\">\n",
              "      <th></th>\n",
              "      <th>Age</th>\n",
              "      <th>Sex</th>\n",
              "      <th>BP</th>\n",
              "      <th>Cholesterol</th>\n",
              "      <th>Na_to_K</th>\n",
              "      <th>Drug</th>\n",
              "    </tr>\n",
              "  </thead>\n",
              "  <tbody>\n",
              "    <tr>\n",
              "      <th>90</th>\n",
              "      <td>62</td>\n",
              "      <td>1</td>\n",
              "      <td>2</td>\n",
              "      <td>0</td>\n",
              "      <td>16.594</td>\n",
              "      <td>0</td>\n",
              "    </tr>\n",
              "    <tr>\n",
              "      <th>163</th>\n",
              "      <td>21</td>\n",
              "      <td>0</td>\n",
              "      <td>0</td>\n",
              "      <td>1</td>\n",
              "      <td>28.632</td>\n",
              "      <td>0</td>\n",
              "    </tr>\n",
              "    <tr>\n",
              "      <th>98</th>\n",
              "      <td>20</td>\n",
              "      <td>1</td>\n",
              "      <td>0</td>\n",
              "      <td>1</td>\n",
              "      <td>35.639</td>\n",
              "      <td>0</td>\n",
              "    </tr>\n",
              "    <tr>\n",
              "      <th>0</th>\n",
              "      <td>23</td>\n",
              "      <td>0</td>\n",
              "      <td>0</td>\n",
              "      <td>0</td>\n",
              "      <td>25.355</td>\n",
              "      <td>0</td>\n",
              "    </tr>\n",
              "    <tr>\n",
              "      <th>6</th>\n",
              "      <td>49</td>\n",
              "      <td>0</td>\n",
              "      <td>2</td>\n",
              "      <td>0</td>\n",
              "      <td>16.275</td>\n",
              "      <td>0</td>\n",
              "    </tr>\n",
              "    <tr>\n",
              "      <th>...</th>\n",
              "      <td>...</td>\n",
              "      <td>...</td>\n",
              "      <td>...</td>\n",
              "      <td>...</td>\n",
              "      <td>...</td>\n",
              "      <td>...</td>\n",
              "    </tr>\n",
              "    <tr>\n",
              "      <th>29</th>\n",
              "      <td>45</td>\n",
              "      <td>1</td>\n",
              "      <td>1</td>\n",
              "      <td>0</td>\n",
              "      <td>17.951</td>\n",
              "      <td>0</td>\n",
              "    </tr>\n",
              "    <tr>\n",
              "      <th>26</th>\n",
              "      <td>31</td>\n",
              "      <td>1</td>\n",
              "      <td>0</td>\n",
              "      <td>0</td>\n",
              "      <td>30.366</td>\n",
              "      <td>0</td>\n",
              "    </tr>\n",
              "    <tr>\n",
              "      <th>69</th>\n",
              "      <td>18</td>\n",
              "      <td>0</td>\n",
              "      <td>0</td>\n",
              "      <td>1</td>\n",
              "      <td>24.276</td>\n",
              "      <td>0</td>\n",
              "    </tr>\n",
              "    <tr>\n",
              "      <th>74</th>\n",
              "      <td>31</td>\n",
              "      <td>1</td>\n",
              "      <td>0</td>\n",
              "      <td>1</td>\n",
              "      <td>17.069</td>\n",
              "      <td>0</td>\n",
              "    </tr>\n",
              "    <tr>\n",
              "      <th>19</th>\n",
              "      <td>32</td>\n",
              "      <td>0</td>\n",
              "      <td>0</td>\n",
              "      <td>1</td>\n",
              "      <td>25.974</td>\n",
              "      <td>0</td>\n",
              "    </tr>\n",
              "  </tbody>\n",
              "</table>\n",
              "<p>61 rows × 6 columns</p>\n",
              "</div>"
            ],
            "text/plain": [
              "     Age  Sex  BP  Cholesterol  Na_to_K  Drug\n",
              "90    62    1   2            0   16.594     0\n",
              "163   21    0   0            1   28.632     0\n",
              "98    20    1   0            1   35.639     0\n",
              "0     23    0   0            0   25.355     0\n",
              "6     49    0   2            0   16.275     0\n",
              "..   ...  ...  ..          ...      ...   ...\n",
              "29    45    1   1            0   17.951     0\n",
              "26    31    1   0            0   30.366     0\n",
              "69    18    0   0            1   24.276     0\n",
              "74    31    1   0            1   17.069     0\n",
              "19    32    0   0            1   25.974     0\n",
              "\n",
              "[61 rows x 6 columns]"
            ]
          },
          "metadata": {},
          "execution_count": 64
        }
      ]
    },
    {
      "cell_type": "code",
      "metadata": {
        "id": "Jqi-T_RYssjN",
        "colab": {
          "base_uri": "https://localhost:8080/"
        },
        "outputId": "f4519a22-6ba1-45dd-a468-cc5a4337c74a"
      },
      "source": [
        "# Accuracy in training set\n",
        "tree.score(X_train, y_train)"
      ],
      "execution_count": null,
      "outputs": [
        {
          "output_type": "execute_result",
          "data": {
            "text/plain": [
              "1.0"
            ]
          },
          "metadata": {},
          "execution_count": 65
        }
      ]
    },
    {
      "cell_type": "markdown",
      "metadata": {
        "id": "LPLKdgNMFCqY"
      },
      "source": [
        "We are not in the above-mentioned case of overfitting here since good results in test data. In addition a depth of 4 with 5 classes is optimal. With real life data, this may be different... We can however try with different tree depths."
      ]
    },
    {
      "cell_type": "code",
      "metadata": {
        "id": "i3N55g4nFzUN",
        "colab": {
          "base_uri": "https://localhost:8080/",
          "height": 1000
        },
        "outputId": "fb2d81ad-b2ce-4267-a9f8-ba02fa85bf60"
      },
      "source": [
        "# Look for simpler trees\n",
        "for depth in [2, 3, 4, 5]:\n",
        "    tree = DecisionTreeClassifier(max_depth=depth).fit(X_train, y_train)\n",
        "    y_pred = tree.predict(X_test)\n",
        "    print(\"Depth: \" + str(depth))\n",
        "    print(round(accuracy_score(y_test, y_pred), 2))\n",
        "    plt.figure(figsize=(6, 6))\n",
        "    plot_tree(tree, filled=True)\n",
        "    plt.show()\n",
        "    print(\"\\n\\n\\n\\n\")"
      ],
      "execution_count": null,
      "outputs": [
        {
          "output_type": "stream",
          "name": "stdout",
          "text": [
            "Depth: 2\n",
            "0.83\n"
          ]
        },
        {
          "output_type": "display_data",
          "data": {
            "image/png": "[encoded data removed]",
            "text/plain": [
              "<Figure size 480x480 with 1 Axes>"
            ]
          },
          "metadata": {}
        },
        {
          "output_type": "stream",
          "name": "stdout",
          "text": [
            "\n",
            "\n",
            "\n",
            "\n",
            "\n",
            "Depth: 3\n",
            "0.81\n"
          ]
        },
        {
          "output_type": "display_data",
          "data": {
            "image/png": "[encoded data removed]",
            "text/plain": [
              "<Figure size 480x480 with 1 Axes>"
            ]
          },
          "metadata": {}
        },
        {
          "output_type": "stream",
          "name": "stdout",
          "text": [
            "\n",
            "\n",
            "\n",
            "\n",
            "\n",
            "Depth: 4\n",
            "0.97\n"
          ]
        },
        {
          "output_type": "display_data",
          "data": {
            "image/png": "[encoded data removed]",
            "text/plain": [
              "<Figure size 480x480 with 1 Axes>"
            ]
          },
          "metadata": {}
        },
        {
          "output_type": "stream",
          "name": "stdout",
          "text": [
            "\n",
            "\n",
            "\n",
            "\n",
            "\n",
            "Depth: 5\n",
            "0.97\n"
          ]
        },
        {
          "output_type": "display_data",
          "data": {
            "image/png": "[encoded data removed]",
            "text/plain": [
              "<Figure size 480x480 with 1 Axes>"
            ]
          },
          "metadata": {}
        },
        {
          "output_type": "stream",
          "name": "stdout",
          "text": [
            "\n",
            "\n",
            "\n",
            "\n",
            "\n"
          ]
        }
      ]
    },
    {
      "cell_type": "markdown",
      "metadata": {
        "id": "kXT2IotiGl08"
      },
      "source": [
        "And this is how we can set up grid search to tune the optimal value of maximum tree depth."
      ]
    },
    {
      "cell_type": "code",
      "metadata": {
        "id": "mN5SVaySEU7O",
        "colab": {
          "base_uri": "https://localhost:8080/"
        },
        "outputId": "c5ea32e9-2fdb-498d-b186-6d212212cb15"
      },
      "source": [
        "# Grid Search - tuning tree depth\n",
        "\n",
        "# Define parameter to test\n",
        "grid = {'max_depth':np.arange(1,7)}\n",
        "\n",
        "# Define and fit model\n",
        "\n",
        "tree = DecisionTreeClassifier()\n",
        "tree_cv = GridSearchCV(tree, grid, cv=5)\n",
        "tree_cv.fit(X_train, y_train)\n",
        "\n",
        "# Print results\n",
        "print(\"Hyperparameters:\", tree_cv.best_params_)\n",
        "print(\"Train Score:\", round(tree_cv.best_score_, 4))\n",
        "print(\"Test Score:\", round(tree_cv.score(X_test, y_test), 4))"
      ],
      "execution_count": null,
      "outputs": [
        {
          "output_type": "stream",
          "name": "stdout",
          "text": [
            "Hyperparameters: {'max_depth': 4}\n",
            "Train Score: 0.9923\n",
            "Test Score: 0.9714\n"
          ]
        }
      ]
    },
    {
      "cell_type": "markdown",
      "metadata": {
        "id": "Ogo9OyixRcEP"
      },
      "source": [
        "### 4. Exercise\n",
        "\n",
        "The objective is to illustrate the power of decision trees with data having non-linear boundaries."
      ]
    },
    {
      "cell_type": "code",
      "metadata": {
        "id": "OQmLmLYfSNJw",
        "colab": {
          "base_uri": "https://localhost:8080/",
          "height": 739
        },
        "outputId": "c6c9fcdd-e4ca-4e23-ab3c-9237fcce3309"
      },
      "source": [
        "# Data Set\n",
        "fruit = {\"width\":[3, 3.5, 3.5, 2.5, 4, 3.2, 3.6, 4.0, 2.8, 3.9, 7.7, 7.2, 7.8, 8.3, 7.3, 7.1, 8.5, 7.3, 9.2, 7.9, 7.3, 8.7],\n",
        "\"height\":[1.5, 2.5, 2, 1.3, 2.1, 7.4, 8.3, 7.9, 9.1, 8.5, 8.1, 7.8, 6.9, 7.4, 7.1, 7.1, 3.8, 4.2, 4.9, 5.4, 3.8, 4.4],\n",
        "\"fruit\":[\"orange\", \"orange\", \"orange\", \"orange\", \"orange\", \"apple\", \"apple\", \"apple\", \"apple\", \"apple\", \"orange\", \"orange\", \"orange\", \"orange\", \"orange\", \"orange\", \"apple\", \"apple\", \"apple\", \"apple\", \"apple\", \"apple\"]}\n",
        "\n",
        "fruit = pd.DataFrame(fruit)\n",
        "fruit"
      ],
      "execution_count": null,
      "outputs": [
        {
          "output_type": "execute_result",
          "data": {
            "text/html": [
              "<div>\n",
              "<style scoped>\n",
              "    .dataframe tbody tr th:only-of-type {\n",
              "        vertical-align: middle;\n",
              "    }\n",
              "\n",
              "    .dataframe tbody tr th {\n",
              "        vertical-align: top;\n",
              "    }\n",
              "\n",
              "    .dataframe thead th {\n",
              "        text-align: right;\n",
              "    }\n",
              "</style>\n",
              "<table border=\"1\" class=\"dataframe\">\n",
              "  <thead>\n",
              "    <tr style=\"text-align: right;\">\n",
              "      <th></th>\n",
              "      <th>width</th>\n",
              "      <th>height</th>\n",
              "      <th>fruit</th>\n",
              "    </tr>\n",
              "  </thead>\n",
              "  <tbody>\n",
              "    <tr>\n",
              "      <th>0</th>\n",
              "      <td>3.0</td>\n",
              "      <td>1.5</td>\n",
              "      <td>orange</td>\n",
              "    </tr>\n",
              "    <tr>\n",
              "      <th>1</th>\n",
              "      <td>3.5</td>\n",
              "      <td>2.5</td>\n",
              "      <td>orange</td>\n",
              "    </tr>\n",
              "    <tr>\n",
              "      <th>2</th>\n",
              "      <td>3.5</td>\n",
              "      <td>2.0</td>\n",
              "      <td>orange</td>\n",
              "    </tr>\n",
              "    <tr>\n",
              "      <th>3</th>\n",
              "      <td>2.5</td>\n",
              "      <td>1.3</td>\n",
              "      <td>orange</td>\n",
              "    </tr>\n",
              "    <tr>\n",
              "      <th>4</th>\n",
              "      <td>4.0</td>\n",
              "      <td>2.1</td>\n",
              "      <td>orange</td>\n",
              "    </tr>\n",
              "    <tr>\n",
              "      <th>5</th>\n",
              "      <td>3.2</td>\n",
              "      <td>7.4</td>\n",
              "      <td>apple</td>\n",
              "    </tr>\n",
              "    <tr>\n",
              "      <th>6</th>\n",
              "      <td>3.6</td>\n",
              "      <td>8.3</td>\n",
              "      <td>apple</td>\n",
              "    </tr>\n",
              "    <tr>\n",
              "      <th>7</th>\n",
              "      <td>4.0</td>\n",
              "      <td>7.9</td>\n",
              "      <td>apple</td>\n",
              "    </tr>\n",
              "    <tr>\n",
              "      <th>8</th>\n",
              "      <td>2.8</td>\n",
              "      <td>9.1</td>\n",
              "      <td>apple</td>\n",
              "    </tr>\n",
              "    <tr>\n",
              "      <th>9</th>\n",
              "      <td>3.9</td>\n",
              "      <td>8.5</td>\n",
              "      <td>apple</td>\n",
              "    </tr>\n",
              "    <tr>\n",
              "      <th>10</th>\n",
              "      <td>7.7</td>\n",
              "      <td>8.1</td>\n",
              "      <td>orange</td>\n",
              "    </tr>\n",
              "    <tr>\n",
              "      <th>11</th>\n",
              "      <td>7.2</td>\n",
              "      <td>7.8</td>\n",
              "      <td>orange</td>\n",
              "    </tr>\n",
              "    <tr>\n",
              "      <th>12</th>\n",
              "      <td>7.8</td>\n",
              "      <td>6.9</td>\n",
              "      <td>orange</td>\n",
              "    </tr>\n",
              "    <tr>\n",
              "      <th>13</th>\n",
              "      <td>8.3</td>\n",
              "      <td>7.4</td>\n",
              "      <td>orange</td>\n",
              "    </tr>\n",
              "    <tr>\n",
              "      <th>14</th>\n",
              "      <td>7.3</td>\n",
              "      <td>7.1</td>\n",
              "      <td>orange</td>\n",
              "    </tr>\n",
              "    <tr>\n",
              "      <th>15</th>\n",
              "      <td>7.1</td>\n",
              "      <td>7.1</td>\n",
              "      <td>orange</td>\n",
              "    </tr>\n",
              "    <tr>\n",
              "      <th>16</th>\n",
              "      <td>8.5</td>\n",
              "      <td>3.8</td>\n",
              "      <td>apple</td>\n",
              "    </tr>\n",
              "    <tr>\n",
              "      <th>17</th>\n",
              "      <td>7.3</td>\n",
              "      <td>4.2</td>\n",
              "      <td>apple</td>\n",
              "    </tr>\n",
              "    <tr>\n",
              "      <th>18</th>\n",
              "      <td>9.2</td>\n",
              "      <td>4.9</td>\n",
              "      <td>apple</td>\n",
              "    </tr>\n",
              "    <tr>\n",
              "      <th>19</th>\n",
              "      <td>7.9</td>\n",
              "      <td>5.4</td>\n",
              "      <td>apple</td>\n",
              "    </tr>\n",
              "    <tr>\n",
              "      <th>20</th>\n",
              "      <td>7.3</td>\n",
              "      <td>3.8</td>\n",
              "      <td>apple</td>\n",
              "    </tr>\n",
              "    <tr>\n",
              "      <th>21</th>\n",
              "      <td>8.7</td>\n",
              "      <td>4.4</td>\n",
              "      <td>apple</td>\n",
              "    </tr>\n",
              "  </tbody>\n",
              "</table>\n",
              "</div>"
            ],
            "text/plain": [
              "    width  height   fruit\n",
              "0     3.0     1.5  orange\n",
              "1     3.5     2.5  orange\n",
              "2     3.5     2.0  orange\n",
              "3     2.5     1.3  orange\n",
              "4     4.0     2.1  orange\n",
              "5     3.2     7.4   apple\n",
              "6     3.6     8.3   apple\n",
              "7     4.0     7.9   apple\n",
              "8     2.8     9.1   apple\n",
              "9     3.9     8.5   apple\n",
              "10    7.7     8.1  orange\n",
              "11    7.2     7.8  orange\n",
              "12    7.8     6.9  orange\n",
              "13    8.3     7.4  orange\n",
              "14    7.3     7.1  orange\n",
              "15    7.1     7.1  orange\n",
              "16    8.5     3.8   apple\n",
              "17    7.3     4.2   apple\n",
              "18    9.2     4.9   apple\n",
              "19    7.9     5.4   apple\n",
              "20    7.3     3.8   apple\n",
              "21    8.7     4.4   apple"
            ]
          },
          "metadata": {},
          "execution_count": 68
        }
      ]
    },
    {
      "cell_type": "code",
      "metadata": {
        "id": "7DKx8aTJiPd6",
        "colab": {
          "base_uri": "https://localhost:8080/",
          "height": 459
        },
        "outputId": "e13a8463-cc58-4d01-994f-86e0bdf6bbd7"
      },
      "source": [
        "# Plot\n",
        "sns.scatterplot(data=fruit, x='width', y='height', hue='fruit');"
      ],
      "execution_count": null,
      "outputs": [
        {
          "output_type": "display_data",
          "data": {
            "image/png": "[encoded data removed]",
            "text/plain": [
              "<Figure size 640x480 with 1 Axes>"
            ]
          },
          "metadata": {}
        }
      ]
    },
    {
      "cell_type": "code",
      "metadata": {
        "id": "0bzB4GyHmSIu"
      },
      "source": [
        "# Select variables\n",
        "X = fruit[[\"width\", \"height\"]]\n",
        "y = fruit.fruit"
      ],
      "execution_count": null,
      "outputs": []
    },
    {
      "cell_type": "code",
      "metadata": {
        "id": "7bC2RP8MHcDz",
        "colab": {
          "base_uri": "https://localhost:8080/"
        },
        "outputId": "4a3a5912-5f27-4386-d0e0-a4f209dbd91c"
      },
      "source": [
        "from sklearn.linear_model import LogisticRegression\n",
        "# 1. Apply a Logistic Regression to the data. What is the train accuracy?\n",
        "LR = LogisticRegression()\n",
        "LR.fit(X, y)"
      ],
      "execution_count": null,
      "outputs": [
        {
          "output_type": "execute_result",
          "data": {
            "text/plain": [
              "LogisticRegression(C=1.0, class_weight=None, dual=False, fit_intercept=True,\n",
              "                   intercept_scaling=1, l1_ratio=None, max_iter=100,\n",
              "                   multi_class='auto', n_jobs=None, penalty='l2',\n",
              "                   random_state=None, solver='lbfgs', tol=0.0001, verbose=0,\n",
              "                   warm_start=False)"
            ]
          },
          "metadata": {},
          "execution_count": 72
        }
      ]
    },
    {
      "cell_type": "code",
      "metadata": {
        "id": "za2OcAmTH8vm"
      },
      "source": [
        "# 2. Apply a Decision Tree to the data."
      ],
      "execution_count": null,
      "outputs": []
    },
    {
      "cell_type": "code",
      "metadata": {
        "id": "UCubtGAEmLIz"
      },
      "source": [
        "# 3. What is the train accuracy? Plot the tree. What is the depth of the tree? "
      ],
      "execution_count": null,
      "outputs": []
    },
    {
      "cell_type": "markdown",
      "metadata": {
        "id": "q1_PtfIztRMQ"
      },
      "source": [
        "## References:\n",
        "https://www.kaggle.com/gorkemgunay/drug-classification-with-different-algorithms/notebook"
      ]
    }
  ]
}