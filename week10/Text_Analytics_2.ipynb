{
  "nbformat": 4,
  "nbformat_minor": 0,
  "metadata": {
    "kernelspec": {
      "display_name": "Python 3",
      "language": "python",
      "name": "python3"
    },
    "language_info": {
      "codemirror_mode": {
        "name": "ipython",
        "version": 3
      },
      "file_extension": ".py",
      "mimetype": "text/x-python",
      "name": "python",
      "nbconvert_exporter": "python",
      "pygments_lexer": "ipython3",
      "version": "3.7.3"
    },
    "colab": {
      "provenance": [],
      "collapsed_sections": [
        "r-lFcpJJPXAq",
        "z-_83p20NjO-"
      ]
    }
  },
  "cells": [
    {
      "cell_type": "markdown",
      "metadata": {
        "id": "view-in-github"
      },
      "source": [
        "<a href=\"https://colab.research.google.com/github/michalis0/DataMining_and_MachineLearning/blob/master/week10/Text_Analytics_2.ipynb\" target=\"_parent\"><img src=\"https://colab.research.google.com/assets/colab-badge.svg\" alt=\"Open In Colab\"/></a>"
      ]
    },
    {
      "cell_type": "markdown",
      "metadata": {
        "id": "onO46LysT2dh"
      },
      "source": [
        "# Data Mining and Machine Learning - Week 10\n",
        "# Text Analytics 2\n",
        "\n",
        "[Text Analytics](https://people.ischool.berkeley.edu/~hearst/text-mining.html) (or text mining) is the process of deriving high-quality information from text. It involves \"the discovery by computer of new, previously unknown information, by automatically extracting information from different written resources.\" Written resources may include websites, books, emails, reviews, and articles.\n",
        "\n",
        "### Table of Contents\n",
        "#### 0. Project: Git and GitHub\n",
        "#### 1. Recap on text representation\n",
        "* 1.1 Some important concepts\n",
        "* 1.2 Bag of Words (BOW)\n",
        "* 1.3 TF-IDF\n",
        "\n",
        "#### 2. Introduction to Gensim and Word Embedding\n",
        "* 2.1 Word embedding with Word2Vec\n",
        "* 2.2 Exercise\n",
        "\n",
        "#### 3. Complaints Classification: TF-IDF vs. Doc2Vec\n",
        "* 3.1 Load and clean data\n",
        "* 3.2 EDA\n",
        "* 3.3 Classification using TF-IDF and Logistic Regression\n",
        "* 3.4 Classification using Doc2Vec and Logistic Regression\n"
      ]
    },
    {
      "cell_type": "markdown",
      "metadata": {
        "id": "EcoTbUAtziKl"
      },
      "source": [
        "## 0. Project: Git and GitHub\n",
        "For the project, you will have to work with Git and GitHub. The following documentation can be useful to you:\n",
        "* [Git and GitHub tutorial for beginners](https://www.youtube.com/playlist?list=PL4cUxeGkcC9goXbgTDQ0n_4TBzOO0ocPR)\n",
        "* [GitHub Desktop video 1](https://www.youtube.com/watch?v=fJtyf62yAb8)\n",
        "* [GitHub Desktop video 2](https://www.youtube.com/watch?v=GqNAD4XoZ6k)\n",
        "* [Git Cheat Sheet](https://education.github.com/git-cheat-sheet-education.pdf)\n"
      ]
    },
    {
      "cell_type": "code",
      "metadata": {
        "id": "M6OazeNbVotv"
      },
      "source": [
        "# Import required packages\n",
        "import gensim\n",
        "import pandas as pd\n",
        "from sklearn.feature_extraction.text import CountVectorizer, TfidfVectorizer\n",
        "import bs4 as bs\n",
        "import urllib.request\n",
        "import spacy\n",
        "import string\n",
        "import math\n",
        "from gensim.models import Word2Vec\n",
        "import matplotlib.pyplot as plt\n",
        "import seaborn as sns\n",
        "\n",
        "# Load English language model of spacy\n",
        "sp = spacy.load('en_core_web_sm')"
      ],
      "execution_count": 32,
      "outputs": []
    },
    {
      "cell_type": "markdown",
      "metadata": {
        "id": "h0VsVUPLT4Tn"
      },
      "source": [
        "## 1. Recap on text representation\n",
        "In order to be able to use texts as inputs for classification, we have to transform them into numbers (i.e. vectors). There are several ways of doing this."
      ]
    },
    {
      "cell_type": "markdown",
      "metadata": {
        "id": "Q95eek-OIIPq"
      },
      "source": [
        "### 1.1 Some important concepts\n",
        "* Document = some text i.e. a string (e.g. a sentence, a tweet, paragraph of text, book, news article, etc.).\n",
        "* Corpus = collection of documents.\n",
        "* Dictionary = list of unique tokens in (preprocessed) corpus.\n",
        "* Vector = mathematical representatation of a document (e.g. Bag of Words).\n",
        "* Model = algorithm used for transforming vectors from one representation to another (e.g. TF-IDF)."
      ]
    },
    {
      "cell_type": "code",
      "metadata": {
        "id": "CZ0TKUegLawc"
      },
      "source": [
        "# A document\n",
        "doc = 'Tom confessed that he had fallen in love with me' # single quotes\n",
        "doc = \"Tom confessed that he had fallen in love with me\" # double quotes\n",
        "doc = \"\"\"Tom confessed that he had fallen in love with me.\"\"\" # triple quotes"
      ],
      "execution_count": 33,
      "outputs": []
    },
    {
      "cell_type": "code",
      "metadata": {
        "id": "i6jZsQ-LLbIG",
        "colab": {
          "base_uri": "https://localhost:8080/"
        },
        "outputId": "0a16c681-7e48-46ec-cfc4-9d649d588793"
      },
      "source": [
        "# A corpus\n",
        "d1 = \"Tom confessed that he had fallen in love with me\"\n",
        "d2 = \"We musn't joke around with love\"\n",
        "d3 = \"Human-caused climate change has caused land ice to melt and ocean water to expand\"\n",
        "d4 = \"Climate change is not really happening\"\n",
        "d5 = \"We asked Tom what he wanted for Christmas\"\n",
        "corpus = [d1, d2, d3, d4, d5]\n",
        "\n",
        "# Preprocessing\n",
        "from gensim.utils import simple_preprocess\n",
        "processed_corpus = []\n",
        "for doc in corpus:\n",
        "  processed_corpus.append(simple_preprocess(doc))\n",
        "processed_corpus"
      ],
      "execution_count": 34,
      "outputs": [
        {
          "output_type": "execute_result",
          "data": {
            "text/plain": [
              "[['tom',\n",
              "  'confessed',\n",
              "  'that',\n",
              "  'he',\n",
              "  'had',\n",
              "  'fallen',\n",
              "  'in',\n",
              "  'love',\n",
              "  'with',\n",
              "  'me'],\n",
              " ['we', 'musn', 'joke', 'around', 'with', 'love'],\n",
              " ['human',\n",
              "  'caused',\n",
              "  'climate',\n",
              "  'change',\n",
              "  'has',\n",
              "  'caused',\n",
              "  'land',\n",
              "  'ice',\n",
              "  'to',\n",
              "  'melt',\n",
              "  'and',\n",
              "  'ocean',\n",
              "  'water',\n",
              "  'to',\n",
              "  'expand'],\n",
              " ['climate', 'change', 'is', 'not', 'really', 'happening'],\n",
              " ['we', 'asked', 'tom', 'what', 'he', 'wanted', 'for', 'christmas']]"
            ]
          },
          "metadata": {},
          "execution_count": 34
        }
      ]
    },
    {
      "cell_type": "code",
      "metadata": {
        "id": "bHO4IVeaN03k",
        "colab": {
          "base_uri": "https://localhost:8080/"
        },
        "outputId": "eef74bbd-ecce-4bc6-f867-c53c6c87ec09"
      },
      "source": [
        "# A dictionary\n",
        "from gensim import corpora\n",
        "dictionary = corpora.Dictionary(processed_corpus)\n",
        "print(dictionary)"
      ],
      "execution_count": 35,
      "outputs": [
        {
          "output_type": "stream",
          "name": "stdout",
          "text": [
            "Dictionary(36 unique tokens: ['confessed', 'fallen', 'had', 'he', 'in']...)\n"
          ]
        }
      ]
    },
    {
      "cell_type": "code",
      "metadata": {
        "id": "M3v9-RrzN0rd",
        "colab": {
          "base_uri": "https://localhost:8080/"
        },
        "outputId": "d5a44cda-99ce-48d9-baba-8e1bed551aa3"
      },
      "source": [
        "dictionary.token2id"
      ],
      "execution_count": 36,
      "outputs": [
        {
          "output_type": "execute_result",
          "data": {
            "text/plain": [
              "{'confessed': 0,\n",
              " 'fallen': 1,\n",
              " 'had': 2,\n",
              " 'he': 3,\n",
              " 'in': 4,\n",
              " 'love': 5,\n",
              " 'me': 6,\n",
              " 'that': 7,\n",
              " 'tom': 8,\n",
              " 'with': 9,\n",
              " 'around': 10,\n",
              " 'joke': 11,\n",
              " 'musn': 12,\n",
              " 'we': 13,\n",
              " 'and': 14,\n",
              " 'caused': 15,\n",
              " 'change': 16,\n",
              " 'climate': 17,\n",
              " 'expand': 18,\n",
              " 'has': 19,\n",
              " 'human': 20,\n",
              " 'ice': 21,\n",
              " 'land': 22,\n",
              " 'melt': 23,\n",
              " 'ocean': 24,\n",
              " 'to': 25,\n",
              " 'water': 26,\n",
              " 'happening': 27,\n",
              " 'is': 28,\n",
              " 'not': 29,\n",
              " 'really': 30,\n",
              " 'asked': 31,\n",
              " 'christmas': 32,\n",
              " 'for': 33,\n",
              " 'wanted': 34,\n",
              " 'what': 35}"
            ]
          },
          "metadata": {},
          "execution_count": 36
        }
      ]
    },
    {
      "cell_type": "markdown",
      "metadata": {
        "id": "cHvrJj5yT8uQ"
      },
      "source": [
        "### 1.2 Bag of Words (BOW)\n",
        "\n",
        "Bag of Words is the simplest approach to achieve the transformation of documents into vectors. It is divided into two basic steps:\n",
        "* Create a dictionary of unique words from the corpus.\n",
        "* Analyse the documents, i.e. for each word in the dictionary and each document, add 1 if the word is in the document, otherwise 0.\n",
        "\n",
        "Let's try to code it from scratch using spacy:"
      ]
    },
    {
      "cell_type": "code",
      "metadata": {
        "id": "Ms5chNYf5lPt"
      },
      "source": [
        "# Tokens in document\n",
        "def get_tokens(document):\n",
        "  doc_tokens = []\n",
        "  for token in sp(document):\n",
        "      if (token.is_punct == False) and (token.is_space == False):\n",
        "        doc_tokens.append(token.lower_)\n",
        "  return doc_tokens"
      ],
      "execution_count": 37,
      "outputs": []
    },
    {
      "cell_type": "code",
      "metadata": {
        "id": "KkeTK3afT0yz",
        "colab": {
          "base_uri": "https://localhost:8080/"
        },
        "outputId": "f7e74945-27c0-4c42-fc02-b2b75c3bf7e0"
      },
      "source": [
        "# List of unique words in corpus (dictionary)\n",
        "def vocabulary(corpus):\n",
        "  # Delare output\n",
        "  word_list = []\n",
        "  # Loop documents - lower each word and add it to the output\n",
        "  for document in corpus:\n",
        "    spacy_doc = sp(document)\n",
        "    for token in spacy_doc:\n",
        "      if token.lower_ not in word_list and (token.is_punct == False) and (token.is_space == False):\n",
        "        word_list.append(token.lower_)\n",
        "  # Return output\n",
        "  return word_list\n",
        "    \n",
        "vocabulary(corpus)"
      ],
      "execution_count": 38,
      "outputs": [
        {
          "output_type": "execute_result",
          "data": {
            "text/plain": [
              "['tom',\n",
              " 'confessed',\n",
              " 'that',\n",
              " 'he',\n",
              " 'had',\n",
              " 'fallen',\n",
              " 'in',\n",
              " 'love',\n",
              " 'with',\n",
              " 'me',\n",
              " 'we',\n",
              " \"musn't\",\n",
              " 'joke',\n",
              " 'around',\n",
              " 'human',\n",
              " 'caused',\n",
              " 'climate',\n",
              " 'change',\n",
              " 'has',\n",
              " 'land',\n",
              " 'ice',\n",
              " 'to',\n",
              " 'melt',\n",
              " 'and',\n",
              " 'ocean',\n",
              " 'water',\n",
              " 'expand',\n",
              " 'is',\n",
              " 'not',\n",
              " 'really',\n",
              " 'happening',\n",
              " 'asked',\n",
              " 'what',\n",
              " 'wanted',\n",
              " 'for',\n",
              " 'christmas']"
            ]
          },
          "metadata": {},
          "execution_count": 38
        }
      ]
    },
    {
      "cell_type": "markdown",
      "metadata": {
        "id": "cFNFfyN6UkAh"
      },
      "source": [
        "We now have a function to get the words of a document and a function to get the unique words of a corpus of documents. We can use them to create the Bag of Words."
      ]
    },
    {
      "cell_type": "code",
      "metadata": {
        "id": "_1DSadtqT1ri",
        "colab": {
          "base_uri": "https://localhost:8080/"
        },
        "outputId": "873193df-a6c4-4b8f-d2ef-3cd0bd84557b"
      },
      "source": [
        "# Bag of Words\n",
        "def bow(document, corpus):\n",
        "  # Get tokens\n",
        "  doc_tokens = get_tokens(document)\n",
        "  corpus_tokens = vocabulary(corpus)\n",
        "  # Initialization\n",
        "  bag = {}\n",
        "  for token in corpus_tokens:\n",
        "    bag[token] = 0\n",
        "  # Add 1 if token is in document\n",
        "  for token in doc_tokens:\n",
        "    bag[token] += 1\n",
        "  # Return\n",
        "  return bag\n",
        "\n",
        "bow(d1, corpus)"
      ],
      "execution_count": 39,
      "outputs": [
        {
          "output_type": "execute_result",
          "data": {
            "text/plain": [
              "{'tom': 1,\n",
              " 'confessed': 1,\n",
              " 'that': 1,\n",
              " 'he': 1,\n",
              " 'had': 1,\n",
              " 'fallen': 1,\n",
              " 'in': 1,\n",
              " 'love': 1,\n",
              " 'with': 1,\n",
              " 'me': 1,\n",
              " 'we': 0,\n",
              " \"musn't\": 0,\n",
              " 'joke': 0,\n",
              " 'around': 0,\n",
              " 'human': 0,\n",
              " 'caused': 0,\n",
              " 'climate': 0,\n",
              " 'change': 0,\n",
              " 'has': 0,\n",
              " 'land': 0,\n",
              " 'ice': 0,\n",
              " 'to': 0,\n",
              " 'melt': 0,\n",
              " 'and': 0,\n",
              " 'ocean': 0,\n",
              " 'water': 0,\n",
              " 'expand': 0,\n",
              " 'is': 0,\n",
              " 'not': 0,\n",
              " 'really': 0,\n",
              " 'happening': 0,\n",
              " 'asked': 0,\n",
              " 'what': 0,\n",
              " 'wanted': 0,\n",
              " 'for': 0,\n",
              " 'christmas': 0}"
            ]
          },
          "metadata": {},
          "execution_count": 39
        }
      ]
    },
    {
      "cell_type": "code",
      "metadata": {
        "id": "EbfVjwmYYU0H",
        "colab": {
          "base_uri": "https://localhost:8080/",
          "height": 235
        },
        "outputId": "d5af7b0e-720c-4b8c-9cf7-e4c40b8a1e07"
      },
      "source": [
        "# Dataframe - all documents in corpus\n",
        "bag_of_words = []\n",
        "for doc in corpus:\n",
        "  bag = bow(doc, corpus)\n",
        "  bag_of_words.append(bag)\n",
        "  \n",
        "pd.DataFrame(bag_of_words)"
      ],
      "execution_count": 40,
      "outputs": [
        {
          "output_type": "execute_result",
          "data": {
            "text/plain": [
              "   tom  confessed  that  he  had  fallen  in  love  with  me  ...  expand  is  \\\n",
              "0    1          1     1   1    1       1   1     1     1   1  ...       0   0   \n",
              "1    0          0     0   0    0       0   0     1     1   0  ...       0   0   \n",
              "2    0          0     0   0    0       0   0     0     0   0  ...       1   0   \n",
              "3    0          0     0   0    0       0   0     0     0   0  ...       0   1   \n",
              "4    1          0     0   1    0       0   0     0     0   0  ...       0   0   \n",
              "\n",
              "   not  really  happening  asked  what  wanted  for  christmas  \n",
              "0    0       0          0      0     0       0    0          0  \n",
              "1    0       0          0      0     0       0    0          0  \n",
              "2    0       0          0      0     0       0    0          0  \n",
              "3    1       1          1      0     0       0    0          0  \n",
              "4    0       0          0      1     1       1    1          1  \n",
              "\n",
              "[5 rows x 36 columns]"
            ],
            "text/html": [
              "\n",
              "  <div id=\"df-22079e27-176d-457d-9fd5-cd3d5026d6c3\">\n",
              "    <div class=\"colab-df-container\">\n",
              "      <div>\n",
              "<style scoped>\n",
              "    .dataframe tbody tr th:only-of-type {\n",
              "        vertical-align: middle;\n",
              "    }\n",
              "\n",
              "    .dataframe tbody tr th {\n",
              "        vertical-align: top;\n",
              "    }\n",
              "\n",
              "    .dataframe thead th {\n",
              "        text-align: right;\n",
              "    }\n",
              "</style>\n",
              "<table border=\"1\" class=\"dataframe\">\n",
              "  <thead>\n",
              "    <tr style=\"text-align: right;\">\n",
              "      <th></th>\n",
              "      <th>tom</th>\n",
              "      <th>confessed</th>\n",
              "      <th>that</th>\n",
              "      <th>he</th>\n",
              "      <th>had</th>\n",
              "      <th>fallen</th>\n",
              "      <th>in</th>\n",
              "      <th>love</th>\n",
              "      <th>with</th>\n",
              "      <th>me</th>\n",
              "      <th>...</th>\n",
              "      <th>expand</th>\n",
              "      <th>is</th>\n",
              "      <th>not</th>\n",
              "      <th>really</th>\n",
              "      <th>happening</th>\n",
              "      <th>asked</th>\n",
              "      <th>what</th>\n",
              "      <th>wanted</th>\n",
              "      <th>for</th>\n",
              "      <th>christmas</th>\n",
              "    </tr>\n",
              "  </thead>\n",
              "  <tbody>\n",
              "    <tr>\n",
              "      <th>0</th>\n",
              "      <td>1</td>\n",
              "      <td>1</td>\n",
              "      <td>1</td>\n",
              "      <td>1</td>\n",
              "      <td>1</td>\n",
              "      <td>1</td>\n",
              "      <td>1</td>\n",
              "      <td>1</td>\n",
              "      <td>1</td>\n",
              "      <td>1</td>\n",
              "      <td>...</td>\n",
              "      <td>0</td>\n",
              "      <td>0</td>\n",
              "      <td>0</td>\n",
              "      <td>0</td>\n",
              "      <td>0</td>\n",
              "      <td>0</td>\n",
              "      <td>0</td>\n",
              "      <td>0</td>\n",
              "      <td>0</td>\n",
              "      <td>0</td>\n",
              "    </tr>\n",
              "    <tr>\n",
              "      <th>1</th>\n",
              "      <td>0</td>\n",
              "      <td>0</td>\n",
              "      <td>0</td>\n",
              "      <td>0</td>\n",
              "      <td>0</td>\n",
              "      <td>0</td>\n",
              "      <td>0</td>\n",
              "      <td>1</td>\n",
              "      <td>1</td>\n",
              "      <td>0</td>\n",
              "      <td>...</td>\n",
              "      <td>0</td>\n",
              "      <td>0</td>\n",
              "      <td>0</td>\n",
              "      <td>0</td>\n",
              "      <td>0</td>\n",
              "      <td>0</td>\n",
              "      <td>0</td>\n",
              "      <td>0</td>\n",
              "      <td>0</td>\n",
              "      <td>0</td>\n",
              "    </tr>\n",
              "    <tr>\n",
              "      <th>2</th>\n",
              "      <td>0</td>\n",
              "      <td>0</td>\n",
              "      <td>0</td>\n",
              "      <td>0</td>\n",
              "      <td>0</td>\n",
              "      <td>0</td>\n",
              "      <td>0</td>\n",
              "      <td>0</td>\n",
              "      <td>0</td>\n",
              "      <td>0</td>\n",
              "      <td>...</td>\n",
              "      <td>1</td>\n",
              "      <td>0</td>\n",
              "      <td>0</td>\n",
              "      <td>0</td>\n",
              "      <td>0</td>\n",
              "      <td>0</td>\n",
              "      <td>0</td>\n",
              "      <td>0</td>\n",
              "      <td>0</td>\n",
              "      <td>0</td>\n",
              "    </tr>\n",
              "    <tr>\n",
              "      <th>3</th>\n",
              "      <td>0</td>\n",
              "      <td>0</td>\n",
              "      <td>0</td>\n",
              "      <td>0</td>\n",
              "      <td>0</td>\n",
              "      <td>0</td>\n",
              "      <td>0</td>\n",
              "      <td>0</td>\n",
              "      <td>0</td>\n",
              "      <td>0</td>\n",
              "      <td>...</td>\n",
              "      <td>0</td>\n",
              "      <td>1</td>\n",
              "      <td>1</td>\n",
              "      <td>1</td>\n",
              "      <td>1</td>\n",
              "      <td>0</td>\n",
              "      <td>0</td>\n",
              "      <td>0</td>\n",
              "      <td>0</td>\n",
              "      <td>0</td>\n",
              "    </tr>\n",
              "    <tr>\n",
              "      <th>4</th>\n",
              "      <td>1</td>\n",
              "      <td>0</td>\n",
              "      <td>0</td>\n",
              "      <td>1</td>\n",
              "      <td>0</td>\n",
              "      <td>0</td>\n",
              "      <td>0</td>\n",
              "      <td>0</td>\n",
              "      <td>0</td>\n",
              "      <td>0</td>\n",
              "      <td>...</td>\n",
              "      <td>0</td>\n",
              "      <td>0</td>\n",
              "      <td>0</td>\n",
              "      <td>0</td>\n",
              "      <td>0</td>\n",
              "      <td>1</td>\n",
              "      <td>1</td>\n",
              "      <td>1</td>\n",
              "      <td>1</td>\n",
              "      <td>1</td>\n",
              "    </tr>\n",
              "  </tbody>\n",
              "</table>\n",
              "<p>5 rows × 36 columns</p>\n",
              "</div>\n",
              "      <button class=\"colab-df-convert\" onclick=\"convertToInteractive('df-22079e27-176d-457d-9fd5-cd3d5026d6c3')\"\n",
              "              title=\"Convert this dataframe to an interactive table.\"\n",
              "              style=\"display:none;\">\n",
              "        \n",
              "  <svg xmlns=\"http://www.w3.org/2000/svg\" height=\"24px\"viewBox=\"0 0 24 24\"\n",
              "       width=\"24px\">\n",
              "    <path d=\"M0 0h24v24H0V0z\" fill=\"none\"/>\n",
              "    <path d=\"M18.56 5.44l.94 2.06.94-2.06 2.06-.94-2.06-.94-.94-2.06-.94 2.06-2.06.94zm-11 1L8.5 8.5l.94-2.06 2.06-.94-2.06-.94L8.5 2.5l-.94 2.06-2.06.94zm10 10l.94 2.06.94-2.06 2.06-.94-2.06-.94-.94-2.06-.94 2.06-2.06.94z\"/><path d=\"M17.41 7.96l-1.37-1.37c-.4-.4-.92-.59-1.43-.59-.52 0-1.04.2-1.43.59L10.3 9.45l-7.72 7.72c-.78.78-.78 2.05 0 2.83L4 21.41c.39.39.9.59 1.41.59.51 0 1.02-.2 1.41-.59l7.78-7.78 2.81-2.81c.8-.78.8-2.07 0-2.86zM5.41 20L4 18.59l7.72-7.72 1.47 1.35L5.41 20z\"/>\n",
              "  </svg>\n",
              "      </button>\n",
              "      \n",
              "  <style>\n",
              "    .colab-df-container {\n",
              "      display:flex;\n",
              "      flex-wrap:wrap;\n",
              "      gap: 12px;\n",
              "    }\n",
              "\n",
              "    .colab-df-convert {\n",
              "      background-color: #E8F0FE;\n",
              "      border: none;\n",
              "      border-radius: 50%;\n",
              "      cursor: pointer;\n",
              "      display: none;\n",
              "      fill: #1967D2;\n",
              "      height: 32px;\n",
              "      padding: 0 0 0 0;\n",
              "      width: 32px;\n",
              "    }\n",
              "\n",
              "    .colab-df-convert:hover {\n",
              "      background-color: #E2EBFA;\n",
              "      box-shadow: 0px 1px 2px rgba(60, 64, 67, 0.3), 0px 1px 3px 1px rgba(60, 64, 67, 0.15);\n",
              "      fill: #174EA6;\n",
              "    }\n",
              "\n",
              "    [theme=dark] .colab-df-convert {\n",
              "      background-color: #3B4455;\n",
              "      fill: #D2E3FC;\n",
              "    }\n",
              "\n",
              "    [theme=dark] .colab-df-convert:hover {\n",
              "      background-color: #434B5C;\n",
              "      box-shadow: 0px 1px 3px 1px rgba(0, 0, 0, 0.15);\n",
              "      filter: drop-shadow(0px 1px 2px rgba(0, 0, 0, 0.3));\n",
              "      fill: #FFFFFF;\n",
              "    }\n",
              "  </style>\n",
              "\n",
              "      <script>\n",
              "        const buttonEl =\n",
              "          document.querySelector('#df-22079e27-176d-457d-9fd5-cd3d5026d6c3 button.colab-df-convert');\n",
              "        buttonEl.style.display =\n",
              "          google.colab.kernel.accessAllowed ? 'block' : 'none';\n",
              "\n",
              "        async function convertToInteractive(key) {\n",
              "          const element = document.querySelector('#df-22079e27-176d-457d-9fd5-cd3d5026d6c3');\n",
              "          const dataTable =\n",
              "            await google.colab.kernel.invokeFunction('convertToInteractive',\n",
              "                                                     [key], {});\n",
              "          if (!dataTable) return;\n",
              "\n",
              "          const docLinkHtml = 'Like what you see? Visit the ' +\n",
              "            '<a target=\"_blank\" href=https://colab.research.google.com/notebooks/data_table.ipynb>data table notebook</a>'\n",
              "            + ' to learn more about interactive tables.';\n",
              "          element.innerHTML = '';\n",
              "          dataTable['output_type'] = 'display_data';\n",
              "          await google.colab.output.renderOutput(dataTable, element);\n",
              "          const docLink = document.createElement('div');\n",
              "          docLink.innerHTML = docLinkHtml;\n",
              "          element.appendChild(docLink);\n",
              "        }\n",
              "      </script>\n",
              "    </div>\n",
              "  </div>\n",
              "  "
            ]
          },
          "metadata": {},
          "execution_count": 40
        }
      ]
    },
    {
      "cell_type": "markdown",
      "metadata": {
        "id": "yr1EQmIeYSqi"
      },
      "source": [
        "Remarks:\n",
        "* This is not perfect (e.g. we could remove stopwords, use n-grams, lemmas).\n",
        "* We can use [CountVectorizer](https://https://scikit-learn.org/stable/modules/generated/sklearn.feature_extraction.text.CountVectorizer.html) from sklearn as shown below."
      ]
    },
    {
      "cell_type": "code",
      "metadata": {
        "id": "eTCKo-uohh_X",
        "colab": {
          "base_uri": "https://localhost:8080/"
        },
        "outputId": "1eca31e5-c5cc-40d2-bd84-01e0ca972a28"
      },
      "source": [
        "# Using CountVectorizer\n",
        "vectorizer = CountVectorizer()\n",
        "bag_of_words = vectorizer.fit_transform(corpus).todense()\n",
        "bag_of_words"
      ],
      "execution_count": 41,
      "outputs": [
        {
          "output_type": "execute_result",
          "data": {
            "text/plain": [
              "matrix([[0, 0, 0, 0, 0, 0, 0, 1, 0, 1, 0, 1, 0, 0, 1, 0, 0, 1, 0, 0, 0,\n",
              "         1, 1, 0, 0, 0, 0, 0, 1, 0, 1, 0, 0, 0, 0, 1],\n",
              "        [0, 1, 0, 0, 0, 0, 0, 0, 0, 0, 0, 0, 0, 0, 0, 0, 0, 0, 0, 1, 0,\n",
              "         1, 0, 0, 1, 0, 0, 0, 0, 0, 0, 0, 0, 1, 0, 1],\n",
              "        [1, 0, 0, 2, 1, 0, 1, 0, 1, 0, 0, 0, 0, 1, 0, 1, 1, 0, 0, 0, 1,\n",
              "         0, 0, 1, 0, 0, 1, 0, 0, 2, 0, 0, 1, 0, 0, 0],\n",
              "        [0, 0, 0, 0, 1, 0, 1, 0, 0, 0, 0, 0, 1, 0, 0, 0, 0, 0, 1, 0, 0,\n",
              "         0, 0, 0, 0, 1, 0, 1, 0, 0, 0, 0, 0, 0, 0, 0],\n",
              "        [0, 0, 1, 0, 0, 1, 0, 0, 0, 0, 1, 0, 0, 0, 1, 0, 0, 0, 0, 0, 0,\n",
              "         0, 0, 0, 0, 0, 0, 0, 0, 0, 1, 1, 0, 1, 1, 0]])"
            ]
          },
          "metadata": {},
          "execution_count": 41
        }
      ]
    },
    {
      "cell_type": "code",
      "metadata": {
        "id": "pG0HqjabiUam",
        "colab": {
          "base_uri": "https://localhost:8080/"
        },
        "outputId": "c08f610b-e615-4ca7-cf01-4dc476538860"
      },
      "source": [
        "# Features\n",
        "vectorizer.vocabulary_"
      ],
      "execution_count": 42,
      "outputs": [
        {
          "output_type": "execute_result",
          "data": {
            "text/plain": [
              "{'tom': 30,\n",
              " 'confessed': 7,\n",
              " 'that': 28,\n",
              " 'he': 14,\n",
              " 'had': 11,\n",
              " 'fallen': 9,\n",
              " 'in': 17,\n",
              " 'love': 21,\n",
              " 'with': 35,\n",
              " 'me': 22,\n",
              " 'we': 33,\n",
              " 'musn': 24,\n",
              " 'joke': 19,\n",
              " 'around': 1,\n",
              " 'human': 15,\n",
              " 'caused': 3,\n",
              " 'climate': 6,\n",
              " 'change': 4,\n",
              " 'has': 13,\n",
              " 'land': 20,\n",
              " 'ice': 16,\n",
              " 'to': 29,\n",
              " 'melt': 23,\n",
              " 'and': 0,\n",
              " 'ocean': 26,\n",
              " 'water': 32,\n",
              " 'expand': 8,\n",
              " 'is': 18,\n",
              " 'not': 25,\n",
              " 'really': 27,\n",
              " 'happening': 12,\n",
              " 'asked': 2,\n",
              " 'what': 34,\n",
              " 'wanted': 31,\n",
              " 'for': 10,\n",
              " 'christmas': 5}"
            ]
          },
          "metadata": {},
          "execution_count": 42
        }
      ]
    },
    {
      "cell_type": "code",
      "metadata": {
        "id": "TYdVJrtTiSbZ",
        "colab": {
          "base_uri": "https://localhost:8080/",
          "height": 291
        },
        "outputId": "a113ebfb-17c7-456b-9d52-7bb789c349ed"
      },
      "source": [
        "# DataFrame\n",
        "bag_of_words = pd.DataFrame(bag_of_words, columns=vectorizer.get_feature_names())\n",
        "bag_of_words"
      ],
      "execution_count": 43,
      "outputs": [
        {
          "output_type": "stream",
          "name": "stderr",
          "text": [
            "/usr/local/lib/python3.7/dist-packages/sklearn/utils/deprecation.py:87: FutureWarning: Function get_feature_names is deprecated; get_feature_names is deprecated in 1.0 and will be removed in 1.2. Please use get_feature_names_out instead.\n",
            "  warnings.warn(msg, category=FutureWarning)\n"
          ]
        },
        {
          "output_type": "execute_result",
          "data": {
            "text/plain": [
              "   and  around  asked  caused  change  christmas  climate  confessed  expand  \\\n",
              "0    0       0      0       0       0          0        0          1       0   \n",
              "1    0       1      0       0       0          0        0          0       0   \n",
              "2    1       0      0       2       1          0        1          0       1   \n",
              "3    0       0      0       0       1          0        1          0       0   \n",
              "4    0       0      1       0       0          1        0          0       0   \n",
              "\n",
              "   fallen  ...  ocean  really  that  to  tom  wanted  water  we  what  with  \n",
              "0       1  ...      0       0     1   0    1       0      0   0     0     1  \n",
              "1       0  ...      0       0     0   0    0       0      0   1     0     1  \n",
              "2       0  ...      1       0     0   2    0       0      1   0     0     0  \n",
              "3       0  ...      0       1     0   0    0       0      0   0     0     0  \n",
              "4       0  ...      0       0     0   0    1       1      0   1     1     0  \n",
              "\n",
              "[5 rows x 36 columns]"
            ],
            "text/html": [
              "\n",
              "  <div id=\"df-9d4bbdf1-cd98-4d05-af44-6b1ab283e694\">\n",
              "    <div class=\"colab-df-container\">\n",
              "      <div>\n",
              "<style scoped>\n",
              "    .dataframe tbody tr th:only-of-type {\n",
              "        vertical-align: middle;\n",
              "    }\n",
              "\n",
              "    .dataframe tbody tr th {\n",
              "        vertical-align: top;\n",
              "    }\n",
              "\n",
              "    .dataframe thead th {\n",
              "        text-align: right;\n",
              "    }\n",
              "</style>\n",
              "<table border=\"1\" class=\"dataframe\">\n",
              "  <thead>\n",
              "    <tr style=\"text-align: right;\">\n",
              "      <th></th>\n",
              "      <th>and</th>\n",
              "      <th>around</th>\n",
              "      <th>asked</th>\n",
              "      <th>caused</th>\n",
              "      <th>change</th>\n",
              "      <th>christmas</th>\n",
              "      <th>climate</th>\n",
              "      <th>confessed</th>\n",
              "      <th>expand</th>\n",
              "      <th>fallen</th>\n",
              "      <th>...</th>\n",
              "      <th>ocean</th>\n",
              "      <th>really</th>\n",
              "      <th>that</th>\n",
              "      <th>to</th>\n",
              "      <th>tom</th>\n",
              "      <th>wanted</th>\n",
              "      <th>water</th>\n",
              "      <th>we</th>\n",
              "      <th>what</th>\n",
              "      <th>with</th>\n",
              "    </tr>\n",
              "  </thead>\n",
              "  <tbody>\n",
              "    <tr>\n",
              "      <th>0</th>\n",
              "      <td>0</td>\n",
              "      <td>0</td>\n",
              "      <td>0</td>\n",
              "      <td>0</td>\n",
              "      <td>0</td>\n",
              "      <td>0</td>\n",
              "      <td>0</td>\n",
              "      <td>1</td>\n",
              "      <td>0</td>\n",
              "      <td>1</td>\n",
              "      <td>...</td>\n",
              "      <td>0</td>\n",
              "      <td>0</td>\n",
              "      <td>1</td>\n",
              "      <td>0</td>\n",
              "      <td>1</td>\n",
              "      <td>0</td>\n",
              "      <td>0</td>\n",
              "      <td>0</td>\n",
              "      <td>0</td>\n",
              "      <td>1</td>\n",
              "    </tr>\n",
              "    <tr>\n",
              "      <th>1</th>\n",
              "      <td>0</td>\n",
              "      <td>1</td>\n",
              "      <td>0</td>\n",
              "      <td>0</td>\n",
              "      <td>0</td>\n",
              "      <td>0</td>\n",
              "      <td>0</td>\n",
              "      <td>0</td>\n",
              "      <td>0</td>\n",
              "      <td>0</td>\n",
              "      <td>...</td>\n",
              "      <td>0</td>\n",
              "      <td>0</td>\n",
              "      <td>0</td>\n",
              "      <td>0</td>\n",
              "      <td>0</td>\n",
              "      <td>0</td>\n",
              "      <td>0</td>\n",
              "      <td>1</td>\n",
              "      <td>0</td>\n",
              "      <td>1</td>\n",
              "    </tr>\n",
              "    <tr>\n",
              "      <th>2</th>\n",
              "      <td>1</td>\n",
              "      <td>0</td>\n",
              "      <td>0</td>\n",
              "      <td>2</td>\n",
              "      <td>1</td>\n",
              "      <td>0</td>\n",
              "      <td>1</td>\n",
              "      <td>0</td>\n",
              "      <td>1</td>\n",
              "      <td>0</td>\n",
              "      <td>...</td>\n",
              "      <td>1</td>\n",
              "      <td>0</td>\n",
              "      <td>0</td>\n",
              "      <td>2</td>\n",
              "      <td>0</td>\n",
              "      <td>0</td>\n",
              "      <td>1</td>\n",
              "      <td>0</td>\n",
              "      <td>0</td>\n",
              "      <td>0</td>\n",
              "    </tr>\n",
              "    <tr>\n",
              "      <th>3</th>\n",
              "      <td>0</td>\n",
              "      <td>0</td>\n",
              "      <td>0</td>\n",
              "      <td>0</td>\n",
              "      <td>1</td>\n",
              "      <td>0</td>\n",
              "      <td>1</td>\n",
              "      <td>0</td>\n",
              "      <td>0</td>\n",
              "      <td>0</td>\n",
              "      <td>...</td>\n",
              "      <td>0</td>\n",
              "      <td>1</td>\n",
              "      <td>0</td>\n",
              "      <td>0</td>\n",
              "      <td>0</td>\n",
              "      <td>0</td>\n",
              "      <td>0</td>\n",
              "      <td>0</td>\n",
              "      <td>0</td>\n",
              "      <td>0</td>\n",
              "    </tr>\n",
              "    <tr>\n",
              "      <th>4</th>\n",
              "      <td>0</td>\n",
              "      <td>0</td>\n",
              "      <td>1</td>\n",
              "      <td>0</td>\n",
              "      <td>0</td>\n",
              "      <td>1</td>\n",
              "      <td>0</td>\n",
              "      <td>0</td>\n",
              "      <td>0</td>\n",
              "      <td>0</td>\n",
              "      <td>...</td>\n",
              "      <td>0</td>\n",
              "      <td>0</td>\n",
              "      <td>0</td>\n",
              "      <td>0</td>\n",
              "      <td>1</td>\n",
              "      <td>1</td>\n",
              "      <td>0</td>\n",
              "      <td>1</td>\n",
              "      <td>1</td>\n",
              "      <td>0</td>\n",
              "    </tr>\n",
              "  </tbody>\n",
              "</table>\n",
              "<p>5 rows × 36 columns</p>\n",
              "</div>\n",
              "      <button class=\"colab-df-convert\" onclick=\"convertToInteractive('df-9d4bbdf1-cd98-4d05-af44-6b1ab283e694')\"\n",
              "              title=\"Convert this dataframe to an interactive table.\"\n",
              "              style=\"display:none;\">\n",
              "        \n",
              "  <svg xmlns=\"http://www.w3.org/2000/svg\" height=\"24px\"viewBox=\"0 0 24 24\"\n",
              "       width=\"24px\">\n",
              "    <path d=\"M0 0h24v24H0V0z\" fill=\"none\"/>\n",
              "    <path d=\"M18.56 5.44l.94 2.06.94-2.06 2.06-.94-2.06-.94-.94-2.06-.94 2.06-2.06.94zm-11 1L8.5 8.5l.94-2.06 2.06-.94-2.06-.94L8.5 2.5l-.94 2.06-2.06.94zm10 10l.94 2.06.94-2.06 2.06-.94-2.06-.94-.94-2.06-.94 2.06-2.06.94z\"/><path d=\"M17.41 7.96l-1.37-1.37c-.4-.4-.92-.59-1.43-.59-.52 0-1.04.2-1.43.59L10.3 9.45l-7.72 7.72c-.78.78-.78 2.05 0 2.83L4 21.41c.39.39.9.59 1.41.59.51 0 1.02-.2 1.41-.59l7.78-7.78 2.81-2.81c.8-.78.8-2.07 0-2.86zM5.41 20L4 18.59l7.72-7.72 1.47 1.35L5.41 20z\"/>\n",
              "  </svg>\n",
              "      </button>\n",
              "      \n",
              "  <style>\n",
              "    .colab-df-container {\n",
              "      display:flex;\n",
              "      flex-wrap:wrap;\n",
              "      gap: 12px;\n",
              "    }\n",
              "\n",
              "    .colab-df-convert {\n",
              "      background-color: #E8F0FE;\n",
              "      border: none;\n",
              "      border-radius: 50%;\n",
              "      cursor: pointer;\n",
              "      display: none;\n",
              "      fill: #1967D2;\n",
              "      height: 32px;\n",
              "      padding: 0 0 0 0;\n",
              "      width: 32px;\n",
              "    }\n",
              "\n",
              "    .colab-df-convert:hover {\n",
              "      background-color: #E2EBFA;\n",
              "      box-shadow: 0px 1px 2px rgba(60, 64, 67, 0.3), 0px 1px 3px 1px rgba(60, 64, 67, 0.15);\n",
              "      fill: #174EA6;\n",
              "    }\n",
              "\n",
              "    [theme=dark] .colab-df-convert {\n",
              "      background-color: #3B4455;\n",
              "      fill: #D2E3FC;\n",
              "    }\n",
              "\n",
              "    [theme=dark] .colab-df-convert:hover {\n",
              "      background-color: #434B5C;\n",
              "      box-shadow: 0px 1px 3px 1px rgba(0, 0, 0, 0.15);\n",
              "      filter: drop-shadow(0px 1px 2px rgba(0, 0, 0, 0.3));\n",
              "      fill: #FFFFFF;\n",
              "    }\n",
              "  </style>\n",
              "\n",
              "      <script>\n",
              "        const buttonEl =\n",
              "          document.querySelector('#df-9d4bbdf1-cd98-4d05-af44-6b1ab283e694 button.colab-df-convert');\n",
              "        buttonEl.style.display =\n",
              "          google.colab.kernel.accessAllowed ? 'block' : 'none';\n",
              "\n",
              "        async function convertToInteractive(key) {\n",
              "          const element = document.querySelector('#df-9d4bbdf1-cd98-4d05-af44-6b1ab283e694');\n",
              "          const dataTable =\n",
              "            await google.colab.kernel.invokeFunction('convertToInteractive',\n",
              "                                                     [key], {});\n",
              "          if (!dataTable) return;\n",
              "\n",
              "          const docLinkHtml = 'Like what you see? Visit the ' +\n",
              "            '<a target=\"_blank\" href=https://colab.research.google.com/notebooks/data_table.ipynb>data table notebook</a>'\n",
              "            + ' to learn more about interactive tables.';\n",
              "          element.innerHTML = '';\n",
              "          dataTable['output_type'] = 'display_data';\n",
              "          await google.colab.output.renderOutput(dataTable, element);\n",
              "          const docLink = document.createElement('div');\n",
              "          docLink.innerHTML = docLinkHtml;\n",
              "          element.appendChild(docLink);\n",
              "        }\n",
              "      </script>\n",
              "    </div>\n",
              "  </div>\n",
              "  "
            ]
          },
          "metadata": {},
          "execution_count": 43
        }
      ]
    },
    {
      "cell_type": "markdown",
      "metadata": {
        "id": "EoU9xUZLkAZu"
      },
      "source": [
        "Advantages of BOW:\n",
        "* No need of huge corpus of words to get good results in practice.\n",
        "* Easy to understand (i.e. not mathematically complex).\n",
        "\n",
        "Disadvantages of BOW:\n",
        "* A lot of zeros (imagine a corpus of 1000 articles) --> consume memory and space.\n",
        "* Does not maintain any context information (\"I eat a fish\" vs. \"A fish eats me\").\n",
        "* Half solutions: n-grams, specifiying min_df and max_df (see [documentation](https://https://scikit-learn.org/stable/modules/generated/sklearn.feature_extraction.text.CountVectorizer.html)).\n"
      ]
    },
    {
      "cell_type": "markdown",
      "metadata": {
        "id": "3CkpoOenUv7J"
      },
      "source": [
        "### 1.3 TF-IDF\n",
        "TF-IDF is a type of bag of words approach where instead of adding zeros and ones in the embedding vector, you add floating numbers that contain more useful information compared to zeros and ones. The idea is to emphasize words that appear in few documents in the corpus. A word that appear many times but only in one document will have a high value (close to one) compared to words that appear many times in many documents. This word is then very useful to identify the document.\n",
        "\n",
        "TF(word, document) = Term frequency = (Number of occurences of a word in document)/(Total words in the document)\n",
        "- greater if word appears many times in document\n",
        "\n",
        "IDF(word) = Inverse Document Frequency = Log((Total number of documents)/(Number of documents containing the word))\n",
        "- greater if word appears in fewer doucuments\n",
        "\n",
        "TF-IDF = TF*IDF"
      ]
    },
    {
      "cell_type": "code",
      "metadata": {
        "id": "HsTBjUmWUywM",
        "colab": {
          "base_uri": "https://localhost:8080/"
        },
        "outputId": "cde8969c-72fb-46a4-fa52-623b0887ad35"
      },
      "source": [
        "# Term frequency (TF)\n",
        "def tf(document):\n",
        "  # Get tokens\n",
        "  tokens = get_tokens(document)\n",
        "  # Initialization\n",
        "  term_freq = {}\n",
        "  for token in tokens:\n",
        "    term_freq[token] = 0\n",
        "  # Increment\n",
        "  for token in tokens:\n",
        "    term_freq[token] += 1/len(tokens)\n",
        "  # Return\n",
        "  return term_freq\n",
        "\n",
        "tf(d3)"
      ],
      "execution_count": 44,
      "outputs": [
        {
          "output_type": "execute_result",
          "data": {
            "text/plain": [
              "{'human': 0.06666666666666667,\n",
              " 'caused': 0.13333333333333333,\n",
              " 'climate': 0.06666666666666667,\n",
              " 'change': 0.06666666666666667,\n",
              " 'has': 0.06666666666666667,\n",
              " 'land': 0.06666666666666667,\n",
              " 'ice': 0.06666666666666667,\n",
              " 'to': 0.13333333333333333,\n",
              " 'melt': 0.06666666666666667,\n",
              " 'and': 0.06666666666666667,\n",
              " 'ocean': 0.06666666666666667,\n",
              " 'water': 0.06666666666666667,\n",
              " 'expand': 0.06666666666666667}"
            ]
          },
          "metadata": {},
          "execution_count": 44
        }
      ]
    },
    {
      "cell_type": "code",
      "metadata": {
        "id": "s3h8kaUxrmn5",
        "colab": {
          "base_uri": "https://localhost:8080/"
        },
        "outputId": "ff3f6e09-c36a-45f3-a66b-fff46376bbb9"
      },
      "source": [
        "# Inverse document frequency\n",
        "def idf(corpus):\n",
        "  # Get list of unique words in corpus\n",
        "  voc = vocabulary(corpus)\n",
        "  # Initialization\n",
        "  inv_doc_freq = {}\n",
        "  for word in voc:\n",
        "    inv_doc_freq[word] = 0\n",
        "  # Number of apparition of word\n",
        "  for word in voc:\n",
        "    for document in corpus:\n",
        "      doc_tokens = get_tokens(document)\n",
        "      if word in doc_tokens:\n",
        "        inv_doc_freq[word] += 1\n",
        "  #print(inv_doc_freq)\n",
        "  #print(\"\\n----------------------\\n\")\n",
        "  # IDF\n",
        "  inv_doc_freq = {k: math.log(len(corpus) / inv_doc_freq[k]) for k in inv_doc_freq.keys()}\n",
        "  # Return\n",
        "  return inv_doc_freq\n",
        "\n",
        "idf(corpus)"
      ],
      "execution_count": 45,
      "outputs": [
        {
          "output_type": "execute_result",
          "data": {
            "text/plain": [
              "{'tom': 0.9162907318741551,\n",
              " 'confessed': 1.6094379124341003,\n",
              " 'that': 1.6094379124341003,\n",
              " 'he': 0.9162907318741551,\n",
              " 'had': 1.6094379124341003,\n",
              " 'fallen': 1.6094379124341003,\n",
              " 'in': 1.6094379124341003,\n",
              " 'love': 0.9162907318741551,\n",
              " 'with': 0.9162907318741551,\n",
              " 'me': 1.6094379124341003,\n",
              " 'we': 0.9162907318741551,\n",
              " \"musn't\": 1.6094379124341003,\n",
              " 'joke': 1.6094379124341003,\n",
              " 'around': 1.6094379124341003,\n",
              " 'human': 1.6094379124341003,\n",
              " 'caused': 1.6094379124341003,\n",
              " 'climate': 0.9162907318741551,\n",
              " 'change': 0.9162907318741551,\n",
              " 'has': 1.6094379124341003,\n",
              " 'land': 1.6094379124341003,\n",
              " 'ice': 1.6094379124341003,\n",
              " 'to': 1.6094379124341003,\n",
              " 'melt': 1.6094379124341003,\n",
              " 'and': 1.6094379124341003,\n",
              " 'ocean': 1.6094379124341003,\n",
              " 'water': 1.6094379124341003,\n",
              " 'expand': 1.6094379124341003,\n",
              " 'is': 1.6094379124341003,\n",
              " 'not': 1.6094379124341003,\n",
              " 'really': 1.6094379124341003,\n",
              " 'happening': 1.6094379124341003,\n",
              " 'asked': 1.6094379124341003,\n",
              " 'what': 1.6094379124341003,\n",
              " 'wanted': 1.6094379124341003,\n",
              " 'for': 1.6094379124341003,\n",
              " 'christmas': 1.6094379124341003}"
            ]
          },
          "metadata": {},
          "execution_count": 45
        }
      ]
    },
    {
      "cell_type": "code",
      "metadata": {
        "id": "bfgMl15xwOeP",
        "colab": {
          "base_uri": "https://localhost:8080/"
        },
        "outputId": "255c356b-2beb-4f7e-fe33-bb6759eb5960"
      },
      "source": [
        "# TF-IDF\n",
        "def tfidf(document, corpus):\n",
        "  # TF\n",
        "  tf_bag = tf(document)\n",
        "  # IDF\n",
        "  idf_bag = idf(corpus)\n",
        "  # TF*IDF\n",
        "  tfidf_bag = {k: tf_bag[k]*idf_bag[k] for k in tf_bag.keys()}\n",
        "  \n",
        "  return tfidf_bag\n",
        "\n",
        "tfidf(d3, corpus)"
      ],
      "execution_count": 46,
      "outputs": [
        {
          "output_type": "execute_result",
          "data": {
            "text/plain": [
              "{'human': 0.10729586082894002,\n",
              " 'caused': 0.21459172165788004,\n",
              " 'climate': 0.06108604879161034,\n",
              " 'change': 0.06108604879161034,\n",
              " 'has': 0.10729586082894002,\n",
              " 'land': 0.10729586082894002,\n",
              " 'ice': 0.10729586082894002,\n",
              " 'to': 0.21459172165788004,\n",
              " 'melt': 0.10729586082894002,\n",
              " 'and': 0.10729586082894002,\n",
              " 'ocean': 0.10729586082894002,\n",
              " 'water': 0.10729586082894002,\n",
              " 'expand': 0.10729586082894002}"
            ]
          },
          "metadata": {},
          "execution_count": 46
        }
      ]
    },
    {
      "cell_type": "code",
      "metadata": {
        "id": "3tIVDQRtxhL0",
        "colab": {
          "base_uri": "https://localhost:8080/",
          "height": 299
        },
        "outputId": "f27c18f0-5e6f-4c9a-aa0b-b38b54cc490f"
      },
      "source": [
        "# DataFrame\n",
        "bag_of_words_tfidf = []\n",
        "for doc in corpus:\n",
        "  bag = tfidf(doc, corpus)\n",
        "  bag_of_words_tfidf.append(bag)\n",
        "  \n",
        "pd.DataFrame(bag_of_words_tfidf).fillna(0)"
      ],
      "execution_count": 47,
      "outputs": [
        {
          "output_type": "execute_result",
          "data": {
            "text/plain": [
              "        tom  confessed      that        he       had    fallen        in  \\\n",
              "0  0.091629   0.160944  0.160944  0.091629  0.160944  0.160944  0.160944   \n",
              "1  0.000000   0.000000  0.000000  0.000000  0.000000  0.000000  0.000000   \n",
              "2  0.000000   0.000000  0.000000  0.000000  0.000000  0.000000  0.000000   \n",
              "3  0.000000   0.000000  0.000000  0.000000  0.000000  0.000000  0.000000   \n",
              "4  0.114536   0.000000  0.000000  0.114536  0.000000  0.000000  0.000000   \n",
              "\n",
              "       love      with        me  ...    expand       is      not   really  \\\n",
              "0  0.091629  0.091629  0.160944  ...  0.000000  0.00000  0.00000  0.00000   \n",
              "1  0.152715  0.152715  0.000000  ...  0.000000  0.00000  0.00000  0.00000   \n",
              "2  0.000000  0.000000  0.000000  ...  0.107296  0.00000  0.00000  0.00000   \n",
              "3  0.000000  0.000000  0.000000  ...  0.000000  0.26824  0.26824  0.26824   \n",
              "4  0.000000  0.000000  0.000000  ...  0.000000  0.00000  0.00000  0.00000   \n",
              "\n",
              "   happening    asked     what   wanted      for  christmas  \n",
              "0    0.00000  0.00000  0.00000  0.00000  0.00000    0.00000  \n",
              "1    0.00000  0.00000  0.00000  0.00000  0.00000    0.00000  \n",
              "2    0.00000  0.00000  0.00000  0.00000  0.00000    0.00000  \n",
              "3    0.26824  0.00000  0.00000  0.00000  0.00000    0.00000  \n",
              "4    0.00000  0.20118  0.20118  0.20118  0.20118    0.20118  \n",
              "\n",
              "[5 rows x 36 columns]"
            ],
            "text/html": [
              "\n",
              "  <div id=\"df-336f63fd-c0f9-4b85-bc50-86c5a071703c\">\n",
              "    <div class=\"colab-df-container\">\n",
              "      <div>\n",
              "<style scoped>\n",
              "    .dataframe tbody tr th:only-of-type {\n",
              "        vertical-align: middle;\n",
              "    }\n",
              "\n",
              "    .dataframe tbody tr th {\n",
              "        vertical-align: top;\n",
              "    }\n",
              "\n",
              "    .dataframe thead th {\n",
              "        text-align: right;\n",
              "    }\n",
              "</style>\n",
              "<table border=\"1\" class=\"dataframe\">\n",
              "  <thead>\n",
              "    <tr style=\"text-align: right;\">\n",
              "      <th></th>\n",
              "      <th>tom</th>\n",
              "      <th>confessed</th>\n",
              "      <th>that</th>\n",
              "      <th>he</th>\n",
              "      <th>had</th>\n",
              "      <th>fallen</th>\n",
              "      <th>in</th>\n",
              "      <th>love</th>\n",
              "      <th>with</th>\n",
              "      <th>me</th>\n",
              "      <th>...</th>\n",
              "      <th>expand</th>\n",
              "      <th>is</th>\n",
              "      <th>not</th>\n",
              "      <th>really</th>\n",
              "      <th>happening</th>\n",
              "      <th>asked</th>\n",
              "      <th>what</th>\n",
              "      <th>wanted</th>\n",
              "      <th>for</th>\n",
              "      <th>christmas</th>\n",
              "    </tr>\n",
              "  </thead>\n",
              "  <tbody>\n",
              "    <tr>\n",
              "      <th>0</th>\n",
              "      <td>0.091629</td>\n",
              "      <td>0.160944</td>\n",
              "      <td>0.160944</td>\n",
              "      <td>0.091629</td>\n",
              "      <td>0.160944</td>\n",
              "      <td>0.160944</td>\n",
              "      <td>0.160944</td>\n",
              "      <td>0.091629</td>\n",
              "      <td>0.091629</td>\n",
              "      <td>0.160944</td>\n",
              "      <td>...</td>\n",
              "      <td>0.000000</td>\n",
              "      <td>0.00000</td>\n",
              "      <td>0.00000</td>\n",
              "      <td>0.00000</td>\n",
              "      <td>0.00000</td>\n",
              "      <td>0.00000</td>\n",
              "      <td>0.00000</td>\n",
              "      <td>0.00000</td>\n",
              "      <td>0.00000</td>\n",
              "      <td>0.00000</td>\n",
              "    </tr>\n",
              "    <tr>\n",
              "      <th>1</th>\n",
              "      <td>0.000000</td>\n",
              "      <td>0.000000</td>\n",
              "      <td>0.000000</td>\n",
              "      <td>0.000000</td>\n",
              "      <td>0.000000</td>\n",
              "      <td>0.000000</td>\n",
              "      <td>0.000000</td>\n",
              "      <td>0.152715</td>\n",
              "      <td>0.152715</td>\n",
              "      <td>0.000000</td>\n",
              "      <td>...</td>\n",
              "      <td>0.000000</td>\n",
              "      <td>0.00000</td>\n",
              "      <td>0.00000</td>\n",
              "      <td>0.00000</td>\n",
              "      <td>0.00000</td>\n",
              "      <td>0.00000</td>\n",
              "      <td>0.00000</td>\n",
              "      <td>0.00000</td>\n",
              "      <td>0.00000</td>\n",
              "      <td>0.00000</td>\n",
              "    </tr>\n",
              "    <tr>\n",
              "      <th>2</th>\n",
              "      <td>0.000000</td>\n",
              "      <td>0.000000</td>\n",
              "      <td>0.000000</td>\n",
              "      <td>0.000000</td>\n",
              "      <td>0.000000</td>\n",
              "      <td>0.000000</td>\n",
              "      <td>0.000000</td>\n",
              "      <td>0.000000</td>\n",
              "      <td>0.000000</td>\n",
              "      <td>0.000000</td>\n",
              "      <td>...</td>\n",
              "      <td>0.107296</td>\n",
              "      <td>0.00000</td>\n",
              "      <td>0.00000</td>\n",
              "      <td>0.00000</td>\n",
              "      <td>0.00000</td>\n",
              "      <td>0.00000</td>\n",
              "      <td>0.00000</td>\n",
              "      <td>0.00000</td>\n",
              "      <td>0.00000</td>\n",
              "      <td>0.00000</td>\n",
              "    </tr>\n",
              "    <tr>\n",
              "      <th>3</th>\n",
              "      <td>0.000000</td>\n",
              "      <td>0.000000</td>\n",
              "      <td>0.000000</td>\n",
              "      <td>0.000000</td>\n",
              "      <td>0.000000</td>\n",
              "      <td>0.000000</td>\n",
              "      <td>0.000000</td>\n",
              "      <td>0.000000</td>\n",
              "      <td>0.000000</td>\n",
              "      <td>0.000000</td>\n",
              "      <td>...</td>\n",
              "      <td>0.000000</td>\n",
              "      <td>0.26824</td>\n",
              "      <td>0.26824</td>\n",
              "      <td>0.26824</td>\n",
              "      <td>0.26824</td>\n",
              "      <td>0.00000</td>\n",
              "      <td>0.00000</td>\n",
              "      <td>0.00000</td>\n",
              "      <td>0.00000</td>\n",
              "      <td>0.00000</td>\n",
              "    </tr>\n",
              "    <tr>\n",
              "      <th>4</th>\n",
              "      <td>0.114536</td>\n",
              "      <td>0.000000</td>\n",
              "      <td>0.000000</td>\n",
              "      <td>0.114536</td>\n",
              "      <td>0.000000</td>\n",
              "      <td>0.000000</td>\n",
              "      <td>0.000000</td>\n",
              "      <td>0.000000</td>\n",
              "      <td>0.000000</td>\n",
              "      <td>0.000000</td>\n",
              "      <td>...</td>\n",
              "      <td>0.000000</td>\n",
              "      <td>0.00000</td>\n",
              "      <td>0.00000</td>\n",
              "      <td>0.00000</td>\n",
              "      <td>0.00000</td>\n",
              "      <td>0.20118</td>\n",
              "      <td>0.20118</td>\n",
              "      <td>0.20118</td>\n",
              "      <td>0.20118</td>\n",
              "      <td>0.20118</td>\n",
              "    </tr>\n",
              "  </tbody>\n",
              "</table>\n",
              "<p>5 rows × 36 columns</p>\n",
              "</div>\n",
              "      <button class=\"colab-df-convert\" onclick=\"convertToInteractive('df-336f63fd-c0f9-4b85-bc50-86c5a071703c')\"\n",
              "              title=\"Convert this dataframe to an interactive table.\"\n",
              "              style=\"display:none;\">\n",
              "        \n",
              "  <svg xmlns=\"http://www.w3.org/2000/svg\" height=\"24px\"viewBox=\"0 0 24 24\"\n",
              "       width=\"24px\">\n",
              "    <path d=\"M0 0h24v24H0V0z\" fill=\"none\"/>\n",
              "    <path d=\"M18.56 5.44l.94 2.06.94-2.06 2.06-.94-2.06-.94-.94-2.06-.94 2.06-2.06.94zm-11 1L8.5 8.5l.94-2.06 2.06-.94-2.06-.94L8.5 2.5l-.94 2.06-2.06.94zm10 10l.94 2.06.94-2.06 2.06-.94-2.06-.94-.94-2.06-.94 2.06-2.06.94z\"/><path d=\"M17.41 7.96l-1.37-1.37c-.4-.4-.92-.59-1.43-.59-.52 0-1.04.2-1.43.59L10.3 9.45l-7.72 7.72c-.78.78-.78 2.05 0 2.83L4 21.41c.39.39.9.59 1.41.59.51 0 1.02-.2 1.41-.59l7.78-7.78 2.81-2.81c.8-.78.8-2.07 0-2.86zM5.41 20L4 18.59l7.72-7.72 1.47 1.35L5.41 20z\"/>\n",
              "  </svg>\n",
              "      </button>\n",
              "      \n",
              "  <style>\n",
              "    .colab-df-container {\n",
              "      display:flex;\n",
              "      flex-wrap:wrap;\n",
              "      gap: 12px;\n",
              "    }\n",
              "\n",
              "    .colab-df-convert {\n",
              "      background-color: #E8F0FE;\n",
              "      border: none;\n",
              "      border-radius: 50%;\n",
              "      cursor: pointer;\n",
              "      display: none;\n",
              "      fill: #1967D2;\n",
              "      height: 32px;\n",
              "      padding: 0 0 0 0;\n",
              "      width: 32px;\n",
              "    }\n",
              "\n",
              "    .colab-df-convert:hover {\n",
              "      background-color: #E2EBFA;\n",
              "      box-shadow: 0px 1px 2px rgba(60, 64, 67, 0.3), 0px 1px 3px 1px rgba(60, 64, 67, 0.15);\n",
              "      fill: #174EA6;\n",
              "    }\n",
              "\n",
              "    [theme=dark] .colab-df-convert {\n",
              "      background-color: #3B4455;\n",
              "      fill: #D2E3FC;\n",
              "    }\n",
              "\n",
              "    [theme=dark] .colab-df-convert:hover {\n",
              "      background-color: #434B5C;\n",
              "      box-shadow: 0px 1px 3px 1px rgba(0, 0, 0, 0.15);\n",
              "      filter: drop-shadow(0px 1px 2px rgba(0, 0, 0, 0.3));\n",
              "      fill: #FFFFFF;\n",
              "    }\n",
              "  </style>\n",
              "\n",
              "      <script>\n",
              "        const buttonEl =\n",
              "          document.querySelector('#df-336f63fd-c0f9-4b85-bc50-86c5a071703c button.colab-df-convert');\n",
              "        buttonEl.style.display =\n",
              "          google.colab.kernel.accessAllowed ? 'block' : 'none';\n",
              "\n",
              "        async function convertToInteractive(key) {\n",
              "          const element = document.querySelector('#df-336f63fd-c0f9-4b85-bc50-86c5a071703c');\n",
              "          const dataTable =\n",
              "            await google.colab.kernel.invokeFunction('convertToInteractive',\n",
              "                                                     [key], {});\n",
              "          if (!dataTable) return;\n",
              "\n",
              "          const docLinkHtml = 'Like what you see? Visit the ' +\n",
              "            '<a target=\"_blank\" href=https://colab.research.google.com/notebooks/data_table.ipynb>data table notebook</a>'\n",
              "            + ' to learn more about interactive tables.';\n",
              "          element.innerHTML = '';\n",
              "          dataTable['output_type'] = 'display_data';\n",
              "          await google.colab.output.renderOutput(dataTable, element);\n",
              "          const docLink = document.createElement('div');\n",
              "          docLink.innerHTML = docLinkHtml;\n",
              "          element.appendChild(docLink);\n",
              "        }\n",
              "      </script>\n",
              "    </div>\n",
              "  </div>\n",
              "  "
            ]
          },
          "metadata": {},
          "execution_count": 47
        }
      ]
    },
    {
      "cell_type": "markdown",
      "metadata": {
        "id": "Oj3x4fCLyHcA"
      },
      "source": [
        "Remarks:\n",
        "* This is not perfect (e.g. we could remove stopwords, use n-gramsm lemmas)\n",
        "* We can use [TfidfVectorizer](https://scikit-learn.org/stable/modules/generated/sklearn.feature_extraction.text.TfidfVectorizer.html) from sklearn as shown below."
      ]
    },
    {
      "cell_type": "code",
      "metadata": {
        "id": "IZGWejXoyG3r",
        "colab": {
          "base_uri": "https://localhost:8080/",
          "height": 335
        },
        "outputId": "ee83e51b-ca3c-4486-fe17-4687be522715"
      },
      "source": [
        "# Using TfidfVectorizer\n",
        "vectorizer = TfidfVectorizer()\n",
        "bag_of_words = vectorizer.fit_transform(corpus).todense()\n",
        "\n",
        "# DataFrame\n",
        "bag_of_words = pd.DataFrame(bag_of_words, columns=vectorizer.get_feature_names())\n",
        "bag_of_words"
      ],
      "execution_count": 48,
      "outputs": [
        {
          "output_type": "stream",
          "name": "stderr",
          "text": [
            "/usr/local/lib/python3.7/dist-packages/sklearn/utils/deprecation.py:87: FutureWarning: Function get_feature_names is deprecated; get_feature_names is deprecated in 1.0 and will be removed in 1.2. Please use get_feature_names_out instead.\n",
            "  warnings.warn(msg, category=FutureWarning)\n"
          ]
        },
        {
          "output_type": "execute_result",
          "data": {
            "text/plain": [
              "        and    around     asked    caused    change  christmas   climate  \\\n",
              "0  0.000000  0.000000  0.000000  0.000000  0.000000   0.000000  0.000000   \n",
              "1  0.000000  0.449342  0.000000  0.000000  0.000000   0.000000  0.000000   \n",
              "2  0.233751  0.000000  0.000000  0.467501  0.188589   0.000000  0.188589   \n",
              "3  0.000000  0.000000  0.000000  0.000000  0.350388   0.000000  0.350388   \n",
              "4  0.000000  0.000000  0.379247  0.000000  0.000000   0.379247  0.000000   \n",
              "\n",
              "   confessed    expand    fallen  ...     ocean    really      that        to  \\\n",
              "0   0.340925  0.000000  0.340925  ...  0.000000  0.000000  0.340925  0.000000   \n",
              "1   0.000000  0.000000  0.000000  ...  0.000000  0.000000  0.000000  0.000000   \n",
              "2   0.000000  0.233751  0.000000  ...  0.233751  0.000000  0.000000  0.467501   \n",
              "3   0.000000  0.000000  0.000000  ...  0.000000  0.434297  0.000000  0.000000   \n",
              "4   0.000000  0.000000  0.000000  ...  0.000000  0.000000  0.000000  0.000000   \n",
              "\n",
              "        tom    wanted     water        we      what      with  \n",
              "0  0.275056  0.000000  0.000000  0.000000  0.000000  0.275056  \n",
              "1  0.000000  0.000000  0.000000  0.362526  0.000000  0.362526  \n",
              "2  0.000000  0.000000  0.233751  0.000000  0.000000  0.000000  \n",
              "3  0.000000  0.000000  0.000000  0.000000  0.000000  0.000000  \n",
              "4  0.305974  0.379247  0.000000  0.305974  0.379247  0.000000  \n",
              "\n",
              "[5 rows x 36 columns]"
            ],
            "text/html": [
              "\n",
              "  <div id=\"df-84fde2e2-4b7e-4ebd-beee-94f9b276778e\">\n",
              "    <div class=\"colab-df-container\">\n",
              "      <div>\n",
              "<style scoped>\n",
              "    .dataframe tbody tr th:only-of-type {\n",
              "        vertical-align: middle;\n",
              "    }\n",
              "\n",
              "    .dataframe tbody tr th {\n",
              "        vertical-align: top;\n",
              "    }\n",
              "\n",
              "    .dataframe thead th {\n",
              "        text-align: right;\n",
              "    }\n",
              "</style>\n",
              "<table border=\"1\" class=\"dataframe\">\n",
              "  <thead>\n",
              "    <tr style=\"text-align: right;\">\n",
              "      <th></th>\n",
              "      <th>and</th>\n",
              "      <th>around</th>\n",
              "      <th>asked</th>\n",
              "      <th>caused</th>\n",
              "      <th>change</th>\n",
              "      <th>christmas</th>\n",
              "      <th>climate</th>\n",
              "      <th>confessed</th>\n",
              "      <th>expand</th>\n",
              "      <th>fallen</th>\n",
              "      <th>...</th>\n",
              "      <th>ocean</th>\n",
              "      <th>really</th>\n",
              "      <th>that</th>\n",
              "      <th>to</th>\n",
              "      <th>tom</th>\n",
              "      <th>wanted</th>\n",
              "      <th>water</th>\n",
              "      <th>we</th>\n",
              "      <th>what</th>\n",
              "      <th>with</th>\n",
              "    </tr>\n",
              "  </thead>\n",
              "  <tbody>\n",
              "    <tr>\n",
              "      <th>0</th>\n",
              "      <td>0.000000</td>\n",
              "      <td>0.000000</td>\n",
              "      <td>0.000000</td>\n",
              "      <td>0.000000</td>\n",
              "      <td>0.000000</td>\n",
              "      <td>0.000000</td>\n",
              "      <td>0.000000</td>\n",
              "      <td>0.340925</td>\n",
              "      <td>0.000000</td>\n",
              "      <td>0.340925</td>\n",
              "      <td>...</td>\n",
              "      <td>0.000000</td>\n",
              "      <td>0.000000</td>\n",
              "      <td>0.340925</td>\n",
              "      <td>0.000000</td>\n",
              "      <td>0.275056</td>\n",
              "      <td>0.000000</td>\n",
              "      <td>0.000000</td>\n",
              "      <td>0.000000</td>\n",
              "      <td>0.000000</td>\n",
              "      <td>0.275056</td>\n",
              "    </tr>\n",
              "    <tr>\n",
              "      <th>1</th>\n",
              "      <td>0.000000</td>\n",
              "      <td>0.449342</td>\n",
              "      <td>0.000000</td>\n",
              "      <td>0.000000</td>\n",
              "      <td>0.000000</td>\n",
              "      <td>0.000000</td>\n",
              "      <td>0.000000</td>\n",
              "      <td>0.000000</td>\n",
              "      <td>0.000000</td>\n",
              "      <td>0.000000</td>\n",
              "      <td>...</td>\n",
              "      <td>0.000000</td>\n",
              "      <td>0.000000</td>\n",
              "      <td>0.000000</td>\n",
              "      <td>0.000000</td>\n",
              "      <td>0.000000</td>\n",
              "      <td>0.000000</td>\n",
              "      <td>0.000000</td>\n",
              "      <td>0.362526</td>\n",
              "      <td>0.000000</td>\n",
              "      <td>0.362526</td>\n",
              "    </tr>\n",
              "    <tr>\n",
              "      <th>2</th>\n",
              "      <td>0.233751</td>\n",
              "      <td>0.000000</td>\n",
              "      <td>0.000000</td>\n",
              "      <td>0.467501</td>\n",
              "      <td>0.188589</td>\n",
              "      <td>0.000000</td>\n",
              "      <td>0.188589</td>\n",
              "      <td>0.000000</td>\n",
              "      <td>0.233751</td>\n",
              "      <td>0.000000</td>\n",
              "      <td>...</td>\n",
              "      <td>0.233751</td>\n",
              "      <td>0.000000</td>\n",
              "      <td>0.000000</td>\n",
              "      <td>0.467501</td>\n",
              "      <td>0.000000</td>\n",
              "      <td>0.000000</td>\n",
              "      <td>0.233751</td>\n",
              "      <td>0.000000</td>\n",
              "      <td>0.000000</td>\n",
              "      <td>0.000000</td>\n",
              "    </tr>\n",
              "    <tr>\n",
              "      <th>3</th>\n",
              "      <td>0.000000</td>\n",
              "      <td>0.000000</td>\n",
              "      <td>0.000000</td>\n",
              "      <td>0.000000</td>\n",
              "      <td>0.350388</td>\n",
              "      <td>0.000000</td>\n",
              "      <td>0.350388</td>\n",
              "      <td>0.000000</td>\n",
              "      <td>0.000000</td>\n",
              "      <td>0.000000</td>\n",
              "      <td>...</td>\n",
              "      <td>0.000000</td>\n",
              "      <td>0.434297</td>\n",
              "      <td>0.000000</td>\n",
              "      <td>0.000000</td>\n",
              "      <td>0.000000</td>\n",
              "      <td>0.000000</td>\n",
              "      <td>0.000000</td>\n",
              "      <td>0.000000</td>\n",
              "      <td>0.000000</td>\n",
              "      <td>0.000000</td>\n",
              "    </tr>\n",
              "    <tr>\n",
              "      <th>4</th>\n",
              "      <td>0.000000</td>\n",
              "      <td>0.000000</td>\n",
              "      <td>0.379247</td>\n",
              "      <td>0.000000</td>\n",
              "      <td>0.000000</td>\n",
              "      <td>0.379247</td>\n",
              "      <td>0.000000</td>\n",
              "      <td>0.000000</td>\n",
              "      <td>0.000000</td>\n",
              "      <td>0.000000</td>\n",
              "      <td>...</td>\n",
              "      <td>0.000000</td>\n",
              "      <td>0.000000</td>\n",
              "      <td>0.000000</td>\n",
              "      <td>0.000000</td>\n",
              "      <td>0.305974</td>\n",
              "      <td>0.379247</td>\n",
              "      <td>0.000000</td>\n",
              "      <td>0.305974</td>\n",
              "      <td>0.379247</td>\n",
              "      <td>0.000000</td>\n",
              "    </tr>\n",
              "  </tbody>\n",
              "</table>\n",
              "<p>5 rows × 36 columns</p>\n",
              "</div>\n",
              "      <button class=\"colab-df-convert\" onclick=\"convertToInteractive('df-84fde2e2-4b7e-4ebd-beee-94f9b276778e')\"\n",
              "              title=\"Convert this dataframe to an interactive table.\"\n",
              "              style=\"display:none;\">\n",
              "        \n",
              "  <svg xmlns=\"http://www.w3.org/2000/svg\" height=\"24px\"viewBox=\"0 0 24 24\"\n",
              "       width=\"24px\">\n",
              "    <path d=\"M0 0h24v24H0V0z\" fill=\"none\"/>\n",
              "    <path d=\"M18.56 5.44l.94 2.06.94-2.06 2.06-.94-2.06-.94-.94-2.06-.94 2.06-2.06.94zm-11 1L8.5 8.5l.94-2.06 2.06-.94-2.06-.94L8.5 2.5l-.94 2.06-2.06.94zm10 10l.94 2.06.94-2.06 2.06-.94-2.06-.94-.94-2.06-.94 2.06-2.06.94z\"/><path d=\"M17.41 7.96l-1.37-1.37c-.4-.4-.92-.59-1.43-.59-.52 0-1.04.2-1.43.59L10.3 9.45l-7.72 7.72c-.78.78-.78 2.05 0 2.83L4 21.41c.39.39.9.59 1.41.59.51 0 1.02-.2 1.41-.59l7.78-7.78 2.81-2.81c.8-.78.8-2.07 0-2.86zM5.41 20L4 18.59l7.72-7.72 1.47 1.35L5.41 20z\"/>\n",
              "  </svg>\n",
              "      </button>\n",
              "      \n",
              "  <style>\n",
              "    .colab-df-container {\n",
              "      display:flex;\n",
              "      flex-wrap:wrap;\n",
              "      gap: 12px;\n",
              "    }\n",
              "\n",
              "    .colab-df-convert {\n",
              "      background-color: #E8F0FE;\n",
              "      border: none;\n",
              "      border-radius: 50%;\n",
              "      cursor: pointer;\n",
              "      display: none;\n",
              "      fill: #1967D2;\n",
              "      height: 32px;\n",
              "      padding: 0 0 0 0;\n",
              "      width: 32px;\n",
              "    }\n",
              "\n",
              "    .colab-df-convert:hover {\n",
              "      background-color: #E2EBFA;\n",
              "      box-shadow: 0px 1px 2px rgba(60, 64, 67, 0.3), 0px 1px 3px 1px rgba(60, 64, 67, 0.15);\n",
              "      fill: #174EA6;\n",
              "    }\n",
              "\n",
              "    [theme=dark] .colab-df-convert {\n",
              "      background-color: #3B4455;\n",
              "      fill: #D2E3FC;\n",
              "    }\n",
              "\n",
              "    [theme=dark] .colab-df-convert:hover {\n",
              "      background-color: #434B5C;\n",
              "      box-shadow: 0px 1px 3px 1px rgba(0, 0, 0, 0.15);\n",
              "      filter: drop-shadow(0px 1px 2px rgba(0, 0, 0, 0.3));\n",
              "      fill: #FFFFFF;\n",
              "    }\n",
              "  </style>\n",
              "\n",
              "      <script>\n",
              "        const buttonEl =\n",
              "          document.querySelector('#df-84fde2e2-4b7e-4ebd-beee-94f9b276778e button.colab-df-convert');\n",
              "        buttonEl.style.display =\n",
              "          google.colab.kernel.accessAllowed ? 'block' : 'none';\n",
              "\n",
              "        async function convertToInteractive(key) {\n",
              "          const element = document.querySelector('#df-84fde2e2-4b7e-4ebd-beee-94f9b276778e');\n",
              "          const dataTable =\n",
              "            await google.colab.kernel.invokeFunction('convertToInteractive',\n",
              "                                                     [key], {});\n",
              "          if (!dataTable) return;\n",
              "\n",
              "          const docLinkHtml = 'Like what you see? Visit the ' +\n",
              "            '<a target=\"_blank\" href=https://colab.research.google.com/notebooks/data_table.ipynb>data table notebook</a>'\n",
              "            + ' to learn more about interactive tables.';\n",
              "          element.innerHTML = '';\n",
              "          dataTable['output_type'] = 'display_data';\n",
              "          await google.colab.output.renderOutput(dataTable, element);\n",
              "          const docLink = document.createElement('div');\n",
              "          docLink.innerHTML = docLinkHtml;\n",
              "          element.appendChild(docLink);\n",
              "        }\n",
              "      </script>\n",
              "    </div>\n",
              "  </div>\n",
              "  "
            ]
          },
          "metadata": {},
          "execution_count": 48
        }
      ]
    },
    {
      "cell_type": "markdown",
      "metadata": {
        "id": "YFsl7S2FyxxH"
      },
      "source": [
        "Advantage of TF-IDF:\n",
        "* Smart way of representing documents in corpus. More information is provided.\n",
        "\n",
        "Disadvantages of TF-IDF (same as for BOW):\n",
        "* A lot of zeros (imagine a corpus of 1000 articles) --> consume memory and space\n",
        "* Does not maintain any context information (\"I eat a fish\" vs. \"A fish eats me\")\n",
        "* Half solutions: n-grams, specifiying min_df and max_df (see [documentation](https://scikit-learn.org/stable/modules/generated/sklearn.feature_extraction.text.TfidfVectorizer.html))."
      ]
    },
    {
      "cell_type": "markdown",
      "metadata": {
        "id": "Tkm6F65kUzR_"
      },
      "source": [
        "## 2. Introduction to Gensim and Word Embedding\n",
        "\n",
        "In the following, we illustrate how we can find out the relations between words in a dataset, compute the similarity between them, or use the vector representation of those words as input for other applications such as text classification or clustering.\n",
        "\n",
        "We use Gensim. A complete tutorial can be found [here](https://www.tutorialspoint.com/gensim/gensim_introduction.htm)."
      ]
    },
    {
      "cell_type": "markdown",
      "metadata": {
        "id": "r-lFcpJJPXAq"
      },
      "source": [
        "### 2.1 Word Embedding with Word2Vec\n",
        "\n",
        "Word embediing approaches use deep learning and neural network-based techniques to convert words into corresponding vectors so that semantically similar vectors are close to each other in an N-dimensional space, where N refers to the dimensions of the vectors. The underlying assumption is that two words sharing similar contexts also share a similar meaning and consequently a similar vector representation from the model.\n",
        "\n",
        "Two word embedding methods:\n",
        "* Word2Vec by Google\n",
        "* GloVe (Global vectors for Word Representation) by Stanford\n",
        "\n",
        "Word2Vec gives astonishing results. Its ability to maintain a semantic relationship is reflected in a classic example where if you have a vector for the word \"King\" and you remove the vector represented by the word \"Man\" from the \"King\" and add \"Woman\", you get a vector that is close to the vector \"Queen\". \n",
        "\n",
        "* King - Man + Woman = Queen\n",
        "\n",
        "Second example: \"dog\", \"puppy\" and \"pup\" are often used in similar situations, with similar surrounding words like \"good\", \"fluffy\" or \"cute\", and according to Word2Vec they will therefore share a similar vector representation.\n",
        "\n",
        "In real applications, Word2Vec models are created from billions of documents. For example, [Google's Word2Vec model](https://code.google.com/archive/p/word2vec/) is formed from 3 million words and phrases.\n",
        "\n",
        "GloVe is an extension of Word2Vec. More information [here](https://nlp.stanford.edu/projects/glove/). \n",
        "\n",
        "More detail on word embedding will be given in the class following this lab session. You can also click [here](https://www.youtube.com/watch?v=yFFp9RYpOb0) to watch a video on Word2Vec."
      ]
    },
    {
      "cell_type": "code",
      "metadata": {
        "id": "4ONCENA5RHYX",
        "colab": {
          "base_uri": "https://localhost:8080/",
          "height": 1000
        },
        "outputId": "66edf18a-3dba-4b13-a1fa-aafce604fb49"
      },
      "source": [
        "# Get texts from Wikipedia\n",
        "def get_text(url):\n",
        "  scrapped_data = urllib.request.urlopen(url)\n",
        "  article = scrapped_data.read()\n",
        "  parsed_article = bs.BeautifulSoup(article,'lxml')\n",
        "  paragraphs = parsed_article.find_all('p')\n",
        "  article_text = \"\"\n",
        "  for p in paragraphs:\n",
        "    article_text += p.text\n",
        "  return article_text\n",
        "\n",
        "machine_learning = get_text(\"https://en.wikipedia.org/wiki/Machine_learning\")\n",
        "ai = get_text(\"https://en.wikipedia.org/wiki/Artificial_intelligence\")\n",
        "\n",
        "machine_learning"
      ],
      "execution_count": 49,
      "outputs": [
        {
          "output_type": "execute_result",
          "data": {
            "text/plain": [
              "'Machine learning (ML) is a field of inquiry devoted to understanding and building methods that \\'learn\\', that is, methods that leverage data to improve performance on some set of tasks.[1] It is seen as a part of artificial intelligence. Machine learning algorithms build a model based on sample data, known as training data, in order to make predictions or decisions without being explicitly programmed to do so.[2] Machine learning algorithms are used in a wide variety of applications, such as in medicine, email filtering, speech recognition, agriculture, and computer vision, where it is difficult or unfeasible to develop conventional algorithms to perform the needed tasks.[3][4] \\nA subset of machine learning is closely related to computational statistics, which focuses on making predictions using computers, but not all machine learning is statistical learning. The study of mathematical optimization delivers methods, theory and application domains to the field of machine learning. Data mining is a related field of study, focusing on exploratory data analysis through unsupervised learning.[6][7] Some implementations of machine learning use data and neural networks in a way that mimics the working of a biological brain.[8][9]  In its application across business problems, machine learning is also referred to as predictive analytics.\\nLearning algorithms work on the basis that strategies, algorithms, and inferences that worked well in the past are likely to continue working well in the future. These inferences can be obvious, such as \"since the sun rose every morning for the last 10,000 days, it will probably rise tomorrow morning as well\". They can be nuanced, such as \"X% of families have geographically separate species with color variants, so there is a Y% chance that undiscovered black swans exist\".[10]\\nMachine learning programs can perform tasks without being explicitly programmed to do so. It involves computers learning from data provided so that they carry out certain tasks. For simple tasks assigned to computers, it is possible to program algorithms telling the machine how to execute all steps required to solve the problem at hand; on the computer\\'s part, no learning is needed. For more advanced tasks, it can be challenging for a human to manually create the needed algorithms. In practice, it can turn out to be more effective to help the machine develop its own algorithm, rather than having human programmers specify every needed step.[11]\\nThe discipline of machine learning employs various approaches to teach computers to accomplish tasks where no fully satisfactory algorithm is available. In cases where vast numbers of potential answers exist, one approach is to label some of the correct answers as valid. This can then be used as training data for the computer to improve the algorithm(s) it uses to determine correct answers. For example, to train a system for the task of digital character recognition, the MNIST dataset of handwritten digits has often been used.[11]\\nThe term machine learning was coined in 1959 by Arthur Samuel, an IBM employee and pioneer in the field of computer gaming and artificial intelligence.[12][13] Also the synonym self-teaching computers were used in this time period.[14][15]\\nBy the early 1960s an experimental \"learning machine\" with punched tape memory, called Cybertron, had been developed by Raytheon Company to analyze sonar signals, electrocardiograms, and speech patterns using rudimentary reinforcement learning. It was repetitively \"trained\" by a human operator/teacher to recognize patterns and equipped with a \"goof\" button to cause it to re-evaluate incorrect decisions.[16] A representative book on research into machine learning during the 1960s was Nilsson\\'s book on Learning Machines, dealing mostly with machine learning for pattern classification.[17] Interest related to pattern recognition continued into the 1970s, as described by Duda and Hart in 1973.[18] In 1981 a report was given on using teaching strategies so that a neural network learns to recognize 40 characters (26 letters, 10 digits, and 4 special symbols) from a computer terminal.[19]\\nTom M. Mitchell provided a widely quoted, more formal definition of the algorithms studied in the machine learning field: \"A computer program is said to learn from experience E with respect to some class of tasks T and performance measure P if its performance at tasks in T, as measured by P,  improves with experience E.\"[20] This definition of the tasks in which machine learning is concerned offers a fundamentally operational definition rather than defining the field in cognitive terms. This follows Alan Turing\\'s proposal in his paper \"Computing Machinery and Intelligence\", in which the question \"Can machines think?\" is replaced with the question \"Can machines do what we (as thinking entities) can do?\".[21]\\nModern-day machine learning has two objectives, one is to classify data based on models which have been developed, the other purpose is to make predictions for future outcomes based on these models. A hypothetical algorithm specific to classifying data may use computer vision of moles coupled with supervised learning in order to train it to classify the cancerous moles. A machine learning algorithm for stock trading may inform the trader of future potential predictions.[22]\\nAs a scientific endeavor, machine learning grew out of the quest for artificial intelligence. In the early days of AI as an academic discipline, some researchers were interested in having machines learn from data. They attempted to approach the problem with various symbolic methods, as well as what was then termed \"neural networks\"; these were mostly perceptrons and other models that were later found to be reinventions of the generalized linear models of statistics.[25] Probabilistic reasoning was also employed, especially in automated medical diagnosis.[26]:\\u200a488\\u200a\\nHowever, an increasing emphasis on the logical, knowledge-based approach caused a rift between AI and machine learning. Probabilistic systems were plagued by theoretical and practical problems of data acquisition and representation.[26]:\\u200a488\\u200a By 1980, expert systems had come to dominate AI, and statistics was out of favor.[27] Work on symbolic/knowledge-based learning did continue within AI, leading to inductive logic programming, but the more statistical line of research was now outside the field of AI proper, in pattern recognition and information retrieval.[26]:\\u200a708–710,\\u200a755\\u200a Neural networks research had been abandoned by AI and computer science around the same time. This line, too, was continued outside the AI/CS field, as \"connectionism\", by researchers from other disciplines including Hopfield, Rumelhart, and Hinton. Their main success came in the mid-1980s with the reinvention of backpropagation.[26]:\\u200a25\\u200a\\nMachine learning (ML), reorganized as a separate field, started to flourish in the 1990s. The field changed its goal from achieving artificial intelligence to tackling solvable problems of a practical nature. It shifted focus away from the symbolic approaches it had inherited from AI, and toward methods and models borrowed from statistics, fuzzy logic, and probability theory.[27]\\nThe difference between ML and AI is frequently misunderstood. ML learns and predicts based on passive observations, whereas AI implies an agent interacting with the environment to learn and take actions that maximize its chance of successfully achieving its goals.[28]\\nAs of 2020, many sources continue to assert that ML remains a subfield of AI.[29][30][27] Others have the view that not all ML is part of AI, but only an \\'intelligent subset\\' of ML should be considered AI.[5][31][32]\\nMachine learning and data mining often employ the same methods and overlap significantly, but while machine learning focuses on prediction, based on known properties learned from the training data, data mining focuses on the discovery of (previously) unknown properties in the data (this is the analysis step of knowledge discovery in databases). Data mining uses many machine learning methods, but with different goals; on the other hand, machine learning also employs data mining methods as \"unsupervised learning\" or as a preprocessing step to improve learner accuracy. Much of the confusion between these two research communities (which do often have separate conferences and separate journals, ECML PKDD being a major exception) comes from the basic assumptions they work with: in machine learning, performance is usually evaluated with respect to the ability to reproduce known knowledge, while in knowledge discovery and data mining (KDD) the key task is the discovery of previously unknown knowledge. Evaluated with respect to known knowledge, an uninformed (unsupervised) method will easily be outperformed by other supervised methods, while in a typical KDD task, supervised methods cannot be used due to the unavailability of training data.\\nMachine learning also has intimate ties to optimization: many learning problems are formulated as minimization of some loss function on a training set of examples. Loss functions express the discrepancy between the predictions of the model being trained and the actual problem instances (for example, in classification, one wants to assign a label to instances, and models are trained to correctly predict the pre-assigned labels of a set of examples).[33]\\nThe difference between optimization and machine learning arises from the goal of generalization: while optimization algorithms can minimize the loss on a training set, machine learning is concerned with minimizing the loss on unseen samples. Characterizing the generalization of various learning algorithms is an active topic of current research, especially for deep learning algorithms.\\nMachine learning and statistics are closely related fields in terms of methods, but distinct in their principal goal: statistics draws population inferences from a sample, while machine learning finds generalizable predictive patterns.[34] According to Michael I. Jordan, the ideas of machine learning, from methodological principles to theoretical tools, have had a long pre-history in statistics.[35] He also suggested the term data science as a placeholder to call the overall field.[35]\\nLeo Breiman distinguished two statistical modeling paradigms: data model and algorithmic model,[29] wherein \"algorithmic model\" means more or less the machine learning algorithms like Random forest.\\nSome statisticians have adopted methods from machine learning, leading to a combined field that they call statistical learning.[30]\\nA core objective of a learner is to generalize from its experience.[5][31] Generalization in this context is the ability of a learning machine to perform accurately on new, unseen examples/tasks after having experienced a learning data set. The training examples come from some generally unknown probability distribution (considered representative of the space of occurrences) and the learner has to build a general model about this space that enables it to produce sufficiently accurate predictions in new cases.\\nThe computational analysis of machine learning algorithms and their performance is a branch of theoretical computer science known as computational learning theory via the Probably Approximately Correct Learning (PAC) model. Because training sets are finite and the future is uncertain, learning theory usually does not yield guarantees of the performance of algorithms. Instead, probabilistic bounds on the performance are quite common. The bias–variance decomposition is one way to quantify generalization error.\\nFor the best performance in the context of generalization, the complexity of the hypothesis should match the complexity of the function underlying the data. If the hypothesis is less complex than the function, then the model has under fitted the data. If the complexity of the model is increased in response, then the training error decreases. But if the hypothesis is too complex, then the model is subject to overfitting and generalization will be poorer.[32]\\nIn addition to performance bounds, learning theorists study the time complexity and feasibility of learning. In computational learning theory, a computation is considered feasible if it can be done in polynomial time. There are two kinds of time complexity results: Positive results show that a certain class of functions can be learned in polynomial time. Negative results show that certain classes cannot be learned in polynomial time.\\n\\nMachine learning approaches are traditionally divided into three broad categories, which correspond to learning paradigms, depending on the nature of the \"signal\" or \"feedback\" available to the learning system:\\nSupervised learning algorithms build a mathematical model of a set of data that contains both the inputs and the desired outputs.[36] The data is known as training data, and consists of a set of training examples. Each training example has one or more inputs and the desired output, also known as a supervisory signal.  In the mathematical model, each training example is represented by an array or vector, sometimes called a feature vector, and the training data is represented by a matrix. Through iterative optimization of an objective function, supervised learning algorithms learn a function that can be used to predict the output associated with new inputs.[37] An optimal function will allow the algorithm to correctly determine the output for inputs that were not a part of the training data. An algorithm that improves the accuracy of its outputs or predictions over time is said to have learned to perform that task.[20]\\nTypes of supervised-learning algorithms include active learning, classification and regression.[28] Classification algorithms are used when the outputs are restricted to a limited set of values, and regression algorithms are used when the outputs may have any numerical value within a range. As an example, for a classification algorithm that filters emails, the input would be an incoming email, and the output would be the name of the folder in which to file the email.\\nSimilarity learning is an area of supervised machine learning closely related to regression and classification, but the goal is to learn from examples using a similarity function that measures how similar or related two objects are. It has applications in ranking, recommendation systems, visual identity tracking, face verification, and speaker verification.\\nUnsupervised learning algorithms take a set of data that contains only inputs, and find structure in the data, like grouping or clustering of data points. The algorithms, therefore, learn from test data that has not been labeled, classified or categorized. Instead of responding to feedback, unsupervised learning algorithms identify commonalities in the data and react based on the presence or absence of such commonalities in each new piece of data. A central application of unsupervised learning is in the field of density estimation in statistics, such as finding the probability density function.[38] Though unsupervised learning encompasses other domains involving summarizing and explaining data features.\\nCluster analysis is the assignment of a set of observations into subsets (called clusters) so that observations within the same cluster are similar according to one or more predesignated criteria, while observations drawn from different clusters are dissimilar. Different clustering techniques make different assumptions on the structure of the data, often defined by some similarity metric and evaluated, for example, by internal compactness, or the similarity between members of the same cluster, and separation, the difference between clusters. Other methods are based on estimated density and graph connectivity.\\nSemi-supervised learning falls between unsupervised learning (without any labeled training data) and supervised learning (with completely labeled training data). Some of the training examples are missing training labels,  yet many machine-learning researchers have found that unlabeled data, when used in conjunction with a small amount of labeled data, can produce a considerable improvement in learning accuracy.\\nIn weakly supervised learning, the training labels are noisy, limited, or imprecise; however, these labels are often cheaper to obtain, resulting in larger effective training sets.[39]\\nReinforcement learning is an area of machine learning concerned with how software agents ought to take actions in an environment so as to maximize some notion of cumulative reward. Due to its generality, the field is studied in many other disciplines, such as game theory, control theory, operations research, information theory, simulation-based optimization, multi-agent systems, swarm intelligence, statistics and genetic algorithms. In machine learning, the environment is typically represented as a Markov decision process (MDP). Many reinforcement learning algorithms use dynamic programming techniques.[40] Reinforcement learning algorithms do not assume knowledge of an exact mathematical model of the MDP, and are used when exact models are infeasible. Reinforcement learning algorithms are used in autonomous vehicles or in learning to play a game against a human opponent.\\nDimensionality reduction is a process of reducing the number of random variables under consideration by obtaining a set of principal variables.[41] In other words, it is a process of reducing the dimension of the feature set, also called the \"number of features\". Most of the dimensionality reduction techniques can be considered as either feature elimination or extraction.\\nOne of the popular methods of dimensionality reduction is principal component analysis (PCA). PCA involves changing higher-dimensional data (e.g., 3D) to a smaller space (e.g., 2D). This results in a smaller dimension of data (2D instead of 3D), while keeping all original variables in the model without changing the data.[42]\\nThe manifold hypothesis proposes that high-dimensional data sets lie along low-dimensional manifolds, and many dimensionality reduction techniques make this assumption, leading to the area of manifold learning and manifold regularization.\\nOther approaches have been developed which don\\'t fit neatly into this three-fold categorization, and sometimes more than one is used by the same machine learning system. For example topic modeling, meta-learning.[43]\\nAs of 2022, deep learning is the dominant approach for much ongoing work in the field of machine learning.[11]\\nSelf-learning, as a machine learning paradigm was introduced in 1982 along with a neural network capable of self-learning, named crossbar adaptive array (CAA).[44] It is learning with no external rewards and no external teacher advice. The CAA self-learning algorithm computes, in a crossbar fashion, both decisions about actions and emotions (feelings) about consequence situations. The system is driven by the interaction between cognition and emotion.[45]\\nThe self-learning algorithm updates a memory matrix W =||w(a,s)|| such that in each iteration executes the following machine learning routine: \\nIt is a system with only one input, situation, and only one output, action (or behavior) a. There is neither a separate reinforcement input nor an advice input from the environment. The backpropagated value (secondary reinforcement) is the emotion toward the consequence situation. The CAA exists in two environments, one is the behavioral environment where it behaves, and the other is the genetic environment, wherefrom it initially and only once receives initial emotions about situations to be encountered in the behavioral environment. After receiving the genome (species) vector from the genetic environment, the CAA learns a goal-seeking behavior, in an environment that contains both desirable and undesirable situations.[46]\\nSeveral learning algorithms aim at discovering better representations of the inputs provided during training.[47] Classic examples include principal components analysis and cluster analysis. Feature learning algorithms, also called representation learning algorithms, often attempt to preserve the information in their input but also transform it in a way that makes it useful, often as a pre-processing step before performing classification or predictions. This technique allows reconstruction of the inputs coming from the unknown data-generating distribution, while not being necessarily faithful to configurations that are implausible under that distribution. This replaces manual feature engineering, and allows a machine to both learn the features and use them to perform a specific task.\\nFeature learning can be either supervised or unsupervised. In supervised feature learning, features are learned using labeled input data. Examples include artificial neural networks, multilayer perceptrons, and supervised dictionary learning. In unsupervised feature learning, features are learned with unlabeled input data.  Examples include dictionary learning, independent component analysis, autoencoders, matrix factorization[48] and various forms of clustering.[49][50][51]\\nManifold learning algorithms attempt to do so under the constraint that the learned representation is low-dimensional. Sparse coding algorithms attempt to do so under the constraint that the learned representation is sparse, meaning that the mathematical model has many zeros. Multilinear subspace learning algorithms aim to learn low-dimensional representations directly from tensor representations for multidimensional data, without reshaping them into higher-dimensional vectors.[52] Deep learning algorithms discover multiple levels of representation, or a hierarchy of features, with higher-level, more abstract features defined in terms of (or generating) lower-level features. It has been argued that an intelligent machine is one that learns a representation that disentangles the underlying factors of variation that explain the observed data.[53]\\nFeature learning is motivated by the fact that machine learning tasks such as classification often require input that is mathematically and computationally convenient to process. However, real-world data such as images, video, and sensory data has not yielded attempts to algorithmically define specific features. An alternative is to discover such features or representations through examination, without relying on explicit algorithms.\\nSparse dictionary learning is a feature learning method where a training example is represented as a linear combination of basis functions, and is assumed to be a sparse matrix. The method is strongly NP-hard and difficult to solve approximately.[54] A popular heuristic method for sparse dictionary learning is the K-SVD algorithm. Sparse dictionary learning has been applied in several contexts. In classification, the problem is to determine the class to which a previously unseen training example belongs. For a dictionary where each class has already been built, a new training example is associated with the class that is best sparsely represented by the corresponding dictionary. Sparse dictionary learning has also been applied in image de-noising. The key idea is that a clean image patch can be sparsely represented by an image dictionary, but the noise cannot.[55]\\nIn data mining, anomaly detection, also known as outlier detection, is the identification of rare items, events or observations which raise suspicions by differing significantly from the majority of the data.[56] Typically, the anomalous items represent an issue such as bank fraud, a structural defect, medical problems or errors in a text. Anomalies are referred to as outliers, novelties, noise, deviations and exceptions.[57]\\nIn particular, in the context of abuse and network intrusion detection, the interesting objects are often not rare objects, but unexpected bursts of inactivity. This pattern does not adhere to the common statistical definition of an outlier as a rare object. Many outlier detection methods (in particular, unsupervised algorithms) will fail on such data unless aggregated appropriately. Instead, a cluster analysis algorithm may be able to detect the micro-clusters formed by these patterns.[58]\\nThree broad categories of anomaly detection techniques exist.[59] Unsupervised anomaly detection techniques detect anomalies in an unlabeled test data set under the assumption that the majority of the instances in the data set are normal, by looking for instances that seem to fit the least to the remainder of the data set. Supervised anomaly detection techniques require a data set that has been labeled as \"normal\" and \"abnormal\" and involves training a classifier (the key difference to many other statistical classification problems is the inherently unbalanced nature of outlier detection). Semi-supervised anomaly detection techniques construct a model representing normal behavior from a given normal training data set and then test the likelihood of a test instance to be generated by the model.\\nRobot learning is inspired by a multitude of machine learning methods, starting from supervised learning, reinforcement learning,[60][61] and finally meta-learning (e.g. MAML).\\nAssociation rule learning is a rule-based machine learning method for discovering relationships between variables in large databases. It is intended to identify strong rules discovered in databases using some measure of \"interestingness\".[62]\\nRule-based machine learning is a general term for any machine learning method that identifies, learns, or evolves \"rules\" to store, manipulate or apply knowledge. The defining characteristic of a rule-based machine learning algorithm is the identification and utilization of a set of relational rules that collectively represent the knowledge captured by the system. This is in contrast to other machine learning algorithms that commonly identify a singular model that can be universally applied to any instance in order to make a prediction.[63] Rule-based machine learning approaches include learning classifier systems, association rule learning, and artificial immune systems.\\nBased on the concept of strong rules, Rakesh Agrawal, Tomasz Imieliński and Arun Swami introduced association rules for discovering regularities between products in large-scale transaction data recorded by point-of-sale (POS) systems in supermarkets.[64] For example, the rule \\n\\n\\n\\n{\\n\\no\\nn\\ni\\no\\nn\\ns\\n,\\np\\no\\nt\\na\\nt\\no\\ne\\ns\\n\\n}\\n⇒\\n{\\n\\nb\\nu\\nr\\ng\\ne\\nr\\n\\n}\\n\\n\\n{\\\\displaystyle \\\\{\\\\mathrm {onions,potatoes} \\\\}\\\\Rightarrow \\\\{\\\\mathrm {burger} \\\\}}\\n\\n found in the sales data of a supermarket would indicate that if a customer buys onions and potatoes together, they are likely to also buy hamburger meat. Such information can be used as the basis for decisions about marketing activities such as promotional pricing or product placements. In addition to market basket analysis, association rules are employed today in application areas including Web usage mining, intrusion detection, continuous production, and bioinformatics. In contrast with sequence mining, association rule learning typically does not consider the order of items either within a transaction or across transactions.\\nLearning classifier systems (LCS) are a family of rule-based machine learning algorithms that combine a discovery component, typically a genetic algorithm, with a learning component, performing either supervised learning, reinforcement learning, or unsupervised learning. They seek to identify a set of context-dependent rules that collectively store and apply knowledge in a piecewise manner in order to make predictions.[65]\\nInductive logic programming (ILP) is an approach to rule learning using logic programming as a uniform representation for input examples, background knowledge, and hypotheses. Given an encoding of the known background knowledge and a set of examples represented as a logical database of facts, an ILP system will derive a hypothesized logic program that entails all positive and no negative examples. Inductive programming is a related field that considers any kind of programming language for representing hypotheses (and not only logic programming), such as functional programs.\\nInductive logic programming is particularly useful in bioinformatics and natural language processing. Gordon Plotkin and Ehud Shapiro laid the initial theoretical foundation for inductive machine learning in a logical setting.[66][67][68] Shapiro built their first implementation (Model Inference System) in 1981: a Prolog program that inductively inferred logic programs from positive and negative examples.[69] The term inductive here refers to philosophical induction, suggesting a theory to explain observed facts, rather than mathematical induction, proving a property for all members of a well-ordered set.\\nPerforming machine learning involves creating a model, which is trained on some training data and then can process additional data to make predictions. Various types of models have been used and researched for machine learning systems.\\nArtificial neural networks (ANNs), or connectionist systems, are computing systems vaguely inspired by the biological neural networks that constitute animal brains. Such systems \"learn\" to perform tasks by considering examples, generally without being programmed with any task-specific rules.\\nAn ANN is a model based on a collection of connected units or nodes called \"artificial neurons\", which loosely model the neurons in a biological brain. Each connection, like the synapses in a biological brain, can transmit information, a \"signal\", from one artificial neuron to another. An artificial neuron that receives a signal can process it and then signal additional artificial neurons connected to it. In common ANN implementations, the signal at a connection between artificial neurons is a real number, and the output of each artificial neuron is computed by some non-linear function of the sum of its inputs. The connections between artificial neurons are called \"edges\". Artificial neurons and edges typically have a weight that adjusts as learning proceeds. The weight increases or decreases the strength of the signal at a connection. Artificial neurons may have a threshold such that the signal is only sent if the aggregate signal crosses that threshold. Typically, artificial neurons are aggregated into layers. Different layers may perform different kinds of transformations on their inputs. Signals travel from the first layer (the input layer) to the last layer (the output layer), possibly after traversing the layers multiple times.\\nThe original goal of the ANN approach was to solve problems in the same way that a human brain would. However, over time, attention moved to performing specific tasks, leading to deviations from biology. Artificial neural networks have been used on a variety of tasks, including computer vision, speech recognition, machine translation, social network filtering, playing board and video games and medical diagnosis.\\nDeep learning consists of multiple hidden layers in an artificial neural network. This approach tries to model the way the human brain processes light and sound into vision and hearing. Some successful applications of deep learning are computer vision and speech recognition.[70]\\nDecision tree learning uses a decision tree as a predictive model to go from observations about an item (represented in the branches) to conclusions about the item\\'s target value (represented in the leaves). It is one of the predictive modeling approaches used in statistics, data mining, and machine learning. Tree models where the target variable can take a discrete set of values are called classification trees; in these tree structures, leaves represent class labels, and branches represent conjunctions of features that lead to those class labels. Decision trees where the target variable can take continuous values (typically real numbers) are called regression trees. In decision analysis, a decision tree can be used to visually and explicitly represent decisions and decision making. In data mining, a decision tree describes data, but the resulting classification tree can be an input for decision-making.\\nSupport-vector machines (SVMs), also known as support-vector networks, are a set of related supervised learning methods used for classification and regression. Given a set of training examples, each marked as belonging to one of two categories, an SVM training algorithm builds a model that predicts whether a new example falls into one category.[71]  An SVM training algorithm is a non-probabilistic, binary, linear classifier, although methods such as Platt scaling exist to use SVM in a probabilistic classification setting. In addition to performing linear classification, SVMs can efficiently perform a non-linear classification using what is called the kernel trick, implicitly mapping their inputs into high-dimensional feature spaces.\\nRegression analysis encompasses a large variety of statistical methods to estimate the relationship between input variables and their associated features. Its most common form is linear regression, where a single line is drawn to best fit the given data according to a mathematical criterion such as ordinary least squares. The latter is often extended by regularization methods to mitigate overfitting and bias, as in ridge regression. When dealing with non-linear problems, go-to models include polynomial regression (for example, used for trendline fitting in Microsoft Excel[72]), logistic regression (often used in statistical classification) or even kernel regression, which introduces non-linearity by taking advantage of the kernel trick to implicitly map input variables to higher-dimensional space.\\nA Bayesian network, belief network, or directed acyclic graphical model is a probabilistic graphical model that represents a set of random variables and their conditional independence with a directed acyclic graph (DAG). For example, a Bayesian network could represent the probabilistic relationships between diseases and symptoms. Given symptoms, the network can be used to compute the probabilities of the presence of various diseases. Efficient algorithms exist that perform inference and learning. Bayesian networks that model sequences of variables, like speech signals or protein sequences, are called dynamic Bayesian networks. Generalizations of Bayesian networks that can represent and solve decision problems under uncertainty are called influence diagrams.\\n\\nA Gaussian process is a stochastic process in which every finite collection of the random variables in the process has a multivariate normal distribution, and it relies on a pre-defined covariance function, or kernel, that models how pairs of points relate to each other depending on their locations.\\nGiven a set of observed points, or input–output examples, the distribution of the (unobserved) output of a new point as function of its input data, can be directly computed by looking as the observed points and the covariances between those points and the new, unobserved point.\\nGaussian processes are popular surrogate models in Bayesian optimization used to do hyperparameter optimization.\\n\\nA genetic algorithm (GA) is a search algorithm and heuristic technique that mimics the process of natural selection, using methods such as mutation and crossover to generate new genotypes in the hope of finding good solutions to a given problem. In machine learning, genetic algorithms were used in the 1980s and 1990s.[74][75] Conversely, machine learning techniques have been used to improve the performance of genetic and evolutionary algorithms.[76]\\nTypically, machine learning models require a high quantity of reliable data in order for the models to perform accurate predictions. When training a machine learning model, machine learning engineers need to target and collect a large and representative sample of data. Data from the training set can be as varied as a corpus of text, a collection of images, sensor data, and data collected from individual users of a service. Overfitting is something to watch out for when training a machine learning model. Trained models derived from biased or non-evaluated data can result in skewed or undesired predictions. Bias models may result in detrimental outcomes thereby furthering the negative impacts on society or objectives. Algorithmic bias is a potential result of data not being fully prepared for training. Machine learning ethics is becoming a field of study and notably be integrated within machine learning engineering teams.\\nFederated learning is an adapted form of distributed artificial intelligence to training machine learning models that decentralizes the training process, allowing for users\\' privacy to be maintained by not needing to send their data to a centralized server. This also increases efficiency by decentralizing the training process to many devices. For example, Gboard uses federated machine learning to train search query prediction models on users\\' mobile phones without having to send individual searches back to Google.[77]\\nThere are many applications for machine learning, including:\\nIn 2006, the media-services provider Netflix held the first \"Netflix Prize\" competition to find a program to better predict user preferences and improve the accuracy of its existing Cinematch movie recommendation algorithm by at least 10%.  A joint team made up of researchers from AT&T Labs-Research in collaboration with the teams Big Chaos and Pragmatic Theory built an ensemble model to win the Grand Prize in 2009 for $1\\xa0 million.[79] Shortly after the prize was awarded, Netflix realized that viewers\\' ratings were not the best indicators of their viewing patterns (\"everything is a recommendation\") and they changed their recommendation engine accordingly.[80] In 2010 The Wall Street Journal wrote about the firm Rebellion Research and their use of machine learning to predict the financial crisis.[81] In 2012, co-founder of Sun Microsystems, Vinod Khosla, predicted that 80% of medical doctors jobs would be lost in the next two decades to automated machine learning medical diagnostic software.[82] In 2014, it was reported that a machine learning algorithm had been applied in the field of art history to study fine art paintings and that it may have revealed previously unrecognized influences among artists.[83] In 2019 Springer Nature published the first research book created using machine learning.[84] In 2020, machine learning technology was used to help make diagnoses and aid researchers in developing a cure for COVID-19.[85] Machine learning is recently applied to predict the green behavior of human-being.[86] Recently, machine learning technology is also applied to optimise smartphone\\'s performance and thermal behaviour based on the user\\'s interaction with the phone.[87][88][89]\\nAlthough machine learning has been transformative in some fields, machine-learning programs often fail to deliver expected results.[90][91][92] Reasons for this are numerous: lack of (suitable) data, lack of access to the data, data bias, privacy problems, badly chosen tasks and algorithms, wrong tools and people, lack of resources, and evaluation problems.[93]\\nIn 2018, a self-driving car from Uber failed to detect a pedestrian, who was killed after a collision.[94] Attempts to use machine learning in healthcare with the IBM Watson system failed to deliver even after years of time and billions of dollars invested.[95][96]\\nMachine learning has been used as a strategy to update the evidence related to a systematic review and increased reviewer burden related to the growth of biomedical literature. While it has improved with training sets, it has not yet developed sufficiently to reduce the workload burden without limiting the necessary sensitivity for the findings research themselves.[97]\\nMachine learning approaches in particular can suffer from different data biases. A machine learning system trained specifically on current customers may not be able to predict the needs of new customer groups that are not represented in the training data. When trained on man-made data, machine learning is likely to pick up the constitutional and unconscious biases already present in society.[98] Language models learned from data have been shown to contain human-like biases.[99][100] Machine learning systems used for criminal risk assessment have been found to be biased against black people.[101][102] In 2015, Google photos would often tag black people as gorillas,[103] and in 2018 this still was not well resolved, but Google reportedly was still using the workaround to remove all gorillas from the training data, and thus was not able to recognize real gorillas at all.[104] Similar issues with recognizing non-white people have been found in many other systems.[105] In 2016, Microsoft tested a chatbot that learned from Twitter, and it quickly picked up racist and sexist language.[106] Because of such challenges, the effective use of machine learning may take longer to be adopted in other domains.[107] Concern for fairness in machine learning, that is, reducing bias in machine learning and propelling its use for human good is increasingly expressed by artificial intelligence scientists, including Fei-Fei Li, who reminds engineers that \"There\\'s nothing artificial about AI...It\\'s inspired by people, it\\'s created by people, and—most importantly—it impacts people. It is a powerful tool we are only just beginning to understand, and that is a profound responsibility.\"[108]\\nExplainable AI (XAI), or Interpretable AI, or Explainable Machine Learning (XML), is artificial intelligence (AI) in which humans can understand the decisions or predictions made by the AI. It contrasts with the \"black box\" concept in machine learning where even its designers cannot explain why an AI arrived at a specific decision. By refining the mental models of users of AI-powered systems and dismantling their misconceptions, XAI promises to help users perform more effectively. XAI may be an implementation of the social right to explanation.\\nSettling on a bad, overly complex theory gerrymandered to fit all the past training data is known as overfitting. Many systems attempt to reduce overfitting by rewarding a theory in accordance with how well it fits the data, but penalizing the theory in accordance with how complex the theory is.[10]\\nLearners can also disappoint by \"learning the wrong lesson\". A toy example is that an image classifier trained only on pictures of brown horses and black cats might conclude that all brown patches are likely to be horses.[109] A real-world example is that, unlike humans, current image classifiers often don\\'t primarily make judgments from the spatial relationship between components of the picture, and they learn relationships between pixels that humans are oblivious to, but that still correlate with images of certain types of real objects. Modifying these patterns on a legitimate image can result in \"adversarial\" images that the system misclassifies.[110][111]\\nAdversarial vulnerabilities can also result in nonlinear systems, or from non-pattern perturbations. Some systems are so brittle that changing a single adversarial pixel predictably induces misclassification.[citation needed] Machine learning models are often vulnerable to manipulation and/or evasion via adversarial machine learning.[112]\\nResearchers have demonstrated how backdoors can be placed undetectably into classifying (e.g. for categories \"spam\" and well-visible \"not spam\" of posts) machine learning models which are often developed and/or trained by third parties. Parties can change the classification of any input, including in cases for which a type of data/software transparency is provided, possibly including white-box access.[113][114][115]\\nClassification of machine learning models can be validated by accuracy estimation techniques like the holdout method, which splits the data in a training and test set (conventionally 2/3 training set and 1/3 test set designation) and evaluates the performance of the training model on the test set. In comparison, the K-fold-cross-validation method randomly partitions the data into K subsets and then K experiments are performed each respectively considering 1 subset for evaluation and the remaining K-1 subsets for training the model. In addition to the holdout and cross-validation methods, bootstrap, which samples n instances with replacement from the dataset, can be used to assess model accuracy.[116]\\nIn addition to overall accuracy, investigators frequently report sensitivity and specificity meaning True Positive Rate (TPR) and True Negative Rate (TNR) respectively. Similarly, investigators sometimes report the false positive rate (FPR) as well as the false negative rate (FNR). However, these rates are ratios that fail to reveal their numerators and denominators. The total operating characteristic (TOC) is an effective method to express a model\\'s diagnostic ability. TOC shows the numerators and denominators of the previously mentioned rates, thus TOC provides more information than the commonly used receiver operating characteristic (ROC) and ROC\\'s associated area under the curve (AUC).[117]\\nMachine learning poses a host of ethical questions. Systems that are trained on datasets collected with biases may exhibit these biases upon use (algorithmic bias), thus digitizing cultural prejudices.[118] For example, in 1988, the UK\\'s Commission for Racial Equality found that St. George\\'s Medical School had been using a computer program trained from data of previous admissions staff and this program had denied nearly 60 candidates who were found to be either women or had non-European sounding names.[98] Using job hiring data from a firm with racist hiring policies may lead to a machine learning system duplicating the bias by scoring job applicants by similarity to previous successful applicants.[119][120] Responsible collection of data and documentation of algorithmic rules used by a system thus is a critical part of machine learning.\\nAI can be well-equipped to make decisions in technical fields, which rely heavily on data and historical information. These decisions rely on the objectivity and logical reasoning.[121] Because human languages contain biases, machines trained on language corpora will necessarily also learn these biases.[122][123]\\nOther forms of ethical challenges, not related to personal biases, are seen in health care. There are concerns among health care professionals that these systems might not be designed in the public\\'s interest but as income-generating machines.[124] This is especially true in the United States where there is a long-standing ethical dilemma of improving health care, but also increase profits. For example, the algorithms could be designed to provide patients with unnecessary tests or medication in which the algorithm\\'s proprietary owners hold stakes. There is potential for machine learning in health care to provide professionals an additional tool to diagnose, medicate, and plan recovery paths for patients, but this requires these biases to be mitigated.[125]\\nSince the 2010s, advances in both machine learning algorithms and computer hardware have led to more efficient methods for training deep neural networks (a particular narrow subdomain of machine learning) that contain many layers of non-linear hidden units.[126] By 2019, graphic processing units (GPUs), often with AI-specific enhancements, had displaced CPUs as the dominant method of training large-scale commercial cloud AI.[127] OpenAI estimated the hardware computing used in the largest deep learning projects from AlexNet (2012) to AlphaZero (2017), and found a 300,000-fold increase in the amount of compute required, with a doubling-time trendline of 3.4 months.[128][129]\\nA physical neural network or Neuromorphic computer  is a type of artificial neural network in which an electrically adjustable material is used to emulate the function of a neural synapse. \"Physical\" neural network is used to emphasize the reliance on physical hardware used to emulate neurons as opposed to software-based approaches. More generally the term is applicable to other artificial neural networks in which a memristor or other electrically adjustable resistance material is used to emulate a neural synapse.[130][131]\\nEmbedded Machine Learning is a sub-field of machine learning, where the machine learning model is run on embedded systems with limited computing resources such as wearable computers, edge devices and microcontrollers.[132][133][134] Running machine learning model in embedded devices removes the need for transferring and storing data on cloud servers for further processing, henceforth, reducing data breaches and privacy leaks happening because of transferring data, and also minimizes theft of intellectual properties, personal data and business secrets. Embedded Machine Learning could be applied through several techniques including hardware acceleration,[135][136] using approximate computing,[137] optimization of machine learning models and many more.[138][139]\\nSoftware suites containing a variety of machine learning algorithms include the following:\\n'"
            ],
            "application/vnd.google.colaboratory.intrinsic+json": {
              "type": "string"
            }
          },
          "metadata": {},
          "execution_count": 49
        }
      ]
    },
    {
      "cell_type": "code",
      "metadata": {
        "id": "mrTQGSZWZlBx",
        "colab": {
          "base_uri": "https://localhost:8080/",
          "height": 1000
        },
        "outputId": "001bace8-c34c-4b9a-d18f-0a879dace15e"
      },
      "source": [
        "ai"
      ],
      "execution_count": 50,
      "outputs": [
        {
          "output_type": "execute_result",
          "data": {
            "text/plain": [
              "'\\n\\nArtificial intelligence (AI) is intelligence - perceiving, synthesizing, and infering information - demonstrated by machines, as opposed to intelligence displayed by animals and humans. Example tasks in which this is done include speech recognition, computer vision, translation between (natural) languages, as well as other mappings of inputs.  OED (OUP) defines artificial intelligence as:[1]\\nthe theory and development of computer systems able to perform tasks that normally require human intelligence, such as visual perception, speech recognition, decision-making, and translation between languages.\\nSeveral important sub-fields of AI research (as opposed to AI itself) have used working definitions of the intelligent agents field of study, which refers to any system that perceives its environment using an AI-component and takes actions (using procedural / hard-coded components) that maximize its chance of achieving its goals.[a]\\nWhile intelligent agents as systems that use artificial intelligence are an important application of AI, many AI systems do not perform any procedural (hard-coded) steps with the outputs of the AI at all, such as computer vision, speech recognition, or recommender systems (often not even deciding on an output from probabilities, but outputting several).\\nThe term \"artificial intelligence\" had previously been used to describe machines that mimic and display \"human\" cognitive skills that are associated with the human mind, such as \"learning\" and \"problem-solving\". This definition has since been rejected by major AI researchers who now describe AI in terms of rationality and acting rationally, which does not limit how intelligence can be articulated.[b]\\nAI applications include advanced web search engines (e.g., Google), recommendation systems (used by YouTube, Amazon and Netflix), understanding human speech (such as Siri and Alexa), self-driving cars (e.g., Tesla), automated decision-making and competing at the highest level in strategic game systems (such as chess and Go).[3]\\nAs machines become increasingly capable, tasks considered to require \"intelligence\" are often removed from the definition of AI, a phenomenon known as the AI effect.[4] For instance, optical character recognition is frequently excluded from things considered to be AI,[5] having become a routine technology.[6]\\nArtificial intelligence was founded as an academic discipline in 1956, and in the years since has experienced several waves of optimism,[7][8] followed by disappointment and the loss of funding (known as an \"AI winter\"),[9][10] followed by new approaches, success and renewed funding.[8][11] AI research has tried and discarded many different approaches since its founding, including simulating the brain, modeling human problem solving, formal logic, large databases of knowledge and imitating animal behavior. In the first decades of the 21st century, highly mathematical-statistical machine learning has dominated the field, and this technique has proved highly successful, helping to solve many challenging problems throughout industry and academia.[11][12]\\nThe various sub-fields of AI research are centered around particular goals and the use of particular tools. The traditional goals of AI research include reasoning, knowledge representation, planning, learning, natural language processing, perception, and the ability to move and manipulate objects.[c] General intelligence (the ability to solve an arbitrary problem) is among the field\\'s long-term goals.[13] To solve these problems, AI researchers have adapted and integrated a wide range of problem-solving techniques – including search and mathematical optimization, formal logic, artificial neural networks, and methods based on statistics, probability and economics. AI also draws upon computer science, psychology, linguistics, philosophy, and many other fields.\\nThe field was founded on the assumption that human intelligence \"can be so precisely described that a machine can be made to simulate it\".[d]\\nThis raised philosophical arguments about the mind and the ethical consequences of creating artificial beings endowed with human-like intelligence; these issues have previously been explored by myth, fiction and philosophy since antiquity.[15] Computer scientists and philosophers have since suggested that AI may become an existential risk to humanity if its rational capacities are not steered towards beneficial goals.[e]\\nArtificial beings with intelligence appeared as storytelling devices in antiquity,[16]\\nand have been common in fiction, as in Mary Shelley\\'s Frankenstein or Karel Čapek\\'s R.U.R.[17] These characters and their fates raised many of the same issues now discussed in the ethics of artificial intelligence.[18]\\nThe study of mechanical or \"formal\" reasoning began with philosophers and mathematicians in antiquity. The study of mathematical logic led directly to Alan Turing\\'s theory of computation, which suggested that a machine, by shuffling symbols as simple as \"0\" and \"1\", could simulate any conceivable act of mathematical deduction. This insight that digital computers can simulate any process of formal reasoning is known as the Church–Turing thesis.[19] This, along with concurrent discoveries in neurobiology, information theory and cybernetics, led researchers to consider the possibility of building an electronic brain.[20]\\nThe first work that is now generally recognized as AI was McCullouch and Pitts\\' 1943 formal design for Turing-complete \"artificial neurons\".[21]\\nBy the 1950s, two visions for how to achieve machine intelligence emerged. One vision, known as Symbolic AI or GOFAI, was to use computers to create a symbolic representation of the world and systems that could reason about the world. Proponents included Allen Newell, Herbert A. Simon, and Marvin Minsky. Closely associated with this approach was the \"heuristic search\" approach, which likened intelligence to a problem of exploring a space of possibilities for answers. The second vision, known as the connectionist approach, sought to achieve intelligence through learning. Proponents of this approach, most prominently Frank Rosenblatt, sought to connect Perceptron in ways inspired by connections of neurons.[22] James Manyika and others have compared the two approaches to the mind (Symbolic AI) and the brain (connectionist). Manyika argues that symbolic approaches dominated the push for artificial intelligence in this period, due in part to its connection to intellectual traditions of Descarte, Boole, Gottlob Frege, Bertrand Russell, and others. Connectionist approaches based on cybernetics or artificial neural networks were pushed to the background but have gained new prominence in recent decades.[23]\\nThe field of AI research was born at a workshop at Dartmouth College in 1956.[f][26]\\nThe attendees became the founders and leaders of AI research.[g]\\nThey and their students produced programs that the press described as \"astonishing\":[h]\\ncomputers were learning checkers strategies, solving word problems in algebra, proving logical theorems and speaking English.[i][28]\\nBy the middle of the 1960s, research in the U.S. was heavily funded by the Department of Defense[29]\\nand laboratories had been established around the world.[30]\\nResearchers in the 1960s and the 1970s were convinced that symbolic approaches would eventually succeed in creating a machine with artificial general intelligence and considered this the goal of their field.[31]\\nHerbert Simon predicted, \"machines will be capable, within twenty years, of doing any work a man can do\".[32]\\nMarvin Minsky agreed, writing, \"within a generation\\xa0... the problem of creating \\'artificial intelligence\\' will substantially be solved\".[33] They had failed to recognize the difficulty of some of the remaining tasks. Progress slowed and in 1974, in response to the criticism of Sir James Lighthill[34]\\nand ongoing pressure from the US Congress to fund more productive projects, both the U.S. and British governments cut off exploratory research in AI. The next few years would later be called an \"AI winter\", a period when obtaining funding for AI projects was difficult.[9]\\nIn the early 1980s, AI research was revived by the commercial success of expert systems,[35]\\na form of AI program that simulated the knowledge and analytical skills of human experts. By 1985, the market for AI had reached over a billion dollars. At the same time, Japan\\'s fifth generation computer project inspired the U.S. and British governments to restore funding for academic research.[8]\\nHowever, beginning with the collapse of the Lisp Machine market in 1987, AI once again fell into disrepute, and a second, longer-lasting winter began.[10]\\nMany researchers began to doubt that the symbolic approach would be able to imitate all the processes of human cognition, especially perception, robotics, learning and pattern recognition. A number of researchers began to look into \"sub-symbolic\" approaches to specific AI problems.[36] Robotics researchers, such as Rodney Brooks, rejected symbolic AI and focused on the basic engineering problems that would allow robots to move, survive, and learn their environment.[j]\\nInterest in neural networks and \"connectionism\" was revived by Geoffrey Hinton, David Rumelhart and others in the middle of the 1980s.[41]\\nSoft computing tools were developed in the 1980s, such as neural networks, fuzzy systems, Grey system theory, evolutionary computation and many tools drawn from statistics or mathematical optimization.\\nAI gradually restored its reputation in the late 1990s and early 21st century by finding specific solutions to specific problems. The narrow focus allowed researchers to produce verifiable results, exploit more mathematical methods, and collaborate with other fields (such as statistics, economics and mathematics).[42]\\nBy 2000, solutions developed by AI researchers were being widely used, although in the 1990s they were rarely described as \"artificial intelligence\".[12]\\nFaster computers, algorithmic improvements, and access to large amounts of data enabled advances in machine learning and perception; data-hungry deep learning methods started to dominate accuracy benchmarks around 2012.[43]\\nAccording to Bloomberg\\'s Jack Clark, 2015 was a landmark year for artificial intelligence, with the number of software projects that use AI within Google increased from a \"sporadic usage\" in 2012 to more than 2,700 projects.[k] He attributes this to an increase in affordable neural networks, due to a rise in cloud computing infrastructure and to an increase in research tools and datasets.[11] In a 2017 survey, one in five companies reported they had \"incorporated AI in some offerings or processes\".[44] The amount of research into AI (measured by total publications) increased by 50% in the years 2015–2019.[45]\\nNumerous academic researchers became concerned that AI was no longer pursuing the original goal of creating versatile, fully intelligent machines. Much of current research involves statistical AI, which is overwhelmingly used to solve specific problems, even highly successful techniques such as deep learning. This concern has led to the subfield of artificial general intelligence (or \"AGI\"), which had several well-funded institutions by the 2010s.[13]\\nThe general problem of simulating (or creating) intelligence has been broken down into sub-problems. These consist of particular traits or capabilities that researchers expect an intelligent system to display. The traits described below have received the most attention.[c]\\nEarly researchers developed algorithms that imitated step-by-step reasoning that humans use when they solve puzzles or make logical deductions.[46]\\nBy the late 1980s and 1990s, AI research had developed methods for dealing with uncertain or incomplete information, employing concepts from probability and economics.[47]\\nMany of these algorithms proved to be insufficient for solving large reasoning problems because they experienced a \"combinatorial explosion\": they became exponentially slower as the problems grew larger.[48]\\nEven humans rarely use the step-by-step deduction that early AI research could model. They solve most of their problems using fast, intuitive judgments.[49]\\nKnowledge representation and knowledge engineering[50]\\nallow AI programs to answer questions intelligently and make deductions about real-world facts.\\nA representation of \"what exists\" is an ontology: the set of objects, relations, concepts, and properties formally described so that software agents can interpret them.[51]\\nThe most general ontologies are called upper ontologies, which attempt to provide a foundation for all other knowledge and act as mediators between domain ontologies that cover specific knowledge about a particular knowledge domain (field of interest or area of concern). A truly intelligent program would also need access to commonsense knowledge; the set of facts that an average person knows. The semantics of an ontology is typically represented in description logic, such as the Web Ontology Language.[52]\\nAI research has developed tools to represent specific domains, such as objects, properties, categories and relations between objects;[52]\\nsituations, events, states and time;[53]\\ncauses and effects;[54]\\nknowledge about knowledge (what we know about what other people know);.[55]\\ndefault reasoning (things that humans assume are true until they are told differently and will remain true even when other facts are changing);\\n[56]\\nas well as other domains. Among the most difficult problems in AI are: the breadth of commonsense knowledge (the number of atomic facts that the average person knows is enormous);[57]\\nand the sub-symbolic form of most commonsense knowledge (much of what people know is not represented as \"facts\" or \"statements\" that they could express verbally).[49]\\nFormal knowledge representations are used in content-based indexing and retrieval,[58]\\nscene interpretation,[59]\\nclinical decision support,[60]\\nknowledge discovery (mining \"interesting\" and actionable inferences from large databases),[61]\\nand other areas.[62]\\nAn intelligent agent that can plan makes a representation of the state of the world, makes predictions about how their actions will change it and make choices that maximize the utility (or \"value\") of the available choices.[63]\\nIn classical planning problems, the agent can assume that it is the only system acting in the world, allowing the agent to be certain of the consequences of its actions.[64]\\nHowever, if the agent is not the only actor, then it requires that the agent reason under uncertainty, and continuously re-assess its environment and adapt.[65]\\nMulti-agent planning uses the cooperation and competition of many agents to achieve a given goal. Emergent behavior such as this is used by evolutionary algorithms and swarm intelligence.[66]\\nMachine learning (ML), a fundamental concept of AI research since the field\\'s inception,[l]\\nis the study of computer algorithms that improve automatically through experience.[m]\\nUnsupervised learning finds patterns in a stream of input. Supervised learning requires a human to label the input data first, and comes in two main varieties: classification and numerical regression. Classification is used to determine what category something belongs in – the program sees a number of examples of things from several categories and will learn to classify new inputs. Regression is the attempt to produce a function that describes the relationship between inputs and outputs and predicts how the outputs should change as the inputs change. Both classifiers and regression learners can be viewed as \"function approximators\" trying to learn an unknown (possibly implicit) function; for example, a spam classifier can be viewed as learning a function that maps from the text of an email to one of two categories, \"spam\" or \"not spam\".[70]\\nIn reinforcement learning the agent is rewarded for good responses and punished for bad ones. The agent classifies its responses to form a strategy for operating in its problem space.[71]\\nTransfer learning is when the knowledge gained from one problem is applied to a new problem.[72]\\nComputational learning theory can assess learners by computational complexity, by sample complexity (how much data is required), or by other notions of optimization.[73]\\nNatural language processing (NLP)[74]\\nallows machines to read and understand human language. A sufficiently powerful natural language processing system would enable natural-language user interfaces and the acquisition of knowledge directly from human-written sources, such as newswire texts. Some straightforward applications of NLP include information retrieval, question answering and machine translation.[75]\\nSymbolic AI used formal syntax to translate the deep structure of sentences into logic. This failed to produce useful applications, due to the intractability of logic[48] and the breadth of commonsense knowledge.[57] Modern statistical techniques include co-occurrence frequencies (how often one word appears near another), \"Keyword spotting\" (searching for a particular word to retrieve information), transformer-based deep learning (which finds patterns in text), and others.[76] They have achieved acceptable accuracy at the page or paragraph level, and, by 2019, could generate coherent text.[77]Machine perception[78]\\nis the ability to use input from sensors (such as cameras, microphones, wireless signals, and active lidar, sonar, radar, and tactile sensors) to deduce aspects of the world. Applications include speech recognition,[79]\\nfacial recognition, and object recognition.[80]\\nComputer vision is the ability to analyze visual input.[81]\\nAI is heavily used in robotics.[82]\\nLocalization is how a robot knows its location and maps its environment. When given a small, static, and visible environment, this is easy; however, dynamic environments, such as (in endoscopy) the interior of a patient\\'s breathing body, pose a greater challenge.[83]\\nMotion planning is the process of breaking down a movement task into \"primitives\" such as individual joint movements. Such movement often involves compliant motion, a process where movement requires maintaining physical contact with an object. Robots can learn from experience how to move efficiently despite the presence of friction and gear slippage.[84]Affective computing is an interdisciplinary umbrella that comprises systems that recognize, interpret, process or simulate human feeling, emotion and mood.[86] \\nFor example, some virtual assistants are programmed to speak conversationally or even to banter humorously; it makes them appear more sensitive to the emotional dynamics of human interaction, or to otherwise facilitate human–computer interaction.\\nHowever, this tends to give naïve users an unrealistic conception of how intelligent existing computer agents actually are.[87] Moderate successes related to affective computing include textual sentiment analysis and, more recently, multimodal sentiment analysis), wherein AI classifies the affects displayed by a videotaped subject.[88]\\nA machine with general intelligence can solve a wide variety of problems with breadth and versatility similar to human intelligence. There are several competing ideas about how to develop artificial general intelligence. Hans Moravec and Marvin Minsky argue that work in different individual domains can be incorporated into an advanced multi-agent system or cognitive architecture with general intelligence.[89]\\nPedro Domingos hopes that there is a conceptually straightforward, but mathematically difficult, \"master algorithm\" that could lead to AGI.[90]\\nOthers believe that anthropomorphic features like an artificial brain[91]\\nor simulated child development[n]\\nwill someday reach a critical point where general intelligence emerges.\\nAI can solve many problems by intelligently searching through many possible solutions.[92] Reasoning can be reduced to performing a search. For example, logical proof can be viewed as searching for a path that leads from premises to conclusions, where each step is the application of an inference rule.[93] Planning algorithms search through trees of goals and subgoals, attempting to find a path to a target goal, a process called means-ends analysis.[94] Robotics algorithms for moving limbs and grasping objects use local searches in configuration space.[95]\\nSimple exhaustive searches[96]\\nare rarely sufficient for most real-world problems: the search space (the number of places to search) quickly grows to astronomical numbers. The result is a search that is too slow or never completes. The solution, for many problems, is to use \"heuristics\" or \"rules of thumb\" that prioritize choices in favor of those more likely to reach a goal and to do so in a shorter number of steps. In some search methodologies, heuristics can also serve to eliminate some choices unlikely to lead to a goal (called \"pruning the search tree\"). Heuristics supply the program with a \"best guess\" for the path on which the solution lies.[97]\\nHeuristics limit the search for solutions into a smaller sample size.[98]\\nA very different kind of search came to prominence in the 1990s, based on the mathematical theory of optimization. For many problems, it is possible to begin the search with some form of a guess and then refine the guess incrementally until no more refinements can be made. These algorithms can be visualized as blind hill climbing: we begin the search at a random point on the landscape, and then, by jumps or steps, we keep moving our guess uphill, until we reach the top. Other related optimization algorithms include random optimization, beam search and metaheuristics like simulated annealing.[99] Evolutionary computation uses a form of optimization search. For example, they may begin with a population of organisms (the guesses) and then allow them to mutate and recombine, selecting only the fittest to survive each generation (refining the guesses). Classic evolutionary algorithms include genetic algorithms, gene expression programming, and genetic programming.[100] Alternatively, distributed search processes can coordinate via swarm intelligence algorithms. Two popular swarm algorithms used in search are particle swarm optimization (inspired by bird flocking) and ant colony optimization (inspired by ant trails).[101]\\nLogic[102]\\nis used for knowledge representation and problem-solving, but it can be applied to other problems as well. For example, the satplan algorithm uses logic for planning[103]\\nand inductive logic programming is a method for learning.[104]\\nSeveral different forms of logic are used in AI research. Propositional logic[105] involves truth functions such as \"or\" and \"not\". First-order logic[106]\\nadds quantifiers and predicates and can express facts about objects, their properties, and their relations with each other. Fuzzy logic assigns a \"degree of truth\" (between 0 and 1) to vague statements such as \"Alice is old\" (or rich, or tall, or hungry), that are too linguistically imprecise to be completely true or false.[107]\\nDefault logics, non-monotonic logics and circumscription are forms of logic designed to help with default reasoning and the qualification problem.[56]\\nSeveral extensions of logic have been designed to handle specific domains of knowledge, such as description logics;[52]\\nsituation calculus, event calculus and fluent calculus (for representing events and time);[53]\\ncausal calculus;[54]\\nbelief calculus (belief revision); and modal logics.[55]\\nLogics to model contradictory or inconsistent statements arising in multi-agent systems have also been designed, such as paraconsistent logics.[108]\\nMany problems in AI (including in reasoning, planning, learning, perception, and robotics) require the agent to operate with incomplete or uncertain information. AI researchers have devised a number of tools to solve these problems using methods from probability theory and economics.[109]\\nBayesian networks[110]\\nare a very general tool that can be used for various problems, including reasoning (using the Bayesian inference algorithm),[o][112]\\nlearning (using the expectation-maximization algorithm),[p][114]\\nplanning (using decision networks)[115] and perception (using dynamic Bayesian networks).[116]\\nProbabilistic algorithms can also be used for filtering, prediction, smoothing and finding explanations for streams of data, helping perception systems to analyze processes that occur over time (e.g., hidden Markov models or Kalman filters).[116]\\nA key concept from the science of economics is \"utility\", a measure of how valuable something is to an intelligent agent. Precise mathematical tools have been developed that analyze how an agent can make choices and plan, using decision theory, decision analysis,[117]\\nand information value theory.[118] These tools include models such as Markov decision processes,[119] dynamic decision networks,[116] game theory and mechanism design.[120]\\nThe simplest AI applications can be divided into two types: classifiers (\"if shiny then diamond\") and controllers (\"if diamond then pick up\"). Controllers do, however, also classify conditions before inferring actions, and therefore classification forms a central part of many AI systems. Classifiers are functions that use pattern matching to determine the closest match. They can be tuned according to examples, making them very attractive for use in AI. These examples are known as observations or patterns. In supervised learning, each pattern belongs to a certain predefined class. A class is a decision that has to be made. All the observations combined with their class labels are known as a data set. When a new observation is received, that observation is classified based on previous experience.[121]\\nA classifier can be trained in various ways; there are many statistical and machine learning approaches.\\nThe decision tree is the simplest and most widely used symbolic machine learning algorithm.[122]\\nK-nearest neighbor algorithm was the most widely used analogical AI until the mid-1990s.[123]\\nKernel methods such as the support vector machine (SVM) displaced k-nearest neighbor in the 1990s.[124]\\nThe naive Bayes classifier is reportedly the \"most widely used learner\"[125] at Google, due in part to its scalability.[126]\\nNeural networks are also used for classification.[127]\\nClassifier performance depends greatly on the characteristics of the data to be classified, such as the dataset size, distribution of samples across classes, dimensionality, and the level of noise. Model-based classifiers perform well if the assumed model is an extremely good fit for the actual data. Otherwise, if no matching model is available, and if accuracy (rather than speed or scalability) is the sole concern, conventional wisdom is that discriminative classifiers (especially SVM) tend to be more accurate than model-based classifiers such as \"naive Bayes\" on most practical data sets.[128]\\nNeural networks[127]\\nwere inspired by the architecture of neurons in the human brain. A simple \"neuron\" N accepts input from other neurons, each of which, when activated (or \"fired\"), casts a weighted \"vote\" for or against whether neuron N should itself activate. Learning requires an algorithm to adjust these weights based on the training data; one simple algorithm (dubbed \"fire together, wire together\") is to increase the weight between two connected neurons when the activation of one triggers the successful activation of another. Neurons have a continuous spectrum of activation; in addition, neurons can process inputs in a nonlinear way rather than weighing straightforward votes.\\nModern neural networks model complex relationships between inputs and outputs and find patterns in data. They can learn continuous functions and even digital logical operations. Neural networks can be viewed as a type of mathematical optimization – they perform gradient descent on a multi-dimensional topology that was created by training the network. The most common training technique is the backpropagation algorithm.[129]\\nOther learning techniques for neural networks are Hebbian learning (\"fire together, wire together\"), GMDH or competitive learning.[130]\\nThe main categories of networks are acyclic or feedforward neural networks (where the signal passes in only one direction) and recurrent neural networks (which allow feedback and short-term memories of previous input events). Among the most popular feedforward networks are perceptrons, multi-layer perceptrons and radial basis networks.[131]\\nDeep learning[133]\\nuses several layers of neurons between the network\\'s inputs and outputs. The multiple layers can progressively extract higher-level features from the raw input. For example, in image processing, lower layers may identify edges, while higher layers may identify the concepts relevant to a human such as digits or letters or faces.[134] Deep learning has drastically improved the performance of programs in many important subfields of artificial intelligence, including computer vision, speech recognition, image classification[135] and others.\\nDeep learning often uses convolutional neural networks for many or all of its layers. In a convolutional layer, each neuron receives input from only a restricted area of the previous layer called the neuron\\'s receptive field. This can substantially reduce the number of weighted connections between neurons,[136] and creates a hierarchy similar to the organization of the animal visual cortex.[137]\\nIn a recurrent neural network (RNN) the signal will propagate through a layer more than once;[138] \\nthus, an RNN is an example of deep learning.[139]\\nRNNs can be trained by gradient descent,[140]\\nhowever long-term gradients which are back-propagated can \"vanish\" (that is, they can tend to zero) or \"explode\" (that is, they can tend to infinity), known as the vanishing gradient problem.[141]\\nThe long short term memory (LSTM) technique can prevent this in most cases.[142]\\nSpecialized languages for artificial intelligence have been developed, such as Lisp, Prolog, TensorFlow and many others. Hardware developed for AI includes AI accelerators and neuromorphic computing.\\nAI is relevant to any intellectual task.[143]\\nModern artificial intelligence techniques are pervasive and are too numerous to list here.[144]\\nFrequently, when a technique reaches mainstream use, it is no longer considered artificial intelligence; this phenomenon is described as the AI effect.[145]\\nIn the 2010s, AI applications were at the heart of the most commercially successful areas of computing, and have become a ubiquitous feature of daily life. AI is used in search engines (such as Google Search),\\ntargeting online advertisements,[146] recommendation systems (offered by Netflix, YouTube or Amazon),\\ndriving internet traffic,[147][148] targeted advertising (AdSense, Facebook),\\nvirtual assistants (such as Siri or Alexa),[149] autonomous vehicles (including drones and self-driving cars),\\nautomatic language translation (Microsoft Translator, Google Translate),\\nfacial recognition (Apple\\'s Face ID or Microsoft\\'s DeepFace),\\nimage labeling (used by Facebook, Apple\\'s iPhoto and TikTok)\\nand spam filtering.\\nThere are also thousands of successful AI applications used to solve problems for specific industries or institutions. A few examples are energy storage,[150] deepfakes,[151] medical diagnosis, military logistics, or supply chain management.\\nGame playing has been a test of AI\\'s strength since the 1950s. Deep Blue became the first computer chess-playing system to beat a reigning world chess champion, Garry Kasparov, on 11 May 1997.[152] In 2011, in a Jeopardy! quiz show exhibition match, IBM\\'s question answering system, Watson, defeated the two greatest Jeopardy! champions, Brad Rutter and Ken Jennings, by a significant margin.[153] \\nIn March 2016, AlphaGo won 4 out of 5 games of Go in a match with Go champion Lee Sedol, becoming the first computer Go-playing system to beat a professional Go player without handicaps.[154] Other programs handle imperfect-information games; such as for poker at a superhuman level, Pluribus[q] and Cepheus.[156] DeepMind in the 2010s developed a \"generalized artificial intelligence\" that could learn many diverse Atari games on its own.[157]\\nBy 2020, Natural Language Processing systems such as the enormous GPT-3 (then by far the largest artificial neural network) were matching human performance on pre-existing benchmarks, albeit without the system attaining a commonsense understanding of the contents of the benchmarks.[158]\\nDeepMind\\'s AlphaFold 2 (2020) demonstrated the ability to approximate, in hours rather than months, the 3D structure of a protein.[159]\\nOther applications predict the result of judicial decisions,[160] create art (such as poetry or painting) and prove mathematical theorems.\\nIn 2019, WIPO reported that AI was the most prolific emerging technology in terms of number of patent applications and granted patents, the Internet of things was estimated to be the largest in terms of market size. It was followed, again in market size, by big data technologies, robotics, AI, 3D printing and the fifth generation of mobile services (5G).[161] Since AI emerged in the 1950s, 340,000 AI-related patent applications were filed by innovators and 1.6 million scientific papers have been published by researchers, with the majority of all AI-related patent filings published since 2013. Companies represent 26 out of the top 30 AI patent applicants, with universities or public research organizations accounting for the remaining four.[162] The ratio of scientific papers to inventions has significantly decreased from 8:1 in 2010 to 3:1 in 2016, which is attributed to be indicative of a shift from theoretical research to the use of AI technologies in commercial products and services. Machine learning is the dominant AI technique disclosed in patents and is included in more than one-third of all identified inventions (134,777 machine learning patents filed for a total of 167,038 AI patents filed in 2016), with computer vision being the most popular functional application. AI-related patents not only disclose AI techniques and applications, they often also refer to an application field or industry. Twenty application fields were identified in 2016 and included, in order of magnitude: telecommunications (15 percent), transportation (15 percent), life and medical sciences (12 percent), and personal devices, computing and human–computer interaction (11 percent). Other sectors included banking, entertainment, security, industry and manufacturing, agriculture, and networks (including social networks, smart cities and the Internet of things). IBM has the largest portfolio of AI patents with 8,290 patent applications, followed by Microsoft with 5,930 patent applications.[162]\\nAlan Turing wrote in 1950 \"I propose to consider the question \\'can machines think\\'?\"[163]\\nHe advised changing the question from whether a machine \"thinks\", to \"whether or not it is possible for machinery to show intelligent behaviour\".[164] \\nHe devised the Turing test, which measures the ability of a machine to simulate human conversation.[165]\\nOxford English Dictionary (Oxford University Press) defines artificial intelligence as:[1]\\nthe theory and development of computer systems able to perform tasks that normally require human intelligence, such as visual perception, speech recognition, decision-making, and translation between languages.\\nA definition that has also been adopted by Google[166] - major practitionary in the field of AI - and other AI practitioners.\\nThis definition stipulated the ability of systems to synthesize information as the manifestation of intelligence, similar to the way it is defined in biological intelligence. It does not require a procedural-action component, such as in many definitions of intelligent agents.\\nFor many fields such as law, political science, and other social science, it is often argued that for purposes in these fields only instead of trying to arrive at a rigid definition of AI, it is often easier to work with the paradigm of intelligent agents. These are working definitions of broader systems-that-use-artificial-intelligence (sometimes called: AI-based systems), but that these are not rigid definitions of AI itself.\\nThe only thing visible is the behavior of the machine, so it does not matter if the machine is conscious, or has a mind, or whether the intelligence is merely a \"simulation\" and not \"the real thing\".[r]\\nRussell and Norvig are critical of the Turing test if it is used as the definition of artificial intelligence. \"Aeronautical engineering texts,\" they wrote, \"do not define the goal of their field as making \\'machines that fly so exactly like pigeons that they can fool other pigeons.\\'\"[168] AI founder John McCarthy agreed, writing that \"Artificial intelligence is not, by definition, simulation of human intelligence\".[s][170]\\nThe intelligent agent paradigm[171]\\ndefines intelligent behavior in general, without reference to human beings. An intelligent agent is a system that perceives its environment and takes actions that maximize its chances of success. Any system that has goal-directed behavior can be analyzed as an intelligent agent: something as simple as a thermostat, as complex as a human being, as well as large systems such as firms, biomes or nations. The intelligent agent paradigm became widely accepted during the 1990s, and currently serves as the definition of the field.[a]\\nThe intelligent agent paradigm has other advantages for AI. It provides a reliable and scientific way to test programs; researchers can directly compare or even combine different approaches to isolated problems, by asking which agent is best at maximizing a given \"goal function\". It also gives them a common language to communicate with other fields – such as mathematical optimization (which is defined in terms of \"goals\") or economics (which uses the same definition of a \"rational agent\").[172]\\nNo established unifying theory or paradigm has guided AI research for most of its history.[t] The unprecedented success of statistical machine learning in the 2010s eclipsed all other approaches (so much so that some sources, especially in the business world, use the term \"artificial intelligence\" to mean \"machine learning with neural networks\"). This approach is mostly sub-symbolic, neat, soft and narrow (see below). Critics argue that these questions may have to be revisited by future generations of AI researchers.\\nSymbolic AI (or \"GOFAI\")[174] simulated the high-level conscious reasoning that people use when they solve puzzles, express legal reasoning and do mathematics. They were highly successful at \"intelligent\" tasks such as algebra or IQ tests. In the 1960s, Newell and Simon proposed the physical symbol systems hypothesis: \"A physical symbol system has the necessary and sufficient means of general intelligent action.\"[175]\\nHowever, the symbolic approach failed on many tasks that humans solve easily, such as learning, recognizing an object or commonsense reasoning. Moravec\\'s paradox is the discovery that high-level \"intelligent\" tasks were easy for AI, but low level \"instinctive\" tasks were extremely difficult.[176]\\nPhilosopher Hubert Dreyfus had argued since the 1960s that human expertise depends on unconscious instinct rather than conscious symbol manipulation, and on having a \"feel\" for the situation, rather than explicit symbolic knowledge.[177]\\nAlthough his arguments had been ridiculed and ignored when they were first presented, eventually, AI research came to agree.[u][49]\\nThe issue is not resolved: sub-symbolic reasoning can make many of the same inscrutable mistakes that human intuition does, such as algorithmic bias. Critics such as Noam Chomsky argue continuing research into symbolic AI will still be necessary to attain general intelligence,[179][180] in part because sub-symbolic AI is a move away from explainable AI: it can be difficult or impossible to understand why a modern statistical AI program made a particular decision. The emerging field of neurosymbolic artificial intelligence attempts to bridge the two approaches.\\n\"Neats\" hope that intelligent behavior is described using simple, elegant principles (such as logic, optimization, or neural networks). \"Scruffies\" expect that it necessarily requires solving a large number of unrelated problems (especially in areas like common sense reasoning). This issue was actively discussed in the 70s and 80s,[181]\\nbut in the 1990s mathematical methods and solid scientific standards became the norm, a transition that Russell and Norvig termed \"the victory of the neats\".[182]\\nFinding a provably correct or optimal solution is intractable for many important problems.[48] Soft computing is a set of techniques, including genetic algorithms, fuzzy logic and neural networks, that are tolerant of imprecision, uncertainty, partial truth and approximation. Soft computing was introduced in the late 80s and most successful AI programs in the 21st century are examples of soft computing with neural networks.\\nAI researchers are divided as to whether to pursue the goals of artificial general intelligence and superintelligence (general AI) directly or to solve as many specific problems as possible (narrow AI) in hopes these solutions will lead indirectly to the field\\'s long-term goals.[183][184]\\nGeneral intelligence is difficult to define and difficult to measure, and modern AI has had more verifiable successes by focusing on specific problems with specific solutions. The experimental sub-field of artificial general intelligence studies this area exclusively.\\nThe philosophy of mind does not know whether a machine can have a mind, consciousness and mental states, in the same sense that human beings do. This issue considers the internal experiences of the machine, rather than its external behavior. Mainstream AI research considers this issue irrelevant because it does not affect the goals of the field. Stuart Russell and Peter Norvig observe that most AI researchers \"don\\'t care about the [philosophy of AI] – as long as the program works, they don\\'t care whether you call it a simulation of intelligence or real intelligence.\"[185] However, the question has become central to the philosophy of mind. It is also typically the central question at issue in artificial intelligence in fiction.\\nDavid Chalmers identified two problems in understanding the mind, which he named the \"hard\" and \"easy\" problems of consciousness.[186] The easy problem is understanding how the brain processes signals, makes plans and controls behavior. The hard problem is explaining how this feels or why it should feel like anything at all. Human information processing is easy to explain, however, human subjective experience is difficult to explain. For example, it is easy to imagine a color-blind person who has learned to identify which objects in their field of view are red, but it is not clear what would be required for the person to know what red looks like.[187]\\nComputationalism is the position in the philosophy of mind that the human mind is an information processing system and that thinking is a form of computing. Computationalism argues that the relationship between mind and body is similar or identical to the relationship between software and hardware and thus may be a solution to the mind-body problem. This philosophical position was inspired by the work of AI researchers and cognitive scientists in the 1960s and was originally proposed by philosophers Jerry Fodor and Hilary Putnam.[188]\\nPhilosopher John Searle characterized this position as \"strong AI\": \"The appropriately programmed computer with the right inputs and outputs would thereby have a mind in exactly the same sense human beings have minds.\"[v]\\nSearle counters this assertion with his Chinese room argument, which attempts to show that, even if a machine perfectly simulates human behavior, there is still no reason to suppose it also has a mind.[191]\\nIf a machine has a mind and subjective experience, then it may also have sentience (the ability to feel), and if so, then it could also suffer, and thus it would be entitled to certain rights.[192]\\nAny hypothetical robot rights would lie on a spectrum with animal rights and human rights.[193]\\nThis issue has been considered in fiction for centuries,[194]\\nand is now being considered by, for example, California\\'s Institute for the Future; however, critics argue that the discussion is premature.[195]\\nA superintelligence, hyperintelligence, or superhuman intelligence, is a hypothetical agent that would possess intelligence far surpassing that of the brightest and most gifted human mind. Superintelligence may also refer to the form or degree of intelligence possessed by such an agent.[184]\\nIf research into artificial general intelligence produced sufficiently intelligent software, it might be able to reprogram and improve itself. The improved software would be even better at improving itself, leading to recursive self-improvement.[196]\\nIts intelligence would increase exponentially in an intelligence explosion and could dramatically surpass humans. Science fiction writer Vernor Vinge named this scenario the \"singularity\".[197]\\nBecause it is difficult or impossible to know the limits of intelligence or the capabilities of superintelligent machines, the technological singularity is an occurrence beyond which events are unpredictable or even unfathomable.[198]\\nRobot designer Hans Moravec, cyberneticist Kevin Warwick, and inventor Ray Kurzweil have predicted that humans and machines will merge in the future into cyborgs that are more capable and powerful than either. This idea, called transhumanism, has roots in Aldous Huxley and Robert Ettinger.[199]\\nEdward Fredkin argues that \"artificial intelligence is the next stage in evolution\", an idea first proposed by Samuel Butler\\'s \"Darwin among the Machines\" as far back as 1863, and expanded upon by George Dyson in his book of the same name in 1998.[200]\\nIn the past, technology has tended to increase rather than reduce total employment, but economists acknowledge that \"we\\'re in uncharted territory\" with AI.[201]\\nA survey of economists showed disagreement about whether the increasing use of robots and AI will cause a substantial increase in long-term unemployment, but they generally agree that it could be a net benefit if productivity gains are redistributed.[202]\\nSubjective estimates of the risk vary widely; for example, Michael Osborne and Carl Benedikt Frey estimate 47% of U.S. jobs are at \"high risk\" of potential automation, while an OECD report classifies only 9% of U.S. jobs as \"high risk\".[w][204]\\nUnlike previous waves of automation, many middle-class jobs may be eliminated by artificial intelligence; The Economist states that \"the worry that AI could do to white-collar jobs what steam power did to blue-collar ones during the Industrial Revolution\" is \"worth taking seriously\".[205]\\nJobs at extreme risk range from paralegals to fast food cooks, while job demand is likely to increase for care-related professions ranging from personal healthcare to the clergy.[206]\\nAI provides a number of tools that are particularly useful for authoritarian governments: smart spyware, face recognition and voice recognition allow widespread surveillance; such surveillance allows machine learning to classify potential enemies of the state and can prevent them from hiding; recommendation systems can precisely target propaganda and misinformation for maximum effect; deepfakes aid in producing misinformation; advanced AI can make centralized decision making more competitive with liberal and decentralized systems such as markets.[207]\\nTerrorists, criminals and rogue states may use other forms of weaponized AI such as advanced digital warfare and lethal autonomous weapons. By 2015, over fifty countries were reported to be researching battlefield robots.[208]\\nMachine-learning AI is also able to design tens of thousands of toxic molecules in a matter of hours.[209]\\nAI programs can become biased after learning from real-world data. It is not typically introduced by the system designers but is learned by the program, and thus the programmers are often unaware that the bias exists.[210]\\nBias can be inadvertently introduced by the way training data is selected.[211]\\nIt can also emerge from correlations: AI is used to classify individuals into groups and then make predictions assuming that the individual will resemble other members of the group. In some cases, this assumption may be unfair.[212]\\nAn example of this is COMPAS, a commercial program widely used by U.S. courts to assess the likelihood of a defendant becoming a recidivist. ProPublica claims that the COMPAS-assigned recidivism risk level of black defendants is far more likely to be overestimated than that of white defendants, despite the fact that the program was not told the races of the defendants.[213] Other examples where algorithmic bias can lead to unfair outcomes are when AI is used for credit rating or hiring.\\nAt its 2022 Conference on Fairness, Accountability, and Transparency (ACM FAccT 2022) the Association for Computing Machinery, in Seoul, South Korea, presented and published findings recommending that until AI and robotics systems are demonstrated to be free of bias mistakes, they are unsafe and the use of self-learning neural networks trained on vast, unregulated sources of flawed internet data should be curtailed.[214]\\nSuperintelligent AI may be able to improve itself to the point that humans could not control it. This could, as physicist Stephen Hawking puts it, \"spell the end of the human race\".[215] Philosopher Nick Bostrom argues that sufficiently intelligent AI, if it chooses actions based on achieving some goal, will exhibit convergent behavior such as acquiring resources or protecting itself from being shut down. If this AI\\'s goals do not fully reflect humanity\\'s, it might need to harm humanity to acquire more resources or prevent itself from being shut down, ultimately to better achieve its goal. He concludes that AI poses a risk to mankind, however humble or \"friendly\" its stated goals might be.[216]\\nPolitical scientist Charles T. Rubin argues that \"any sufficiently advanced benevolence may be indistinguishable from malevolence.\" Humans should not assume machines or robots would treat us favorably because there is no a priori reason to believe that they would share our system of morality.[217]\\nThe opinion of experts and industry insiders is mixed, with sizable fractions both concerned and unconcerned by risk from eventual superhumanly-capable AI.[218]\\nStephen Hawking, Microsoft founder Bill Gates, history professor Yuval Noah Harari, and SpaceX founder Elon Musk have all expressed serious misgivings about the future of AI.[219]\\nProminent tech titans including Peter Thiel (Amazon Web Services) and Musk have committed more than $1\\xa0billion to nonprofit companies that champion responsible AI development, such as OpenAI and the Future of Life Institute.[220]\\nMark Zuckerberg (CEO, Facebook) has said that artificial intelligence is helpful in its current form and will continue to assist humans.[221]\\nOther experts argue is that the risks are far enough in the future to not be worth researching,\\nor that humans will be valuable from the perspective of a superintelligent machine.[222]\\nRodney Brooks, in particular, has said that \"malevolent\" AI is still centuries away.[x]\\nAI\\'s decisions making abilities raises the questions of legal responsibility and copyright status of created works. This issues are being refined in various jurisdictions.[224]\\nFriendly AI are machines that have been designed from the beginning to minimize risks and to make choices that benefit humans. Eliezer Yudkowsky, who coined the term, argues that developing friendly AI should be a higher research priority: it may require a large investment and it must be completed before AI becomes an existential risk.[225]\\nMachines with intelligence have the potential to use their intelligence to make ethical decisions. The field of machine ethics provides machines with ethical principles and procedures for resolving ethical dilemmas.[226]\\nMachine ethics is also called machine morality, computational ethics or computational morality,[226]\\nand was founded at an AAAI symposium in 2005.[227]\\nOther approaches include Wendell Wallach\\'s \"artificial moral agents\"[228]\\nand Stuart J. Russell\\'s three principles for developing provably beneficial machines.[229]\\nThe regulation of artificial intelligence is the development of public sector policies and laws for promoting and regulating artificial intelligence (AI); it is therefore related to the broader regulation of algorithms.[230]\\nThe regulatory and policy landscape for AI is an emerging issue in jurisdictions globally.[231]\\nBetween 2016 and 2020, more than 30 countries adopted dedicated strategies for AI.[45]\\nMost EU member states had released national AI strategies, as had Canada, China, India, Japan, Mauritius, the Russian Federation, Saudi Arabia, United Arab Emirates, US and Vietnam. Others were in the process of elaborating their own AI strategy, including Bangladesh, Malaysia and Tunisia.[45]\\nThe Global Partnership on Artificial Intelligence was launched in June 2020, stating a need for AI to be developed in accordance with human rights and democratic values, to ensure public confidence and trust in the technology.[45] Henry Kissinger, Eric Schmidt, and Daniel Huttenlocher published a joint statement in November 2021 calling for a government commission to regulate AI.[232]\\nThought-capable artificial beings have appeared as storytelling devices since antiquity,[16]\\nand have been a persistent theme in science fiction.[18]\\nA common trope in these works began with Mary Shelley\\'s Frankenstein, where a human creation becomes a threat to its masters. This includes such works as Arthur C. Clarke\\'s and Stanley Kubrick\\'s 2001: A Space Odyssey (both 1968), with HAL 9000, the murderous computer in charge of the Discovery One spaceship, as well as The Terminator (1984) and The Matrix (1999). In contrast, the rare loyal robots such as Gort from The Day the Earth Stood Still (1951) and Bishop from Aliens (1986) are less prominent in popular culture.[233]\\nIsaac Asimov introduced the Three Laws of Robotics in many books and stories, most notably the \"Multivac\" series about a super-intelligent computer of the same name. Asimov\\'s laws are often brought up during lay discussions of machine ethics;[234]\\nwhile almost all artificial intelligence researchers are familiar with Asimov\\'s laws through popular culture, they generally consider the laws useless for many reasons, one of which is their ambiguity.[235]\\nTranshumanism (the merging of humans and machines) is explored in the manga Ghost in the Shell and the science-fiction series Dune.\\nSeveral works use AI to force us to confront the fundamental question of what makes us human, showing us artificial beings that have the ability to feel, and thus to suffer. This appears in Karel Čapek\\'s R.U.R., the films A.I. Artificial Intelligence and Ex Machina, as well as the novel Do Androids Dream of Electric Sheep?, by Philip K. Dick. Dick considers the idea that our understanding of human subjectivity is altered by technology created with artificial intelligence.[236]\\nAs technology and research evolve and the world enters the third revolution of warfare following gunpowder and nuclear weapons, the artificial intelligence arms race ensues between the United States, China, and Russia, three countries with the world\\'s top five highest military budgets.[237] Intentions of being a world leader in AI research by 2030[238] have been declared by China\\'s leader Xi Jinping, and President Putin of Russia has stated that \"Whoever becomes the leader in this sphere will become the ruler of the world\".[239] If Russia were to become the leader in AI research, President Putin has stated Russia\\'s intent to share some of their research with the world so as to not monopolize the field,[239] similar to their current sharing of nuclear technologies, maintaining science diplomacy relations.\\xa0The United States, China, and Russia, are some examples of countries that have taken their stances toward military artificial intelligence since as early as 2014, having established military programs to develop cyber weapons, control lethal autonomous weapons, and drones that can be used for surveillance.\\nPresident Putin announced that artificial intelligence is the future for all mankind [239] and recognizes the power and opportunities that the development and deployment of lethal autonomous weapons AI technology can hold in warfare and homeland security, as well as its threats. President Putin\\'s prediction that future wars will be fought using AI has started to come to fruition to an extent after Russia invaded Ukraine on 24 February 2022.\\xa0 The Ukrainian military is making use of the Turkish Bayraktar TB2-drones[240] that still require human operation to deploy laser-guided bombs but can take off, land, and cruise autonomously. Ukraine has also been using Switchblade drones supplied by the US and receiving information gathering by the United States\\'s own surveillance operations regarding battlefield intelligence and national security about Russia.[241] Similarly, Russia can use AI to help analyze battlefield data from surveillance footage taken by drones. Reports and images show that Russia\\'s military has deployed KUB- BLA suicide drones [242] into Ukraine, with speculations of intentions to assassinate Ukrainian President Volodymyr Zelenskyy.\\nAs research in the AI realm progresses, there is pushback about the use of AI from the Campaign to Stop Killer Robots and world technology leaders have sent a petition[243] to the United Nations calling for new regulations on the development and use of AI technologies in 2017, including a ban on the use of lethal autonomous weapons due to ethical concerns for innocent civilian populations.\\nWith the ever evolving cyber-attacks and generation of devices, AI can be used for threat detection and more effective response by risk prioritization. With this tool, some challenges are also presented such as privacy, informed consent, and responsible use.[244] According to CISA, the cyberspace is difficult to secure for the following factors: the ability of malicious actors to operate from anywhere in the world, the linkages between cyberspace and physical systems, and the difficulty of reducing vulnerabilities and consequences in complex cyber networks.[245] With the increased technological advances of the world, the risk for wide scale consequential events rises. Paradoxically, the ability to protect information and create a line of communication between the scientific and diplomatic community thrives. The role of cybersecurity in diplomacy has become increasingly relevant, creating the term of cyber diplomacy – which is not uniformly defined and not synonymous with cyber defence.[246] Many nations have developed unique approaches to scientific diplomacy in cyberspace.\\nDating back to 2011, when the Czech National Security Authority (NSA) was appointed as the national authority for the cyber agenda. The role of cyber diplomacy strengthened in 2017 when the Czech Ministry of Foreign Affairs (MFA) detected a serious cyber campaign directed against its own computer networks.[247] In 2016, three cyber diplomats were deployed to Washington, D.C., Brussels and Tel Aviv, with the goal of establishing active international cooperation focused on engagement with the EU and NATO. The main agenda for these scientific diplomacy efforts is to bolster research on artificial intelligence and how it can be used in cybersecurity research, development, and overall consumer trust.[248] CzechInvest is a key stakeholder in scientific diplomacy and cybersecurity. For example, in September 2018, they organized a mission to Canada in September 2018 with a special focus on artificial intelligence. The main goal of this particular mission was a promotional effort on behalf of Prague, attempting to establish it as a future knowledge hub for the industry for interested Canadian firms.[249]\\nCybersecurity is recognized as a governmental task, dividing into three ministries of responsibility: the Federal Ministry of the Interior, the Federal Ministry of Defence, and the Federal Foreign Office.[250] These distinctions promoted the creation of various institutions, such as The German National Office for Information Security, The National Cyberdefence Centre, The German National Cyber Security Council, and The Cyber and Information Domain Service.[248] In 2018, a new strategy for artificial intelligence was established by the German government, with the creation of a German-French virtual research and innovation network,[251] holding opportunity for research expansion into cybersecurity.\\nThe adoption of The Cybersecurity Strategy of the European Union – An Open, Safe and Secure Cyberspace document in 2013 by the European commission[248] pushed forth cybersecurity efforts integrated with scientific diplomacy and artificial intelligence. Efforts are strong, as the EU funds various programs and institutions in the effort to bring science to diplomacy and bring diplomacy to science. Some examples are the cyber security programme Competence Research Innovation (CONCORDIA), which brings together 14 member states,[252] and Cybersecurity for Europe (CSE), which brings together 43 partners involving 20 member states.[253] In addition, The European Network of Cybersecurity Centres and Competence Hub for Innovation and Operations (ECHO) gathers 30 partners with 15 member states[254] and SPARTA gathers 44 partners involving 14 member states.[255] These efforts reflect the overall goals of the EU, to innovate cybersecurity for defense and protection, establish a highly integrated cyberspace among many nations, and further contribute to the security of artificial intelligence.[248]\\nWith the 2022 invasion of Ukraine, there has been a rise in malicious cyber activity against the United States,[256] Ukraine, and Russia. A prominent and rare documented use of artificial intelligence in conflict is on behalf of Ukraine, using facial recognition software to uncover Russian assailants and identify Ukrainians killed in the ongoing war.[257] Though these governmental figures are not primarily focused on scientific and cyber diplomacy, other institutions are commenting on the use of artificial intelligence in cybersecurity with that focus. For example, Georgetown University\\'s Center for Security and Emerging Technology (CSET) has the Cyber-AI Project, with one goal being to attract policymakers\\' attention to the growing body of academic research, whichexposes the exploitive consequences of AI and machine-learning (ML) algorithms.[258] This vulnerability can be a plausible explanation as to why Russia is not engaging in the use of AI in conflict per, Andrew Lohn, a senior fellow at CSET. In addition to use on the battlefield, AI is being used by the Pentagon to analyze data from the war, analyzing to strengthen cybersecurity and warfare intelligence for the United States.[241][259]\\nAs artificial intelligence grows and the overwhelming amount of news portrayed through cyberspace expands, it is becoming extremely overwhelming for a voter to know what to believe. There are many intelligent codes, referred to as bots, written to portray people on social media with the goal of spreading miss information.[260] The 2016 US election is a victim of such actions. During the Hillary Clinton and Donald Trump campaign, artificial intelligent bots from Russia were spreading misinformation about the candidates in order to help the Trump campaign.[261] Analysts concluded that approximately 19% of Twitter tweets centered around the 2016 election were detected to come from bots.[261] YouTube in recent years has been used to spread political information as well. Although there is no proof that the platform attempts to manipulate its viewers opinions, Youtubes AI algorithm recommends videos of similar variety.[262] If a person begins to research right wing political podcasts, then YouTube\\'s algorithm will recommend more right wing videos.[263] The uprising in a program called Deepfake, a software used to replicate someone\\'s face and words, has also shown its potential threat. In\\xa02018 a Deepfake video of Barack Obama was released saying words he claims to have never said.[264] While in a national election a Deepfake will quickly be debunked, the software has the capability to heavily sway a smaller local election. This tool holds a lot of potential for spreading misinformation and is monitored with great attention.[265]\\xa0Although it may be seen as a tool used for harm, AI can help enhance election campaigns as well. AI bots can be programed to target articles with known misinformation. The bots can then indicate what is being misinformed to help shine light on the truth. AI can also be used to inform a person where each parts stands on a certain topic such as healthcare or climate change.[266] The political leaders of a nation have heavy sway on international affairs. Thus, a political leader with a lack of interest for international collaborative scientific advancement can have a negative impact in the scientific diplomacy of that nation[267]\\nThe use of artificial intelligence (AI) has subtly grown to become part of everyday life. It is used every day in facial recognition software. It is the first measure of security for many companies in the form of a biometric authentication. This means of authentication allows even the most official organizations such as the United States Internal Revenue Service to verify a person\\'s identity [268] via a database generated from machine learning. As of the year 2022, the United States IRS requires those who do not undergo a live interview with an agent to complete a biometric verification of their identity via ID.me\\'s facial recognition tool.[268]\\nIn Japan and South Korea, artificial intelligence software is used in the instruction of English language via the company Riiid.[269] Riiid is a Korean education company working alongside Japan to give students the means to learn and use their English communication skills via engaging with artificial intelligence in a live chat.[269] Riid is not the only company to do this. American company Duolingo is well known for their automated teaching of 41 languages. Babbel, a German language learning program, also uses artificial intelligence in its teaching automation, allowing for European students to learn vital communication skills needed in social, economic, and diplomatic settings. Artificial intelligence will also automate the routine tasks that teachers need to do such as grading, taking attendance, and handling routine student inquiries.[270] This enables the teacher to carry on with the complexities of teaching that an automated machine cannot handle. These include creating exams, explaining complex material in a way that will benefit students individually and handling unique questions from students.\\nUnlike the human brain, which possess generalized intelligence, the specialized intelligence of AI can serve as a means of support to physicians internationally. The medical field has a diverse and profound amount of data in which AI can employ to generate a predictive diagnosis. Researchers at an Oxford hospital have developed artificial intelligence that can diagnose heart scans for heart disease and cancer.[271] This artificial intelligence can pick up diminutive details in the scans that doctors may miss. As such, artificial intelligence in medicine will better the industry, giving doctors the means to precisely diagnose their patients using the tools available. The artificial intelligence algorithms will also be used to further improve diagnosis over time, via an application of machine learning called precision medicine.[272] Furthermore, the narrow application of artificial intelligence can use \"deep learning\" in order to improve medical image analysis. In radiology imaging, AI uses deep learning algorithms to identify potentially cancerous lesions which is an important process assisting in early diagnosis.[273]\\nData analysis is a fundamental property of artificial intelligence that enables it to be used in every facet of life from search results to the way people buy product. According to NewVantage Partners,[274] over 90% of top businesses have ongoing investments in artificial intelligence. According to IBM, one of the world\\'s leaders in technology, 45% of respondents from companies with over 1,000 employees have adopted AI.[275] Recent data shows that the business market [276] for artificial intelligence during the year 2020 was valued at $51.08 billion. The business market for artificial intelligence is projected to be over $640.3 billion by the year 2028.[276] To prevent harm, AI-deploying organizations need to play a central role in creating and deploying trustworthy AI in line with the principles of trustworthy AI,[277] and take accountability to mitigate the risks.[278]\\nWith the exponential surge of artificial technology and communication, the distribution of one\\'s ideals and values has been evident in daily life. Digital information is spread via communication apps such as Whatsapp, Facebook/Meta, Snapchat, Instagram and Twitter. However, it is known that these sites relay specific information corresponding to data analysis. If a right-winged individual were to do a google search, Google\\'s algorithms would target that individual and relay data pertinent to that target audience. US President Bill Clinton noted in 2000:\"In the new century, liberty will spread by cell phone and cable modem. [...] We know how much the Internet has changed America, and we are already an open society.[279] However, when the private sector uses artificial intelligence to gather data, a shift in power from the state to the private sector may be seen. This shift in power, specifically in large technological corporations, could profoundly change how diplomacy functions in society. The rise in digital technology and usage of artificial technology enabled the private sector to gather immense data on the public, which is then further categorized by race, location, age, gender, etc.[280] The New York Times calculates that \"the ten largest tech firms, which have become gatekeepers in commerce, finance, entertainment and communications, now have a combined market capitalization of more than $10 trillion. In gross domestic product terms, that would rank them as the world\\'s third-largest economy.\"[281] Beyond the general lobbying of congressmen/congresswomen, companies such as Facebook/Meta or Google use collected data in order to reach their intended audiences with targeted information.[281]\\nMultiple nations around the globe employ artificial intelligence to assist with their foreign policy decisions. The Chinese Department of External Security Affairs – under the Ministry of Foreign Affairs – uses AI to review almost all its foreign investment projects for risk mitigation.[282] The government of China plans to use artificial intelligence in its $900 billion global infrastructure development plan, called the \"Belt and Road Initiative\" for political, economic, and environmental risk alleviation.[283]\\nOver 200 applications of artificial intelligence are being used by over 46 United Nations agencies, in sectors ranging from health care dealing with issues such as combating COVID-19 to smart agriculture, to assist the UN in political and diplomatic relations.[284] One example is the use of AI by the UN Global Pulse program to model the effect of the spread of COVID-19 on internally displaced people (IDP) and refugee settlements to assist them in creating an appropriate global health policy.[285][286]\\nNovel AI tools such as remote sensing can also be employed by diplomats for collecting and analyzing data and near-real-time tracking of objects such as troop or refugee movements along borders in violent conflict zones.[285][287]\\nArtificial intelligence can be used to mitigate vital cross-national diplomatic talks to prevent translation errors caused by human translators.[288] A major example is the 2021 Anchorage meetings held between US and China aimed at stabilizing foreign relations, only for it to have the opposite effect, increasing tension and aggressiveness between the two nations, due to translation errors caused by human translators.[289] In the meeting, when United States National Security Advisor to President Joe Biden, Jacob Jeremiah Sullivan stated, \"We do not seek conflict, but we welcome stiff competition and we will always stand up for our principles, for our people, and for our friends\", it was mistranslated into Chinese as \"we will face competition between us, and will present our stance in a very clear manner\", adding an aggressive tone to the speech.[289] AI\\'s ability for fast and efficient natural language processing and real-time translation and transliteration makes it an important tool for foreign-policy communication between nations and prevents unintended mistranslation.[290]\\nThese were the four the most widely used AI textbooks in 2008:\\nLater editions.\\nThe two most widely used textbooks in 2021.Open Syllabus: Explorer\\nSee also: Logic machines in fiction and List of fictional computers\\n'"
            ],
            "application/vnd.google.colaboratory.intrinsic+json": {
              "type": "string"
            }
          },
          "metadata": {},
          "execution_count": 50
        }
      ]
    },
    {
      "cell_type": "code",
      "metadata": {
        "id": "VfGGJFCLaF_F"
      },
      "source": [
        "# Group texts in list\n",
        "texts = [machine_learning, ai]"
      ],
      "execution_count": 51,
      "outputs": []
    },
    {
      "cell_type": "code",
      "metadata": {
        "id": "56Z0fduhRMb5"
      },
      "source": [
        "# Create tokenizer function for preprocessing\n",
        "def spacy_tokenizer(text):\n",
        "\n",
        "    # Define stopwords, punctuation, and numbers\n",
        "    stop_words = spacy.lang.en.stop_words.STOP_WORDS\n",
        "    punctuations = string.punctuation\n",
        "    numbers = \"0123456789\"\n",
        "\n",
        "    # Create spacy object\n",
        "    mytokens = sp(text)\n",
        "\n",
        "    # Lemmatize each token and convert each token into lowercase\n",
        "    mytokens = [ word.lemma_.lower().strip() if word.lemma_ != \"-PRON-\" else word.lower_ for word in mytokens ]\n",
        "\n",
        "    # Remove stop words and punctuation\n",
        "    mytokens = [ word for word in mytokens if word not in stop_words and word not in punctuations ]\n",
        "\n",
        "    # Remove sufix like \".[1\" in \"experience.[1\"\n",
        "    mytokens_2 = []\n",
        "    for word in mytokens:\n",
        "      for char in word:\n",
        "        if (char in punctuations) or (char in numbers):\n",
        "          word = word.replace(char, \"\")\n",
        "      if word != \"\":\n",
        "        mytokens_2.append(word)\n",
        "\n",
        "    # Return preprocessed list of tokens\n",
        "    return mytokens_2\n",
        "\n",
        "# Tokenize texts\n",
        "processed_texts = []\n",
        "for text in texts:\n",
        "  processed_text = spacy_tokenizer(text)\n",
        "  processed_texts.append(processed_text)"
      ],
      "execution_count": 52,
      "outputs": []
    },
    {
      "cell_type": "code",
      "metadata": {
        "id": "7uJoiMgsabwj",
        "colab": {
          "base_uri": "https://localhost:8080/"
        },
        "outputId": "3427f509-340d-4dcc-904a-2e2c7b6abd3c"
      },
      "source": [
        "for processed_text in processed_texts:\n",
        "  print(processed_text[:20])"
      ],
      "execution_count": 53,
      "outputs": [
        {
          "output_type": "stream",
          "name": "stdout",
          "text": [
            "['machine', 'learning', 'ml', 'field', 'inquiry', 'devote', 'understanding', 'building', 'method', 'learn', 'method', 'leverage', 'datum', 'improve', 'performance', 'set', 'tasks', 'artificial', 'intelligence', 'machine']\n",
            "['artificial', 'intelligence', 'ai', 'intelligence', 'perceive', 'synthesize', 'infer', 'information', 'demonstrate', 'machine', 'oppose', 'intelligence', 'display', 'animal', 'human', 'example', 'task', 'include', 'speech', 'recognition']\n"
          ]
        }
      ]
    },
    {
      "cell_type": "code",
      "metadata": {
        "id": "MYbGv4LbRRlZ",
        "colab": {
          "base_uri": "https://localhost:8080/"
        },
        "outputId": "c3316ba2-e5d6-4226-8d53-8343062eb425"
      },
      "source": [
        "# Word embedding \n",
        "### Parameters: \n",
        "#     - min_count: minimum number of occurence of single word in corpus to be taken into account\n",
        "#     - size: dimension of the vectors representing the tokens\n",
        "#     - IMPORTANT: processed_texts must be a list of lists of tokens object!\n",
        "word2vec = Word2Vec(processed_texts, min_count=2, size=100)\n",
        "vocab = word2vec.wv.vocab\n",
        "print(vocab)"
      ],
      "execution_count": 54,
      "outputs": [
        {
          "output_type": "stream",
          "name": "stderr",
          "text": [
            "WARNING:gensim.models.base_any2vec:under 10 jobs per worker: consider setting a smaller `batch_words' for smoother alpha decay\n"
          ]
        },
        {
          "output_type": "stream",
          "name": "stdout",
          "text": [
            "{'machine': <gensim.models.keyedvectors.Vocab object at 0x7fafae6d1290>, 'learning': <gensim.models.keyedvectors.Vocab object at 0x7fafae6d1dd0>, 'ml': <gensim.models.keyedvectors.Vocab object at 0x7fafae6d1f50>, 'field': <gensim.models.keyedvectors.Vocab object at 0x7fafae6d1bd0>, 'understanding': <gensim.models.keyedvectors.Vocab object at 0x7fafae6d1e10>, 'method': <gensim.models.keyedvectors.Vocab object at 0x7fafae6d1ad0>, 'learn': <gensim.models.keyedvectors.Vocab object at 0x7fafae6d1c90>, 'datum': <gensim.models.keyedvectors.Vocab object at 0x7fafae6d1b10>, 'improve': <gensim.models.keyedvectors.Vocab object at 0x7fafae6d1390>, 'performance': <gensim.models.keyedvectors.Vocab object at 0x7fafae6d1550>, 'set': <gensim.models.keyedvectors.Vocab object at 0x7fafae6d1650>, 'tasks': <gensim.models.keyedvectors.Vocab object at 0x7fafaf16fb10>, 'artificial': <gensim.models.keyedvectors.Vocab object at 0x7fafae6d7e10>, 'intelligence': <gensim.models.keyedvectors.Vocab object at 0x7fafae6d7050>, 'algorithm': <gensim.models.keyedvectors.Vocab object at 0x7fafae6d7b90>, 'build': <gensim.models.keyedvectors.Vocab object at 0x7fafae6d7c10>, 'model': <gensim.models.keyedvectors.Vocab object at 0x7fafae6d7110>, 'base': <gensim.models.keyedvectors.Vocab object at 0x7fafae6d7310>, 'sample': <gensim.models.keyedvectors.Vocab object at 0x7fafae6d7250>, 'know': <gensim.models.keyedvectors.Vocab object at 0x7fafaeaf5090>, 'training': <gensim.models.keyedvectors.Vocab object at 0x7fafaeaf50d0>, 'order': <gensim.models.keyedvectors.Vocab object at 0x7fafaeaf58d0>, 'prediction': <gensim.models.keyedvectors.Vocab object at 0x7fafaeaf57d0>, 'decision': <gensim.models.keyedvectors.Vocab object at 0x7fafaeaf5710>, 'explicitly': <gensim.models.keyedvectors.Vocab object at 0x7fafaeaf5810>, 'program': <gensim.models.keyedvectors.Vocab object at 0x7fafaeaf5a50>, 'use': <gensim.models.keyedvectors.Vocab object at 0x7fafaeaf5950>, 'wide': <gensim.models.keyedvectors.Vocab object at 0x7fafaeaf5cd0>, 'variety': <gensim.models.keyedvectors.Vocab object at 0x7fafaeaf5b10>, 'application': <gensim.models.keyedvectors.Vocab object at 0x7fafaeaf5c90>, 'medicine': <gensim.models.keyedvectors.Vocab object at 0x7fafaeaf59d0>, 'email': <gensim.models.keyedvectors.Vocab object at 0x7fafaeaf5990>, 'filtering': <gensim.models.keyedvectors.Vocab object at 0x7fafaeaf5890>, 'speech': <gensim.models.keyedvectors.Vocab object at 0x7fafaeaf5c10>, 'recognition': <gensim.models.keyedvectors.Vocab object at 0x7fafaeaf5d50>, 'agriculture': <gensim.models.keyedvectors.Vocab object at 0x7fafaeaf5bd0>, 'computer': <gensim.models.keyedvectors.Vocab object at 0x7fafaeaf5e90>, 'vision': <gensim.models.keyedvectors.Vocab object at 0x7fafaeaf5dd0>, 'difficult': <gensim.models.keyedvectors.Vocab object at 0x7fafaeaf5f50>, 'develop': <gensim.models.keyedvectors.Vocab object at 0x7fafaeaf5f10>, 'conventional': <gensim.models.keyedvectors.Vocab object at 0x7fafaeaf5fd0>, 'perform': <gensim.models.keyedvectors.Vocab object at 0x7fafaeaf5050>, 'subset': <gensim.models.keyedvectors.Vocab object at 0x7fafaeaf5210>, 'closely': <gensim.models.keyedvectors.Vocab object at 0x7fafaeaf5e50>, 'relate': <gensim.models.keyedvectors.Vocab object at 0x7fafaeaf5e10>, 'computational': <gensim.models.keyedvectors.Vocab object at 0x7fafaeaf5ed0>, 'statistic': <gensim.models.keyedvectors.Vocab object at 0x7fafaeaf5d90>, 'focus': <gensim.models.keyedvectors.Vocab object at 0x7fafaeaf52d0>, 'statistical': <gensim.models.keyedvectors.Vocab object at 0x7fafaeaf53d0>, 'study': <gensim.models.keyedvectors.Vocab object at 0x7fafa4fd3210>, 'mathematical': <gensim.models.keyedvectors.Vocab object at 0x7fafa4fd3590>, 'optimization': <gensim.models.keyedvectors.Vocab object at 0x7fafa4fd3690>, 'deliver': <gensim.models.keyedvectors.Vocab object at 0x7fafa4fd32d0>, 'theory': <gensim.models.keyedvectors.Vocab object at 0x7fafa4fd31d0>, 'domain': <gensim.models.keyedvectors.Vocab object at 0x7fafa4fd3410>, 'mining': <gensim.models.keyedvectors.Vocab object at 0x7fafa4fd3250>, 'related': <gensim.models.keyedvectors.Vocab object at 0x7fafa4fd34d0>, 'exploratory': <gensim.models.keyedvectors.Vocab object at 0x7fafaccc5950>, 'analysis': <gensim.models.keyedvectors.Vocab object at 0x7fafac526910>, 'unsupervised': <gensim.models.keyedvectors.Vocab object at 0x7fafac521710>, 'implementation': <gensim.models.keyedvectors.Vocab object at 0x7fafac5391d0>, 'neural': <gensim.models.keyedvectors.Vocab object at 0x7fafac536290>, 'network': <gensim.models.keyedvectors.Vocab object at 0x7fafac536ed0>, 'way': <gensim.models.keyedvectors.Vocab object at 0x7fafac52e2d0>, 'mimic': <gensim.models.keyedvectors.Vocab object at 0x7fafac52ed10>, 'biological': <gensim.models.keyedvectors.Vocab object at 0x7fafad017990>, 'brain': <gensim.models.keyedvectors.Vocab object at 0x7fafad017f50>, 'business': <gensim.models.keyedvectors.Vocab object at 0x7fafad017690>, 'problem': <gensim.models.keyedvectors.Vocab object at 0x7fafac52f650>, 'refer': <gensim.models.keyedvectors.Vocab object at 0x7fafac52ff10>, 'predictive': <gensim.models.keyedvectors.Vocab object at 0x7fafac53e690>, 'work': <gensim.models.keyedvectors.Vocab object at 0x7fafac530a10>, 'basis': <gensim.models.keyedvectors.Vocab object at 0x7fafac52b690>, 'strategy': <gensim.models.keyedvectors.Vocab object at 0x7fafaccc9710>, 'inference': <gensim.models.keyedvectors.Vocab object at 0x7fafad01b890>, 'past': <gensim.models.keyedvectors.Vocab object at 0x7fafad01e190>, 'likely': <gensim.models.keyedvectors.Vocab object at 0x7fafad01ec10>, 'continue': <gensim.models.keyedvectors.Vocab object at 0x7fafad01e590>, 'future': <gensim.models.keyedvectors.Vocab object at 0x7fafad01ed90>, 'sun': <gensim.models.keyedvectors.Vocab object at 0x7fafad01e650>, 'rise': <gensim.models.keyedvectors.Vocab object at 0x7fafad01e090>, 'morning': <gensim.models.keyedvectors.Vocab object at 0x7fafad01e390>, 'day': <gensim.models.keyedvectors.Vocab object at 0x7fafad01e2d0>, 'probably': <gensim.models.keyedvectors.Vocab object at 0x7fafad01e410>, 'family': <gensim.models.keyedvectors.Vocab object at 0x7fafad01efd0>, 'separate': <gensim.models.keyedvectors.Vocab object at 0x7fafad01e850>, 'specie': <gensim.models.keyedvectors.Vocab object at 0x7fafad01ecd0>, 'color': <gensim.models.keyedvectors.Vocab object at 0x7fafad01ef10>, 'chance': <gensim.models.keyedvectors.Vocab object at 0x7fafad01e9d0>, 'black': <gensim.models.keyedvectors.Vocab object at 0x7fafad01eed0>, 'exist': <gensim.models.keyedvectors.Vocab object at 0x7fafad01e550>, 'task': <gensim.models.keyedvectors.Vocab object at 0x7fafac51ecd0>, 'involve': <gensim.models.keyedvectors.Vocab object at 0x7fafac51e110>, 'provide': <gensim.models.keyedvectors.Vocab object at 0x7fafac51e210>, 'carry': <gensim.models.keyedvectors.Vocab object at 0x7fafac51e390>, 'certain': <gensim.models.keyedvectors.Vocab object at 0x7fafac51e450>, 'simple': <gensim.models.keyedvectors.Vocab object at 0x7fafac51e510>, 'assign': <gensim.models.keyedvectors.Vocab object at 0x7fafac51e650>, 'possible': <gensim.models.keyedvectors.Vocab object at 0x7fafac51e790>, 'tell': <gensim.models.keyedvectors.Vocab object at 0x7fafac51e850>, 'execute': <gensim.models.keyedvectors.Vocab object at 0x7fafac51e5d0>, 'step': <gensim.models.keyedvectors.Vocab object at 0x7fafac51ead0>, 'require': <gensim.models.keyedvectors.Vocab object at 0x7fafac51ea50>, 'solve': <gensim.models.keyedvectors.Vocab object at 0x7fafac51e910>, 'hand': <gensim.models.keyedvectors.Vocab object at 0x7fafac51ef90>, 'need': <gensim.models.keyedvectors.Vocab object at 0x7fafac51ee10>, 'advanced': <gensim.models.keyedvectors.Vocab object at 0x7fafaccdbd50>, 'challenge': <gensim.models.keyedvectors.Vocab object at 0x7fafaccdb190>, 'human': <gensim.models.keyedvectors.Vocab object at 0x7fafaccdb1d0>, 'create': <gensim.models.keyedvectors.Vocab object at 0x7fafaccdb350>, 'effective': <gensim.models.keyedvectors.Vocab object at 0x7fafaccdb3d0>, 'help': <gensim.models.keyedvectors.Vocab object at 0x7fafaccdb490>, 'programmer': <gensim.models.keyedvectors.Vocab object at 0x7fafaccdb4d0>, 'discipline': <gensim.models.keyedvectors.Vocab object at 0x7fafaccdb5d0>, 'employ': <gensim.models.keyedvectors.Vocab object at 0x7fafaccdb810>, 'approach': <gensim.models.keyedvectors.Vocab object at 0x7fafaccdb090>, 'teach': <gensim.models.keyedvectors.Vocab object at 0x7fafaccdba50>, 'fully': <gensim.models.keyedvectors.Vocab object at 0x7fafaccdba90>, 'available': <gensim.models.keyedvectors.Vocab object at 0x7fafaccdbc50>, 'case': <gensim.models.keyedvectors.Vocab object at 0x7fafaccdbf90>, 'vast': <gensim.models.keyedvectors.Vocab object at 0x7fafaccdbfd0>, 'number': <gensim.models.keyedvectors.Vocab object at 0x7fafaccdb890>, 'potential': <gensim.models.keyedvectors.Vocab object at 0x7fafaccdbd90>, 'answer': <gensim.models.keyedvectors.Vocab object at 0x7fafac51b290>, 'label': <gensim.models.keyedvectors.Vocab object at 0x7fafac51ba90>, 'correct': <gensim.models.keyedvectors.Vocab object at 0x7fafac51b1d0>, 'algorithms': <gensim.models.keyedvectors.Vocab object at 0x7fafac51b210>, 'determine': <gensim.models.keyedvectors.Vocab object at 0x7fafac51b390>, 'example': <gensim.models.keyedvectors.Vocab object at 0x7fafac51b3d0>, 'train': <gensim.models.keyedvectors.Vocab object at 0x7fafac51b510>, 'system': <gensim.models.keyedvectors.Vocab object at 0x7fafac51b310>, 'digital': <gensim.models.keyedvectors.Vocab object at 0x7fafac51b710>, 'character': <gensim.models.keyedvectors.Vocab object at 0x7fafac51b790>, 'dataset': <gensim.models.keyedvectors.Vocab object at 0x7fafac51b990>, 'digit': <gensim.models.keyedvectors.Vocab object at 0x7fafac51ba50>, 'term': <gensim.models.keyedvectors.Vocab object at 0x7fafac51bc50>, 'coin': <gensim.models.keyedvectors.Vocab object at 0x7fafac51b650>, 'arthur': <gensim.models.keyedvectors.Vocab object at 0x7fafac51bf10>, 'samuel': <gensim.models.keyedvectors.Vocab object at 0x7fafac51bd90>, 'ibm': <gensim.models.keyedvectors.Vocab object at 0x7fafac514090>, 'employee': <gensim.models.keyedvectors.Vocab object at 0x7fafac5141d0>, 'self': <gensim.models.keyedvectors.Vocab object at 0x7fafac5143d0>, 'time': <gensim.models.keyedvectors.Vocab object at 0x7fafac514450>, 'period': <gensim.models.keyedvectors.Vocab object at 0x7fafac5144d0>, 'early': <gensim.models.keyedvectors.Vocab object at 0x7fafac5145d0>, 'experimental': <gensim.models.keyedvectors.Vocab object at 0x7fafac514790>, 'memory': <gensim.models.keyedvectors.Vocab object at 0x7fafac5148d0>, 'company': <gensim.models.keyedvectors.Vocab object at 0x7fafac514950>, 'analyze': <gensim.models.keyedvectors.Vocab object at 0x7fafac514a90>, 'sonar': <gensim.models.keyedvectors.Vocab object at 0x7fafac514b90>, 'signal': <gensim.models.keyedvectors.Vocab object at 0x7fafac514d10>, 'pattern': <gensim.models.keyedvectors.Vocab object at 0x7fafac514ed0>, 'reinforcement': <gensim.models.keyedvectors.Vocab object at 0x7fafac514b50>, 'teacher': <gensim.models.keyedvectors.Vocab object at 0x7fafac514f50>, 'recognize': <gensim.models.keyedvectors.Vocab object at 0x7fafac5123d0>, 'cause': <gensim.models.keyedvectors.Vocab object at 0x7fafac5124d0>, 'evaluate': <gensim.models.keyedvectors.Vocab object at 0x7fafac5127d0>, 'decisions': <gensim.models.keyedvectors.Vocab object at 0x7fafac5121d0>, 'representative': <gensim.models.keyedvectors.Vocab object at 0x7fafac512b50>, 'book': <gensim.models.keyedvectors.Vocab object at 0x7fafac512d90>, 'research': <gensim.models.keyedvectors.Vocab object at 0x7fafac512ad0>, 's': <gensim.models.keyedvectors.Vocab object at 0x7fafac50fe50>, 'machines': <gensim.models.keyedvectors.Vocab object at 0x7fafac50f190>, 'deal': <gensim.models.keyedvectors.Vocab object at 0x7fafac50f310>, 'classification': <gensim.models.keyedvectors.Vocab object at 0x7fafac50f410>, 'interest': <gensim.models.keyedvectors.Vocab object at 0x7fafac50f690>, 'describe': <gensim.models.keyedvectors.Vocab object at 0x7fafac50f7d0>, 'report': <gensim.models.keyedvectors.Vocab object at 0x7fafac50f550>, 'teaching': <gensim.models.keyedvectors.Vocab object at 0x7fafac50f8d0>, 'letter': <gensim.models.keyedvectors.Vocab object at 0x7fafac50fb50>, 'special': <gensim.models.keyedvectors.Vocab object at 0x7fafac50fd10>, 'symbol': <gensim.models.keyedvectors.Vocab object at 0x7fafac50fdd0>, 'widely': <gensim.models.keyedvectors.Vocab object at 0x7fafac50fa10>, 'formal': <gensim.models.keyedvectors.Vocab object at 0x7fafac50ff10>, 'definition': <gensim.models.keyedvectors.Vocab object at 0x7fafac50ff50>, 'experience': <gensim.models.keyedvectors.Vocab object at 0x7fafac50d150>, 'e': <gensim.models.keyedvectors.Vocab object at 0x7fafac50d0d0>, 'respect': <gensim.models.keyedvectors.Vocab object at 0x7fafac50d1d0>, 'class': <gensim.models.keyedvectors.Vocab object at 0x7fafac50d290>, 't': <gensim.models.keyedvectors.Vocab object at 0x7fafac50d390>, 'measure': <gensim.models.keyedvectors.Vocab object at 0x7fafac50d410>, 'p': <gensim.models.keyedvectors.Vocab object at 0x7fafac50d5d0>, 'concern': <gensim.models.keyedvectors.Vocab object at 0x7fafac50d210>, 'offer': <gensim.models.keyedvectors.Vocab object at 0x7fafac50d850>, 'define': <gensim.models.keyedvectors.Vocab object at 0x7fafac50d990>, 'cognitive': <gensim.models.keyedvectors.Vocab object at 0x7fafac50db10>, 'follow': <gensim.models.keyedvectors.Vocab object at 0x7fafac50dc90>, 'alan': <gensim.models.keyedvectors.Vocab object at 0x7fafac50dd50>, 'turing': <gensim.models.keyedvectors.Vocab object at 0x7fafac50dcd0>, 'paper': <gensim.models.keyedvectors.Vocab object at 0x7fafaeaf5410>, 'computing': <gensim.models.keyedvectors.Vocab object at 0x7fafaeaf5590>, 'machinery': <gensim.models.keyedvectors.Vocab object at 0x7fafaeaf51d0>, 'question': <gensim.models.keyedvectors.Vocab object at 0x7fafaeaf5690>, 'think': <gensim.models.keyedvectors.Vocab object at 0x7fafaeaf56d0>, 'replace': <gensim.models.keyedvectors.Vocab object at 0x7fafaeaf55d0>, 'thinking': <gensim.models.keyedvectors.Vocab object at 0x7fafaeaf5610>, 'do': <gensim.models.keyedvectors.Vocab object at 0x7fafaeaf5510>, 'modern': <gensim.models.keyedvectors.Vocab object at 0x7fafaeaf5310>, 'objective': <gensim.models.keyedvectors.Vocab object at 0x7fafaeaf5550>, 'classify': <gensim.models.keyedvectors.Vocab object at 0x7fafaeaf5450>, 'purpose': <gensim.models.keyedvectors.Vocab object at 0x7fafaeaf54d0>, 'outcome': <gensim.models.keyedvectors.Vocab object at 0x7fafaeaf5390>, 'hypothetical': <gensim.models.keyedvectors.Vocab object at 0x7fafaeaf5290>, 'specific': <gensim.models.keyedvectors.Vocab object at 0x7fafaeaf5250>, 'mole': <gensim.models.keyedvectors.Vocab object at 0x7fafaeaf5490>, 'supervised': <gensim.models.keyedvectors.Vocab object at 0x7fafaeb1bd10>, 'cancerous': <gensim.models.keyedvectors.Vocab object at 0x7fafaeb1bcd0>, 'inform': <gensim.models.keyedvectors.Vocab object at 0x7fafaeb1bc90>, 'predictions': <gensim.models.keyedvectors.Vocab object at 0x7fafaeb1bc50>, 'scientific': <gensim.models.keyedvectors.Vocab object at 0x7fafaeb1bc10>, 'grow': <gensim.models.keyedvectors.Vocab object at 0x7fafaeb1bbd0>, 'ai': <gensim.models.keyedvectors.Vocab object at 0x7fafaeb1bb50>, 'academic': <gensim.models.keyedvectors.Vocab object at 0x7fafaeb1bb10>, 'researcher': <gensim.models.keyedvectors.Vocab object at 0x7fafaeb1ba90>, 'interested': <gensim.models.keyedvectors.Vocab object at 0x7fafae6d3090>, 'attempt': <gensim.models.keyedvectors.Vocab object at 0x7fafae6d3f90>, 'symbolic': <gensim.models.keyedvectors.Vocab object at 0x7fafae6d3d50>, 'perceptron': <gensim.models.keyedvectors.Vocab object at 0x7fafa4fd36d0>, 'later': <gensim.models.keyedvectors.Vocab object at 0x7fafa4fd3510>, 'find': <gensim.models.keyedvectors.Vocab object at 0x7fafa4fd3710>, 'reinvention': <gensim.models.keyedvectors.Vocab object at 0x7fafa4fd3650>, 'generalize': <gensim.models.keyedvectors.Vocab object at 0x7fafac50d7d0>, 'linear': <gensim.models.keyedvectors.Vocab object at 0x7fafac510450>, 'statistics': <gensim.models.keyedvectors.Vocab object at 0x7fafac510110>, 'probabilistic': <gensim.models.keyedvectors.Vocab object at 0x7fafac5101d0>, 'reasoning': <gensim.models.keyedvectors.Vocab object at 0x7fafac510590>, 'especially': <gensim.models.keyedvectors.Vocab object at 0x7fafac510510>, 'automate': <gensim.models.keyedvectors.Vocab object at 0x7fafac510650>, 'medical': <gensim.models.keyedvectors.Vocab object at 0x7fafac510750>, 'diagnosis': <gensim.models.keyedvectors.Vocab object at 0x7fafac510990>, 'increase': <gensim.models.keyedvectors.Vocab object at 0x7fafac5106d0>, 'logical': <gensim.models.keyedvectors.Vocab object at 0x7fafac510c90>, 'knowledge': <gensim.models.keyedvectors.Vocab object at 0x7fafac510a90>, 'theoretical': <gensim.models.keyedvectors.Vocab object at 0x7fafac510f90>, 'practical': <gensim.models.keyedvectors.Vocab object at 0x7fafac510dd0>, 'data': <gensim.models.keyedvectors.Vocab object at 0x7fafac50a310>, 'acquisition': <gensim.models.keyedvectors.Vocab object at 0x7fafac50ad90>, 'representation': <gensim.models.keyedvectors.Vocab object at 0x7fafac50a090>, 'expert': <gensim.models.keyedvectors.Vocab object at 0x7fafac50a150>, 'come': <gensim.models.keyedvectors.Vocab object at 0x7fafac50a210>, 'dominate': <gensim.models.keyedvectors.Vocab object at 0x7fafac50a3d0>, 'favor': <gensim.models.keyedvectors.Vocab object at 0x7fafac50a410>, 'lead': <gensim.models.keyedvectors.Vocab object at 0x7fafac50a450>, 'inductive': <gensim.models.keyedvectors.Vocab object at 0x7fafac50a5d0>, 'logic': <gensim.models.keyedvectors.Vocab object at 0x7fafac50a650>, 'programming': <gensim.models.keyedvectors.Vocab object at 0x7fafac50a990>, 'line': <gensim.models.keyedvectors.Vocab object at 0x7fafac50aa50>, 'outside': <gensim.models.keyedvectors.Vocab object at 0x7fafac50abd0>, 'information': <gensim.models.keyedvectors.Vocab object at 0x7fafac50a350>, 'retrieval': <gensim.models.keyedvectors.Vocab object at 0x7fafac50ad10>, '–': <gensim.models.keyedvectors.Vocab object at 0x7fafac508410>, 'science': <gensim.models.keyedvectors.Vocab object at 0x7fafac508750>, 'connectionism': <gensim.models.keyedvectors.Vocab object at 0x7fafac508050>, 'include': <gensim.models.keyedvectors.Vocab object at 0x7fafac508210>, 'rumelhart': <gensim.models.keyedvectors.Vocab object at 0x7fafac508350>, 'hinton': <gensim.models.keyedvectors.Vocab object at 0x7fafac508510>, 'main': <gensim.models.keyedvectors.Vocab object at 0x7fafac508710>, 'success': <gensim.models.keyedvectors.Vocab object at 0x7fafac5084d0>, 'backpropagation': <gensim.models.keyedvectors.Vocab object at 0x7fafac508810>, 'start': <gensim.models.keyedvectors.Vocab object at 0x7fafac508950>, 'change': <gensim.models.keyedvectors.Vocab object at 0x7fafac508a10>, 'goal': <gensim.models.keyedvectors.Vocab object at 0x7fafac508bd0>, 'achieve': <gensim.models.keyedvectors.Vocab object at 0x7fafac5087d0>, 'nature': <gensim.models.keyedvectors.Vocab object at 0x7fafac508ed0>, 'shift': <gensim.models.keyedvectors.Vocab object at 0x7fafac508e50>, 'away': <gensim.models.keyedvectors.Vocab object at 0x7fafac508fd0>, 'fuzzy': <gensim.models.keyedvectors.Vocab object at 0x7fafac5060d0>, 'probability': <gensim.models.keyedvectors.Vocab object at 0x7fafac5062d0>, 'difference': <gensim.models.keyedvectors.Vocab object at 0x7fafac506490>, 'frequently': <gensim.models.keyedvectors.Vocab object at 0x7fafac506510>, 'predict': <gensim.models.keyedvectors.Vocab object at 0x7fafac506810>, 'observation': <gensim.models.keyedvectors.Vocab object at 0x7fafac506410>, 'agent': <gensim.models.keyedvectors.Vocab object at 0x7fafac506ad0>, 'environment': <gensim.models.keyedvectors.Vocab object at 0x7fafac506b50>, 'action': <gensim.models.keyedvectors.Vocab object at 0x7fafac506d10>, 'maximize': <gensim.models.keyedvectors.Vocab object at 0x7fafac506e10>, 'goals': <gensim.models.keyedvectors.Vocab object at 0x7fafac506e50>, 'source': <gensim.models.keyedvectors.Vocab object at 0x7fafac506f10>, 'remain': <gensim.models.keyedvectors.Vocab object at 0x7fafac506f50>, 'subfield': <gensim.models.keyedvectors.Vocab object at 0x7fafac5069d0>, 'view': <gensim.models.keyedvectors.Vocab object at 0x7fafac5034d0>, 'intelligent': <gensim.models.keyedvectors.Vocab object at 0x7fafac503090>, 'consider': <gensim.models.keyedvectors.Vocab object at 0x7fafac503390>, 'significantly': <gensim.models.keyedvectors.Vocab object at 0x7fafac503650>, 'property': <gensim.models.keyedvectors.Vocab object at 0x7fafac503610>, 'discovery': <gensim.models.keyedvectors.Vocab object at 0x7fafac503990>, 'previously': <gensim.models.keyedvectors.Vocab object at 0x7fafac5039d0>, 'unknown': <gensim.models.keyedvectors.Vocab object at 0x7fafac503b10>, 'database': <gensim.models.keyedvectors.Vocab object at 0x7fafac503b50>, 'different': <gensim.models.keyedvectors.Vocab object at 0x7fafac503890>, 'learner': <gensim.models.keyedvectors.Vocab object at 0x7fafac503c10>, 'accuracy': <gensim.models.keyedvectors.Vocab object at 0x7fafac503d50>, 'community': <gensim.models.keyedvectors.Vocab object at 0x7fafac503f90>, 'conference': <gensim.models.keyedvectors.Vocab object at 0x7fafac503dd0>, 'journal': <gensim.models.keyedvectors.Vocab object at 0x7fafac51a110>, 'major': <gensim.models.keyedvectors.Vocab object at 0x7fafac51a210>, 'basic': <gensim.models.keyedvectors.Vocab object at 0x7fafac51a190>, 'assumption': <gensim.models.keyedvectors.Vocab object at 0x7fafac51a490>, 'usually': <gensim.models.keyedvectors.Vocab object at 0x7fafac51a550>, 'ability': <gensim.models.keyedvectors.Vocab object at 0x7fafac51a390>, 'kdd': <gensim.models.keyedvectors.Vocab object at 0x7fafac51a710>, 'key': <gensim.models.keyedvectors.Vocab object at 0x7fafac51a690>, 'easily': <gensim.models.keyedvectors.Vocab object at 0x7fafac51a990>, 'loss': <gensim.models.keyedvectors.Vocab object at 0x7fafac51aa50>, 'function': <gensim.models.keyedvectors.Vocab object at 0x7fafac51a890>, 'express': <gensim.models.keyedvectors.Vocab object at 0x7fafac51acd0>, 'actual': <gensim.models.keyedvectors.Vocab object at 0x7fafac51add0>, 'instance': <gensim.models.keyedvectors.Vocab object at 0x7fafac51ab90>, 'correctly': <gensim.models.keyedvectors.Vocab object at 0x7fafac51af50>, 'pre': <gensim.models.keyedvectors.Vocab object at 0x7fafac504e10>, 'examples': <gensim.models.keyedvectors.Vocab object at 0x7fafac504050>, 'arise': <gensim.models.keyedvectors.Vocab object at 0x7fafac504090>, 'generalization': <gensim.models.keyedvectors.Vocab object at 0x7fafac5041d0>, 'minimize': <gensim.models.keyedvectors.Vocab object at 0x7fafac504190>, 'unseen': <gensim.models.keyedvectors.Vocab object at 0x7fafac504850>, 'characterize': <gensim.models.keyedvectors.Vocab object at 0x7fafac504a90>, 'active': <gensim.models.keyedvectors.Vocab object at 0x7fafac504c50>, 'topic': <gensim.models.keyedvectors.Vocab object at 0x7fafac504d90>, 'current': <gensim.models.keyedvectors.Vocab object at 0x7fafac504710>, 'deep': <gensim.models.keyedvectors.Vocab object at 0x7fafac504e50>, 'principal': <gensim.models.keyedvectors.Vocab object at 0x7fafac519150>, 'draw': <gensim.models.keyedvectors.Vocab object at 0x7fafac519290>, 'population': <gensim.models.keyedvectors.Vocab object at 0x7fafac5192d0>, 'patterns': <gensim.models.keyedvectors.Vocab object at 0x7fafac519410>, 'accord': <gensim.models.keyedvectors.Vocab object at 0x7fafac519450>, 'michael': <gensim.models.keyedvectors.Vocab object at 0x7fafac5194d0>, 'idea': <gensim.models.keyedvectors.Vocab object at 0x7fafac519510>, 'principle': <gensim.models.keyedvectors.Vocab object at 0x7fafac5195d0>, 'tool': <gensim.models.keyedvectors.Vocab object at 0x7fafac5198d0>, 'long': <gensim.models.keyedvectors.Vocab object at 0x7fafac519950>, 'history': <gensim.models.keyedvectors.Vocab object at 0x7fafac519790>, 'suggest': <gensim.models.keyedvectors.Vocab object at 0x7fafac519a90>, 'overall': <gensim.models.keyedvectors.Vocab object at 0x7fafac519b50>, 'modeling': <gensim.models.keyedvectors.Vocab object at 0x7fafac519e90>, 'algorithmic': <gensim.models.keyedvectors.Vocab object at 0x7fafac519c90>, 'mean': <gensim.models.keyedvectors.Vocab object at 0x7fafac517050>, 'like': <gensim.models.keyedvectors.Vocab object at 0x7fafac517150>, 'random': <gensim.models.keyedvectors.Vocab object at 0x7fafac517250>, 'adopt': <gensim.models.keyedvectors.Vocab object at 0x7fafac517290>, 'combine': <gensim.models.keyedvectors.Vocab object at 0x7fafac517510>, 'context': <gensim.models.keyedvectors.Vocab object at 0x7fafac517590>, 'new': <gensim.models.keyedvectors.Vocab object at 0x7fafac5175d0>, 'having': <gensim.models.keyedvectors.Vocab object at 0x7fafac517650>, 'generally': <gensim.models.keyedvectors.Vocab object at 0x7fafac517690>, 'distribution': <gensim.models.keyedvectors.Vocab object at 0x7fafac517750>, 'space': <gensim.models.keyedvectors.Vocab object at 0x7fafac517910>, 'occurrence': <gensim.models.keyedvectors.Vocab object at 0x7fafac5173d0>, 'general': <gensim.models.keyedvectors.Vocab object at 0x7fafac517a10>, 'enable': <gensim.models.keyedvectors.Vocab object at 0x7fafac517b90>, 'produce': <gensim.models.keyedvectors.Vocab object at 0x7fafac517cd0>, 'sufficiently': <gensim.models.keyedvectors.Vocab object at 0x7fafac517e50>, 'accurate': <gensim.models.keyedvectors.Vocab object at 0x7fafac517ed0>, 'branch': <gensim.models.keyedvectors.Vocab object at 0x7fafac517e10>, 'approximately': <gensim.models.keyedvectors.Vocab object at 0x7fafac517f50>, 'finite': <gensim.models.keyedvectors.Vocab object at 0x7fafad02b850>, 'uncertain': <gensim.models.keyedvectors.Vocab object at 0x7fafad02b090>, 'yield': <gensim.models.keyedvectors.Vocab object at 0x7fafad02b190>, 'instead': <gensim.models.keyedvectors.Vocab object at 0x7fafad02bb90>, 'bound': <gensim.models.keyedvectors.Vocab object at 0x7fafad02bd90>, 'common': <gensim.models.keyedvectors.Vocab object at 0x7fafad02bed0>, 'bias': <gensim.models.keyedvectors.Vocab object at 0x7fafad02b290>, 'error': <gensim.models.keyedvectors.Vocab object at 0x7fafad02b110>, 'good': <gensim.models.keyedvectors.Vocab object at 0x7fafad02b8d0>, 'complexity': <gensim.models.keyedvectors.Vocab object at 0x7fafad02b3d0>, 'hypothesis': <gensim.models.keyedvectors.Vocab object at 0x7fafad02b950>, 'match': <gensim.models.keyedvectors.Vocab object at 0x7fafad02be10>, 'underlie': <gensim.models.keyedvectors.Vocab object at 0x7fafad02b4d0>, 'complex': <gensim.models.keyedvectors.Vocab object at 0x7fafac52d610>, 'fit': <gensim.models.keyedvectors.Vocab object at 0x7fafac52dc90>, 'response': <gensim.models.keyedvectors.Vocab object at 0x7fafac52d090>, 'decrease': <gensim.models.keyedvectors.Vocab object at 0x7fafac52d250>, 'subject': <gensim.models.keyedvectors.Vocab object at 0x7fafac52d5d0>, 'overfitting': <gensim.models.keyedvectors.Vocab object at 0x7fafac52d190>, 'addition': <gensim.models.keyedvectors.Vocab object at 0x7fafac52d710>, 'computation': <gensim.models.keyedvectors.Vocab object at 0x7fafac52d850>, 'polynomial': <gensim.models.keyedvectors.Vocab object at 0x7fafac52d8d0>, 'kind': <gensim.models.keyedvectors.Vocab object at 0x7fafac52d9d0>, 'result': <gensim.models.keyedvectors.Vocab object at 0x7fafac52dbd0>, 'positive': <gensim.models.keyedvectors.Vocab object at 0x7fafac52d650>, 'negative': <gensim.models.keyedvectors.Vocab object at 0x7fafac52ddd0>, 'divide': <gensim.models.keyedvectors.Vocab object at 0x7fafac52de90>, 'broad': <gensim.models.keyedvectors.Vocab object at 0x7fafac52ded0>, 'category': <gensim.models.keyedvectors.Vocab object at 0x7fafac52dd10>, 'correspond': <gensim.models.keyedvectors.Vocab object at 0x7fafac57b3d0>, 'paradigm': <gensim.models.keyedvectors.Vocab object at 0x7fafac57bd10>, 'depend': <gensim.models.keyedvectors.Vocab object at 0x7fafac57b110>, 'feedback': <gensim.models.keyedvectors.Vocab object at 0x7fafac57b150>, 'contain': <gensim.models.keyedvectors.Vocab object at 0x7fafac57b290>, 'input': <gensim.models.keyedvectors.Vocab object at 0x7fafac57b2d0>, 'desire': <gensim.models.keyedvectors.Vocab object at 0x7fafac57b550>, 'consist': <gensim.models.keyedvectors.Vocab object at 0x7fafac57b450>, 'output': <gensim.models.keyedvectors.Vocab object at 0x7fafac57b950>, 'represent': <gensim.models.keyedvectors.Vocab object at 0x7fafac57b6d0>, 'array': <gensim.models.keyedvectors.Vocab object at 0x7fafac57bc50>, 'vector': <gensim.models.keyedvectors.Vocab object at 0x7fafac57ba90>, 'feature': <gensim.models.keyedvectors.Vocab object at 0x7fafac57bdd0>, 'matrix': <gensim.models.keyedvectors.Vocab object at 0x7fafac57bf10>, 'associate': <gensim.models.keyedvectors.Vocab object at 0x7fafac57bd50>, 'inputs': <gensim.models.keyedvectors.Vocab object at 0x7fafac56a0d0>, 'optimal': <gensim.models.keyedvectors.Vocab object at 0x7fafac56a3d0>, 'allow': <gensim.models.keyedvectors.Vocab object at 0x7fafac56a750>, 'type': <gensim.models.keyedvectors.Vocab object at 0x7fafac56ac10>, 'supervise': <gensim.models.keyedvectors.Vocab object at 0x7fafac56aed0>, 'regression': <gensim.models.keyedvectors.Vocab object at 0x7fafac56a050>, 'limited': <gensim.models.keyedvectors.Vocab object at 0x7fafac56a090>, 'value': <gensim.models.keyedvectors.Vocab object at 0x7fafac56a250>, 'numerical': <gensim.models.keyedvectors.Vocab object at 0x7fafac56a310>, 'range': <gensim.models.keyedvectors.Vocab object at 0x7fafac56a410>, 'file': <gensim.models.keyedvectors.Vocab object at 0x7fafac56a550>, 'similarity': <gensim.models.keyedvectors.Vocab object at 0x7fafac56a610>, 'area': <gensim.models.keyedvectors.Vocab object at 0x7fafac56a710>, 'similar': <gensim.models.keyedvectors.Vocab object at 0x7fafac56a190>, 'object': <gensim.models.keyedvectors.Vocab object at 0x7fafac56a890>, 'rank': <gensim.models.keyedvectors.Vocab object at 0x7fafac56a9d0>, 'recommendation': <gensim.models.keyedvectors.Vocab object at 0x7fafac56aa10>, 'visual': <gensim.models.keyedvectors.Vocab object at 0x7fafac56ab10>, 'identity': <gensim.models.keyedvectors.Vocab object at 0x7fafac56ab90>, 'tracking': <gensim.models.keyedvectors.Vocab object at 0x7fafac56a810>, 'face': <gensim.models.keyedvectors.Vocab object at 0x7fafac56ae10>, 'verification': <gensim.models.keyedvectors.Vocab object at 0x7fafac56ae50>, 'structure': <gensim.models.keyedvectors.Vocab object at 0x7fafac56af50>, 'group': <gensim.models.keyedvectors.Vocab object at 0x7fafac56af90>, 'clustering': <gensim.models.keyedvectors.Vocab object at 0x7fafac56acd0>, 'point': <gensim.models.keyedvectors.Vocab object at 0x7fafac559050>, 'test': <gensim.models.keyedvectors.Vocab object at 0x7fafac559dd0>, 'categorize': <gensim.models.keyedvectors.Vocab object at 0x7fafac559090>, 'identify': <gensim.models.keyedvectors.Vocab object at 0x7fafac559190>, 'commonality': <gensim.models.keyedvectors.Vocab object at 0x7fafac5592d0>, 'presence': <gensim.models.keyedvectors.Vocab object at 0x7fafac5593d0>, 'central': <gensim.models.keyedvectors.Vocab object at 0x7fafac559610>, 'density': <gensim.models.keyedvectors.Vocab object at 0x7fafac559910>, 'estimation': <gensim.models.keyedvectors.Vocab object at 0x7fafac559ad0>, 'encompass': <gensim.models.keyedvectors.Vocab object at 0x7fafac559c10>, 'explain': <gensim.models.keyedvectors.Vocab object at 0x7fafac559cd0>, 'cluster': <gensim.models.keyedvectors.Vocab object at 0x7fafac559d10>, 'criterion': <gensim.models.keyedvectors.Vocab object at 0x7fafac5594d0>, 'technique': <gensim.models.keyedvectors.Vocab object at 0x7fafac559f10>, 'internal': <gensim.models.keyedvectors.Vocab object at 0x7fafac580c50>, 'member': <gensim.models.keyedvectors.Vocab object at 0x7fafac580090>, 'estimate': <gensim.models.keyedvectors.Vocab object at 0x7fafac580190>, 'graph': <gensim.models.keyedvectors.Vocab object at 0x7fafac5802d0>, 'semi': <gensim.models.keyedvectors.Vocab object at 0x7fafac5800d0>, 'fall': <gensim.models.keyedvectors.Vocab object at 0x7fafac5804d0>, 'completely': <gensim.models.keyedvectors.Vocab object at 0x7fafac580590>, 'miss': <gensim.models.keyedvectors.Vocab object at 0x7fafac580410>, 'unlabeled': <gensim.models.keyedvectors.Vocab object at 0x7fafac5806d0>, 'conjunction': <gensim.models.keyedvectors.Vocab object at 0x7fafac5807d0>, 'small': <gensim.models.keyedvectors.Vocab object at 0x7fafac5808d0>, 'improvement': <gensim.models.keyedvectors.Vocab object at 0x7fafac580690>, 'imprecise': <gensim.models.keyedvectors.Vocab object at 0x7fafac580b10>, 'obtain': <gensim.models.keyedvectors.Vocab object at 0x7fafac580a10>, 'large': <gensim.models.keyedvectors.Vocab object at 0x7fafac580dd0>, 'sets': <gensim.models.keyedvectors.Vocab object at 0x7fafac57c590>, 'software': <gensim.models.keyedvectors.Vocab object at 0x7fafac57cc90>, 'notion': <gensim.models.keyedvectors.Vocab object at 0x7fafac57c110>, 'reward': <gensim.models.keyedvectors.Vocab object at 0x7fafac57c290>, 'game': <gensim.models.keyedvectors.Vocab object at 0x7fafac57c450>, 'control': <gensim.models.keyedvectors.Vocab object at 0x7fafac57c310>, 'operation': <gensim.models.keyedvectors.Vocab object at 0x7fafac57c610>, 'simulation': <gensim.models.keyedvectors.Vocab object at 0x7fafac57c6d0>, 'multi': <gensim.models.keyedvectors.Vocab object at 0x7fafac57c4d0>, 'swarm': <gensim.models.keyedvectors.Vocab object at 0x7fafac57c790>, 'genetic': <gensim.models.keyedvectors.Vocab object at 0x7fafac57c950>, 'typically': <gensim.models.keyedvectors.Vocab object at 0x7fafac57cc10>, 'markov': <gensim.models.keyedvectors.Vocab object at 0x7fafac57c8d0>, 'process': <gensim.models.keyedvectors.Vocab object at 0x7fafac57cdd0>, 'mdp': <gensim.models.keyedvectors.Vocab object at 0x7fafac57ce50>, 'dynamic': <gensim.models.keyedvectors.Vocab object at 0x7fafac57cf50>, 'assume': <gensim.models.keyedvectors.Vocab object at 0x7fafac57cd90>, 'exact': <gensim.models.keyedvectors.Vocab object at 0x7fafac5767d0>, 'autonomous': <gensim.models.keyedvectors.Vocab object at 0x7fafac576dd0>, 'vehicle': <gensim.models.keyedvectors.Vocab object at 0x7fafac576090>, 'play': <gensim.models.keyedvectors.Vocab object at 0x7fafac576150>, 'dimensionality': <gensim.models.keyedvectors.Vocab object at 0x7fafac576210>, 'reduction': <gensim.models.keyedvectors.Vocab object at 0x7fafac576250>, 'reduce': <gensim.models.keyedvectors.Vocab object at 0x7fafac5762d0>, 'variable': <gensim.models.keyedvectors.Vocab object at 0x7fafac5766d0>, 'word': <gensim.models.keyedvectors.Vocab object at 0x7fafac576750>, 'dimension': <gensim.models.keyedvectors.Vocab object at 0x7fafac576510>, 'popular': <gensim.models.keyedvectors.Vocab object at 0x7fafac576950>, 'component': <gensim.models.keyedvectors.Vocab object at 0x7fafac576a50>, 'pca': <gensim.models.keyedvectors.Vocab object at 0x7fafac576b10>, 'high': <gensim.models.keyedvectors.Vocab object at 0x7fafac576c90>, 'dimensional': <gensim.models.keyedvectors.Vocab object at 0x7fafac5768d0>, 'eg': <gensim.models.keyedvectors.Vocab object at 0x7fafac576f10>, 'd': <gensim.models.keyedvectors.Vocab object at 0x7fafac576e90>, 'original': <gensim.models.keyedvectors.Vocab object at 0x7fafac574ad0>, 'manifold': <gensim.models.keyedvectors.Vocab object at 0x7fafac574110>, 'propose': <gensim.models.keyedvectors.Vocab object at 0x7fafac574410>, 'lie': <gensim.models.keyedvectors.Vocab object at 0x7fafac5744d0>, 'low': <gensim.models.keyedvectors.Vocab object at 0x7fafac5745d0>, 'regularization': <gensim.models.keyedvectors.Vocab object at 0x7fafac574810>, 'fold': <gensim.models.keyedvectors.Vocab object at 0x7fafac574a50>, 'meta': <gensim.models.keyedvectors.Vocab object at 0x7fafac574a90>, 'dominant': <gensim.models.keyedvectors.Vocab object at 0x7fafac574b90>, 'ongoing': <gensim.models.keyedvectors.Vocab object at 0x7fafac574e10>, 'introduce': <gensim.models.keyedvectors.Vocab object at 0x7fafac574f90>, 'capable': <gensim.models.keyedvectors.Vocab object at 0x7fafac574990>, 'crossbar': <gensim.models.keyedvectors.Vocab object at 0x7fafac57ee10>, 'caa': <gensim.models.keyedvectors.Vocab object at 0x7fafac57e190>, 'external': <gensim.models.keyedvectors.Vocab object at 0x7fafac57e210>, 'advice': <gensim.models.keyedvectors.Vocab object at 0x7fafac57e390>, 'compute': <gensim.models.keyedvectors.Vocab object at 0x7fafac57e4d0>, 'emotion': <gensim.models.keyedvectors.Vocab object at 0x7fafac57e5d0>, 'feeling': <gensim.models.keyedvectors.Vocab object at 0x7fafac57e610>, 'consequence': <gensim.models.keyedvectors.Vocab object at 0x7fafac57e690>, 'situation': <gensim.models.keyedvectors.Vocab object at 0x7fafac57e110>, 'drive': <gensim.models.keyedvectors.Vocab object at 0x7fafac57e750>, 'interaction': <gensim.models.keyedvectors.Vocab object at 0x7fafac57e890>, 'cognition': <gensim.models.keyedvectors.Vocab object at 0x7fafac57e8d0>, 'update': <gensim.models.keyedvectors.Vocab object at 0x7fafac57eb10>, 'routine': <gensim.models.keyedvectors.Vocab object at 0x7fafac57ec10>, 'behavior': <gensim.models.keyedvectors.Vocab object at 0x7fafac57ed90>, 'a': <gensim.models.keyedvectors.Vocab object at 0x7fafac57ea50>, 'behavioral': <gensim.models.keyedvectors.Vocab object at 0x7fafac57ef10>, 'receive': <gensim.models.keyedvectors.Vocab object at 0x7fafac57eed0>, 'initial': <gensim.models.keyedvectors.Vocab object at 0x7fafac57d110>, 'seek': <gensim.models.keyedvectors.Vocab object at 0x7fafac57d8d0>, 'aim': <gensim.models.keyedvectors.Vocab object at 0x7fafac57d090>, 'discover': <gensim.models.keyedvectors.Vocab object at 0x7fafac57d3d0>, 'classic': <gensim.models.keyedvectors.Vocab object at 0x7fafac57d510>, 'useful': <gensim.models.keyedvectors.Vocab object at 0x7fafac57d550>, 'processing': <gensim.models.keyedvectors.Vocab object at 0x7fafac57d750>, 'generate': <gensim.models.keyedvectors.Vocab object at 0x7fafac57d1d0>, 'necessarily': <gensim.models.keyedvectors.Vocab object at 0x7fafac57d910>, 'configuration': <gensim.models.keyedvectors.Vocab object at 0x7fafac57dc10>, 'engineering': <gensim.models.keyedvectors.Vocab object at 0x7fafac57dcd0>, 'dictionary': <gensim.models.keyedvectors.Vocab object at 0x7fafac57ded0>, 'form': <gensim.models.keyedvectors.Vocab object at 0x7fafac57d9d0>, 'constraint': <gensim.models.keyedvectors.Vocab object at 0x7fafac573ad0>, 'sparse': <gensim.models.keyedvectors.Vocab object at 0x7fafac573210>, 'code': <gensim.models.keyedvectors.Vocab object at 0x7fafac573490>, 'zero': <gensim.models.keyedvectors.Vocab object at 0x7fafac573a50>, 'directly': <gensim.models.keyedvectors.Vocab object at 0x7fafac573890>, 'multiple': <gensim.models.keyedvectors.Vocab object at 0x7fafac573c10>, 'level': <gensim.models.keyedvectors.Vocab object at 0x7fafac573cd0>, 'hierarchy': <gensim.models.keyedvectors.Vocab object at 0x7fafac573e10>, 'argue': <gensim.models.keyedvectors.Vocab object at 0x7fafac573ed0>, 'factor': <gensim.models.keyedvectors.Vocab object at 0x7fafac573bd0>, 'observed': <gensim.models.keyedvectors.Vocab object at 0x7fafac573fd0>, 'fact': <gensim.models.keyedvectors.Vocab object at 0x7fafac571f10>, 'mathematically': <gensim.models.keyedvectors.Vocab object at 0x7fafac571450>, 'real': <gensim.models.keyedvectors.Vocab object at 0x7fafac5714d0>, 'world': <gensim.models.keyedvectors.Vocab object at 0x7fafac571610>, 'image': <gensim.models.keyedvectors.Vocab object at 0x7fafac571350>, 'video': <gensim.models.keyedvectors.Vocab object at 0x7fafac571a50>, 'rely': <gensim.models.keyedvectors.Vocab object at 0x7fafac571ed0>, 'explicit': <gensim.models.keyedvectors.Vocab object at 0x7fafac571f50>, 'hard': <gensim.models.keyedvectors.Vocab object at 0x7fafac571750>, 'heuristic': <gensim.models.keyedvectors.Vocab object at 0x7fafad031a90>, 'k': <gensim.models.keyedvectors.Vocab object at 0x7fafad031b90>, 'apply': <gensim.models.keyedvectors.Vocab object at 0x7fafad031450>, 'belong': <gensim.models.keyedvectors.Vocab object at 0x7fafad031550>, 'sparsely': <gensim.models.keyedvectors.Vocab object at 0x7fafad031b10>, 'noise': <gensim.models.keyedvectors.Vocab object at 0x7fafad0313d0>, 'patch': <gensim.models.keyedvectors.Vocab object at 0x7fafad031610>, 'anomaly': <gensim.models.keyedvectors.Vocab object at 0x7fafad031f90>, 'detection': <gensim.models.keyedvectors.Vocab object at 0x7fafad031ed0>, 'outlier': <gensim.models.keyedvectors.Vocab object at 0x7fafad031e10>, 'identification': <gensim.models.keyedvectors.Vocab object at 0x7fafac5721d0>, 'rare': <gensim.models.keyedvectors.Vocab object at 0x7fafac572c10>, 'item': <gensim.models.keyedvectors.Vocab object at 0x7fafac572150>, 'event': <gensim.models.keyedvectors.Vocab object at 0x7fafac572450>, 'raise': <gensim.models.keyedvectors.Vocab object at 0x7fafac5724d0>, 'majority': <gensim.models.keyedvectors.Vocab object at 0x7fafac572550>, 'issue': <gensim.models.keyedvectors.Vocab object at 0x7fafac572250>, 'text': <gensim.models.keyedvectors.Vocab object at 0x7fafac572610>, 'deviation': <gensim.models.keyedvectors.Vocab object at 0x7fafac5725d0>, 'particular': <gensim.models.keyedvectors.Vocab object at 0x7fafac572650>, 'intrusion': <gensim.models.keyedvectors.Vocab object at 0x7fafac572810>, 'interesting': <gensim.models.keyedvectors.Vocab object at 0x7fafac5729d0>, 'fail': <gensim.models.keyedvectors.Vocab object at 0x7fafac572990>, 'appropriately': <gensim.models.keyedvectors.Vocab object at 0x7fafac572cd0>, 'able': <gensim.models.keyedvectors.Vocab object at 0x7fafac572e90>, 'detect': <gensim.models.keyedvectors.Vocab object at 0x7fafac572f90>, 'normal': <gensim.models.keyedvectors.Vocab object at 0x7fafac572c90>, 'look': <gensim.models.keyedvectors.Vocab object at 0x7fafac56d090>, 'classifier': <gensim.models.keyedvectors.Vocab object at 0x7fafac56d190>, 'likelihood': <gensim.models.keyedvectors.Vocab object at 0x7fafac56d1d0>, 'robot': <gensim.models.keyedvectors.Vocab object at 0x7fafac56d250>, 'inspire': <gensim.models.keyedvectors.Vocab object at 0x7fafac56d350>, 'association': <gensim.models.keyedvectors.Vocab object at 0x7fafac56d510>, 'rule': <gensim.models.keyedvectors.Vocab object at 0x7fafac56d610>, 'relationship': <gensim.models.keyedvectors.Vocab object at 0x7fafac56d7d0>, 'intend': <gensim.models.keyedvectors.Vocab object at 0x7fafac56da10>, 'strong': <gensim.models.keyedvectors.Vocab object at 0x7fafac56dc90>, 'evolve': <gensim.models.keyedvectors.Vocab object at 0x7fafac56db50>, 'store': <gensim.models.keyedvectors.Vocab object at 0x7fafac56dd90>, 'manipulate': <gensim.models.keyedvectors.Vocab object at 0x7fafac56ded0>, 'characteristic': <gensim.models.keyedvectors.Vocab object at 0x7fafac56dfd0>, 'collectively': <gensim.models.keyedvectors.Vocab object at 0x7fafac56de10>, 'contrast': <gensim.models.keyedvectors.Vocab object at 0x7fafac56f850>, 'commonly': <gensim.models.keyedvectors.Vocab object at 0x7fafac56f110>, 'concept': <gensim.models.keyedvectors.Vocab object at 0x7fafac56f190>, 'product': <gensim.models.keyedvectors.Vocab object at 0x7fafac56f2d0>, 'scale': <gensim.models.keyedvectors.Vocab object at 0x7fafac56f690>, 'transaction': <gensim.models.keyedvectors.Vocab object at 0x7fafac56f450>, 'sale': <gensim.models.keyedvectors.Vocab object at 0x7fafac56f910>, 'o': <gensim.models.keyedvectors.Vocab object at 0x7fafac56fa90>, 'n': <gensim.models.keyedvectors.Vocab object at 0x7fafac56fb90>, 'r': <gensim.models.keyedvectors.Vocab object at 0x7fafac56fa50>, 'g': <gensim.models.keyedvectors.Vocab object at 0x7fafac56ffd0>, 'mathrm': <gensim.models.keyedvectors.Vocab object at 0x7fafac56fd90>, 'onion': <gensim.models.keyedvectors.Vocab object at 0x7fafac56cfd0>, 'potato': <gensim.models.keyedvectors.Vocab object at 0x7fafac56c310>, 'indicate': <gensim.models.keyedvectors.Vocab object at 0x7fafac56c350>, 'customer': <gensim.models.keyedvectors.Vocab object at 0x7fafac56c790>, 'buy': <gensim.models.keyedvectors.Vocab object at 0x7fafac56c810>, 'activity': <gensim.models.keyedvectors.Vocab object at 0x7fafac56c950>, 'promotional': <gensim.models.keyedvectors.Vocab object at 0x7fafac56ca50>, 'market': <gensim.models.keyedvectors.Vocab object at 0x7fafac56cbd0>, 'web': <gensim.models.keyedvectors.Vocab object at 0x7fafac56ce10>, 'usage': <gensim.models.keyedvectors.Vocab object at 0x7fafac56cf90>, 'continuous': <gensim.models.keyedvectors.Vocab object at 0x7fafac56cd90>, 'sequence': <gensim.models.keyedvectors.Vocab object at 0x7fafac568c50>, 'manner': <gensim.models.keyedvectors.Vocab object at 0x7fafac568190>, 'ilp': <gensim.models.keyedvectors.Vocab object at 0x7fafac5682d0>, 'background': <gensim.models.keyedvectors.Vocab object at 0x7fafac568090>, 'derive': <gensim.models.keyedvectors.Vocab object at 0x7fafac568350>, 'language': <gensim.models.keyedvectors.Vocab object at 0x7fafac5684d0>, 'functional': <gensim.models.keyedvectors.Vocab object at 0x7fafac568710>, 'particularly': <gensim.models.keyedvectors.Vocab object at 0x7fafac568490>, 'natural': <gensim.models.keyedvectors.Vocab object at 0x7fafac568990>, 'shapiro': <gensim.models.keyedvectors.Vocab object at 0x7fafac568a50>, 'lay': <gensim.models.keyedvectors.Vocab object at 0x7fafac568ad0>, 'foundation': <gensim.models.keyedvectors.Vocab object at 0x7fafac568b10>, 'setting': <gensim.models.keyedvectors.Vocab object at 0x7fafac568bd0>, 'prolog': <gensim.models.keyedvectors.Vocab object at 0x7fafac568c10>, 'infer': <gensim.models.keyedvectors.Vocab object at 0x7fafac568850>, 'philosophical': <gensim.models.keyedvectors.Vocab object at 0x7fafac568d90>, 'induction': <gensim.models.keyedvectors.Vocab object at 0x7fafac5623d0>, 'prove': <gensim.models.keyedvectors.Vocab object at 0x7fafac562110>, 'additional': <gensim.models.keyedvectors.Vocab object at 0x7fafac562190>, 'connectionist': <gensim.models.keyedvectors.Vocab object at 0x7fafac562310>, 'animal': <gensim.models.keyedvectors.Vocab object at 0x7fafac5624d0>, 'ann': <gensim.models.keyedvectors.Vocab object at 0x7fafac562510>, 'collection': <gensim.models.keyedvectors.Vocab object at 0x7fafac562490>, 'connected': <gensim.models.keyedvectors.Vocab object at 0x7fafac5626d0>, 'unit': <gensim.models.keyedvectors.Vocab object at 0x7fafac562850>, 'neuron': <gensim.models.keyedvectors.Vocab object at 0x7fafac562cd0>, 'connection': <gensim.models.keyedvectors.Vocab object at 0x7fafac562d50>, 'connect': <gensim.models.keyedvectors.Vocab object at 0x7fafac562ed0>, 'non': <gensim.models.keyedvectors.Vocab object at 0x7fafac562a90>, 'edge': <gensim.models.keyedvectors.Vocab object at 0x7fafac558750>, 'weight': <gensim.models.keyedvectors.Vocab object at 0x7fafac558850>, 'adjust': <gensim.models.keyedvectors.Vocab object at 0x7fafac558250>, 'strength': <gensim.models.keyedvectors.Vocab object at 0x7fafac5584d0>, 'threshold': <gensim.models.keyedvectors.Vocab object at 0x7fafac5585d0>, 'send': <gensim.models.keyedvectors.Vocab object at 0x7fafac558650>, 'aggregate': <gensim.models.keyedvectors.Vocab object at 0x7fafac5587d0>, 'layer': <gensim.models.keyedvectors.Vocab object at 0x7fafac558910>, 'possibly': <gensim.models.keyedvectors.Vocab object at 0x7fafac558b90>, 'attention': <gensim.models.keyedvectors.Vocab object at 0x7fafac558350>, 'translation': <gensim.models.keyedvectors.Vocab object at 0x7fafac558d50>, 'social': <gensim.models.keyedvectors.Vocab object at 0x7fafac558f50>, 'hide': <gensim.models.keyedvectors.Vocab object at 0x7fafac558d10>, 'try': <gensim.models.keyedvectors.Vocab object at 0x7fafac54da50>, 'light': <gensim.models.keyedvectors.Vocab object at 0x7fafac54d1d0>, 'sound': <gensim.models.keyedvectors.Vocab object at 0x7fafac54d150>, 'successful': <gensim.models.keyedvectors.Vocab object at 0x7fafac54d310>, 'tree': <gensim.models.keyedvectors.Vocab object at 0x7fafac54d490>, 'conclusion': <gensim.models.keyedvectors.Vocab object at 0x7fafac54d550>, 'target': <gensim.models.keyedvectors.Vocab object at 0x7fafac54d2d0>, 'leave': <gensim.models.keyedvectors.Vocab object at 0x7fafac54d690>, 'making': <gensim.models.keyedvectors.Vocab object at 0x7fafac54d6d0>, 'support': <gensim.models.keyedvectors.Vocab object at 0x7fafac54d610>, 'svms': <gensim.models.keyedvectors.Vocab object at 0x7fafac54d910>, 'mark': <gensim.models.keyedvectors.Vocab object at 0x7fafac54d810>, 'svm': <gensim.models.keyedvectors.Vocab object at 0x7fafac54d9d0>, 'efficiently': <gensim.models.keyedvectors.Vocab object at 0x7fafac54d990>, 'kernel': <gensim.models.keyedvectors.Vocab object at 0x7fafac54dc50>, 'trick': <gensim.models.keyedvectors.Vocab object at 0x7fafac54dd90>, 'implicitly': <gensim.models.keyedvectors.Vocab object at 0x7fafac54ded0>, 'map': <gensim.models.keyedvectors.Vocab object at 0x7fafac54da90>, 'single': <gensim.models.keyedvectors.Vocab object at 0x7fafac555210>, 'mitigate': <gensim.models.keyedvectors.Vocab object at 0x7fafac5550d0>, 'trendline': <gensim.models.keyedvectors.Vocab object at 0x7fafac555150>, 'microsoft': <gensim.models.keyedvectors.Vocab object at 0x7fafac5551d0>, 'logistic': <gensim.models.keyedvectors.Vocab object at 0x7fafac5552d0>, 'advantage': <gensim.models.keyedvectors.Vocab object at 0x7fafac555310>, 'bayesian': <gensim.models.keyedvectors.Vocab object at 0x7fafac555750>, 'belief': <gensim.models.keyedvectors.Vocab object at 0x7fafac555050>, 'direct': <gensim.models.keyedvectors.Vocab object at 0x7fafac555850>, 'acyclic': <gensim.models.keyedvectors.Vocab object at 0x7fafac555910>, 'graphical': <gensim.models.keyedvectors.Vocab object at 0x7fafac555b10>, 'disease': <gensim.models.keyedvectors.Vocab object at 0x7fafac555d90>, 'symptom': <gensim.models.keyedvectors.Vocab object at 0x7fafac555e90>, 'efficient': <gensim.models.keyedvectors.Vocab object at 0x7fafac555f90>, 'protein': <gensim.models.keyedvectors.Vocab object at 0x7fafac555c90>, 'uncertainty': <gensim.models.keyedvectors.Vocab object at 0x7fafac54ce50>, 'influence': <gensim.models.keyedvectors.Vocab object at 0x7fafac54c050>, 'gaussian': <gensim.models.keyedvectors.Vocab object at 0x7fafac54c2d0>, 'covariance': <gensim.models.keyedvectors.Vocab object at 0x7fafac54c490>, 'location': <gensim.models.keyedvectors.Vocab object at 0x7fafac54c690>, 'unobserved': <gensim.models.keyedvectors.Vocab object at 0x7fafac54cc10>, 'search': <gensim.models.keyedvectors.Vocab object at 0x7fafac54ce10>, 'hope': <gensim.models.keyedvectors.Vocab object at 0x7fafac54c810>, 'solution': <gensim.models.keyedvectors.Vocab object at 0x7fafac54ced0>, 'evolutionary': <gensim.models.keyedvectors.Vocab object at 0x7fafad021e90>, 'reliable': <gensim.models.keyedvectors.Vocab object at 0x7fafad021990>, 'engineer': <gensim.models.keyedvectors.Vocab object at 0x7fafad021090>, 'collect': <gensim.models.keyedvectors.Vocab object at 0x7fafad021350>, 'sensor': <gensim.models.keyedvectors.Vocab object at 0x7fafad021a90>, 'individual': <gensim.models.keyedvectors.Vocab object at 0x7fafad021650>, 'user': <gensim.models.keyedvectors.Vocab object at 0x7fafad021d50>, 'service': <gensim.models.keyedvectors.Vocab object at 0x7fafad021a50>, 'biased': <gensim.models.keyedvectors.Vocab object at 0x7fafad0212d0>, 'impact': <gensim.models.keyedvectors.Vocab object at 0x7fafad021490>, 'society': <gensim.models.keyedvectors.Vocab object at 0x7fafad0214d0>, 'ethic': <gensim.models.keyedvectors.Vocab object at 0x7fafad0213d0>, 'notably': <gensim.models.keyedvectors.Vocab object at 0x7fafad021790>, 'integrate': <gensim.models.keyedvectors.Vocab object at 0x7fafad021b90>, 'team': <gensim.models.keyedvectors.Vocab object at 0x7fafad021590>, 'federated': <gensim.models.keyedvectors.Vocab object at 0x7fafad021850>, 'distribute': <gensim.models.keyedvectors.Vocab object at 0x7fafac5513d0>, 'decentralize': <gensim.models.keyedvectors.Vocab object at 0x7fafac551810>, 'privacy': <gensim.models.keyedvectors.Vocab object at 0x7fafac551850>, 'maintain': <gensim.models.keyedvectors.Vocab object at 0x7fafac551050>, 'centralized': <gensim.models.keyedvectors.Vocab object at 0x7fafac5512d0>, 'server': <gensim.models.keyedvectors.Vocab object at 0x7fafac551490>, 'device': <gensim.models.keyedvectors.Vocab object at 0x7fafac551610>, 'mobile': <gensim.models.keyedvectors.Vocab object at 0x7fafac5517d0>, 'phone': <gensim.models.keyedvectors.Vocab object at 0x7fafac551210>, 'google': <gensim.models.keyedvectors.Vocab object at 0x7fafac551950>, 'medium': <gensim.models.keyedvectors.Vocab object at 0x7fafac551a50>, 'netflix': <gensim.models.keyedvectors.Vocab object at 0x7fafac551bd0>, 'hold': <gensim.models.keyedvectors.Vocab object at 0x7fafac551c50>, 'prize': <gensim.models.keyedvectors.Vocab object at 0x7fafac551dd0>, 'competition': <gensim.models.keyedvectors.Vocab object at 0x7fafac551890>, 'joint': <gensim.models.keyedvectors.Vocab object at 0x7fafac551f50>, 'big': <gensim.models.keyedvectors.Vocab object at 0x7fafac551fd0>, 'win': <gensim.models.keyedvectors.Vocab object at 0x7fafac551f10>, 'million': <gensim.models.keyedvectors.Vocab object at 0x7fafac5499d0>, 'viewer': <gensim.models.keyedvectors.Vocab object at 0x7fafac549b90>, 'rating': <gensim.models.keyedvectors.Vocab object at 0x7fafac549250>, 'engine': <gensim.models.keyedvectors.Vocab object at 0x7fafac549450>, 'write': <gensim.models.keyedvectors.Vocab object at 0x7fafac549510>, 'firm': <gensim.models.keyedvectors.Vocab object at 0x7fafac549710>, 'co': <gensim.models.keyedvectors.Vocab object at 0x7fafac5497d0>, 'founder': <gensim.models.keyedvectors.Vocab object at 0x7fafac549910>, 'doctor': <gensim.models.keyedvectors.Vocab object at 0x7fafac549090>, 'job': <gensim.models.keyedvectors.Vocab object at 0x7fafac549ad0>, 'decade': <gensim.models.keyedvectors.Vocab object at 0x7fafac549a50>, 'diagnostic': <gensim.models.keyedvectors.Vocab object at 0x7fafac549b10>, 'art': <gensim.models.keyedvectors.Vocab object at 0x7fafac549e90>, 'painting': <gensim.models.keyedvectors.Vocab object at 0x7fafac549f10>, 'reveal': <gensim.models.keyedvectors.Vocab object at 0x7fafac549f50>, 'publish': <gensim.models.keyedvectors.Vocab object at 0x7fafac549d50>, 'technology': <gensim.models.keyedvectors.Vocab object at 0x7fafac546710>, 'aid': <gensim.models.keyedvectors.Vocab object at 0x7fafac546ed0>, 'covid': <gensim.models.keyedvectors.Vocab object at 0x7fafac546150>, 'recently': <gensim.models.keyedvectors.Vocab object at 0x7fafac546210>, 'behaviour': <gensim.models.keyedvectors.Vocab object at 0x7fafac546510>, 'expect': <gensim.models.keyedvectors.Vocab object at 0x7fafac546590>, 'reason': <gensim.models.keyedvectors.Vocab object at 0x7fafac546650>, 'numerous': <gensim.models.keyedvectors.Vocab object at 0x7fafac546350>, 'lack': <gensim.models.keyedvectors.Vocab object at 0x7fafac5467d0>, 'access': <gensim.models.keyedvectors.Vocab object at 0x7fafac5468d0>, 'choose': <gensim.models.keyedvectors.Vocab object at 0x7fafac546990>, 'wrong': <gensim.models.keyedvectors.Vocab object at 0x7fafac546a90>, 'people': <gensim.models.keyedvectors.Vocab object at 0x7fafac546790>, 'resource': <gensim.models.keyedvectors.Vocab object at 0x7fafac546bd0>, 'evaluation': <gensim.models.keyedvectors.Vocab object at 0x7fafac546b10>, 'problems': <gensim.models.keyedvectors.Vocab object at 0x7fafac546d90>, 'car': <gensim.models.keyedvectors.Vocab object at 0x7fafac546d10>, 'kill': <gensim.models.keyedvectors.Vocab object at 0x7fafac546f90>, 'healthcare': <gensim.models.keyedvectors.Vocab object at 0x7fafac54b050>, 'watson': <gensim.models.keyedvectors.Vocab object at 0x7fafac54b150>, 'year': <gensim.models.keyedvectors.Vocab object at 0x7fafac54b750>, 'billion': <gensim.models.keyedvectors.Vocab object at 0x7fafac54b850>, 'dollar': <gensim.models.keyedvectors.Vocab object at 0x7fafac54b8d0>, 'review': <gensim.models.keyedvectors.Vocab object at 0x7fafac54b950>, 'burden': <gensim.models.keyedvectors.Vocab object at 0x7fafac54bad0>, 'limit': <gensim.models.keyedvectors.Vocab object at 0x7fafac54bbd0>, 'necessary': <gensim.models.keyedvectors.Vocab object at 0x7fafac54b290>, 'sensitivity': <gensim.models.keyedvectors.Vocab object at 0x7fafac54bd50>, 'finding': <gensim.models.keyedvectors.Vocab object at 0x7fafac5472d0>, 'suffer': <gensim.models.keyedvectors.Vocab object at 0x7fafac547350>, 'specifically': <gensim.models.keyedvectors.Vocab object at 0x7fafac547210>, 'man': <gensim.models.keyedvectors.Vocab object at 0x7fafac547890>, 'pick': <gensim.models.keyedvectors.Vocab object at 0x7fafac547950>, 'unconscious': <gensim.models.keyedvectors.Vocab object at 0x7fafac547b10>, 'present': <gensim.models.keyedvectors.Vocab object at 0x7fafac5477d0>, 'biases': <gensim.models.keyedvectors.Vocab object at 0x7fafac547ed0>, 'criminal': <gensim.models.keyedvectors.Vocab object at 0x7fafac547e90>, 'risk': <gensim.models.keyedvectors.Vocab object at 0x7fafac556110>, 'resolve': <gensim.models.keyedvectors.Vocab object at 0x7fafac556150>, 'reportedly': <gensim.models.keyedvectors.Vocab object at 0x7fafac5563d0>, 'remove': <gensim.models.keyedvectors.Vocab object at 0x7fafac556550>, 'gorilla': <gensim.models.keyedvectors.Vocab object at 0x7fafac556610>, 'white': <gensim.models.keyedvectors.Vocab object at 0x7fafac556690>, 'systems': <gensim.models.keyedvectors.Vocab object at 0x7fafac556890>, 'twitter': <gensim.models.keyedvectors.Vocab object at 0x7fafac5562d0>, 'quickly': <gensim.models.keyedvectors.Vocab object at 0x7fafac556d10>, 'racist': <gensim.models.keyedvectors.Vocab object at 0x7fafac556c90>, 'fairness': <gensim.models.keyedvectors.Vocab object at 0x7fafac556d50>, 'increasingly': <gensim.models.keyedvectors.Vocab object at 0x7fafac556e90>, 'scientist': <gensim.models.keyedvectors.Vocab object at 0x7fafac556ed0>, 'fei': <gensim.models.keyedvectors.Vocab object at 0x7fafac556fd0>, '—': <gensim.models.keyedvectors.Vocab object at 0x7fafac556f50>, 'powerful': <gensim.models.keyedvectors.Vocab object at 0x7fafac563410>, 'begin': <gensim.models.keyedvectors.Vocab object at 0x7fafac563090>, 'understand': <gensim.models.keyedvectors.Vocab object at 0x7fafac563110>, 'profound': <gensim.models.keyedvectors.Vocab object at 0x7fafac563150>, 'responsibility': <gensim.models.keyedvectors.Vocab object at 0x7fafac563350>, 'explainable': <gensim.models.keyedvectors.Vocab object at 0x7fafac563390>, 'xai': <gensim.models.keyedvectors.Vocab object at 0x7fafac5631d0>, 'box': <gensim.models.keyedvectors.Vocab object at 0x7fafac5634d0>, 'designer': <gensim.models.keyedvectors.Vocab object at 0x7fafac563590>, 'arrive': <gensim.models.keyedvectors.Vocab object at 0x7fafac563490>, 'refine': <gensim.models.keyedvectors.Vocab object at 0x7fafac5636d0>, 'mental': <gensim.models.keyedvectors.Vocab object at 0x7fafac563690>, 'power': <gensim.models.keyedvectors.Vocab object at 0x7fafac563a90>, 'right': <gensim.models.keyedvectors.Vocab object at 0x7fafac563ad0>, 'explanation': <gensim.models.keyedvectors.Vocab object at 0x7fafac563b50>, 'bad': <gensim.models.keyedvectors.Vocab object at 0x7fafac563bd0>, 'accordance': <gensim.models.keyedvectors.Vocab object at 0x7fafac563850>, 'picture': <gensim.models.keyedvectors.Vocab object at 0x7fafac563c50>, 'brown': <gensim.models.keyedvectors.Vocab object at 0x7fafac563ed0>, 'conclude': <gensim.models.keyedvectors.Vocab object at 0x7fafac563f90>, 'unlike': <gensim.models.keyedvectors.Vocab object at 0x7fafac563d90>, 'primarily': <gensim.models.keyedvectors.Vocab object at 0x7fafac56ed50>, 'pixel': <gensim.models.keyedvectors.Vocab object at 0x7fafac56e0d0>, 'adversarial': <gensim.models.keyedvectors.Vocab object at 0x7fafac56e210>, 'vulnerability': <gensim.models.keyedvectors.Vocab object at 0x7fafac56e410>, 'nonlinear': <gensim.models.keyedvectors.Vocab object at 0x7fafac56e550>, 'manipulation': <gensim.models.keyedvectors.Vocab object at 0x7fafac56e750>, 'andor': <gensim.models.keyedvectors.Vocab object at 0x7fafac56e910>, 'demonstrate': <gensim.models.keyedvectors.Vocab object at 0x7fafac56ea90>, 'place': <gensim.models.keyedvectors.Vocab object at 0x7fafac56ebd0>, 'spam': <gensim.models.keyedvectors.Vocab object at 0x7fafac56ec50>, 'visible': <gensim.models.keyedvectors.Vocab object at 0x7fafac56e6d0>, 'party': <gensim.models.keyedvectors.Vocab object at 0x7fafac56ee50>, 'transparency': <gensim.models.keyedvectors.Vocab object at 0x7fafac55ec90>, 'holdout': <gensim.models.keyedvectors.Vocab object at 0x7fafac55e290>, 'cross': <gensim.models.keyedvectors.Vocab object at 0x7fafac55e590>, 'validation': <gensim.models.keyedvectors.Vocab object at 0x7fafac55e510>, 'respectively': <gensim.models.keyedvectors.Vocab object at 0x7fafac55e810>, 'assess': <gensim.models.keyedvectors.Vocab object at 0x7fafac55e950>, 'investigator': <gensim.models.keyedvectors.Vocab object at 0x7fafac55e990>, 'true': <gensim.models.keyedvectors.Vocab object at 0x7fafac55ead0>, 'rate': <gensim.models.keyedvectors.Vocab object at 0x7fafac55eb10>, 'similarly': <gensim.models.keyedvectors.Vocab object at 0x7fafac55e650>, 'false': <gensim.models.keyedvectors.Vocab object at 0x7fafac55edd0>, 'ratio': <gensim.models.keyedvectors.Vocab object at 0x7fafac55ee50>, 'numerator': <gensim.models.keyedvectors.Vocab object at 0x7fafac55ed90>, 'denominator': <gensim.models.keyedvectors.Vocab object at 0x7fafac557050>, 'total': <gensim.models.keyedvectors.Vocab object at 0x7fafac557110>, 'operating': <gensim.models.keyedvectors.Vocab object at 0x7fafac557cd0>, 'toc': <gensim.models.keyedvectors.Vocab object at 0x7fafac5570d0>, 'roc': <gensim.models.keyedvectors.Vocab object at 0x7fafac557350>, 'pose': <gensim.models.keyedvectors.Vocab object at 0x7fafac5574d0>, 'ethical': <gensim.models.keyedvectors.Vocab object at 0x7fafac5575d0>, 'exhibit': <gensim.models.keyedvectors.Vocab object at 0x7fafac557650>, 'commission': <gensim.models.keyedvectors.Vocab object at 0x7fafac557210>, 'st': <gensim.models.keyedvectors.Vocab object at 0x7fafac557ad0>, 'george': <gensim.models.keyedvectors.Vocab object at 0x7fafac557c10>, 'previous': <gensim.models.keyedvectors.Vocab object at 0x7fafac5577d0>, 'candidate': <gensim.models.keyedvectors.Vocab object at 0x7fafac557e10>, 'european': <gensim.models.keyedvectors.Vocab object at 0x7fafac557e90>, 'hiring': <gensim.models.keyedvectors.Vocab object at 0x7fafac557f10>, 'policy': <gensim.models.keyedvectors.Vocab object at 0x7fafac557d50>, 'applicant': <gensim.models.keyedvectors.Vocab object at 0x7fafad036ed0>, 'responsible': <gensim.models.keyedvectors.Vocab object at 0x7fafad0361d0>, 'critical': <gensim.models.keyedvectors.Vocab object at 0x7fafad036290>, 'heavily': <gensim.models.keyedvectors.Vocab object at 0x7fafad036510>, 'personal': <gensim.models.keyedvectors.Vocab object at 0x7fafad036890>, 'health': <gensim.models.keyedvectors.Vocab object at 0x7fafad036990>, 'care': <gensim.models.keyedvectors.Vocab object at 0x7fafad036c50>, 'professional': <gensim.models.keyedvectors.Vocab object at 0x7fafad036d10>, 'design': <gensim.models.keyedvectors.Vocab object at 0x7fafad036fd0>, 'public': <gensim.models.keyedvectors.Vocab object at 0x7fafad036050>, 'united': <gensim.models.keyedvectors.Vocab object at 0x7fafad036150>, 'states': <gensim.models.keyedvectors.Vocab object at 0x7fafad036490>, 'stand': <gensim.models.keyedvectors.Vocab object at 0x7fafad036590>, 'patient': <gensim.models.keyedvectors.Vocab object at 0x7fafad036e90>, 'diagnose': <gensim.models.keyedvectors.Vocab object at 0x7fafad036b50>, 'plan': <gensim.models.keyedvectors.Vocab object at 0x7fafad036a90>, 'path': <gensim.models.keyedvectors.Vocab object at 0x7fafac55de10>, 'advance': <gensim.models.keyedvectors.Vocab object at 0x7fafac55d1d0>, 'hardware': <gensim.models.keyedvectors.Vocab object at 0x7fafac55d2d0>, 'narrow': <gensim.models.keyedvectors.Vocab object at 0x7fafac55d250>, 'displace': <gensim.models.keyedvectors.Vocab object at 0x7fafac55d450>, 'commercial': <gensim.models.keyedvectors.Vocab object at 0x7fafac55d690>, 'cloud': <gensim.models.keyedvectors.Vocab object at 0x7fafac55d310>, 'openai': <gensim.models.keyedvectors.Vocab object at 0x7fafac55d7d0>, 'project': <gensim.models.keyedvectors.Vocab object at 0x7fafac55d9d0>, 'physical': <gensim.models.keyedvectors.Vocab object at 0x7fafac55da10>, 'neuromorphic': <gensim.models.keyedvectors.Vocab object at 0x7fafac55db50>, 'electrically': <gensim.models.keyedvectors.Vocab object at 0x7fafac55d750>, 'adjustable': <gensim.models.keyedvectors.Vocab object at 0x7fafac55dcd0>, 'material': <gensim.models.keyedvectors.Vocab object at 0x7fafac55de90>, 'emulate': <gensim.models.keyedvectors.Vocab object at 0x7fafac545210>, 'synapse': <gensim.models.keyedvectors.Vocab object at 0x7fafac545050>, 'oppose': <gensim.models.keyedvectors.Vocab object at 0x7fafac545410>, 'embed': <gensim.models.keyedvectors.Vocab object at 0x7fafac545690>, 'sub': <gensim.models.keyedvectors.Vocab object at 0x7fafac545810>, 'run': <gensim.models.keyedvectors.Vocab object at 0x7fafac545910>, 'transfer': <gensim.models.keyedvectors.Vocab object at 0x7fafac545250>, 'intellectual': <gensim.models.keyedvectors.Vocab object at 0x7fafac545ad0>, 'approximate': <gensim.models.keyedvectors.Vocab object at 0x7fafac545c50>, 'perceive': <gensim.models.keyedvectors.Vocab object at 0x7fafac545fd0>, 'synthesize': <gensim.models.keyedvectors.Vocab object at 0x7fafac545c90>, 'display': <gensim.models.keyedvectors.Vocab object at 0x7fafac542090>, 'as': <gensim.models.keyedvectors.Vocab object at 0x7fafac542050>, 'development': <gensim.models.keyedvectors.Vocab object at 0x7fafac542290>, 'normally': <gensim.models.keyedvectors.Vocab object at 0x7fafac542390>, 'perception': <gensim.models.keyedvectors.Vocab object at 0x7fafac542250>, 'important': <gensim.models.keyedvectors.Vocab object at 0x7fafac542650>, 'procedural': <gensim.models.keyedvectors.Vocab object at 0x7fafac5427d0>, 'skill': <gensim.models.keyedvectors.Vocab object at 0x7fafac5425d0>, 'mind': <gensim.models.keyedvectors.Vocab object at 0x7fafac542890>, 'solving': <gensim.models.keyedvectors.Vocab object at 0x7fafac542950>, 'reject': <gensim.models.keyedvectors.Vocab object at 0x7fafac542c10>, 'act': <gensim.models.keyedvectors.Vocab object at 0x7fafac542e10>, 'youtube': <gensim.models.keyedvectors.Vocab object at 0x7fafac542e50>, 'amazon': <gensim.models.keyedvectors.Vocab object at 0x7fafac5521d0>, 'siri': <gensim.models.keyedvectors.Vocab object at 0x7fafac552110>, 'alexa': <gensim.models.keyedvectors.Vocab object at 0x7fafac552090>, 'compete': <gensim.models.keyedvectors.Vocab object at 0x7fafac552310>, 'chess': <gensim.models.keyedvectors.Vocab object at 0x7fafac552390>, 'phenomenon': <gensim.models.keyedvectors.Vocab object at 0x7fafac552550>, 'effect': <gensim.models.keyedvectors.Vocab object at 0x7fafac5525d0>, 'thing': <gensim.models.keyedvectors.Vocab object at 0x7fafac552250>, 'found': <gensim.models.keyedvectors.Vocab object at 0x7fafac552790>, 'wave': <gensim.models.keyedvectors.Vocab object at 0x7fafac552810>, 'funding': <gensim.models.keyedvectors.Vocab object at 0x7fafac5526d0>, 'winter': <gensim.models.keyedvectors.Vocab object at 0x7fafac552ad0>, 'simulate': <gensim.models.keyedvectors.Vocab object at 0x7fafac552b90>, 'imitate': <gensim.models.keyedvectors.Vocab object at 0x7fafac552bd0>, 'century': <gensim.models.keyedvectors.Vocab object at 0x7fafac552c90>, 'highly': <gensim.models.keyedvectors.Vocab object at 0x7fafac552d50>, 'industry': <gensim.models.keyedvectors.Vocab object at 0x7fafac552ed0>, 'center': <gensim.models.keyedvectors.Vocab object at 0x7fafac552a10>, 'planning': <gensim.models.keyedvectors.Vocab object at 0x7fafac5751d0>, 'adapt': <gensim.models.keyedvectors.Vocab object at 0x7fafac575290>, 'economic': <gensim.models.keyedvectors.Vocab object at 0x7fafac5754d0>, 'philosophy': <gensim.models.keyedvectors.Vocab object at 0x7fafac575550>, 'precisely': <gensim.models.keyedvectors.Vocab object at 0x7fafac575110>, 'argument': <gensim.models.keyedvectors.Vocab object at 0x7fafac575810>, 'explore': <gensim.models.keyedvectors.Vocab object at 0x7fafac5758d0>, 'fiction': <gensim.models.keyedvectors.Vocab object at 0x7fafac5759d0>, 'antiquity': <gensim.models.keyedvectors.Vocab object at 0x7fafac575c50>, 'philosopher': <gensim.models.keyedvectors.Vocab object at 0x7fafac575dd0>, 'existential': <gensim.models.keyedvectors.Vocab object at 0x7fafac575790>, 'humanity': <gensim.models.keyedvectors.Vocab object at 0x7fafac57a4d0>, 'rational': <gensim.models.keyedvectors.Vocab object at 0x7fafac57a090>, 'beneficial': <gensim.models.keyedvectors.Vocab object at 0x7fafac57a250>, 'appear': <gensim.models.keyedvectors.Vocab object at 0x7fafac57a350>, 'storytelle': <gensim.models.keyedvectors.Vocab object at 0x7fafac57a050>, 'mary': <gensim.models.keyedvectors.Vocab object at 0x7fafac57a9d0>, 'shelley': <gensim.models.keyedvectors.Vocab object at 0x7fafac57ab10>, 'frankenstein': <gensim.models.keyedvectors.Vocab object at 0x7fafac57a550>, 'karel': <gensim.models.keyedvectors.Vocab object at 0x7fafac57aed0>, 'čapek': <gensim.models.keyedvectors.Vocab object at 0x7fafac57af50>, 'rur': <gensim.models.keyedvectors.Vocab object at 0x7fafac57ad50>, 'discuss': <gensim.models.keyedvectors.Vocab object at 0x7fafac067610>, 'deduction': <gensim.models.keyedvectors.Vocab object at 0x7fafac067c90>, 'cybernetic': <gensim.models.keyedvectors.Vocab object at 0x7fafac067f10>, 'possibility': <gensim.models.keyedvectors.Vocab object at 0x7fafac067190>, 'complete': <gensim.models.keyedvectors.Vocab object at 0x7fafac067410>, 'neurons': <gensim.models.keyedvectors.Vocab object at 0x7fafac067550>, 'emerge': <gensim.models.keyedvectors.Vocab object at 0x7fafac0672d0>, 'gofai': <gensim.models.keyedvectors.Vocab object at 0x7fafac0676d0>, 'proponent': <gensim.models.keyedvectors.Vocab object at 0x7fafac067890>, 'newell': <gensim.models.keyedvectors.Vocab object at 0x7fafac067c50>, 'herbert': <gensim.models.keyedvectors.Vocab object at 0x7fafac067a50>, 'simon': <gensim.models.keyedvectors.Vocab object at 0x7fafac067ed0>, 'marvin': <gensim.models.keyedvectors.Vocab object at 0x7fafac067d10>, 'minsky': <gensim.models.keyedvectors.Vocab object at 0x7fafac067f90>, 'second': <gensim.models.keyedvectors.Vocab object at 0x7fafac06d790>, 'james': <gensim.models.keyedvectors.Vocab object at 0x7fafac06d0d0>, 'manyika': <gensim.models.keyedvectors.Vocab object at 0x7fafac06d250>, 'compare': <gensim.models.keyedvectors.Vocab object at 0x7fafac06d290>, 'push': <gensim.models.keyedvectors.Vocab object at 0x7fafac06d350>, 'russell': <gensim.models.keyedvectors.Vocab object at 0x7fafac06d410>, 'gain': <gensim.models.keyedvectors.Vocab object at 0x7fafac06d650>, 'prominence': <gensim.models.keyedvectors.Vocab object at 0x7fafac06d190>, 'recent': <gensim.models.keyedvectors.Vocab object at 0x7fafac06d810>, 'leader': <gensim.models.keyedvectors.Vocab object at 0x7fafac06db50>, 'student': <gensim.models.keyedvectors.Vocab object at 0x7fafac06dc50>, 'press': <gensim.models.keyedvectors.Vocab object at 0x7fafac06dd50>, 'algebra': <gensim.models.keyedvectors.Vocab object at 0x7fafac06dd90>, 'theorem': <gensim.models.keyedvectors.Vocab object at 0x7fafac06de10>, 'speak': <gensim.models.keyedvectors.Vocab object at 0x7fafac06df90>, 'middle': <gensim.models.keyedvectors.Vocab object at 0x7fafac06d9d0>, 'us': <gensim.models.keyedvectors.Vocab object at 0x7fafac065b10>, 'fund': <gensim.models.keyedvectors.Vocab object at 0x7fafac065110>, 'department': <gensim.models.keyedvectors.Vocab object at 0x7fafac0653d0>, 'defense': <gensim.models.keyedvectors.Vocab object at 0x7fafac065510>, 'establish': <gensim.models.keyedvectors.Vocab object at 0x7fafac0655d0>, 'eventually': <gensim.models.keyedvectors.Vocab object at 0x7fafac065790>, 'agree': <gensim.models.keyedvectors.Vocab object at 0x7fafac065850>, 'generation': <gensim.models.keyedvectors.Vocab object at 0x7fafac0658d0>, 'substantially': <gensim.models.keyedvectors.Vocab object at 0x7fafac065910>, 'difficulty': <gensim.models.keyedvectors.Vocab object at 0x7fafac065bd0>, 'progress': <gensim.models.keyedvectors.Vocab object at 0x7fafac065c10>, 'slow': <gensim.models.keyedvectors.Vocab object at 0x7fafac065d10>, 'british': <gensim.models.keyedvectors.Vocab object at 0x7fafac065e10>, 'government': <gensim.models.keyedvectors.Vocab object at 0x7fafac065b50>, 'revive': <gensim.models.keyedvectors.Vocab object at 0x7fafac065f90>, 'reach': <gensim.models.keyedvectors.Vocab object at 0x7fafac065ed0>, 'japan': <gensim.models.keyedvectors.Vocab object at 0x7fafac058cd0>, 'fifth': <gensim.models.keyedvectors.Vocab object at 0x7fafac058050>, 'restore': <gensim.models.keyedvectors.Vocab object at 0x7fafac058090>, 'lisp': <gensim.models.keyedvectors.Vocab object at 0x7fafac0581d0>, 'robotic': <gensim.models.keyedvectors.Vocab object at 0x7fafac058310>, 'rodney': <gensim.models.keyedvectors.Vocab object at 0x7fafac0583d0>, 'brooks': <gensim.models.keyedvectors.Vocab object at 0x7fafac0584d0>, 'survive': <gensim.models.keyedvectors.Vocab object at 0x7fafac058390>, 'david': <gensim.models.keyedvectors.Vocab object at 0x7fafac058690>, 'soft': <gensim.models.keyedvectors.Vocab object at 0x7fafac058810>, 'late': <gensim.models.keyedvectors.Vocab object at 0x7fafac0588d0>, 'verifiable': <gensim.models.keyedvectors.Vocab object at 0x7fafac058910>, 'rarely': <gensim.models.keyedvectors.Vocab object at 0x7fafac058c10>, 'fast': <gensim.models.keyedvectors.Vocab object at 0x7fafac058750>, 'hungry': <gensim.models.keyedvectors.Vocab object at 0x7fafac058e10>, 'benchmark': <gensim.models.keyedvectors.Vocab object at 0x7fafac058fd0>, 'attribute': <gensim.models.keyedvectors.Vocab object at 0x7fafac058dd0>, 'infrastructure': <gensim.models.keyedvectors.Vocab object at 0x7fafac071310>, 'survey': <gensim.models.keyedvectors.Vocab object at 0x7fafac071390>, 'incorporate': <gensim.models.keyedvectors.Vocab object at 0x7fafac0710d0>, 'processes': <gensim.models.keyedvectors.Vocab object at 0x7fafac071610>, 'concerned': <gensim.models.keyedvectors.Vocab object at 0x7fafac071790>, 'pursue': <gensim.models.keyedvectors.Vocab object at 0x7fafac071850>, 'agi': <gensim.models.keyedvectors.Vocab object at 0x7fafac071c10>, 'institution': <gensim.models.keyedvectors.Vocab object at 0x7fafac071c90>, 'break': <gensim.models.keyedvectors.Vocab object at 0x7fafac071d50>, 'trait': <gensim.models.keyedvectors.Vocab object at 0x7fafac071590>, 'capability': <gensim.models.keyedvectors.Vocab object at 0x7fafac071d90>, 'puzzle': <gensim.models.keyedvectors.Vocab object at 0x7fafac071ed0>, 'incomplete': <gensim.models.keyedvectors.Vocab object at 0x7fafac071e50>, 'economics': <gensim.models.keyedvectors.Vocab object at 0x7fafac071f50>, 'explosion': <gensim.models.keyedvectors.Vocab object at 0x7fafac078510>, 'exponentially': <gensim.models.keyedvectors.Vocab object at 0x7fafac078c90>, 'intelligently': <gensim.models.keyedvectors.Vocab object at 0x7fafac078f90>, 'ontology': <gensim.models.keyedvectors.Vocab object at 0x7fafac078290>, 'relation': <gensim.models.keyedvectors.Vocab object at 0x7fafac078390>, 'interpret': <gensim.models.keyedvectors.Vocab object at 0x7fafac078450>, 'commonsense': <gensim.models.keyedvectors.Vocab object at 0x7fafac078150>, 'average': <gensim.models.keyedvectors.Vocab object at 0x7fafac078750>, 'person': <gensim.models.keyedvectors.Vocab object at 0x7fafac078810>, 'description': <gensim.models.keyedvectors.Vocab object at 0x7fafac078550>, 'state': <gensim.models.keyedvectors.Vocab object at 0x7fafac078c50>, 'default': <gensim.models.keyedvectors.Vocab object at 0x7fafac0789d0>, 'breadth': <gensim.models.keyedvectors.Vocab object at 0x7fafac078d50>, 'enormous': <gensim.models.keyedvectors.Vocab object at 0x7fafac078e90>, 'statement': <gensim.models.keyedvectors.Vocab object at 0x7fafac076650>, 'content': <gensim.models.keyedvectors.Vocab object at 0x7fafac076a10>, 'choice': <gensim.models.keyedvectors.Vocab object at 0x7fafac076050>, 'utility': <gensim.models.keyedvectors.Vocab object at 0x7fafac076190>, 'actor': <gensim.models.keyedvectors.Vocab object at 0x7fafac076150>, 'cooperation': <gensim.models.keyedvectors.Vocab object at 0x7fafac076250>, 'fundamental': <gensim.models.keyedvectors.Vocab object at 0x7fafac076450>, 'stream': <gensim.models.keyedvectors.Vocab object at 0x7fafac076550>, 'operate': <gensim.models.keyedvectors.Vocab object at 0x7fafac0763d0>, 'nlp': <gensim.models.keyedvectors.Vocab object at 0x7fafac076850>, 'straightforward': <gensim.models.keyedvectors.Vocab object at 0x7fafac0768d0>, 'answering': <gensim.models.keyedvectors.Vocab object at 0x7fafac076710>, 'translate': <gensim.models.keyedvectors.Vocab object at 0x7fafac076b10>, 'near': <gensim.models.keyedvectors.Vocab object at 0x7fafac076bd0>, 'facial': <gensim.models.keyedvectors.Vocab object at 0x7fafac076c10>, 'robotics': <gensim.models.keyedvectors.Vocab object at 0x7fafac076d10>, 'easy': <gensim.models.keyedvectors.Vocab object at 0x7fafac076b90>, 'interior': <gensim.models.keyedvectors.Vocab object at 0x7fafac076f50>, 'body': <gensim.models.keyedvectors.Vocab object at 0x7fafac076fd0>, 'great': <gensim.models.keyedvectors.Vocab object at 0x7fafac076d90>, 'motion': <gensim.models.keyedvectors.Vocab object at 0x7fafac0770d0>, 'movement': <gensim.models.keyedvectors.Vocab object at 0x7fafac077150>, 'despite': <gensim.models.keyedvectors.Vocab object at 0x7fafac0772d0>, 'virtual': <gensim.models.keyedvectors.Vocab object at 0x7fafac0773d0>, 'assistant': <gensim.models.keyedvectors.Vocab object at 0x7fafac077450>, 'tend': <gensim.models.keyedvectors.Vocab object at 0x7fafac077510>, 'sentiment': <gensim.models.keyedvectors.Vocab object at 0x7fafac0775d0>, 'affect': <gensim.models.keyedvectors.Vocab object at 0x7fafac077810>, 'hans': <gensim.models.keyedvectors.Vocab object at 0x7fafac0778d0>, 'moravec': <gensim.models.keyedvectors.Vocab object at 0x7fafac077990>, 'architecture': <gensim.models.keyedvectors.Vocab object at 0x7fafac077b90>, 'master': <gensim.models.keyedvectors.Vocab object at 0x7fafac077c10>, 'believe': <gensim.models.keyedvectors.Vocab object at 0x7fafac077290>, 'proof': <gensim.models.keyedvectors.Vocab object at 0x7fafac077d90>, 'means': <gensim.models.keyedvectors.Vocab object at 0x7fafac077d50>, 'end': <gensim.models.keyedvectors.Vocab object at 0x7fafac077f10>, 'local': <gensim.models.keyedvectors.Vocab object at 0x7fafac070290>, 'sufficient': <gensim.models.keyedvectors.Vocab object at 0x7fafac070050>, 'short': <gensim.models.keyedvectors.Vocab object at 0x7fafac0701d0>, 'serve': <gensim.models.keyedvectors.Vocab object at 0x7fafac070210>, 'eliminate': <gensim.models.keyedvectors.Vocab object at 0x7fafac0700d0>, 'supply': <gensim.models.keyedvectors.Vocab object at 0x7fafac070410>, 'guess': <gensim.models.keyedvectors.Vocab object at 0x7fafac0703d0>, 'size': <gensim.models.keyedvectors.Vocab object at 0x7fafac070650>, 'blind': <gensim.models.keyedvectors.Vocab object at 0x7fafac0706d0>, 'landscape': <gensim.models.keyedvectors.Vocab object at 0x7fafac070790>, 'ant': <gensim.models.keyedvectors.Vocab object at 0x7fafac0707d0>, 'truth': <gensim.models.keyedvectors.Vocab object at 0x7fafac0708d0>, 'add': <gensim.models.keyedvectors.Vocab object at 0x7fafac070950>, 'degree': <gensim.models.keyedvectors.Vocab object at 0x7fafac0709d0>, 'handle': <gensim.models.keyedvectors.Vocab object at 0x7fafac070ad0>, 'logics': <gensim.models.keyedvectors.Vocab object at 0x7fafac070b10>, 'calculus': <gensim.models.keyedvectors.Vocab object at 0x7fafac070690>, 'devise': <gensim.models.keyedvectors.Vocab object at 0x7fafac070cd0>, 'networks': <gensim.models.keyedvectors.Vocab object at 0x7fafac070dd0>, 'valuable': <gensim.models.keyedvectors.Vocab object at 0x7fafac070e90>, 'diamond': <gensim.models.keyedvectors.Vocab object at 0x7fafac070f90>, 'controller': <gensim.models.keyedvectors.Vocab object at 0x7fafac070d50>, 'neighbor': <gensim.models.keyedvectors.Vocab object at 0x7fafac0722d0>, 'naive': <gensim.models.keyedvectors.Vocab object at 0x7fafac072050>, 'bayes': <gensim.models.keyedvectors.Vocab object at 0x7fafac0720d0>, 'scalability': <gensim.models.keyedvectors.Vocab object at 0x7fafac072210>, 'extremely': <gensim.models.keyedvectors.Vocab object at 0x7fafac0723d0>, 'accept': <gensim.models.keyedvectors.Vocab object at 0x7fafac072350>, 'activate': <gensim.models.keyedvectors.Vocab object at 0x7fafac072450>, 'fire': <gensim.models.keyedvectors.Vocab object at 0x7fafac072490>, 'vote': <gensim.models.keyedvectors.Vocab object at 0x7fafac072590>, 'wire': <gensim.models.keyedvectors.Vocab object at 0x7fafac072650>, 'activation': <gensim.models.keyedvectors.Vocab object at 0x7fafac072690>, 'spectrum': <gensim.models.keyedvectors.Vocab object at 0x7fafac0726d0>, 'gradient': <gensim.models.keyedvectors.Vocab object at 0x7fafac0724d0>, 'descent': <gensim.models.keyedvectors.Vocab object at 0x7fafac072910>, 'competitive': <gensim.models.keyedvectors.Vocab object at 0x7fafac072a50>, 'feedforward': <gensim.models.keyedvectors.Vocab object at 0x7fafac072ad0>, 'recurrent': <gensim.models.keyedvectors.Vocab object at 0x7fafac072b50>, 'relevant': <gensim.models.keyedvectors.Vocab object at 0x7fafac072c50>, 'convolutional': <gensim.models.keyedvectors.Vocab object at 0x7fafac072b90>, 'organization': <gensim.models.keyedvectors.Vocab object at 0x7fafac072f10>, 'rnn': <gensim.models.keyedvectors.Vocab object at 0x7fafac072ed0>, 'propagate': <gensim.models.keyedvectors.Vocab object at 0x7fafac056410>, 'vanish': <gensim.models.keyedvectors.Vocab object at 0x7fafac056090>, 'prevent': <gensim.models.keyedvectors.Vocab object at 0x7fafac056250>, 'specialized': <gensim.models.keyedvectors.Vocab object at 0x7fafac056390>, 'list': <gensim.models.keyedvectors.Vocab object at 0x7fafac056110>, 'mainstream': <gensim.models.keyedvectors.Vocab object at 0x7fafac056450>, 'heart': <gensim.models.keyedvectors.Vocab object at 0x7fafac056690>, 'daily': <gensim.models.keyedvectors.Vocab object at 0x7fafac056810>, 'life': <gensim.models.keyedvectors.Vocab object at 0x7fafac056910>, 'internet': <gensim.models.keyedvectors.Vocab object at 0x7fafac056990>, 'facebook': <gensim.models.keyedvectors.Vocab object at 0x7fafac056ad0>, 'drone': <gensim.models.keyedvectors.Vocab object at 0x7fafac056a10>, 'apple': <gensim.models.keyedvectors.Vocab object at 0x7fafac056c50>, 'thousand': <gensim.models.keyedvectors.Vocab object at 0x7fafac056b90>, 'military': <gensim.models.keyedvectors.Vocab object at 0x7fafac056f10>, 'blue': <gensim.models.keyedvectors.Vocab object at 0x7fafac056fd0>, 'beat': <gensim.models.keyedvectors.Vocab object at 0x7fafac056d10>, 'champion': <gensim.models.keyedvectors.Vocab object at 0x7fafac0660d0>, 'jeopardy': <gensim.models.keyedvectors.Vocab object at 0x7fafac066150>, 'superhuman': <gensim.models.keyedvectors.Vocab object at 0x7fafac066250>, 'deepmind': <gensim.models.keyedvectors.Vocab object at 0x7fafac0664d0>, 'generalized': <gensim.models.keyedvectors.Vocab object at 0x7fafac066650>, 'diverse': <gensim.models.keyedvectors.Vocab object at 0x7fafac066850>, 'far': <gensim.models.keyedvectors.Vocab object at 0x7fafac066a50>, 'attain': <gensim.models.keyedvectors.Vocab object at 0x7fafac066ad0>, 'patent': <gensim.models.keyedvectors.Vocab object at 0x7fafac066d10>, 'university': <gensim.models.keyedvectors.Vocab object at 0x7fafac066e50>, 'invention': <gensim.models.keyedvectors.Vocab object at 0x7fafac066e90>, 'disclose': <gensim.models.keyedvectors.Vocab object at 0x7fafac066b50>, 'percent': <gensim.models.keyedvectors.Vocab object at 0x7fafac06e090>, 'sector': <gensim.models.keyedvectors.Vocab object at 0x7fafac06e610>, 'entertainment': <gensim.models.keyedvectors.Vocab object at 0x7fafac06e050>, 'security': <gensim.models.keyedvectors.Vocab object at 0x7fafac06e210>, 'smart': <gensim.models.keyedvectors.Vocab object at 0x7fafac06e290>, 'oxford': <gensim.models.keyedvectors.Vocab object at 0x7fafac06e310>, 'english': <gensim.models.keyedvectors.Vocab object at 0x7fafac06e410>, 'law': <gensim.models.keyedvectors.Vocab object at 0x7fafac06e590>, 'political': <gensim.models.keyedvectors.Vocab object at 0x7fafac06e150>, 'rigid': <gensim.models.keyedvectors.Vocab object at 0x7fafac06eb50>, 'matter': <gensim.models.keyedvectors.Vocab object at 0x7fafac06e690>, 'conscious': <gensim.models.keyedvectors.Vocab object at 0x7fafac06ec90>, 'norvig': <gensim.models.keyedvectors.Vocab object at 0x7fafac06eb90>, 'exactly': <gensim.models.keyedvectors.Vocab object at 0x7fafac06ed50>, 'pigeon': <gensim.models.keyedvectors.Vocab object at 0x7fafac06efd0>, 'john': <gensim.models.keyedvectors.Vocab object at 0x7fafac060190>, 'nation': <gensim.models.keyedvectors.Vocab object at 0x7fafac060290>, 'guide': <gensim.models.keyedvectors.Vocab object at 0x7fafac0603d0>, 'critic': <gensim.models.keyedvectors.Vocab object at 0x7fafac060610>, 'legal': <gensim.models.keyedvectors.Vocab object at 0x7fafac060790>, 'feel': <gensim.models.keyedvectors.Vocab object at 0x7fafac060850>, 'mistake': <gensim.models.keyedvectors.Vocab object at 0x7fafac0605d0>, 'impossible': <gensim.models.keyedvectors.Vocab object at 0x7fafac060b10>, 'neats': <gensim.models.keyedvectors.Vocab object at 0x7fafac060a50>, 'sense': <gensim.models.keyedvectors.Vocab object at 0x7fafac060f90>, 'provably': <gensim.models.keyedvectors.Vocab object at 0x7fafac060e90>, 'superintelligence': <gensim.models.keyedvectors.Vocab object at 0x7fafac069110>, 'consciousness': <gensim.models.keyedvectors.Vocab object at 0x7fafac069390>, 'stuart': <gensim.models.keyedvectors.Vocab object at 0x7fafac069510>, 'peter': <gensim.models.keyedvectors.Vocab object at 0x7fafac0695d0>, 'subjective': <gensim.models.keyedvectors.Vocab object at 0x7fafac0696d0>, 'red': <gensim.models.keyedvectors.Vocab object at 0x7fafac069790>, 'clear': <gensim.models.keyedvectors.Vocab object at 0x7fafac0698d0>, 'computationalism': <gensim.models.keyedvectors.Vocab object at 0x7fafac069a10>, 'position': <gensim.models.keyedvectors.Vocab object at 0x7fafac069b10>, 'searle': <gensim.models.keyedvectors.Vocab object at 0x7fafac069bd0>, 'chinese': <gensim.models.keyedvectors.Vocab object at 0x7fafac069d10>, 'rights': <gensim.models.keyedvectors.Vocab object at 0x7fafac069d50>, 'institute': <gensim.models.keyedvectors.Vocab object at 0x7fafac069e10>, 'discussion': <gensim.models.keyedvectors.Vocab object at 0x7fafac069850>, 'possess': <gensim.models.keyedvectors.Vocab object at 0x7fafac04c210>, 'surpass': <gensim.models.keyedvectors.Vocab object at 0x7fafac04c2d0>, 'singularity': <gensim.models.keyedvectors.Vocab object at 0x7fafac04c3d0>, 'superintelligent': <gensim.models.keyedvectors.Vocab object at 0x7fafac04c110>, 'technological': <gensim.models.keyedvectors.Vocab object at 0x7fafac04c5d0>, 'transhumanism': <gensim.models.keyedvectors.Vocab object at 0x7fafac04c890>, 'expand': <gensim.models.keyedvectors.Vocab object at 0x7fafac04ca10>, 'economist': <gensim.models.keyedvectors.Vocab object at 0x7fafac04cad0>, 'benefit': <gensim.models.keyedvectors.Vocab object at 0x7fafac04cbd0>, 'automation': <gensim.models.keyedvectors.Vocab object at 0x7fafac04ccd0>, 'collar': <gensim.models.keyedvectors.Vocab object at 0x7fafac04cd10>, 'revolution': <gensim.models.keyedvectors.Vocab object at 0x7fafac04ce10>, 'worth': <gensim.models.keyedvectors.Vocab object at 0x7fafac04cf90>, 'surveillance': <gensim.models.keyedvectors.Vocab object at 0x7fafac04c490>, 'misinformation': <gensim.models.keyedvectors.Vocab object at 0x7fafac05d050>, 'deepfake': <gensim.models.keyedvectors.Vocab object at 0x7fafac05d310>, 'warfare': <gensim.models.keyedvectors.Vocab object at 0x7fafac05d410>, 'lethal': <gensim.models.keyedvectors.Vocab object at 0x7fafac05d610>, 'weapon': <gensim.models.keyedvectors.Vocab object at 0x7fafac05d6d0>, 'country': <gensim.models.keyedvectors.Vocab object at 0x7fafac05d850>, 'battlefield': <gensim.models.keyedvectors.Vocab object at 0x7fafac05d290>, 'robots': <gensim.models.keyedvectors.Vocab object at 0x7fafac05d910>, 'unfair': <gensim.models.keyedvectors.Vocab object at 0x7fafac05dbd0>, 'compas': <gensim.models.keyedvectors.Vocab object at 0x7fafac05dd10>, 'defendant': <gensim.models.keyedvectors.Vocab object at 0x7fafac05da90>, 'claim': <gensim.models.keyedvectors.Vocab object at 0x7fafac05de50>, 'race': <gensim.models.keyedvectors.Vocab object at 0x7fafac05a0d0>, 'accountability': <gensim.models.keyedvectors.Vocab object at 0x7fafac05a210>, 'south': <gensim.models.keyedvectors.Vocab object at 0x7fafac05a1d0>, 'korea': <gensim.models.keyedvectors.Vocab object at 0x7fafac05a310>, 'recommend': <gensim.models.keyedvectors.Vocab object at 0x7fafac05a410>, 'stephen': <gensim.models.keyedvectors.Vocab object at 0x7fafac05a510>, 'hawking': <gensim.models.keyedvectors.Vocab object at 0x7fafac05a5d0>, 'acquire': <gensim.models.keyedvectors.Vocab object at 0x7fafac05a350>, 'protect': <gensim.models.keyedvectors.Vocab object at 0x7fafac05a890>, 'shut': <gensim.models.keyedvectors.Vocab object at 0x7fafac05a9d0>, 'reflect': <gensim.models.keyedvectors.Vocab object at 0x7fafac05aa10>, 'harm': <gensim.models.keyedvectors.Vocab object at 0x7fafac05abd0>, 'mankind': <gensim.models.keyedvectors.Vocab object at 0x7fafac05ac50>, 'friendly': <gensim.models.keyedvectors.Vocab object at 0x7fafac05acd0>, 'share': <gensim.models.keyedvectors.Vocab object at 0x7fafac05ae10>, 'morality': <gensim.models.keyedvectors.Vocab object at 0x7fafac05ae50>, 'opinion': <gensim.models.keyedvectors.Vocab object at 0x7fafac05aed0>, 'bill': <gensim.models.keyedvectors.Vocab object at 0x7fafac05a7d0>, 'musk': <gensim.models.keyedvectors.Vocab object at 0x7fafac05af90>, 'prominent': <gensim.models.keyedvectors.Vocab object at 0x7fafac05f410>, 'tech': <gensim.models.keyedvectors.Vocab object at 0x7fafac05f090>, 'assist': <gensim.models.keyedvectors.Vocab object at 0x7fafac05f250>, 'investment': <gensim.models.keyedvectors.Vocab object at 0x7fafac05f190>, 'regulation': <gensim.models.keyedvectors.Vocab object at 0x7fafac05f390>, 'promote': <gensim.models.keyedvectors.Vocab object at 0x7fafac05f290>, 'regulate': <gensim.models.keyedvectors.Vocab object at 0x7fafac05f5d0>, 'eu': <gensim.models.keyedvectors.Vocab object at 0x7fafac05f710>, 'release': <gensim.models.keyedvectors.Vocab object at 0x7fafac05f790>, 'national': <gensim.models.keyedvectors.Vocab object at 0x7fafac05f850>, 'canada': <gensim.models.keyedvectors.Vocab object at 0x7fafac05f990>, 'china': <gensim.models.keyedvectors.Vocab object at 0x7fafac05fb10>, 'russian': <gensim.models.keyedvectors.Vocab object at 0x7fafac05fbd0>, 'global': <gensim.models.keyedvectors.Vocab object at 0x7fafac05f750>, 'trust': <gensim.models.keyedvectors.Vocab object at 0x7fafac05fd10>, 'creation': <gensim.models.keyedvectors.Vocab object at 0x7fafac05fe50>, 'threat': <gensim.models.keyedvectors.Vocab object at 0x7fafac05ff10>, 'culture': <gensim.models.keyedvectors.Vocab object at 0x7fafac05fd90>, 'asimov': <gensim.models.keyedvectors.Vocab object at 0x7fafac059410>, 'series': <gensim.models.keyedvectors.Vocab object at 0x7fafac059e50>, 'bring': <gensim.models.keyedvectors.Vocab object at 0x7fafac059190>, 'novel': <gensim.models.keyedvectors.Vocab object at 0x7fafac059250>, 'dick': <gensim.models.keyedvectors.Vocab object at 0x7fafac059290>, 'nuclear': <gensim.models.keyedvectors.Vocab object at 0x7fafac059090>, 'russia': <gensim.models.keyedvectors.Vocab object at 0x7fafac0596d0>, 'intention': <gensim.models.keyedvectors.Vocab object at 0x7fafac0597d0>, 'president': <gensim.models.keyedvectors.Vocab object at 0x7fafac0598d0>, 'putin': <gensim.models.keyedvectors.Vocab object at 0x7fafac059b10>, 'diplomacy': <gensim.models.keyedvectors.Vocab object at 0x7fafac059b50>, 'stance': <gensim.models.keyedvectors.Vocab object at 0x7fafac059c10>, 'cyber': <gensim.models.keyedvectors.Vocab object at 0x7fafac059cd0>, 'opportunity': <gensim.models.keyedvectors.Vocab object at 0x7fafac0594d0>, 'war': <gensim.models.keyedvectors.Vocab object at 0x7fafac059d50>, 'ukraine': <gensim.models.keyedvectors.Vocab object at 0x7fafac059f50>, 'ukrainian': <gensim.models.keyedvectors.Vocab object at 0x7fafac053210>, 'deploy': <gensim.models.keyedvectors.Vocab object at 0x7fafac0533d0>, 'campaign': <gensim.models.keyedvectors.Vocab object at 0x7fafac053590>, 'nations': <gensim.models.keyedvectors.Vocab object at 0x7fafac0534d0>, 'cyberspace': <gensim.models.keyedvectors.Vocab object at 0x7fafac053790>, 'secure': <gensim.models.keyedvectors.Vocab object at 0x7fafac053810>, 'malicious': <gensim.models.keyedvectors.Vocab object at 0x7fafac0538d0>, 'communication': <gensim.models.keyedvectors.Vocab object at 0x7fafac053710>, 'diplomatic': <gensim.models.keyedvectors.Vocab object at 0x7fafac0539d0>, 'role': <gensim.models.keyedvectors.Vocab object at 0x7fafac053ad0>, 'cybersecurity': <gensim.models.keyedvectors.Vocab object at 0x7fafac053b90>, 'defence': <gensim.models.keyedvectors.Vocab object at 0x7fafac053c10>, 'unique': <gensim.models.keyedvectors.Vocab object at 0x7fafac053dd0>, 'czech': <gensim.models.keyedvectors.Vocab object at 0x7fafac053a90>, 'authority': <gensim.models.keyedvectors.Vocab object at 0x7fafac053f50>, 'agenda': <gensim.models.keyedvectors.Vocab object at 0x7fafac046210>, 'strengthen': <gensim.models.keyedvectors.Vocab object at 0x7fafac046150>, 'ministry': <gensim.models.keyedvectors.Vocab object at 0x7fafac046450>, 'foreign': <gensim.models.keyedvectors.Vocab object at 0x7fafac046510>, 'affairs': <gensim.models.keyedvectors.Vocab object at 0x7fafac0462d0>, 'diplomat': <gensim.models.keyedvectors.Vocab object at 0x7fafac046790>, 'international': <gensim.models.keyedvectors.Vocab object at 0x7fafac046a10>, 'effort': <gensim.models.keyedvectors.Vocab object at 0x7fafac0467d0>, 'september': <gensim.models.keyedvectors.Vocab object at 0x7fafac046e10>, 'mission': <gensim.models.keyedvectors.Vocab object at 0x7fafac046e90>, 'behalf': <gensim.models.keyedvectors.Vocab object at 0x7fafac046f90>, 'hub': <gensim.models.keyedvectors.Vocab object at 0x7fafac046c50>, 'governmental': <gensim.models.keyedvectors.Vocab object at 0x7fafac045e10>, 'federal': <gensim.models.keyedvectors.Vocab object at 0x7fafac045190>, 'office': <gensim.models.keyedvectors.Vocab object at 0x7fafac045250>, 'german': <gensim.models.keyedvectors.Vocab object at 0x7fafac045490>, 'innovation': <gensim.models.keyedvectors.Vocab object at 0x7fafac045510>, 'open': <gensim.models.keyedvectors.Vocab object at 0x7fafac045450>, 'document': <gensim.models.keyedvectors.Vocab object at 0x7fafac0457d0>, 'competence': <gensim.models.keyedvectors.Vocab object at 0x7fafac045990>, 'partner': <gensim.models.keyedvectors.Vocab object at 0x7fafac045650>, 'gather': <gensim.models.keyedvectors.Vocab object at 0x7fafac045d50>, 'conflict': <gensim.models.keyedvectors.Vocab object at 0x7fafac045c10>, 'cset': <gensim.models.keyedvectors.Vocab object at 0x7fafac045e90>, 'engage': <gensim.models.keyedvectors.Vocab object at 0x7fafac0472d0>, 'overwhelming': <gensim.models.keyedvectors.Vocab object at 0x7fafac047550>, 'portray': <gensim.models.keyedvectors.Vocab object at 0x7fafac047710>, 'bot': <gensim.models.keyedvectors.Vocab object at 0x7fafac047810>, 'spread': <gensim.models.keyedvectors.Vocab object at 0x7fafac047990>, 'election': <gensim.models.keyedvectors.Vocab object at 0x7fafac047ad0>, 'clinton': <gensim.models.keyedvectors.Vocab object at 0x7fafac0478d0>, 'trump': <gensim.models.keyedvectors.Vocab object at 0x7fafac047d90>, 'wing': <gensim.models.keyedvectors.Vocab object at 0x7fafac047e50>, 'sway': <gensim.models.keyedvectors.Vocab object at 0x7fafac047ed0>, 'biometric': <gensim.models.keyedvectors.Vocab object at 0x7fafac047f90>, 'authentication': <gensim.models.keyedvectors.Vocab object at 0x7fafac047d50>, 'live': <gensim.models.keyedvectors.Vocab object at 0x7fafac044050>, 'riiid': <gensim.models.keyedvectors.Vocab object at 0x7fafac0444d0>, 'vital': <gensim.models.keyedvectors.Vocab object at 0x7fafac044150>, 'scan': <gensim.models.keyedvectors.Vocab object at 0x7fafac044210>, 'trustworthy': <gensim.models.keyedvectors.Vocab object at 0x7fafac044290>, 'relay': <gensim.models.keyedvectors.Vocab object at 0x7fafac044090>, 'audience': <gensim.models.keyedvectors.Vocab object at 0x7fafac044510>, 'private': <gensim.models.keyedvectors.Vocab object at 0x7fafac0449d0>, 'un': <gensim.models.keyedvectors.Vocab object at 0x7fafac044c50>, 'refugee': <gensim.models.keyedvectors.Vocab object at 0x7fafac044c90>, 'translators': <gensim.models.keyedvectors.Vocab object at 0x7fafac044d10>, 'meeting': <gensim.models.keyedvectors.Vocab object at 0x7fafac044bd0>, 'textbook': <gensim.models.keyedvectors.Vocab object at 0x7fafac043110>}\n"
          ]
        }
      ]
    },
    {
      "cell_type": "code",
      "metadata": {
        "id": "ynLxnGryTXKc",
        "colab": {
          "base_uri": "https://localhost:8080/"
        },
        "outputId": "403fd91d-f8c1-4d37-e849-075110903009"
      },
      "source": [
        "# Vector\n",
        "v1 = word2vec.wv['intelligence'] \n",
        "v1"
      ],
      "execution_count": 55,
      "outputs": [
        {
          "output_type": "execute_result",
          "data": {
            "text/plain": [
              "array([ 4.97498317e-03,  1.53950201e-02, -6.55605085e-03,  1.61576718e-02,\n",
              "        3.24989296e-02, -1.88922528e-02, -5.34930360e-03, -2.84086308e-03,\n",
              "       -9.65517014e-03, -1.52213462e-02,  1.31231043e-02,  2.32011210e-02,\n",
              "        6.61610719e-03, -9.81939724e-04, -2.31851637e-03, -3.48218484e-03,\n",
              "        3.18884547e-03,  2.23624031e-03,  5.13086608e-03, -5.10871504e-03,\n",
              "       -1.93249714e-02,  1.45321552e-04,  1.84749831e-02, -2.06888914e-02,\n",
              "       -5.71283652e-03, -3.19197401e-03,  2.12328341e-02, -1.74158846e-03,\n",
              "        3.72456363e-03,  1.41290436e-02, -1.36717055e-02,  7.66924256e-03,\n",
              "        1.53464675e-02,  2.11579651e-02, -3.73453740e-03,  7.53235258e-03,\n",
              "       -5.08049922e-03, -1.43056326e-02,  2.28555594e-02, -7.10021146e-03,\n",
              "       -1.87866541e-03,  5.95653197e-03, -3.54432897e-03,  8.20886064e-03,\n",
              "       -1.01144202e-02,  1.44904293e-03,  1.31349014e-02, -8.42788257e-03,\n",
              "        1.76307280e-02,  2.02741614e-03, -5.32671297e-03, -4.40616673e-03,\n",
              "        8.11474025e-03, -8.75566341e-03, -3.97161022e-03, -1.00346860e-02,\n",
              "        3.97603074e-03, -1.20491507e-02, -9.87014268e-03,  1.82738155e-02,\n",
              "       -6.68416964e-04,  4.68217907e-03, -4.73936601e-03,  2.75349012e-03,\n",
              "        1.15031085e-03, -2.65386999e-02, -2.13664453e-02, -3.59381107e-03,\n",
              "       -6.54472853e-04, -5.31646842e-03,  1.26720630e-02,  5.37735829e-03,\n",
              "       -5.51790837e-03,  1.61023419e-02,  5.39911259e-03,  1.31767411e-02,\n",
              "        1.32607333e-02,  1.63777464e-03,  2.11866908e-02,  8.65251198e-03,\n",
              "       -7.95771740e-03,  1.04063833e-02,  5.09396382e-03,  4.37508989e-03,\n",
              "        9.37760778e-05, -8.23080726e-03, -2.08944324e-02, -2.14899015e-02,\n",
              "        4.94686747e-03,  1.11439079e-03,  9.05985199e-03,  3.54855508e-02,\n",
              "        1.03246165e-03,  9.62089002e-03,  2.25628763e-02, -1.56043784e-03,\n",
              "        5.57943480e-03, -2.71937228e-03, -1.60567090e-02, -9.23616532e-03],\n",
              "      dtype=float32)"
            ]
          },
          "metadata": {},
          "execution_count": 55
        }
      ]
    },
    {
      "cell_type": "code",
      "metadata": {
        "id": "MCQRhSF5bPFI",
        "colab": {
          "base_uri": "https://localhost:8080/"
        },
        "outputId": "a5e38f27-28bb-45e5-9a49-ec33bb865d03"
      },
      "source": [
        "# Similar vectors/words\n",
        "sim_words = word2vec.wv.most_similar('intelligence')\n",
        "sim_words"
      ],
      "execution_count": 56,
      "outputs": [
        {
          "output_type": "execute_result",
          "data": {
            "text/plain": [
              "[('ai', 0.9556152820587158),\n",
              " ('learning', 0.9527995586395264),\n",
              " ('use', 0.9467353820800781),\n",
              " ('machine', 0.9425711631774902),\n",
              " ('artificial', 0.9421250820159912),\n",
              " ('datum', 0.9343010187149048),\n",
              " ('program', 0.930925190448761),\n",
              " ('system', 0.9301679134368896),\n",
              " ('network', 0.9265350699424744),\n",
              " ('know', 0.9243631362915039)]"
            ]
          },
          "metadata": {},
          "execution_count": 56
        }
      ]
    },
    {
      "cell_type": "code",
      "metadata": {
        "id": "bRBwWMjtcrOH",
        "colab": {
          "base_uri": "https://localhost:8080/"
        },
        "outputId": "7d14ad52-266b-45d3-e54b-a2e66dcd857d"
      },
      "source": [
        "# Similarity between two words\n",
        "word2vec.wv.similarity('computer', 'animal')"
      ],
      "execution_count": 57,
      "outputs": [
        {
          "output_type": "execute_result",
          "data": {
            "text/plain": [
              "0.5591777"
            ]
          },
          "metadata": {},
          "execution_count": 57
        }
      ]
    },
    {
      "cell_type": "code",
      "metadata": {
        "id": "t2Qsloo6dz3i",
        "colab": {
          "base_uri": "https://localhost:8080/"
        },
        "outputId": "2ef48a3c-f553-4e77-d097-41b79caacf58"
      },
      "source": [
        "word2vec.wv.similarity('computer', 'machine')"
      ],
      "execution_count": 58,
      "outputs": [
        {
          "output_type": "execute_result",
          "data": {
            "text/plain": [
              "0.9163136"
            ]
          },
          "metadata": {},
          "execution_count": 58
        }
      ]
    },
    {
      "cell_type": "markdown",
      "metadata": {
        "id": "zwoQg0xEf9kN"
      },
      "source": [
        "Remarks:\n",
        "* Many things can be done with Gensim (e.g. [topic modelling](https://www.machinelearningplus.com/nlp/topic-modeling-gensim-python/))\n",
        "* There exists also `Doc2Vec`, which is used to create a vectorised representation of a group of words (i.e. a document) taken collectively as a single unit (illustrated in the next section)."
      ]
    },
    {
      "cell_type": "markdown",
      "metadata": {
        "id": "z-_83p20NjO-"
      },
      "source": [
        "### 2.2 Exercise\n",
        "Analyze the wikipedia article on [Coronavirus](https://en.wikipedia.org/wiki/Coronavirus) as above. "
      ]
    },
    {
      "cell_type": "code",
      "metadata": {
        "id": "kTiVRKpjcrJT"
      },
      "source": [
        "# 1. Get text from URL - use the get_text() function defined above\n",
        "\n",
        "\n",
        "# 2. Processing - tokenization using the spacy_tokenizer() function\n"
      ],
      "execution_count": 92,
      "outputs": []
    },
    {
      "cell_type": "code",
      "metadata": {
        "id": "hz5BBzckeLAe"
      },
      "source": [
        "# 3. What is the number of occurence of the word \"virus\"?\n"
      ],
      "execution_count": 93,
      "outputs": []
    },
    {
      "cell_type": "code",
      "metadata": {
        "id": "3-1RbfX7fpzO"
      },
      "source": [
        "# 4. Create a Word2Vec representation of the article with a min_count of 1 and a vector size of 50\n",
        "\n",
        "\n",
        "# 5. What is the 10 most similar words of \"virus\"\n"
      ],
      "execution_count": 94,
      "outputs": []
    },
    {
      "cell_type": "markdown",
      "metadata": {
        "id": "o3he4niYadil"
      },
      "source": [
        "## 3. Complaints Classification: TF-IDF vs. Doc2Vec\n",
        "We classify consumer finance complaints into 12 pre-defined categories using:\n",
        "* TF-IDF and logistic regression\n",
        "* Doc2Vec and logistic regression\n",
        "\n",
        "We use the same tokenizer function, train-test split, classification algorithm, etc. The only difference is the mathematical representation (i.e. the vectorization from the tokens) of the complaints:\n",
        "* TF-IDF: important words (or n-grams) are words (n-grams) that frequently appear in few documents.\n",
        "* Doc2Vec: similar documents must be close to each other in n-dimensional space. Focus on the context of the documents."
      ]
    },
    {
      "cell_type": "markdown",
      "metadata": {
        "id": "nz_p-bl8TFQb"
      },
      "source": [
        "### 3.1 Load and clean data\n",
        "We work with a sample of a large data set from Data.gov that can be found on [here](https://catalog.data.gov/dataset/consumer-complaint-database).\n",
        "\n"
      ]
    },
    {
      "cell_type": "code",
      "metadata": {
        "id": "xiRTQshsihUu",
        "colab": {
          "base_uri": "https://localhost:8080/",
          "height": 617
        },
        "outputId": "0a96f12f-5610-4990-92f3-953668a53acf"
      },
      "source": [
        "# Load data from GitHub\n",
        "path = \"https://raw.githubusercontent.com/michalis0/DataMining_and_MachineLearning/master/week10/data/complaints_sample.csv\"\n",
        "df = pd.read_csv(path, index_col=0)\n",
        "df.head()"
      ],
      "execution_count": 65,
      "outputs": [
        {
          "output_type": "execute_result",
          "data": {
            "text/plain": [
              "  Date received                                            Product  \\\n",
              "0    2012-12-24                                        Credit card   \n",
              "1    2013-12-17                                           Mortgage   \n",
              "2    2018-04-23  Credit reporting, credit repair services, or o...   \n",
              "3    2019-01-04                        Checking or savings account   \n",
              "4    2014-07-22                                    Debt collection   \n",
              "\n",
              "                   Sub-product                                     Issue  \\\n",
              "0                          NaN                                   Rewards   \n",
              "1  Conventional fixed mortgage  Application, originator, mortgage broker   \n",
              "2             Credit reporting      Incorrect information on your report   \n",
              "3             Checking account                       Managing an account   \n",
              "4                  Payday loan     Cont'd attempts collect debt not owed   \n",
              "\n",
              "                             Sub-issue Consumer complaint narrative  \\\n",
              "0                                  NaN                          NaN   \n",
              "1                                  NaN                          NaN   \n",
              "2  Information belongs to someone else                          NaN   \n",
              "3             Deposits and withdrawals                          NaN   \n",
              "4                     Debt is not mine                          NaN   \n",
              "\n",
              "                             Company public response  \\\n",
              "0                                                NaN   \n",
              "1                                                NaN   \n",
              "2  Company has responded to the consumer and the ...   \n",
              "3                                                NaN   \n",
              "4                                                NaN   \n",
              "\n",
              "                                 Company State ZIP code Tags  \\\n",
              "0  BANK OF AMERICA, NATIONAL ASSOCIATION    IL    60611  NaN   \n",
              "1          REGIONS FINANCIAL CORPORATION    FL    33415  NaN   \n",
              "2    Experian Information Solutions Inc.    TX    77386  NaN   \n",
              "3       HSBC NORTH AMERICA HOLDINGS INC.    AZ    94521  NaN   \n",
              "4              ENOVA INTERNATIONAL, INC.    GA    30038  NaN   \n",
              "\n",
              "  Consumer consent provided? Submitted via Date sent to company  \\\n",
              "0                        NaN           Web           2012-12-24   \n",
              "1                        NaN           Web           2013-12-17   \n",
              "2                        NaN           Fax           2018-04-23   \n",
              "3                        NaN      Referral           2019-01-08   \n",
              "4                        NaN           Web           2014-07-22   \n",
              "\n",
              "  Company response to consumer Timely response? Consumer disputed?  \\\n",
              "0      Closed with explanation              Yes                 No   \n",
              "1      Closed with explanation              Yes                Yes   \n",
              "2      Closed with explanation              Yes                NaN   \n",
              "3      Closed with explanation              Yes                NaN   \n",
              "4      Closed with explanation              Yes                 No   \n",
              "\n",
              "   Complaint ID  \n",
              "0        217083  \n",
              "1        636638  \n",
              "2       2883487  \n",
              "3       3118526  \n",
              "4        948293  "
            ],
            "text/html": [
              "\n",
              "  <div id=\"df-bfd1aede-d5a1-4764-a693-ef9623c2b293\">\n",
              "    <div class=\"colab-df-container\">\n",
              "      <div>\n",
              "<style scoped>\n",
              "    .dataframe tbody tr th:only-of-type {\n",
              "        vertical-align: middle;\n",
              "    }\n",
              "\n",
              "    .dataframe tbody tr th {\n",
              "        vertical-align: top;\n",
              "    }\n",
              "\n",
              "    .dataframe thead th {\n",
              "        text-align: right;\n",
              "    }\n",
              "</style>\n",
              "<table border=\"1\" class=\"dataframe\">\n",
              "  <thead>\n",
              "    <tr style=\"text-align: right;\">\n",
              "      <th></th>\n",
              "      <th>Date received</th>\n",
              "      <th>Product</th>\n",
              "      <th>Sub-product</th>\n",
              "      <th>Issue</th>\n",
              "      <th>Sub-issue</th>\n",
              "      <th>Consumer complaint narrative</th>\n",
              "      <th>Company public response</th>\n",
              "      <th>Company</th>\n",
              "      <th>State</th>\n",
              "      <th>ZIP code</th>\n",
              "      <th>Tags</th>\n",
              "      <th>Consumer consent provided?</th>\n",
              "      <th>Submitted via</th>\n",
              "      <th>Date sent to company</th>\n",
              "      <th>Company response to consumer</th>\n",
              "      <th>Timely response?</th>\n",
              "      <th>Consumer disputed?</th>\n",
              "      <th>Complaint ID</th>\n",
              "    </tr>\n",
              "  </thead>\n",
              "  <tbody>\n",
              "    <tr>\n",
              "      <th>0</th>\n",
              "      <td>2012-12-24</td>\n",
              "      <td>Credit card</td>\n",
              "      <td>NaN</td>\n",
              "      <td>Rewards</td>\n",
              "      <td>NaN</td>\n",
              "      <td>NaN</td>\n",
              "      <td>NaN</td>\n",
              "      <td>BANK OF AMERICA, NATIONAL ASSOCIATION</td>\n",
              "      <td>IL</td>\n",
              "      <td>60611</td>\n",
              "      <td>NaN</td>\n",
              "      <td>NaN</td>\n",
              "      <td>Web</td>\n",
              "      <td>2012-12-24</td>\n",
              "      <td>Closed with explanation</td>\n",
              "      <td>Yes</td>\n",
              "      <td>No</td>\n",
              "      <td>217083</td>\n",
              "    </tr>\n",
              "    <tr>\n",
              "      <th>1</th>\n",
              "      <td>2013-12-17</td>\n",
              "      <td>Mortgage</td>\n",
              "      <td>Conventional fixed mortgage</td>\n",
              "      <td>Application, originator, mortgage broker</td>\n",
              "      <td>NaN</td>\n",
              "      <td>NaN</td>\n",
              "      <td>NaN</td>\n",
              "      <td>REGIONS FINANCIAL CORPORATION</td>\n",
              "      <td>FL</td>\n",
              "      <td>33415</td>\n",
              "      <td>NaN</td>\n",
              "      <td>NaN</td>\n",
              "      <td>Web</td>\n",
              "      <td>2013-12-17</td>\n",
              "      <td>Closed with explanation</td>\n",
              "      <td>Yes</td>\n",
              "      <td>Yes</td>\n",
              "      <td>636638</td>\n",
              "    </tr>\n",
              "    <tr>\n",
              "      <th>2</th>\n",
              "      <td>2018-04-23</td>\n",
              "      <td>Credit reporting, credit repair services, or o...</td>\n",
              "      <td>Credit reporting</td>\n",
              "      <td>Incorrect information on your report</td>\n",
              "      <td>Information belongs to someone else</td>\n",
              "      <td>NaN</td>\n",
              "      <td>Company has responded to the consumer and the ...</td>\n",
              "      <td>Experian Information Solutions Inc.</td>\n",
              "      <td>TX</td>\n",
              "      <td>77386</td>\n",
              "      <td>NaN</td>\n",
              "      <td>NaN</td>\n",
              "      <td>Fax</td>\n",
              "      <td>2018-04-23</td>\n",
              "      <td>Closed with explanation</td>\n",
              "      <td>Yes</td>\n",
              "      <td>NaN</td>\n",
              "      <td>2883487</td>\n",
              "    </tr>\n",
              "    <tr>\n",
              "      <th>3</th>\n",
              "      <td>2019-01-04</td>\n",
              "      <td>Checking or savings account</td>\n",
              "      <td>Checking account</td>\n",
              "      <td>Managing an account</td>\n",
              "      <td>Deposits and withdrawals</td>\n",
              "      <td>NaN</td>\n",
              "      <td>NaN</td>\n",
              "      <td>HSBC NORTH AMERICA HOLDINGS INC.</td>\n",
              "      <td>AZ</td>\n",
              "      <td>94521</td>\n",
              "      <td>NaN</td>\n",
              "      <td>NaN</td>\n",
              "      <td>Referral</td>\n",
              "      <td>2019-01-08</td>\n",
              "      <td>Closed with explanation</td>\n",
              "      <td>Yes</td>\n",
              "      <td>NaN</td>\n",
              "      <td>3118526</td>\n",
              "    </tr>\n",
              "    <tr>\n",
              "      <th>4</th>\n",
              "      <td>2014-07-22</td>\n",
              "      <td>Debt collection</td>\n",
              "      <td>Payday loan</td>\n",
              "      <td>Cont'd attempts collect debt not owed</td>\n",
              "      <td>Debt is not mine</td>\n",
              "      <td>NaN</td>\n",
              "      <td>NaN</td>\n",
              "      <td>ENOVA INTERNATIONAL, INC.</td>\n",
              "      <td>GA</td>\n",
              "      <td>30038</td>\n",
              "      <td>NaN</td>\n",
              "      <td>NaN</td>\n",
              "      <td>Web</td>\n",
              "      <td>2014-07-22</td>\n",
              "      <td>Closed with explanation</td>\n",
              "      <td>Yes</td>\n",
              "      <td>No</td>\n",
              "      <td>948293</td>\n",
              "    </tr>\n",
              "  </tbody>\n",
              "</table>\n",
              "</div>\n",
              "      <button class=\"colab-df-convert\" onclick=\"convertToInteractive('df-bfd1aede-d5a1-4764-a693-ef9623c2b293')\"\n",
              "              title=\"Convert this dataframe to an interactive table.\"\n",
              "              style=\"display:none;\">\n",
              "        \n",
              "  <svg xmlns=\"http://www.w3.org/2000/svg\" height=\"24px\"viewBox=\"0 0 24 24\"\n",
              "       width=\"24px\">\n",
              "    <path d=\"M0 0h24v24H0V0z\" fill=\"none\"/>\n",
              "    <path d=\"M18.56 5.44l.94 2.06.94-2.06 2.06-.94-2.06-.94-.94-2.06-.94 2.06-2.06.94zm-11 1L8.5 8.5l.94-2.06 2.06-.94-2.06-.94L8.5 2.5l-.94 2.06-2.06.94zm10 10l.94 2.06.94-2.06 2.06-.94-2.06-.94-.94-2.06-.94 2.06-2.06.94z\"/><path d=\"M17.41 7.96l-1.37-1.37c-.4-.4-.92-.59-1.43-.59-.52 0-1.04.2-1.43.59L10.3 9.45l-7.72 7.72c-.78.78-.78 2.05 0 2.83L4 21.41c.39.39.9.59 1.41.59.51 0 1.02-.2 1.41-.59l7.78-7.78 2.81-2.81c.8-.78.8-2.07 0-2.86zM5.41 20L4 18.59l7.72-7.72 1.47 1.35L5.41 20z\"/>\n",
              "  </svg>\n",
              "      </button>\n",
              "      \n",
              "  <style>\n",
              "    .colab-df-container {\n",
              "      display:flex;\n",
              "      flex-wrap:wrap;\n",
              "      gap: 12px;\n",
              "    }\n",
              "\n",
              "    .colab-df-convert {\n",
              "      background-color: #E8F0FE;\n",
              "      border: none;\n",
              "      border-radius: 50%;\n",
              "      cursor: pointer;\n",
              "      display: none;\n",
              "      fill: #1967D2;\n",
              "      height: 32px;\n",
              "      padding: 0 0 0 0;\n",
              "      width: 32px;\n",
              "    }\n",
              "\n",
              "    .colab-df-convert:hover {\n",
              "      background-color: #E2EBFA;\n",
              "      box-shadow: 0px 1px 2px rgba(60, 64, 67, 0.3), 0px 1px 3px 1px rgba(60, 64, 67, 0.15);\n",
              "      fill: #174EA6;\n",
              "    }\n",
              "\n",
              "    [theme=dark] .colab-df-convert {\n",
              "      background-color: #3B4455;\n",
              "      fill: #D2E3FC;\n",
              "    }\n",
              "\n",
              "    [theme=dark] .colab-df-convert:hover {\n",
              "      background-color: #434B5C;\n",
              "      box-shadow: 0px 1px 3px 1px rgba(0, 0, 0, 0.15);\n",
              "      filter: drop-shadow(0px 1px 2px rgba(0, 0, 0, 0.3));\n",
              "      fill: #FFFFFF;\n",
              "    }\n",
              "  </style>\n",
              "\n",
              "      <script>\n",
              "        const buttonEl =\n",
              "          document.querySelector('#df-bfd1aede-d5a1-4764-a693-ef9623c2b293 button.colab-df-convert');\n",
              "        buttonEl.style.display =\n",
              "          google.colab.kernel.accessAllowed ? 'block' : 'none';\n",
              "\n",
              "        async function convertToInteractive(key) {\n",
              "          const element = document.querySelector('#df-bfd1aede-d5a1-4764-a693-ef9623c2b293');\n",
              "          const dataTable =\n",
              "            await google.colab.kernel.invokeFunction('convertToInteractive',\n",
              "                                                     [key], {});\n",
              "          if (!dataTable) return;\n",
              "\n",
              "          const docLinkHtml = 'Like what you see? Visit the ' +\n",
              "            '<a target=\"_blank\" href=https://colab.research.google.com/notebooks/data_table.ipynb>data table notebook</a>'\n",
              "            + ' to learn more about interactive tables.';\n",
              "          element.innerHTML = '';\n",
              "          dataTable['output_type'] = 'display_data';\n",
              "          await google.colab.output.renderOutput(dataTable, element);\n",
              "          const docLink = document.createElement('div');\n",
              "          docLink.innerHTML = docLinkHtml;\n",
              "          element.appendChild(docLink);\n",
              "        }\n",
              "      </script>\n",
              "    </div>\n",
              "  </div>\n",
              "  "
            ]
          },
          "metadata": {},
          "execution_count": 65
        }
      ]
    },
    {
      "cell_type": "code",
      "metadata": {
        "id": "Cys9L2XidZsq",
        "colab": {
          "base_uri": "https://localhost:8080/"
        },
        "outputId": "e627051e-e3e0-4356-c377-ac30ee0be747"
      },
      "source": [
        "df.info()"
      ],
      "execution_count": 66,
      "outputs": [
        {
          "output_type": "stream",
          "name": "stdout",
          "text": [
            "<class 'pandas.core.frame.DataFrame'>\n",
            "Int64Index: 9101 entries, 0 to 9100\n",
            "Data columns (total 18 columns):\n",
            " #   Column                        Non-Null Count  Dtype \n",
            "---  ------                        --------------  ----- \n",
            " 0   Date received                 9101 non-null   object\n",
            " 1   Product                       9101 non-null   object\n",
            " 2   Sub-product                   7942 non-null   object\n",
            " 3   Issue                         9101 non-null   object\n",
            " 4   Sub-issue                     6251 non-null   object\n",
            " 5   Consumer complaint narrative  3137 non-null   object\n",
            " 6   Company public response       3863 non-null   object\n",
            " 7   Company                       9101 non-null   object\n",
            " 8   State                         8946 non-null   object\n",
            " 9   ZIP code                      8199 non-null   object\n",
            " 10  Tags                          1171 non-null   object\n",
            " 11  Consumer consent provided?    5869 non-null   object\n",
            " 12  Submitted via                 9101 non-null   object\n",
            " 13  Date sent to company          9101 non-null   object\n",
            " 14  Company response to consumer  9101 non-null   object\n",
            " 15  Timely response?              9101 non-null   object\n",
            " 16  Consumer disputed?            3712 non-null   object\n",
            " 17  Complaint ID                  9101 non-null   int64 \n",
            "dtypes: int64(1), object(17)\n",
            "memory usage: 1.3+ MB\n"
          ]
        }
      ]
    },
    {
      "cell_type": "markdown",
      "metadata": {
        "id": "Pyg-rztyPJ6e"
      },
      "source": [
        "The data set includes 18 columns and 9101 rows describing consumer complaints about financial products. In this case, we want to predict the `Product` categorie based on the text of the complaint (i.e. `Consumer complaint narrative`)."
      ]
    },
    {
      "cell_type": "code",
      "metadata": {
        "id": "9mgx17mnpy2s",
        "colab": {
          "base_uri": "https://localhost:8080/",
          "height": 206
        },
        "outputId": "e1e1c9c5-7db2-4fac-f025-667c6888360b"
      },
      "source": [
        "# Select columns of interest\n",
        "data = df[[\"Product\", \"Consumer complaint narrative\"]]\n",
        "data.head()"
      ],
      "execution_count": 67,
      "outputs": [
        {
          "output_type": "execute_result",
          "data": {
            "text/plain": [
              "                                             Product  \\\n",
              "0                                        Credit card   \n",
              "1                                           Mortgage   \n",
              "2  Credit reporting, credit repair services, or o...   \n",
              "3                        Checking or savings account   \n",
              "4                                    Debt collection   \n",
              "\n",
              "  Consumer complaint narrative  \n",
              "0                          NaN  \n",
              "1                          NaN  \n",
              "2                          NaN  \n",
              "3                          NaN  \n",
              "4                          NaN  "
            ],
            "text/html": [
              "\n",
              "  <div id=\"df-88644052-0f91-40d1-9eb5-6f9bb9cbf230\">\n",
              "    <div class=\"colab-df-container\">\n",
              "      <div>\n",
              "<style scoped>\n",
              "    .dataframe tbody tr th:only-of-type {\n",
              "        vertical-align: middle;\n",
              "    }\n",
              "\n",
              "    .dataframe tbody tr th {\n",
              "        vertical-align: top;\n",
              "    }\n",
              "\n",
              "    .dataframe thead th {\n",
              "        text-align: right;\n",
              "    }\n",
              "</style>\n",
              "<table border=\"1\" class=\"dataframe\">\n",
              "  <thead>\n",
              "    <tr style=\"text-align: right;\">\n",
              "      <th></th>\n",
              "      <th>Product</th>\n",
              "      <th>Consumer complaint narrative</th>\n",
              "    </tr>\n",
              "  </thead>\n",
              "  <tbody>\n",
              "    <tr>\n",
              "      <th>0</th>\n",
              "      <td>Credit card</td>\n",
              "      <td>NaN</td>\n",
              "    </tr>\n",
              "    <tr>\n",
              "      <th>1</th>\n",
              "      <td>Mortgage</td>\n",
              "      <td>NaN</td>\n",
              "    </tr>\n",
              "    <tr>\n",
              "      <th>2</th>\n",
              "      <td>Credit reporting, credit repair services, or o...</td>\n",
              "      <td>NaN</td>\n",
              "    </tr>\n",
              "    <tr>\n",
              "      <th>3</th>\n",
              "      <td>Checking or savings account</td>\n",
              "      <td>NaN</td>\n",
              "    </tr>\n",
              "    <tr>\n",
              "      <th>4</th>\n",
              "      <td>Debt collection</td>\n",
              "      <td>NaN</td>\n",
              "    </tr>\n",
              "  </tbody>\n",
              "</table>\n",
              "</div>\n",
              "      <button class=\"colab-df-convert\" onclick=\"convertToInteractive('df-88644052-0f91-40d1-9eb5-6f9bb9cbf230')\"\n",
              "              title=\"Convert this dataframe to an interactive table.\"\n",
              "              style=\"display:none;\">\n",
              "        \n",
              "  <svg xmlns=\"http://www.w3.org/2000/svg\" height=\"24px\"viewBox=\"0 0 24 24\"\n",
              "       width=\"24px\">\n",
              "    <path d=\"M0 0h24v24H0V0z\" fill=\"none\"/>\n",
              "    <path d=\"M18.56 5.44l.94 2.06.94-2.06 2.06-.94-2.06-.94-.94-2.06-.94 2.06-2.06.94zm-11 1L8.5 8.5l.94-2.06 2.06-.94-2.06-.94L8.5 2.5l-.94 2.06-2.06.94zm10 10l.94 2.06.94-2.06 2.06-.94-2.06-.94-.94-2.06-.94 2.06-2.06.94z\"/><path d=\"M17.41 7.96l-1.37-1.37c-.4-.4-.92-.59-1.43-.59-.52 0-1.04.2-1.43.59L10.3 9.45l-7.72 7.72c-.78.78-.78 2.05 0 2.83L4 21.41c.39.39.9.59 1.41.59.51 0 1.02-.2 1.41-.59l7.78-7.78 2.81-2.81c.8-.78.8-2.07 0-2.86zM5.41 20L4 18.59l7.72-7.72 1.47 1.35L5.41 20z\"/>\n",
              "  </svg>\n",
              "      </button>\n",
              "      \n",
              "  <style>\n",
              "    .colab-df-container {\n",
              "      display:flex;\n",
              "      flex-wrap:wrap;\n",
              "      gap: 12px;\n",
              "    }\n",
              "\n",
              "    .colab-df-convert {\n",
              "      background-color: #E8F0FE;\n",
              "      border: none;\n",
              "      border-radius: 50%;\n",
              "      cursor: pointer;\n",
              "      display: none;\n",
              "      fill: #1967D2;\n",
              "      height: 32px;\n",
              "      padding: 0 0 0 0;\n",
              "      width: 32px;\n",
              "    }\n",
              "\n",
              "    .colab-df-convert:hover {\n",
              "      background-color: #E2EBFA;\n",
              "      box-shadow: 0px 1px 2px rgba(60, 64, 67, 0.3), 0px 1px 3px 1px rgba(60, 64, 67, 0.15);\n",
              "      fill: #174EA6;\n",
              "    }\n",
              "\n",
              "    [theme=dark] .colab-df-convert {\n",
              "      background-color: #3B4455;\n",
              "      fill: #D2E3FC;\n",
              "    }\n",
              "\n",
              "    [theme=dark] .colab-df-convert:hover {\n",
              "      background-color: #434B5C;\n",
              "      box-shadow: 0px 1px 3px 1px rgba(0, 0, 0, 0.15);\n",
              "      filter: drop-shadow(0px 1px 2px rgba(0, 0, 0, 0.3));\n",
              "      fill: #FFFFFF;\n",
              "    }\n",
              "  </style>\n",
              "\n",
              "      <script>\n",
              "        const buttonEl =\n",
              "          document.querySelector('#df-88644052-0f91-40d1-9eb5-6f9bb9cbf230 button.colab-df-convert');\n",
              "        buttonEl.style.display =\n",
              "          google.colab.kernel.accessAllowed ? 'block' : 'none';\n",
              "\n",
              "        async function convertToInteractive(key) {\n",
              "          const element = document.querySelector('#df-88644052-0f91-40d1-9eb5-6f9bb9cbf230');\n",
              "          const dataTable =\n",
              "            await google.colab.kernel.invokeFunction('convertToInteractive',\n",
              "                                                     [key], {});\n",
              "          if (!dataTable) return;\n",
              "\n",
              "          const docLinkHtml = 'Like what you see? Visit the ' +\n",
              "            '<a target=\"_blank\" href=https://colab.research.google.com/notebooks/data_table.ipynb>data table notebook</a>'\n",
              "            + ' to learn more about interactive tables.';\n",
              "          element.innerHTML = '';\n",
              "          dataTable['output_type'] = 'display_data';\n",
              "          await google.colab.output.renderOutput(dataTable, element);\n",
              "          const docLink = document.createElement('div');\n",
              "          docLink.innerHTML = docLinkHtml;\n",
              "          element.appendChild(docLink);\n",
              "        }\n",
              "      </script>\n",
              "    </div>\n",
              "  </div>\n",
              "  "
            ]
          },
          "metadata": {},
          "execution_count": 67
        }
      ]
    },
    {
      "cell_type": "markdown",
      "metadata": {
        "id": "NhB01GG6QXVP"
      },
      "source": [
        "Around 2/3 of the complaints are null values. They are not useful for the prediction so we drop them."
      ]
    },
    {
      "cell_type": "code",
      "metadata": {
        "id": "mbno4wghqCNH",
        "colab": {
          "base_uri": "https://localhost:8080/",
          "height": 260
        },
        "outputId": "f8d6d432-5289-41cb-beb7-a62502ca55fe"
      },
      "source": [
        "# Drop NaN\n",
        "print(data.isnull().sum())\n",
        "data = data.dropna().reset_index(drop=True)\n",
        "data.head()"
      ],
      "execution_count": 68,
      "outputs": [
        {
          "output_type": "stream",
          "name": "stdout",
          "text": [
            "Product                            0\n",
            "Consumer complaint narrative    5964\n",
            "dtype: int64\n"
          ]
        },
        {
          "output_type": "execute_result",
          "data": {
            "text/plain": [
              "                                             Product  \\\n",
              "0                        Credit card or prepaid card   \n",
              "1  Credit reporting, credit repair services, or o...   \n",
              "2  Credit reporting, credit repair services, or o...   \n",
              "3  Credit reporting, credit repair services, or o...   \n",
              "4                        Credit card or prepaid card   \n",
              "\n",
              "                        Consumer complaint narrative  \n",
              "0  Back in XX/XX/2019 a company called XXXX charg...  \n",
              "1  XXXX is reporting a single late payment over 7...  \n",
              "2  I have disputed the following account, ( 1 ) X...  \n",
              "3  In XX/XX/XXXXI disputed the following items on...  \n",
              "4  The response from Citi Cards has cleared up a ...  "
            ],
            "text/html": [
              "\n",
              "  <div id=\"df-0184bda1-d580-496e-8fc8-fb0786acda46\">\n",
              "    <div class=\"colab-df-container\">\n",
              "      <div>\n",
              "<style scoped>\n",
              "    .dataframe tbody tr th:only-of-type {\n",
              "        vertical-align: middle;\n",
              "    }\n",
              "\n",
              "    .dataframe tbody tr th {\n",
              "        vertical-align: top;\n",
              "    }\n",
              "\n",
              "    .dataframe thead th {\n",
              "        text-align: right;\n",
              "    }\n",
              "</style>\n",
              "<table border=\"1\" class=\"dataframe\">\n",
              "  <thead>\n",
              "    <tr style=\"text-align: right;\">\n",
              "      <th></th>\n",
              "      <th>Product</th>\n",
              "      <th>Consumer complaint narrative</th>\n",
              "    </tr>\n",
              "  </thead>\n",
              "  <tbody>\n",
              "    <tr>\n",
              "      <th>0</th>\n",
              "      <td>Credit card or prepaid card</td>\n",
              "      <td>Back in XX/XX/2019 a company called XXXX charg...</td>\n",
              "    </tr>\n",
              "    <tr>\n",
              "      <th>1</th>\n",
              "      <td>Credit reporting, credit repair services, or o...</td>\n",
              "      <td>XXXX is reporting a single late payment over 7...</td>\n",
              "    </tr>\n",
              "    <tr>\n",
              "      <th>2</th>\n",
              "      <td>Credit reporting, credit repair services, or o...</td>\n",
              "      <td>I have disputed the following account, ( 1 ) X...</td>\n",
              "    </tr>\n",
              "    <tr>\n",
              "      <th>3</th>\n",
              "      <td>Credit reporting, credit repair services, or o...</td>\n",
              "      <td>In XX/XX/XXXXI disputed the following items on...</td>\n",
              "    </tr>\n",
              "    <tr>\n",
              "      <th>4</th>\n",
              "      <td>Credit card or prepaid card</td>\n",
              "      <td>The response from Citi Cards has cleared up a ...</td>\n",
              "    </tr>\n",
              "  </tbody>\n",
              "</table>\n",
              "</div>\n",
              "      <button class=\"colab-df-convert\" onclick=\"convertToInteractive('df-0184bda1-d580-496e-8fc8-fb0786acda46')\"\n",
              "              title=\"Convert this dataframe to an interactive table.\"\n",
              "              style=\"display:none;\">\n",
              "        \n",
              "  <svg xmlns=\"http://www.w3.org/2000/svg\" height=\"24px\"viewBox=\"0 0 24 24\"\n",
              "       width=\"24px\">\n",
              "    <path d=\"M0 0h24v24H0V0z\" fill=\"none\"/>\n",
              "    <path d=\"M18.56 5.44l.94 2.06.94-2.06 2.06-.94-2.06-.94-.94-2.06-.94 2.06-2.06.94zm-11 1L8.5 8.5l.94-2.06 2.06-.94-2.06-.94L8.5 2.5l-.94 2.06-2.06.94zm10 10l.94 2.06.94-2.06 2.06-.94-2.06-.94-.94-2.06-.94 2.06-2.06.94z\"/><path d=\"M17.41 7.96l-1.37-1.37c-.4-.4-.92-.59-1.43-.59-.52 0-1.04.2-1.43.59L10.3 9.45l-7.72 7.72c-.78.78-.78 2.05 0 2.83L4 21.41c.39.39.9.59 1.41.59.51 0 1.02-.2 1.41-.59l7.78-7.78 2.81-2.81c.8-.78.8-2.07 0-2.86zM5.41 20L4 18.59l7.72-7.72 1.47 1.35L5.41 20z\"/>\n",
              "  </svg>\n",
              "      </button>\n",
              "      \n",
              "  <style>\n",
              "    .colab-df-container {\n",
              "      display:flex;\n",
              "      flex-wrap:wrap;\n",
              "      gap: 12px;\n",
              "    }\n",
              "\n",
              "    .colab-df-convert {\n",
              "      background-color: #E8F0FE;\n",
              "      border: none;\n",
              "      border-radius: 50%;\n",
              "      cursor: pointer;\n",
              "      display: none;\n",
              "      fill: #1967D2;\n",
              "      height: 32px;\n",
              "      padding: 0 0 0 0;\n",
              "      width: 32px;\n",
              "    }\n",
              "\n",
              "    .colab-df-convert:hover {\n",
              "      background-color: #E2EBFA;\n",
              "      box-shadow: 0px 1px 2px rgba(60, 64, 67, 0.3), 0px 1px 3px 1px rgba(60, 64, 67, 0.15);\n",
              "      fill: #174EA6;\n",
              "    }\n",
              "\n",
              "    [theme=dark] .colab-df-convert {\n",
              "      background-color: #3B4455;\n",
              "      fill: #D2E3FC;\n",
              "    }\n",
              "\n",
              "    [theme=dark] .colab-df-convert:hover {\n",
              "      background-color: #434B5C;\n",
              "      box-shadow: 0px 1px 3px 1px rgba(0, 0, 0, 0.15);\n",
              "      filter: drop-shadow(0px 1px 2px rgba(0, 0, 0, 0.3));\n",
              "      fill: #FFFFFF;\n",
              "    }\n",
              "  </style>\n",
              "\n",
              "      <script>\n",
              "        const buttonEl =\n",
              "          document.querySelector('#df-0184bda1-d580-496e-8fc8-fb0786acda46 button.colab-df-convert');\n",
              "        buttonEl.style.display =\n",
              "          google.colab.kernel.accessAllowed ? 'block' : 'none';\n",
              "\n",
              "        async function convertToInteractive(key) {\n",
              "          const element = document.querySelector('#df-0184bda1-d580-496e-8fc8-fb0786acda46');\n",
              "          const dataTable =\n",
              "            await google.colab.kernel.invokeFunction('convertToInteractive',\n",
              "                                                     [key], {});\n",
              "          if (!dataTable) return;\n",
              "\n",
              "          const docLinkHtml = 'Like what you see? Visit the ' +\n",
              "            '<a target=\"_blank\" href=https://colab.research.google.com/notebooks/data_table.ipynb>data table notebook</a>'\n",
              "            + ' to learn more about interactive tables.';\n",
              "          element.innerHTML = '';\n",
              "          dataTable['output_type'] = 'display_data';\n",
              "          await google.colab.output.renderOutput(dataTable, element);\n",
              "          const docLink = document.createElement('div');\n",
              "          docLink.innerHTML = docLinkHtml;\n",
              "          element.appendChild(docLink);\n",
              "        }\n",
              "      </script>\n",
              "    </div>\n",
              "  </div>\n",
              "  "
            ]
          },
          "metadata": {},
          "execution_count": 68
        }
      ]
    },
    {
      "cell_type": "code",
      "metadata": {
        "id": "mgb3yc3KqCLr",
        "colab": {
          "base_uri": "https://localhost:8080/"
        },
        "outputId": "44ce8643-a925-47a7-b49c-72392f507aff"
      },
      "source": [
        "data.info()"
      ],
      "execution_count": 69,
      "outputs": [
        {
          "output_type": "stream",
          "name": "stdout",
          "text": [
            "<class 'pandas.core.frame.DataFrame'>\n",
            "RangeIndex: 3137 entries, 0 to 3136\n",
            "Data columns (total 2 columns):\n",
            " #   Column                        Non-Null Count  Dtype \n",
            "---  ------                        --------------  ----- \n",
            " 0   Product                       3137 non-null   object\n",
            " 1   Consumer complaint narrative  3137 non-null   object\n",
            "dtypes: object(2)\n",
            "memory usage: 49.1+ KB\n"
          ]
        }
      ]
    },
    {
      "cell_type": "markdown",
      "metadata": {
        "id": "hCasthTDQrYb"
      },
      "source": [
        "We end up with 3137 complaints for which we would like to predict the product concerned."
      ]
    },
    {
      "cell_type": "markdown",
      "metadata": {
        "id": "Rc8z_6SkTIx2"
      },
      "source": [
        "### 3.2 EDA"
      ]
    },
    {
      "cell_type": "code",
      "metadata": {
        "id": "1JQ8GFf0ihb3",
        "colab": {
          "base_uri": "https://localhost:8080/"
        },
        "outputId": "41aabd76-265b-4723-9a9d-56a0e0ffbe40"
      },
      "source": [
        "# Total number of words - over 600,000\n",
        "data['Consumer complaint narrative'].apply(lambda x: len(x.split(' '))).sum()"
      ],
      "execution_count": 70,
      "outputs": [
        {
          "output_type": "execute_result",
          "data": {
            "text/plain": [
              "610062"
            ]
          },
          "metadata": {},
          "execution_count": 70
        }
      ]
    },
    {
      "cell_type": "code",
      "metadata": {
        "id": "ppQTFaZ6t9dy",
        "colab": {
          "base_uri": "https://localhost:8080/",
          "height": 72
        },
        "outputId": "a4f1eab2-5572-4fee-a9f7-4191bfa7b27c"
      },
      "source": [
        "# Sample\n",
        "data['Consumer complaint narrative'].sample().values[0]"
      ],
      "execution_count": 71,
      "outputs": [
        {
          "output_type": "execute_result",
          "data": {
            "text/plain": [
              "'EXPERIAN has ignored my request to provide the documentation used to verify the accounts on my credit report. Being that they have passed the 30 day mark and can not verify these accounts, under Section 611 ( 5 ) ( A ) of the FCRA - they are required to \" promptly delete all information which can not be verified, that I disputed. \\'\\' Please resolve.'"
            ],
            "application/vnd.google.colaboratory.intrinsic+json": {
              "type": "string"
            }
          },
          "metadata": {},
          "execution_count": 71
        }
      ]
    },
    {
      "cell_type": "markdown",
      "metadata": {
        "id": "HDpSTJyZQ6O5"
      },
      "source": [
        "The data has been anonymized (i.e. names, dates, IDs, etc. have been replaced by XXXX)."
      ]
    },
    {
      "cell_type": "code",
      "metadata": {
        "id": "vdDpzPPouaSN",
        "colab": {
          "base_uri": "https://localhost:8080/"
        },
        "outputId": "12f3b81f-1785-40db-cd70-9d4265916d07"
      },
      "source": [
        "# Imbalanced dataset\n",
        "data.Product.value_counts()"
      ],
      "execution_count": 72,
      "outputs": [
        {
          "output_type": "execute_result",
          "data": {
            "text/plain": [
              "Credit reporting, credit repair services, or other personal consumer reports    1123\n",
              "Debt collection                                                                  640\n",
              "Mortgage                                                                         378\n",
              "Credit card or prepaid card                                                      211\n",
              "Credit reporting                                                                 167\n",
              "Student loan                                                                     129\n",
              "Checking or savings account                                                      119\n",
              "Credit card                                                                       74\n",
              "Money transfer, virtual currency, or money service                                64\n",
              "Bank account or service                                                           64\n",
              "Vehicle loan or lease                                                             57\n",
              "Payday loan, title loan, or personal loan                                         47\n",
              "Consumer Loan                                                                     38\n",
              "Payday loan                                                                        8\n",
              "Money transfers                                                                    8\n",
              "Prepaid card                                                                       6\n",
              "Other financial service                                                            4\n",
              "Name: Product, dtype: int64"
            ]
          },
          "metadata": {},
          "execution_count": 72
        }
      ]
    },
    {
      "cell_type": "markdown",
      "metadata": {
        "id": "FDon6qpmRMzo"
      },
      "source": [
        "There are 17 categories. We group some of them together (e.g. `Credit card`, `Prepaid card`, and `Credit or prepaid card`) because they are sub-categories of each other. We end up with 12 categories."
      ]
    },
    {
      "cell_type": "code",
      "metadata": {
        "id": "er1kzzv3vBSt",
        "colab": {
          "base_uri": "https://localhost:8080/"
        },
        "outputId": "ca3d64ce-7599-469d-8586-99bd4bf85b7e"
      },
      "source": [
        "# Clean\n",
        "dic_replace = {'Credit reporting':'Credit reporting, credit repair services, or other personal consumer reports', \n",
        "               'Credit card':'Credit card or prepaid card', \n",
        "               'Payday loan':'Payday loan, title loan, or personal loan', \n",
        "               'Money transfers':'Money transfer, virtual currency, or money service',\n",
        "               'Prepaid card':'Credit card or prepaid card',\n",
        "               'Virtual currency':'Money transfer, virtual currency, or money service'}\n",
        "data.replace(dic_replace, inplace=True)\n",
        "data.Product.value_counts()"
      ],
      "execution_count": 73,
      "outputs": [
        {
          "output_type": "execute_result",
          "data": {
            "text/plain": [
              "Credit reporting, credit repair services, or other personal consumer reports    1290\n",
              "Debt collection                                                                  640\n",
              "Mortgage                                                                         378\n",
              "Credit card or prepaid card                                                      291\n",
              "Student loan                                                                     129\n",
              "Checking or savings account                                                      119\n",
              "Money transfer, virtual currency, or money service                                72\n",
              "Bank account or service                                                           64\n",
              "Vehicle loan or lease                                                             57\n",
              "Payday loan, title loan, or personal loan                                         55\n",
              "Consumer Loan                                                                     38\n",
              "Other financial service                                                            4\n",
              "Name: Product, dtype: int64"
            ]
          },
          "metadata": {},
          "execution_count": 73
        }
      ]
    },
    {
      "cell_type": "code",
      "metadata": {
        "id": "iEeOpaMQtgAA",
        "colab": {
          "base_uri": "https://localhost:8080/",
          "height": 702
        },
        "outputId": "3f261e91-8d48-42e9-ee77-469d1f318367"
      },
      "source": [
        "# Plot number of complaints per category\n",
        "cnt_pro = data['Product'].value_counts()\n",
        "plt.figure(figsize=(12,4))\n",
        "sns.barplot(cnt_pro.index, cnt_pro.values, alpha=0.8)\n",
        "plt.ylabel('Number of Occurrences', fontsize=12)\n",
        "plt.xlabel('Product', fontsize=12)\n",
        "plt.xticks(rotation=90)\n",
        "plt.show()"
      ],
      "execution_count": 74,
      "outputs": [
        {
          "output_type": "stream",
          "name": "stderr",
          "text": [
            "/usr/local/lib/python3.7/dist-packages/seaborn/_decorators.py:43: FutureWarning: Pass the following variables as keyword args: x, y. From version 0.12, the only valid positional argument will be `data`, and passing other arguments without an explicit keyword will result in an error or misinterpretation.\n",
            "  FutureWarning\n"
          ]
        },
        {
          "output_type": "display_data",
          "data": {
            "text/plain": [
              "<Figure size 864x288 with 1 Axes>"
            ],
            "image/png": "[encoded data removed]"
          },
          "metadata": {
            "needs_background": "light"
          }
        }
      ]
    },
    {
      "cell_type": "code",
      "metadata": {
        "id": "5JdF1razudYJ",
        "colab": {
          "base_uri": "https://localhost:8080/"
        },
        "outputId": "669f604d-9a0c-4059-e06e-cec3f7e2f4d0"
      },
      "source": [
        "# Base rate\n",
        "round(len(data[data.Product == \"Credit reporting, credit repair services, or other personal consumer reports\"]) / len (data), 4)"
      ],
      "execution_count": 75,
      "outputs": [
        {
          "output_type": "execute_result",
          "data": {
            "text/plain": [
              "0.4112"
            ]
          },
          "metadata": {},
          "execution_count": 75
        }
      ]
    },
    {
      "cell_type": "markdown",
      "metadata": {
        "id": "bBr6OSytTLgD"
      },
      "source": [
        "### 3.3 Classification using TF-IDF and Logistic Regression"
      ]
    },
    {
      "cell_type": "code",
      "metadata": {
        "id": "eU2xSf8sTevp"
      },
      "source": [
        "# Import packages\n",
        "from sklearn.linear_model import LogisticRegression\n",
        "from sklearn.model_selection import train_test_split\n",
        "from sklearn.pipeline import Pipeline\n",
        "from sklearn.metrics import confusion_matrix, accuracy_score"
      ],
      "execution_count": 76,
      "outputs": []
    },
    {
      "cell_type": "code",
      "metadata": {
        "id": "vXHnUbjerLPD"
      },
      "source": [
        "# Define tokenizer function\n",
        "def spacy_tokenizer(sentence):\n",
        "\n",
        "    punctuations = string.punctuation\n",
        "    stop_words = spacy.lang.en.stop_words.STOP_WORDS\n",
        "\n",
        "    # Create token object, which is used to create documents with linguistic annotations.\n",
        "    mytokens = sp(sentence)\n",
        "\n",
        "    # Lemmatize each token and convert each token into lowercase\n",
        "    mytokens = [ word.lemma_.lower().strip() if word.lemma_ != \"-PRON-\" else word.lower_ for word in mytokens ]\n",
        "\n",
        "    # Remove stop words and punctuation\n",
        "    mytokens = [ word for word in mytokens if word not in stop_words and word not in punctuations ]\n",
        "\n",
        "    # Remove anonymous dates and people\n",
        "    mytokens = [ word.replace('xx/', '').replace('xxxx/', '').replace('xx', '') for word in mytokens ]\n",
        "    mytokens = [ word for word in mytokens if word not in [\"xxxx\", \"xx\", \"\"] ]\n",
        "\n",
        "    # Return preprocessed list of tokens\n",
        "    return mytokens"
      ],
      "execution_count": 77,
      "outputs": []
    },
    {
      "cell_type": "code",
      "metadata": {
        "id": "38ttjGhrihZF",
        "colab": {
          "base_uri": "https://localhost:8080/"
        },
        "outputId": "97a08317-f2aa-48ca-cb99-437649f2f32e"
      },
      "source": [
        "# Select features\n",
        "X = data['Consumer complaint narrative'] # the features we want to analyze\n",
        "ylabels = data['Product'] # the labels, or answers, we want to test against\n",
        "\n",
        "# Train test split\n",
        "X_train, X_test, y_train, y_test = train_test_split(X, ylabels, test_size=0.2, random_state=1234)\n",
        "\n",
        "X_train"
      ],
      "execution_count": 78,
      "outputs": [
        {
          "output_type": "execute_result",
          "data": {
            "text/plain": [
              "949     I have contacted Equifax several times via pho...\n",
              "884     There are many mistakes appear in my report wi...\n",
              "1441    I received a notice of debt from PSC regarding...\n",
              "582     AFTER RECEIVING A CURRENT COPY OF MY CREDIT RE...\n",
              "1515    A check was stolen from our checkbook and cash...\n",
              "                              ...                        \n",
              "664     Home Depot credit card number on bill does not...\n",
              "3125    Lawsuit and judgment filed against me for a de...\n",
              "1318    Was lied to about the payment and what the pay...\n",
              "723     To All party involve XXXX XXXX. XXXX XXXX XXXX...\n",
              "2863    I tried unsuccessfully today ( XX/XX/2017 ) to...\n",
              "Name: Consumer complaint narrative, Length: 2509, dtype: object"
            ]
          },
          "metadata": {},
          "execution_count": 78
        }
      ]
    },
    {
      "cell_type": "code",
      "metadata": {
        "id": "dOHhL3ZgxUZh",
        "colab": {
          "base_uri": "https://localhost:8080/"
        },
        "outputId": "fc05da69-a902-47d1-b172-5dd45399254c"
      },
      "source": [
        "y_train"
      ],
      "execution_count": 79,
      "outputs": [
        {
          "output_type": "execute_result",
          "data": {
            "text/plain": [
              "949     Credit reporting, credit repair services, or o...\n",
              "884     Credit reporting, credit repair services, or o...\n",
              "1441                                      Debt collection\n",
              "582     Credit reporting, credit repair services, or o...\n",
              "1515                          Checking or savings account\n",
              "                              ...                        \n",
              "664                           Credit card or prepaid card\n",
              "3125                                      Debt collection\n",
              "1318                                      Debt collection\n",
              "723     Credit reporting, credit repair services, or o...\n",
              "2863    Credit reporting, credit repair services, or o...\n",
              "Name: Product, Length: 2509, dtype: object"
            ]
          },
          "metadata": {},
          "execution_count": 79
        }
      ]
    },
    {
      "cell_type": "code",
      "metadata": {
        "id": "3tTbx3oswIan",
        "colab": {
          "base_uri": "https://localhost:8080/"
        },
        "outputId": "276c2c47-d4da-40f7-83f1-04939c7c0da0"
      },
      "source": [
        "%%time\n",
        "# Define vectorizer\n",
        "tfidf = TfidfVectorizer(sublinear_tf=True, min_df=5, norm='l2', encoding='latin-1', ngram_range=(1, 2), tokenizer=spacy_tokenizer)\n",
        "\n",
        "# Define classifier\n",
        "classifier = LogisticRegression(solver='lbfgs', max_iter=1000)\n",
        "\n",
        "# Create pipeline\n",
        "pipe = Pipeline([('vectorizer', tfidf),\n",
        "                 ('classifier', classifier)])\n",
        "\n",
        "# Fit model on training set\n",
        "pipe.fit(X_train, y_train)"
      ],
      "execution_count": 80,
      "outputs": [
        {
          "output_type": "stream",
          "name": "stdout",
          "text": [
            "CPU times: user 1min 35s, sys: 2.59 s, total: 1min 38s\n",
            "Wall time: 1min 36s\n"
          ]
        },
        {
          "output_type": "execute_result",
          "data": {
            "text/plain": [
              "Pipeline(steps=[('vectorizer',\n",
              "                 TfidfVectorizer(encoding='latin-1', min_df=5,\n",
              "                                 ngram_range=(1, 2), sublinear_tf=True,\n",
              "                                 tokenizer=<function spacy_tokenizer at 0x7fafa4b60710>)),\n",
              "                ('classifier', LogisticRegression(max_iter=1000))])"
            ]
          },
          "metadata": {},
          "execution_count": 80
        }
      ]
    },
    {
      "cell_type": "code",
      "metadata": {
        "id": "dC3Pbqxlxod2",
        "colab": {
          "base_uri": "https://localhost:8080/",
          "height": 895
        },
        "outputId": "f6c43488-56a2-4ccc-d371-b5f6616eec65"
      },
      "source": [
        "# Predictions\n",
        "y_pred = pipe.predict(X_test)\n",
        "\n",
        "# Evaluate model\n",
        "print(round(accuracy_score(y_test, y_pred), 4))\n",
        "conf_mat = confusion_matrix(y_test, y_pred)\n",
        "fig, ax = plt.subplots(figsize=(15,15))\n",
        "sns.heatmap(conf_mat, annot=True, fmt='d')\n",
        "plt.ylabel('Actual')\n",
        "plt.xlabel('Predicted')\n",
        "plt.show()"
      ],
      "execution_count": 81,
      "outputs": [
        {
          "output_type": "stream",
          "name": "stdout",
          "text": [
            "0.7404\n"
          ]
        },
        {
          "output_type": "display_data",
          "data": {
            "text/plain": [
              "<Figure size 1080x1080 with 2 Axes>"
            ],
            "image/png": "[encoded data removed]"
          },
          "metadata": {
            "needs_background": "light"
          }
        }
      ]
    },
    {
      "cell_type": "markdown",
      "metadata": {
        "id": "Thl75Ei5TRZz"
      },
      "source": [
        "### 3.4 Classification using Doc2Vec and Logistic Regression\n",
        "We now try to do the same exercise, but using [Doc2Vec](https://radimrehurek.com/gensim/models/doc2vec.html)."
      ]
    },
    {
      "cell_type": "code",
      "metadata": {
        "id": "PDBzqEryVgSY",
        "colab": {
          "base_uri": "https://localhost:8080/"
        },
        "outputId": "99282cb7-2281-45bf-c4e2-130715a1a095"
      },
      "source": [
        "# Tokenize data - same tokenizer function as before\n",
        "%%time\n",
        "from gensim.models.doc2vec import TaggedDocument\n",
        "sample_tagged = data.apply(lambda r: TaggedDocument(words=spacy_tokenizer(r['Consumer complaint narrative']), tags=[r.Product]), axis=1)\n",
        "print(sample_tagged.head(20))"
      ],
      "execution_count": 82,
      "outputs": [
        {
          "output_type": "stream",
          "name": "stdout",
          "text": [
            "0     ([2019, company, charge, credit, card, 230.00,...\n",
            "1     ([report, single, late, payment, 7, year, old,...\n",
            "2     ([dispute, follow, account, 1, 4.00, 2, 0.00, ...\n",
            "3     ([i, dispute, follow, item, credit, report, bu...\n",
            "4     ([response, citi, cards, clear, lot, confusion...\n",
            "5     ([concern, contact, today, try, payment, mortg...\n",
            "6     ([write, letter, file, complaint, begin, recei...\n",
            "7     ([2016, purchase, truck, tell, finance, manage...\n",
            "8     ([employer, submit, background, check, receive...\n",
            "9     ([authorize, hard, credit, pull, credit, autho...\n",
            "10    ([rushcard, access, fund, account, negative, b...\n",
            "11    ([old, closed, account, remove, old, voluntary...\n",
            "12    ([executive, offices, department, credit, card...\n",
            "13    ([2, hard, inquiries, cbna, apply, card, suspe...\n",
            "14    ([hard, inquiry, submit, credit, report, barcl...\n",
            "15    ([request, credit, report, notice, account, re...\n",
            "16    ([yes, send, letter, state, want, verification...\n",
            "17    ([capital, auto, finance, tx, copy, letter, se...\n",
            "18    ([hi, transfer, money, brother, law, bank, acc...\n",
            "19    ([contact, mortgage, company, inform, start, n...\n",
            "dtype: object\n",
            "CPU times: user 1min 52s, sys: 943 ms, total: 1min 53s\n",
            "Wall time: 1min 53s\n"
          ]
        }
      ]
    },
    {
      "cell_type": "code",
      "metadata": {
        "id": "-hatOMpSPAqw",
        "colab": {
          "base_uri": "https://localhost:8080/"
        },
        "outputId": "2dc05c09-fbc6-455f-9286-c61cfdc8e8c5"
      },
      "source": [
        "sample_tagged.values[10]"
      ],
      "execution_count": 83,
      "outputs": [
        {
          "output_type": "execute_result",
          "data": {
            "text/plain": [
              "TaggedDocument(words=['rushcard', 'access', 'fund', 'account', 'negative', 'balance', 'week', 'customer', 'service', 'hang', 'numerous', 'time', 'hold', 'hr', 'time', 've', 'finally', 'tell', 'idea', 'money', 've', 'file', 'email', 'complaint', 'receive', 'different', 'ticket', 'number', \"''\", 'respond', 'week', 'basically', 'm', 'answer'], tags=['Credit card or prepaid card'])"
            ]
          },
          "metadata": {},
          "execution_count": 83
        }
      ]
    },
    {
      "cell_type": "code",
      "metadata": {
        "id": "KdSvlQf26uZb",
        "colab": {
          "base_uri": "https://localhost:8080/"
        },
        "outputId": "49e6984c-bec4-4c8b-c6e3-469f407c2fa7"
      },
      "source": [
        "# Train test split - same split as before\n",
        "train_tagged, test_tagged = train_test_split(sample_tagged, test_size=0.2, random_state=1234)\n",
        "\n",
        "train_tagged"
      ],
      "execution_count": 84,
      "outputs": [
        {
          "output_type": "execute_result",
          "data": {
            "text/plain": [
              "949     ([contact, equifax, time, phone, online, class...\n",
              "884     ([mistake, appear, report, understanding], [Cr...\n",
              "1441    ([receive, notice, debt, psc, regard, medical,...\n",
              "582     ([receive, current, copy, credit, report, disc...\n",
              "1515    ([check, steal, checkbook, cash, 2000.00, unkn...\n",
              "                              ...                        \n",
              "664     ([home, depot, credit, card, number, bill, mat...\n",
              "3125    ([lawsuit, judgment, file, defaulted, credit, ...\n",
              "1318    ([lie, payment, payment, harass, -+, collectio...\n",
              "723     ([party, involve, experian, dispute, departmen...\n",
              "2863    ([try, unsuccessfully, today, 2017, equifax, c...\n",
              "Length: 2509, dtype: object"
            ]
          },
          "metadata": {},
          "execution_count": 84
        }
      ]
    },
    {
      "cell_type": "code",
      "metadata": {
        "id": "tNGTNrwo7mhN",
        "colab": {
          "base_uri": "https://localhost:8080/"
        },
        "outputId": "5e9b5fc8-c9d6-4649-a8c2-d9736b864860"
      },
      "source": [
        "test_tagged"
      ],
      "execution_count": 85,
      "outputs": [
        {
          "output_type": "execute_result",
          "data": {
            "text/plain": [
              "2624    ([inform, amazon, 1, year, purchase, accrue, i...\n",
              "2222    ([contact, company, having, receive, documenta...\n",
              "2992    ([wrong, information, order, steal, identity, ...\n",
              "1935    ([contact, ditech, financial, regard, incorrec...\n",
              "1616    ([document, home, loan, false, stating, 2, loa...\n",
              "                              ...                        \n",
              "1694    ([buy, piece, furniture, sofa, recliner, '', b...\n",
              "2666    ([hi, try, resolve, matter, company, phoenix, ...\n",
              "2082    ([spouse, visit, local, branch, security, fina...\n",
              "287     ([account, total, 9500.00, open, 2008, close, ...\n",
              "516     ([send, copy, bill, experian, bill, experian, ...\n",
              "Length: 628, dtype: object"
            ]
          },
          "metadata": {},
          "execution_count": 85
        }
      ]
    },
    {
      "cell_type": "code",
      "metadata": {
        "id": "AY_KwtL8ThRV"
      },
      "source": [
        "# Allows to speed up a bit\n",
        "import multiprocessing\n",
        "cores = multiprocessing.cpu_count()"
      ],
      "execution_count": 86,
      "outputs": []
    },
    {
      "cell_type": "code",
      "metadata": {
        "id": "OhkoBMP_o0HN",
        "colab": {
          "base_uri": "https://localhost:8080/"
        },
        "outputId": "b918b893-abb4-4116-eb35-1eef2a3c3b40"
      },
      "source": [
        "# Define Doc2Vec and build vocabulary\n",
        "from gensim.models import Doc2Vec\n",
        "\n",
        "model_dbow = Doc2Vec(dm=0, vector_size=30, negative=6, hs=0, min_count=1, sample=0, workers=cores, epoch=300)\n",
        "model_dbow.build_vocab([x for x in train_tagged.values])"
      ],
      "execution_count": 87,
      "outputs": [
        {
          "output_type": "stream",
          "name": "stderr",
          "text": [
            "WARNING:gensim.models.base_any2vec:consider setting layer size to a multiple of 4 for greater performance\n"
          ]
        }
      ]
    },
    {
      "cell_type": "markdown",
      "metadata": {
        "id": "QqBwLmHGU8XD"
      },
      "source": [
        "We now train the distributed bag of words model. In short, it trains a neural network and the optimal weights are the coefficients of the vectors of the documents. Therefore, similar documents will be close to each other in the N-dimentional space (N being the size of the vectors). More information on this [here](https://thinkinfi.com/simple-doc2vec-explained/)."
      ]
    },
    {
      "cell_type": "code",
      "metadata": {
        "id": "vDU2E5fCpHVj"
      },
      "source": [
        "# Train distributed Bag of Word model\n",
        "model_dbow.train(train_tagged, total_examples=model_dbow.corpus_count, epochs=model_dbow.epochs)"
      ],
      "execution_count": 88,
      "outputs": []
    },
    {
      "cell_type": "code",
      "metadata": {
        "id": "1hq_UN6_U0hF"
      },
      "source": [
        "# Select X and y\n",
        "def vec_for_learning(model, tagged_docs):\n",
        "    sents = tagged_docs.values\n",
        "    targets, regressors = zip(*[(doc.tags[0], model.infer_vector(doc.words, steps=100)) for doc in sents])\n",
        "    return targets, regressors\n",
        "\n",
        "y_train, X_train = vec_for_learning(model_dbow, train_tagged)\n",
        "y_test, X_test = vec_for_learning(model_dbow, test_tagged)"
      ],
      "execution_count": 89,
      "outputs": []
    },
    {
      "cell_type": "code",
      "metadata": {
        "id": "O98HjFkWs6QI",
        "colab": {
          "base_uri": "https://localhost:8080/"
        },
        "outputId": "13e9b1b5-d7eb-4849-fee6-05d07f8fb079"
      },
      "source": [
        "# Each document (i.e. complaint) is now a vector in the space of 30 dimentions.\n",
        "# Similar complaints should have similar vector representation.\n",
        "X_train[:3]"
      ],
      "execution_count": 90,
      "outputs": [
        {
          "output_type": "execute_result",
          "data": {
            "text/plain": [
              "(array([-1.1175098 ,  0.17843522,  1.5042918 ,  0.5458811 ,  0.25745454,\n",
              "         0.26495972, -0.42928946, -0.63802224,  0.08721127, -0.17353347,\n",
              "        -1.1086817 ,  1.5335872 ,  1.303667  , -2.3451774 ,  1.0260466 ,\n",
              "        -1.1091623 , -0.1465155 ,  1.0573521 , -0.47018713,  0.23690507,\n",
              "         0.8165727 , -0.7655133 ,  1.0095727 ,  1.0509254 ,  0.5871136 ,\n",
              "        -1.6073164 , -0.9092708 , -0.37705725,  0.92528117, -0.59527034],\n",
              "       dtype=float32),\n",
              " array([-0.6981599 ,  0.34298056,  0.8122699 ,  0.7572951 , -0.15457067,\n",
              "         0.05476127, -0.2702237 , -0.3646377 , -0.02528088, -0.27737072,\n",
              "        -0.57935584,  0.90044314,  0.4835034 , -0.7410472 ,  0.82402176,\n",
              "        -0.45092332, -0.17797615,  0.58273613, -0.12681147,  0.03426854,\n",
              "         0.49883005, -0.32668996,  0.43240952,  0.9902575 ,  0.06738096,\n",
              "        -0.58855784, -0.9515494 , -0.27182004,  0.05212042, -0.11658525],\n",
              "       dtype=float32),\n",
              " array([-2.1723397e+00,  8.1353819e-01,  2.7133088e+00,  7.5297618e-01,\n",
              "        -6.4732045e-01,  1.3705835e+00, -1.4438900e-01,  1.0745708e+00,\n",
              "        -1.6328173e+00, -1.5814377e+00, -1.4468290e-01,  1.6872388e+00,\n",
              "         1.7033309e+00, -2.0369296e+00, -1.6548903e-01, -1.9660162e+00,\n",
              "        -1.2984629e+00, -1.0836105e-01,  7.6751101e-01, -1.2785783e+00,\n",
              "        -1.4374732e+00, -2.7077094e-01,  5.1298648e-01,  2.4863670e-03,\n",
              "        -1.4158836e-01, -1.1944969e+00, -2.5983569e-01, -6.6999453e-01,\n",
              "        -1.8317719e-01, -5.0719373e-02], dtype=float32))"
            ]
          },
          "metadata": {},
          "execution_count": 90
        }
      ]
    },
    {
      "cell_type": "code",
      "metadata": {
        "id": "j0fd2XSFVz1r",
        "colab": {
          "base_uri": "https://localhost:8080/",
          "height": 899
        },
        "outputId": "20b37cc6-b08d-48f0-c0f7-4d97e9f670f1"
      },
      "source": [
        "# Fit model on training set - same algorithm as before\n",
        "logreg = LogisticRegression(max_iter=1000, solver='lbfgs')\n",
        "logreg.fit(X_train, y_train)\n",
        "\n",
        "# Predictions\n",
        "y_pred = logreg.predict(X_test)\n",
        "\n",
        "# Evaluate model\n",
        "print(round(accuracy_score(y_test, y_pred), 4))\n",
        "conf_mat = confusion_matrix(y_test, y_pred)\n",
        "fig, ax = plt.subplots(figsize=(15,15))\n",
        "sns.heatmap(conf_mat, annot=True, fmt='d')\n",
        "plt.ylabel('Actual')\n",
        "plt.xlabel('Predicted')\n",
        "plt.show()"
      ],
      "execution_count": 91,
      "outputs": [
        {
          "output_type": "stream",
          "name": "stdout",
          "text": [
            "0.7277\n"
          ]
        },
        {
          "output_type": "display_data",
          "data": {
            "text/plain": [
              "<Figure size 1080x1080 with 2 Axes>"
            ],
            "image/png": "[encoded data removed]"
          },
          "metadata": {
            "needs_background": "light"
          }
        }
      ]
    },
    {
      "cell_type": "markdown",
      "metadata": {
        "id": "k_jHZwiHjnu_"
      },
      "source": [
        "## References\n",
        "* https://towardsdatascience.com/multi-class-text-classification-with-doc2vec-logistic-regression-9da9947b43f4\n",
        "* https://towardsdatascience.com/multi-class-text-classification-with-scikit-learn-12f1e60e0a9f"
      ]
    }
  ]
}