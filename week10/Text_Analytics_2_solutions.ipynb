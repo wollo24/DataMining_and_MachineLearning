{
  "nbformat": 4,
  "nbformat_minor": 0,
  "metadata": {
    "colab": {
      "provenance": []
    },
    "kernelspec": {
      "name": "python3",
      "display_name": "Python 3"
    },
    "language_info": {
      "name": "python"
    }
  },
  "cells": [
    {
      "cell_type": "markdown",
      "source": [
        "<a href=\"https://colab.research.google.com/github/michalis0/DataMining_and_MachineLearning/blob/master/week10/Text_Analytics_2_solutions.ipynb\" target=\"_parent\"><img src=\"https://colab.research.google.com/assets/colab-badge.svg\" alt=\"Open In Colab\"/></a>"
      ],
      "metadata": {
        "id": "o-sKZSOabYvN"
      }
    },
    {
      "cell_type": "markdown",
      "source": [
        "# Solution of the exercise in the \"Text_Analytics_2.ipynb\" notebook. \n"
      ],
      "metadata": {
        "id": "Dzeyd9mjbmMy"
      }
    },
    {
      "cell_type": "code",
      "source": [
        "# Import required packages\n",
        "import gensim\n",
        "import pandas as pd\n",
        "from sklearn.feature_extraction.text import CountVectorizer, TfidfVectorizer\n",
        "import bs4 as bs\n",
        "import urllib.request\n",
        "import spacy\n",
        "import string\n",
        "import math\n",
        "from gensim.models import Word2Vec\n",
        "import matplotlib.pyplot as plt\n",
        "import seaborn as sns\n",
        "\n",
        "# Load English language model of spacy\n",
        "sp = spacy.load('en_core_web_sm')\n"
      ],
      "metadata": {
        "id": "9o9tpvXEcZ1T"
      },
      "execution_count": 1,
      "outputs": []
    },
    {
      "cell_type": "code",
      "source": [
        "# Tokens in document\n",
        "def get_tokens(document):\n",
        "  doc_tokens = []\n",
        "  for token in sp(document):\n",
        "      if (token.is_punct == False) and (token.is_space == False):\n",
        "        doc_tokens.append(token.lower_)\n",
        "  return doc_tokens"
      ],
      "metadata": {
        "id": "MbahBirac5UX"
      },
      "execution_count": 3,
      "outputs": []
    },
    {
      "cell_type": "code",
      "source": [
        "# Get texts from Wikipedia\n",
        "def get_text(url):\n",
        "  scrapped_data = urllib.request.urlopen(url)\n",
        "  article = scrapped_data.read()\n",
        "  parsed_article = bs.BeautifulSoup(article,'lxml')\n",
        "  paragraphs = parsed_article.find_all('p')\n",
        "  article_text = \"\"\n",
        "  for p in paragraphs:\n",
        "    article_text += p.text\n",
        "  return article_text"
      ],
      "metadata": {
        "id": "rn6E62dAdEBF"
      },
      "execution_count": 7,
      "outputs": []
    },
    {
      "cell_type": "code",
      "source": [
        "# Create tokenizer function for preprocessing\n",
        "def spacy_tokenizer(text):\n",
        "\n",
        "    # Define stopwords, punctuation, and numbers\n",
        "    stop_words = spacy.lang.en.stop_words.STOP_WORDS\n",
        "    punctuations = string.punctuation\n",
        "    numbers = \"0123456789\"\n",
        "\n",
        "    # Create spacy object\n",
        "    mytokens = sp(text)\n",
        "\n",
        "    # Lemmatize each token and convert each token into lowercase\n",
        "    mytokens = [ word.lemma_.lower().strip() if word.lemma_ != \"-PRON-\" else word.lower_ for word in mytokens ]\n",
        "\n",
        "    # Remove stop words and punctuation\n",
        "    mytokens = [ word for word in mytokens if word not in stop_words and word not in punctuations ]\n",
        "\n",
        "    # Remove sufix like \".[1\" in \"experience.[1\"\n",
        "    mytokens_2 = []\n",
        "    for word in mytokens:\n",
        "      for char in word:\n",
        "        if (char in punctuations) or (char in numbers):\n",
        "          word = word.replace(char, \"\")\n",
        "      if word != \"\":\n",
        "        mytokens_2.append(word)\n",
        "\n",
        "    # Return preprocessed list of tokens\n",
        "    return mytokens_2"
      ],
      "metadata": {
        "id": "ouR2Cb_JdQhN"
      },
      "execution_count": 9,
      "outputs": []
    },
    {
      "cell_type": "markdown",
      "metadata": {
        "id": "z-_83p20NjO-"
      },
      "source": [
        "### 2.2 Exercise\n",
        "Analyze the wikipedia article on [Coronavirus](https://en.wikipedia.org/wiki/Coronavirus) as above. "
      ]
    },
    {
      "cell_type": "code",
      "metadata": {
        "id": "kTiVRKpjcrJT",
        "colab": {
          "base_uri": "https://localhost:8080/"
        },
        "outputId": "15bea78b-0d79-4b41-8cd8-e3542882a680"
      },
      "source": [
        "# 1. Get text from URL - use the get_text() function defined above\n",
        "coronavirus = get_text('https://en.wikipedia.org/wiki/Coronavirus')\n",
        "\n",
        "# 2. Processing - tokenization using the spacy_tokenizer() function\n",
        "processed_corona = spacy_tokenizer(coronavirus)\n",
        "processed_corona[:10]"
      ],
      "execution_count": 10,
      "outputs": [
        {
          "output_type": "execute_result",
          "data": {
            "text/plain": [
              "['coronaviruse',\n",
              " 'group',\n",
              " 'relate',\n",
              " 'rna',\n",
              " 'virus',\n",
              " 'cause',\n",
              " 'disease',\n",
              " 'mammal',\n",
              " 'bird',\n",
              " 'human']"
            ]
          },
          "metadata": {},
          "execution_count": 10
        }
      ]
    },
    {
      "cell_type": "code",
      "metadata": {
        "id": "hz5BBzckeLAe",
        "colab": {
          "base_uri": "https://localhost:8080/"
        },
        "outputId": "13135302-0ec7-40ce-9bc7-c4b17da75425"
      },
      "source": [
        "# 3. What is the number of occurence of the word \"virus\"?\n",
        "count = 0\n",
        "for word in processed_corona:\n",
        "  if word == 'virus':\n",
        "    count += 1\n",
        "count"
      ],
      "execution_count": 11,
      "outputs": [
        {
          "output_type": "execute_result",
          "data": {
            "text/plain": [
              "67"
            ]
          },
          "metadata": {},
          "execution_count": 11
        }
      ]
    },
    {
      "cell_type": "code",
      "metadata": {
        "id": "3-1RbfX7fpzO",
        "colab": {
          "base_uri": "https://localhost:8080/"
        },
        "outputId": "64b5fe82-af66-4a92-b51e-7202b6c45809"
      },
      "source": [
        "# 4. Create a Word2Vec representation of the article with a min_count of 1 and a vector size of 50\n",
        "word2vec_corona = Word2Vec([processed_corona], min_count=1, size=50)\n",
        "\n",
        "\n",
        "# 5. What is the 10 most similar words of \"virus\"\n",
        "word2vec_corona.wv.most_similar('virus')"
      ],
      "execution_count": 12,
      "outputs": [
        {
          "output_type": "stream",
          "name": "stderr",
          "text": [
            "WARNING:gensim.models.base_any2vec:consider setting layer size to a multiple of 4 for greater performance\n",
            "WARNING:gensim.models.base_any2vec:under 10 jobs per worker: consider setting a smaller `batch_words' for smoother alpha decay\n"
          ]
        },
        {
          "output_type": "execute_result",
          "data": {
            "text/plain": [
              "[('poly', 0.4091958701610565),\n",
              " ('peplomer', 0.3946215510368347),\n",
              " ('mrnas', 0.39174190163612366),\n",
              " ('homodimer', 0.3748185634613037),\n",
              " ('amino', 0.36334195733070374),\n",
              " ('α', 0.35977503657341003),\n",
              " ('national', 0.3595016300678253),\n",
              " ('continuous', 0.35437700152397156),\n",
              " ('bovine', 0.3467666506767273),\n",
              " ('french', 0.3427498936653137)]"
            ]
          },
          "metadata": {},
          "execution_count": 12
        }
      ]
    }
  ]
}