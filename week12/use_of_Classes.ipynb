{
  "nbformat": 4,
  "nbformat_minor": 0,
  "metadata": {
    "colab": {
      "provenance": []
    },
    "kernelspec": {
      "name": "python3",
      "display_name": "Python 3"
    },
    "language_info": {
      "name": "python"
    }
  },
  "cells": [
    {
      "cell_type": "markdown",
      "source": [
        "# Week 12 : Introduction to classes in Python\n",
        "\n",
        "A class allows you to create objects. Objects are instances of the class and they have attributes and methods attached to them. \n",
        "-    attributes represent its state, \n",
        "-    methods represent its behavior : using its methods, we can modify the object's state\n"
      ],
      "metadata": {
        "id": "wH1An7vU7Dvi"
      }
    },
    {
      "cell_type": "markdown",
      "source": [
        "## Structure of a class\n",
        "A class has: \n",
        "+ a docstring \"' ... \"' to help the user to understand what's the purpose of the class\n",
        "+ a $__init__$ part where you define all the attributes (variables) of the class\n",
        "+ some methods (functions) \n",
        "\n",
        "\n"
      ],
      "metadata": {
        "id": "Ml_faiJEFdX-"
      }
    },
    {
      "cell_type": "code",
      "execution_count": null,
      "metadata": {
        "id": "WvTjy_kl6vYY"
      },
      "outputs": [],
      "source": [
        "# An example of a class \n",
        "\n",
        "class Person:\n",
        "  ''' \n",
        "  This class retains information about an Person object.\n",
        "  It allows to print the person information and his work. \n",
        "  '''\n",
        "  def __init__(self, name, sex, age, profession):\n",
        "    # data members (instance variables)\n",
        "    self.name = name\n",
        "    self.sex = sex\n",
        "    self.age = age\n",
        "    self.profession = profession\n",
        "\n",
        "  # Behavior (instance methods)\n",
        "  def show(self):\n",
        "    print('Name:', self.name, 'Sex:', self.sex, 'Profession:', self.profession)\n",
        "\n",
        "  # Behavior (instance methods)\n",
        "  def work(self):\n",
        "    print(self.name, 'is working as a', self.profession)\n",
        "\n",
        "  # Behavior (instance methods)\n",
        "  def discount(self):\n",
        "    if int(self.age) < 18:\n",
        "      print(self.name, 'can is young enough and can have a discount')\n",
        "    else: \n",
        "      print(self.name, 'is too old and can\\'t have a discount')\n",
        "\n",
        "\n"
      ]
    },
    {
      "cell_type": "code",
      "source": [
        "help(Person)"
      ],
      "metadata": {
        "colab": {
          "base_uri": "https://localhost:8080/"
        },
        "id": "KLjXKwmlGhZ3",
        "outputId": "db2a7de8-a493-4ded-948c-c7a6994f039d"
      },
      "execution_count": null,
      "outputs": [
        {
          "output_type": "stream",
          "name": "stdout",
          "text": [
            "Help on class Person in module __main__:\n",
            "\n",
            "class Person(builtins.object)\n",
            " |  Person(name, sex, age, profession)\n",
            " |  \n",
            " |  This class retains information about an Person object.\n",
            " |  It allows to print the person information and his work.\n",
            " |  \n",
            " |  Methods defined here:\n",
            " |  \n",
            " |  __init__(self, name, sex, age, profession)\n",
            " |      Initialize self.  See help(type(self)) for accurate signature.\n",
            " |  \n",
            " |  discount(self)\n",
            " |      # Behavior (instance methods)\n",
            " |  \n",
            " |  show(self)\n",
            " |      # Behavior (instance methods)\n",
            " |  \n",
            " |  work(self)\n",
            " |      # Behavior (instance methods)\n",
            " |  \n",
            " |  ----------------------------------------------------------------------\n",
            " |  Data descriptors defined here:\n",
            " |  \n",
            " |  __dict__\n",
            " |      dictionary for instance variables (if defined)\n",
            " |  \n",
            " |  __weakref__\n",
            " |      list of weak references to the object (if defined)\n",
            "\n"
          ]
        }
      ]
    },
    {
      "cell_type": "code",
      "source": [
        "print(Person.__doc__)"
      ],
      "metadata": {
        "colab": {
          "base_uri": "https://localhost:8080/"
        },
        "id": "MzoA2ZtgGhMo",
        "outputId": "49201bb9-4c44-432c-8e1b-9df2ba73ff73"
      },
      "execution_count": null,
      "outputs": [
        {
          "output_type": "stream",
          "name": "stdout",
          "text": [
            " \n",
            "  This class retains information about an Person object.\n",
            "  It allows to print the person information and his work. \n",
            "  \n"
          ]
        }
      ]
    },
    {
      "cell_type": "code",
      "source": [
        "# define a new object \n",
        "Elodie = Person('Elodie', 'Female', '23', 'Teaching Assistant')\n",
        "\n",
        "# use the class  \n",
        "Elodie.show()\n",
        "Elodie.work()\n",
        "Elodie.age\n",
        "Elodie.discount()\n"
      ],
      "metadata": {
        "colab": {
          "base_uri": "https://localhost:8080/"
        },
        "id": "3YiAWDW_HTzF",
        "outputId": "c0637072-e749-4a9f-9aa6-4c180362c7c1"
      },
      "execution_count": null,
      "outputs": [
        {
          "output_type": "stream",
          "name": "stdout",
          "text": [
            "Name: Elodie Sex: Female Profession: Teaching Assistant\n",
            "Elodie is working as a Teaching Assistant\n",
            "Elodie is too old and can't have a discount\n"
          ]
        }
      ]
    },
    {
      "cell_type": "markdown",
      "source": [
        "## Example for a regression \n",
        "\n"
      ],
      "metadata": {
        "id": "w8azAjDvJytU"
      }
    },
    {
      "cell_type": "code",
      "source": [
        "# Import required packages\n",
        "import  numpy as np\n",
        "import pandas as pd\n",
        "import matplotlib.pyplot as plt\n",
        "from sklearn.preprocessing import LabelEncoder, OneHotEncoder\n",
        "from sklearn.linear_model import LogisticRegression, LogisticRegressionCV\n",
        "from sklearn.model_selection import train_test_split\n",
        "from sklearn.metrics import confusion_matrix, accuracy_score, precision_score, recall_score, f1_score\n",
        "\n",
        "%matplotlib inline"
      ],
      "metadata": {
        "id": "CVJGCWjcKgFX"
      },
      "execution_count": null,
      "outputs": []
    },
    {
      "cell_type": "code",
      "source": [
        "sample = [[0.1, 0.2, 0],\n",
        "          [0.3, 0.05, 0],\n",
        "          [0.3, 0.2, 0],\n",
        "          [0.7, 0.65, 1],\n",
        "          [0.25, 0.3, 0],\n",
        "          [0.85, 0.55, 1],\n",
        "          [0.1, 0.45, 0],\n",
        "          [0.9, 0.85, 1],\n",
        "          [0.95, 0.55, 1],\n",
        "          [0.8, 0.8, 1]\n",
        "          ]\n",
        "df = pd.DataFrame(sample, columns=['x1', 'x2', 'target'])"
      ],
      "metadata": {
        "id": "v5UPglwFK3uu"
      },
      "execution_count": null,
      "outputs": []
    },
    {
      "cell_type": "code",
      "source": [
        "class MyData:\n",
        "  ''' \n",
        "  This class retain information about my data. \n",
        "  Works for a dataframe containing 3 columns. \n",
        "  '''\n",
        "  def __init__(self, data):\n",
        "    # data members (instance variables)\n",
        "    self.data = data\n",
        "    self.LR = LogisticRegression()\n",
        "\n",
        "  # Behavior (instance methods)\n",
        "  def view(self):\n",
        "    print(df)\n",
        "\n",
        "  # Behavior (instance methods)\n",
        "  def scatterplot(self):\n",
        "    ''' \n",
        "    set the (c) color of the map to vary by the \"target\" feature of the dataframe\n",
        "    ''' \n",
        "    self.data.plot.scatter(x=self.data.columns[0], \n",
        "                           y=self.data.columns[1], \n",
        "                           c=self.data.columns[2], \n",
        "                           colormap='winter');\n",
        "     \n",
        "  # Behavior (instance methods)\n",
        "  def logistic_regression(self): \n",
        "    ''' \n",
        "    Perform a logistic regression on the dataframe \n",
        "    1. Set 'X' containing dependent variables and 'y' containing independent variables\n",
        "    '''\n",
        "\n",
        "    X = self.data[[self.data.columns[0], self.data.columns[1]]] \n",
        "    y = self.data[self.data.columns[2]] \n",
        "    \n",
        "    self.LR.fit(X, y)\n",
        "    \n",
        "    print('The coefficients of the logistic regression are ', self.LR.coef_)\n",
        "    print('The intercept of the logistic regression is', self.LR.intercept_ )\n",
        "    print('The prediction based on the logistic regression is', self.LR.predict(X))\n",
        "\n",
        "     \n",
        "\n"
      ],
      "metadata": {
        "id": "PB9dV6sBLHeP"
      },
      "execution_count": null,
      "outputs": []
    },
    {
      "cell_type": "code",
      "source": [
        "# create my first new object \n",
        "Test1 = MyData(df)\n",
        "\n",
        "Test1.view()\n",
        "Test1.scatterplot()\n",
        "Test1.logistic_regression()"
      ],
      "metadata": {
        "colab": {
          "base_uri": "https://localhost:8080/",
          "height": 513
        },
        "id": "Uo56IruRLHTe",
        "outputId": "d9f4322f-27c7-4f03-9848-74d58108dcea"
      },
      "execution_count": null,
      "outputs": [
        {
          "output_type": "stream",
          "name": "stdout",
          "text": [
            "     x1    x2  target\n",
            "0  0.10  0.20       0\n",
            "1  0.30  0.05       0\n",
            "2  0.30  0.20       0\n",
            "3  0.70  0.65       1\n",
            "4  0.25  0.30       0\n",
            "5  0.85  0.55       1\n",
            "6  0.10  0.45       0\n",
            "7  0.90  0.85       1\n",
            "8  0.95  0.55       1\n",
            "9  0.80  0.80       1\n",
            "The coefficients of the logistic regression are  [[1.15013435 0.79371503]]\n",
            "The intercept of the logistic regression is [-0.96836108]\n",
            "The prediction based on the logistic regression is [0 0 0 1 0 1 0 1 1 1]\n"
          ]
        },
        {
          "output_type": "display_data",
          "data": {
            "text/plain": [
              "<Figure size 432x288 with 2 Axes>"
            ],
            "image/png": "[encoded data removed]"
          },
          "metadata": {
            "needs_background": "light"
          }
        }
      ]
    },
    {
      "cell_type": "markdown",
      "source": [
        "## How can classes be useful for the project ? \n",
        "\n",
        "We will show an example on the amazon review dataset which is available on the git under the folder 'data' of 'week9'. \n"
      ],
      "metadata": {
        "id": "EV4-za5wsMj9"
      }
    },
    {
      "cell_type": "code",
      "source": [
        "# Import required packages\n",
        "import spacy\n",
        "from spacy import displacy\n",
        "from sklearn.feature_extraction.text import CountVectorizer, TfidfVectorizer\n",
        "import pandas as pd\n",
        "\n",
        "# Import additional packages\n",
        "from sklearn.base import TransformerMixin\n",
        "from sklearn.pipeline import Pipeline\n",
        "import string\n",
        "from spacy.lang.en.stop_words import STOP_WORDS\n",
        "from spacy.lang.en import English\n",
        "from sklearn.model_selection import train_test_split\n",
        "from sklearn.linear_model import LogisticRegression\n",
        "from sklearn.metrics import confusion_matrix, accuracy_score, precision_score, recall_score, f1_score\n",
        "\n",
        "\n",
        "\n",
        "# Import stopwords from English language\n",
        "spacy_stopwords = spacy.lang.en.stop_words.STOP_WORDS"
      ],
      "metadata": {
        "id": "oQIFIGouuuKL"
      },
      "execution_count": null,
      "outputs": []
    },
    {
      "cell_type": "code",
      "source": [
        "# Load data\n",
        "url = \"https://raw.githubusercontent.com/michalis0/DataMining_and_MachineLearning/master/week9/data/amazon_alexa.tsv\"\n",
        "df = pd.read_csv(url, delimiter=\"\\t\")\n",
        "df.sample(10)"
      ],
      "metadata": {
        "colab": {
          "base_uri": "https://localhost:8080/",
          "height": 359
        },
        "id": "nS90fqC2tKeP",
        "outputId": "6735923f-d69d-49ff-f489-b98f6d7f7a94"
      },
      "execution_count": null,
      "outputs": [
        {
          "output_type": "execute_result",
          "data": {
            "text/plain": [
              "      rating       date                     variation  \\\n",
              "1308       5  22-Jul-18                   Black  Spot   \n",
              "2210       5  30-Jul-18  Configuration: Fire TV Stick   \n",
              "1157       5  29-Jul-18                   Black  Spot   \n",
              "194        4  29-Jul-18          Heather Gray Fabric    \n",
              "546        5  15-Jun-18                         White   \n",
              "1452       5  30-Jul-18                   Black  Show   \n",
              "1322       5  21-Jul-18                   Black  Spot   \n",
              "908        5  29-Jul-18              Charcoal Fabric    \n",
              "2845       5  30-Jul-18                    Black  Dot   \n",
              "790        5  30-Jul-18              Charcoal Fabric    \n",
              "\n",
              "                                       verified_reviews  feedback  \n",
              "1308                        Love it. So great to use!!!         1  \n",
              "2210                                      Ease of usage         1  \n",
              "1157  Perfect! May favorite Alexa device by far, spe...         1  \n",
              "194   So far it has worked well. Not always intuitiv...         1  \n",
              "546                      it works good.  very satisfied         1  \n",
              "1452  I'm loving my new Echo Show. The video screen ...         1  \n",
              "1322  I got this on Prime day and figured I'd see wh...         1  \n",
              "908                                  Home entertainment         1  \n",
              "2845  This was an impulse buy but turns out I really...         1  \n",
              "790   We like it all so far, but have a lot to try o...         1  "
            ],
            "text/html": [
              "\n",
              "  <div id=\"df-3b350fdb-9c01-4c46-b293-08bafbec7be0\">\n",
              "    <div class=\"colab-df-container\">\n",
              "      <div>\n",
              "<style scoped>\n",
              "    .dataframe tbody tr th:only-of-type {\n",
              "        vertical-align: middle;\n",
              "    }\n",
              "\n",
              "    .dataframe tbody tr th {\n",
              "        vertical-align: top;\n",
              "    }\n",
              "\n",
              "    .dataframe thead th {\n",
              "        text-align: right;\n",
              "    }\n",
              "</style>\n",
              "<table border=\"1\" class=\"dataframe\">\n",
              "  <thead>\n",
              "    <tr style=\"text-align: right;\">\n",
              "      <th></th>\n",
              "      <th>rating</th>\n",
              "      <th>date</th>\n",
              "      <th>variation</th>\n",
              "      <th>verified_reviews</th>\n",
              "      <th>feedback</th>\n",
              "    </tr>\n",
              "  </thead>\n",
              "  <tbody>\n",
              "    <tr>\n",
              "      <th>1308</th>\n",
              "      <td>5</td>\n",
              "      <td>22-Jul-18</td>\n",
              "      <td>Black  Spot</td>\n",
              "      <td>Love it. So great to use!!!</td>\n",
              "      <td>1</td>\n",
              "    </tr>\n",
              "    <tr>\n",
              "      <th>2210</th>\n",
              "      <td>5</td>\n",
              "      <td>30-Jul-18</td>\n",
              "      <td>Configuration: Fire TV Stick</td>\n",
              "      <td>Ease of usage</td>\n",
              "      <td>1</td>\n",
              "    </tr>\n",
              "    <tr>\n",
              "      <th>1157</th>\n",
              "      <td>5</td>\n",
              "      <td>29-Jul-18</td>\n",
              "      <td>Black  Spot</td>\n",
              "      <td>Perfect! May favorite Alexa device by far, spe...</td>\n",
              "      <td>1</td>\n",
              "    </tr>\n",
              "    <tr>\n",
              "      <th>194</th>\n",
              "      <td>4</td>\n",
              "      <td>29-Jul-18</td>\n",
              "      <td>Heather Gray Fabric</td>\n",
              "      <td>So far it has worked well. Not always intuitiv...</td>\n",
              "      <td>1</td>\n",
              "    </tr>\n",
              "    <tr>\n",
              "      <th>546</th>\n",
              "      <td>5</td>\n",
              "      <td>15-Jun-18</td>\n",
              "      <td>White</td>\n",
              "      <td>it works good.  very satisfied</td>\n",
              "      <td>1</td>\n",
              "    </tr>\n",
              "    <tr>\n",
              "      <th>1452</th>\n",
              "      <td>5</td>\n",
              "      <td>30-Jul-18</td>\n",
              "      <td>Black  Show</td>\n",
              "      <td>I'm loving my new Echo Show. The video screen ...</td>\n",
              "      <td>1</td>\n",
              "    </tr>\n",
              "    <tr>\n",
              "      <th>1322</th>\n",
              "      <td>5</td>\n",
              "      <td>21-Jul-18</td>\n",
              "      <td>Black  Spot</td>\n",
              "      <td>I got this on Prime day and figured I'd see wh...</td>\n",
              "      <td>1</td>\n",
              "    </tr>\n",
              "    <tr>\n",
              "      <th>908</th>\n",
              "      <td>5</td>\n",
              "      <td>29-Jul-18</td>\n",
              "      <td>Charcoal Fabric</td>\n",
              "      <td>Home entertainment</td>\n",
              "      <td>1</td>\n",
              "    </tr>\n",
              "    <tr>\n",
              "      <th>2845</th>\n",
              "      <td>5</td>\n",
              "      <td>30-Jul-18</td>\n",
              "      <td>Black  Dot</td>\n",
              "      <td>This was an impulse buy but turns out I really...</td>\n",
              "      <td>1</td>\n",
              "    </tr>\n",
              "    <tr>\n",
              "      <th>790</th>\n",
              "      <td>5</td>\n",
              "      <td>30-Jul-18</td>\n",
              "      <td>Charcoal Fabric</td>\n",
              "      <td>We like it all so far, but have a lot to try o...</td>\n",
              "      <td>1</td>\n",
              "    </tr>\n",
              "  </tbody>\n",
              "</table>\n",
              "</div>\n",
              "      <button class=\"colab-df-convert\" onclick=\"convertToInteractive('df-3b350fdb-9c01-4c46-b293-08bafbec7be0')\"\n",
              "              title=\"Convert this dataframe to an interactive table.\"\n",
              "              style=\"display:none;\">\n",
              "        \n",
              "  <svg xmlns=\"http://www.w3.org/2000/svg\" height=\"24px\"viewBox=\"0 0 24 24\"\n",
              "       width=\"24px\">\n",
              "    <path d=\"M0 0h24v24H0V0z\" fill=\"none\"/>\n",
              "    <path d=\"M18.56 5.44l.94 2.06.94-2.06 2.06-.94-2.06-.94-.94-2.06-.94 2.06-2.06.94zm-11 1L8.5 8.5l.94-2.06 2.06-.94-2.06-.94L8.5 2.5l-.94 2.06-2.06.94zm10 10l.94 2.06.94-2.06 2.06-.94-2.06-.94-.94-2.06-.94 2.06-2.06.94z\"/><path d=\"M17.41 7.96l-1.37-1.37c-.4-.4-.92-.59-1.43-.59-.52 0-1.04.2-1.43.59L10.3 9.45l-7.72 7.72c-.78.78-.78 2.05 0 2.83L4 21.41c.39.39.9.59 1.41.59.51 0 1.02-.2 1.41-.59l7.78-7.78 2.81-2.81c.8-.78.8-2.07 0-2.86zM5.41 20L4 18.59l7.72-7.72 1.47 1.35L5.41 20z\"/>\n",
              "  </svg>\n",
              "      </button>\n",
              "      \n",
              "  <style>\n",
              "    .colab-df-container {\n",
              "      display:flex;\n",
              "      flex-wrap:wrap;\n",
              "      gap: 12px;\n",
              "    }\n",
              "\n",
              "    .colab-df-convert {\n",
              "      background-color: #E8F0FE;\n",
              "      border: none;\n",
              "      border-radius: 50%;\n",
              "      cursor: pointer;\n",
              "      display: none;\n",
              "      fill: #1967D2;\n",
              "      height: 32px;\n",
              "      padding: 0 0 0 0;\n",
              "      width: 32px;\n",
              "    }\n",
              "\n",
              "    .colab-df-convert:hover {\n",
              "      background-color: #E2EBFA;\n",
              "      box-shadow: 0px 1px 2px rgba(60, 64, 67, 0.3), 0px 1px 3px 1px rgba(60, 64, 67, 0.15);\n",
              "      fill: #174EA6;\n",
              "    }\n",
              "\n",
              "    [theme=dark] .colab-df-convert {\n",
              "      background-color: #3B4455;\n",
              "      fill: #D2E3FC;\n",
              "    }\n",
              "\n",
              "    [theme=dark] .colab-df-convert:hover {\n",
              "      background-color: #434B5C;\n",
              "      box-shadow: 0px 1px 3px 1px rgba(0, 0, 0, 0.15);\n",
              "      filter: drop-shadow(0px 1px 2px rgba(0, 0, 0, 0.3));\n",
              "      fill: #FFFFFF;\n",
              "    }\n",
              "  </style>\n",
              "\n",
              "      <script>\n",
              "        const buttonEl =\n",
              "          document.querySelector('#df-3b350fdb-9c01-4c46-b293-08bafbec7be0 button.colab-df-convert');\n",
              "        buttonEl.style.display =\n",
              "          google.colab.kernel.accessAllowed ? 'block' : 'none';\n",
              "\n",
              "        async function convertToInteractive(key) {\n",
              "          const element = document.querySelector('#df-3b350fdb-9c01-4c46-b293-08bafbec7be0');\n",
              "          const dataTable =\n",
              "            await google.colab.kernel.invokeFunction('convertToInteractive',\n",
              "                                                     [key], {});\n",
              "          if (!dataTable) return;\n",
              "\n",
              "          const docLinkHtml = 'Like what you see? Visit the ' +\n",
              "            '<a target=\"_blank\" href=https://colab.research.google.com/notebooks/data_table.ipynb>data table notebook</a>'\n",
              "            + ' to learn more about interactive tables.';\n",
              "          element.innerHTML = '';\n",
              "          dataTable['output_type'] = 'display_data';\n",
              "          await google.colab.output.renderOutput(dataTable, element);\n",
              "          const docLink = document.createElement('div');\n",
              "          docLink.innerHTML = docLinkHtml;\n",
              "          element.appendChild(docLink);\n",
              "        }\n",
              "      </script>\n",
              "    </div>\n",
              "  </div>\n",
              "  "
            ]
          },
          "metadata": {},
          "execution_count": 19
        }
      ]
    },
    {
      "cell_type": "code",
      "source": [
        "class Cleantext:\n",
        "  ''' \n",
        "  This class allows you to perform some cleaning of text data.  \n",
        "  '''\n",
        "  def __init__(self, data, text):\n",
        "    # attributed (instance variables)\n",
        "    self.data = data\n",
        "    self.text = text\n",
        "    self.punctuations = string.punctuation\n",
        "    self.stop_words = spacy.lang.en.stop_words.STOP_WORDS\n",
        "    \n",
        "\n",
        "\n",
        "  # Behavior (instance methods)\n",
        "  def todate(self):\n",
        "    ''' \n",
        "    Change the date to datetime\n",
        "    ''' \n",
        "    self.data[\"date\"] = pd.to_datetime(self.data[\"date\"])\n",
        "    self.data.info()\n"
      ],
      "metadata": {
        "id": "WAf5AHkRtWOi"
      },
      "execution_count": null,
      "outputs": []
    },
    {
      "cell_type": "code",
      "source": [
        "testA = Cleantext(df, df['verified_reviews'])\n",
        "\n",
        "testA.todate()"
      ],
      "metadata": {
        "colab": {
          "base_uri": "https://localhost:8080/"
        },
        "id": "6LI7u1a0uC6Q",
        "outputId": "c8f6aef3-8df4-473f-b1c8-4a8082245399"
      },
      "execution_count": null,
      "outputs": [
        {
          "output_type": "stream",
          "name": "stdout",
          "text": [
            "<class 'pandas.core.frame.DataFrame'>\n",
            "RangeIndex: 3150 entries, 0 to 3149\n",
            "Data columns (total 5 columns):\n",
            " #   Column            Non-Null Count  Dtype         \n",
            "---  ------            --------------  -----         \n",
            " 0   rating            3150 non-null   int64         \n",
            " 1   date              3150 non-null   datetime64[ns]\n",
            " 2   variation         3150 non-null   object        \n",
            " 3   verified_reviews  3150 non-null   object        \n",
            " 4   feedback          3150 non-null   int64         \n",
            "dtypes: datetime64[ns](1), int64(2), object(2)\n",
            "memory usage: 123.2+ KB\n"
          ]
        }
      ]
    },
    {
      "cell_type": "code",
      "source": [
        "class sentence:\n",
        "  ''' \n",
        "  This class allows you to perform some cleaning of text data.  \n",
        "  '''\n",
        "  def __init__(self, sentence):\n",
        "    # attributed (instance variables)\n",
        "    self.sentence = sentence\n",
        "    self.punctuations = string.punctuation #list of all punctuations possible\n",
        "    self.stop_words = spacy.lang.en.stop_words.STOP_WORDS #list of stopwords\n",
        "    \n",
        "  def __repr__(self):\n",
        "    return self.sentence\n",
        "    \n",
        "  def spacy_tokenizer(self):\n",
        "\n",
        "      sp = spacy.load('en_core_web_sm') \n",
        "      mytokens = sp(self.sentence)\n",
        "      stop_words = self.stop_words #list of stopwords\n",
        "      punctuations = self.punctuations #list of all punctuations possible\n",
        "\n",
        "      mytokens = [ word.lemma_.lower().strip() for word in mytokens ]\n",
        "      mytokens = [ word for word in mytokens if word not in self.stop_words and word not in self.punctuations ]\n",
        "      self.tokens = mytokens\n",
        "      return mytokens\n",
        "\n",
        "  def lowercase(self):\n",
        "    self.sentence = self.sentence.lower()\n",
        "    return self.sentence\n",
        "\n"
      ],
      "metadata": {
        "id": "cujtefnzwz03"
      },
      "execution_count": null,
      "outputs": []
    },
    {
      "cell_type": "code",
      "source": [
        "test = sentence(\"Perfect for kids, adults and everyone in betw\")\n",
        "#test.spacy_tokenizer()\n",
        "test.lowercase()"
      ],
      "metadata": {
        "colab": {
          "base_uri": "https://localhost:8080/",
          "height": 37
        },
        "id": "HamPQBynzbB0",
        "outputId": "fd91e8cb-bced-4f46-f77d-25a2c7fad6be"
      },
      "execution_count": null,
      "outputs": [
        {
          "output_type": "execute_result",
          "data": {
            "text/plain": [
              "'perfect for kids, adults and everyone in betw'"
            ],
            "application/vnd.google.colaboratory.intrinsic+json": {
              "type": "string"
            }
          },
          "metadata": {},
          "execution_count": 23
        }
      ]
    },
    {
      "cell_type": "code",
      "source": [],
      "metadata": {
        "id": "Raly7zka0JWI"
      },
      "execution_count": null,
      "outputs": []
    }
  ]
}