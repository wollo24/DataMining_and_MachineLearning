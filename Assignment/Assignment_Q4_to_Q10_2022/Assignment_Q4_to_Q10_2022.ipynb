{
  "nbformat": 4,
  "nbformat_minor": 0,
  "metadata": {
    "colab": {
      "provenance": [],
      "collapsed_sections": []
    },
    "kernelspec": {
      "name": "python3",
      "display_name": "Python 3"
    },
    "language_info": {
      "name": "python"
    }
  },
  "cells": [
    {
      "cell_type": "markdown",
      "source": [
        "#**Data Mining and Machine Learning - Assignment questions 4 to 10**\n"
      ],
      "metadata": {
        "id": "bq5eu0FV_Isz"
      }
    },
    {
      "cell_type": "markdown",
      "source": [
        "**Due: Sunday November 13rd, 23:59**"
      ],
      "metadata": {
        "id": "ACFR7olH_lfo"
      }
    },
    {
      "cell_type": "markdown",
      "source": [
        "This is the following part of your graded assignement. You will receive only one grade at the end. \n",
        "\n",
        "To complete the assignment you have to do both:\n",
        "\n",
        "1.   Complete the exercises and submit your Python notebook\n",
        "2.   Answer the questions to the quiz on Moodle \n",
        "\n",
        "> Note: You can only complete the quiz *one time*. Have your notebook ready with your solutions for answering the quiz.\n",
        "\n",
        "The answers to the quiz should be supported by your code in the notebook. If they are not you will not receive points for them.\n",
        "\n",
        "\n",
        "**IMPORTANT!** You can discuss the questions with other students but **do not exchange code!** This is individual work. We will run your code and check for similarities.\n",
        "\n",
        "\n",
        "You can post your questions in [slack channel](https://join.slack.com/t/dataminingand-dy12624/shared_invite/zt-1fah1gpfa-qAzj~JaF_0igZ_hhfMcBBw) #assignment_questions.\n",
        "\n",
        "\n",
        "If there is need for further clarifications on the questions, after the assignment is released, we will update this file on GitHub, so make sure you check the git repo for updates.\n",
        "\n",
        "\n",
        "To get started, run the first few cells to load the dataset and then check out the questions.\n",
        "\n",
        "\n",
        "Good luck!"
      ],
      "metadata": {
        "id": "-oJKUI-iAI9Y"
      }
    },
    {
      "cell_type": "code",
      "source": [
        "# Import required packages\n",
        "\n",
        "%matplotlib inline\n",
        "import numpy as np\n",
        "import matplotlib.pyplot as plt\n",
        "import pandas as pd \n",
        "import seaborn as sns\n",
        "sns.set_style(\"whitegrid\")\n",
        "\n",
        "# import some additional packages\n",
        "from sklearn.preprocessing import OrdinalEncoder, OneHotEncoder, LabelEncoder\n",
        "from sklearn.linear_model import LogisticRegression, LogisticRegressionCV\n",
        "from sklearn.model_selection import train_test_split\n",
        "from sklearn.metrics import confusion_matrix, accuracy_score, precision_score, recall_score, f1_score\n",
        "from sklearn. preprocessing import StandardScaler"
      ],
      "metadata": {
        "id": "NlqRPWlkBEwY"
      },
      "execution_count": 4,
      "outputs": []
    },
    {
      "cell_type": "markdown",
      "source": [
        "\n",
        "\n",
        "**Important!** : For all the questions below, fix the seed of random generators to 50.\n"
      ],
      "metadata": {
        "id": "uF_GvvxDBPUw"
      }
    },
    {
      "cell_type": "code",
      "source": [
        "np.random.seed = 50"
      ],
      "metadata": {
        "id": "jcBIpwQWBS9n"
      },
      "execution_count": 5,
      "outputs": []
    },
    {
      "cell_type": "markdown",
      "source": [
        "# **Classification**\n",
        "\n",
        "For the first part we use the airline passenger satisfaction data of several customers. The dataset contains information (categorical and numerical) on these individuals such as:\n",
        "\n",
        "*   Gender: Male or Female  \n",
        "*   customer_type: How loyal is a customer\n",
        "*   age: the age of the customer \n",
        "*   type_of_travel: the purpose of the travel \n",
        "*   customer_class: the class of the seat \n",
        "*   flight_distance: the distance in km\n",
        "*   inflight_wifi_service: the level of wifi service satisfaction \n",
        "*   departure_arrival_time_convenient: satisfaction level\n",
        "*   ease_of_online_booking: satisfaction level  \n",
        "*   gate_location: satisfaction level  \n",
        "*   food_and_drink: satisfaction level \n",
        "*   online_boarding: satisfaction level \n",
        "*   seat_confort: satisfaction level \n",
        "*   inflight_entertainment: satisfaction level \n",
        "*   onboard_service: satisfaction level \n",
        "*   leg_room_service: satisfaction level\n",
        "*   baggage handling: satisfaction level \n",
        "*   checkin_service: satisfaction level \n",
        "*   inflight_service: satisfaction level \n",
        "*   cleanliness: satisfaction level\n",
        "*   departure_delay_in_minutes: number of minutes the flight departure has been delayed \n",
        "*   arrival_delay_in_minutes: number of minutes the flight arrival has been delayed\n",
        "*   satisfaction: response variable \n",
        "\n",
        "<br> \n",
        "**The task is to build several models which predict whether a customer is \"satisfied\" or \"neutral or dissatisfied\" by the flight given a new individual and its feature values. Then you will have to compare these models between them.**\n",
        "\n"
      ],
      "metadata": {
        "id": "zLiZ2cZuBZB0"
      }
    },
    {
      "cell_type": "markdown",
      "source": [
        "## 4. Load the data "
      ],
      "metadata": {
        "id": "ptqxVPKWjxZL"
      }
    },
    {
      "cell_type": "code",
      "source": [
        "# Load data\n",
        "df = pd.read_csv('airline_passenger_satisfaction.csv', index_col='Unnamed: 0')"
      ],
      "metadata": {
        "id": "q4n2uG9qjtj9"
      },
      "execution_count": 6,
      "outputs": []
    },
    {
      "cell_type": "markdown",
      "source": [
        "### 4.1. How many rows and columns does the dataset have?"
      ],
      "metadata": {
        "id": "HZvNdqggnLj6"
      }
    },
    {
      "cell_type": "code",
      "source": [
        "# YOUR CODE HERE \n"
      ],
      "metadata": {
        "id": "i5L4WAY2nJzn"
      },
      "execution_count": 7,
      "outputs": []
    },
    {
      "cell_type": "markdown",
      "source": [
        "### 4.2. Is there any NAs value in the dataset ? (YES/NO) \n",
        "\n",
        "> If there is any missing values in this dataset, you should filled them by using the mean of the others values from that column. \n",
        "\n",
        "\n",
        "\n"
      ],
      "metadata": {
        "id": "4M2a2dXA_tG2"
      }
    },
    {
      "cell_type": "code",
      "source": [
        "# YOUR CODE HERE "
      ],
      "metadata": {
        "id": "UmextIyHAycm"
      },
      "execution_count": 8,
      "outputs": []
    },
    {
      "cell_type": "code",
      "source": [
        "# YOUR CODE HERE (if there is any missing values)"
      ],
      "metadata": {
        "id": "QFLzwljjuoxT"
      },
      "execution_count": 9,
      "outputs": []
    },
    {
      "cell_type": "markdown",
      "source": [
        "### 4.3. What is the average departure delay ? \n"
      ],
      "metadata": {
        "id": "Of53feuu153X"
      }
    },
    {
      "cell_type": "code",
      "source": [
        "# YOUR CODE HERE"
      ],
      "metadata": {
        "id": "dyHTAGhi2N6b"
      },
      "execution_count": 10,
      "outputs": []
    },
    {
      "cell_type": "markdown",
      "source": [
        "\n",
        "### 4.4. Looking at the `type_of_travel` column, calculate and show the frequency of each class in the total dataset.\n",
        "> There are two classes : \"Business travel\" and \"Personal Travel\"\n",
        "\n"
      ],
      "metadata": {
        "id": "COFkHw_ZTQQQ"
      }
    },
    {
      "cell_type": "code",
      "source": [
        "# YOUR CODE HERE"
      ],
      "metadata": {
        "id": "K_EOyEbfTZGt"
      },
      "execution_count": 11,
      "outputs": []
    },
    {
      "cell_type": "markdown",
      "source": [
        "## 5. Encode categorical variables\n",
        "\n",
        "For the following categorical features:\n",
        " \n",
        "*   encode `Gender` and `type_of_travel` with a label encoder \n",
        "*   encode `customer_class` with an ordinal encoder \n",
        "*   encode `customer_type` with one hot encoding\n",
        "*   also encode the labels of your dependent variable (y) named `satisfaction` to have [0, 1] labels instead of [\"neutral or dissatisfied\" ; \"satisfied\" ].\n",
        "\n"
      ],
      "metadata": {
        "id": "-qYSC3zLulVS"
      }
    },
    {
      "cell_type": "markdown",
      "source": [
        "### 5.1. Use a *Label Encoder* to encode `Gender`and `type_of_travel` as new columns named \"le_Gender\" and \"le_type_of_travel\" respectively."
      ],
      "metadata": {
        "id": "ryul-rVI8B2z"
      }
    },
    {
      "cell_type": "code",
      "source": [
        "# YOUR CODE HERE"
      ],
      "metadata": {
        "id": "LAOabb-iU_rx"
      },
      "execution_count": 12,
      "outputs": []
    },
    {
      "cell_type": "code",
      "source": [
        "# YOUR CODE HERE"
      ],
      "metadata": {
        "id": "bAubfncwVHuw"
      },
      "execution_count": 13,
      "outputs": []
    },
    {
      "cell_type": "markdown",
      "source": [
        "### 5.2. Use an *Ordinal Encoder* to encode `customer_class` as a new column named \"oe_customer_class\". \n",
        "> For the ordinal encoding you should set your own dictionary such that `Eco` corresponds to 0, 1 to `Eco Plus` and 2 to `Business`. \n"
      ],
      "metadata": {
        "id": "B6S_Z1pH-2Yn"
      }
    },
    {
      "cell_type": "code",
      "source": [
        "# YOUR CODE HERE"
      ],
      "metadata": {
        "id": "YsgBPW3n_VhW"
      },
      "execution_count": 14,
      "outputs": []
    },
    {
      "cell_type": "code",
      "source": [],
      "metadata": {
        "id": "2eHuS6rjH4FD"
      },
      "execution_count": 14,
      "outputs": []
    },
    {
      "cell_type": "code",
      "source": [],
      "metadata": {
        "id": "RUD7kl0HH5BU"
      },
      "execution_count": 14,
      "outputs": []
    },
    {
      "cell_type": "markdown",
      "source": [
        "### 5.3. Une *One Hot Encoding* to encode the `customer_type` column"
      ],
      "metadata": {
        "id": "krBsFP2MIUM7"
      }
    },
    {
      "cell_type": "code",
      "source": [
        "# YOUR CODE HERE\n"
      ],
      "metadata": {
        "id": "23evPjp0sRU9"
      },
      "execution_count": 15,
      "outputs": []
    },
    {
      "cell_type": "markdown",
      "source": [
        "### 5.4. Use a *Label Encoder* to encode the dependent variable `satisfaction` as a new column named \"le_satisfaction\". "
      ],
      "metadata": {
        "id": "5o6Qv6WGfBrC"
      }
    },
    {
      "cell_type": "code",
      "source": [
        "# YOUR CODE HERE\n"
      ],
      "metadata": {
        "id": "lHgjQmVGfC9T"
      },
      "execution_count": 16,
      "outputs": []
    },
    {
      "cell_type": "markdown",
      "source": [
        "### 5.5. Concatenate all the newly encoded features to the initial dataframe and create a new data named `data`. \n",
        "\n",
        "> You can use the `pd.concat`function. \n",
        "\n",
        "The newly encoded features are:\n",
        "\n",
        "*   \"le_Gender\",\n",
        "*   \"le_type_of_travel\",\n",
        "*   \"oe_customer_class\", \n",
        "*   the hot-encoded column `customer_type`, which should have been separated as (for example):\n",
        "  *   \"Loyal_Customer\"\n",
        "  *   \"disloyal_Customer\"\n",
        "*   and \"le_satisfaction\" \n",
        "\n",
        "Hint: You should have a total of 29 features in the concatenated dataset.\n",
        "\n"
      ],
      "metadata": {
        "id": "ziOKfcoQtBvY"
      }
    },
    {
      "cell_type": "code",
      "source": [
        "# YOUR CODE HERE\n"
      ],
      "metadata": {
        "id": "dad86VPAuawi"
      },
      "execution_count": 17,
      "outputs": []
    },
    {
      "cell_type": "markdown",
      "source": [
        "## 6. Train a Logistic Regression with Standardisation and Cross Validation\n",
        "\n",
        "For this section, train a logistic regression model with cross-validation and the use of standardisation on the Airline Passenger Satisfaction dataset.\n",
        "\n",
        "*   Use all of the independent variable features  available from the concatenated dataset from question 5.5. (named `data`).\n",
        "*   Your dependent variable (y) is the column named \"satisfaction\", but we will use the encoded column \"le_satisfaction\".\n",
        "*   Standardize only the numerical features (not the categorical features) to have mean of 0 and standad deviation of 1. \n"
      ],
      "metadata": {
        "id": "T0yHzgcA5X-L"
      }
    },
    {
      "cell_type": "markdown",
      "source": [
        "### 6.1. Determine your dependent variable as `y` and your set of independent variables as `X`. \n",
        "\n",
        "> `X` should have 23 features: \n",
        "<br> \"age\", \"flight_distance\", \"inflight_wifi_service\", \"departure_arrival_time_convenient\", \"ease_of_online_booking\", \"gate_location\", \"food_and_drink\", \"online_boarding\", \"seat_comfort\", \"inflight_entertainment\", \"onboard_service\", \"leg_room_service\", \"baggage_handling\", \"checkin_service\", \"inflight_service\", \"cleanliness\", \"departure_delay_in_minutes\", \"arrival_delay_in_minutes\", \"le_Gender\", \"le_type_of_travel\", \"oe_customer_class\",  \t\"Loyal_Customer\" and \"disloyal_Customer\". "
      ],
      "metadata": {
        "id": "0gVaJXjOlCmD"
      }
    },
    {
      "cell_type": "code",
      "source": [
        "# YOUR CODE HERE\n"
      ],
      "metadata": {
        "id": "TmP4KjDBnQsG"
      },
      "execution_count": 18,
      "outputs": []
    },
    {
      "cell_type": "markdown",
      "source": [
        "### 6.2. Train/test splitting: split the data into 80% training and 20% test set. Remember to set the random seed to 50."
      ],
      "metadata": {
        "id": "qMeZPl2u6bFT"
      }
    },
    {
      "cell_type": "code",
      "source": [
        "# YOUR CODE HERE\n"
      ],
      "metadata": {
        "id": "Az-Z4JLD6bFU"
      },
      "execution_count": 19,
      "outputs": []
    },
    {
      "cell_type": "markdown",
      "source": [
        "### 6.3. Standardize numerical features only. They should have a mean of 0 and a standard deviation of 1. \n",
        "\n",
        "The numerical features are: \n",
        "\n",
        "*   age\n",
        "*   flight_distance\n",
        "*   departure_delay_in_minutes\n",
        "*   arrival_delay_in_minutes\n",
        "\n",
        "> You can use the Scikit-learn `StandardScaler` function.\n",
        "\n",
        "> You are now still working with the dataset named `data`. You do not nead to do the traning and testing sets splitting. You will use the one previously defined under question 6.2. "
      ],
      "metadata": {
        "id": "pp46W51c6zPd"
      }
    },
    {
      "cell_type": "code",
      "source": [
        "# import some additional packages \n",
        "from sklearn.compose import ColumnTransformer"
      ],
      "metadata": {
        "id": "goft7fje8yBi"
      },
      "execution_count": 20,
      "outputs": []
    },
    {
      "cell_type": "code",
      "source": [],
      "metadata": {
        "id": "1hBuUT0B8BNi"
      },
      "execution_count": 20,
      "outputs": []
    },
    {
      "cell_type": "code",
      "source": [
        "# YOUR CODE HERE\n"
      ],
      "metadata": {
        "id": "beKcRcpM8heJ"
      },
      "execution_count": 21,
      "outputs": []
    },
    {
      "cell_type": "code",
      "source": [],
      "metadata": {
        "id": "VhsdTksN9epH"
      },
      "execution_count": 21,
      "outputs": []
    },
    {
      "cell_type": "markdown",
      "source": [
        "### 6.4. Training: train a Logistic Regression model with cross validation on the standardized features (done on point 6.3.). I remind you that these features came from the dataset named `data` that you created on point 5.5. \n",
        "### Use the following parameters for the `LogisticRegressionCV()`: \n",
        "\n",
        "*   Use the solver `lbfgs`\n",
        "*   Set the cross-validation to 5 folds\n",
        "*   Set the maximum interation to 1000\n",
        "*   Set the random state to 50\n"
      ],
      "metadata": {
        "id": "iSOUYP269odA"
      }
    },
    {
      "cell_type": "code",
      "source": [
        "# YOUR CODE HERE\n"
      ],
      "metadata": {
        "id": "ru2CotSf90zC"
      },
      "execution_count": 22,
      "outputs": []
    },
    {
      "cell_type": "markdown",
      "source": [
        "### 6.5. Compute the Base Rate (Default Rate) over the full size of the dataset named `data` (created on question 5.5) to determine whether the accuracy you found is good or bad. \n",
        "> Base Rate = (most frequent class) / (total observations)\n"
      ],
      "metadata": {
        "id": "Uu5WUCwQ7K5Y"
      }
    },
    {
      "cell_type": "code",
      "source": [
        "# YOUR CODE HERE\n"
      ],
      "metadata": {
        "id": "zX0LXJJE7K5Z"
      },
      "execution_count": 23,
      "outputs": []
    },
    {
      "cell_type": "markdown",
      "source": [
        "### 6.6. Accuracy: What is the test accuracy? What is the train accuracy?"
      ],
      "metadata": {
        "id": "L9JfHA9T_OP-"
      }
    },
    {
      "cell_type": "code",
      "source": [
        "# YOUR CODE HERE\n"
      ],
      "metadata": {
        "id": "abK-nRmv_OP_"
      },
      "execution_count": 24,
      "outputs": []
    },
    {
      "cell_type": "code",
      "source": [
        "# YOUR CODE HERE\n"
      ],
      "metadata": {
        "id": "1w__5vWC_OQB"
      },
      "execution_count": 25,
      "outputs": []
    },
    {
      "cell_type": "markdown",
      "source": [
        "### 6.7. Plot the confusion matrix for the test data. Based on the outcome, determine what how many observations are False Negative and how many are True Positive. "
      ],
      "metadata": {
        "id": "jlqKFIUG_4gm"
      }
    },
    {
      "cell_type": "code",
      "source": [
        "# YOUR CODE HERE\n"
      ],
      "metadata": {
        "id": "qgsQ9UK8_4go"
      },
      "execution_count": 26,
      "outputs": []
    },
    {
      "cell_type": "markdown",
      "source": [
        "### 6.8. Calculate the precision and recall on the test set."
      ],
      "metadata": {
        "id": "Z-mkS7Vv_4gp"
      }
    },
    {
      "cell_type": "code",
      "source": [
        "# YOUR CODE HERE\n"
      ],
      "metadata": {
        "id": "PrJZhTTn_4gp"
      },
      "execution_count": 27,
      "outputs": []
    },
    {
      "cell_type": "code",
      "source": [
        "# YOUR CODE HERE\n"
      ],
      "metadata": {
        "id": "W5aocn80_4gs"
      },
      "execution_count": 28,
      "outputs": []
    },
    {
      "cell_type": "markdown",
      "source": [
        "\n",
        "### 6.9. Use the logistic regression model with standardisation and cross validation to predict whether a customer with the following characteristics is satisfied or not:\n",
        " \n",
        "> The customer is a man, a disloyal customer and is aged of 35 years old. His flight is for a business travel, and his company bought him a seat in Eco Plus class. The flight distance is of 2360km, he gave: \n",
        "*   3 for the inflight wifi service \n",
        "*   4 for the departure arrival time convenience \n",
        "*   2 for the ease of online booking\n",
        "*   2 for the gate location \n",
        "*   5 for the food and drink\n",
        "*   1 for the online boarding \n",
        "*   4 for the seat confort \n",
        "*   0 for the inflight entertainment\n",
        "*   4 for the onboard service \n",
        "*   3 for the leg room service \n",
        "*   4 for the baggage handling \n",
        "*   2 for the check-in service \n",
        "*   2 for the inflight service \n",
        "*   4 for the cleanliness \n",
        "\n",
        "> In addition to that, there were a departure delay of 20 minutes and an arrival delay of 10 minutes. \n",
        "   \n",
        "\n"
      ],
      "metadata": {
        "id": "1c0CaeWMAnBB"
      }
    },
    {
      "cell_type": "code",
      "source": [
        "# YOUR CODE HERE\n"
      ],
      "metadata": {
        "id": "tV_Mr__lEJYG"
      },
      "execution_count": 29,
      "outputs": []
    },
    {
      "cell_type": "code",
      "source": [],
      "metadata": {
        "id": "B6aO6gMlEZF2"
      },
      "execution_count": 29,
      "outputs": []
    },
    {
      "cell_type": "code",
      "source": [],
      "metadata": {
        "id": "OhOHwpqxGpg7"
      },
      "execution_count": 29,
      "outputs": []
    },
    {
      "cell_type": "markdown",
      "source": [
        "\n",
        "### 7. K-Nearest Neighbour (KNN) with standardisation\n",
        "\n",
        "In this part, build a K-Nearest Neighbour model with the use of the same standardized values you have previously used in question 6. \n",
        "\n",
        "You will not need to do the Train/Test splitting again. Use the previously standardized values from question 6.3. "
      ],
      "metadata": {
        "id": "zVNgoPAGG743"
      }
    },
    {
      "cell_type": "code",
      "source": [
        "# import some additional packages \n",
        "from sklearn.neighbors import KNeighborsClassifier\n",
        "from sklearn.model_selection import GridSearchCV"
      ],
      "metadata": {
        "id": "QPAetpRLKBn-"
      },
      "execution_count": 30,
      "outputs": []
    },
    {
      "cell_type": "markdown",
      "source": [
        "### 7.1. Use `GridSearchCV` from *sklearn.model_selection* to find the best value of `k` that should be used for the K-Nearest Neighbours (KNN) algorithm. \n",
        "\n",
        "*   Use a range value of hyperparmeter `k` from 1 to 6. This range is a parameter used by the `GridSearchCV` to define the best value of `k`. \n",
        "*   Set the cross-validation to 5 folds. \n",
        "*   Set `scoring='accuracy', 'return_train_score=False', verbose=1\n",
        "\n",
        "> Your code might take some time to run. "
      ],
      "metadata": {
        "id": "yJa658S8LIJi"
      }
    },
    {
      "cell_type": "code",
      "source": [
        "# YOUR CODE HERE "
      ],
      "metadata": {
        "id": "VbHXFPUVLu-3"
      },
      "execution_count": 31,
      "outputs": []
    },
    {
      "cell_type": "code",
      "source": [],
      "metadata": {
        "id": "_c_Q-ueqTCsR"
      },
      "execution_count": 31,
      "outputs": []
    },
    {
      "cell_type": "code",
      "source": [],
      "metadata": {
        "id": "zxdNsRfWUlML"
      },
      "execution_count": 31,
      "outputs": []
    },
    {
      "cell_type": "markdown",
      "source": [
        "### 7.2. Train a model using a K-Nearest Neighbours (KNN) algorithm, setting `knn = KNeighborsClassifier(n_neighbors=5)`.\n",
        "\n",
        "> *   Use the same feature as the standardised logistic regression above. It should be the standardized features from question 6.3. \n",
        "*   So, you do no need to do the Train/test split again. "
      ],
      "metadata": {
        "id": "T_hqSjuBH6se"
      }
    },
    {
      "cell_type": "code",
      "source": [
        "# YOUR CODE HERE"
      ],
      "metadata": {
        "id": "zQue-CHIJ8XA"
      },
      "execution_count": 32,
      "outputs": []
    },
    {
      "cell_type": "markdown",
      "source": [
        "\n",
        "### 7.3. Accuracy: What is the test accuracy? What is the train accuracy?\n",
        "\n",
        "\n"
      ],
      "metadata": {
        "id": "Q094vb4xOzp-"
      }
    },
    {
      "cell_type": "code",
      "source": [
        "# YOUR CODE HERE"
      ],
      "metadata": {
        "id": "zmTxMUyPPD4o"
      },
      "execution_count": 33,
      "outputs": []
    },
    {
      "cell_type": "code",
      "source": [
        "# YOUR CODE HERE"
      ],
      "metadata": {
        "id": "Xifl20TzPD4q"
      },
      "execution_count": 34,
      "outputs": []
    },
    {
      "cell_type": "markdown",
      "source": [
        "### 7.4. Plot the confusion matrix for the test data. Based on the outcome, determine what how many observations are False Negative and how many are True Negative."
      ],
      "metadata": {
        "id": "VW2Osq4RQULW"
      }
    },
    {
      "cell_type": "code",
      "source": [
        "# YOUR CODE HERE"
      ],
      "metadata": {
        "id": "vY4kwRd-RpDh"
      },
      "execution_count": 35,
      "outputs": []
    },
    {
      "cell_type": "markdown",
      "source": [
        "\n",
        "### 7.5. Calculate the precision and recall on the test set.\n",
        "\n",
        "\n"
      ],
      "metadata": {
        "id": "1w-SdEpyPzaT"
      }
    },
    {
      "cell_type": "code",
      "source": [
        "# YOUR CODE HERE"
      ],
      "metadata": {
        "id": "WaZxpwBaRyzL"
      },
      "execution_count": 36,
      "outputs": []
    },
    {
      "cell_type": "code",
      "source": [
        "# YOUR CODE HERE"
      ],
      "metadata": {
        "id": "JMDvou0GRyzM"
      },
      "execution_count": 37,
      "outputs": []
    },
    {
      "cell_type": "markdown",
      "source": [
        "### 7.6. Use the K-Nearest Neighbours algorithm with standardisation to predict whether a customer with the following characteristics is satisfied or not:\n",
        "The new customer is the same as before in question 6.9. The values are rewritten here. \n",
        "\n",
        "> The customer is a man, a disloyal customer and is aged of 35 years old. His flight is for a business travel, and his company bought him a seat in Eco Plus class. The flight distance is of 2360km, he gave: \n",
        "*   3 for the inflight wifi service \n",
        "*   4 for the departure arrival time convenience \n",
        "*   2 for the ease of online booking\n",
        "*   2 for the gate location \n",
        "*   5 for the food and drink\n",
        "*   1 for the online boarding \n",
        "*   4 for the seat confort \n",
        "*   0 for the inflight entertainment\n",
        "*   4 for the onboard service \n",
        "*   3 for the leg room service \n",
        "*   4 for the baggage handling \n",
        "*   2 for the check-in service \n",
        "*   2 for the inflight service \n",
        "*   4 for the cleanliness \n",
        "\n",
        "> In addition to that, there were a departure delay of 20 minutes and an arrival delay of 10 minutes."
      ],
      "metadata": {
        "id": "I7A6v2o3QmTi"
      }
    },
    {
      "cell_type": "code",
      "source": [
        "# YOUR CODE HERE"
      ],
      "metadata": {
        "id": "ZCrT0IpZSa0o"
      },
      "execution_count": 38,
      "outputs": []
    },
    {
      "cell_type": "code",
      "source": [
        "# YOUR CODE HERE"
      ],
      "metadata": {
        "id": "ycOfhSohS68g"
      },
      "execution_count": 39,
      "outputs": []
    },
    {
      "cell_type": "code",
      "source": [
        "# YOUR CODE HERE"
      ],
      "metadata": {
        "id": "f_uTuuPHVMsq"
      },
      "execution_count": 40,
      "outputs": []
    },
    {
      "cell_type": "markdown",
      "source": [
        "## 8. Decision Tree Classifier with Standardisation\n",
        "In this part, build a Decision Tree Classifier with the use of the same standardized values you have previously done in question 6 and 7.\n",
        "\n",
        "You will not need to do the Train/Test splitting again. Use the previously standardized values from question 6.3.  "
      ],
      "metadata": {
        "id": "mO4RkhDNVaOU"
      }
    },
    {
      "cell_type": "code",
      "source": [
        "# import some additional packages \n",
        "from sklearn.tree import DecisionTreeClassifier, plot_tree\n",
        "from sklearn.model_selection import cross_val_score"
      ],
      "metadata": {
        "id": "bm8zL31qVuYD"
      },
      "execution_count": 41,
      "outputs": []
    },
    {
      "cell_type": "markdown",
      "source": [
        "### 8.1. Using the below functions `run_cross_validation_on_trees` and `plot_cross_validation_on_trees`, compute and determine the optimal parameter for the maximal depth of the Decision Tree Classifier. \n",
        "\n",
        "\n",
        "\n",
        "*   `run_cross_validation_on_trees` is a function that allows to compute several Decision Tree Classification and their metrics (scores mean, scores standard deviation and accuracy scores) \n",
        "*   `plot_cross_validation_on_trees` is a function that plots the accuracies against the number of maximal depth. \n",
        "\n",
        "> *   Define a tree depth range from 1 to 25 for the `run_cross_validation_on_trees` function. \n",
        "> *   You should perform these functions on the standardized features of the dataset named `data` done on point 5.5. "
      ],
      "metadata": {
        "id": "79Z2B7JATqfI"
      }
    },
    {
      "cell_type": "code",
      "source": [
        "# function for fitting trees of various depths on the training data using cross-validation\n",
        "def run_cross_validation_on_trees(X, y, tree_depths, cv=5, scoring='accuracy'):\n",
        "    cv_scores_list = []\n",
        "    cv_scores_std = []\n",
        "    cv_scores_mean = []\n",
        "    accuracy_scores = []\n",
        "    for depth in tree_depths:\n",
        "        tree_model = DecisionTreeClassifier(max_depth=depth)\n",
        "        cv_scores = cross_val_score(tree_model, X, y, cv=cv, scoring=scoring)\n",
        "        cv_scores_list.append(cv_scores)\n",
        "        cv_scores_mean.append(cv_scores.mean())\n",
        "        cv_scores_std.append(cv_scores.std())\n",
        "        accuracy_scores.append(tree_model.fit(X, y).score(X, y))\n",
        "    cv_scores_mean = np.array(cv_scores_mean)\n",
        "    cv_scores_std = np.array(cv_scores_std)\n",
        "    accuracy_scores = np.array(accuracy_scores)\n",
        "    return cv_scores_mean, cv_scores_std, accuracy_scores\n",
        "\n",
        "def plot_cross_validation_on_trees(depths, cv_scores_mean, cv_scores_std, accuracy_scores, title):\n",
        "    fig, ax = plt.subplots(1,1, figsize=(15,5))\n",
        "    ax.plot(depths, cv_scores_mean, '-o', label='mean cross-validation accuracy', alpha=0.9)\n",
        "    ax.fill_between(depths, cv_scores_mean-2*cv_scores_std, cv_scores_mean+2*cv_scores_std, alpha=0.2)\n",
        "    ylim = plt.ylim()\n",
        "    ax.plot(depths, accuracy_scores, '-*', label='train accuracy', alpha=0.9)\n",
        "    ax.set_title(title, fontsize=16)\n",
        "    ax.set_xlabel('Tree depth', fontsize=14)\n",
        "    ax.set_ylabel('Accuracy', fontsize=14)\n",
        "    ax.set_ylim(ylim)\n",
        "    ax.set_xticks(depths)\n",
        "    ax.legend()"
      ],
      "metadata": {
        "id": "DadRTrRcNq7n"
      },
      "execution_count": 42,
      "outputs": []
    },
    {
      "cell_type": "code",
      "source": [
        "# YOUR CODE HERE "
      ],
      "metadata": {
        "id": "IoZEE0omNvER"
      },
      "execution_count": 43,
      "outputs": []
    },
    {
      "cell_type": "code",
      "source": [],
      "metadata": {
        "id": "ivOc92ePSFlW"
      },
      "execution_count": 43,
      "outputs": []
    },
    {
      "cell_type": "markdown",
      "source": [
        "### 8.2. Use the same dataset `data` as before and the standardised features as in question 6 and 7 to train your model of customers' satisfaction. \n",
        "\n",
        "\n",
        "Use `DecisionTreeClassifier()` with the following parameters for your decision tree: \n",
        "\n",
        "*   A maximum depth of 10\n",
        "*   A random state set to 50\n",
        "\n",
        "\n",
        "\n"
      ],
      "metadata": {
        "id": "B8qEwHCWK6UB"
      }
    },
    {
      "cell_type": "code",
      "source": [
        "# YOUR CODE HERE "
      ],
      "metadata": {
        "id": "SLQizfDIVNTK"
      },
      "execution_count": 44,
      "outputs": []
    },
    {
      "cell_type": "markdown",
      "source": [
        "### 8.3. Accuracy: What is the test accuracy? What is the train accuracy?"
      ],
      "metadata": {
        "id": "OmZeIdYjVslJ"
      }
    },
    {
      "cell_type": "code",
      "source": [
        "# YOUR CODE HERE"
      ],
      "metadata": {
        "id": "u9LCVFeCVslL"
      },
      "execution_count": 45,
      "outputs": []
    },
    {
      "cell_type": "code",
      "source": [
        "# YOUR CODE HERE"
      ],
      "metadata": {
        "id": "auMY8X5LVslM"
      },
      "execution_count": 46,
      "outputs": []
    },
    {
      "cell_type": "markdown",
      "source": [
        "### 8.4. Calculate the precision and recall on the test set.\n",
        "\n",
        "\n"
      ],
      "metadata": {
        "id": "q_zS8xNTWSP7"
      }
    },
    {
      "cell_type": "code",
      "source": [
        "# YOUR CODE HERE"
      ],
      "metadata": {
        "id": "1dRI6A3qWSP8"
      },
      "execution_count": 47,
      "outputs": []
    },
    {
      "cell_type": "code",
      "source": [
        "# YOUR CODE HERE"
      ],
      "metadata": {
        "id": "pKclu681WSP9"
      },
      "execution_count": 48,
      "outputs": []
    },
    {
      "cell_type": "markdown",
      "source": [
        "### 8.5. Plot the confusion matrix for the test data. Based on the outcome, determine how many observations are False Negative and how many are False Positive."
      ],
      "metadata": {
        "id": "qflPJUq0W4Yb"
      }
    },
    {
      "cell_type": "code",
      "source": [
        "# YOUR CODE HERE"
      ],
      "metadata": {
        "id": "_BbpAvDNW4Yd"
      },
      "execution_count": 49,
      "outputs": []
    },
    {
      "cell_type": "markdown",
      "source": [
        "### 8.6. Use the Decision Tree Classifier with standardisation to predict whether a customer with the following characteristics is satisfied or not:\n",
        "The new customer is the same as before in question 6.9. and 7.6. The values are rewritten here. \n",
        "\n",
        "> The customer is a man, a disloyal customer and is aged of 35 years old. His flight is for a business travel, and his company bought him a seat in Eco Plus class. The flight distance is of 2360km, he gave: \n",
        "*   3 for the inflight wifi service \n",
        "*   4 for the departure arrival time convenience \n",
        "*   2 for the ease of online booking\n",
        "*   2 for the gate location \n",
        "*   5 for the food and drink\n",
        "*   1 for the online boarding \n",
        "*   4 for the seat confort \n",
        "*   0 for the inflight entertainment\n",
        "*   4 for the onboard service \n",
        "*   3 for the leg room service \n",
        "*   4 for the baggage handling \n",
        "*   2 for the check-in service \n",
        "*   2 for the inflight service \n",
        "*   4 for the cleanliness \n",
        "\n",
        "> In addition to that, there were a departure delay of 20 minutes and an arrival delay of 10 minutes."
      ],
      "metadata": {
        "id": "eGL2YnqP7Z5x"
      }
    },
    {
      "cell_type": "code",
      "source": [
        "# YOUR CODE HERE"
      ],
      "metadata": {
        "id": "SrukBPSl7Z52"
      },
      "execution_count": 50,
      "outputs": []
    },
    {
      "cell_type": "code",
      "source": [
        "# YOUR CODE HERE"
      ],
      "metadata": {
        "id": "V1sKSESG7Z54"
      },
      "execution_count": 51,
      "outputs": []
    },
    {
      "cell_type": "code",
      "source": [
        "# YOUR CODE HERE"
      ],
      "metadata": {
        "id": "nAFSI6K07Z57"
      },
      "execution_count": 52,
      "outputs": []
    },
    {
      "cell_type": "markdown",
      "source": [
        "## 9. Models comparison.\n",
        "In this part we will recall the metrics computed above to determine which models seems to be the best. "
      ],
      "metadata": {
        "id": "6xPEJzky77Vf"
      }
    },
    {
      "cell_type": "markdown",
      "source": [
        "### 9.1. Build a table with the base rate, all the accuracies (train and test), precisions and recall computed above. \n",
        "3 models has been performed above:  \n",
        "\n",
        "1.   *logistic regression*\n",
        "2.   *K-Nearest Neighbour* \n",
        "3.   *Decision Tree classifier*\n"
      ],
      "metadata": {
        "id": "i33Bbpab8PZf"
      }
    },
    {
      "cell_type": "code",
      "source": [
        "# YOUR CODE HERE "
      ],
      "metadata": {
        "id": "kzmg67It8ODk"
      },
      "execution_count": 53,
      "outputs": []
    },
    {
      "cell_type": "markdown",
      "source": [
        "### 9.2. Plot the ROC curve of these models.\n"
      ],
      "metadata": {
        "id": "CSn7MPFbAmkR"
      }
    },
    {
      "cell_type": "code",
      "source": [
        "# import some additional packages\n",
        "from sklearn.metrics import roc_curve, roc_auc_score"
      ],
      "metadata": {
        "id": "92ZOe3X2AtU9"
      },
      "execution_count": 54,
      "outputs": []
    },
    {
      "cell_type": "code",
      "source": [
        "# YOUR CODE HERE "
      ],
      "metadata": {
        "id": "tbfvTds4BAqz"
      },
      "execution_count": 55,
      "outputs": []
    },
    {
      "cell_type": "code",
      "source": [],
      "metadata": {
        "id": "ANauJwkjCoYA"
      },
      "execution_count": 55,
      "outputs": []
    },
    {
      "cell_type": "code",
      "source": [],
      "metadata": {
        "id": "Wk0ZaVFgEDlu"
      },
      "execution_count": 55,
      "outputs": []
    },
    {
      "cell_type": "markdown",
      "source": [
        "## 10. Understanding of Confusion Matrix \n",
        "A soft drink company wants to change one ingredient in its product.\n",
        "\n",
        "*   The price of a bottle is : 10 CHF \n",
        "*   The production cost per bottle is : 5 CHF \n",
        "*   The cost per bottle incurred by the company in order to modify the ingredient is : 1 CHF  \n",
        "\n",
        "This modification of the ingredients formula can result in a success or a non-success (failure). "
      ],
      "metadata": {
        "id": "crR0ykJsoxqn"
      }
    },
    {
      "cell_type": "markdown",
      "source": [
        "### 10.1. What should be the minimal estimated probability of success so that the company makes profit ? \n",
        "\n",
        "> Hint: Use the expected value formula. \n",
        "> $Ps(x)*Vs + (1 - Ps(x))*Vns$\n",
        "\n",
        "with \n",
        "*   $Ps(x)$ the estimated probability of success \n",
        "*   $Vs$ the value of a success\n",
        "*   $Vns$ the value of a non-success (failure) \n",
        "\n",
        "\n",
        "\n",
        "\n",
        "\n",
        "\n",
        "\n"
      ],
      "metadata": {
        "id": "EzELlKvtEP6p"
      }
    },
    {
      "cell_type": "code",
      "source": [
        "# YOUR CODE HERE \n",
        "## Not real coding is required, but rather some algebra computation. "
      ],
      "metadata": {
        "id": "4Vxp2ACgEMC1"
      },
      "execution_count": 56,
      "outputs": []
    },
    {
      "cell_type": "markdown",
      "source": [
        "### 10.2. Compute the expected profit based on this confusion matrix and this cost/benefit information.\n",
        "\n",
        "\n",
        "> Hint: \n",
        "> *   you might need to compute the expected rates (matrix of probabilities) \n",
        "> *   use the expected profit formula\n",
        "\n",
        "\n"
      ],
      "metadata": {
        "id": "QlolBJODg_If"
      }
    },
    {
      "cell_type": "markdown",
      "source": [
        "The manager asks the analyst to produce a model that would predict \n",
        "either or not this ingredient change is going to be a success or a non-success (failure).  \n",
        "\n",
        "Based on a sample of 100 persons, the analyst came up with a model and presents you this confusion matrix. \n",
        "We know that:\n",
        "*   There are 64 success cases in the sample. \n",
        "*   There are 36 non-success (failure) cases in the sample. \n",
        "\n",
        "> In the Cost/Benefit Information : B(..) is the benefit and c(..) is the cost. \n",
        "\n",
        "![Capture d’écran 2022-09-22 à 18.07.02.png](data:image/png;base64,iVBORw0KGgoAAAANSUhEUgAACIAAAAHeCAYAAADpDuK9AAAMaGlDQ1BJQ0MgUHJvZmlsZQAASImVVwdUU8kanluSkJDQAhGQEnqTIr1ICaFFqlTBRkgCCSWGhKBiVxYVXLuIgg1dFbGtroCsBbEri2DviwUVZV3URVFU3oQEdN1XzvvPmTtfvvnnb3cmdwYAzT6uRJKLagGQJy6QxocHM8enpjFJTwEJ4IABnIEOlyeTsOLiogCUof7v8u4GQBT9VUeFrX+O/1fR4QtkPACQiRBn8GW8PIibAMCreBJpAQBEBW8xrUCiwPMg1pXCACFeo8BZSrxLgTOU+OigTmI8G+I2ANSoXK40CwCNe5BnFvKyoB2NTxC7iPkiMQCaoyAO4Am5fIgVsY/Ky5uqwBUQ20J9CcQwHuCd8Y3NrL/Zzxi2z+VmDWNlXoOiFiKSSXK5M/7P0vxvycuVD/mwho0qlEbEK/KHNbyVMzVSgakQd4szYmIVtYa4T8RX1h0AlCKURyQp9VEjnowN6wffOUBd+NyQSIiNIA4T58ZEqfiMTFEYB2K4WtDpogJOIsT6EC8WyEITVDpbpFPjVb7Qukwpm6Xiz3Olg34Vvh7Ic5JYKvtvhAKOyj6mUSRMTIGYArFloSg5BmINiJ1kOQmRKp0xRUJ2zJCOVB6viN8S4niBODxYaR8rzJSGxav0S/NkQ/liW4QiTowKHywQJkYo64Od5nEH44e5YG0CMStpyI5ANj5qKBe+ICRUmTv2XCBOSlDZ6ZMUBMcr5+IUSW6cSh83F+SGK3hziN1lhQmquXhyAVycSvt4pqQgLlEZJ16UzR0bp4wHXwGiABuEACaQw5YBpoJsIGrtru+Gv5QjYYALpCALCICjihmakTI4IobPBFAE/oBIAGTD84IHRwWgEPKfh1nl0xFkDo4WDs7IAU8hzgORIBf+lg/OEg97SwZPICP6h3cubDwYby5sivF/zw+xXxkWZKJUjHzII1NzSJMYSgwhRhDDiHa4IR6A++FR8BkEmyvujfsM5fFVn/CU0E54RLhO6CDcniJaIP0uymjQAe2HqWqR8W0tcGto0wMPxv2hdWgZZ+CGwBF3h35YeCD07AFZtipuRVWY39n+WwbfvA2VHtmFjJJHkIPItt/P1LDX8Bi2oqj1t/VRxpoxXG/28Mj3/tnfVJ8P+8jvNbHF2CHsHHYSu4AdxeoBEzuBNWAt2DEFHl5dTwZX15C3+MF4cqAd0T/8Db1ZRSVlLrUuXS6flGMFgukFio3HniqZIRVlCQuYLPh1EDA5Yp7TKKari6srAIpvjfLv6y1j8BuCMC5+5fKbAPAphWTWV45rAcCRpwDQ333lLN7AbbMCgGNtPLm0UMnhigcB/ktowp1mAEyABbCF+bgCT+AHgkAoGAtiQSJIBZNh9EK4zqVgGpgF5oMSUAZWgLVgA9gMtoFdYC84COrBUXASnAWXQBu4Du7C1dMJXoIe8A70IwhCQmgIHTFATBErxAFxRbyRACQUiULikVQkHclCxIgcmYUsRMqQVcgGZCtSg/yMHEFOIheQduQ28hDpQt4gH1EMpaK6qDFqjTqj3igLjUQT0UloFpqPFqHF6DK0Aq1G96B16En0Enod7UBfor0YwNQxBmaGOWLeGBuLxdKwTEyKzcFKsXKsGtuHNcL3fBXrwLqxDzgRp+NM3BGu4Ag8Cefh+fgcfCm+Ad+F1+Gn8av4Q7wH/0KgEYwIDgRfAocwnpBFmEYoIZQTdhAOE87AvdRJeEckEhlEG6IX3IupxGziTOJS4kbifmITsZ34mNhLIpEMSA4kf1IsiUsqIJWQ1pP2kE6QrpA6SX1q6mqmaq5qYWppamK1BWrlarvVjqtdUXum1k/WIluRfcmxZD55Bnk5eTu5kXyZ3Enup2hTbCj+lERKNmU+pYKyj3KGco/yVl1d3VzdR32cukh9nnqF+gH18+oP1T9Qdaj2VDZ1IlVOXUbdSW2i3qa+pdFo1rQgWhqtgLaMVkM7RXtA69OgazhpcDT4GnM1KjXqNK5ovNIka1ppsjQnaxZplmse0rys2a1F1rLWYmtxteZoVWod0bqp1atN1x6tHaudp71Ue7f2Be3nOiQda51QHb5Osc42nVM6j+kY3YLOpvPoC+nb6WfonbpEXRtdjm62bpnuXt1W3R49HT13vWS96XqVesf0OhgYw5rBYeQyljMOMm4wPo4wHsEaIRixZMS+EVdGvNcfqR+kL9Av1d+vf13/owHTINQgx2ClQb3BfUPc0N5wnOE0w02GZwy7R+qO9BvJG1k68uDIO0aokb1RvNFMo21GLUa9xibG4cYS4/XGp4y7TRgmQSbZJmtMjpt0mdJNA0xFpmtMT5i+YOoxWcxcZgXzNLPHzMgswkxuttWs1azf3MY8yXyB+X7z+xYUC2+LTIs1Fs0WPZamltGWsyxrLe9Yka28rYRW66zOWb23trFOsV5kXW/93EbfhmNTZFNrc8+WZhtom29bbXvNjmjnbZdjt9GuzR6197AX2lfaX3ZAHTwdRA4bHdpHEUb5jBKPqh5105HqyHIsdKx1fOjEcIpyWuBU7/TK2dI5zXml8znnLy4eLrku213ujtYZPXb0gtGNo9+42rvyXCtdr7nR3MLc5ro1uL12d3AXuG9yv+VB94j2WOTR7PHZ08tT6rnPs8vL0ivdq8rrpreud5z3Uu/zPgSfYJ+5Pkd9Pvh6+hb4HvT908/RL8dvt9/zMTZjBGO2j3nsb+7P9d/q3xHADEgP2BLQEWgWyA2sDnwUZBHED9oR9Ixlx8pm7WG9CnYJlgYfDn7P9mXPZjeFYCHhIaUhraE6oUmhG0IfhJmHZYXVhvWEe4TPDG+KIERERqyMuMkx5vA4NZyesV5jZ489HUmNTIjcEPkoyj5KGtUYjUaPjV4dfS/GKkYcUx8LYjmxq2Pvx9nE5cf9Oo44Lm5c5bin8aPjZ8WfS6AnTEnYnfAuMThxeeLdJNskeVJzsmbyxOSa5PcpISmrUjrGO4+fPf5SqmGqKLUhjZSWnLYjrXdC6IS1EzonekwsmXhjks2k6ZMuTDacnDv52BTNKdwph9IJ6Snpu9M/cWO51dzeDE5GVUYPj81bx3vJD+Kv4XcJ/AWrBM8y/TNXZT7P8s9andUlDBSWC7tFbNEG0evsiOzN2e9zYnN25gzkpuTuz1PLS887ItYR54hPTzWZOn1qu8RBUiLpyPfNX5vfI42U7pAhskmyhgJdeKhvkdvKf5A/LAworCzsm5Y87dB07eni6S0z7GcsmfGsKKzop5n4TN7M5llms+bPejibNXvrHGROxpzmuRZzi+d2zguft2s+ZX7O/N8WuCxYteCvhSkLG4uNi+cVP/4h/IfaEo0SacnNRX6LNi/GF4sWty5xW7J+yZdSfunFMpey8rJPS3lLL/44+seKHweWZS5rXe65fNMK4grxihsrA1fuWqW9qmjV49XRq+vWMNeUrvlr7ZS1F8rdyzevo6yTr+uoiKpoWG+5fsX6TxuEG65XBlfurzKqWlL1fiN/45VNQZv2bTbeXLb54xbRlltbw7fWVVtXl28jbivc9nR78vZzP3n/VLPDcEfZjs87xTs7dsXvOl3jVVOz22j38lq0Vl7btWfinra9IXsb9jnu27qfsb/sADggP/Di5/SfbxyMPNh8yPvQvl+sfqk6TD9cWofUzajrqRfWdzSkNrQfGXukudGv8fCvTr/uPGp2tPKY3rHlxynHi48PnCg60dskaeo+mXXycfOU5runxp+6dnrc6dYzkWfOnw07e+oc69yJ8/7nj17wvXDkovfF+kuel+paPFoO/+bx2+FWz9a6y16XG9p82hrbx7QfvxJ45eTVkKtnr3GuXboec739RtKNWzcn3uy4xb/1/Hbu7dd3Cu/03513j3Cv9L7W/fIHRg+qf7f7fX+HZ8exhyEPWx4lPLr7mPf45RPZk0+dxU9pT8ufmT6ree76/GhXWFfbiwkvOl9KXvZ3l/yh/UfVK9tXv/wZ9GdLz/ieztfS1wNvlr41eLvzL/e/mnvjeh+8y3vX/760z6Bv1wfvD+c+pnx81j/tE+lTxWe7z41fIr/cG8gbGJBwpdzBowAGG5qZCcCbnQDQUuHZAd7bKBOUd8FBQZT310EE/hNW3hcHxROAnUEAJM0DIAqeUTbBZgUxFfaKI3xiEEDd3IabSmSZbq5KW1R4EyL0DQy8NQaA1AjAZ+nAQP/GgYHP22GwtwFoylfeQRVChHeGLXYK1NpCAd+L8n76TY7f90ARgTv4vv8X9ySOdlXsc14AAACKZVhJZk1NACoAAAAIAAQBGgAFAAAAAQAAAD4BGwAFAAAAAQAAAEYBKAADAAAAAQACAACHaQAEAAAAAQAAAE4AAAAAAAAAkAAAAAEAAACQAAAAAQADkoYABwAAABIAAAB4oAIABAAAAAEAAAiAoAMABAAAAAEAAAHeAAAAAEFTQ0lJAAAAU2NyZWVuc2hvdNz1uGAAAAAJcEhZcwAAFiUAABYlAUlSJPAAAAHXaVRYdFhNTDpjb20uYWRvYmUueG1wAAAAAAA8eDp4bXBtZXRhIHhtbG5zOng9ImFkb2JlOm5zOm1ldGEvIiB4OnhtcHRrPSJYTVAgQ29yZSA2LjAuMCI+CiAgIDxyZGY6UkRGIHhtbG5zOnJkZj0iaHR0cDovL3d3dy53My5vcmcvMTk5OS8wMi8yMi1yZGYtc3ludGF4LW5zIyI+CiAgICAgIDxyZGY6RGVzY3JpcHRpb24gcmRmOmFib3V0PSIiCiAgICAgICAgICAgIHhtbG5zOmV4aWY9Imh0dHA6Ly9ucy5hZG9iZS5jb20vZXhpZi8xLjAvIj4KICAgICAgICAgPGV4aWY6UGl4ZWxZRGltZW5zaW9uPjQ3ODwvZXhpZjpQaXhlbFlEaW1lbnNpb24+CiAgICAgICAgIDxleGlmOlBpeGVsWERpbWVuc2lvbj4yMTc2PC9leGlmOlBpeGVsWERpbWVuc2lvbj4KICAgICAgICAgPGV4aWY6VXNlckNvbW1lbnQ+U2NyZWVuc2hvdDwvZXhpZjpVc2VyQ29tbWVudD4KICAgICAgPC9yZGY6RGVzY3JpcHRpb24+CiAgIDwvcmRmOlJERj4KPC94OnhtcG1ldGE+CoNULPYAAAAcaURPVAAAAAIAAAAAAAAA7wAAACgAAADvAAAA7wAAmhjjL/zUAABAAElEQVR4AeydB7gUxbKAS7IEARUxkEUESYKCCRGMmAAzJgyYMSsGVEDMCoKIWcRweZhQgteMiigGVERRkggGEESRoGQ4b3q90+zO7J6d2bO7Z3r7n/f5dqanp6fqr669VJ3a7q2KnEMMOr777ruYtM2bNzdIakSFgB0E8E877IyWZhLAP820G1LbQQD/tMPOaGkmAfzTTLshtR0E8E877IyWZhLAP820G1LbQQD/tMPOaGkmAfzTTLshtR0ETPPPrSgAsWNioiUE8kHAtC/AfDDhHRCICgH8MyqWQA4I+Angn34mtEAgKgTwz6hYAjkg4CeAf/qZ0AKBqBDAP6NiCeSAgJ8A/ulnQgsEokIA/4yKJZADAn4CpvknBSB+G9ICAQhkSMC0L8AM1eQxCBhJAP800mwIbQkB/NMSQ6OmkQTwTyPNhtCWEMA/LTE0ahpJAP800mwIbQkB/NMSQ6OmkQTwTyPNhtCWEDDNPykAsWRioiYE8kHAtC/AfDDhHRCICgH8MyqWQA4I+Angn34mtEAgKgTwz6hYAjkg4CeAf/qZ0AKBqBDAP6NiCeSAgJ8A/ulnQgsEokIA/4yKJZADAn4CpvknBSB+G9ICAQhkSMC0L8AM1eQxCBhJAP800mwIbQkB/NMSQ6OmkQTwTyPNhtCWEMA/LTE0ahpJAP800mwIbQkB/NMSQ6OmkQTwTyPNhtCWEDDNPykAsWRioiYE8kHAtC/AfDDhHRCICgH8MyqWQA4I+Angn34mtEAgKgTwz6hYAjkg4CeAf/qZ0AKBqBDAP6NiCeSAgJ8A/ulnQgsEokIA/4yKJZADAn4CpvknBSB+G9ICAQhkSMC0L8AM1eQxCBhJAP800mwIbQkB/NMSQ6OmkQTwTyPNhtCWEMA/LTE0ahpJAP800mwIbQkB/NMSQ6OmkQTwTyPNhtCWEDDNPykAsWRioiYE8kHAtC/AfDDhHRCICgH8MyqWQA4I+Angn34mtEAgKgTwz6hYAjkg4CeAf/qZ0AKBqBDAP6NiCeSAgJ8A/ulnQgsEokIA/4yKJZADAn4CpvknBSB+G9ICAQhkSMC0L8AM1eQxCBhJAP800mwIbQkB/NMSQ6OmkQTwTyPNhtCWEMA/LTE0ahpJAP800mwIbQkB/NMSQ6OmkQTwTyPNhtCWEDDNPykAsWRioiYE8kHAtC/AfDDhHRCICgH8MyqWQA4I+Angn34mtEAgKgTwz6hYAjkg4CeAf/qZ0AKBqBDAP6NiCeSAgJ8A/ulnQgsEokIA/4yKJZADAn4CpvknBSB+G9ICAQhkSMC0L8AM1eQxCBhJAP800mwIbQkB/NMSQ6OmkQTwTyPNhtCWEMA/LTE0ahpJAP800mwIbQkB/NMSQ6OmkQTwTyPNhtCWEDDNPykAsWRioiYE8kHAtC/AfDDhHRCICgH8MyqWQA4I+Angn34mtEAgKgTwz6hYAjkg4CeAf/qZ0AKBqBDAP6NiCeSAgJ8A/ulnQgsEokIA/4yKJZADAn4CpvknBSB+G9ICAQhkSMC0L8AM1eQxCBhJAP800mwIbQkB/NMSQ6OmkQTwTyPNhtCWEMA/LTE0ahpJAP800mwIbQkB/NMSQ6OmkQTwTyPNhtCWEDDNPykAsWRioiYE8kHAtC/AfDDhHRCICgH8MyqWQA4I+Angn34mtEAgKgTwz6hYAjkg4CeAf/qZ0AKBqBDAP6NiCeSAgJ8A/ulnQgsEokIA/4yKJZADAn4CpvknBSB+G9ICAQhkSMC0L8AM1eQxCBhJAP800mwIbQkB/NMSQ6OmkQTwTyPNhtCWEMA/LTE0ahpJAP800mwIbQkB/NMSQ6OmkQTwTyPNhtCWEDDNPykAsWRioiYE8kHAtC/AfDDhHRCICgH8MyqWQA4I+Angn34mtEAgKgTwz6hYAjkg4CeAf/qZ0AKBqBDAP6NiCeSAgJ8A/ulnQgsEokIA/4yKJZADAn4CpvknBSB+G9ICAQhkSMC0L8AM1eQxCBhJAP800mwIbQkB/NMSQ6OmkQTwTyPNhtCWEMA/LTE0ahpJAP800mwIbQkB/NMSQ6OmkQTwTyPNhtCWEDDNPykAsWRioiYE8kHAtC/AfDDhHRCICgH8MyqWQA4I+Angn34mtEAgKgTwz6hYAjkg4CeAf/qZ0AKBqBDAP6NiCeSAgJ8A/ulnQgsEokIA/4yKJZADAn4CpvknBSB+G9ICAQhkSMC0L8AM1eQxCBhJAP800mwIbQkB/NMSQ6OmkQTwTyPNhtCWEMA/LTE0ahpJAP800mwIbQkB/NMSQ6OmkQTwTyPNhtCWEDDNPykAsWRioiYE8kHAtC/AfDDhHRCICgH8MyqWQA4I+Angn34mtEAgKgTwz6hYAjkg4CeAf/qZ0AKBqBDAP6NiCeSAgJ8A/ulnQgsEokIA/4yKJZADAn4CpvknBSB+G9ICAQhkSMC0L8AM1eQxCBhJAP800mwIbQkB/NMSQ6OmkQTwTyPNhtCWEMA/LTE0ahpJAP800mwIbQkB/NMSQ6OmkQTwTyPNhtCWEDDNPykAsWRioiYE8kHAtC/AfDDhHRCICgH8MyqWQA4I+Angn34mtEAgKgTwz6hYAjkg4CeAf/qZ0AKBqBDAP6NiCeSAgJ8A/ulnQgsEokIA/4yKJZADAn4CpvknBSB+G9ICAQhkSMC0L8AM1eQxCBhJAP800mwIbQkB/NMSQ6OmkQTwTyPNhtCWEMA/LTE0ahpJAP800mwIbQkB/NMSQ6OmkQTwTyPNhtCWEDDNPykAsWRioiYE8kHAtC/AfDDhHRCICgH8MyqWQA4I+Angn34mtEAgKgTwz6hYAjkg4CeAf/qZ0AKBqBDAP6NiCeSAgJ8A/ulnQgsEokIA/4yKJZADAn4CpvknBSB+G9ICAQhkSMC0L8AM1eQxCBhJAP800mwIbQkB/NMSQ6OmkQTwTyPNhtCWEMA/LTE0ahpJAP800mwIbQkB/NMSQ6OmkQTwTyPNhtCWEDDNPykAsWRioiYE8kHAtC/AfDDhHRCICgH8MyqWQA4I+Angn34mtEAgKgTwz6hYAjkg4CeAf/qZ0AKBqBDAP6NiCeSAgJ8A/ulnQgsEokIA/4yKJZADAn4CpvknBSB+G9ICAQhkSMC0L8AM1eQxCBhJAP800mwIbQkB/NMSQ6OmkQTwTyPNhtCWEMA/LTE0ahpJAP800mwIbQkB/NMSQ6OmkQTwTyPNhtCWEDDNPykAsWRioiYE8kHAtC/AfDDhHRCICgH8MyqWQA4I+Angn34mtEAgKgTwz6hYAjkg4CeAf/qZ0AKBqBDAP6NiCeSAgJ8A/ulnQgsEokIA/4yKJZADAn4CpvknBSB+G9ICAQhkSMC0L8AM1eQxCBhJAP800mwIbQkB/NMSQ6OmkQTwTyPNhtCWEMA/LTE0ahpJAP800mwIbQkB/NMSQ6OmkQTwTyPNhtCWEDDNPykAsWRioiYE8kHAtC/AfDDhHRCICgH8MyqWQA4I+Angn34mtEAgKgTwz6hYAjkg4CeAf/qZ0AKBqBDAP6NiCeSAgJ8A/ulnQgsEokIA/4yKJZADAn4CpvknBSB+G9ICAQhkSMC0L8AM1eQxCBhJAP800mwIbQkB/NMSQ6OmkQTwTyPNhtCWEMA/LTE0ahpJAP800mwIbQkB/NMSQ6OmkQTwTyPNhtCWEDDNPykAsWRioiYE8kHAtC/AfDDhHRCICgH8MyqWQA4I+Angn34mtEAgKgTwz6hYAjkg4CeAf/qZ0AKBqBDAP6NiCeSAgJ8A/ulnQgsEokIA/4yKJZADAn4CpvknBSB+G9ICAQhkSMC0L8AM1eQxCBhJAP800mwIbQkB/NMSQ6OmkQTwTyPNhtCWEMA/LTE0ahpJAP800mwIbQkB/NMSQ6OmkQTwTyPNhtCWEDDNPykAsWRioiYE8kHAtC/AfDDhHRCICgH8MyqWQA4I+Angn34mtEAgKgTwz6hYAjkg4CeAf/qZ0AKBqBDAP6NiCeSAgJ8A/ulnQgsEokIA/4yKJZADAn4CpvknBSB+G9ICAQhkSMC0L8AM1eQxCBhJAP800mwIbQkB/NMSQ6OmkQTwTyPNhtCWEMA/LTE0ahpJAP800mwIbQkB/NMSQ6OmkQTwTyPNhtCWEDDNPykAsWRioiYE8kHAtC/AfDDhHRCICgH8MyqWQA4I+Angn34mtEAgKgTwz6hYAjkg4CeAf/qZ0AKBqBDAP6NiCeSAgJ8A/ulnQgsEokIA/4yKJZADAn4CpvknBSB+G9ICAQhkSMC0L8AM1eQxCBhJAP800mwIbQkB/NMSQ6OmkQTwTyPNhtCWEMA/LTE0ahpJAP800mwIbQkB/NMSQ6OmkQTwTyPNhtCWEDDNPykAsWRioiYE8kHAtC/AfDDhHRCICgH8MyqWQA4I+Angn34mtEAgKgTwz6hYAjkg4CeAf/qZ0AKBqBDAP6NiCeSAgJ8A/ulnQgsEokIA/4yKJZADAn4CpvknBSB+G9ICAQhkSMC0L8AM1eQxCBhJAP800mwIbQkB/NMSQ6OmkQTwTyPNhtCWEMA/LTE0ahpJAP800mwIbQkB/NMSQ6OmkQTwTyPNhtCWEDDNPykAsWRioiYE8kHAtC/AfDDhHRCICgH8MyqWQA4I+Angn34mtEAgKgTwz6hYAjkg4CeAf/qZ0AKBqBDAP6NiCeSAgJ8A/ulnQgsEokIA/4yKJZADAn4CpvknBSB+G9ICAQhkSMC0L8AM1eQxCBhJAP800mwIbQkB/NMSQ6OmkQTwTyPNhtCWEMA/LTE0ahpJAP800mwIbQkB/NMSQ6OmkQTwTyPNhtCWEDDNPykAsWRioiYE8kHAtC/AfDDhHRCICgH8MyqWQA4I+Angn34mtEAgKgTwz6hYAjkg4CeAf/qZ0AKBqBDAP6NiCeSAgJ8A/ulnQgsEokIA/4yKJZADAn4CpvknBSB+G9ICAQhkSMC0L8AM1eQxCBhJAP800mwIbQkB/NMSQ6OmkQTwTyPNhtCWEMA/LTE0ahpJAP800mwIbQkB/NMSQ6OmkQTwTyPNhtCWEDDNPykAsWRioiYE8kHAtC/AfDDhHRCICgH8MyqWQA4I+Angn34mtEAgKgTwz6hYAjkg4CeAf/qZ0AKBqBDAP6NiCeSAgJ8A/ulnQgsEokIA/4yKJZADAn4CpvnnVjNmzCjyqxHdlhYtWkRXOCSDAAQgAAEIQAACEIAABCAAgYIj4MTNBacTCkHAdALkh0y3IPJDAAIQgAAEIAABCEAAAhAwi4Ap+SEKQMyaV0gLAQhAAAIQgAAEIAABCEAAAnkmYEqAn2csvA4CpUqAApBSxc/LIQABCEAAAhCAAAQgAAEIWEfAlPyQcVvAbLXVVrHJtHnhCOsmFQpDAAIQgAAEIAABCEAAAhCAQP4IlNmlV+xlRUVGLZyZP0C8CQKlSID8UCnC59UQgAAEIAABCEAAAhCAAAQsImBafogCEIsmJ6pCAAIQgAAEIAABCEAAAhCAQHACpgX4wTWjJwTMJ0ABiPk2RAMIQAACEIAABCAAAQhAAAImEDAtP0QBiAmzChkhAAEIQAACEIAABCAAAQhAIO8ETAvw8w6IF0KgFAlQAFKK8Hk1BCAAAQhAAAIQgAAEIAABiwiYlh+iAMSiyYmqEIAABCAAAQhAAAIQgAAEIBCcgGkBfnDN6AkB8wlQAGK+DdEAAhCAAAQgAAEIQAACEICACQRMyw9RAGLCrEJGCEAAAhCAAAQgAAEIQAACEMg7AdMC/LwD4oUQKEUCFICUInxeDQEIQAACEIAABCAAAQhAwCICpuWHKACxaHKiKgQgAAEIQAACEIAABCAAAQgEJ2BagB9cM3pCwHwCFICYb0M0gAAEIAABCEAAAhCAAAQgYAIB0/JDFICYMKuQEQIQgAAEIAABCEAAAhCAAATyTsC0AD/vgHghBEqRAAUgpQifV0MAAhCAAAQgAAEIQAACELCIgGn5IQpALJqcqAoBCEAAAhCAAAQgAAEIQAACwQmYFuAH14yeEDCfAAUg5tsQDSAAAQhAAAIQgAAEIAABCJhAwLT8EAUgJswqZIQABCAAAQhAAAIQgAAEIACBvBMwLcDPOyBeCIFSJEABSCnC59UQgAAEIAABCEAAAhCAAAQsImBafogCEIsmJ6pCAAIQgAAEIAABCEAAAhCAQHACpgX4wTWjJwTMJ0ABiPk2RAMIQAACEIAABCAAAQhAAAImEDAtP0QBiAmzChkhAAEIQAACEIAABCAAAQhAIO8ETAvw8w6IF0KgFAlQAFKK8Hk1BCAAAQhAAAIQgAAEIAABiwiYlh+iAMSiyYmqEIAABCAAAQhAAAIQgAAEIBCcgGkBfnDN6AkB8wlQAGK+DdEAAhCIBoEvpi+QEf/3oaxdt1Ea1N1ObrzsaKlQoVw0hEMKCEAAAhCAAAQgEAECpuWHKACJwKRBBAhAAAIQyB6BDRs2ybwFS2XT5s2yy441pEb1ytkbnJEgAAEIQAACELCKgGkBvlXGQVnrCVAAYv0UAAAEIJAlAnsdcatMm/GzHm3Wh3dKk11r62tOckuAPFZmfOGWGTeeggAEIACBzAiYlh+iACQzO/MUBCAAAQhEjMBzL38idz34X/lh/hLZuGmzlq5ty/ryfw9dSPJCE+EEAhCAAAQgAIGgBEwL8IPqRT8IFAIBCkAKwYroAAEIlDaBb2culNaH9tNiNKizncz79B5xv2P1DU6yToA8VmZI4ZYZN56CAAQgAIGSETAtP0QBSMnszdMQgAAEIkdg3boN8oOzAsZvS5bLH8v+lmpVK8lOO9SQxg1ryTbVto6cvNkQ6Jwrn5JnXvo45VD39D1R+vQ+MuX90ryh7PXU6I9k8udzpMY2laV7l7ZyeKfmpSlSqby7qKhI1K831FG2bJnYf9kUZOPGTbJ5c1FsyPLlyxZsMov5lM1Zw1gQgAAEREwL8LEZBGwi4P5xcvPCETapja4QgEAAAjbmRQJgSdrl+ttfkvseeVPfu+nyo+W264/X1+pks7PC6saNW35oE3+zXLkyUqZMmfgmzgMQCJLHuvy8QyOTL1I5m0WLl8uatRuk1nbVpPo2pZNfDMItqvm/ANPCii7krawwM0pCoCAJmJYfogCkIKchSkEAAjYSeO2d6fKsUwTx5vsz5O/V63wIyjl/VN+nbSM55dj2cu6pB0rlyhV8fUxsmPzpHDnohHuKFf3B206X3uceXGyf0rr5lmOvI88Yol+/Xc0qsuSboVYlUN798Hs5vfdjstQpWFJHma22kob1askdNxwvJ3dtp9lkcjLpk9ly3jVPy7yfftePV3cKocY82VsO7tBMtxXKCfOpUCyJHhCAQFQImBbgR4UbckAgHwQoAMkHZd4BAbMI2JoXydRKqrCjfrs+stD5w757zJx0h+zeeEf3Ul59/Ss564onk+aZVKetnP+qVK4otWtVlz2b15HTjttPjjuqrX6eEz+BoHmsxg13iEy+6MzLnpBRr3waU0bZfNIrN0iHfXbzK5fDlqDcopr/yyEao4Ymb2WUuRAWAhCII2BafogCkDjjcQoBCEDARAJzf1wivfs+J+9OnhlY/O23rSqP3N1TTjh6r8DPRLXjUacPkTc/mKHF233XHWXIrT2k7s7bOXvY/iSvT/xGLjyzkxy03+66T5RObhsyXvoPGqdFUoH0YqcARP2iwpbjtEsek+fHfe5Tt2yZrWSms/ewSnpkcqxevV4a7Xud/P7nKt/jF5xxkDx6T09fey4b1jq/lKlQoWxOi3uYT7m0IGNDAAI2EjAtwLfRRuhsLwEKQOy1PZpDwEvAprxINuNK9WOMw08drHG237OhfPrfm/W1Ojm+13AZ++a0hLZ0F3u1qi/39+8hB+7bJF1XK+8HzWN9+Ons0PmibM6PeON4ZR7/9OVyzGGt47vk/Nwrg2n5v5wDKsUXhJl35K1K0VC8GgIQKBEB0/JDFICUyNw8DAEIQKB0CXwxfYEcefr98udf/4QWRBUafPFmf2nTsl7oZ6P0QI3de8vKv9dqkby/VtE3Inry0oQv5JSLHtHSbeNs2fPHd8OkXLmyuq3QT7xBfLy+VzhLng659dT4psDnjz37gVx843NJ+5910gEycui5Se9lu3Hq1wuk84n3yOo160UVtQzud4pcfv5h2X5NbDzmU06wMigEIGAxAdMCfItNheoWEqAAxEKjozIEkhCwJS+Si7jyrMuflOfGfKKpJls9tbh4XT+Y5KSqsyrIV28PyPgHHUmGLJimoHmsMPF9LuZHPHDvPCiNApCg3OLl5jy3BDKZd2HmdW6lZ3QIQAAC4QiYlh+iACScfekNAQhAIDIEfvxpqbQ5rL+s+idxu5fKW1eQ/fbaVfZ1tntp07K+/O3c/2H+EvnA2Qrjo8/nJsg/ckgvOevk/RPaTLpY5RR+VHcKQNyjWeOd5LtJt7uXRnyuXLVGbr7nFfl46g+iVmbp0W0fOadHByNkz5aQ3kRC/Lg1q1eWhV/dL5UqlY9vDnTe6uB+MmP2wqR981kAMv6tr6X7uQ9qOUpS1KIHSXHCfEoBhmYIQAACGRIwLcDPUE0eg4CRBCgAMdJsCA2BrBKwKS+S7bjyH2fr4J1aX6W3dinv/AhFxd7bb1c1wUbeeP363kdK25YNYn02bNgkixYvkwW//ikvTZiqt3V1B9i7VQP55LWbpKyzJTHHvwTC5LHCxPfZnh9ee3nnQb4LQMJw88rOde4IZDLvwszr3EnOyBCAAATCEzAtP0QBSHgb8wQEIACBSBBItm1GU6cAYsIzV8iuDWollVH9MqbvXS/r7WKeHtpLep5kbgHIrLmLZY9ON2ldD+nQTN554Vp9zYkZBLyJBK/Uzzxwnpx54n7e5mKv1VKpnU64V/dRyawNGzfp60ItANEKcgIBCEAAAlkhYFqAnxWlGQQChhCgAMQQQyEmBHJIwKa8SCZ/aC0O/X+clT96OiuAuEfXw1vL2JGXu5f60xuvT3yxj3Q+oKm+756oP+r2uvopGfP6V25T7HOaswpI6+Z1E9psvshVHivb88NrI+88yHcBSK64efXkOhyBXM+7cNLQGwIQgEBuCZiWH6IAJLfzgdEhAAEI5ISAKuTY56jbpChu9EMPbCYvPnaJ1HBWTEh3PPPiFHnmxY/k8fvONno5zk+++EEO6HaXVvf4I9vKy09uWRFE3+Ak0gS8iYSeJ+4vz748Rcvcof1u8uGrN+jrICc9nG11XnS213GPy849RB58aqJ7KRSAaBScQAACEIBAMQRMC/CLUYVbECg4AhSAFJxJUQgCoQjYlhfJ9h9au5x2v7w96TvN/MXHLpYTj9lbX7sn3ng9VQGI6v/X8n9k9wP7yh/L/nYfF9N/eKQVydJJrvJY2Z4fXnW98yDfBSC54ubVk+twBHI978JJQ28IQAACuSVgWn6IApDczgdGhwAEIJATAoecdJ+8P2WWHlttHbLgs/ukcuUKui2bJ78tWSHTv/9Z/lz2jzTZdUfZo8lOUsXZzzXosW7dBlnh/BqkUsXysk21rRMe+/nXZc42Hb/Kn385iQJn7FbN6gTe7sMbAJ7kJCtecJIWqQ5XDrUaRM0aVVJ1S2hf5si1cdMmqe7IXdGRP92xYuUamT1vsbPtzu9SpsxWslPt6s7yqPWlWtVKKR9Vy6YuX7laypYpI9vWDCZX/GBRtU+8jMWdexMJb/3f1dL17GGybv1G/diM929z5t3O+rq4E8WjQfs+esWPhnW3l2G3ny7HnvWAfixoAcimTZvlu9mLZOHiv2Tpn6tkm6pbS6P6tZz/tpeqVVLbVL/IOck0IHbnq9dvlH6fffVjzKd2rLWN7Lf3rgl+lW4+qftqnhY5/6fmdYUK5eLFTXquEnlqBZVqjs5bO9tMcUAAAhCwhYBpAb4tdkFPCCgCFIAwDyBgNwHT8iLx1sokb5BpXBn/Xvd80eLlUm/va2Vz0b8/K6qxzdby29dDkuY8vPF6cQUgavzjnO1PxznboLpHn4u7yD03n+ReFvupYtWZc3+TGbMWOjmbyrJn83qxnEqxD/3vZqr4Wd0uSd4p2btLImfYPFa6+N6VL5vzwx0z/tM7D1IVgOTKDmG5xcsef56r/Fm6PE1xXNTqJjPnLpLVa9ZLvV22laa77SS1tqsWL3bCuer//dyFsn79JmnTop6Tp62t/02U0DHNRWnmu4LO61Qq5MqO6n3Z/r5IpQPtEICAeQRMyw9RAGLeHENiCEDAcgJvf/CddDn9/gQKA/t0l5uvPDahraQXLzmrJzwx6gOZ/t0vvn1ct3IGb+D8Uf2g/XaXe28+2bdHbPy7VQFF3b2vkTVrN8Sa3e08pn69QG644yX5wClkiV/JpJyzN6wK8h+5p6fs1ap+/FCx85df+0JOvfhRUXkKN1kR36nMVkq6fw91Ou7py+WoQ1rJnHlLpNUht8h6J6GgjgvPOCj2jn97Jv//va4eKSNf+Ch2s6LzR/LvPrg99sf/ZL3fcX450+e2F+Wbmb/6bpd1CkGO6NRCbrvueGnTsl7CffWH9frt+uh9d084qq289ET6VUyiap8E5QJeeBMJX7zRXwY9+oY8P+5zPcIV5x0qQ249VV8XdzLw/nEyYPB43eWuG06QVs6Ss0efOVS3FVcAUuRMLuVnT4yaJBM/mhkrtNAPxp00dwpSBvU7RY7o3CKu9d/TEaMmy0U3PBNonqon1JK4X77VX4+TzG9OP34fufmeV+X+x97S81g9UNUpxpr/2b2ynVMIlm4+rV69Xnba80pZ9c+62LtUMdSrT10a8xH98riTzZs3y+E9Bst7H/9bcKb86+PxfWWfto3ienEKAQhAoHAJmBbgF64l0AwCfgIUgPiZ0AIBWwiYlhdx7RI2b1DSuNJ9r/dz8CNvSp/bX9LNFzj5kUedHEyywxuvpysAOb7XcBn75jQ9VJACkEef+UBGPP9hrPAj/ocgapAdnD+Et2/TUAb37yG7Naqtx40/SRY/q21kM807xY8df56pnJnmsdLF97maH/E6u+feeZCsACTbdsiUmyuz+5nL/FmQPE0qLpM+mS3XO374+dfzXVFjnyovekq39nJ33xNll51q6nuTP50j1zt51E+dHwTFH+qHPd27tJWH7zoj7Q92opDvSjev43WLP8+lHXPxfREvO+cQgEBhEDAtP0QBSGHMO7SAAAQsItD7xv/II8++rzWuVqWiLPj8vsArWugHU5z8s3qdXNlvtIwYPTlFj8RmtQLBk4PPSfkH5IW//eUUgFyrHxrS/5RYscOAweNk02aniiPFsXWl8jJi8LnSo3v7hB53DXtNbnL+CB70uPemE+XaS46MBf77HH2bfuy4I9vImCcv1dfJTro5q1BMeGe6vvXlm/19BRzq5mU3jZKHnn5P90t1sq3zC5Y/vnsw4baXT7rtTqJunwTlAl54EwmqAGTZ8r/l8FMH6xFqOlsbLfzq/rSrw2x0VqlQq38sclbJUEeF8mXl5y8GyZff/BSoAEQFosedO1w+/GyOfne6k3NO6SAj7j8nodvVA56XoU+8k9BW3IWSc+2Cx3UX77xQfjPV0eH/Xv1U94k/mfvx3bJrg1rifS7ZfGpz2ABnRZ9f9OP1nV+YfPfBHUlXEHrs2Q/k4huf033VHP5hyj2BtprSD3ECAQhAwGACpgX4BqNGdAiEJkABSGhkPACBgiFgWl5Egc8kb1DSuDKVwfc8tH/Cj1c+fOUG6bDPbkm7e+P1dAUg+x97R8IfqB+64wy5+OzOScf+09kq5rxrRyasGJK0o9Oocl+P3Xu2L0ek+nvj4JLmnbwylFTOTPNYXr288X2u5odXf3XtnQfJCkC88pbUDplyc+XPR/4skzyN4rLcWSX5tiETkv6wzZW/Ub1a8v7L10ldJ2dzq5NDTde/XesGMv6ZK6S2k6dNdkQ13+Wd117Z82HHv51ceKZ5aq+8XEMAAoVLwLT8EAUghTsX0QwCEChQAt5A/dweHWIFGNlQd8nSldLphHtiW5iEHe+J+86WXqcd6HvMGwCq1TCKK/yIH0CtTvDjp/ckVLyrXzicf93T8d2KPY9fcSQXBSAvjp8qPZwVSeIPlZhoVH8HUUHKgl/+cLaQ2axvr3P+yF/e+WO/e3j5FBf4mGAfV68wn95EgioAadOyrjTe7waZ7/BzD9eW7nWyT/WLgFMuekTfOqVrOxn9yEXyxnvfBioA8RY8uAOplS+qO8viLl+xOmHFGvf+6/+5Urp0buleyr3DX5cb7hqjr9OdqCKM+U4hl3t454X61dPvzhY0qY4fptwdW53G+1yy+fTpl/OkQ7e7EhINN1x6lNx54wkJw6v51qxjX2d7ojW6fYRT7HWO853DAQEIQMAWAqYF+LbYBT0hoAhQAMI8gIC9BEzLi2SaNyhpXJlshqhVXtscPkDfUn9knjvlLv2dqm/878QbrxdXAKJWNOh84r16CGdRVpn90V3SuOEOus09UVus7nXEAPn1t+VuU+xTxd7162wnfyxbpVeujO/w9NBe0vOk/eObfAUgJc07xQ+eDTkzzWOli+9zMT/idY8/986DIAUgJbVDptyU3PnIn2Wap1F+kfrncPHUxVnZo43sXLuGPPzMlh8CJvZIvCputduo5ruS5a1crfJhx5LOU1dWPiEAgcInYFp+iAKQwp+TaAgBCBQQgTXOfpDVdrsk4Q+3dzt/tL3O+eNtNo5L+/7HF1R0cbYuOe/0jtKudUOpvHUF+Wzaj/K2s93JgyPeTQhYam9fzUka3C1Vq1RKEMUbsMbfVHtb3nJlV1H/2F+0ZLk8+uz78pKzxUv84V0uVO2b+e7kmaL2qvxm5i/S776xurvaMkaN5x7lypWRwzo2jxVcqKU/c1EA0tZJnHztJFDc4/reR0q/q7rqZRfVUo+jxnwi9zz8uqxctVZWzn3Y7Rr79PIpLvAxwT4JygW88CYSVAFI21b15I6hE+SWOPse0K6xTB57Y7GjdnYKmCY5y2K6h/q1hNqqKGgByNDH35arb30h9vguO9aQc3scKCd3bS+7OQmrCs42QGoLlQnvfC1X9R8ti50CCfdo1ayOfP3ure5lrN/Ej76PbQEz2VlNZLCzbYt7HNZxD+l99iHuZexTLWXbzNnn1T2888JtV5/bO1u9XHX+YbJdzWrywSezZNYPv8kHY66XbZxlP73PpZpP3l/MqWIrJX+8DKf3flxGj/1Mv7qTw/E9hycHBCAAAZsImBbg22QbdIUABSDMAQjYScDEvEimeQMVf5Ykrkw2Q/oMfDEhPu131bEy4NruybrG2rzxeqoCkHc//F7OvvJJvRqnevj4I9vKy08m3+L28ptHyfCRW1ZSVavADht4upzUde9YbKu2qvh6xi/OmCPk21lbttpVeaQ5TlGJis/dwxsHu+3qM5O8U/zz2ZAz0zyWVy9vfJ+L+RGve/y5dx4EKQCJfz4TO2TKTb033/mzMHmaeC5NG+/kbBd9nDRvskssx3nNrc/LwsWJRVGp+iu/uHbg8/LLor90F7W67E9TByVdBSSq+S7vvNbKOCf5tmMm8zReXs4hAIHCJmBafogCkMKej2gHAQgUGIFfnX/U12u3ZTsVpd7ohy+M7Q1ZUlV/mP+7NO90s2xwttBwjyvOO9TZZ/UUKVOmjNukP59+4WM531mqM341j1uv7Sa3OMUP8Yc3YHXvHdGpubzw6MWxwN5tUwH+uVeNlGde+thtkmTbprg3P/niBznAWcnAPU46Zm954bGL3cuEz1wUgKxdu0Gq795bM2vTop58+Vb/hPe6F+vXb5Q/nWKQnWpXd5tin14+qQIfE+2ToGgxF95EglsAouZ7w336JMyxGe/fJns02TnpaN/NXiQtD75F32vmBNLfTbo9dh20AOSrb36W625/Qbod3kYuOPMgqVixvB4v/mTK1B+kQ/ctc0/9Smn1j48mJKHc/uPf+lq6n7tl6x/lV0NuPdW9nfTTOy/cTk2cQpFJzvK8qZb09D6Xaj6tcFb12OOgm+S33//dKkeNH1/gofamPuK0+93XSkUnuTb93YHSZNfkey7rjpxAAAIQKDACpgX4BYYfdSBQLAEKQIrFw00IFCwB0/Ii2cgbKGNmEld6J4H6IU09Z4ve+Dhw9uQ7Rf0gIdXhjdePPqSV7q9yOL8sXCYz5/4W+2FC/KoGLXbfJfYDDrWSpveY++MSadH5Fp1LqVSxnHw87qakW+4qfvs528rEb2M6bOBpcmmvLT+q8MbB7vtKmnfKtpxKrjB5LK9eqeJ7NW425ocaJ9XhnQdhCkBKagclUxhu+c6fhc3TuIy7HbGn/N9DF+ofkKl2tYpwq4P7xbbOdvu5n8ce1lqed1a43dr5cZ57/PzrMml1yC2y8u+1bpM84OSbLnPyTt4jqvmuVPM633bMxjz1MucaAhAoLAKm5YcoACms+Yc2EIBAgRP45vtfZc/DEgsMpozvK/vutWuJNff+2n8/Z8yPnbGLO651Vkq431kxwT3U1ifLZg6XsmW3FIx4A1bVV60qMv6Zy6Wcs+qA91DBjtr6Y7OTSHCPlXMe8q0sou6FCQBzUQCiEh312/dxxXRWSWkgn72+pQBB3yjmxMsnVeBjon2KUTvhljeR4BaAqE7HnDlUXne2b3GP4oonvL8MGDqgh1zurJShjqAFIO57gnzuc9RtMnX6At01VeIsk0SMd16ol9SsXjlWYNSg7vb6nd4T73Op5pN6zrtdjmpT2+yoQqpWh/STHxb8rppiR7LiLvcenxCAAAQKmYBpAX4h2wLdIOAlQAGIlwjXELCDgGl5kWzkDZRlM4krvTPirfdnyJFnDNHN+7ZtJFMm3KSvk5144/VkfZK1ffXWANmzRd1kt+TMy56QUa98qu9dd0kXufumk/S192TC219Lt3O2/Kii8/5NZeJLW3Ix3jhYPZ+NvFO25VRyhcljefUqLr7PxvxQ8qU6vPMgaAFINuygZArDLZ/5s0zyNEofVUg1duRlCflT1a6Oi69/Vh77z6R/L/73/486uGWsf7I8qneF1+LyZgmDFnORz3xXqnmdTztma54Wg5RbEIBAARAwLT9EAUgBTDpUgAAE7CHw4aezpdMJW/ZTVZov+Ow+qVdn2xJDqN3yClm67G89zovOShonOn8ILu6YNXex7NEpMVkw75N7pGG9LX+g9gasDZy9XL91VnGoUrliyqG9y6PO+vDOpCsPhAkAc1EAon7tUr1Jb12Zr1aBePmJ3tL9yDYpdfPe8PJJFfiYaB+vrqmuvYmE+AKQV1//Sk44/yH9qAquF351v1RyloeNP1Y5v3bYpc3V2hZq+VjVr4bTXx25KADxBqPvPH+NHHLgHvFixc4zScR454UaSP0ypEf39r7x4xu8z6WaT+4z3gIbtYftyV3bJSzFq1ZSmfbOgKSrm7jj8AkBCECgUAmYFuAXqh3QCwLJCFAAkowKbRAofAKm5UWykTdQVs0krvTOBm9Bw0N3nCEXn93Z2y3h2huvJ9xMc9H77IOd1S97+H78s3uHvjJ3/hL99OLpQ2SH7bfR196TzZs3S+VGF8n6DZtit9Q2DQs+v09388bB2co7ZVtOJXCYPJZXr+Li+2zMDw00yYl3HgQpAMmWHcJyy1f+TMmVSZ4mHZfX3pkuXc8epq3Q0PkR0DfvDUyZR/Xa/sSj95IXH79EP5/JST7zXanmdb7smM4eil/QPHUmrHkGAhAwh4Bp+SEKQMyZW0gKAQhAQNRyfXsfeWsCia/fuVVa7VEnoS3sxcpVa6RG00v1Y1Wd4oy/ZiWu5KFvek68/wh+e/Q1cmjHLX8EDxOwukN7/yj9/svXyUH77e7e1p9hAudcFIAoQQ456T55f8osLZMqArmoZye5vvdRUtdJSqQ7gvAx1T7pdHfvexMJ8QUgG5wET729r5Elf6xyu8dWqTjzxP30tTp52Nk7+FJnD2H3OOeUDjLi/nPcy5wUgFzZb7QMG/Gufsd/n7tSjnR+leE9vMF4kF9jeOdFcdsLxb/P+1yqQNp95qdf/4xt/bR6zXq3KeFzK+fqgzHXy4H7Nklo5wICEICALQRMC/BtsQt6QkARoACEeQABOwmYmBcpad5AWTqTuDJ+hvz9z1rZsfVV4sZ+FcqXlUXThsi2NavEd/Ode+P1PXbbOWFrW7W96C+L/pTfnZh9yzquW4ZR21aMe/py3bDR2XZYFXNsdLajUUft7avJfOeHTemOls62GPN++j3WzbsFa9g4WA2SLu+UCznVe8PkscLoVdL5oWQr7vDOgyAFIOnyEep96ezgyhSUWz7zZ7nK03w94xdpe8QAV3VJx/ELZ2Xa9s4Kte7RcZ8m8sEr17uXGX3mM9+VTL982jHZ+73Qgs5T73NcQwAChUXAtPwQBSCFNf/QBgIQKHAC3n8AK3XHPnWZdHX2jSzJ4U2gqIB+xgdbgofixj7hvOHy6hvTdJfH7ukp559xkL4OE7C6D/W6eqSMfOEj91LeHHW1HN6pub52T4IGgKp/rgpApn37s+x7zO1671pXtnLONjjHOImOi87snFR2t18QPqbax9Ux3ac3kRBfAKKevf72l+S+R97UwxzQrnFsL2Hd4Jy06HSLfD93kW769LWbpX2bhvo6kxVA1C+1Jk6eKZM+mRXbI/m3Jctjn27C7JdFy2SNsx+xe+SyACRIQKrkCDKfXHndz8EO2z4O42THead1lMfvOyvZLdogAAEIWEHAtADfCqOgJAT+R4ACEKYCBOwkYGJepKR5A2Xpkv6B/5kXp8g5V43Qk6Z7lzbyyogtPwTSNzwn3nh94ot9pPMBTT29RFavXi9Pjpokdw3/b8IPOFTH+BVmf5j/uzTpcKPv+bAN8z+7V+o7K8yqI5M4OF3eKRdyKlnD5LHC6FXS+aFkK+7wzoNsFYCks4MrU1BuUcufKfnD2FH1924blS4f9ONPS6Xx/jeoR2PHgfvsJpNe2XLttsd/Rj3fFTU7Bp2n8Yw5hwAECo+AafkhCkAKbw6iEQQgUOAEdnC2avkjbquWYQNPk0t7HVIirV8cP1V6XPyoHuMIp9jiDafoIshx/rVPy4jRk3XXu288Qa679Ch9HTbQUQ9697uMcgGIknfMf7+U864ZKSuclVSSHS2b1okte3pwh2a+20H4mGofn7IpGryJBG8ByOwfFkuzgxK3GprhbCO0R5OdYyO+//EsOeTkLb8YSvYrjDAFIOvXb5RBTlGEmtfzf/kjhdT+ZlMLQNQvm5p1vFn/msrVrGyZreT3bx+QmjWquE18QgACELCOgGkBvnUGQmGrCVAAYrX5Ud5yAqblRZS5SpI3UM+X9A/8h50ySCZ+NFMNFTtefuISOf6ovdzLlJ/eeD1VAYg7gPrj9Z6H9Ze/Vqx2m6S5E7urrYDV8eb738pRZwzV9zI5UStVLv5mqNRytjBVR5C8Sqxj3P9Ll3fKhZzq9UELGVTfMHqVdH6o9xV3eOdBtgpA0tnBlSkot6jlz5T8YeyYSf/5P/8hu+63ZcWP4gpATMl3Rc2OQeepO1/5hAAECpOAafkhCkAKcx6iFQQgUMAE9j/2Dvn0qx+1hldfcLgM6n+Kvs7k5OkXPpZzr35KP9qlUwt5fdRV+rq4k7OvGCHPvjxFd7n9uuOk7xXH6OuwgY56MOg/rIMGgGrMXK0AosZWx8+/LpPbH5ggzzks1jkFBN5DJShu87BRfYLwMdU+Xgaprr2JBG8BiHruoOPvlsmfzdVDXN7rUBk68NTY9UnnPyRjXv9K3/OuQqNuBC0A2eQsQ3vKhY/IK29sGU8PnObE1AKQJUtXOgUgfWW5s3Sv93jt2SvkqENaeZu5hgAEIGANAdMCfGsMg6IQcAhQAMI0gIC9BEzLi7iWyjRvoJ4vyR/4f130lzRo30c2O6tcqmPbGpVj279UqFAudl3c//PG6+kKQNRYI0d/JL2uHamHVfmQVXMfkcqVK/j0UJ1qbLO17pvupIzzQ4UTj2knjzqrz7pHkLyK29f9TJd38vJWz5VUTjVGmDxWGL288gbZelbJE/TwzoOoFoBELX+m+IaxYyb9gxaAmJTvipod031fBPUj+kEAAmYTMC0/RAGI2fMN6SEAAQsJnHnZEzLqlU+15vV22Vbmfny3lHf2b8308K6gsGfzuvLV2wMCDdf1rAfktXe/0X2ff+QiOblrO30dNtBRDwb9h3WYwNlbAHK080ftCc4ft4s7up09TCa8M113+fLN/tKmZT19nexE/TH9GWf7mkef+0AW/PpnQheV9Hhr9DVyaMc9dHsQPqbaRyuZ5sSbSEhWAOJdrrZm9cqy8Kv75c+//paG+1yn9w/epmolWTjtfqlSuWLCW4MWgFza9z/y8DPvJzy7/967Sq8eHWX3xjs6ex3XkGpVKsXu33DnS/LU81u2KjK1AKTHRY/IixO+SNDZvWjgLKk74/3bY4k6t41PCEAAAjYRMC3At8k26AoBCkCYAxCwl4BpeRGvpcLmDdTzJfkD/73DX5cb7hqjxbjozE7y8N1n6uviTrzxepACEO+WFGp8N5/y7cyF0vrQfvqVzRrvJN9Nul1fZ3ISJK/iHTdd3ikXcioZwuSxwuhVkvnhZZPs2jsPoloAErX8mWIZxo6Z9A9aAGJSvitqdkz3fZHMZ2iDAAQKj4Bp+SEKQApvDqIRBCBQ4ARuGzJe+g8al6DliEHnyDmndkhoC3Pxk1OooP6I7h7q1yBq64cyZcq4TSk/Wx3cT2bMXqjve/94HzbQUQMF/Yd1mMDZG7zv3aqBfP7GLVruZCeZFIC446htNZ5yfvVyZf//k7XrtqwIctyRbWTMk1v22Q3Cx1T7uCzSfXoTCd45pJ5X+wnv3OYqWfn3Wj3cMw+cJz/MXyK3DZ2g2y45q7MMv/MMfe2eBCkAUXugbt/88oSlau+64QS5/rItWxq546nPq/qPlgeefFc3mVgAMuHtr6XbOQ9qHZKd9Lm4i9xz80nJbtEGAQhAoOAJmBbgF7xBUBACcQQoAImDwSkELCNgWl4klXmC5g3U8yX5A3/LzrfId3MWaTE+Gnuj7N+usb4u7sQbrwcpAFmzZr1UaXxxwrDTnB8ZtXZ+bPTP6nVSbbdL9L1qVSrKijkP6+tMToLkVbzjpss75UJOJUOYPFYYvUoyP7xskl1750FUC0Cilj9TLMPYMZP+QQpATMt3Rc2O6b4vkvkMbRCAQOERMC0/RAFI4c1BNIIABAqcgAocmnS4Udas3aA13a1hbfne+cVE2bLpCzb0Q3EnahnAyo0ukg1O0YJ7pPpjtntffU7/7hdpc/iA+CZZMfshqeaswuAeYQMd9VzQf1iHCZyX/rlKare60hVL6u5cU36aOkhfe082bNgk7Y+6TaZ//4u+5f5iRTcEOPEG4fWdFVvmf36ffjIIH1Pto5VMc+JNJCQrAFFDXHLDc7GVVdzh2rVuIL8sWiaLnVVX3GP6uwOlZbNd3Ev9GaQAZMashdLqkOC/RMq0AOSCMw5KWK5WCxl3EmRexHXXp2GeW+UU07TofLPD8C/9/BBnO6k/l//jbGf0mm4r53yvTH2jXyxZpxs5gQAEIGAJAdMCfEvMgpoQiBGgAISJAAF7Cai4x6S8SDpLpcsbqOe9fYLEleq5ad/+LHt1uVWdxo7GDXaQOR/f5V6m/fTG60EKQD6fNl/2PSZxVY+fnfxLHScPo46dWl8pS/5Ypd/9zcSB0qKpP47XHdKchImD3aGC5J2yLad6d5g8Vhi9Mp0fLo90n955ENUCkKjlzxTXMHbMpH+QAhDT8l1Rs2OQ74t0PsR9CEDAfAKm5YcoADF/zqEBBCBgIYGb7h4jdz34eoLmZxy/nzx2b0/ZeusKCe3JLsa+MU2GjXhHru99lBzRuUWsi3clj25H7CmvPnVZssd129lXjJBnX56ir/dp00g+ee0mfa1OwgY66pmg/7AOEziravdKDS5MKHJxf4Gi3hl/qL49L38yYasddT+TAhAVtFSsf4Hea1dt2bMgZAGIereJ9lFyBzm8iYRUBSBfTF8QK8pJNabaquWjcX2T3g5SAPLCuM/l1Ese088Xt02QmiPdnZUz4rcISlU0NXHy93JYj8F63CC+lYnfqBeEee7ym0fJ8JHvablaNq0jX77VT1TxUwvnF2Lzf/lD31O+/fH4GwOtCqQf4gQCEIBAARAwLcAvAOSoAIHABCgACYyKjhAoSAIm5UXSGSBd3kA9n0lcqZ67ZsDzMuSJd9Rp7BhwTVfpd3U39zLtpzdeD1IA4t1mtKqzReuKOQ+J+73d6fh75MPP5uh3n9p9Hxn10AX6OuxJmDjYHTtI3inbcqp3h8ljhdEr0/nh8kj36Z0HUS0AUXpEKX+m5Aljx0z6BykAMTHfFSU7Bvm+ULbjgAAECpuAafkhCkAKez6iHQQgUKAEVqxcI433v17+/OufBA3btKjnbC/SWxrU3T6h3b1Qf0C/feh4Gf/29FjToFtOlqsvOiJ2/tzLn8hZVzzpdo199rvqWBlwbfeENvdi6ONvy7UDX9SFDar9vZf6SKf9m7pdYp9hAx31UNB/WIcJnNW4u+1/o8z76Xd1GjvUdiwvPX5Jwh+11zorq5xz1Qh5YfxUt5v+9BaAfPbVj/Lfd6dLr9M6Sv062+l+8SfeX9sctG8TeX/M9bpLUD4m2kcrmebEm0hIVQCihmlz2ICEVVnih3522Hlyxgn7xTfp8yAFIMqe+x17h35mlx1ryJyP7vIVVanlbHte/oSMef0r3VedpCoAmf3DYml20JbCqJrVK8tvXw+RChXKJTwffxF0XsQ/o86DPqd858Dudyf47yRnXh7ozE91JNsaZvjtp8sl5xwcu8//gwAEIGALAdMCfFvsgp4QUATcPyRuXjgCIBCAgIUETMmLZCNvoMybSVyptpipu9c1CattzP34btm1Qa3AM8YbrxdXAKK2Tbl18DgZ9OhbCeNf3utQGTrwVN027s1pclyv4fq6zFZbyXMPni+nHrePbkt2omJxtUrrXs6WvuXLl9VdgsbB+gHnJEjeKdtyqveHyWOF0SuT+RHPI925dx5EuQAkSvkzxTWMHTPpH6QAxMR8V5TsGOT7Ip0PcR8CEDCfgGn5IQpAzJ9zaAABCFhK4AGnAOOqW1/waV+pYjlp27J+LCBu1bSurFu/QX5wih4++WKefDbtx4T+g/udLFdd+G8ByObNm50/rt8q3876NaHPKV3byfFH7S37tm0UC7Cnfj1fXpww1bc6xlEHt5TXntuyxYo7SNhARz0X9B/WYQJnNe6dzrYWN9/7qjrVx7GHtZarHQYN69aK8RkwaKzM/OE3fT/+xFsAcrXzS5qhzi9pKjp/yO916oHOfx2dbTLq6IKStz/4Ti6+4dmElRSudQpu7nUKb9wjKB8T7ePqmO7Tm0gorgDkoafek8tuGeUbcruaVeTXLwdLxYrlffdUQ5ACEJVM2qbJJbJpc5Ee44Sj2sojd58l229XVVRx0GTnV0r9nTnyqVMs4j1SFYD8/c9aZ9zeCd17dGsvN195rJQvVzZWRLRi1Rrpf82WX2EFnRcJgzoXQZ5TK3y0dbZuit8DuueJ+8vTD/RKGK7b2cMSVjjZxtna6ftJd8jOTmEMBwQgAAFbCJgW4NtiF/SEgCJAAQjzAAIQMCEvko28gbJ0JnGlNw4+oF1jmTz2xlATxxuvX3JWZ2m9R92EMdSWu/N+WurE3d8kbNGqOqk48puJt0m9OtsmPHPISffJ+1NmJbSdffIBora22aPJzrJNta1j9/5ytij98NM58t+J38gL4z6TVf+sk7HOarVdnVVr3SNIHOz2dT+D5p2yKad6d5g8Vhi9MpkfLosgn955EOUCkCjlzxTbMHbMpH+QAhAT811RsmPQ74sgvkQfCEDAXAKm5YcoADF3riE5BCBghSM6+QAAQABJREFUOQG1BcVV/Z93tnJ5NyMSWzlPvftiH+l8wJYVO956f4Yc03Nowh/AgwyuVkp45/k+0nS3HX3dwwY6aoCg/7AOEzircZc5K6bUb3et/OP8oT+TI1UBSPxYqhhkx1rbyDInSaESE/FHrW2rytQ3+ickPsLwMc0+8boXd+5NJBRXAKKSP7u0vVrWrtuYMOQ1ThHPfU5BU6rDm/g666QDZOTQc33dz3K2/nluzCcJ7cqmaoWXXxYtkzVOEUiqI1UBiOrf9awH5LV3v0n1qKi5seTbB/T9MPNCP+ScBHnu9qETpN99Y/Vj1Z3E2qzJd0ptZ97GHwucLWCad7o5QWdVEPPSE4nFLPHPcA4BCECg0AiYFuAXGn/0gUBxBCgAKY4O9yBgBwET8iJuAUi8RcLmDdxnw8aVp/d+XEaP/cx9XB69u6dccOZB+jrIiTdeD/KM22frSuXljVFXScd9d3eb9KdaLXWfo2+Tjc62uckOFSP/7awokiwGHzX8goTVQoLEwd53BM07ZVNOJUOYPFZYvcLODy+T4q698yDKBSBKj6jkz5QsYe0Ytn+QAhAlh4n5rqjYMej3heLMAQEIFC4B0/JDFIAU7lxEMwhAwBICD498T26571X5a8XqwBo3aVRbHhh4mhzRuYXvmU+/nOdsb/Gk/LBgy1Ypvk5xDV0Pby0jBp8r2znBebIjbOCixgj6D+swgbMrm1rC88zLnoglEtw276cqjrny/MOkZbO6cu7VT+nb3gKQ58d+Lqf1fkzfL+5EJXhe/89VCQU3qn9YPibZpzge8fe8iYTiCkDUc2dc+oT836uf6iGUvVQBw27OvE51BC0AWfX3Wml35ECZ8+OSVEPF2mtss7UMvPY4ubzf/+l+xRWAfD5tvhzQ9Y6UxVWqCOOvWVuWwA07L1wh0j03b8FSadH5ZmdloC0FNMOc74JLex3iDpHweYdTLHJLXLGIuvnmqKvl8E7NE/pxAQEIQKBQCZgW4BeqHdALAskIUACSjAptELCTQJTzItnIG7hWDRNXrnRWmdxpz6t0AYXKSSyadr/UrFHFHS7Q5wnnDZdX35gWqG98p477NJFhzjairfaoE9+ccP7VNz9Lr2ueSrnNa0Ln/12ULbOVfPbfftK2VT19O10crDvGnQTNO6lHsiWnGitMHiusXmHmh5IlzOHN20S9AETpFoX8mZIjrB3D9g9aAGJqvisKdgzzfaFszgEBCBQmAdPyQxSAFOY8RCsIQMAyAmpli+Ej35Vxb30t02b8nFT7alUqyuEHNZcTjm4nJx27t5QtWyZpP9Wo9m3te9eY2LYZPzrLeG52VhuJP9Qfq9WSn6d230cu7Nkp/pbvXMlWZ68tKzaogpGxIy/39YtvuOnuMXLXg6/HmtResFMm3CTt2zSM7xI7/37OItnz0P76FyMXOkuFPnJPT18/b8O3MxfKeU6SQbGK/7VJla0ryIFOkuLai7vIwR2ayVgnyXG8k+xQRzmHl9r+onHDHRKGe91ZhnToE2/LB1NmJ4zldlJJlvNO6yjX9z5K6uxc023Wn5nwMcU+Wsk0J6ogZ9Qr/xZ0VHD28Z3x/u0+zvFDTJn6gxx80r2y3tnKRB3du7SRV0ZcGt/Fd64Cxg7d7tJz2bsVT/wDKii+96HXZYizvc9qz2oxqvCj0/5NZcitp0rVyhVjq5EoOVQRykfjbpT99m4cP1TCudpz9ewrR8jseYsT2tWzapnb+LmbybxQg6Z77qUJX8gpFz2i36+2dlJLAKf6Pli3boPzq6zb5ZuZW7aGuqfvidKn95F6DE4gAAEIFDIB0wL8QrYFukHAS4ACEC8RriFgNwEVC0U1L1LSvEG8ZYPGlSOf/8gprhipH810NcfxTp7p7CuflOUr1+ixvCdqpY9a21VzVkOt7sTLu8sxh+4pHfbZzdst6bXaolTF32olTpV/is/RuA+omLlp453kGGcL33NOOdC3+my6ONgdJ/4zaN7JfSYbcqqxwuSxMtEr6Pxw9Qr6Gb96hMrTffjqDbK/s6VQ/JGJvEHtEIZbvEylnT9TsoTl8ueyv6Xu3tfolW+7Odsdvepse5TqWLJ0pTRo30f/0Ke4/qbmu0rbjkHnaSob0Q4BCBQGAdPyQxSAFMa8QwsIQAACmsAff/4tPy9cJr//uULWrt0oO2xfTXZ2tmjZZceaUt7543rYQ+0TOXPuYue/RVLF+YN36+Z1pUHd7fSe20HGU2P84QQw5cqVlR132CbQs7//sTImf80alaWas2dsqkMFASqYquAUWni3sEj1jNu+1tnOQ/1he+bc36Rxg1pOkUkjHyM19t/OVi7b1qwsVasUL4daGnTx0hWiAqodd6gujerVirGqWLG8+8qkn5nwcQeKun1cOdN9qoB1vbMqhUoaVXKSR+kOl1kYu7tzZetKFWT77ZKvWBP/XjU/fvx5qcx1VgNZ6di0bcv6zl7EOyXMXzXmn8v+kepOYYj6L8ixaPFymfXDb6L2Sa5ZvUrsF1FqvngPV8cwfqPGSPec2kZn1d/rpGLFcrHvB/ePJ973u9dqWeV/7bPJ+Q6okHK1H7c/nxCAAAQKiYBpAX4hsUcXCKQj4P4bZvPCEem6ch8CELCMQBTzIsoEKn7MNG/gNWG6uPKQk+6T96fM0o+96vxoopvz44koHyonoFajVTmaWB7GyQepHEGz3XZOG2+ni4OT6R007+R9tiRyqrHc3ESQfEYmeql3pJsfqk/YQ/Fa52zHu23NKrH8YLLnM5E3qB3CcEslW2nkN5UsYbnkur+p+S6XZWnYMeg8TTb3aIMABAqDgGn5IQpACmPeoQUEIAABCEAAAhCAAAQgAAEIZJmAaQF+ltVnOAhEmgAFIJE2D8JBAAKlSODnX5dJw336iLuW63bOH+wXTRvi+8FLKYrIqyEAAQhAAAIQgIBRBEzLD1EAYtT0QlgIQAACEIAABCAAAQhAAAIQyBcB0wL8fHHhPRCIAgEKQKJgBWSAAASiSODuB/8rfe9+RYt2yVmdZfidZ+hrTiAAAQhAAAIQgAAEwhEwLT9EAUg4+9IbAhCAAAQgAAEIQAACEIAABCwhYFqAb4lZUBMCMQIUgDARIAABCCQn0Pygm2Wms+2oe3wy4SbZp20j95JPCEAAAhCAAAQgAIGQBEzLD1EAEtLAdIcABCAAAQhAAAIQgAAEIAABOwiYFuDbYRW0hMC/BCgAYSZAAAIQ8BOY++MS2f3AvvpGk0a1ZdbkO/U1JxCAAAQgAAEIQAAC4QmYlh+iACS8jXkCAhCAAAQgAAEIQAACEIAABCwgYFqAb4FJUBECmgAFIBoFJxCAAAQ0gVV/r5VL+/5Hfvr1T6m8dQW54rzD5IjOLfR9TiAAAQhAAAIQgAAEwhMwLT9EAUh4G/MEBCAAAQhAAAIQgAAEIAABCFhAwLQA3wKToCIENAEKQDQKTiAAAQhAAAIQgAAEIAABCEAghwRMyw9RAJLDycDQEIAABCAAAQhAAAIQgAAEIGAuAdMCfHNJIzkEwhOgACQ8M56AAAQgAAEIQAACEIAABCAAgfAETMsPUQAS3sY8AQEIQAACEIAABCAAAQhAAAIWEDAtwLfAJKgIAU2AAhCNghMIQAACEIAABCAAAQhAAAIQyCEB0/JDFIDkcDIwNAQgAAEIQAACEIAABCAAAQiYS8C0AN9c0kgOgfAEKAAJz4wnIAABCEAAAhCAAAQgAAEIQCA8AdPyQxSAhLcxT0AAAhCAAAQgAAEIQAACEICABQRMC/AtMAkqQkAToABEo+AEAhCAAAQgAAEIQAACEIAABHJIwLT8EAUgOZwMDA0BCEAAAhCAAAQgAAEIQAAC5hIwLcA3lzSSQyA8AQpAwjPjCQhAAAIQgAAEIAABCEAAAhAIT8C0/NBWM2bMKAqvZuk90aJFi9jLNy8cUXpC8GYIQAACEIAABCAAAQhAAAIQKHgCboDvxM0FrysKQsA0AuSHTLMY8kIAAhCAAAQgAAEIQAACEDCTgGn5IQpAzJxnSA0BCEAAAhCAAAQgAAEIQAACOSZgWoCfYxwMD4FIEaAAJFLmQBgIQAACEIAABCAAAQhAAAIFS8C0/JCxW8AUFRm1cEnBTngUg0A8ge+++y522bx58/hmziEAgQgQwD8jYAREgAAEIAAB4wi4W0wQfxpnOgS2gAD+aYGRUdFYAsSfxpoOwS0ggH9aYGRUhAAEIACBrBMwLf6kACTrU4ABIWAvAQIIe22P5tEngH9G30ZICAEIQAAC0SNgWoAfPYJIBIHcEcA/c8eWkSFQUgLEnyUlyPMQyB0B/DN3bBkZAhCAAAQKl4Bp8ScFIIU7F9EMAnknQACRd+S8EAKBCeCfgVHREQIQgAAEIKAJmBbga8E5gYAFBPBPC4yMisYSIP401nQIbgEB/NMCI6MiBCAAAQhknYBp8ScFIFmfAgwIAXsJEEDYa3s0jz4B/DP6NkJCCEAAAhCIHgHTAvzoEUQiCOSOAP6ZO7aMDIGSEiD+LClBnodA7gjgn7ljy8gQgAAEIFC4BEyLPykAKdy5iGYQyDsBAoi8I+eFEAhMAP8MjIqOEIAABCAAAU3AtABfC84JBCwggH9aYGRUNJYA8aexpkNwCwjgnxYYGRUhAAEIQCDrBEyLPykAyfoUYEAI2EuAAMJe26N59Angn9G3ERJCAAIQgED0CJgW4EePIBJBIHcE8M/csWVkCJSUAPFnSQnyPARyRwD/zB1bRoYABCAAgcIlYFr8SQFI4c5FNINA3gkQQOQdOS+EQGAC+GdgVHSEAAQgAAEIaAKmBfhacE4gYAEB/NMCI6OisQSIP401HYJbQAD/tMDIqAgBCEAAAlknYFr8SQFI1qcAA0LAXgIEEPbaHs2jTwD/jL6NkBACEIAABKJHwLQAP3oEkQgCuSOAf+aOLSNDoKQEiD9LSpDnIZA7Avhn7tgyMgQgAAEIFC4B0+JPCkAKdy6iGQTyToAAIu/IeSEEAhPAPwOjoiMEIAABCEBAEzAtwNeCcwIBCwjgnxYYGRWNJUD8aazpENwCAvinBUZGRQhAAAIQyDoB0+JPCkCyPgUYEAL2EiCAsNf2aB59Avhn9G2EhBCAAAQgED0CpgX40SOIRBDIHQH8M3dsGRkCJSVA/FlSgjwPgdwRwD9zx5aRIQABCECgcAmYFn9SAFK4cxHNIJB3AgQQeUfOCyEQmAD+GRgVHSEAAQhAAAKagGkBvhacEwhYQAD/tMDIqGgsAeJPY02H4BYQwD8tMDIqQgACEIBA1gmYFn9SAJL1KcCAELCXAAGEvbZH8+gTwD+jbyMkhAAEIACB6BEwLcCPHkEkgkDuCOCfuWPLyBAoKQHiz5IS5HkI5I4A/pk7towMAQhAAAKFS8C0+JMCkMKdi2gGgbwTIIDIO3JeCIHABPDPwKjoCAEIZECgqKhIVq9eLWXLlpVKlSplMAKPQCCaBEwL8KNJEakgkBsC+GduuDIqBLJBgPgzGxQZAwK5IYB/5oYro0IAAv8SID/ETChUAqbFnxSAFOpMRC8IlAIBAohSgM4rIRCQAP4ZEBTdIACB0ASWL18uu+66qyxbtiz27GmnnSajRo0KPQ4PQCCKBEwL8KPIEJkgkCsC+GeuyDIuBEpOgPiz5AwZAQK5IoB/5oos40IAAuSHmAOFTMC0+JMCkEKejegGgTwTIIDIM3BeB4EQBPDPELDoWjAEVqxYIX/88YeoXx9Uq1ZNateuXTC6RUmRhQsXSp06dbRIHTp0kMmTJ+trTiBgMgHTAnyTWSM7BMISwD/DEqM/BPJHgPgzf6x5EwTCEsA/wxKjfyEQID+UHyuSH8oPZ95SOgRMiz8pACmdecJbIVCQBAggCtKsKFUgBPDPAjEkagQmMHr0aDn99NNjxR/uQz179pRnnnnGveQzSwQI8LMEkmEiScC0AD+SEBEKAjkigH/mCCzDQiALBIg/swCRISCQIwL4Z47AMmxkCZAfyp9pyA/ljzVvyj8B0+JPCkDyP0d4IwQKlgABRMGaFsUKgAD+WQBGRIVQBA444ACZMmVKwjPlypWTRYsWSa1atRLa83mxdu1aqVChgpQpUyafr83puwjwc4qXwUuZgGkBfinj4vUQyCsB/DOvuHkZBEIRIP4MhYvOEMgrAfwzr7h5WQQIkB/KnxHID+WPNW/KPwHT4k8KQPI/R3gjBAqWAAFEwZoWxQqAAP5ZAEZEhcAE5s2bJ40bN07af9iwYXLZZZclvZfLxqlTp0qnTp1k9erVUrZsWRk8eLBcccUVuXxl3sYmwM8bal5UCgRMC/BLARGvhECpEcA/Sw09L4ZAWgLEn2kR0QECpUYA/yw19Ly4FAiQH8ovdPJD+eXN2/JLwLT4kwKQ/M4P3gaBgiZAAFHQ5kU5wwngn4YbEPFDERg4cKD0798/6TPt27eXzz77LOm9XDaOHz9eunXrpl+hij+GDh2qr00+IcA32XrIno6AaQF+On24D4FCIoB/FpI10aXQCBB/FppF0aeQCOCfhWRNdElHgPxQOkLZvU9+KLs8GS1aBEyLPykAidb8QRoIGE2AAMJo8yF8gRPAPwvcwKiXQKBJkyYyd+7chLb4i9mzZ4vqk8+DApB80uZdEMgeAdMC/OxpzkgQiD4B/DP6NkJCewkQf9prezSPPgH8M/o2QsLsESA/lD2WQUaiACQIJfqYSsC0+JMCEFNnGnJDIIIECCAiaBREgsD/COCfTAVbCKjVPfbdd1+t7vHHHy8rVqyQiRMn6rZbbrlF1K9A8nlQAJJP2rwLAtkjYFqAnz3NGQkC0SeAf0bfRkhoLwHiT3ttj+bRJ4B/Rt9GSJgdAuSHssMxzCgUgIShRV/TCJgWf1IAYtoMQ14IRJgAAUSEjYNo1hPAP62fAtYAuOyyy2T48OFa35deeilWAHLeeefptkaNGonaBzbTY+XKlfLtt9/Kzz//LDVr1pSGDRvK7rvvXuxwmRaArFu3LiZ/+fLlY+8q9iX/u7ls2TLZuHGjVK9eXSpWrJj2kU2bNon6jlCB+tKlS2WbbbYRxUj9V7Vq1bTPE+CnRUQHgwmYFuAbjBrRIRCaAP4ZGhkPQCBvBIg/84aaF0EgNAH8MzQyHjCUAPkhEfJDhk5exI4kAdPiTwpAIjmNEAoCZhIggDDTbkhtBwH80w47267lhg0bZJdddokVMSgWqnjh999/F1VEUbt2bVm/fr1G9NFHH8kBBxygr9OdqDEGDBggo0ePlp9++snXvU6dOnLBBRfIlVdeKdWqVYvdf/LJJ+Wiiy6SoqIi2bx5s++ZMmXKJLS1bt1avvrqK902Z84cadmypZb7wgsvlEcffVTfT3Zy7rnnysiRI2O3VPHH999/Hyvk8PZVMr399tvy+OOPx1ZHUaukJDuaN28ugwcPliOOOCLZ7VgbBSAp0XCjAAiYFuAXAHJUgEBgAvhnYFR0hEDeCRB/5h05L4RAYAL4Z2BUdDSYAPkhEfJDBk9gRI8kAdPiTwpAIjmNEAoCZhIggDDTbkhtBwH80w47267la6+9Jscee6zGcMYZZ8hzzz0Xuz7uuONk7Nix+p4qzHjkkUf0dXEn06ZNk549e8qMGTOK6xa717hxY3nvvfekbt26ctVVV8nQoUPTPuN2qFChQqxYxb2eOnWqtG/f3r0UpcMrr7yir5OddO3aVSZMmKBvqYKSNm3a6Gt18tdff0n37t3lww8/TGgv7uKcc86Rp556KmkXCkCSYqGxQAiYFuAXCHbUgEAgAvhnIEx0gkCpECD+LBXsvBQCgQjgn4Ew0clwAuSHRMgPGT6JET9yBEyLPykAidwUQiAImEuAAMJc2yF54RPAPwvfxmgo0qNHD3nhhRc0ChXwH3300bHrF198UU455RR9b9ttt5XffvtNVNFFccfs2bOlVatWehWO4vq692655RYZOHCg3HPPPXLDDTe4zWk/69evLwsWLND9clUAolYRufjii/V73BO1IonaNmb58uWxVUvcdvfzjTfekC5duriX+pMCEI2CkwIkYFqAX4AmQCUIpCSAf6ZEww0IlDoB4s9SNwECQCAlAfwzJRpuFBAB8kPBCkDIDxXQpEeVnBMwLf6kACTnU4IXQMAeAgQQ9tgaTc0jgH+aZzMkDkdg5cqVsuOOO8qaNWtiD6oCj8WLF0v58uVj16pdbQOzatUqPfCrr74aWwlDNyQ5USuKqEIS91D/2L/uuutiK400bdo0th3MxIkTZdCgQbHtZlQ/tQ3MkCFDZPXq1bHtVdR2K2q1DbWVinscdthhcumll7qXsc/ddttNmjVrpttyVQCiZLv66qtj71Fb5qhlQVVxjHq/KohRcqtVRJQeiqF7qEKY6dOnu5f6kwIQjYKTAiRgWoBfgCZAJQikJIB/pkTDDQiUOgHiz1I3AQJAICUB/DMlGm4UCAHyQ/8aMsgKIOSHCmTSo0ZeCBgXfzoJaaMOx4pF6j8OCEAgegScpfGL1H8cEIBA9Ajgn9GzCRJll4CzPUns34juvxXPP/983wvOPPPMhD4nnHCCr098w9tvv53Qv1y5ckWjR4+O76LPnQRDkbNNTKz/8OHDdbt7Mm7cuISxrrjiCvdWys/PP/884RlnC5iUfd0bTsFKwjPOFjDuLf355ZdfFh188MFFDzzwQNHatWt1u/fk448/ThjLWSGkaN26dd5uRb/++mtCvw4dOvj60AABUwm43ymmyo/cEChkAvhnIVsX3UwnQPxpugWRv5AJ4J+FbF10UwTID/07D8gP4Q8QyC4B0+JPVgBxLMYBAQhkhwAV5NnhyCgQyAUB/DMXVBkzSgQOOeQQee+997RI6rxz5876Wp2oLUyOOuoo3VaxYsXYChc1atTQbfEn3jFPO+00GTVqVHwX37laDWPnnXcWtyrc7TB+/Hjp1q2beylOAYgMHTpUXyc7ydUKIMnelaqtffv2ouRwjzlz5sRWCnGv1ScrgMTT4LzQCLi+7KQNCk019IGA8QTwT+NNiAIFTID4s4CNi2rGE8A/jTchCqQh4M3lkB/6F5jzAyFp06ZNGnqpb5MfSs2GO3YQMC3+pADEjnmJlhDICwECiLxg5iUQyIgA/pkRNh4yhICzAoXUr19fNm/eHJN4p512EtXmrFiRoMHGjRtjxRlLly7V7Y8//rg4q4Xo6/gTVcjx22+/6aZPPvlE9t13X30d5sTUAhBV9OKseqJVfffdd0UlU+IPCkDiaXBeaARMC/ALjT/6QKA4AvhncXS4B4HSJUD8Wbr8eTsEiiOAfxZHh3umEyA/tMWCQbaA2dI7/Rn5ofSM6FHYBEyLPykAKez5iHYQyCsBAoi84uZlEAhFAP8MhYvOhhG499575frrr9dSF7e6Ru/eveXhhx/WfTt27CiTJk3S1+7JP//8I1WrVnUvpXbt2rHVQnRDyBNTC0AUy2HDhmltX3/9dTnyyCP1tTqhACQBBxcFRsC0AL/A8KMOBIolgH8Wi4ebEChVAsSfpYqfl0OgWAL4Z7F4uGk4AfJDWwyY7QIQ8kNb2HJmJwHT4k8KQOycp2gNgZwQIIDICVYGhUBWCOCfWcHIIBEl0KpVK/n222+1dMWt1PHRRx/JgQceqPuqf7zPnz8/toKIbnROpk+fLnvuuaduatu2rXz55Zf6OuxJVAtA1LYWEydOlA8++CC22ola8UT9t3r16piKv/zyi6xZs0arSwGIRsGJJQRMC/AtMQtqQiBGAP9kIkAgugSIP6NrGySDAP7JHChkAuSHtlg3bAEI+aEt7DiDQDICpsWfFIAksyJtEIBARgQIIDLCxkMQyAsB/DMvmHlJKRDwFmooEd5+++2UkqiA9ogjjki4f8cdd0jfvn0T2saMGSMnnniibjvmmGNkwoQJ+jrsSdQKQNavXy/33XefjBgxIlYAE1QfCkCCkqJfoRAwLcAvFO7oAYEgBPDPIJToA4HSIUD8WTrceSsEghDAP4NQoo+JBMgPJVotaAEI+aFEblxBIBUB0+JPCkBSWZJ2CEAgNAECiNDIeAACeSOAf+YNNS/KM4E+ffrIoEGDSvTWZs2ayffff58wxsiRI+Xcc8/Vbccee6yoIo5MjygVgGzatElOPvlkeeWVV0KrQwFIaGQ8YDgB0wJ8w3EjPgRCEcA/Q+GiMwTySoD4M6+4eRkEQhHAP0PhorNBBMgPJRorSAEI+aFEZlxBoDgCpsWfFIAUZ03uQQACoQgQQITCRWcI5JUA/plX3LwsTwQ2b94sdevWlUWLFpX4jV988YXstddeepx3331XDjvsMH2t7qk+mR7ZKAA5+uij5bXXXitWhCABfu/eveXhhx9OGGf//feXXr16SdOmTWWnnXaSatWqxe5ff/318tRTT+m+FIBoFJxYQsC0AN8Ss6AmBGIE8E8mAgSiS4D4M7q2QTII4J/MgUIkQH7Ib1XyQ34mtECgJARMiz8pACmJtXkWAhBIIEAAkYCDCwhEigD+GSlzIEyWCHiLNEoy7JVXXilDhgzRQ8ybN08aN26sr2vXri2LFy/W12FPMikA+fbbb0XtX+see++9t0ydOtW9TPqZLsBXW+Bst9128tdff+nn77rrLrnhhhv0dfyJ4vLAAw/oJgpANApOLCFgWoBviVlQEwIxAvgnEwEC0SVA/Bld2yAZBPBP5kAhEiA/5Lcq+SE/E1ogUBICpsWfFICUxNo8CwEIJBAggEjAwQUEIkUA/4yUORAmSwTOPvtseeaZZ/RoF110kQwdOlRfF3fSt29fuf/++3WXHXfcUX799VcpW7ZsrG3Dhg1SqVIlUb8icQ9VfKGKMDI5vAUgF1xwgTz22GPFDrV06VLZYYcddB+12snPP/+sr70nSuZ27dqJ2vfWPb766itp06aNeykzZsyQli1b6utk29/om84JBSDxNDi3kYBpAb6NNkJnewngn/baHs2jT4D4M/o2QkJ7CeCf9tq+kDUnP5RoXfJDiTy4gkA2CJgWf1IAkg2rMwYEIBAjQADBRIBAdAngn9G1DZJlRmD16tWiijZWrVqlB5g0aZJ07NhRXxd38vXXXycURqi+b7zxhnTp0kU/1qhRI5k/f76+Pu2002TUqFH6OtnJO++8Iw0bNkxYPUT1mzhxohx66KH6kW7dusnYsWP1dbITtVpHxYoVRQXu7qHkbt26tXupP1XfM8880yeftwDkhRdekB49eujnittWRo2p5JwwYYLuzwogGgUnlhAwLcC3xCyoCYEYAfyTiQCB6BIg/oyubZAMAvgnc6DQCJAfSrQo+aFEHlxBIFsETIs/KQDJluUZBwIQEAIIJgEEoksA/4yubZAsMwKjR48WVZDhHrvssov88ssv4v5j3G0v7nOPPfaQmTNn6i6nn366/Oc//9HXgwYNkj59+ujrcuXKydNPPy2qn/f4/fff5bzzzosVSyRb3WP27NnStGlT/VjNmjVjW8pUqFBBtyU7UdvQqO1o3OO4446Tl19+WcqUKeM2ydq1a0X92kUVd3gPbwHIZ599Jvvuu6/uprjNnTtXtt56a92mTtasWRMrKBkzZkxCOwUgCTi4sICA+52ikmgcEIBAtAjgn9GyB9JAIJ4A8Wc8Dc4hEC0C+Ge07IE0JSdAfoj8UMlnESNAID0B0+JPCkDS25QeEIBAQAIEEAFB0Q0CpUAA/ywF6LwypwTUyhWqGME91FYlQ4YMcS8Dfd5+++1yyy236L5VqlSJFWVUrVo11qZ+RaJWAVmyZInuo04uueQSOfbYY2W33XaLbcmiVvcYNmyYXo3k4osvlocffjjhmb///luqVauW0KZW4lDvL1++vLz22muyYsUKGTBgQEKfO+64Q26++eaENvXua665JrbSiCro6N+/f0IhS3xnbwGIKuxQcmzatEl3O+GEE+TRRx+V7bffPlZMMnnyZOnXr598+umnuo97QgGIS4JPWwiYFuDbYhf0hIAigH8yDyAQXQLEn9G1DZJBAP9kDhQaAfJD5IcKbU6jTzQJmBZ/UgASzXmEVBAwkgABhJFmQ2hLCOCflhjaEjVVQUadOnVk48aNWuNPPvkkYWULfaOYkx9//FF23XXXhB7PPvtsbOULt3H48OFy2WWXuZeBPnv37i3qOe+hCjdUoUeqo1atWqJWEok/li1bJvXq1ZN//vknvjnwubcARD3Ys2dPee655xLGUFvN1K9fP7aKiioSSXVQAJKKDO2FSsC0AL9Q7YBeEEhGAP9MRoU2CESDAPFnNOyAFBBIRgD/TEaFNlMJkB8KbjnyQ8FZ0RMCyQiYFn9SAJLMirRBAAIZESCAyAgbD0EgLwTwz7xg5iV5IvD444/LhRdeqN+mChcWLFigr8OcqO1Q1Coa7qGKNMaPH+9exj6ffPJJufzyy2PboiTcSHLRsmXLWJGHKtrwHp9//rnsv//+CatvxPepXr26LF++PL4pdj5u3Dg544wzRK0ikupQQYhaBaVVq1Zyzjnn6G7JAvxVq1bJ3nvvLXPmzNH9kp3UqFFDBg4cGNPdvU8BiEuCT1sImBbg22IX9ISAIoB/Mg8gEF0CxJ/RtQ2SQQD/ZA4UEgHyQ35rkh/yM6EFAtkgYFz86exlbNThGEltvmyUzAgLAVsIzJgxo0j9xwEBCESPAP4ZPZsgUeYEBg0aFPv3oPvvwjvvvDPjwZ566qmEsTp27Jh0rG+++aaoU6dORc72MAn9XRmcwo8iZxuVonXr1iV93m10tlUp2n333X1jOEFEkVPU4nbzfar3t2vXrqhcuXIJzzrb1hR16dKlyNmGJvbMq6++qu+rvnPnzvWNpRpWrlxZdNNNNxVVrlxZ93d1cQo/irp3717kFNUU/fHHH0UVKlSI9VEyTpkyxTfen3/+WVSpUiU9TteuXX19aICAqQRcvzBVfuSGQCETwD8L2broZjoB4k/TLYj8hUwA/yxk69qnG/mhf/9eqv5dTH7IvvmPxvklYFr8yQogjsU4IACB7BCggjw7HBkFArkggH/mgipjliaBpUuXxlbkqFatmtSsWbNEoqhVN9SqGGXKlJEddthBypcvn3I8J7SQefPmyfTp02X16tWy4447SrNmzWJb0qR8KMmNRYsWyaxZs0TpoeRXK3eosdIda9euFacYRGbOnCmNGzeW9u3b++RV28ao1UK23XZbcQpWih1Sjae2wnEKRcQpCpG2bdvKHnvsoX9VrR5W2884RR6iVihR/yU71LYxTrGIOEUnMT3cqvhkfWmDgEkE3LmsfJ8DAhCIFgH8M1r2QBoIxBMg/oynwTkEokUA/4yWPZCm5ATID5EfKvksYgQIpCdgWvxJAUh6m9IDAhAISIAAIiAoukGgFAjgn6UAnVdCAAIQgIDxBEwL8I0HjgIQCEEA/wwBi64QyDMB4s88A+d1EAhBAP8MAYuuEIAABCAAgf8RMC3+pACEqQsBCGSNAAFE1lAyEASyTgD/zDpSBoQABCAAAQsImBbgW2ASVISAJoB/ahScQCByBIg/I2cSBIKAJoB/ahScQAACEIAABAITMC3+pAAksGnpCAEIpCNAAJGOEPchUHoE8M/SY8+bIQABCEDAXAKmBfjmkkZyCIQngH+GZ8YTEMgXAeLPfJHmPRAITwD/DM+MJyAAAQhAAAKmxZ8UgDBnIQCBrBEggMgaSgaCQNYJ4J9ZR8qAEIAABCBgAQHTAnwLTIKKENAE8E+NghMIRI4A8WfkTIJAENAE8E+NghMIQAACEIBAYAKmxZ8UgAQ2LR0hAIF0BAgg0hHiPgRKjwD+WXrseTMEIAABCJhLwLQA31zSSA6B8ATwz/DMeAIC+SJA/Jkv0rwHAuEJ4J/hmfEEBCAAAQhAwLT4kwIQ5iwEIJA1AgQQWUPJQBDIOgH8M+tIGRACEIAABCwgYFqAb4FJUBECmgD+qVFwAoHIESD+jJxJEAgCmgD+qVFwAgEIQAACEAhMwLT4kwKQwKalIwQgkI4AAUQ6QtyHQOkRwD9Ljz1vhgAEIAABcwmYFuCbSxrJIRCeAP4ZnhlPQCBfBIg/80Wa90AgPAH8MzwznoAABCAAAQiYFn9SAMKchQAEskaAACJrKBkIAlkngH9mHSkDQgACEICABQRMC/AtMAkqQkATwD81Ck4gEDkCxJ+RMwkCQUATwD81Ck4gAAEIQAACgQmYFn9SABLYtHSEAATSESCASEeI+xAoPQL4Z+mx580QgAAEIGAuAdMCfHNJIzkEwhPAP8Mz4wkI5IsA8We+SPMeCIQngH+GZ8YTEIAABCAAAdPiTwpAmLMQgEDWCBBAZA0lA0Eg6wTwz6wjZUAIQAACELCAgGkBvgUmQUUIaAL4p0bBCQQiR4D4M3ImQSAIaAL4p0bBCQQgAAEIQCAwAdPiTwpAApuWjhCAQDoCBBDpCHEfAqVHAP8sPfa8GQIQgAAEzCVgWoBvLmkkh0B4AvhneGY8AYF8ESD+zBdp3gOB8ATwz/DMeAICEIAABCBgWvy51YwZM4pMMluLFi1i4jpymyQ2skIAAhCAAARKlYD7v5+lKgQvhwAEIAABCBhKgPjTUMMhdkETcP99i38WtJlRDgIQgAAEskzA/d/PLA/LcBCAAAQgAAErCJgSf1IAYsV0REkIQAACELCdAAG+7TMA/SEAAQhAoCQETAnwS6Ijz0LANALuv2/xT9Msh7wQgAAEIFCaBNz//SxNGXg3BCAAAQhAwFQCpsSfbAFj6gxDbghEkABLCEbQKIgEgf8RMG2JMgwHAZsI4J82WRtdTSOAf5pmMeS1iQD+aZO10dU0AuSHTLMY8tpEgP/9tMna6GoaAfzTNIshr00ETPNPCkBsmp3oCoEcEyDAzzFghodACQiY9g+UEqjKoxAwjgD+aZzJENgiAvinRcZGVeMI4J/GmQyBLSJAfsgiY6OqcQT430/jTIbAFhHAPy0yNqoaR8A0/6QAxLgphsAQiC4BAvzo2gbJIGDaP1CwGARsIoB/2mRtdDWNAP5pmsWQ1yYC+KdN1kZX0wiQHzLNYshrEwH+99Mma6OraQTwT9Mshrw2ETDNPykAsWl2oisEckyAAD/HgBkeAiUgYNo/UEqgKo9CwDgC+KdxJkNgiwjgnxYZG1WNI4B/GmcyBLaIAPkhi4yNqsYR4H8/jTMZAltEAP+0yNioahwB0/yTAhDjphgCQyC6BAjwo2sbJIOAaf9AwWIQsIkA/mmTtdHVNAL4p2kWQ16bCOCfNlkbXU0jQH7INIshr00E+N9Pm6yNrqYRwD9Nsxjy2kTANP+kAMSm2YmuEMgxAQL8HANmeAiUgIBp/0Apgao8CgHjCOCfxpkMgS0igH9aZGxUNY4A/mmcyRD4/9k7E5g7qvIPn+4Fu9tKsZVSuhjsaisUDeIfIgQUsQW1tERiDcFQiEICLoFChBqXJhoRsUmlxg2oGgsltSxWibVSIS1LqSgtUPYutKGl+zb/e66ey51778w38505d87y3OTL3HvnnPe87/Oe38ycc883ExAB5ocCSjahOkeA86dzKcPhgAigz4CSTajOEXBNnywAca6L4TAE7CXAAN/e3OAZBFy7QCFjEAiJAPoMKdvE6hoB9OlaxvA3JALoM6RsE6trBJgfci1j+BsSAc6fIWWbWF0jgD5dyxj+hkTANX2yACSk3kmsEDBMgAG+YcCYh4AGAdcuUDRCpSoEnCOAPp1LGQ4HRAB9BpRsQnWOAPp0LmU4HBAB5ocCSjahOkeA86dzKcPhgAigz4CSTajOEXBNnywAca6L4TAE7CXAAN/e3OAZBFy7QCFjEAiJAPoMKdvE6hoB9OlaxvA3JALoM6RsE6trBJgfci1j+BsSAc6fIWWbWF0jgD5dyxj+hkTANX2yACSk3kmsEDBMgAG+YcCYh4AGAdcuUDRCpSoEnCOAPp1LGQ4HRAB9BpRsQnWOAPp0LmU4HBAB5ocCSjahOkeA86dzKcPhgAigz4CSTajOEXBNnywAca6L4TAE7CXAAN/e3OAZBFy7QCFjEAiJAPoMKdvE6hoB9OlaxvA3JALoM6RsE6trBJgfci1j+BsSAc6fIWWbWF0jgD5dyxj+hkTANX2yACSk3kmsEDBMgAG+YcCYh4AGAdcuUDRCpSoEnCOAPp1LGQ4HRAB9BpRsQnWOAPp0LmU4HBAB5ocCSjahOkeA86dzKcPhgAigz4CSTajOEXBNnywAca6L4TAE7CXAAN/e3OAZBFy7QCFjEAiJQIj6jKJI7Nu3T3Tr1k307t07pHQTq2MEQtSnYynC3YAJoM+Ak0/o1hNgfsj6FOFgwAQ4fwacfEK3nkCI+mR+yPpuiYP/I+CaPlkAQteFAAQKI8AAvzCUGIJA4QRcu0ApHAAGIWAxgdD0+fbbb4tRo0aJnTt3VrMye/Zs8dvf/tbiDOFayARC02fIuSZ29wigT/dyhsfhEGB+KJxcE6l7BDh/upczPA6HQGj6ZH4onL7tQ6Su6ZMFID70OmKAgCUEGOBbkgjcgEALAjoXKPJifOPGjdW/PXv2iMGDB4vRo0eL8ePHi65du7Zoja8gAIE8BPLq89ixY+LIkSN5mhA9e/bMVb4zhQ8ePCjuuususWrVKjFgwAAxY8YMcd555zWZev3118Xw4cNr35955pnVOrUveAMBiwjk1adFruMKBLwngD69TzEBOkyA+SGHk4fr3hPQOX8yP+R99yDAkgnk1SfzQyUnjOaDIpBXn2XDYQFI2RmgfQh4RIABvkfJJBTvCHTmAuW+++4TN998s1i/fn1LHgMHDhQzZ84U1113nRg7dmzLMnwJAQh0TCCPPpcuXSouv/xyIRdj5Xldf/31YsGCBXmq5C770EMPifPPP79W773vfa/Ytm1b00IxFoDUEPHGAQJ59OlAOLgIAa8IoE+v0kkwnhFgfsizhBKOVwQ6c/5kfsirLkAwFhPIo0/mhyxOJK55SSCPPm0AwAIQG7KADxDwhAADfE8SSRheEshzgSL/o+OCCy4Qa9asycRC3llgxYoV4pxzzslUnkIQgECcQB59yrtqyMm3vK9Zs2aJu+++O2+1XOVvvfVWccstt9TqyLi2bt0qhgwZUvtOvmEBSAwHHywnkEefloeCexDwjgD69C6lBOQRAeaHPEomoXhHIM/5k/kh79JPQJYTyKNP5ocsTybueUcgjz5tCJ4FIDZkAR8g4AkBBvieJJIwvCSQ9QIliiIxffp0sWzZslwc5s2bJ+SPv7wgAIH8BLLqU1qWi7MefPDB3I187nOfE7///e9z18tTQdr/whe+UKvSr18/sWPHDtG9e/fad/INC0BiOPhgOYE8+rQ8FNyDgHcE0Kd3KSUgjwgwP+RRMgnFOwJZz5/MD3mXegJygEBWfcpQmB9yIKG46BWBPPq0IXAWgNiQBXyAgCcEGOB7kkjC8JJA1guUn/70p+Kaa66JMZg6daqQCzwmTpwoevToIV566aXqD9CLFy8WW7ZsqZa98cYbxfz582P1+AABCGQjkFWf0lrjAF/e2WPKlCkdNnTuueeKSZMmdVhOp8Du3buFPBasXr1aDB48WEjf5syZ02SSBSBNSPjCYgJ59GlxGLgGAS8JoE8v00pQnhBgfsiTRBKGlwSynj+ZH/Iy/QRlOYGs+pRhMD9keTJxzzsCefRpQ/AsALEhC/gAAU8IMMD3JJGE4SWBrBcojYMH+aOxvNtA165dm7gcPHhQ3HHHHWLRokXitttuE5///OebyvAFBCDQMYGs+pSWGjX6wAMPiAsvvLDjRiwqwQIQi5KBKx0SyKPPDo1RAAIQKJQA+iwUJ8YgUCgB5ocKxYkxCBRKIOv5s3HsyfxQoWnAGARaEsiqT1m5UaPMD7VEypcQKIxAHn0W1qiGIRaAaMCjKgQgECfAAD/Og08QsIlA1guUIUOGiLfeeqvm+lNPPWX8rgG1xngDgUAJZNWnxMMAP9BOQtilEcijz9KcpGEIBEoAfQaaeMJ2ggDzQ06kCScDJZD1/Mn8UKAdhLBLJZBVn9JJ5odKTRWNB0ggjz5twMMCEBuygA8Q8IQAA3xPEkkYXhLIcoHyxhtviGHDhsXif/vtt0X//v1j3+X9IO8UsmvXrurjYwYOHJip+s6dO8WRI0eqbffq1StTHVlIPoJi/fr14pVXXhGyrZEjR4oPfvCDmeurgkXZOXz4sHjuuefEs88+W/Vn8uTJ4sQTT1TNZN5Kfv/5z3/Epk2bqndjkTbkYz/69u2byYZu/UyNUKjTBLLoUxk3OcA/evSokOdyeYeO7du3i379+olTTjml+tenTx/lQupW9nl53OjWrZsYNGhQy7J57gBi6vih7Pbu3bsap3L0zTffFP/85z+rx6yhQ4eKj370o7H9qlz9tiid19vkvT0E8ujTHq/xBAJhEECfYeSZKN0kwPyQm3nD6zAIZDl/Mj/0bl9gfuhdFrwzTyCLPpUXzA8pEsnbLPPLzA8l82NPnEAefcZrlvQpcuxVwRTJP14QgIB9BCo/cEbyjxcEIGAfgSznz3feeSeqXMhUz7Oq/PLly7WCqSxaiHr27Fmz+ZWvfKVDe3PmzKmVryz+iF544YXUOgcOHIi++c1vRiNGjKjVU/7L7fDhw6Nbb701qgza22JHNnLnnXdGU6dOjaT/9b7I9+973/uiyiM7oueffz7VH7nz4YcfjiZOnNhkQ9qp/MAefepTn4rWrVuXaEe3fqJhdhRKQPWRLEbPP//8WH+o3OIzS7XEMseOHYsqj3mKLr744qiy2CtmW/klt+PGjauWSzRU2VEZWEeVhSI1G5dccknL4q+99lqtjLR95plntixn6vixY8eO6Ljjjqv58Ktf/SqqLH6pHkfqj1fSNxlP5a5ILf0rSuctjfOlNQSUDqxxCEcgAIEaAfRZQ8EbCFhHgPkh61KCQxCoEchy/mR+qJh5Jgm9qHGj7vyObv1aB+KNUQJZ9KkcYH5IkWi9zTK/zPxQa3Z825pAHn22ttDeb51bSeEa4Pamk9YgUC4BBvjl8qd1CKQRyHr+HDNmTO1HUVln2rRpkRz4d/b1+OOPx+zNmDGjQ1Of+cxnYnXSFjjIfePHj4+VV7E2bkePHh1V7gzSsv2i7Mgfij/72c9m8qdy947onnvuaemP/PLqq6/OZKdyl4WWNnTrtzTKl0YIqL6axXiRA3y5YOOss87K1M+Uj3IAnfTKurAjazlTx4/G9n/0ox9Fs2fPTuRQufNOLOQidR4zzAcrCai+b6VzOAWBwAmgz8A7AOFbTYD5IavTg3OBE8h6/mR+6L//iKx4tdqmzTMVOW7Und/RrR+4ZNoavupnWRplfiidUpb5ZeaH0hmyN04gjz7jNcv5xAKQcrjTKgS8JMAA38u0EpQnBLJeoMycObPpR9CPf/zjiQsnOsJj6gdc2e6///3v2N1FVIxp23nz5jW5XJSdbdu2Ve820th+165do8qjaCK54KNxn/z8y1/+ssmnJUuWNJWV9SdNmhTJCYbu3bvH9h86dChmQ7d+zBgfjBNQ/SJLQ0UO8H/2s5/F+pHyQ/bZyiOUmu4IpPavWLGipauNA+ekO3tkLWfq+NHYvrwrj4qt1bb+LkRF6rwlRL60joDqE9Y5hkMQgEDt2A0KCEDAPgLMD9mXEzyCgCKQ9fqW+aGOF4BIlq3mmYocN+rO7+jWV/2GbXsIZNWn9Ib5ofScdGYBCPND6UxD35tHnzawYgGIDVnABwh4QoABvieJJAwvCWS9QJE6bvXYkuOPPz769re/He3atSsXH1M/4Eon5GNUVFxyKx9f841vfCP6+9//Xn1kw9q1a6Mf/OAH1UeuqHLXXnttk/9F2bnmmmti/shHTCxatKjGTD5qQ95pZMKECbFyJ510UlR53mTMr8mTJ8fKyLj27dtXKyNvUfjjH/84ev/73199REVtx//e6NZvtMdnswRU/8zSSpED/B/+8Ie1fjZs2LDqxJU8Bqj+uHfv3ujee++Nhg4dWisnfZWPJWr1alxY4coCEMVfbgcPHhx95zvfiRYuXBhdeumlkdRS/XGvSJ23Ysh39hFQ/cM+z/AIAhBAn/QBCNhLgPkhe3ODZxDIev5kfqjz80xFjht153d066OY9hLIqk/pFfND6bnpzAIQxV9umR9K5xviXtU/XImdBSCuZAo/IeAAAQb4DiQJF4MlkOcCZcGCBbEfe1Vdue3fv3/0rW99K9q+fXsmlqYWgMhnl9b7Je+IkfQ4ld27d0eXX355tfwdd9wR87soO88//3zUo0ePmk+9e/euLvaINfa/D/v376/eyaPe/9tvv71WVO6vt/XhD3+4tq/xjfyh/o033oh9rVs/ZowPbSGg+kKWxhoH+Pfff38kFxel/SXZlYukzjnnnOpiogMHDiQVi1avXl3r29JXeYcQtUikvpLrC0DGjh0bbdmypT6k2PsidR4zzAerCeTRp9WB4BwEPCSAPj1MKiF5Q4D5IW9SSSAeEshz/mR+qPVje9PmmYocN+rO7+jW97D7Wx9SHn0yP5SeTp0FIMwPpbMNdW8efdrAiAUgNmQBHyDgCQEG+J4kkjC8JJD3AkU+GqJnz56xH32VDbnt06dPdNNNN8X+M74VOFMLQOSP1vX+zJ49u1Xzse/kj9PyR/L6V1F2Lrvsspg/X//61+ubaXq/bNmyWPmzzz67VuaVV16J7TvttNNq+7K80a2fpQ3KFEtA9eUsVhsH+Kpu2lY+Pmjnzp1ZzCeWkf2wvg05qdX4cnkBiHzkzUsvvdQYUuxzkTqPGeaD1QRUv7faSZyDQKAE0GegiSdsJwgwP+REmnAyUAJ5z5/MDyV3lFbzTEWOG3Xnd3TrJ0fOHlME8uiT+aH0LHR2AQjzQ+lcQ96bR582cGIBiA1ZwAcIeEKAAb4niSQMLwl05gLliSeeiOQjHFTdVttRo0ZFTz75ZCIzUwtATjzxxJhfjz32WKIPaTuKsjNmzJiYP1u3bk1rNjp69GhsgY18DIx6yUUqcoGN4i3vtrB06VK1u8Otbv0OG6BA4QRUrrMY7swAX9p/5plnsphPLDNr1qxan5T2/vznPzeVdXkBSNIdhOqDLFLn9XZ5bzeBPPq0OxK8g4B/BNCnfzklIn8IMD/kTy6JxD8CnTl/Mj+UvR8UOW7Und/RrZ89akoWRSCPPpkfSqfe2QUgzA+lcw15bx592sCJBSA2ZAEfIOAJAQb4niSSMLwkoHOBsnz58uiMM86I/fir7MmtfNzJX//615bcTCwA2bNnT8yXE044oWXbHX1ZlJ3Dhw9H8hE0ion0R95ms6M/uXhG1Wl8pIa8I4jaJ7dy/9y5cyP53xtZXrr1s7RBmeIIqFxnsdjZAX5Hd7foqO2vfvWrsT75pz/9qamKqwtA0h6zpII0oXNlm63dBPLo0+5I8A4C/hFAn/7llIj8IcD8kD+5JBL/COicP5kfSu8PJsaNuvM7uvXTI2Zv0QTy6JP5oXT6nVkAwvxQOtPQ9+bRpw2sukgnKk478+rSpUvVV8fcdoYvjkJAh8CGDRuq1ceNG6djhroQgIABAkWcP//2t7+JefPmCbltfI0YMUJU7jAg+vXrF9tV+S8Rcfrpp9e+mzFjhvjjH/9Y+9zqzUUXXSQeeOCB2q5169aJygV47fPTTz8tJk+eXPs8ZcoUsXbt2trnrG+KsrNp0yZR+Q+PrM0mltu8ebOQHOWrclcVMW3aNFGZPIiVryw0ERdeeKG46qqrxHnnnRfbV/9Bt369Ld6bJ5BHnxdccIF48MEHa07NmTNHVB7PUvvc6k3l9pXi0ksvbbWr9p28tl65cqV49NFHxZtvvln727dvX7XMq6++KiqLmmrlKwtAhPSl/vX666+L4cOH176q3EFIrFq1qvZZvclazsTxQ/qQtX3lr9ya0Hm9fd7bSyCPPu2NAs8g4CcB9OlnXonKDwLMD/mRR6Lwk0AR50/mh1r3DdtnFPMAABnMSURBVBPjRt35Hd36rSPlW1ME8uiT+SG9+WWZQ+aHTPVkP+3m0acVBOQCEJdeFWjV/z50yWd8hUAoBPgPj1AyTZwuEijy/LlkyZJowIABsbsBSPs333xzExoTdwD5wx/+EGu7siCiqd0sXxRlZ8WKFTF/FOs828oFZLRt27aY29K//v37J9qeMGFCVPnBPlan/oNu/XpbvDdLQPWVLK00/odHZbFUlmqJZQ4ePBjNnz8/GjlyZGJfU/7Vb326A4h81FVHL1M676hd9pdPQPX78j3BAwhAoJEA+mwkwmcI2EOA+SF7coEnEGgkUOT5k/mhOF1T40bd+R3d+vEo+WSSQB59Mj+UnonO3AGE+aF0pqHvzaNPG1jxCBgbsoAPEPCEAAN8TxJJGF4SKPoCZc2aNVHfvn1jPxhX7kjRxM7EApDFixfH2pUX9J15FWXn/vvvj/kjWcsFMln/Bg0aFF155ZUtQ3j55ZejK664IurVq1dTG7IduXBE/nif9NKtn2SX74slkEefRQ7wjxw5El188cUt+5byKWkb2gIQkzovtjdhrWgCSgNF28UeBCCgTwB96jPEAgRMEWB+yBRZ7EJAn0DR50/mh97Niclxo+78jm79d6PknUkCefTJ/FB6JkwtADGp8/SI2Fs2gTz6LNtX2T4LQGzIAj5AwBMCDPA9SSRheEnAxAXKDTfcEPvheMiQIU3sGheAfPrTn24q0/hFRxfojzzySKzdqVOnNprI9LkoO5VH38T8OfXUUzO1n6fQli1bou9973vRySefHGtL5lUuApGxpL1066fZZp8+gTz6LHKAP3fu3Kb+9LGPfSy66667otWrV0cvvvhitH379urfl7/85VjZMhaAFHH8kNl67bXXYrFk+Q+PduhcvydhwQSBPPo00T42IQCBZALoM5kNeyBQNgHmh8rOAO1DIJmAifMn80P/5d2OcaPu/I5u/eSexZ4iCOTRJ/ND6cQ7ml+WtZkfSmfI3jiBPPqM1yznEwtAyuFOqxDwkgADfC/TSlCeEDBxgbJs2bLYj6jycSWNr8bB70c+8pHGIk2fO7pArzxTNdbuCSec0GQjyxdF2dmzZ0/MH3lnFFOvw4cPRwsXLox69+4da3PGjBmZmtStn6kRCuUmkEefRQ3wjx07Fg0cODDWj7773e8m+v61r30tVrYdC0BMHD9kgJ0Z4LdT54lJYEcpBPLosxQHaRQCARNAnwEnn9CtJ8D8kPUpwsGACZg4fzI/9N8O1c5xo+78jm79gCVkNPQ8+mR+KD0VHc0vy9rMD6UzZG+cQB59xmuW84kFIOVwp1UIeEmAAb6XaSUoTwiYuED59a9/HftBeNy4cU20tm3bFivzgQ98oKlM/ReHDh2KJk2aFKuzbt26+iKRLNO1a9dYmSeeeCJWJsuHouzItuQiFMVYbtevX5/FhU6Xabzd4IgRI3LZ0q2fqzEKd0hA9Z0OC1YKFDXAl31UtSu3Hd25powFICaOH5JxZwb4sl67dS7b5FU+AaWT8j3BAwhAoJEA+mwkwmcI2EOA+SF7coEnEGgkYOL8yfzQu5TbPW7Und/Rrf9u5LwrgkAefTI/lEw8y/yyrM38UDJD9jQTyKPP5trt/4YFIO1nTosQ8JYAA3xvU0tgHhDIcoGyYcOGaOXKlZG8M0CW1/Tp02M/IH/pS19qqiZt9ejRI1buqaeeaionv5BlL7vsslhZ6XfjAhBZduTIkbFys2fPll+nvh5++OFo48aNsTJF2TnrrLNi/syaNSvWTtEfjhw5ElsEc9JJJ+VqQrd+rsYo3CGBLPpURooa4N97772xPpv2eBWpzcb/nGjHHUBMHT86O8Bvt85VztmWSyCPPsv1lNYhEB4B9BlezonYHQLMD7mTKzwNj0CW8yfzQyLq7DxTu8eNuvM7uvXDU5DZiLPoU3nA/JD+/DLzQ6o3sc1CII8+s9gzXYYFIKYJYx8CARFggB9QsgnVOQJZLlDOPffc6g/CU6ZMiR555JHEGOWPst///vdjPx5L+3feeWfLOqNGjYqVlY8rOXr0aKzs/v37o5kzZ8bKKZ9bLQBZsGBBrGz37t2j3/zmNzGb6sPWrVtrP15feeWV6uvqtig79913X8wfeYeSu+++O9ZWqw/79u2LHnvssepdTdT+NWvWRDfddFO0efNm9VXTVjJRfOT2E5/4RK2Mbv2aId60jYDKZZYGixrgy36i2pXbYcOGRbI/Nr7kd5dcckmsrCzfjgUg0hcTx4/ODvCL1HkjZz7bS0DpxF4P8QwC4RJAn+HmnsjtJ8D8kP05wsNwCWQ5fzI/JKLOzjMVOW7Und/RrR+uSsqLPIs+lXfMD+nPLzM/pHoT2ywE8ugziz3TZVgAYpow9iEQEAEG+AElm1CdI5DlAmXatGmxH3nHjBkT3XLLLdGSJUuixx9/PFq1alX085//PJo6dWqsnLQ9ceLElj8eS1Dz589vKi/vJvDoo49GL7/8cvS73/2u+vgJ5WPjttUCkL179zY9jkHWmzt3brRixYpo06ZN0V/+8pfoxhtvjPr27Vtr/6qrrorlrig70ujZZ59da0fFIO+KIhd47Nq1q9buzp07IzkhcMUVV9R8k7fcVK9rr722aqdXr17VeGT89QtmHnrooaY7oFx//fWqeqRbv2aIN20joPpLlgaLGuDLhR3dunWL9Vm50GP79u1VN+SiLHnXnDPOOCNWRvnargUgJo4fnR3gSzBF6TxLriljBwHV5+3wBi8gAIF6AuizngbvIWAXAeaH7MoH3kCgnkCW8yfzQ6I2Ds47zyRZFzVu1J3f0a1f32943x4CWfSpPGF+SFT/4U9nfpn5IdWb2GYhkEefWeyZLsMCENOEsQ+BgAgwwA8o2YTqHIEsFyjyzhyqXJ5tv379mh6tUg9ox44d0Xve855O2ZZ+tFoAIu3/5Cc/yW3z6quvrnet+r4oO9JP+R8iSeyGDBkSHXfccS33198tRA3Q6+3IxSAjRoyoLRip3yftyoU06qVbX9lh2z4CKp9ZWixqgC/b+uIXv9jUH2VfGzt2bGJfVb62awGIieOHzgC/KJ1nyTVl7CCg+rwd3uAFBCBQTwB91tPgPQTsIsD8kF35wBsI1BPIcv5kfujdBSCKV9K21TxTUeNG3fkd3fr1/Yb37SGg+lmW1pgfyq5TybXV/DLzQ1l6GmUUgTz6VHXK3LIApEz6tA0BzwgwwPcsoYTjFYEsFyhPP/10050lVL2k7Yc+9KHqnTw6giXveNGnT5+mH5vr7Xbp0iW67rrrol/84hexcq0u0FV7ixYt6vCHatXGhAkTYgsllA25LcrO2rVro0mTJsX8V+0nbeVdGGQ99brnnnsy15c/1ss7ndS/dOvX2+J9ewiovpGltSIH+Lt3764u9lDtJ20HDBgQ3X777bF+2a4FIJJJ0ccPnQG+9KcInUs7vNwgoHThhrd4CYGwCKDPsPJNtG4RYH7IrXzhbVgEspw/mR9q/c87ip3aps0zFTFu1J3f0a0fljLsiFb1rSzeMD/UegFInvll5oey9DTKKAJ59KnqlLllAUiZ9GkbAp4RYIDvWUIJxysCWS9QDh48GC1evLh6u8qePXvGfvBVNuSFtLxDgFyoceTIkcycnnnmmei0005rukuGvDuIHLSsXLmyamvp0qW1duUdNTZu3JjahrT7f//3f4kLTOSAfOHChZGMLe1VlJ1Dhw5Ft912W5VR0h1BJMNTTz01uuGGG6Lnnnuuya3ly5dHn/zkJ5tYqRzIhR/yv0xeffXVprryC936LY3ypTECKq9ZGqi/a0fXrl2j1atXZ6mWWEYuApGPSjr++ONrulP+yIUf06dPjzZv3hy99dZbkTomyP77j3/8o8mmvFtH7969a3YuuuiipjLyi6zl6isXefzoTPv1vsj3Rei80Saf7SSg9GCnd3gFgbAJoM+w80/0dhNgfsju/OBd2ASynj+ZH9KfZypi3Kg7v6NbP2y1tD/6rPqUnjE/FL8Lc2fml5kfan8fd7nFPPq0Ic4u0omK0868KhPOVV8dc9sZvjgKAR0CGzZsqFYfN26cjhnqQgACBgh05vy5b98+8a9//Uts2bJFVH78Ff379xdjxowRo0aNEpVHmXTaywMHDojKj7misvBBjB49Wpx++umiR48eMXs7d+4Ue/bsEYMGDRKVO4fE9iV9kNcGL7zwgqj8p4qQvg8dOlRUFlmI4cOHJ1Vp+X1RdqTxymBfbNq0qRqriqfyyJaqX5JnR6+9e/eKJ598spqDd955pxrTKaecIk4++WRRWQTSUXWhW7/DBihQCIG8+ty2bZuoTMZV9VEZ4Bbig9Tliy++KCoLrkRlUYiYMmWKqNzhRyjfZCOyP1UGx9VjQVL/3b9/f/V4UVn8VO2v9fXrHc1arr6OfF/U8aOz7Tf6Iz/r6ryVTb6zh4Dqw4w/7ckJnkBAEUCfigRbCNhHgPkh+3KCRxBQBDpz/mR+SG+eSbLXHTfqzu/o1lf9h61ZAnn1yfyQ/vwy80Nm+7RP1vPqs+zYWQBSdgZoHwIeEWCA71EyCcU7Aq5doHiXAAKCQAoB9JkCh10QKJkA+iw5ATQPgRQC6DMFDrsgUDIB5odKTgDNQyCFAOfPFDjsgkDJBNBnyQmgeQikEHBNnywASUkmuyAAgXwEGODn40VpCLSTgGsXKO1kQ1sQKJsA+iw7A7QPgWQC6DOZDXsgUDYB9Fl2BmgfAskEmB9KZsMeCJRNgPNn2RmgfQgkE0CfyWzYA4GyCbimTxaAlN1jaB8CHhFggO9RMgnFOwKuXaB4lwACgkAKAfSZAoddECiZAPosOQE0D4EUAugzBQ67IFAyAeaHSk4AzUMghQDnzxQ47IJAyQTQZ8kJoHkIpBBwTZ8sAElJJrsgAIF8BBjg5+NFaQi0k4BrFyjtZENbECibAPosOwO0D4FkAugzmQ17IFA2AfRZdgZoHwLJBJgfSmbDHgiUTYDzZ9kZoH0IJBNAn8ls2AOBsgm4pk8WgJTdY2gfAh4RYIDvUTIJxTsCrl2geJcAAoJACgH0mQKHXRAomQD6LDkBNA+BFALoMwUOuyBQMgHmh0pOAM1DIIUA588UOOyCQMkE0GfJCaB5CKQQcE2fLABJSSa7IACBfAQY4OfjRWkItJOAaxco7WRDWxAomwD6LDsDtA+BZALoM5kNeyBQNgH0WXYGaB8CyQSYH0pmwx4IlE2A82fZGaB9CCQTQJ/JbNgDgbIJuKZPFoCU3WNoHwIeEWCA71EyCcU7Aq5doHiXAAKCQAoB9JkCh10QKJkA+iw5ATQPgRQC6DMFDrsgUDIB5odKTgDNQyCFAOfPFDjsgkDJBNBnyQmgeQikEHBNnywASUkmuyAAgXwEGODn40VpCLSTgGsXKO1kQ1sQKJsA+iw7A7QPgWQC6DOZDXsgUDYB9Fl2BmgfAskEmB9KZsMeCJRNgPNn2RmgfQgkE0CfyWzYA4GyCbimTxaAlN1jaB8CHhFggO9RMgnFOwKuXaB4lwACgkAKAfSZAoddECiZAPosOQE0D4EUAugzBQ67IFAyAeaHSk4AzUMghQDnzxQ47IJAyQTQZ8kJoHkIpBBwTZ8sAElJJrsgAIF8BBjg5+NFaQi0k4BrFyjtZENbECibAPosOwO0D4FkAugzmQ17IFA2AfRZdgZoHwLJBJgfSmbDHgiUTYDzZ9kZoH0IJBNAn8ls2AOBsgm4pk8WgJTdY2gfAh4RYIDvUTIJxTsCrl2geJcAAoJACgH0mQKHXRAomQD6LDkBNA+BFALoMwUOuyBQMgHmh0pOAM1DIIUA588UOOyCQMkE0GfJCaB5CKQQcE2fXZ599tkoJR7rdo0fP77qU8Vv63zDIQiETkDpM3QOxA8BCEAAAhCAAAQg4BcBxp9+5ZNo/CCgxp/o0498EoVfBJQ+/YqKaCAAAQhAAAIQgAAEQifgyviTBSCh91Tih0CBBBjgFwgTUxCAAAQgAAEIQAAC1hBwZYBvDTAcgUAbCKjxJ/psA2yagEBOAkqfOatRHAIQgAAEIAABCEAAAlYTcGX8ySNgrO5GOAcBtwi4dgskt+jiLQT0CKBPPX7UhoBJAujTJF1sQ0CPAPrU40dtCJgkgD5N0sU2BPQIoE89ftSGgEkC6NMkXWxDQI8A+tTjR20ImCTgmj5ZAGKyN2AbAoERcO0AGFh6CDdwAugz8A5A+FYTQJ9WpwfnAieAPgPvAIRvNQH0aXV6cC5wAugz8A5A+FYTQJ9WpwfnAieAPgPvAIRvNQHX9MkCEKu7E85BwC0Crh0A3aKLtxDQI4A+9fhRGwImCaBPk3SxDQE9AuhTjx+1IWCSAPo0SRfbENAjgD71+FEbAiYJoE+TdLENAT0C6FOPH7UhYJKAa/pkAYjJ3oBtCARGwLUDYGDpIdzACaDPwDsA4VtNAH1anR6cC5wA+gy8AxC+1QTQp9XpwbnACaDPwDsA4VtNAH1anR6cC5wA+gy8AxC+1QRc0ycLQKzuTjgHAbcIuHYAdIsu3kJAjwD61ONHbQiYJIA+TdLFNgT0CKBPPX7UhoBJAujTJF1sQ0CPAPrU40dtCJgkgD5N0sU2BPQIoE89ftSGgEkCrumTBSAmewO2IRAYAdcOgIGlh3ADJ4A+A+8AhG81AfRpdXpwLnAC6DPwDkD4VhNAn1anB+cCJ4A+A+8AhG81AfRpdXpwLnAC6DPwDkD4VhNwTZ8sALG6O+EcBNwi4NoB0C26eAsBPQLoU48ftSFgkgD6NEkX2xDQI4A+9fhRGwImCaBPk3SxDQE9AuhTjx+1IWCSAPo0SRfbENAjgD71+FEbAiYJuKZPFoCY7A3YhkBgBFw7AAaWHsINnAD6DLwDEL7VBNCn1enBucAJoM/AOwDhW00AfVqdHpwLnAD6DLwDEL7VBNCn1enBucAJoM/AOwDhW03ANX2yAMTq7oRzEHCLgGsHQLfo4i0E9AigTz1+1IaASQLo0yRdbENAjwD61ONHbQiYJIA+TdLFNgT0CKBPPX7UhoBJAujTJF1sQ0CPAPrU40dtCJgk4Jo+WQBisjdgGwKBEXDtABhYegg3cALoM/AOQPhWE0CfVqcH5wIngD4D7wCEbzUB9Gl1enAucALoM/AOQPhWE0CfVqcH5wIngD4D7wCEbzUB1/TJAhCruxPOQcAtAq4dAN2ii7cQ0COAPvX4URsCJgmgT5N0sQ0BPQLoU48ftSFgkgD6NEkX2xDQI4A+9fhRGwImCaBPk3SxDQE9AuhTjx+1IWCSgGv6ZAGIyd6AbQgERsC1A2Bg6SHcwAmgz8A7AOFbTQB9Wp0enAucAPoMvAMQvtUE0KfV6cG5wAmgz8A7AOFbTQB9Wp0enAucAPoMvAMQvtUEXNMnC0Cs7k44BwG3CLh2AHSLLt5CQI8A+tTjR20ImCSAPk3SxTYE9AigTz1+1IaASQLo0yRdbENAjwD61ONHbQiYJIA+TdLFNgT0CKBPPX7UhoBJAq7pkwUgJnsDtiEQGAHXDoCBpYdwAyeAPgPvAIRvNQH0aXV6cC5wAugz8A5A+FYTQJ9WpwfnAieAPgPvAIRvNQH0aXV6cC5wAugz8A5A+FYTcE2fLACxujvhHATcIuDaAdAtungLAT0C6FOPH7UhYJIA+jRJF9sQ0COAPvX4URsCJgmgT5N0sQ0BPQLoU48ftSFgkgD6NEkX2xDQI4A+9fhRGwImCbimTxaAmOwN2IZAYARcOwAGlh7CDZwA+gy8AxC+1QTQp9XpwbnACaDPwDsA4VtNAH1anR6cC5wA+gy8AxC+1QTQp9XpwbnACaDPwDsA4VtNwDV9sgDE6u6EcxBwi4BrB0C36OItBPQIoE89ftSGgEkC6NMkXWxDQI8A+tTjR20ImCSAPk3SxTYE9AigTz1+1IaASQLo0yRdbENAjwD61ONHbQiYJOCaPlkAYrI3YBsCgRFw7QAYWHoIN3AC6DPwDkD4VhNAn1anB+cCJ4A+A+8AhG81AfRpdXpwLnAC6DPwDkD4VhNAn1anB+cCJ4A+A+8AhG81Adf0yQIQq7sTzkHALQKuHQDdoou3ENAjgD71+FEbAiYJoE+TdLENAT0C6FOPH7UhYJIA+jRJF9sQ0COAPvX4URsCJgmgT5N0sQ0BPQLoU48ftSFgkoBr+mQBiMnegG0IBEbAtQNgYOkh3MAJoM/AOwDhW00AfVqdHpwLnAD6DLwDEL7VBNCn1enBucAJoM/AOwDhW00AfVqdHpwLnAD6DLwDEL7VBFzTJwtArO5OOAcBtwi4dgB0iy7eQkCPAPrU40dtCJgkgD5N0sU2BPQIoE89ftSGgEkC6NMkXWxDQI8A+tTjR20ImCSAPk3SxTYE9AigTz1+1IaASQKu6ZMFICZ7A7YhEBgB1w6AgaWHcAMngD4D7wCEbzUB9Gl1enAucALoM/AOQPhWE0CfVqcH5wIngD4D7wCEbzUB9Gl1enAucALoM/AOQPhWE3BNnywAsbo74RwE3CLg2gHQLbp4CwE9AuhTjx+1IWCSAPo0SRfbENAjgD71+FEbAiYJoE+TdLENAT0C6FOPH7UhYJIA+jRJF9sQ0COAPvX4URsCJgm4pk8WgJjsDdiGQGAEXDsABpYewg2cAPoMvAMQvtUE0KfV6cG5wAmgz8A7AOFbTQB9Wp0enAucAPoMvAMQvtUE0KfV6cG5wAmgz8A7AOFbTcA1fbIAxOruhHMQcIuAawdAt+jiLQT0CKBPPX7UhoBJAujTJF1sQ0CPAPrU40dtCJgkgD5N0sU2BPQIoE89ftSGgEkC6NMkXWxDQI8A+tTjR20ImCTgmj7/HwAA///Hh28wAABAAElEQVTsnQf8HUW5v8eEEpCWCCRA6E06oauIIIKo9E64dBCVZgHRC+gFREFBUYELF6RDRK90pAhKE1QEpbfkTxcSQglIQkLC/ufd3Nmc2bPnnJ1T9szMefbzSXZnd8r7Pu9+93d2zpyZjyR6UwFtH/nIR1JrAzM7IMKYCoH2CaDP9tlREgK9JoA+e02Y+iHQPgH02T47SkKg1wTQZ68JUz8E2ieAPttnR0kI9JoA+uw1YeqHQPsE0Gf77CgJgV4TQJ+9Jkz9EGifQGj6/AgDQNoPNiUhAAGbQGgPQNt6UhCImwD6jDu+eBc2AfQZdvywPm4C6DPu+OJd2ATQZ9jxw/q4CaDPuOOLd2ETQJ9hxw/r4yaAPuOOL96FTSA0fTIAJOz7Desh4BWB0B6AXsHDGAj0mAD67DFgqodABwTQZwfwKAqBHhNAnz0GTPUQ6IAA+uwAHkUh0GMC6LPHgKkeAh0QQJ8dwKMoBHpMAH32GDDVQ6ADAqHpkwEgHQSbohCAgE0gtAegbT0pCMRNAH3GHV+8C5sA+gw7flgfNwH0GXd88S5sAugz7PhhfdwE0Gfc8cW7sAmgz7Djh/VxE0CfcccX78ImEJo+GQAS9v2G9RDwikBoD0Cv4GEMBHpMAH32GDDVQ6ADAuizA3gUhUCPCaDPHgOmegh0QAB9dgCPohDoMQH02WPAVA+BDgigzw7gURQCPSaAPnsMmOoh0AGB0PTJAJAOgk1RCEDAJhDaA9C2nhQE4iaAPuOOL96FTQB9hh0/rI+bAPqMO754FzYB9Bl2/LA+bgLoM+744l3YBNBn2PHD+rgJoM+444t3YRMITZ8MAAn7fsN6CHhFILQHoFfwMAYCPSaAPnsMmOoh0AEB9NkBPIpCoMcE0GePAVM9BDoggD47gEdRCPSYAPrsMWCqh0AHBNBnB/AoCoEeE0CfPQZM9RDogEBo+mQASAfBpigEIGATCO0BaFtPCgJxE0CfcccX78ImgD7Djh/Wx00AfcYdX7wLmwD6DDt+WB83AfQZd3zxLmwC6DPs+GF93ATQZ9zxxbuwCYSmTwaAhH2/YT0EvCIQ2gPQK3gYA4EeE0CfPQZM9RDogAD67AAeRSHQYwLos8eAqR4CHRBAnx3AoygEekwAffYYMNVDoAMC6LMDeBSFQI8JoM8eA6Z6CHRAIDR9MgCkg2BTFAIQsAmE9gC0rScFgbgJoM+444t3YRNAn2HHD+vjJoA+444v3oVNAH2GHT+sj5sA+ow7vngXNgH0GXb8sD5uAugz7vjiXdgEQtMnA0DCvt+wHgJeEQjtAegVPIyBQI8JoM8eA6Z6CHRAAH12AI+iEOgxAfTZY8BUD4EOCKDPDuBRFAI9JoA+ewyY6iHQAQH02QE8ikKgxwTQZ48BUz0EOiAQmj4ZANJBsCkKAQjYBEJ7ANrWk4JA3ATQZ9zxxbuwCaDPsOOH9XETQJ9xxxfvwiaAPsOOH9bHTQB9xh1fvAubAPoMO35YHzcB9Bl3fPEubAKh6ZMBIGHfb1gPAa8IhPYA9AoexkCgxwTQZ48BUz0EOiCAPjuAR1EI9JgA+uwxYKqHQAcE0GcH8CgKgR4TQJ89Bkz1EOiAAPrsAB5FIdBjAuizx4CpHgIdEAhNnwwA6SDYFIUABGwCoT0AbetJQSBuAugz7vjiXdgE0GfY8cP6uAmgz7jji3dhE0CfYccP6+MmgD7jji/ehU3AN30mSaJOP/109cILL6hhw4apQw45RK266qphQ3aw/ve//7269dZblXD47Gc/q3bccUeH0mSNjUC/9RmrHj/44AM1YcIENWvWLLXUUkupRRZZJL110F9sCuqtP/3Wp6t3DABxJUZ+CECgIYHQHoANHeECBCIkgD4jDCouRUMAfUYTShyJkAD6jDCouBQNAfQZTShxJEIC6DPCoOJSNAR80+dNN92ktt1224zvWWedpQ477LAsHfvBTjvtpK699trUzfnnn1+9/PLLavjw4bG7jX8NCPRbn7Hp8bLLLlM//OEP1fjx49XMmTMz6uutt54aN26cOvbYY9FfRoWDVgT6rc9W9uWvMwAkT4Q0BCDQNoFOHoBvv/22evbZZ9N///73v9Wiiy6qVlppJbXmmmuqIUOGtG0TBSEAgdkEWulTRnjLaOhubKLZueaay6rqww8/tD5o116cZ555apMDcTxjxox05PlTTz2l3nrrLbXggguqZZZZJn3mffSjH3ViILF79NFH1UsvvaReffVVNXToUDVq1Ci1wgorDNSvZpygeZa5lT7z5jbTUz6vSTfTWbP6mpUzdce276Y+Y2MziP646nMQGeEzBPpFAH32izztQqA1gU70Sf9Qa77kgEAnBFz12ex9Ufp+Ou23/dznPqfuuOOO1CWpT2YCWXLJJZu6GNNz4sorr1R777135u+PfvQj9Z3vfCdLx3ggszBI/9W0adOU9Dksvvjiar755ovRVWefXPXp3ECLAjHpcf/991eXXHJJQ49PO+00NXr06IHTX0MgBRfoH7Oh9FuftjUlUvpLg6A27VIi/9ggAAH/CLSjz2uuuSZZa621Ul2b8rV7PeI5+cpXvpI8/fTT/jmMRRAIiIDRVSOTN91004Y6NGXL7vWHoeSuu+7KmtKjxxPRcqPykl9PvZdstNFGyeGHH5784x//yMrGdKBfbJNTTjklWXnllRPdqVHIY+65506+8IUvJHpkekvX33vvveR73/teogeOFNYlvFdfffXk7LPPTnSHTcv6yNA/AkYbZSy4+uqrkwUWWKBhzE1d+f3RRx9dWD36nI2l2/oshM3JIAkYLQVpPEZDIHIC6DPyAONe0ATa0Sf9Q0GHHOMDIuCiz1bvn9KfI++nK664YrLLLrskkt9le/jhh61325133rlp8RifE++//36ifwiZcdDLUyT6S9emHEK++NBDDyUf+9jHMn/lftSDiNK+q5D96pbtLvrsVpumnpj0ePfdd1v3mOFau//lL3+ZDJr+TKyb7ekfa0zH3D+Nc/h1JbiRFKEB9ivcWAOB3hJw0af+xXuyySabtPxDbOrUo4ETPRq8tw5QOwQiJmC01MjFESNGlNajqavZ/qqrrsqakk6AZnmLrm2xxRbJa6+9ltUR+sFvf/vbZLnllivN4T//8z+buvzEE08kq622Wun6tt5660TPrtS0Ti72j4DRQBkL9HrApeNu6pX9XnvtVVg9+kySbuuzEDQngyVgdBSsAxgOgYgJoM+Ig4trwRNw0Sf9Q8GHGwcCI+Ciz3beP9dff/1Evnwtsx1wwAHW++1tt91WWCz254T8YMPERfZXXHFFIYfQT8qPkzbeeGPLV+P3t771rdDd64r9hkdXKnOsJCY9brPNNtZ9tuqqqyY333xz8thjjyV6WZhkzz33TO68886U0KDor8ztQP9Yc0r91Gdzy4qvMgCkmAtnIQCBNgiUfQDKh73tt9/e+iNsyjbbn3DCCW1YRREIQEAIGG01orH00ktneUzeTvaXX3551lT+Q3fZemVmC720SVZPqAfnn39+U7bDhg2ru/6Nb3yjobuTJk1K2onXbrvt1rBOLvSXgNFEGSva1dOuu+5aWH279aHPQpycjJCAiz4jdB+XIOA1AfTpdXgwbsAJlNUn/UMDfqPgfl8IlNWnGNfu+6LMCqKX+m7q37vvvpvoZT+y/hCZRaRo9tJBeE4888wzicymYmIjP4qKcfvVr36V+Wh8NXsGgMyOuOFRdfxj0+NCCy1k3Wt6Ce6GSAdFfw0B/N+Fbvdft2ovxOv90me7rD4iBbXRwWz6D2Fqa2BmB8MXQyHQCYGy+tTLESi9zIPVlB4drvQAD7X22msrvQSCeu6559Qtt9yiLrzwQqVnAUjzHnfcceoHP/iBVY4EBCBQjkArfepR0EqPgm5Y2RlnnKEmTpyYXdejwpWegSJL1x4MHTpUHXTQQWrhhRdOT+slTVI9mzx6WSelZwBKk7Le5+TJk5X+dUi65qt+sTfZ0v0666yj9PSQHa8pa1VaYeLee+9VW265pZI1E82ml7tRwu/Tn/600kvvqMUWW0zpFy31wAMPKL0ch9LL5yg9AMRag9KUlb2eElXpaU9rT6lDDjlEHXHEEWqllVZKeepfzajjjz8+e36azBJn3YFjkuw9IdBKn7Vm5vWkZ/ZQ6623Xm2WwuOtttpKiZ7yW74+9NmZPvN8SYdPwEWf4XuLBxAIiwD6DCteWDtYBMrqk/6hwbov8NYPAmX1Kdbm3xePPfZYJX24sn3wwQfqlVdeUc8//7zSvxpXr7/+enre/LfBBhuov/zlL0r6iIq23/zmN2qPPfbILkndp556apY2B4PynBgzZoz65z//mbotzF599dW0v8hwCH3/9ttvKz0Lg9I/aip0RQ8AUaeffnrhtUE66aLPbnKJSY/Sx6oHgGR4pP9az6ScpYsOYtdfkc+153rRf11bfyzH/dJn2/zaHTnSr3La0XTkVr/ap10IQKAxgbL6zI8e119KJbNmzSqsWNZh0x/+EpmmS38QKczDSQhAoDWBsvpsVNMnPvEJa+R02ek8pb685m+44YbCZnSnQbLyyitb7YjdF198cWF+30/KkisjR460/Bk1alQia2q2u/3rX/9KdEeAVaceUFdYne6IsdaRFZb77LNPYV5O9peAiz7L6qmsR2XrQ59liZIvNgIu+ozNd/yBgO8E0KfvEcK+QSZQVp/5z6L0Dw3yXYPvVREoq0+xJ6/RP/7xj4VmTpkyJSlaXlQPaCjMLyd33313q2/jT3/6U2HevA2xPie+853vWDz+53/+p5BHqCePPPJIyz/9AxUrzQwgsyPros9u3gsx6fHJJ5+07i39w7yWqGLXXzMAvei/btZeyNf6pc92mbEETLvkKAcBCNQRKPsAXHTRRa0/ws1eBuoa4QQEINAWgbL6bFR5FQNApG09+0/doAl5uQ9xO++886xn3ejRo1tOgdrKTxkQZ2Ip+w033DCZPn16w2K//vWvrfwLLrhgomddaZifC/0hYGJapvV851ejAVVl6pI8LvWhz7JUyRcTARd9xuQ3vkAgBALoM4QoYeOgEiirT/qHBvUOwe9+EiirT7Ex/77YaACI5H3zzTfrfoRyySWXyKW6berUqYksE2Nskb4KPXNqXT45MSjPiTvvvDPjIVy23nrrQh4hnnzkkUesHzPpGRmS/HIwDACZHVmjiSrjHJse77vvPktLeiblljhj1l8r53vRf92qzVCv90OfnbBiCRgdMTYIQKA7BMpMgaR/va6WWmopq0GZAs4sFWFdcEjoL0CVHm2eLh8zfPjwUiX1i4maOXNm2va8885bqoxkeuedd9Sjjz6qXnzxRSVtLb/88ukUdqUr+L+M3apHplzUI1vT5TvEnnXXXVctscQSruak/J5++mk1fvz4dLkNqUOWFdAvYaXqEv6dlC/VCJnaJlBGn80q/+QnP6nuv//+LIss2SJLmJTZ8lOG6i+s1bbbbtuwqCxlctZZZ2XXl1566VRv2YlADmS5Df2Sm1l7zjnnqK9+9atZup2DfJ2yZMwXv/jFhlXJ80HPOqLkeWc2mZp11113NUn2HhBw0aernlq551of+mxFlOuxEXDRZ2y+4w8EfCeAPn2PEPYNMoEy+qR/aM4dQv/QHBYc9Z5AGX0aK/Lvi3oAiNpiiy3M5br9jjvuqK677rrs/DHHHKN+/OMfZ2lzIH0Ztf1CO+ywg7r22mvN5Wzfq+dE1kAPDtrtH5X+Gz3YJe13FrNkiXTpy9EDZXpgZbVVbr755ulyx6bV22+/XUls9913X3NKsQTMbBQu+szg1Ry08/ckNj1K/7X0Y5ttt912U7LETbMtZv0181uu5fuau9F/3arNUK93qs/K/e5k9Eg/ympA6eitfrRNmxCAQHMCZfSp12BL9IPSGoWpP2Q0r7jFVT3oIJlnnnmyOg899NAWJZLkgAMOyPLrwR/JhAkTmpaRpWhkKrBll102K2f8lb38sv+kk05K9IesSuqRRvQf40Svu5mI/bW2yPHiiy+e6Bep5Jlnnmlqj1y87bbbkrXXXruuDqlHlprQXy4nDz30UMN6Oi3fsGIudJWAuUfarbSqGUDEviuuuMK6H/VLb8NfgrTrT6/LPfDAA5YPepBbIlPqdbLJLyZMHGU/11xztXzmSHv77befVU7SbH4RMHEtY1X+F1hVzgAi9qHPMlEiT0wEXPQZk9/4AoEQCKDPEKKEjYNKoIw+6R/qTj+T3GP0Dw2q0trzu4w+Tc35989mM4BIGT0AxOp/0ANATFXW/oQTTrDynXHGGdZ1k+jFc8LU3e19N/pHP//5z1tc7rrrrm6bWXl948aNs3zSP0hKbbj00kut88wAMjs0Lvo0wez0e4sY9Kh/7JZ+jzFkyBDrvjI85bz5J993FH0fFaP+zD3SaN+L/utGbcVw3txPofjCEjChRAo7IRAAgbIPwJVXXtn6Q7zxxhsn8oG+3e1vf/ubVd9OO+3UsqrtttvOKtNsgINcW3PNNa38xtf8fqWVVkr0zCCF7XernsmTJyd6ZHwpe2QKRfmg3Wg77LDDStUzYsSIwio6LV9YKSd7QsDcq+1WXuUAkFtuucW6L2WAlx6J3a7pfSmnZzCxfJC1Tjvd8su5yLOzzPbTn/7UskVeaNj8IuCiz3wHXNUDQNCnX/cO1vSegIs+e28NLUAAArUE0GctDY4h4BeBsvqkf2j2Dx0Nr6J9s34m+of8uu9DscbcZ2Xszb9/thoAsskmm1j9D2effXZhM/JjM2OH7OU9s9HW7edEo3Y6Od+t/tFvfvObFhfpzwl5k/5+PRN45tP888+fvPDCC6lLDAApjqzRRfHV+rPd+L4hBj2ecsop2X1mGDbb65mJ6mDGpr86BwtO9KL/uqCZaE6ZeyoUh1gCRkeMDQIQ6A6BslMg7bnnnuqqq66yGpWlJPSvipUs9eC66ZGKaqONNsqK6QEg6uqrr87SRQfbb7+9kmUozKY/LKkxY8aYZLaXJU307BhKr0OZnWt1oEfNKj0biJWtW/W8/vrr6bIsL7/8slW/HsGq9OwkSr/8K/3h2romCb3mpjWtnpyTqc/22GMPOcw2We5lhRVWUO+99556/vnn0yVyzEVhINMPmq3T8qYe9tUQKKvPRtZUuQSMfglUepaKzJSPf/zj6TJH2YmSBzLt5kEHHaRkmal2N1kK6aKLLlJ6tg2nKqTdCy+8MCsjz7zdd989S7dz8Itf/EIdddRRWVE9qET9/Oc/z9KNDvJTOW6wwQZKnpts/hBw0Wd+Ct5WSyq18tK1PvTZiijXYyPgos/YfMcfCPhOAH36HiHsG2QCZfVJ/1C5u6Son4n+oXLsyFVPoKw+pWT+fbHZEjB6tgolS32YTdrRMxMrPYjJnMr2I0eOVJMmTcrSssx2oz7hbj8nska7dNDN/lHpR5L+JLPtvffe6vLLLzfJ0vt+9ofVGqln01annXZadurkk09Wxx9/fJq+7LLLrL5qloCZjclFn936viEGPV5wwQXqkEMOye61VgfSt7XPPvtY2WLTn+Vcg0Qv+q8bNBXFaRd9euFwKCNVjJ0aWjqSy6TZQwAC/hAoq8/HHnuscNkSGQV84oknJvpDqpNTvZwBRJZRMX7JXj/kk2OPPTa59957E/mlxYMPPpjIiFFZcsXk+/rXv15nf7fqOfzww7N2pL355psvOf/88zNmH374Ybpcy1prrWXlW2aZZZLp06dbdq277rpWHvFr6tSpWZ433ngj0V8uJ0suuWSi15vMzpuDTsubethXQ8Dcn+22VuUMIDIdpLFX9nrgRFtmy/SbtfW0e/zcc885t68HlFlt//3vf0/0wKpEr2mbHH300ckuu+ySfOYzn0l0Z0ryjW98I9WxXqOyaTvHHXecVac8L8tsjz/+uFVuueWWK1OMPBUSMPdmmSbzv8CqegYQ9FkmSuSJiYCLPmPyG18gEAIB9BlClLBxUAmU1Sf9Q+33M9E/NKjq6tzvsvqUlvLvn41mAPnDH/6Q9h+aumW/8847Fxr70ksvWX0UMntxs63bz4lmbbVzrZv9o9IvVMtw1VVXbcekdLnv2nraPW6nP8wYnF+yfcUVV0xkqRKzMQOIIWHvTazss8WpbnzfEIse5d668cYbk+uuuy7RP8y1dLT++uun5+Wa/JPlX/QPXeugxqS/OucanOhF/3WDpqI47aJPHxxmCRgfooANEIiEgMsD8Cc/+Yn1h9iUlf3CCy+cfPe73030rxlKkenVAJD8l8d6BoCGy6m88847yb777pv6JFNn1W7dqkePmk/0DBwZt2HDhqWDPWrbMsfTpk1L1llnnSyvcNWzB5jLiVyvrUv+2DfaZODIv/71L+typ+WtykhUQsBorN3GqhoAkl9eQuz+0Y9+1JbZf/rTnywNGAau+3ZeeEeNGmW1PXbs2GShhRayzhXZIS9veb0Z5w8++GCr/M9+9jNzqeleptesbatV50rTyrjYEwImPmUqz3fAycurDP5r9q9Zvfn6mg0oQZ+N9dmMMdfCJuCiz7A9xXoIhEcAfYYXMyweHAIu+qR/aFzhjdGsn4n+oUJknCxJwEWf+ffFL33pS4n88E3+6RlK00Eeq622WvqDOVOv7GUpbT0ba6FFd999t9VHIV/Ottq6+Zxo1ZbL9W73j7711lsWG+n7bWfrZ3+YsTd/7+T7GhgAYkjZe6Mj+2x9qlvfN8SkR0Ppvvvus3S02267mUtN9zHpr6mjNRd70X9dU310h2X16YvjLAGjI8YGAQh0h4DrFEjnnntuupxBo+VV9KwTSr9QqGOOOUbpL04bGtmrJWC23HJLJVMbmk1/gZsuU2PSRftXXnlF6RkzlGEhebpVz3/8x39Y7X/729+2ptHL2yPLAshSN2bbYostMn/06F6lZwUxl9SGG26o9ECaLN3qoNPyrernevcJmHtSfwBpq/JeLwGjv7xWem1Y9Z//+Z/q3//+d2bj6NGj1aOPPqoWWWSR7FzZAz2jjdKzbSiZ+rLdTZaA0R0NlqbL1CXPL1lKqZ1txIgRSv96Jl3uqbZ8fumqX/3qV+rAAw+szVJ4LEtDLbbYYtY1PbBLzTPPPNY5Ev0j4KLP/BS8ZayW5b30QCA1fPjwuuz5+uRvhx6IZOVDn3NwNNLnnBwcxUbARZ+x+Y4/EPCdAPr0PULYN8gEXPVJ/1Dju6Won4n+oca8uNKagIs+8++LrWufneMf//iH0jNjFGa//vrr1Q477JBd23rrrdWtt96apRsddOs50aj+ds53u39U+uxkCWJ5BzebHmSi9EAQkyy172d/mBiof6iidtxxx8xWPXBI6dkZsrQcsASMhSNLlNVnt75viEmPBqKeyUNJP7bZ9AAQJUs1tdpi0V8rP2uv96L/urb+2I7L6tMbv30ZiVLWDg0uHb1VNj/5IACB6gi0o089eCPZdNNNrVGZph6zlyni9ItDQ0d6NQOI/uLXsqvV8gyNDOxWPSuvvLJlz8SJExs1mZ6fNWtWor/gzcrIMjBmk1+Ky7IuhvGQIUOSa665xlxuue+0fMsGyNB1AibW7VbczRlA9thjj3RWD5nZQ6/xmcisF8suu2x2Pxpb9YeqdNrKdm3uV7mZM2fW+WJ8kpl3PvWpTyWHHnpo8pWvfCXRA7MKZwbR6+bWmZ9/Vl555ZV1eYpOyLJapn3ZzzvvvNZyT0VlOFctAROfMq3mf0VjyrbaP/LII4XV5+tDn+3psxAuJ6MgYLQVhTM4AYHICKDPyAKKO1ERaEef9A+VvwXoHyrPipz1BFz0mX9fNGXL7A877LDkgw8+qDPgoosusvooZJnRsls3nhNl2yqTrxf9ozIzdi3fRrPElrGvH3lkVpTll18+80H6oJ599tk6U5gBpA5JesLEvvjqnLPd+r4hJj0aOu3OACLlQ9efYVBm36v+6zJth5qnrD598Y8lYHyJBHZAIAICnTwAZe21TTbZJPtwaOoye5nyTqavK9p6MQBEz0Bg2TJy5Miiplue61Y98sIkS9AYHmKPfKBu9U8Gz5gyMshDlnMxm3zxbK7JXq5/7WtfS1588UWTpem+0/JNK+di1wmYWLdbcTcHgBhbmu2HDh2artnYrr39LJfXvfgpmj3zzDMTmU4wv7322mt16+pKGf0LGCur/uWNpdlLLrnEut4okR8AIlqXD/ls/hAwWihjUbsdcI2WMmqnPvRZr88ysSNPmARc9Bmmh1gNgXAJoM9wY4fl8RPoRJ/0DzW/P+gfas6Hq60JuOgz/764+uqrJ3rmgezfBhtskPZ3yA94TL21++22267OoDPOOMPKe8ABB9TlaXWik+dEq7pdr3e7f3TppZe2+Dz++OOuJvU1/3/9139Z9uuZfgvtYQBIIZaMXfHV2Wfz/Y7tfm8htcWmR/GpkwEgIevvjTfeSGRJn1b/3nzzTcGU5O8jeXZ3o/86rTzS/8zft1DcYwBIKJHCTggEQKAbD8C77ror2WyzzbIPO6ZO2csMAfJFZn7rxQCQf/7zn5YN6623Xr7ZUulu1SMjpWtZtHv8/PPPZ3Y/9NBDicxGkK9LBproafrqvnzOCv7fQafl8/WR7i0BE+d2W6lyAMhnP/vZRC/70q6pfS9XNIJ60qRJTe2SwVz5dRdlTd3aTU/za+n1vPPOq73c8FhmCzLxl71eDqZhXi70h4CJT5nW8x1w0ll2zjnnNP03blzxuuLSXr4+Y0ujPfqcPRthXp9lYkeeMAkYLYRpPVZDIG4C6DPu+OJd2AS6oU/6h4rvAfqHirlwtjwBF33m3xf1UtmFDeklcNMfvciXh6Z+s//tb39rlfne975n5TniiCOs6y6Jdp4TLvWXydvt/tHVVlvN4vPEE0+UMcOLPPLDk/nmmy+zX75Ml3ujaGMASBGVdN3ulF/x1dlnu/V9g9QWmx7Fp04GgISsv/wPB80zOL8/5JBDBFP648D8tW70X6eVR/qf4RWKewwACSVS2AmBAAh08wF41VVXJYssskj2gdHULR9K8lsvBoD87//+r9W2LFHRztatem6++WbLHsPDZS+j8fN/xMW+/NRmtXWutdZayR133NHQ9U7LN6yYC10nYOLabsXdHAAiM/pIp4D8k4Fd8usRWQ5FRp036kxo1+5+lRMfDXPZm9HVzew56aSTrDJ6TVwru3zhXFvnD3/4Q+t6o8TTTz9tlVtjjTUaZeV8nwiYuJZpPt8Bd8MNN5Qp1jBPvj70WYyqlT6LS3E2BgIu+ozBX3yAQEgE0GdI0cLWQSPQTX3SP2TfPfQP2TxIuRNw0Wf+fbFVn43MKjx8+PCmfRA/+MEPrOtf/vKX3Z3IlXB5TuSKdiXZzf7R2tmcJVYPPvhgV2ysopJddtnFiq3EpdHGAJBiMmX02a3vG8SCGPXYyQCQkPW3zjrrWPoz91J+f+CBB2Y3Xy/6r7PKIzwwLENx7SNiqDY6mE1/gZnaGpjZwfDFUAh0QqDb+vzrX/+qttpqK/Xuu+9mZm299dZKL4uQpeVAr/+oNtpoo+zcTjvtpK6++uosXXSw/fbbK/2lWXZJj9ZWY8aMydJ6/Tul/xhmaT1lobr++uuzdNmDbtUjbesvg61m9QAZK90soZd8UHpNTaVnDKjLpl/O1Mknn6wuu+wypZeIqbsucZXrxx13XN01OdFp+cJKOdl1Ap3q85Of/KS6//77M7v0dHLq05/+dJZudqBHIKtbbrklyyLa04OqsnSvDvRyK2rs2LHq7bffbrsJvaam0i+sSs+W41THoosuqvTUe1mZ//f//p/Sa6Bm6aIDeW7pl+Xskv7grvSo/iytX8rUCSeckKUPP/xw9ctf/jJLNzqQZ6butMku6+lJle60ydIc9J+Aiz67radu11eWZmz6LOs3+cIj4KLP8LzDYgiETQB9hh0/rI+bQLf1Sf/QnPuF/qE5LDhqj4CLPvPvi9KXIH0KzbYLL7xQHXTQQVkWaU8vNaDmn3/+9NzZZ5+tpD/DbHvuuafSs1aaZNv7ss+JthtoUbBb/aOLL764ev3117PWJkyYoFZYYYUsXeagH+/bL7/8stIzfljm6R9SWOnahMRLL+WTnVp//fWzvm89iEjpH4opPUt1dn1QDsros1vfNwjTGPUo/dfSj2223XbbTf3mN78xyab7UPUnTu23335KD6xq6p9cPPHEE5X+kXWarxf91y0NCDhDGX165V4oI1WMnRpeOorJpNlDAAL+EOiFPo855hhr5GLR0gX5GUC+9KUvtYQia1Aae2Uv0/XVbn/4wx+s6/pDaO3l0sfdqueRRx6x7JHpyLq9vfbaa8mpp56aLLfcclZbwkf/cUvEl2Zbp+Wb1c21zgmY+73dmro5A0inMxaU9UEPfKi7lw0Hl71MYem6rbLKKlbbrX4lI/Vfe+21Vhk9sM1qVpb5qLV78803t643SuiXOavcHnvs0Sgr5/tEwMS1TPP5X2B1qqdu11fGB8kTmz7L+k2+8Ai46DM877AYAmETQJ9hxw/r4ybQC33SPzT7nqF/KG7tVOGdiz7z74tl+jb0gAWrD0Laq+13vfzyy63rX/ziF7vmdpnnRNcaa1BRp/2j8847r8VH/7ioQUuNT/fjffvOO++07Db3Wbv7P//5z40djPiK4dXMxW593yBtxKjHTmYACVV/EstZs2Yl+keQTf9NmTJFsmZbL/qvs8ojPCijT5/cZgkYn6KBLRAInEAvHoD6lw3Wh0dZriS/5V9+N9hgg3yWunSrASDjx4+32pWlKtrZulWPHilv2bPgggu2Y06pMh988EFy7rnnJvkpwPTMKpWUL9UImZwJdKrPEAeAdOvls50BIDvvvLOl2Z/85CctY6Zn4bHKyHOqdrvmmmus63pWkiT/wb02vznWI92tcrKUBZtfBFz0me+AC3UASGz69OuOwppuEnDRZzfbpS4IQKA1AfTZmhE5INAvAr3QJ/1Ds6NJ/1C/7up42nXRZ/79s8wAkKlTp1p9ENKent00A3jjjTda1z/1qU9l1zo9KPOc6LSNsuXb6V99//33LTbCbubMmWWbzPL14327W22a+/Pee+/N/BmkA+N/M5+79X2DtBGjHtsdABKy/prdL82u9aL/ull7oV8ro0+ffGQJGB0xNghAoDsEejEFkh6FqvbZZ5/MwDXWWEM99thjWVoOZFo8mZ7LbDLdnEy712jTH8DVhhtuqB5++OEsS34JGMmjB0CoDz/8MMsjS83owSVZusxBt+qRtkaNGqUmTpyYNfvoo4+qNddcM0t3+yA/reiyyy6rnn/++dLNdFq+dENkLEWgU32GuATMtGnT0int9CCJUoyKMonumk1ZWVRGzn3/+9+3ysmzQ54hzbYjjzzSWtLl29/+tjrttNOyIrIclh6MpsQvs/3ud79T+sO6SdbtZVknPXOStZRWO9OH1lXMia4ScNFnfgreTpdU6nZ9ZcHEps+yfpMvPAIu+gzPOyyGQNgE0GfY8cP6uAn0Qp/0D825Z+gfmsOCI3cCLvrMvy+WWQJGz9SsNt54Y8uwl156SY0ePTo995e//EXpHxll15dcckn1yiuvZOlODso8Jzqpv52yLv2jTz31lNKzPmfNyPLfspyL69aP9+1JkyalS0WX7YOT5ZprlyKX5cul/0q2ESNGqD/96U9pH5ir76HnL6PPbn7fEKMe210CJmT9tXvf96L/ul1bQihXRp9e+eHTaJQytmh46SjIMnnJAwEIVEugjD4ff/zx5I477kj0wIpSxu24447WyOf999+/rpzUJb+EN+3LvnZkeW0Bybv33ntbeSV/7VSEJv/yyy9v5Rs7dqy51HB/2223Jc8++6x1vVv1bLbZZpY9e+21l9VOtxMywlx/+M7aXGaZZZya6LS8U2NkbknA6KNlxgYZQpwBpIErlZzW65hm2jHsZYR+o00P7kr0erhWmYsvvrgue342j1Yz8+gBJFadm266aV2dnOg/AXOPlLEk/wusUGcAKeNrr/L0Sp+9spd6+0vARZ/9tZTWITB4BNDn4MUcj8MhUEaf9A+ppN1+JvqHwtGCj5aW0aexO//+WWYGkN13393qh1hggQWsfmCZyVR/iWbl0YMcTJPWvhfPCdOA/hI9mTx5ciIzlvRyc+kf1T/ysbjE3Idz6aWXWr5+61vf6mUYgqm7rD679X1DjHpsdwaQQdKfEQT9Y4ZEuX1ZfZarrfe5WAKm94xpAQIDQ6DMA3CrrbZKP9ytt956iaxX12iTgRr5Ly6l/nPOOaewyIorrmh9aJQvRWXds9pNj35O9thjDyufsbloAIgs2WCuy36uueZK18WrrdMcy5e3ZlmZL3/5y+Z0uu9WPddee61ljwzOuPLKK622ihLyIqNHviYzZszILuvRvcnxxx+f6Bk9snP5A2FS6/9nPvOZLEun5bOKOKiMgIlluw0yAMSNnHQk6F+xWBrafPPNEz2LR11Fck7WvDUxkr2eyaiwE+Lqq6+28kneE088sa5OOfHggw/WDSo5//zzC/Nysr8ETOzLWJHvgGMASBlqdp5e6dNuhVQsBFz0GYvP+AGBUAigz1AihZ2DSKCMPukfar+fif6hQVRV93wuo0/TWv79s9kAEFme6Oijj67rs9CznZrqsv1KK61k5Wu03EevnhM333xzMt9886U2yGAUPQNrZpvLQbf7R2XJXhMf2R9xxBEu5gSVlwEgxeEy8S++Oudst75vkBpj0aOh0+4AkEHSn2FF/5ghUW5fVp/laut9LgaA9J4xLUBgYAiUeQDqKQCtD7Irr7xyoqeaSq666qpETxGY3HPPPckFF1yQrL/++lY+qXvttdcu/EJUAP/gBz+oyy8DMmT9wRdeeCH5zW9+k+gp9OryGJuLBoC89957iV5uoa7M1772tUReFOTX/PLic9xxxyULLrhglu+rX/2qFfNu1SOVbrHFFlk7xnaZFUUGeMiIXbO9+eabiXQIHHzwwZlt1113nbmcfP3rX0/rmXfeeRPxR/yvHTBz6623JvmRxPISZ7ZOy5t62FdHwNwv7bbIABB3cjLIynA3e3kGyvqar732WvpskmefPNvMdbO/4oorChuU9Sj1FKB1+UXHstbtyy+/nPz9739P5KVlnnnmsfLpKTQTPcVmYb2c7C8BE/cyVuQ74BgAUoZafZ5e6LO+Fc7EQMBFnzH4iw8QCIkA+gwpWtg6aATK6JP+odmzXAsr134muZ/oHxo0VXXP3zL6NK3l3z/lXj3vvPOsf9Ine8ABByR6aSKrD0LaWWihhdK+D1Of2ednN5U6i7ZePSe++c1vWrZKn1c7W7f7R/fcc0/LrgsvvLAds4IowwCQ4jCV1Wc3v2+IRY+GaLsDQAZJf4aV7Okfq6XR/LisPpvXUt1VBoBUx5qWIBA9gTIPQJmZw+Rz2csLQ35plVqgb7zxRvLRj360rbrFjqIBIFL/L3/5S+c6DzvssFrT0uNu1SN2ykwkjdjptRKzEez5PLWzhZgXlNo8Mhhk2WWXzQaM1F6TemUgjdk6LW/qYV8dARPPdltkAIg7OZnZo2hwh4lFo738wqXZMlm//vWvGz4DGtU5dOjQRJaoYvOTgIlbGevyHXAMAClDrT5Pr/RZ3xJnQifgos/QfcV+CIRGAH2GFjHsHSQCZfRJ/9CcASCGV6N9UT8T/UODpKju+mruszK15t8/Tdkye5lh46677ips5oc//KHVryE/YCvaevWckJk1an1Yc801i5pvea7b/aP5mRj+8Y9/tLQh1AwMACmOnLkvi6/aZ7v1fUMsejR02h0AMkj6M6xkT/9YLY3mxy76bF5TNVcZAFINZ1qBwEAQKPMAfPjhh+tmljDlGu1XX331dCaPVhBlxgtZV7JRPXJepvX7xje+kVx00UVWvkYDQKRNWTLBTAvYrG65ttZaa1kDJWpt7lY9sqzDOuusY9nfyi758lfKmW3cuHGly8vAkPwUj52WN3awr46AuUfabZEBIO2Rk4FTo0ePLqU30el//dd/JbI+bKvt9NNPbzoYzMRb9jKATmZBYvOXgIlXGQvzHXAMAClDrThPr/RZ3BpnQyXgos9QfcRuCIRKAH2GGjnsHgQCZfRJ/9Ds5ScMq0b7Zv1M9A8Ngpq676O518rU3O4AjM022ywRjTfaZCZjY4fsZRncoq1Xz4n8AJDPfe5zRc23PNfN/tEJEyZYTD72sY+V6h9qaaSnGRgAUhwYo4viq/Vnu/F9Qyx6NHTaGQAyaPozrMye/jFDovneVZ/Na+v9VQaA9J4xLUBgYAiUfQBOnz49kSnsZLrK/BIFpg4ZqLHKKqukAzXKfBlqID/yyCPJhhtuWPfFqMwOIl+a3XHHHWnWa665JvtQLTNqNJtdRApIvZtvvnnDASbyQn7uuecm4luzrVv1zJgxIzn55JNTRo1mBBGGsuzNMccckzz55JN1Zt10002JvOA0Ki8DP+RXJi+99FJdWTnRafnCSjnZMwJGW+02sP3221uakXu57LbPPvtkZWWQg3wQH6RN1sE95ZRTCpdukbgsscQSyRe/+MV0KScXLrLW7LbbbpvMPffcGV8TZ9nLwA/5FY28xLD5TcDErYyVtXoaMmRI8uc//7lMsYZ5autDn/W/wmxXnw2BcyE4Ai76DM45DIZA4ATQZ+ABxPyoCZTVJ/1Dnfcz0T8UtZR64lxZfUrjspx00TK0pg7Zy4/mlllmmWSjjTZKvv3tb6fLe7cyXGY9XWqppay+jCeeeKKwWC+eE1tvvbXVtsyA0O7Wrf7Rc845x7LpwAMPbNekIMrJj1lq76NOYhCEwyWNNExKZk+zdfp9Q0x6FCCPP/649X3HoYce2hLnoOmvCEiv+q+L2gr1XDv67KevH5HGtdHBbPoLzdTWwMwOhi+GQqATAu3oc+rUqUp/wFevvfaamjx5slp44YXVyiuvrFZccUWlXyDaNuf9999X+sOP0gMflJ6+S+mXEKW/JLXqe/PNN5X+w6ZGjBih9Mwh1rVGCXn26C9TlR6BrsR2vb6l0oMslP6Ff6Mihee7VY9Url/21fjx41NfjT96yZbULuHZatNrBio9pWAaAz3lV+rTCiusoJZbbjmlB4G0Kq46Ld+yATJ0hUA7+sw3PHHixPR+W3TRRZ31OWnSJKVf2lO96QFZ+aoHIj1r1iylB1Slen355ZeV7uxQ6667rhK9drK99dZb6XP01VdfVaJhqW/JJZdUevYkNWzYsE6qpmxFBFz12W09dbu+irB1tZle6bOrRlJZXwi46rMvRtIoBAaUAPoc0MDjdhAE2tEn/UOd9TPJjUH/UBDy6LuR7eizF0YfeeSRSi9hkVX905/+VOlZm7N00UE3nhN65hy1wQYbZNUPHz5c6R8GKj3jRnaunYNO+0d32GEHdf3112dN33jjjepLX/pSlo7xYMqUKUr+ST9hp/xj4dOJPjv5viFGPcp3P/rHx2rkyJEtb49B1F8jKPSPNSKjVCf6bFxr764wAKR3bKkZAgNHILQH4MAFCIcHmgD6HOjw47znBNCn5wHCvIEmgD4HOvw47zkB9Ol5gDBvoAmgz4EOP857TsAXfd51111Kz7ac0dpyyy3V7bffnqV7dbDzzjsrPTN0Vv0FF1ygDjrooCzdj4Np06alX1LLj3pk0zO6qtdffz398rof9tBm/wj0S5+DrEf017/7PbSW+6XPdjkxAKRdcpSDAATqCIT2AKxzgBMQiJgA+ow4uLgWPAH0GXwIcSBiAugz4uDiWvAE0GfwIcSBiAmgz4iDi2vBE/BFn3rZCbXssssqmSFVNrHrueeeS8/1CvJjjz2m1l57bWVml//85z+vbrnlll41V7reSy+9VO23335Zfjm++OKLszQHg0OgX/ocZD2iv8HRV6ee9kuf7drNAJB2yVEOAhCoIxDaA7DOAU5AIGIC6DPi4OJa8ATQZ/AhxIGICaDPiIOLa8ETQJ/BhxAHIiaAPiMOLq4FT8AnfZ5xxhnq6KOPzpiecMIJ6qSTTsrS3T4YO3asGjduXFqtzLIhA0KWXnrpbjfjXN+nP/1pde+992blZOlxGajCNngE+qnPQdUj+hs8nbXrcT/12Y7NDABphxplIACBQgKhPQALneAkBCIlgD4jDSxuRUEAfUYRRpyIlAD6jDSwuBUFAfQZRRhxIlIC6DPSwOJWFAR80qcseSIDMKZMmZKyHT16tHrhhRfUkCFDus56/Pjx6uMf/7iaNWtWWvf555+vDj744K6341rhk08+qVZfffWsmC+zkmQGcVApgX7qcxD1iP4qvb2Db6yf+mwHHgNA2qFGGQhAoJBAaA/AQic4CYFICaDPSAOLW1EQQJ9RhBEnIiWAPiMNLG5FQQB9RhFGnIiUAPqMNLC4FQUB3/T53e9+V5166qkZ25tvvllts802WbpbBzfccIPad99908Elu+66qzrvvPO6VXVH9RxzzDHq9NNPz+q4/fbb1ZZbbpmlORgsAv3W56DpEf0Nlr469bbf+nS1nwEgrsTIDwEINCQQ2gOwoSNcgECEBNBnhEHFpWgIoM9oQokjERJAnxEGFZeiIYA+owkljkRIAH1GGFRcioaAb/p89dVX0+VOJk+enDI+99xz1aGHHhoN71aOyGCU3/3ud2m2z3zmM+rOO+9sVYTrERPotz4HTY/oL2Ix9cC1fuvT1SUGgLgSIz8EINCQQGgPwIaOcAECERJAnxEGFZeiIYA+owkljkRIAH1GGFRcioYA+owmlDgSIQH0GWFQcSkaAj7q88MPP0yXgZl77rnVAgssEA3rMo4kSaLeeeedNOvCCy9cpgh5Iibggz4HSY/oL2Ix9cA1H/Tp4hYDQFxokRcCEGhKILQHYFNnuAiByAigz8gCijtREUCfUYUTZyIjgD4jCyjuREUAfUYVTpyJjAD6jCyguBMVAfQZVThxJjIC6DOygOJOVARC0ycDQKK6/XAGAv0lENoDsL+0aB0C1RJAn9XypjUIuBBAny60yAuBagmgz2p50xoEXAigTxda5IVAtQTQZ7W8aQ0CLgTQpwst8kKgWgLos1retAYBFwKh6ZMBIC7RJS8EINCUQGgPwKbOcBECkRFAn5EFFHeiIoA+owonzkRGAH1GFlDciYoA+owqnDgTGQH0GVlAcScqAugzqnDiTGQE0GdkAcWdqAiEpk8GgER1++EMBPpLILQHYH9p0ToEqiWAPqvlTWsQcCGAPl1okRcC1RJAn9XypjUIuBBAny60yAuBagmgz2p50xoEXAigTxda5IVAtQTQZ7W8aQ0CLgRC0ycDQFyiS14IQKApgdAegE2d4SIEIiOAPiMLKO5ERQB9RhVOnImMAPqMLKC4ExUB9BlVOHEmMgLoM7KA4k5UBNBnVOHEmcgIoM/IAoo7UREITZ8MAInq9sMZCPSXQGgPwP7SonUIVEsAfVbLm9Yg4EIAfbrQIi8EqiWAPqvlTWsQcCGAPl1okRcC1RJAn9XypjUIuBBAny60yAuBagmgz2p50xoEXAiEpk8GgLhEl7wQgEBTAqE9AJs6w0UIREYAfUYWUNyJigD6jCqcOBMZAfQZWUBxJyoC6DOqcOJMZATQZ2QBxZ2oCKDPqMKJM5ERQJ+RBRR3oiIQmj4ZABLV7YczEOgvgdAegP2lResQqJYA+qyWN61BwIUA+nShRV4IVEsAfVbLm9Yg4EIAfbrQIi8EqiWAPqvlTWsQcCGAPl1okRcC1RJAn9XypjUIuBAITZ8MAHGJLnkhAIGmBEJ7ADZ1hosQiIwA+owsoLgTFQH0GVU4cSYyAugzsoDiTlQE0GdU4cSZyAigz8gCijtREUCfUYUTZyIjgD4jCyjuREUgNH0yACSq2w9nINBfAqE9APtLi9YhUC0B9Fktb1qDgAsB9OlCi7wQqJYA+qyWN61BwIUA+nShRV4IVEsAfVbLm9Yg4EIAfbrQIi8EqiWAPqvlTWsQcCEQmj4ZAOISXfJCAAJNCYT2AGzqDBchEBkB9BlZQHEnKgLoM6pw4kxkBNBnZAHFnagIoM+owokzkRFAn5EFFHeiIoA+owonzkRGAH1GFlDciYpAaPpkAEhUtx/OQKC/BEJ7APaXFq1DoFoC6LNa3rQGARcC6NOFFnkhUC0B9Fktb1qDgAsB9OlCi7wQqJYA+qyWN61BwIUA+nShRV4IVEsAfVbLm9Yg4EIgNH0yAMQluuSFAASaEgjtAdjUGS5CIDIC6DOygOJOVATQZ1ThxJnICKDPyAKKO1ERQJ9RhRNnIiOAPiMLKO5ERQB9RhVOnImMAPqMLKC4ExWB0PTJAJCobj+cgUB/CYT2AOwvLVqHQLUE0Ge1vGkNAi4E0KcLLfJCoFoC6LNa3rQGARcC6NOFFnkhUC0B9Fktb1qDgAsB9OlCi7wQqJYA+qyWN61BwIVAaPpkAIhLdMkLAQg0JRDaA7CpM1yEQGQE0GdkAcWdqAigz6jCiTOREUCfkQUUd6IigD6jCifOREYAfUYWUNyJigD6jCqcOBMZAfQZWUBxJyoCoemTASBR3X44A4H+EgjtAdhfWrQOgWoJoM9qedMaBFwIoE8XWuSFQLUE0Ge1vGkNAi4E0KcLLfJCoFoC6LNa3rQGARcC6NOFFnkhUC0B9Fktb1qDgAuB0PTJABCX6JIXAhBoSiC0B2BTZ7gIgcgIoM/IAoo7URFAn1GFE2ciI4A+Iwso7kRFAH1GFU6ciYwA+owsoLgTFQH0GVU4cSYyAugzsoDiTlQEQtMnA0Ciuv1wBgL9JRDaA7C/tGgdAtUSQJ/V8qY1CLgQQJ8utMgLgWoJoM9qedMaBFwIoE8XWuSFQLUE0Ge1vGkNAi4E0KcLLfJCoFoC6LNa3rQGARcCoemTASAu0SUvBCDQlEBoD8CmznARApERQJ+RBRR3oiKAPqMKJ85ERgB9RhZQ3ImKAPqMKpw4ExkB9BlZQHEnKgLoM6pw4kxkBNBnZAHFnagIhKZPBoBEdfvhDAT6SyC0B2B/adE6BKolgD6r5U1rEHAhgD5daJEXAtUSQJ/V8qY1CLgQQJ8utMgLgWoJoM9qedMaBFwIoE8XWuSFQLUE0Ge1vGkNAi4EQtMnA0BcokteCECgKYHQHoBNneEiBCIjgD4jCyjuREUAfUYVTpyJjAD6jCyguBMVAfQZVThxJjIC6DOygOJOVATQZ1ThxJnICKDPyAKKO1ERCE2fDACJ6vbDGQj0l0BoD8D+0qJ1CFRLAH1Wy5vWIOBCAH260CIvBKolgD6r5U1rEHAhgD5daJEXAtUSQJ/V8qY1CLgQQJ8utMgLgWoJoM9qedMaBFwIhKZPBoC4RJe8EIBAUwKhPQCbOsNFCERGAH1GFlDciYoA+owqnDgTGQH0GVlAcScqAugzqnDiTGQE0GdkAcWdqAigz6jCiTOREUCfkQUUd6IiEJo+GQAS1e2HMxDoL4HQHoD9pUXrEKiWAPqsljetQcCFAPp0oUVeCFRLAH1Wy5vWIOBCAH260CIvBKolgD6r5U1rEHAhgD5daJEXAtUSQJ/V8qY1CLgQCE2fDABxiS55IQCBpgRCewA2dYaLEIiMAPqMLKC4ExUB9BlVOHEmMgLoM7KA4k5UBNBnVOHEmcgIoM/IAoo7URFAn1GFE2ciI4A+Iwso7kRFIDR9MgAkqtsPZyDQXwKhPQD7S4vWIVAtAfRZLW9ag4ALAfTpQou8EKiWAPqsljetQcCFAPp0oUVeCFRLAH1Wy5vWIOBCAH260CIvBKolgD6r5U1rEHAhEJo+GQDiEl3yQgACTQmE9gBs6gwXIRAZAfQZWUBxJyoC6DOqcOJMZATQZ2QBxZ2oCKDPqMKJM5ERQJ+RBRR3oiKAPqMKJ85ERgB9RhZQ3ImKQGj6ZABIVLdff5057rjj1Nlnn61mzJihllxySXXXXXeppZZaqr9GBdx6iDxDewAGYm33HAAAQABJREFUfHtgOgScCaBPZ2QUgEBlBNBnZahpCALOBNCnMzIKQKAyAuizMtTODYXYn+HsZIUFQuSJPiu8QWgKAo4E0KcjMLJDoEIC6LNC2DQFAUcCoemTASCOAc5n//DDD9XMmTPzp9P0PPPMU3g+1pPbb7+9uuGGGzL3HnroITVmzJgsLQfTp09Xv/rVr9Q999yjFllkEbXTTjuprbfe2spDYjaBMjx9YxXaA9A3ftgDgV4SQJ+9pEvdEOiMAPrsjB+lIdBLAuizl3SpGwKdEfBNn/QPzYlnmf4M+ofm8Gp1VIZnqzqqvu6bPqv2n/Yg4DMB9OlzdLBt0Amgz0G/A/DfZwKh6ZMBIB3cTb///e/Vf/zHf6i33nqrsBa5GRZeeGG1yiqrqI022kgddNBBat111y3MG8PJMi+kt956q9pmm20ydz/2sY+pSZMmqSFDhmTnOJhNoAxP31iF9gD0jR/2QKCXBNBnL+lSNwQ6I4A+O+NHaQj0kgD67CVd6oZAZwR80if9Q3Ysy/Rn0D9kM2uWKsOzWfl+XPNJn/3wnzYh4DMB9OlzdLBt0Amgz0G/A/DfZwKh6ZMBIB3cTbvuuqv63e9+51TDFltsocaNG6dGjhzpVC6EzGVeSE866ST1/e9/P3NHBDNx4kS12GKLZed6dfD+++8rmZUllMEmZXj2ilW79Yb2AGzXT8pBIEQC6DPEqGHzoBBAn4MSafwMkQD6DDFq2DwoBHzSJ/1D9l1Xpj+D/iGbWbNUGZ7Nyvfjmk/67If/tAkBnwmgT5+jg22DTgB9DvodgP8+EwhNnwwA6eBu+sIXvqBuueUW5xqWWWYZddNNN6k111zTuazPBcq8kP72t79Vu+++e+bGQgstpN544w0111xzZee6ffDAAw+ozTffXE2dOlUNHTpUnXHGGeqoo47qdjNdr68Mz6432mGFoT0AO3SX4hAIigD6DCpcGDtgBNDngAUcd4MigD6DChfGDhgBn/RJ/5B985Xpz6B/yGbWLFWGZ7Py/bjmkz774T9tQsBnAujT5+hg26ATQJ+Dfgfgv88EQtPnRx577LHEZ6B528ygiSTpv9n5F/yvfOUrapNNNklNnjZtmpo8ebK6++671R133KFkLdjabZ111lEPPfRQMLNR1Nre6LjMC+k777yjjjvuOPXnP/9ZLbroomqvvfZSBxxwQKMqu3L++uuvVzvssENWlwz+OPPMM7O0rwdlePpmu3kA+mYX9kAAAhCAAAQgAAEIQKATAvq9uZPilIUABHpAgP6hHkDtUpVl+jPoHyoPuwzP8rVVk5P+oWo40woEIAABCEAAAhCAQLUEQukfYgBIB/dFfgDIDTfcoLbddtu6Gl944QW11VZbqWeffda6dvHFF6v99tvPOhdywtcXUgaAVHdX8YJfHWtaggAEIAABCEAAAhCojkAoL/jVEaElCPSfgM8DQOgf2l4JA7PJD6DGjBljkn3b0z9UHXr6h6pjTUsQgAAEIAABCEAAAtURCKV/iCVgOrgnyg4AkSaef/75dHaQiRMnZi3KoJDbbrstS4d+wACQ7kbQV57NvDQv+D7M0NPMTq5BYBAJoM9BjDo+h0IAfYYSKewcRALocxCjjs+hEPBJn/QP2XeNr/0ZDACx49TLlE/67KWf1A2BEAmgzxCjhs2DQgB9Dkqk8TNEAqHpkwEgHdxlLi/40swRRxyhzjrrrKzFpZdeWr344otZ2hxMnz5dTZkyRQ0bNkwttNBC5rR69dVX1V//+tf02qhRo9QnPvEJ63qWsebggw8+UE8++aSSEUnDhw9X6667rlpiiSVqcrgdPvfcc+rBBx9MbfvUpz6V1mlqKPuCLza9/fbbaujQoWrEiBGmeKm9TBH66KOPptzEn+WXX16tuuqqTct28wXfR55Nna/4YmgPwIrx0BwE+koAffYVP41DoCkB9NkUDxch0FcC6LOv+GkcAk0J+KRP+ofoH/Khv62pYCq+6JM+K3ad5iDgPQH06X2IMHCACaDPAQ4+rntPIDh96l/qB7XpOyCRfz5s22yzTWqLsUlPb9nUrCuuuMLKP/fccyczZsywyrzxxhvJfPPNl+W79NJLk1mzZiXf+c53knnmmSc7L20usMACyeTJk63yJnHOOeck66+/fjLvvPNaZaTc4osvnuilapJnnnnGZG+610vYJDvuuGOy2GKLWXXpmz1Za621kgsvvDAtv91221nX9RSfdfW++eabqd2G2S677FKXJ3/i/fffT/1fdtllrfpNHaNHj05OOumkRA8OyYqef/75iR5gkgwZMqSwjJyv/aenIs3KFh34yrPI1n6eMzHppw20DQEIFBNAn8VcOAsBHwigTx+igA0QKCaAPou5cBYCPhDwSZ/0D9E/JPdjP/vbfNBkrQ0+6bPWLo4hAIEk6yuHBQQg4B8B/n76FxMsgoAhEJo+/RhJYeiV2PsE2PUF/5Zbbsk+YIkfMqBDzyhhef3yyy9beX72s58lY8eOtc4ZBrIfP368VV4GhOywww4N89eWXXDBBZNx48ZZ5fOJ++67Lxk5cmTL+r785S8nekkbK1/RAJC8f5tuumm+SSstdeh1fa16a32oPV5ppZUSPaNKWv7rX/96qTKmvMSiaPOdZ5HN/TxnePbTBtqGAASKCaDPYi6chYAPBNCnD1HABggUE0CfxVw4CwEfCPikT/qHZv9YS2JC/5BK+tHf5oMma23wSZ+1dnEMAQgwAIR7AAI+E+Dvp8/RwbZBJxCaPhkA0sEd6/qCf8kll1iDEj7+8Y/XtZ4fICG/HjA3VdF+woQJWR2TJk1KZDaMfD6Z6UIvlZK+gOavSVrsKtruvvvuwhlEiuooOtfpAJCnnnqqbtaTonZqz51wwgmpK6eeemodh9p8+WOZXSS/hcAzb3O/04Zrv+2gfQhAoJ4A+qxnwhkI+EIAffoSCeyAQD0B9FnPhDMQ8IWAT/qkf2jOABATl9o9/UO2anrR32a30P+UiX//LcECCEAgTwB95omQhoA/BNCnP7HAEgjkCYSmTwaA5CPokHZ9wd91112tQQm77757XWv5ASDmhpL9oosumpxyyinJueeem+y5556JXl80mTJlSlbH4YcfbtUvS8nIUigmz4cffpjIS7cs21Jb7zLLLJNMnz49q8ccfPazn7XySZlDDz00+f3vf5/IwBOZPWSNNdaoy2Pq7vQFX5apMXXJXpacOfbYY5N77703XfrmwQcfTH784x+nU2yafDLzh2zvvfdecv311yfXXXdd8q1vfcuqR2YqkfO1/5544gnjdrYPgWdmrCcHJg6emIMZEIBADQH0WQODQwh4RgB9ehYQzIFADQH0WQODQwh4RsAnfdI/RP9Qv/vbPJNn1g/nm13YAwEIMAMI9wAEfCbg0+dbnzlhGwT6QSA0fTIApIO7xOUFP7/8i9woP/rRj+pabzQAZJVVVklee+21uvzmxDPPPJPMPffc2QvWsGHD0sEe5nrtftq0ack666yT5RVbfvGLX9RmSR544AHruuSRwSf5TQaO7LfffnV5JX8nA0Buu+02q8655pqr4XI177zzTrLvvvum+c8666y8ielAD7HH/DvqqKPq8uRPhMIzb3e/04Zxv+2gfQhAoJ4A+qxnwhkI+EIAffoSCeyAQD0B9FnPhDMQ8IWAT/qkfyhJf1hE/1D/+tt80aWxwyd9GpvYQwACswmgT+4ECPhLAH36Gxssg0Bo+mQASAf3bJkX/FmzZqWDKxZYYIFsAILcJLJUy1tvvVXXetEAkOHDhyfPPfdcXd7aE3vvvbdV/7e//e3ay3XHMjuGuVllv8UWW1h5ZIaR2utbb721dT2fOOSQQ6z8UraTASD52UfGjh2bb7IuLexklpP8JjN91PpSZgBIKDzzvvY7bTj32w7ahwAE6gmgz3omnIGALwTQpy+RwA4I1BNAn/VMOAMBXwj4pE/6h+bcFfQP9ae/bU4E/DjySZ9+EMEKCPhDAH36EwssgUCeAPrMEyENAX8IhKbPjwg6bXQwm14GJLXVB7O/8IUvKD2zR8Zujz32UHpZljQ9efJk9fTTT6tHH31UvfDCC1keORAfbr31VqWXIrHOS+KVV15RenCIdV4vtaL0gAzrXD6hZwhRzz77bHZ64sSJavHFF8/S+QM9UELpJWLUjBkz0kt6GRjLzpVXXlmNHz8+K9bKBj3QRW200UZKD/rIysjxmDFjsrQc5P3bdNNN1T333GPlkcSSSy6pXn311ez8/fffrzbZZJMs7XKgB7uoHXbYISuiB4CoM888M0sXHYTCs8j2fp7zSZ/95EDbEPCRAPr0MSrYBIHZBNAndwIE/CWAPv2NDZZBwCd90j80536kf6g//W1zIuDHkU/69IMIVkDAHwLo059YYAkE8gTQZ54IaQj4QyA0fTIApIN7J/+CX6aqoUOHqu9///vqhBNOKMyeHyAhAyhqB1UUFZo5c2Y6mEP2so0cOVI9//zz6XGz/9Zcc001YcKENMuQIUOUXhpGzTPPPDIrTFqfXt4lvaaXllFTpkxJzzWrb/vtt1c33HBDlqXdASDvvfee0jOmZPWIP3r5myzteuA6ACQknq4sep0/tAdgr3lQPwR8IoA+fYoGtkDAJoA+bR6kIOATAfTpUzSwBQI2AZ/0Sf+QHRv6h6rvb7Mj0P+UT/rsPw0sgIBfBNCnX/HAGgjUEkCftTQ4hoBfBELTJwNAOrh/XF/w9bIm6uc//7mSgReNtvwAkEYzZNSWl5k6ZMaOTjcZNLLsssumgy2WWGKJrLr87CDZhdxBt17wH3744WwmFWlivfXWUw8++GCutfJJ1wEgIfEsT6GanKE9AKuhQisQ8IMA+vQjDlgBgSIC6LOICucg4AcB9OlHHLACAkUEfNIn/UN2hOgfsnlU0d9mt9j/lE/67D8NLICAXwTQp1/xwBoI1BJAn7U0OIaAXwRC0ycDQDq4f/Iv+MOGDVMLL7xwWqMcr7TSSunADBmcITN5bLHFFi1ba2cAiCxDI7Z0ssmNK8vGLLbYYuqvf/2rtdyKLO0i51pt3XrB/93vfqd23XXXrLltt93Wmlkku1DywHUASEg8SyKoLFtoD8DKwNAQBDwggD49CAImQKABAfTZAAynIeABAfTpQRAwAQINCPikT/qH7CDRPzSHh9ynVfS3zWnRjyOf9OkHEayAgD8E0Kc/scASCOQJoM88EdIQ8IdAaPpkAEgH907+BV+WP5HBCp1s7QwAyQ9wkPYXWWSR0mbI8i8y4OK8885Ly/zxj39UW265ZVa+6gEgF110kTrwwAOz9rfbbjslPra75fkcddRR6swzz2xYXT6/ZPSVZ0Mn+nQhtAdgnzDRLAT6QgB99gU7jUKgFAH0WQoTmSDQFwLosy/YaRQCpQj4pE/6h+yQdWsACP1Ds7mW4WlHoP8pn/TZfxpYAAG/CKBPv+KBNRCoJYA+a2lwDAG/CISmTwaAdHD/+PKC/+ijj6q1114782S11VZTTzzxRJZ2PZCya6yxRlZshRVWUBMmTMjSjQ7KvJCWGeBy++23q6222iprZv3111d///vfs7TrQX5AR6sBICHxdGXR6/yhPQB7zYP6IeATAfTpUzSwBQI2AfRp8yAFAZ8IoE+fooEtELAJ+KRP+ofs2NA/ZPMwqV72t5k2fNn7pE9fmGAHBHwhgD59iQR2QKCeAPqsZ8IZCPhCIDR9MgCkgzvHlxf89957Ty2wwAKZJwsuuKB65513srTrwZQpU6wZL2Q5m7ffflvNO++8Tavq1gu+DDaR5XPMNnLkSPXaa6+ZpPPedQBISDydYfS4QGgPwB7joHoIeEUAfXoVDoyBgEUAfVo4SEDAKwLo06twYAwELAI+6ZP+ISs0iv4hm4dJ9bK/zbThy94nffrCBDsg4AsB9OlLJLADAvUE0Gc9E85AwBcCoemTASAd3Dm+vOCLC6NGjUrXFDXuyCwWa665pkk672UQyb///e+s3I033qi+9KUvZen8wfvvv6822GAD9fjjj2eXHnroITVmzJgsLQdlZgD54IMPlAw6+fDDD7OyDzzwQFp/dsLhID8A5Mtf/nK23E2jakLh2cj+fp0P7QHYL060C4F+EECf/aBOmxAoRwB9luNELgj0gwD67Ad12oRAOQI+6ZP+oTkxo39oDouio171txW11c9zPumznxxoGwI+EkCfPkYFmyAwmwD65E6AgL8EgtNnEtimQ5/IPx+2bbbZJrXF2HTDDTd0bNbLL79s1bnpppuWqnOzzTazyu21116lyjXK9MlPftKqb5999mmUNZk1a1ayyy67WPmFiR4AUlemrH/LL7+8Vd/YsWPr6sqfuO2225Jnn302fzrRS8pYde2www51efInQuGZt7vfaaOFfttB+xCAQD0B9FnPhDMQ8IUA+vQlEtgBgXoC6LOeCWcg4AsBn/RJ/9Dsu4L+odbq6FV/W+uWq83hkz6r9ZzWIOA/AfTpf4ywcHAJoM/BjT2e+08gNH36MZLCIa4+AfbpBf/aa6+1BjkMGTIkufLKK1uSnTp1anL//fcnM2bMsPJefPHFVn3Cvag+PUtI4eAPyd/JAJCf/OQnVvtzzTVXcvnll1s2msTEiROT7bbbLs2vZ/cwp7P9U089ZdU1fPjwZPr06dn1ooNQeBbZ3s9zPumznxxoGwI+EkCfPkYFmyAwmwD65E6AgL8E0Ke/scEyCPikT/qHkoT+IVuTVfe32a33P+WTPvtPAwsg4BcB9OlXPLAGArUE0GctDY4h4BeB0PTJAJAO7h+fXvDFjS222MIa6CA34/77758O8NDrjGaevvnmm4kMcDj44IMTPfVkWua6667LrsvBtGnTkhEjRlj1zTvvvMn3vve9tL5XX301ueKKK5JVV13VymMEIPtOBoC89957yciRI+vq/trXvpbcfPPNyfjx45M//vGPyXHHHZf5IG1+9atftfyQxLvvvltXz5577pno5WqSZ555JvnpT3+afP/7368rFwLPOqP7fMLEv89m0DwEIFBAAH0WQOEUBDwhgD49CQRmQKCAAPosgMIpCHhCwCd90j9E/5DIop/9bZ7IMjPDJ31mRnEAAQikBNAnNwIE/CWAPv2NDZZBIDR9fkRCpo0OZvNpjR2f1niVAP7jH/9QG220kZo5c2ZhPBdbbDGlf5Gh9OCOuut6dg+ll42xzp9++unqmGOOsc41S+gBG0rPxpFl0QNA1JgxY7K0HLzyyitq9OjR2Tm9xI265557snTtwVlnnaWOOOKI2lMtjw877DAl5fKbniFE3XjjjfnTWVrYTJo0KUvLQQg8LYM9SPikTw9wYAIEvCKAPr0KB8ZAwCKAPi0cJCDgFQH06VU4MAYCFgGf9En/kBUaRf/QHB5V9bfNadGPI5/06QcRrICAPwTQpz+xwBII5AmgzzwR0hDwh0Bo+mQASAf3jm8v+OKKDLo48MAD1cMPP1zas6FDh6q//e1var311qsrc+aZZ6pvfvObMlNM3TVzYu6551Y///nP1ZJLLql23HFHczq1pZMBIFLRBRdcoI488sjCQStZQ/93sNZaa6WDPJZZZpn8pdQ/vc6q0uvR1l2TEwsvvLB6++236675zrPO4D6fCO0B2GdcNA+BSgmgz0px0xgEnAigTydcZIZApQTQZ6W4aQwCTgR80if9Q7NDR/+QfQtX2d9mt9z/lE/67D8NLICAXwTQp1/xwBoI1BJAn7U0OIaAXwSC02dok7bocKfLefhg9z777JMtLaJf6pL77ruvY7PeeOONZNiwYVm922+/vXOdM2bMSE4++eRklVVWSeaaa66sLsNO9vpGTVZbbbVEz/CRPPnkk03bGDduXPKpT33KssvUpQdVJHfffXda/s4770zrlWvCQ5ZXyW/t+PfII48km2++ebLAAgsU+qIHfiTnnntuMn369HxzVvovf/lL4ZI1wuLQQw+18tYmfOZZa6cPx+a+8MEWbIAABGwC6NPmQQoCPhFAnz5FA1sgYBNAnzYPUhDwiYBP+qR/SCX0D83ur+xXf5tP2hRbfNKnb2ywBwL9JoA++x0B2odAYwLoszEbrkCg3wRC0yczgOiIdbLJsiF64IEaMWKE+uhHP9pJVVlZWaJl8uTJSg/eUKNGjVJmVFGWweFAD15Q48ePV3qQR7r8i9gpy53owR/prBcOVSmp68EHH1RPP/10WsfHP/5xteKKK1pVTJkyRcm/4cOHqwUXXNC6ZhLt+qfFrSZMmJDObjJ16tSUjfhRu6SMaaPZ/l//+pd66qmn1Ouvv57aufbaa6d1NStjrvnI09jmw97cqxIrNghAwC8C6NOveGANBGoJoM9aGhxDwC8C6NOveGANBGoJ+KZP+ofoH+p3f1utPvp97Js++82D9iHgEwH06VM0sAUCNgH0afMgBQGfCISmTwaA+HT3YAsEAicQ2gMwcNyYDwEnAujTCReZIVApAfRZKW4ag4ATAfTphIvMEKiUAPqsFDeNQcCJAPp0wkVmCFRKAH1WipvGIOBEAH064SIzBColEJo+GQBS6e1BYxCIm0BoD8C4o4F3ELAJoE+bBykI+EQAffoUDWyBgE0Afdo8SEHAJwLo06doYAsEbALo0+ZBCgI+EUCfPkUDWyBgE0CfNg9SEPCJQGj6ZACIT3cPtkAgcAKhPQADx435EHAigD6dcJEZApUSQJ+V4qYxCDgRQJ9OuMgMgUoJoM9KcdMYBJwIoE8nXGSGQKUE0GeluGkMAk4E0KcTLjJDoFICoemTASCV3h40BoG4CYT2AIw7GngHAZsA+rR5kIKATwTQp0/RwBYI2ATQp82DFAR8IoA+fYoGtkDAJoA+bR6kIOATAfTpUzSwBQI2AfRp8yAFAZ8IhKZPBoD4dPdgCwQCJxDaAzBw3JgPAScC6NMJF5khUCkB9FkpbhqDgBMB9OmEi8wQqJQA+qwUN41BwIkA+nTCRWYIVEoAfVaKm8Yg4EQAfTrhIjMEKiUQmj4ZAFLp7UFjEIibQGgPwLijgXcQsAmgT5sHKQj4RAB9+hQNbIGATQB92jxIQcAnAujTp2hgCwRsAujT5kEKAj4RQJ8+RQNbIGATQJ82D1IQ8IlAaPpkAIhPdw+2QCBwAqE9AAPHjfkQcCKAPp1wkRkClRJAn5XipjEIOBFAn064yAyBSgmgz0px0xgEnAigTydcZIZApQTQZ6W4aQwCTgTQpxMuMkOgUgKh6ZMBIJXeHjQGgbgJhPYAjDsaeAcBmwD6tHmQgoBPBNCnT9HAFgjYBNCnzYMUBHwigD59iga2QMAmgD5tHqQg4BMB9OlTNLAFAjYB9GnzIAUBnwiEpk8GgPh092ALBAInENoDMHDcmA8BJwLo0wkXmSFQKQH0WSluGoOAEwH06YSLzBColAD6rBQ3jUHAiQD6dMJFZghUSgB9VoqbxiDgRAB9OuEiMwQqJRCaPhkAUuntQWMQiJtAaA/AuKOBdxCwCaBPmwcpCPhEAH36FA1sgYBNAH3aPEhBwCcC6NOnaGALBGwC6NPmQQoCPhFAnz5FA1sgYBNAnzYPUhDwiUBo+mQAiE93D7ZAIHACoT0AA8eN+RBwIoA+nXCRGQKVEkCfleKmMQg4EUCfTrjIDIFKCaDPSnHTGAScCKBPJ1xkhkClBNBnpbhpDAJOBNCnEy4yQ6BSAqHpkwEgld4eNAaBuAmE9gCMOxp4BwGbAPq0eZCCgE8E0KdP0cAWCNgE0KfNgxQEfCKAPn2KBrZAwCaAPm0epCDgEwH06VM0sAUCNgH0afMgBQGfCISmTwaA+HT3YAsEAicQ2gMwcNyYDwEnAujTCReZIVApAfRZKW4ag4ATAfTphIvMEKiUAPqsFDeNQcCJAPp0wkVmCFRKAH1WipvGIOBEAH064SIzBColEJo+GQBS6e1BYxCIm0BoD8C4o4F3ELAJoE+bBykI+EQAffoUDWyBgE0Afdo8SEHAJwLo06doYAsEbALo0+ZBCgI+EUCfPkUDWyBgE0CfNg9SEPCJQGj6ZACIT3cPtkAgcAKhPQADx435EHAigD6dcJEZApUSQJ+V4qYxCDgRQJ9OuMgMgUoJoM9KcdMYBJwIoE8nXGSGQKUE0GeluGkMAk4E0KcTLjJDoFICoemTASCV3h40BoG4CYT2AIw7GngHAZsA+rR5kIKATwTQp0/RwBYI2ATQp82DFAR8IoA+fYoGtkDAJoA+bR6kIOATAfTpUzSwBQI2AfRp8yAFAZ8IhKZPBoD4dPdgCwQCJxDaAzBw3JgPAScC6NMJF5khUCkB9FkpbhqDgBMB9OmEi8wQqJQA+qwUN41BwIkA+nTCRWYIVEoAfVaKm8Yg4EQAfTrhIjMEKiUQmj4ZAFLp7UFjEIibQGgPwLijgXcQsAmgT5sHKQj4RAB9+hQNbIGATQB92jxIQcAnAujTp2hgCwRsAujT5kEKAj4RQJ8+RQNbIGATQJ82D1IQ8IlAaPpkAIhPdw+2QCBwAqE9AAPHjfkQcCKAPp1wkRkClRJAn5XipjEIOBFAn064yAyBSgmgz0px0xgEnAigTydcZIZApQTQZ6W4aQwCTgTQpxMuMkOgUgKh6ZMBIJXeHjQGgbgJhPYAjDsaeAcBmwD6tHmQgoBPBNCnT9HAFgjYBNCnzYMUBHwigD59iga2QMAmgD5tHqQg4BMB9OlTNLAFAjYB9GnzIAUBnwiEpk8GgPh092ALBAInENoDMHDcmA8BJwLo0wkXmSFQKQH0WSluGoOAEwH06YSLzBColAD6rBQ3jUHAiQD6dMJFZghUSgB9VoqbxiDgRAB9OuEiMwQqJRCaPhkAUuntQWMQiJtAaA/AuKOBdxCwCaBPmwcpCPhEAH36FA1sgYBNAH3aPEhBwCcC6NOnaGALBGwC6NPmQQoCPhFAnz5FA1sgYBNAnzYPUhDwiUBo+mQAiE93D7ZAIHACoT0AA8eN+RBwIoA+nXCRGQKVEkCfleKmMQg4EUCfTrjIDIFKCaDPSnHTGAScCKBPJ1xkhkClBNBnpbhpDAJOBNCnEy4yQ6BSAqHpkwEgld4eNAaBuAmE9gCMOxp4BwGbAPq0eZCCgE8E0KdP0cAWCNgE0KfNgxQEfCKAPn2KBrZAwCaAPm0epCDgEwH06VM0sAUCNgH0afMgBQGfCISmTwaA+HT3YAsEAicQ2gMwcNyYDwEnAujTCReZIVApAfRZKW4ag4ATAfTphIvMEKiUAPqsFDeNQcCJAPp0wkVmCFRKAH1WipvGIOBEAH064SIzBColEJo+GQBS6e1BYxCIm0BoD8BuRCNJEjV16lQ1dOhQNWzYsG5USR0Q6AmBQdRnT0BSKQR6QAB99gAqVUKgSwTQZ5dAUg0EekAAffYAKlVCoEsEBlGf9A916eahmp4T6Lc+RSunn366euGFF9K+1EMOOUStuuqqPffblwZ+//vfq1tvvVUJh89+9rNqxx139MU07PCAQL/1mUcQq14/+OADNWHCBDVr1iy11FJLqUUWWSR1HX3m7wDStQR802etbUXHDAAposI5CECgLQKhPQDbcrKm0Ntvv61WXHFF9eabb6Znx44dq6644oqaHBxCwB8Cg6ZPf8hjCQRaE0CfrRmRAwL9IoA++0WediHQmgD6bM2IHBDoF4FB0yf9Q/2602i3HQL91udNN92ktt1228z0s846Sx122GFZOvaDnXbaSV177bWpm/PPP796+eWX1fDhw2N3G/9KEui3PvNmxqbXyy67TP3whz9U48ePVzNnzszcXW+99dS4cePUscceiz4zKhzkCfimz7x9+TQDQPJESEMAAm0TcH0Afvjhh9Yf2jINzzPPPGWydZRn+vTp6le/+pW655570tGf8sF86623rqvzlVdeUaNHj87Ob7rppmmZ7AQHEPCIQL/1Wav3dnQs5aVTTfyI/cVYRp+/+uqratq0aUpYLb744mq++ebz6G7ClG4TaKVP+cWF/DqhG9uQIUPUXHPNZVWFPi0cWUK4P/XUU+rFF19MNSlpGfi58sorqyWWWCLL186B1PXoo4+ql156Ka1bZhIbNWqUWmGFFQbq12/tsKu6TCt9Vm0P7UEAAnMIoM85LDiCgG8EXPVZ+3m0rC/tvFeWrdvko3/IkGAfEwFXfXbb98997nPqjjvuSKuVd1OZCWTJJZesa8bX50KdoY4nrrzySrX33ntnpX70ox+p73znO1k6hgPed9uPoqs+m+lE9CV9QJ1sMel1//33V5dccklDHKeddlr6XQ/6bIho4C+46rPvwPTDOKhNA0vkHxsEIOAfARd9Xn311ckCCyyQ6tmUK7M/+uije+74LbfcYtn1sY99LNFfyNa1q0doW/n0AJC6PJyAgC8EjL7K2NNtfYqmREfGBv0Lh+RrX/taoa4a2ac7A7LyekBWo2zBn3/ooYcsVsJMv6wlZ599dvC+4UBjAkYbjXLI3xeTp9O9fllJ7rrrrqwp9JmhyA70L0HSZ5SeBrQhdz0wKznnnHMS/YuRrFyZg/feey/53ve+lyyzzDIN61599dVTzeuOnDJVkqfHBIzmetwM1UMAAm0QQJ9tQKMIBCoi4KLPbr9/dtNF+oe6SZO6fCHgos9u2/zwww9b70E777xzYRM+PxcKDXY4+f777yeLLrpoxkHeO2fMmOFQg79Zed/tPDYu+mylE+n/ke9f9A9Zkl122SWR/C5bTHq9++67M80Zxvn9L3/5ywR90h/VTCPmnmmWx6drwY2kCA2wT8HGFgj0moCLPvX6hi3/6Jr6avd77bVXr91ITjzxRMs2+bA0adKkunYZAFKHhBMeEzA6KmNit/W56667WpoytpxyyillzEnzmDKyX3PNNUuXCymjfNm78cYbF7L61re+FZIr2OpIwNzfjYqNGDGi8L4w5Vz3V111VdYU+sxQJKJB/curRP9KpjTvtdZaK3njjTfmVNLk6IknnkhWW2210nXLYLd///vfTWrkUhUEjL6qaIs2IAABNwLo040XuSFQJQEXfXb7/bObftI/1E2a1OULARd9dtvmAw44wHofuu222wqb8Pm5UGiw40n5gaOJg+z1kuKONfiXnffd7sTE3BdlamtHJ+uvv34igyHKbDHpdZtttrE0t+qqqyY333xz8thjjyV6WZhkzz33TO68884UC/pUCf1RxQpx0WdxDdWeZQBItbxpDQJRE3B5AOb/6JqyrfbyRVWvt9/85jfWB4KFFloo0VPv1zXLAJA6JJzwmIDRVhkTu63PRvXJTCCiozKbsV/2sQ4A0UtPWc+eWp8ZAFLmLgk3j4l1Iw+WXnrphveGKeuyv/zyy7Om0GeGItFr27bFuczgVBlI2k4cd9tttzkGctQXAkZbfWmcRiEAgaYE0GdTPFyEQF8JuOiz0edRU0ejPf1DfQ0xjQdMwGiqahfefffdRC9vm71zyawEjWY99Pm50A1uzzzzTCI/ODSx2GKLLbpRbd/q4H23e+jNPVGmxnZ1IrOCPPvss02biE2v8v2OYSt7vdxvQ//R5+xVOOiPqr9FzD1Uf8XPMx8Rs7TRwWz6D2Nqa2BmB8MXQyHQCQEXfX7hC19QeirNrDn95Ylab731snSjg6222kqts846jS535fw777yjjjvuOPXnP/9Z6Sn5lNimR7zW1f3KK6+k68KZC3qKfnXPPfeYJHsIeEWgn/rM670WjGjrwgsvrD1VeGzsl4t6AIh69NFHC/OFevLtt99WevS50i/NhS7oASDq9NNPL7zGyfAJmPu70edb/asEpX+V0NDRM844Q02cODG7LrrSM01k6dqDoUOHqoMOOkgtvPDC6Wn0OYfOBRdcoA455JDsxGabbaYOPvhgNWbMmHRN6gkTJqTrxf73f/+30h2VWT45+NOf/qQ233xz61xtQk9trK655praU2lbRxxxhFpppZXU5MmTlf71mzr++OPVa6+9ZuWT+OuOHescieoItNJndZbQEgQgkCeAPvNESEPAHwIu+sx/HqV/yJ84YkmcBFz02U0C+gd3ao899siqPPbYY9Wpp56apWsPfH4u1NrZybG8Z/7zn/9Mq5D39FdffVUttthinVTZt7K873YPvYs+8zoRTekZPlJj9I9ZlXx38fzzz6vf/va36vXXX7eM3GCDDdRf/vIXJfde0RaTXvVgFqUHgGRuSn+ZnrEmSxcdoM/ZVOiPsu8OF33aJfuUkgEgIW0aUzpSKySbsRUCg0LARZ/5Eao33HBDcJiYASS4kA20wf3UZ17vxhbZDxkyJJE1JVtttWVinAHkyCOPtEai64FuVpoZQFrdIWFfN/d3u1584hOfsO6XstN5Snvocw71cePGpRz1gNREDwKdcyF3VDRbT7Mlrf71r38lulPFitHhhx+eq3V2UnfQWOtBy72xzz77FOblZDUEOtVnNVbSCgQGkwD6HMy443UYBFz0mf88Sv9QGDHGynAJuOizm17uvvvu1juRHkTfsPoYngsNnfu/C7L8qImF7P/nf/6nVREvr/O+292wmHuiTK15nfzxj38sLDZlypRkl112se43aUcPQCrMLydj0uuTTz5p+b7llls29NtcQJ+zv4enP8rcEbP3Lvq0S/YnxRIw/eFOqxCIkoDLAzD/AYUX/ChvCZzyiEA/9ZnX+8iRI60P3rKuYKvN2C/72AaAPPLII9aXw3okepL/gpkBIK3ukLCvm/u7XS+6OQBkkPU5bdq05G9/+1vDaYhr45MfpNVsGRg9e4/1zNtwww2T6dOn11ZnHf/617+28i+44IKJ2MbWHwKd6rM/VtMqBAaDAPocjDjjZZgEXPSZf1+kfyjMmGN1OARc9Nktr6ZOnZrIshOmbXnHmTFjRsPqY3guNHTu/y7ceeedGQ/hUqZvrFWd/bjO+253qRuNlKk1r5NGA0CkrjfffLPuxyaXXHJJYTOx6fW+++6ztKZnrCn0u/Yk+pw9AIT+qNq7Il1NJb2X7LP+plgCRj9R2SAAge4QcJkCKT9FmX7BV9tuu21XDJk1a5Z6/PHH02nOZHozmeJrhRVWSP/pl41Sbcg0abIkg0yDNmLEiMIyLkvA6C96lB5tq+aee241fPjwwvryJ/UHMzVz5sx0mv555503fzlNm3qHDRtmTWUm0wb+9a9/TdscNWqU0l8OWteLKhOf9YjYdJkBsXHddddVSyyxRFFWzgVIoJ/6zOv9pz/9qfrmN79pUZQloT7/+c9b52oTxn45F9sSMLJsxF133ZW5e/vttyv9Cwq17777ZudYAiZDEeWBub/1K0Nb/n3yk59U999/f1ZWzwCiPv3pT2fpZgfosxmdxtdkGZ3a5av0ms1Kd7YUFpCl6/RAr+zaTTfdpL74xS9m6fyB/D2Wv93yOcBsMmWrXufeJNlXSKBTfVZoKk1BYOAIoM+BCzkOB0TARZ/5z6P0D9UHmv6heiacaZ+Aiz6LWpGls2VZ3hdffDHt41x++eXTJW2L8ppz8g5U2++7ww47qGuvvdZcrtv38rlQ11iHJ6S/9+mnn1bjx49XepbbtC9VljnXX5w2rVne+2TpceEpm/QZi9bL9l03rbzCi7zvdhe2iz7zOpE+CembaLTtuOOO6rrrrssuH3PMMerHP/5xljYHselV+suk38xsu+22m5Ilbppt6JP+qKL7w0WfReUrP+fv2JRiyzSgoEbYFHvBWQjEScBFn/kRqp3+wuPDDz9M9BfIiYzgXHjhha1RncYu2a+xxhppvmYR0B+2rVHpMkVa0VZ2CRj9EpDMM888mU2HHnpoUXXWuQMOOCDLrwd/JBMmTLCuS+KNN95I5ptvvizfpZdemujBL4lMUVbbnvgto+wnT55cV4ecOOeccxK9PmAi7dSykuPFF1880S9oyTPPPFNYlpPhEDCxLWNxt/WZr0+0I7N4GJtkv/baa6f3byP7avPGNAOIWXLC+Ke/4E0RiJ7NOdkzA0ijOyOO8ybW7XrTzRlA0Ge5KOgOS0ujesBWYUGZ4cfEV/ZzzTVXojv4CvPWntxvv/2scpJm6w8BE7/+tE6rEIBAMwLosxkdrkGgvwRc9Jl/X6R/yI4d/UM2D1KdE3DRp2nt/fffT/sbl112Wes9xdQ1evTo5KSTTmr4rnPCCSdY5c444wxTdeG+28+FwkY6PHnbbbelfVmGQe1elgDVg/6Thx56qGkr+odQFhf946Cm+X27yPtu9yNi7qMyNed10mwGEKlPDwCx7jc9AKSwmRj0qn9Ek862LEuPG6a1ezlv/ole9aCXOhboc/Z38fRHzbk1zD0054zfRywB43d8sA4CQRFweQDmP6B08oIvAzY222yzwj/mxqb8Xl6gG21lB3aUzSfTyde2v9NOOzVqOju/3XbbWWWKXhjy7f/sZz9Lxo4da5WrbVePRM/qlwMZEJL/Aqs2f+2xTPclX1SzhUvAxLOMB93Up7SXr0/PnpPceOONdfeqLHvSaDP2yz6WASDvvvtustRSS2Uc5p9//uSFF15IETAApNGdEOd5c3+36103B4Cgz9ZRkOVb9AxZmXYlfieffHJhwfxyLhtvvHFhvvxJPVOSVb90PLD1h0Cn+uyP1bQKgcEggD4HI854GSYBF33m3xfpH7JjTv+QzYNU5wRc9CmtSZ9k/kc8po78fqWVVkr0zCB1RspgiNq88iO+Zls3nwvN2mn32mGHHWb5U+tb7bGeVbppE3p2XKseeQ8MaeN9t/vRMvdPmZrzOmk1AGSTTTax7rezzz67sJkY9HrKKadYvhqujfZ6JpQ6Fuhz9gAQ+qPm3Brm/plzxu8jloDREWODAAS6Q8BlCqT8FGX6Bd+aCtDFonPPPVd99atfrSsi0+7p2UDSpVz0o7ju+s0336z0B6W682WXdimb74EHHlAbbbRR1o4eAKKuvvrqLF10sP322ythYjb9sqXGjBljkuk+376erUNNmjTJylOb0LOIpMvgyDlZGkemI9SDSGqzpFMV6tH8Sg8OUfrLaeuaJPTagNayFHUZOOEtgX7pU4Dk9f7SSy8p/esQlV/6ZMkll1TPPvus0gMh6jga++WC7nhIpxuty1TyhEzPKcs3yDJP7W6yPNJFF12k9K/5261C6dl61GmnnZaV118gq+OPPz5NX3bZZZbWWAImwxTlgbm/i/5WlXG4m0vAoM/WxL/+9a+rn//851lGWS7uiSeeUKusskp2zhz84he/UEcddZRJqiOPPNIqm13IHeSnXN1ggw2UfJ5gq55Ap/qs3mJahMDgEECfgxNrPA2PgIs+8++L9A/Z8aZ/yOZBqnMCLvqUpU30jK1qxowZpRvWswcoPRuIlX/kyJFWn6UsH7P00ktbeWoT3Xwu1NbbjWNZOmKPPfawqpLlXmT58ffee089//zz6ZLeJoOwk+VdijZZVlT6p8y29957q8svv9wkS+/71c/F+27pEJXO6KLPvE6aLQEjS09LP6zZpB0947fSg7bMqWwfg14vuOACdcghh2Q+tTrQP8RT++yzj5UNfc7GQX/UnNvCRZ9zSvXxyO/xKfXWaVTpyK36K5yBAAT6TcBFn/kRqp38wqP2V7Lya3qZpuyxxx5L5Be6sukP34mMSB41apQ18lOWnCja8jNrbLrppkXZkrL5qpoBxPCXvV5DMpGRrnpwTLLnnnsm6667bqJfBjI/Dj/8cIuFLCVz/vnnZ3lkSR0Z4b/WWmtZ+ZZZZpmMa1YZB0EQMPdHGWO7qU9pL1+f+TWI/jIz0R+crHtMpgwt2oz9su90BhCZprO2vnaPn3vuuSJTS53LLw214oorJjKlqtmYAcSQGIy9uQfb9babM4Cgz8ZRmDhxYqIHnNY9P/bff/+GhY477jgr/4knntgwb+2Fxx9/3Cq33HLL1V7muEICneqzQlNpCgIDRwB9DlzIcTggAi76zL8v0j9kB7qdGUAMf9nTP2TzJJX+Qi591yjDQpaFrr2fpA/n2GOPTe699950ZuEHH3wwkV/OyxLSJp8eMG9VrX9kkF2TPDLLcKutm8+FVm25Xpc+VuPr/2/vTGAmKcr/Xz8MhwgiKmK4lsODQ0SQKzFcYtCIEeRQWAHlEEQELyBBxAMIYgATQAmIgBBkVQTkEhEIIOCBEgS5lOUK6HIjh4tyzb+e2X/1Ttccbx/TM/X08+lkt7t6uqqf5/PUt97pmuoq2QuP+fPnZ8XIkt3+hYGOf8mpuyR39sGAgz/84Q+5st797ncPuGrmU9Pq5+J5d+bYlL0i1K0i+WKdDJsB5KqrrurWx1C27HfYYYeBt2iLXqWPVWafvvjii7vLU/X6/v73v797Xj6Tf7L8ix+o1ccDfS74LZ7+qIVVI9SjhWfSPmIJmLTjg3UQUEWgTAMYf0GRP7Yy6GDUv2Ew5GHjgx/8YPfLde8PqPH1N910U+5LtazzFgaJ9F5bdGBH0esmPQDEv4HcefTRR3tdyh370b0dP/I8Y7HEEksMXZPyxRdf7Ky33nrZtRJjP7o7Vx4JHQSmpU+hE+s9/MAsn/m3G3L1a6mllhpYf4P9sq87AOTaa6/N3bO37DLHdQaAxEziTk4GgEjtsLOFelfV4yYGgIgtVvX5zDPPdPzsPN2BlLK0y3777dfZeuutu513IVZh79/I7MjfymHbPvvsk2tvZLm2IpssBxXuIfsinaRFyuWa8gRCHMrnJAcEINA0AfTZNGHKh0B1AmX0GT8b0T+U515nAAj9Q3mWpBYQKKrPeFCBnwF16PLQzz33XGePPfboPsP84Ac/yKH+3e9+l3u2kR9fZ9rG2S7MdK8yn8uzX2+fqp+teWh26XP+17/+NfRz+UCePUM8ZC99tFW2afVz8bxbJVqj84T6MPqqBZ/GOtl22207MgBL/vmZSLuDPNZaa62+l++kX9XPijzwFm3Sa3Dw97//fU5nO++8c/ho5B59LhgAQn/UwmpSRp8Lc03viCVgfMTYIACB8RAoMwVSPEVZEQtkOj3/g4hbdtlli1w+8BpZiqV3CnWZ6uyd73xn7tp4aRU/A4i74YYbctdIouh1k1oCRmwSNrJcjB+ZKcmB22677eZ++tOfZp8deuihuWUosg/+/4FMvypTjoZtq622cjKlHJsuAtPUZ6z33qk+RdNrrrmm84O3MqD+x1YnSzv1bsF+OVd3CRj/ZoY7+OCDnUyRWXWTJWCOO+4412tX0bJ8h6bbfvvts8v9A5rzo9KztBywBEwOR+sToR75R4JKvo5zCRjr+pQA/OhHP3LSDo3aFl988e5SLr7Dy8kSMMO2eMruM844w+21117DLs/Oy1Jsyy23XJaWA9+B6BZbbLHcORLNE6irz+Yt5A4QsEsAfdqNPZ6nT6CMPuPnxSLe0T80eolgYUj/UJGaZPOaovr0g+Bz/X+zZ8/O9ScOoid9pbK8b7iHXHPJJZe47bbbLrt8m222cVdeeWWWHnQwrXZhkC2952TJVD87cnZqo402cv7Fvyxd9kD6AGRpYf9CZJbVDzJxfiBIli5yMK1+Lp53i0Sn3DVBO0X6h6roRKy59dZbnZ/JZqBhbdJrcNDP5OGk3yxsfgCIk6WcZtrQ50JC9EctYFFGnwvpTfHIV2JVm0fVHa2lymiMhYARAmX0GY9QDXln2t9+++21aO666665EZ9XX311X3lFZ/Yoet0kZwCZM2dOnz/xCT/gJcdAprQftb366qsd/4NTlkeWgWHTRyBoq4jl49ZnXF7vDCBij0yXGeyTvf8xtXPXXXflTO39vO4MILmCJ5yQt0VWW221zF//I3Ln3nvv7bOCGUD6kLT6RKjfVZ1sagYQsceSPgP/k08+OdNoiM2gvUxz7AdR5pZvCmWEvSwj15v3vPPOCx+N3Muybb35pK3onVZ4ZGY+HCuBEIexFkphEIDAWAigz7FgpBAINEKgjD7j58WQd6Y9/UMLQxf3Twk7+ocW8uEoTyBoK3+2P+VffMk9k8hyCFW2s846K1fOTjvtNGMx02oXZjJMZq6WmWsDQ5ld+qKLLpop28jPl1lmmaw8KXemWUNGFjbhD3neHT/wULeKlFxVJ3KPAw44oPPyyy/33aZNeg3OVZ0BRPKjT9ehPyrUpO5be932euGZtI9YAibt+GAdBFQRmMQXlDpLLgjMgw46KPel+te//nUf4/jBWb7MDtqKXjepASCjph0M9ssXO5myMcRq+eWX705dLz9Kj/q3xhprZHmGLZ0T7sE+TQIh5kWsq/oAMUyfcXnxABCZdlDWJQ42yl7Wme3dej/TPADk29/+ds7Pr3/9671uZscMAMlQmDgI9buqs00OALGkz8D/7rvv7my66aYdmZpY/smgrd6/nSFeYb/OOusMHMgl5fk3cnKaP/vss8NtRu7jASDyt/eVV14ZmYcPmyEQ4txM6ZQKAQjUIYA+69AjLwSaJVBGn/HzYsg7037Y82dRz+gfon+oaF1p23VBW6P8euGFF3LPMdJ/WHU74YQTcmXtueeeMxY1rXZhRsP8BX5m5Jw/8qz2hS98oRP3dRUpS65ZeeWVc+XdeeedRbNO/Tqed8cfgiL6DHeNdbL22mt3l6+VJWzl34YbbtgR7fpZC3J1LNxDlhiLt7bpVfyrMwAEfboO/VELVRK0s/BM2kcsAeMjxgYBCIyHQJkpkOIpyvyXfyfT5o3aZPrKXXbZZdQlMqjNXXPNNe66665z8+bNy/7JVHiyyVR9MpVe2PwAECe29G5Fl3Ypet2kloAZtlRNr29z587tW/Km9/Oixw8++KCbNWtW0cu5LgEC09RnrPfeJSYCGv/GvfMdcCHZ3fs1TN2WW27ZPQ72S6LuEjDdAqfwn+jGP4xlbZB/iHD33HOPW3LJJfusYQmYPiStPhHqt/wNq7I1tQRMsMWCPoOvw/Z+NiwnbdeZZ57p/JrWzg+MyV0q32FkWtF4OZjdd9/dnXvuudm1p512mtt3332z9LCDxx9/3PmOmuxjWQ5GzrFNnkBdfU7eYu4IATsE0KedWOOpPgJl9Bk/L9I/lI93vMSCLPvrXwDKXVS0f6o3E/1DvTRsHRfR52233ZZbImKDDTZwt9xySyVQ3/rWt9yRRx6Z5T3wwAPdSSedlKUHHTTVLgy6V9lzsnzGJpts4vxLdrmsspSLf5nJ7b///k6WuSm6ST+Rfwkhu9zPiOvWWmutLJ3yAc+7449OEX2Gu8Y6kSXbZen2eJPfRU4//XT33e9+1/mZwHMfn3/++c7PypOda5texbGqS8BIXvTpussT0x8ltcFly5tV7b9dUMoE/097fEq/dR5Nd7Ra/yecgQAEpk2gjD7jEaqXXnppLfP9OmSdo48+Ore0QrBn1L5NM4AMm6mkF+wVV1wxcMTvKEbxZ/6LaMf/0e8tlmMFBEIci5g6bn3G5Q16K+Kll17qxMsTbbzxxpm5wX7Za50BZMcdd8zp7+c//3nmX3zADCAxkXanQ/2u6mWTM4CITRb0WYb9008/3ZFZP0Lcwv7EE0/sK+bLX/5y7rpjjjmm75pBJ/7+97/n8sn92KZDIMR3OnfnrhCAwCgC6HMUHT6DwHQJlNFn/LxI/1A+dvKGduApez8AJH+BTxWdobY3I/1DvTRsHYf6NMrrX/7yl7l6F8/SOipv/Jn014Z7yt4PiI8v6UuPu13ou0HNE8InXhqi18d11123419QLHSX3lmXpQw/0KZQvhQu4nl3/FEI9ahIybFO/ACQkdmkP9a/YJvTY9zX0Ea91pkBBH26bv/XyIpl6MMy+kwBCzOA+IixQQAC4yFQZ4Sqf8DvjpKuYom8lfvJT37SXXjhhaWzW5sB5JJLLnHbbbddjtOb3vSmXHpUwk/51R0VLG8ws+kiMC19CqV4RPqgGUDkOr9uqtthhx3kMNv8Q7XzAyeyEbbyQd0ZQJ555hk3e/bsvjf4s5sWOPBr4To/gMMtuuiiBa52znfIOZnxo3frfQOm97wc/+lPf4hF0v8AACr+SURBVHKXX355dtovQ5FpV2ZD+vznP+/k7RK2dhAoo89BHjc9A4jcs836HMR0pnN+ynG33nrrueeffz679KMf/WhOt/KB7zxxRxxxRHbNF7/4RSczqsy0XXnllc535mSXyVs88jYP2+QJ1NXn5C3mjhCwQwB92ok1nuojUEaf8fMi/UP5eDc1Awj9Q3nOllJF9HnWWWe5vfbaK8PiByI5qTNVth/+8IdOnoPCJrM7z5kzJyQH7sfZLgy8wRhOSt/WUUcd5WQGV/9iYl+Jwlk+P/zww/s+6z3xtre9zT3xxBPZqfvuu8+tvvrqWbrIwTT6ucQunneLRKfcNUX0GUqMdTJsBpBwvexlVtO99947OyX380s+ZbMTt1GvdWYAQZ+uO6sM/VELJFNGn5nIpnmQwiiUMjZ4Vt0RamXycC0EIDAZAmX0GY9QrfOGh6yzGO4d9v7HsM4ZZ5zRuemmmzr3339/x3+R7v7zDy+5a6cxA8i22247Y0CaesPj9ttvz/nvpxSc0RYuaAeBoI0i3oxTn3K/uLxBM4AEu2Qmm2Cr7Ndcc83OK6+8kluvsu4MIP6H1dw9eu9X5rjMmtN+Waqx3DPYJ20bW3sIhLhW9ajpGUCCXW3VZ/Cv7F7+nofYyd4PDOsr4pRTTsld45e16rtm0Anf6ZLL96lPfWrQZZybAIEQ4wnciltAAAIlCaDPksC4HAITJFBGn/HzIv1D+UDRP5TnQao+gSL6vOqqq3LPI/6llMo39kti5sryA+dnLGuc7cKMN6t5waOPPto59thjO6uuumrOT+HsfyzsCMtR2+KLL57L99RTT426fOBn0+jnEkN43h0Yjloni+gz3CDWyUwzgEg+P8AoV9/kfr0zS7VRr3VmAEGfrkN/VFBcd93urn4Wnkn7yKVtXr91ZRrA/tycgQAEmiRQRp/xF5SqD/ivvfZa39Rlfj27oW5+6Utfyn3JmcQAkHjQxYYbbjjUvvBBUw/4fkRvzv+ll1463JJ9ywlMQ58Baaz3UQNA/vjHP+YGe4jd/s2Tjp/tIqu7dQeAjGswxjQHgNx4440BL/sWECijz0HuTmoASFv1OYhpkXNf+9rXsnZJYrjCCiv0ZfMzp+Su8bMGdZ599tm+6+ITO++8cy6fnzEovoT0hAjU1eeEzOQ2EDBJAH2aDDtOKyFQRp/x8yL9Q/kg0z+U50GqPoEi+pw7d27ueWT55ZevfOPLLrssV9YHPvCBGcsaV7sw443GeMHLL7/cOfXUUztLLLFEzt9PfOITQ+/y3//+N3etxEZegiq7TaOfS2zkebdspGa+vog+QymxTooMAJk/f35fnfvrX/8aiuy0Ua9VB4CgzwWTMdAflckj087CM2kfsQSMb1HZIACB8RAoMwVSPEWZf8CvtATMHXfc4fy6ipkDfkYLd9ddd2Xp+MCvTehOPPHE7PQkloCRafxkurCwyTIQMk3gsM0/MLiNNtrI3XbbbdklfiSuW3/99bO0HPzzn/90K620UnbOv5ntbrjhhiw97ODtb3+7e+yxx7KP//a3v3WX1MhOcNBKAtPQZwAZ613qf7wcSrhW9rvuuqv72c9+lp3yb1F0NeMHfHXP1V0C5sUXX3Tf/OY3nf8RNrtH2QPR0aglXOLyHn/8cbfZZpsVvue///3v3BSisvzScsst1y32zW9+s7v22mud74CJb0NaKYEy+hzk4iSWgAn3baM+g29l97L83Pnnn59l23TTTZ1MLdq7yRIxolVpd8J2wQUX9C13FT6TvUwfLHrvXV6myjTAvWVyXJ1AXX1WvzM5IQCBmQigz5kI8TkEpkegjD7j50X6hxbGjf6hhSw4Gh+BIvqUuucHMrjQDyN3//Of/+z8S22lDfEvEjj/0kKWzw+c7/ZpZicGHIyrXRhQdOOn4uWVZs2a5R588MGB973nnnuc9GWHTZbpluVcym7T6OcSG3neLRupma8vos9QSqyTIkvA3HzzzW6TTTYJRXT3Dz/8cPYbQxv1WnUJGPS5oJrQH7VQLmX0uTDXFI/SHp/Sb51H1R1l0/8JZyAAgWkTKKPPeIRq1Tc8/I/E2cg7uf+o5VVktpD4zYlJzAAi95U3fgMf2feOrO2Nm1z76U9/OnetXN87FVu4/pFHHsldJ1PzF9k233zzXD7/Y16RbFyjnECof0XcGJc+w73i8kbNACJ5ZNmmeIq9YL/s684AEuxKeX/OOefkdCozDbC1l0Co31U9nNQMIGJfm/XpO68Kh8APwuybgUyWpBu0xbN5jHoDTPJ/73vfy+m/6N/3QffmXH0CdfVZ3wJKgAAEhhFAn8PIcB4C0ydQRp/x8yL9QwviR//Q9OtxWy0oqs/VVlst91wye/bsGZH89re/7dx7772562QGRP+jWa4sP8ghd02cGFe70FuuzNDx5JNPdmQGhCY3mcHDv8ST+bvKKqsMvZ1/OSC7TuKi8dmP592h4a30QVF9SuGxTorMAOJfZMnVuaWWWqojf2/C1ka9Vp0BBH3qbJNCXW5iX0afTdy/bJksAVOWGNdDAAJDCZRpAOMvKFUf8GU6+nBf2a+44ooDv8jLl/sdd9wxd61cP4kBIAJsjTXWyN1bfvx59dVXcyz9aO3ummq9/oTjcQ4A+dWvfpWzRR5KzjvvvJwtgxLC0I+Y7bz00kuDPuZc4gRCXSpi5rj0Ge4VlzfTABDJFy+tEOyXPQNAAln2bSEQ6ndVfyY5AERsbKM+5W+cTNX7vve9rzuNbW8HSByX5557rvOhD30o97dUYnj22WfHl3bTF154Yd+13/nOdwZee8stt3SWXHLJ3PWnn376wGs5ORkCdfU5GSu5CwRsEkCfNuOO1zoIlNFn/LxI/1CnQ/+Qjnqu1cqi+jzuuONyzyWyNO+555470G0/03D20t2+++7bd8073vGOXFkzLWs7rnYhGHLFFVd0Xv/613dtkMEohx56aPio1F76ob/xjW90/IweQ/NJH25gLPsttthi6LWytELvtQceeODQa1P9gOfd8UYm1IcipcY6GTUARJaFP/jgg3P1Te510EEH9d2qLXoNjlUdAII+XYf+qFCLFuzL6DOfczopBoBMhzt3hUArCZRpAOMvKFUf8OUHm9e97nW5Ly8y0MMvu9JlLA/NMvrcT8ueuybYOqkBIEcffXTf/WU2Elmj8aGHHur84he/6Pgp//quCXaOcwCIgNlqq6367vXZz362O8BDRvqG7emnn+7IgJF99tmns/TSS3fzXHzxxeFj9ooIhLpUxORx6TPcKy6vyAAQqXt+qZO+eip+MAAkkGXfFgJl9DnI50kPAGmjPh944IFce+OXnuocdthhnSuvvLLzj3/8ozNv3rzu30i/jFxH1r8OMQt7v8TT0LWaZd1YP5VvXx6ZMcRPD9yRGb3+8pe/dKRzYbHFFstdJ+2gXxJqUNg5NyECIcYTuh23gQAEShBAnyVgcSkEJkygjD7j50X6h+gfmnB1NXe7ovr8z3/+M/DZR55jZEDF3LlzO/KD8+GHH571GUrZ+++/fx/TeJaI0047re+a3hPjahdCmV/96ldzz1nyDF1l80uLd8uRWWuFg/TX9r7gJ8+P8cwp8qP7sG2XXXbJ2XXmmWcOuzTZ8zzvjjc0RfUpd411InVStNX7T36T2HPPPTt+KetcXZP7vPGNb+z+LhF70Ba9Br+qDgBBn/RHhToU9mX0GfJMc88AkGnS594QaBmBMg1g/AWl6gO+INx99937vsDIF/F3vetd2ejuYFu8n9QAkKeeeqrzhje8oc/O2J5h6XEPAJHyZOT+sPstt9xyQ9kVmS2kZVW7Fe6EWBdxZpz6lPvF5RUZACL55IfWYHfvngEgQoetTQRC/a7q06QHgIidbdOnTAUc4lB2v+yyy3ZmatfiJeuK3EMGuMogVrbpEgixmq4V3B0CEBhEAH0OosI5CKRBoIw+4+dF+ocWLH8eGMZ7+ofSqOOarQh1qogPJ598cunnpAMOOKCv6GOOOSZXjrxoNmobZ7sg95GZNYLfsq/arxQGgPSWJX3Qs2bNyg2CCZ9L/6q8+Ddsi2dauPXWW4ddmvR5nnfHF55Qd4qUGOsk5C2ylxlxrr/++oG3aYteg3NVB4CgT/qjQh0K+6CtkE59zwCQ1COEfRBQRKBMAxh/QanzgC9Tsctgj3D/YXt5+/akk07KXTepASASRplJQ9bVG2afnJdpCL/yla90zjrrrNx1437AF3tkmvn11lsvd59Rtsln8mOU5GPTRyDEtojl49Sn3C8ub6YfSoONsm7q+uuv31dH5Vzbt3POOSfntyy5wdZeAmX0OYjCNAaAtFGfe++9d053IS6j9sL+5ptvHhSWvnPHH3/8yMGXvfeRN3FkdjC26RMIcZm+JVgAAQjEBNBnTIQ0BNIhUEaf8fMi/UMLBoDQP5ROfW6bJWX0Kb7LEgBh+ZSQd9h+3XXXHTjgQZaU7s2z8sorj8Q6znZBbhQPAJElPatsc+bMyfnR61N8LANDRi3Jcd999+XKestb3jJ0Vskqtk46D8+74yEe6lGR0mSJ+XB9mf3mm2/eue2224beoi16DQ5WGQCCPumPCvWndx901nsu5WMGgKQcHWyDgDICZRrA3lk7Fllkkc5NN91Uy1sZBCJTDi655JJ9X3xk4Mf222/fXZ9R3vAN06vLw7R8AYg3ma1jiSWWyMr5+Mc/Hl/STRe9rjfz7bff3tloo436fgCS2UHk4eaaa67pXn7RRRdl95eZOu69997eYirfPy7kpZde6hx11FHdATTDZgQRTrI8zSGHHNK5++674yJIKyEwTX3utttuWX0WjYp2im4yWGTjjTfO8kt7IQ+Vbd+k0zPETPYy+p6tvQRCrKt6KH+nQhnSlsvfmqIb+syTkqVYPve5z3VWWWWVjGlgG/bSkScD0c4///x85gIpWTP6Yx/7WGfRRRcdWL4M/JC34aSzgS0NAiHuaViDFRCAQC8B9NlLg2MIpEWgjD7pH8rPzkr/UFp1uY3WlNFn8F+eMbfccsuhL7bJwI9TTz2187///S9kye1fe+21zoorrph7Brrrrrty1/Qmxt0ubLPNNrl71+ljufzyyzsygGRYP6o8L8osKA8//HCvS33Hp5xySs6mvfbaq+8abSd43q0fsTL6lGXaBy03G8qQvQzekv4N6Vs99NBDOzfccMOMRrZJr+LsnXfemdPrfvvtNyMD9DkjIpMXBG1pcf7/xFBvtJrN/xDZtVWZ2Wr4YigE6hAoq8/HH3/c+QcD59e3d/4Bt86ts7x+3UF3//33Oz9gwvlBIW6DDTZwa6+9tgu2yYV+DUvnf4B2yyyzTPdflrnn4MUXX3R+sIjzX+adXyMvl7/nMlf0ut48cix2+ocn5wdUOD+dmPNfwpz/MSh32dNPP+1eeOGFLh8/c0jus5Coev+Qv3fvB4M4v35n16ZwXz9VofODP4Zy6s3PcdoEggaK/v0ctz4fe+wx9/LLLzupU/5huDQs0Yy0F5LXD9AqnV9jhmeffdbJP2kf/ZsgGl3A5oIEyupzULGiMWnH3/rWtzr/gD/okqHn0OdgNH6qXif/pD18/vnnnX9Lrfs323eeOD8YbXCmgmefeeYZ5zs83bx587plS9u4wgordL+zWGnjCqKa+mXj0OfUncAACLSUAPpsaWBxqxUEyupz3M+fApH+oQV96FUqFP1DVajpyVNWn72eSZ+SH6zu/OwBbv78+d0+U+k3XGmllXovG3h80EEHOb+kTPbZ97//fednQc7S8cG42gU/k7HbcMMNs+L9Ep7dfuO6/SzSv+yXbHGPPvpo95lO+o9XX311t+qqqxbq99puu+3cJZdcktl12WWXuW233TZLaz7gebd69Oros/pd+3O2Ua/yW4t/Mdgtv/zy/Q5HZ9BnBIRkl0Aq+iwaDgaAFCXFdRCAwIwEtDWAMzrEBRBoEQH02aJg4krrCKDP1oUUh1pEAH22KJi40joC6LN1IcWhFhFAny0KJq60jsC09Hn99dc7P4tIxnPrrbd2V199dZZu6mCHHXZwfqblrPgf//jHzi//maWncSAv9MmP0PKigWx+Jkj3xBNPdH+cnoY93DMdAtPSZ0zAsl7RZ1wbSAcCqegz2DPTngEgMxHicwhAoDABbQ1gYce4EAItIIA+WxBEXGgtAfTZ2tDiWAsIoM8WBBEXWksAfbY2tDjWAgLoswVBxIXWEpiWPv2yEm7WrFnukUce6bIVOx544IHuuaZg33HHHe69732vC7PhfvjDH3a/+c1vmrpd4XLPOecc95nPfCa7Xo5/8pOfZGkO7BKYlj5j4pb1ij7j2kA6EEhFn8GemfYMAJmJEJ9DAAKFCWhrAAs7xoUQaAEB9NmCIOJCawmgz9aGFsdaQAB9tiCIuNBaAuiztaHFsRYQQJ8tCCIutJbANPV5wgknuIMPPjhje8QRR7gjjzwyS4/7YPbs2W7OnDndYmWWDRkQIkt7TnvbbLPN3I033piZIUvqyEAVNghMU58xfat6RZ9xTSAdCKSkz2DTqD0DQEbR4TMIQKAUAW0NYCnnuBgCygmgT+UBxPxWE0CfrQ4vzikngD6VBxDzW00AfbY6vDinnAD6VB5AzG81gWnqU5Y8kQEYzz77bJfxSiut5B566CG3yCKLjJ353Llz3ZprruleffXVbtmnn36622effcZ+n7IF3n333W7ttdfOsqUyK0lmEAdTJTBNfcaOW9Qr+oxrAeleAinps9euYccMABlGhvMQgEBpAtoawNIOkgECigmgT8XBw/TWE0CfrQ8xDiomgD4VBw/TW08AfbY+xDiomAD6VBw8TG89gWnr87DDDnPHHntsxvmKK65wH/nIR7L0uA4uvfRSt8cee3QHl+y0007utNNOG1fRtco55JBD3PHHH5+VcfXVV7utt946S3Ngm8C09RnTt6ZX9BnXANK9BFLTZ69tg44ZADKICucgAIFKBLQ1gJWcJBMElBJAn0oDh9kmCKBPE2HGSaUE0KfSwGG2CQLo00SYcVIpAfSpNHCYbYLAtPU5b9687nInTz75ZJf3qaee6vbbbz8T7MVJGYxywQUXdP3dYost3HXXXdc95j8ICIFp6zOOgjW9os+4BpDuJZCaPnttG3TMAJBBVDgHAQhUIqCtAazkJJkgoJQA+lQaOMw2QQB9mggzTiolgD6VBg6zTRBAnybCjJNKCaBPpYHDbBMEUtDna6+91l0GZtFFF3VLLbWUCe7ByU6n45577rlucplllgmn2UOgSyAFfcahsKRX9BlHn3QvgRT12WtffMwAkJgIaQhAoDIBbQ1gZUfJCAGFBNCnwqBhshkC6NNMqHFUIQH0qTBomGyGAPo0E2ocVUgAfSoMGiabIYA+zYQaRxUSQJ8Kg4bJZgho0ycDQMxUTRyFQPMEtDWAzRPhDhBIhwD6TCcWWAKBmAD6jImQhkA6BNBnOrHAEgjEBNBnTIQ0BNIhgD7TiQWWQCAmgD5jIqQhkA4B9JlOLLAEAjEBbfpkAEgcQdIQgEBlAtoawMqOkhECCgmgT4VBw2QzBNCnmVDjqEIC6FNh0DDZDAH0aSbUOKqQAPpUGDRMNkMAfZoJNY4qJIA+FQYNk80Q0KZPBoCYqZo4CoHmCWhrAJsnwh0gkA4B9JlOLLAEAjEB9BkTIQ2BdAigz3RigSUQiAmgz5gIaQikQwB9phMLLIFATAB9xkRIQyAdAugznVhgCQRiAtr0yQCQOIKkIQCBygS0NYCVHSUjBBQSQJ8Kg4bJZgigTzOhxlGFBNCnwqBhshkC6NNMqHFUIQH0qTBomGyGAPo0E2ocVUgAfSoMGiabIaBNnwwAMVM1cRQCzRPQ1gA2T4Q7QCAdAugznVhgCQRiAugzJkIaAukQQJ/pxAJLIBATQJ8xEdIQSIcA+kwnFlgCgZgA+oyJkIZAOgTQZzqxwBIIxAS06ZMBIHEESUMAApUJaGsAKztKRggoJIA+FQYNk80QQJ9mQo2jCgmgT4VBw2QzBNCnmVDjqEIC6FNh0DDZDAH0aSbUOKqQAPpUGDRMNkNAmz4ZAGKmauIoBJonoK0BbJ4Id4BAOgTQZzqxwBIIxATQZ0yENATSIYA+04kFlkAgJoA+YyKkIZAOAfSZTiywBAIxAfQZEyENgXQIoM90YoElEIgJaNMnA0DiCJKGAAQqE9DWAFZ2lIwQUEgAfSoMGiabIYA+zYQaRxUSQJ8Kg4bJZgigTzOhxlGFBNCnwqBhshkC6NNMqHFUIQH0qTBomGyGgDZ9MgDETNXEUQg0T0BbA9g8Ee4AgXQIoM90YoElEIgJoM+YCGkIpEMAfaYTCyyBQEwAfcZESEMgHQLoM51YYAkEYgLoMyZCGgLpEECf6cQCSyAQE9CmTwaAxBEkDQEIVCagrQGs7CgZIaCQAPpUGDRMNkMAfZoJNY4qJIA+FQYNk80QQJ9mQo2jCgmgT4VBw2QzBNCnmVDjqEIC6FNh0DDZDAFt+mQAiJmqiaMQaJ6AtgaweSLcAQLpEECf6cQCSyAQE0CfMRHSEEiHAPpMJxZYAoGYAPqMiZCGQDoE0Gc6scASCMQE0GdMhDQE0iGAPtOJBZZAICagTZ8MAIkjSBoCEKhMQFsDWNlRMkJAIQH0qTBomGyGAPo0E2ocVUgAfSoMGiabIYA+zYQaRxUSQJ8Kg4bJZgigTzOhxlGFBNCnwqBhshkC2vTJABAzVRNHIdA8AW0NYPNEuAME0iGAPtOJBZZAICaAPmMipCGQDgH0mU4ssAQCMQH0GRMhDYF0CKDPdGKBJRCICaDPmAhpCKRDAH2mEwssgUBMQJs+GQASR5A0BCBQmYC2BrCyo2SEgEIC6FNh0DDZDAH0aSbUOKqQAPpUGDRMNkMAfZoJNY4qJIA+FQYNk80QQJ9mQo2jCgmgT4VBw2QzBLTpkwEgZqomjkKgeQLaGsDmiXAHCKRDAH2mEwssgUBMAH3GREhDIB0C6DOdWGAJBGIC6DMmQhoC6RBAn+nEAksgEBNAnzER0hBIhwD6TCcWWAKBmIA2fTIAJI4gaQhAoDIBbQ1gZUfJCAGFBNCnwqBhshkC6NNMqHFUIQH0qTBomGyGAPo0E2ocVUgAfSoMGiabIYA+zYQaRxUSQJ8Kg4bJZgho0ycDQMxUTRyFQPMEtDWAzRPhDhBIhwD6TCcWWAKBmAD6jImQhkA6BNBnOrHAEgjEBNBnTIQ0BNIhgD7TiQWWQCAmgD5jIqQhkA4B9JlOLLAEAjEBbfpkAEgcQdIQgEBlAtoawMqOkhECCgmgT4VBw2QzBNCnmVDjqEIC6FNh0DDZDAH0aSbUOKqQAPpUGDRMNkMAfZoJNY4qJIA+FQYNk80Q0KZPBoCYqZo4CoHmCWhrAJsnwh0gkA4B9JlOLLAEAjEB9BkTIQ2BdAigz3RigSUQiAmgz5gIaQikQwB9phMLLIFATAB9xkRIQyAdAugznVhgCQRiAtr0yQCQOIKkIQCBygS0NYCVHSUjBBQSQJ8Kg4bJZgigTzOhxlGFBNCnwqBhshkC6NNMqHFUIQH0qTBomGyGAPo0E2ocVUgAfSoMGiabIaBNnwwAMVM1cRQCzRPQ1gA2T4Q7QCAdAugznVhgCQRiAugzJkIaAukQQJ/pxAJLIBATQJ8xEdIQSIcA+kwnFlgCgZgA+oyJkIZAOgTQZzqxwBIIxAS06ZMBIHEESUMAApUJaGsAKztKRggoJIA+FQYNk80QQJ9mQo2jCgmgT4VBw2QzBNCnmVDjqEIC6FNh0DDZDAH0aSbUOKqQAPpUGDRMNkNAmz4ZAGKmauIoBJonoK0BbJ4Id4BAOgTQZzqxwBIIxATQZ0yENATSIYA+04kFlkAgJoA+YyKkIZAOAfSZTiywBAIxAfQZEyENgXQIoM90YoElEIgJaNMnA0DiCJKGAAQqE9DWAFZ2lIwQUEgAfSoMGiabIYA+zYQaRxUSQJ8Kg4bJZgigTzOhxlGFBNCnwqBhshkC6NNMqHFUIQH0qTBomGyGgDZ9MgDETNXEUQg0T0BbA9g8Ee4AgXQIoM90YoElEIgJoM+YCGkIpEMAfaYTCyyBQEwAfcZESEMgHQLoM51YYAkEYgLoMyZCGgLpEECf6cQCSyAQE9CmTwaAxBEkDQEIVCagrQGs7CgZIaCQAPpUGDRMNkMAfZoJNY4qJIA+FQYNk80QQJ9mQo2jCgmgT4VBw2QzBNCnmVDjqEIC6FNh0DDZDAFt+mQAiJmqiaMQaJ6AtgaweSLcAQLpEECf6cQCSyAQE0CfMRHSEEiHAPpMJxZYAoGYAPqMiZCGQDoE0Gc6scASCMQE0GdMhDQE0iGAPtOJBZZAICagTZ8MAIkjSBoCEKhMQFsDWNlRMkJAIQH0qTBomGyGAPo0E2ocVUgAfSoMGiabIYA+zYQaRxUSQJ8Kg4bJZgigTzOhxlGFBNCnwqBhshkC2vTJABAzVRNHIdA8AW0NYPNEuAME0iGAPtOJBZZAICaAPmMipCGQDgH0mU4ssAQCMQH0GRMhDYF0CKDPdGKBJRCICaDPmAhpCKRDAH2mEwssgUBMQJs+GQASR5A0BCBQmYC2BrCyo2SEgEIC6FNh0DDZDAH0aSbUOKqQAPpUGDRMNkMAfZoJNY4qJIA+FQYNk80QQJ9mQo2jCgmgT4VBw2QzBLTpkwEgZqomjkKgeQLaGsDmiXAHCKRDAH2mEwssgUBMAH3GREhDIB0C6DOdWGAJBGIC6DMmQhoC6RBAn+nEAksgEBNAnzER0hBIhwD6TCcWWAKBmIA2fTIAJI4gaQhAoDIBbQ1gZUfJCAGFBNCnwqBhshkC6NNMqHFUIQH0qTBomGyGAPo0E2ocVUgAfSoMGiabIYA+zYQaRxUSQJ8Kg4bJZgho0ycDQMxUTRyFQPMEtDWAzRPhDhBIhwD6TCcWWAKBmAD6jImQhkA6BNBnOrHAEgjEBNBnTIQ0BNIhgD7TiQWWQCAmgD5jIqQhkA4B9JlOLLAEAjEBbfpkAEgcQdIQgEBlAtoawMqOkhECCgmgT4VBw2QzBNCnmVDjqEIC6FNh0DDZDAH0aSbUOKqQAPpUGDRMNkMAfZoJNY4qJIA+FQYNk80Q0KZPBoCYqZo4CoHmCWhrAJsnwh0gkA4B9JlOLLAEAjEB9BkTIQ2BdAigz3RigSUQiAmgz5gIaQikQwB9phMLLIFATAB9xkRIQyAdAugznVhgCQRiAtr0yQCQOIKkIQCBygS0NYCVHSUjBBQSQJ8Kg4bJZgigTzOhxlGFBNCnwqBhshkC6NNMqHFUIQH0qTBomGyGAPo0E2ocVUgAfSoMGiabIaBNnwwAMVM1cRQCzRPQ1gA2T4Q7QCAdAugznVhgCQRiAugzJkIaAukQQJ/pxAJLIBATQJ8xEdIQSIcA+kwnFlgCgZgA+oyJkIZAOgTQZzqxwBIIxAS06ZMBIHEESUMAApUJaGsAKztKRggoJIA+FQYNk80QQJ9mQo2jCgmgT4VBw2QzBNCnmVDjqEIC6FNh0DDZDAH0aSbUOKqQAPpUGDRMNkNAmz4ZAGKmauIoBJonoK0BbJ4Id4BAOgTQZzqxwBIIxATQZ0yENATSIYA+04kFlkAgJoA+YyKkIZAOAfSZTiywBAIxAfQZEyENgXQIoM90YoElEIgJaNPn/91xxx2d2ImU0+95z3tSNg/bIAABCEAAAhCAAAQgAAEIQKBlBPxzc8s8wh0I6CdA/5D+GOIBBCAAAQhAAAIQgAAEIAABTQS09A8xAERTrcJWCEAAAhCAAAQgAAEIQAACEJg4AS0P+BMHww0hMEUCDACZInxuDQEIQAACEIAABCAAAQhAwCABLf1D6paAufPOO7vVaZ111jFYrXAZAmkTQJ9pxwfrbBNAn7bjj/dpE0CfaccH62wTQJ+244/3aRNAn2nHB+tsE0CftuOP92kTQJ9pxwfrbBNAn7bjj/dpE9CmTwaApF2fsA4CqghoawBVwcVYCNQkgD5rAiQ7BBokgD4bhEvREKhJAH3WBEh2CDRIAH02CJeiIVCTAPqsCZDsEGiQAPpsEC5FQ6AmAfRZEyDZIdAgAW36ZABIg5WBoiFgjYC2BtBafPDXNgH0aTv+eJ82AfSZdnywzjYB9Gk7/nifNgH0mXZ8sM42AfRpO/54nzYB9Jl2fLDONgH0aTv+eJ82AW36ZABI2vUJ6yCgioC2BlAVXIyFQE0C6LMmQLJDoEEC6LNBuBQNgZoE0GdNgGSHQIME0GeDcCkaAjUJoM+aAMkOgQYJoM8G4VI0BGoSQJ81AZIdAg0S0KZPBoA0WBkoGgLWCGhrAK3FB39tE0CftuOP92kTQJ9pxwfrbBNAn7bjj/dpE0CfaccH62wTQJ+244/3aRNAn2nHB+tsE0CftuOP92kT0KZPBoCkXZ+wDgKqCGhrAFXBxVgI1CSAPmsCJDsEGiSAPhuES9EQqEkAfdYESHYINEgAfTYIl6IhUJMA+qwJkOwQaJAA+mwQLkVDoCYB9FkTINkh0CABbfpkAEiDlYGiIWCNgLYG0Fp88Nc2AfRpO/54nzYB9Jl2fLDONgH0aTv+eJ82AfSZdnywzjYB9Gk7/nifNgH0mXZ8sM42AfRpO/54nzYBbfpkAEja9QnrIKCKgLYGUBVcjIVATQLosyZAskOgQQLos0G4FA2BmgTQZ02AZIdAgwTQZ4NwKRoCNQmgz5oAyQ6BBgmgzwbhUjQEahJAnzUBkh0CDRLQpk8GgDRYGSgaAtYIaGsArcUHf20TQJ+244/3aRNAn2nHB+tsE0CftuOP92kTQJ9pxwfrbBNAn7bjj/dpE0CfaccH62wTQJ+244/3aRPQpk8GgKRdn7AOAqoIaGsAVcHFWAjUJIA+awIkOwQaJIA+G4RL0RCoSQB91gRIdgg0SAB9NgiXoiFQkwD6rAmQ7BBokAD6bBAuRUOgJgH0WRMg2SHQIAFt+mQASIOVgaIhYI2AtgbQWnzw1zYB9Gk7/nifNgH0mXZ8sM42AfRpO/54nzYB9Jl2fLDONgH0aTv+eJ82AfSZdnywzjYB9Gk7/nifNgFt+mQASNr1CesgoIqAtgZQFVyMhUBNAuizJkCyQ6BBAuizQbgUDYGaBNBnTYBkh0CDBNBng3ApGgI1CaDPmgDJDoEGCaDPBuFSNARqEkCfNQGSHQINEtCmTwaANFgZKBoC1ghoawCtxQd/bRNAn7bjj/dpE0CfaccH62wTQJ+244/3aRNAn2nHB+tsE0CftuOP92kTQJ9pxwfrbBNAn7bjj/dpE9CmTwaApF2fsA4CqghoawBVwcVYCNQkgD5rAiQ7BBokgD4bhEvREKhJAH3WBEh2CDRIAH02CJeiIVCTAPqsCZDsEGiQAPpsEC5FQ6AmAfRZEyDZIdAgAW36ZABIg5WBoiFgjYC2BtBafPDXNgH0aTv+eJ82AfSZdnywzjYB9Gk7/nifNgH0mXZ8sM42AfRpO/54nzYB9Jl2fLDONgH0aTv+eJ82AW36ZABI2vUJ6yCgioC2BlAVXIyFQE0C6LMmQLJDoEEC6LNBuBQNgZoE0GdNgGSHQIME0GeDcCkaAjUJoM+aAMkOgQYJoM8G4VI0BGoSQJ81AZIdAg0S0KZPBoA0WBkoGgLWCGhrAK3FB39tE0CftuOP92kTQJ9pxwfrbBNAn7bjj/dpE0CfaccH62wTQJ+244/3aRNAn2nHB+tsE0CftuOP92kT0KZPBoCkXZ+wDgKqCGhrAFXBxVgI1CSAPmsCJDsEGiSAPhuES9EQqEkAfdYESHYINEgAfTYIl6IhUJMA+qwJkOwQaJAA+mwQLkVDoCYB9FkTINkh0CABbfpkAEiDlYGiIWCNgLYG0Fp88Nc2AfRpO/54nzYB9Jl2fLDONgH0aTv+eJ82AfSZdnywzjYB9Gk7/nifNgH0mXZ8sM42AfRpO/54nzYBbfpkAEja9QnrIKCKgLYGUBVcjIVATQLosyZAskOgQQLos0G4FA2BmgTQZ02AZIdAgwTQZ4NwKRoCNQmgz5oAyQ6BBgmgzwbhUjQEahJAnzUBkh0CDRLQpk8GgDRYGSgaAtYIaGsArcUHf20TQJ+244/3aRNAn2nHB+tsE0CftuOP92kTQJ9pxwfrbBNAn7bjj/dpE0CfaccH62wTQJ+244/3aRPQpk8GgKRdn7AOAqoIaGsAVcHFWAjUJIA+awIkOwQaJIA+G4RL0RCoSQB91gRIdgg0SAB9NgiXoiFQkwD6rAmQ7BBokAD6bBAuRUOgJgH0WRMg2SHQIAFt+mQASIOVgaIhYI2AtgbQWnzw1zYB9Gk7/nifNgH0mXZ8sM42AfRpO/54nzYB9Jl2fLDONgH0aTv+eJ82AfSZdnywzjYB9Gk7/nifNgFt+mQASNr1CesgoIqAtgZQFVyMhUBNAuizJkCyQ6BBAuizQbgUDYGaBNBnTYBkh0CDBNBng3ApGgI1CaDPmgDJDoEGCaDPBuFSNARqEkCfNQGSHQINEtCmTwaANFgZKBoC1ghoawCtxQd/bRNAn7bjj/dpE0CfaccH62wTQJ+244/3aRNAn2nHB+tsE0CftuOP92kTQJ9pxwfrbBNAn7bjj/dpE9CmTwaApF2fsA4CqghoawBVwcVYCNQkgD5rAiQ7BBokgD4bhEvREKhJAH3WBEh2CDRIAH02CJeiIVCTAPqsCZDsEGiQAPpsEC5FQ6AmAfRZEyDZIdAgAW36/H9333Lo+J+lWQAAAABJRU5ErkJggg==)"
      ],
      "metadata": {
        "id": "lTJWbMcyENmQ"
      }
    },
    {
      "cell_type": "code",
      "source": [
        "# YOUR CODE HERE \n",
        "## Not real coding is required, but rather some algebra computation. \n"
      ],
      "metadata": {
        "id": "RlasDEpDNoWS"
      },
      "execution_count": 57,
      "outputs": []
    }
  ]
}
