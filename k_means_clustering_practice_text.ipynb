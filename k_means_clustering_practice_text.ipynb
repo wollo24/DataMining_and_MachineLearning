{
  "cells": [
    {
      "cell_type": "markdown",
      "source": [
        "<a href=\"https://colab.research.google.com/github/michalis0/DataMining_and_MachineLearning/blob/master/week13/k_means_clustering_practice_text.ipynb\" target=\"_parent\"><img src=\"https://colab.research.google.com/assets/colab-badge.svg\" alt=\"Open In Colab\"/></a>"
      ],
      "metadata": {
        "id": "t3Q8zSKp2UQf"
      },
      "id": "t3Q8zSKp2UQf"
    },
    {
      "cell_type": "markdown",
      "id": "249755df",
      "metadata": {
        "button": false,
        "new_sheet": false,
        "papermill": {
          "duration": 0.024123,
          "end_time": "2021-07-11T12:36:37.493606",
          "exception": false,
          "start_time": "2021-07-11T12:36:37.469483",
          "status": "completed"
        },
        "run_control": {
          "read_only": false
        },
        "tags": [],
        "id": "249755df"
      },
      "source": [
        "<center>\n",
        "    <img src=\"https://miro.medium.com/max/960/0*f9HcysjkU6XyM1hb.gif\" width=\"300\" alt=\"kmeans\"  />\n",
        "</center>\n",
        "\n",
        "# K-Means Clustering Exercise - Week 13\n",
        "\n",
        "\n",
        "## Objectives\n",
        "\n",
        "After completing this lab you will be able to:\n",
        "\n",
        "*   Use scikit-learn's K-Means Clustering to cluster data\n"
      ]
    },
    {
      "cell_type": "markdown",
      "id": "d0fe7c19",
      "metadata": {
        "button": false,
        "new_sheet": false,
        "papermill": {
          "duration": 0.022259,
          "end_time": "2021-07-11T12:36:37.539070",
          "exception": false,
          "start_time": "2021-07-11T12:36:37.516811",
          "status": "completed"
        },
        "run_control": {
          "read_only": false
        },
        "tags": [],
        "id": "d0fe7c19"
      },
      "source": [
        "## Introduction\n",
        "\n",
        "There are many models for **clustering** out there. In this notebook, we will be presenting the model that is considered one of the simplest models amongst them. Despite its simplicity, the **K-means** is vastly used for clustering in many data science applications, it is especially useful if you need to quickly discover insights from **unlabeled data**. In this notebook, you will learn how to use k-Means for customer segmentation.\n",
        "\n",
        "Some real-world applications of k-means:\n",
        "\n",
        "*   Customer segmentation\n",
        "*   Understand what the visitors of a website are trying to accomplish\n",
        "*   Pattern recognition\n",
        "*   Machine learning\n",
        "*   Data compression\n",
        "\n",
        "In this notebook we practice k-means clustering with 2 examples:\n",
        "\n",
        "*   k-means on a random generated dataset\n",
        "*   Using k-means for customer segmentation\n"
      ]
    },
    {
      "cell_type": "markdown",
      "id": "44695cf4",
      "metadata": {
        "papermill": {
          "duration": 0.023845,
          "end_time": "2021-07-11T12:36:37.585533",
          "exception": false,
          "start_time": "2021-07-11T12:36:37.561688",
          "status": "completed"
        },
        "tags": [],
        "id": "44695cf4"
      },
      "source": [
        "<h1>Table of contents</h1>\n",
        "\n",
        "<div class=\"alert alert-block alert-info\" style=\"margin-top: 20px\">\n",
        "    <ul>\n",
        "        <li><a href=\"#random_generated_dataset\">k-Means on a randomly generated dataset</a></li>\n",
        "            <ol>\n",
        "                <li><a href=\"#setting_up_K_means\">Setting up K-Means</a></li>\n",
        "                <li><a href=\"#creating_visual_plot\">Creating the Visual Plot</a></li>\n",
        "            </ol>\n",
        "        <li><a href=\"#customer_segmentation_K_means\">Customer Segmentation with K-Means</a></li>\n",
        "            <ol>\n",
        "                <li><a href=\"#pre_processing\">Pre-processing</a></li>\n",
        "                <li><a href=\"#modeling\">Modeling</a></li>\n",
        "                <li><a href=\"#insights\">Insights</a></li>\n",
        "            </ol>\n",
        "    </ul>\n",
        "</div>\n",
        "<br>\n",
        "<hr>\n"
      ]
    },
    {
      "cell_type": "markdown",
      "id": "48f453bd",
      "metadata": {
        "button": false,
        "new_sheet": false,
        "papermill": {
          "duration": 0.022495,
          "end_time": "2021-07-11T12:36:37.631023",
          "exception": false,
          "start_time": "2021-07-11T12:36:37.608528",
          "status": "completed"
        },
        "run_control": {
          "read_only": false
        },
        "tags": [],
        "id": "48f453bd"
      },
      "source": [
        "### Import libraries\n",
        "\n",
        "Let's first import the required libraries.\n",
        "Also run <b> %matplotlib inline </b> since we will be plotting in this section.\n"
      ]
    },
    {
      "cell_type": "code",
      "execution_count": 1,
      "id": "a43872de",
      "metadata": {
        "button": false,
        "execution": {
          "iopub.execute_input": "2021-07-11T12:36:37.696313Z",
          "iopub.status.busy": "2021-07-11T12:36:37.695233Z",
          "iopub.status.idle": "2021-07-11T12:36:39.053626Z",
          "shell.execute_reply": "2021-07-11T12:36:39.054264Z",
          "shell.execute_reply.started": "2021-07-11T12:14:20.783019Z"
        },
        "new_sheet": false,
        "papermill": {
          "duration": 1.394897,
          "end_time": "2021-07-11T12:36:39.054634",
          "exception": false,
          "start_time": "2021-07-11T12:36:37.659737",
          "status": "completed"
        },
        "run_control": {
          "read_only": false
        },
        "tags": [],
        "id": "a43872de",
        "outputId": "8c1c62a8-300b-4ee3-9271-4333ef44df44",
        "colab": {
          "base_uri": "https://localhost:8080/",
          "height": 370
        }
      },
      "outputs": [
        {
          "output_type": "error",
          "ename": "ModuleNotFoundError",
          "evalue": "ignored",
          "traceback": [
            "\u001b[0;31m---------------------------------------------------------------------------\u001b[0m",
            "\u001b[0;31mModuleNotFoundError\u001b[0m                       Traceback (most recent call last)",
            "\u001b[0;32m<ipython-input-1-802f78102305>\u001b[0m in \u001b[0;36m<module>\u001b[0;34m\u001b[0m\n\u001b[1;32m      3\u001b[0m \u001b[0;32mimport\u001b[0m \u001b[0mmatplotlib\u001b[0m\u001b[0;34m.\u001b[0m\u001b[0mpyplot\u001b[0m \u001b[0;32mas\u001b[0m \u001b[0mplt\u001b[0m\u001b[0;34m\u001b[0m\u001b[0;34m\u001b[0m\u001b[0m\n\u001b[1;32m      4\u001b[0m \u001b[0;32mfrom\u001b[0m \u001b[0msklearn\u001b[0m\u001b[0;34m.\u001b[0m\u001b[0mcluster\u001b[0m \u001b[0;32mimport\u001b[0m \u001b[0mKMeans\u001b[0m\u001b[0;34m\u001b[0m\u001b[0;34m\u001b[0m\u001b[0m\n\u001b[0;32m----> 5\u001b[0;31m \u001b[0;32mfrom\u001b[0m \u001b[0msklearn\u001b[0m\u001b[0;34m.\u001b[0m\u001b[0mdatasets\u001b[0m\u001b[0;34m.\u001b[0m\u001b[0msamples_generator\u001b[0m \u001b[0;32mimport\u001b[0m \u001b[0mmake_blobs\u001b[0m\u001b[0;34m\u001b[0m\u001b[0;34m\u001b[0m\u001b[0m\n\u001b[0m\u001b[1;32m      6\u001b[0m \u001b[0mget_ipython\u001b[0m\u001b[0;34m(\u001b[0m\u001b[0;34m)\u001b[0m\u001b[0;34m.\u001b[0m\u001b[0mrun_line_magic\u001b[0m\u001b[0;34m(\u001b[0m\u001b[0;34m'matplotlib'\u001b[0m\u001b[0;34m,\u001b[0m \u001b[0;34m'inline'\u001b[0m\u001b[0;34m)\u001b[0m\u001b[0;34m\u001b[0m\u001b[0;34m\u001b[0m\u001b[0m\n",
            "\u001b[0;31mModuleNotFoundError\u001b[0m: No module named 'sklearn.datasets.samples_generator'",
            "",
            "\u001b[0;31m---------------------------------------------------------------------------\u001b[0;32m\nNOTE: If your import is failing due to a missing package, you can\nmanually install dependencies using either !pip or !apt.\n\nTo view examples of installing some common dependencies, click the\n\"Open Examples\" button below.\n\u001b[0;31m---------------------------------------------------------------------------\u001b[0m\n"
          ],
          "errorDetails": {
            "actions": [
              {
                "action": "open_url",
                "actionText": "Open Examples",
                "url": "/notebooks/snippets/importing_libraries.ipynb"
              }
            ]
          }
        }
      ],
      "source": [
        "import random \n",
        "import numpy as np \n",
        "import matplotlib.pyplot as plt \n",
        "from sklearn.cluster import KMeans \n",
        "from sklearn.datasets.samples_generator import make_blobs \n",
        "%matplotlib inline"
      ]
    },
    {
      "cell_type": "markdown",
      "id": "95f104f6",
      "metadata": {
        "button": false,
        "new_sheet": false,
        "papermill": {
          "duration": 0.02275,
          "end_time": "2021-07-11T12:36:39.102024",
          "exception": false,
          "start_time": "2021-07-11T12:36:39.079274",
          "status": "completed"
        },
        "run_control": {
          "read_only": false
        },
        "tags": [],
        "id": "95f104f6"
      },
      "source": [
        "<h1 id=\"random_generated_dataset\">k-Means on a randomly generated dataset</h1>\n",
        "\n",
        "Let's create our own dataset for this lab!\n"
      ]
    },
    {
      "cell_type": "markdown",
      "id": "d72457e3",
      "metadata": {
        "button": false,
        "new_sheet": false,
        "papermill": {
          "duration": 0.022925,
          "end_time": "2021-07-11T12:36:39.149545",
          "exception": false,
          "start_time": "2021-07-11T12:36:39.126620",
          "status": "completed"
        },
        "run_control": {
          "read_only": false
        },
        "tags": [],
        "id": "d72457e3"
      },
      "source": [
        "First we need to set a random seed. Use <b>numpy's random.seed()</b> function, where the seed will be set to <b>0</b>.\n"
      ]
    },
    {
      "cell_type": "code",
      "execution_count": null,
      "id": "e01956d0",
      "metadata": {
        "button": false,
        "execution": {
          "iopub.execute_input": "2021-07-11T12:36:39.198685Z",
          "iopub.status.busy": "2021-07-11T12:36:39.198096Z",
          "iopub.status.idle": "2021-07-11T12:36:39.202978Z",
          "shell.execute_reply": "2021-07-11T12:36:39.202519Z",
          "shell.execute_reply.started": "2021-07-11T12:15:05.416014Z"
        },
        "new_sheet": false,
        "papermill": {
          "duration": 0.030436,
          "end_time": "2021-07-11T12:36:39.203152",
          "exception": false,
          "start_time": "2021-07-11T12:36:39.172716",
          "status": "completed"
        },
        "run_control": {
          "read_only": false
        },
        "tags": [],
        "id": "e01956d0"
      },
      "outputs": [],
      "source": [
        "np.random.seed(0)"
      ]
    },
    {
      "cell_type": "markdown",
      "id": "afc221db",
      "metadata": {
        "button": false,
        "new_sheet": false,
        "papermill": {
          "duration": 0.023866,
          "end_time": "2021-07-11T12:36:39.250295",
          "exception": false,
          "start_time": "2021-07-11T12:36:39.226429",
          "status": "completed"
        },
        "run_control": {
          "read_only": false
        },
        "tags": [],
        "id": "afc221db"
      },
      "source": [
        "Next we will be making <i> random clusters </i> of points by using the <b> make_blobs </b> class. The <b> make_blobs </b> class can take in many inputs, but we will be using these specific ones. <br> <br> <b> <u> Input </u> </b>\n",
        "\n",
        "<ul>\n",
        "    <li> <b>n_samples</b>: The total number of points equally divided among clusters. </li>\n",
        "    <ul> <li> Value will be: 5000 </li> </ul>\n",
        "    <li> <b>centers</b>: The number of centers to generate, or the fixed center locations. </li>\n",
        "    <ul> <li> Value will be: [[4, 4], [-2, -1], [2, -3],[1,1]] </li> </ul>\n",
        "    <li> <b>cluster_std</b>: The standard deviation of the clusters. </li>\n",
        "    <ul> <li> Value will be: 0.9 </li> </ul>\n",
        "</ul>\n",
        "<br>\n",
        "<b> <u> Output </u> </b>\n",
        "<ul>\n",
        "    <li> <b>X</b>: Array of shape [n_samples, n_features]. (Feature Matrix)</li>\n",
        "    <ul> <li> The generated samples. </li> </ul> \n",
        "    <li> <b>y</b>: Array of shape [n_samples]. (Response Vector)</li>\n",
        "    <ul> <li> The integer labels for cluster membership of each sample. </li> </ul>\n",
        "</ul>\n"
      ]
    },
    {
      "cell_type": "code",
      "execution_count": null,
      "id": "2e5e17ac",
      "metadata": {
        "button": false,
        "execution": {
          "iopub.execute_input": "2021-07-11T12:36:39.302251Z",
          "iopub.status.busy": "2021-07-11T12:36:39.301632Z",
          "iopub.status.idle": "2021-07-11T12:36:39.308230Z",
          "shell.execute_reply": "2021-07-11T12:36:39.307733Z",
          "shell.execute_reply.started": "2021-07-11T12:15:50.822416Z"
        },
        "new_sheet": false,
        "papermill": {
          "duration": 0.034715,
          "end_time": "2021-07-11T12:36:39.308373",
          "exception": false,
          "start_time": "2021-07-11T12:36:39.273658",
          "status": "completed"
        },
        "run_control": {
          "read_only": false
        },
        "tags": [],
        "id": "2e5e17ac"
      },
      "outputs": [],
      "source": [
        "#YOUR CODE HERE\n",
        "#Use the function make_blobs to generate data, with the parameters above\n",
        "\n"
      ]
    },
    {
      "cell_type": "markdown",
      "id": "973a0aaa",
      "metadata": {
        "button": false,
        "new_sheet": false,
        "papermill": {
          "duration": 0.023011,
          "end_time": "2021-07-11T12:36:39.355250",
          "exception": false,
          "start_time": "2021-07-11T12:36:39.332239",
          "status": "completed"
        },
        "run_control": {
          "read_only": false
        },
        "tags": [],
        "id": "973a0aaa"
      },
      "source": [
        "Display the scatter plot of the randomly generated data.\n"
      ]
    },
    {
      "cell_type": "code",
      "execution_count": null,
      "id": "98ff63d5",
      "metadata": {
        "button": false,
        "execution": {
          "iopub.execute_input": "2021-07-11T12:36:39.416920Z",
          "iopub.status.busy": "2021-07-11T12:36:39.416245Z",
          "iopub.status.idle": "2021-07-11T12:36:39.607378Z",
          "shell.execute_reply": "2021-07-11T12:36:39.607832Z",
          "shell.execute_reply.started": "2021-07-11T12:15:52.986663Z"
        },
        "new_sheet": false,
        "papermill": {
          "duration": 0.229471,
          "end_time": "2021-07-11T12:36:39.608022",
          "exception": false,
          "start_time": "2021-07-11T12:36:39.378551",
          "status": "completed"
        },
        "run_control": {
          "read_only": false
        },
        "tags": [],
        "id": "98ff63d5"
      },
      "outputs": [],
      "source": [
        "#YOUR CODE HERE\n",
        "#Plot a scatter plot of the data"
      ]
    },
    {
      "cell_type": "markdown",
      "id": "d4462b32",
      "metadata": {
        "button": false,
        "new_sheet": false,
        "papermill": {
          "duration": 0.03699,
          "end_time": "2021-07-11T12:36:39.670040",
          "exception": false,
          "start_time": "2021-07-11T12:36:39.633050",
          "status": "completed"
        },
        "run_control": {
          "read_only": false
        },
        "tags": [],
        "id": "d4462b32"
      },
      "source": [
        "<h2 id=\"setting_up_K_means\">Setting up K-Means</h2>\n",
        "Now that we have our random data, let's set up our K-Means Clustering.\n"
      ]
    },
    {
      "cell_type": "markdown",
      "id": "d2385eb8",
      "metadata": {
        "button": false,
        "new_sheet": false,
        "papermill": {
          "duration": 0.031262,
          "end_time": "2021-07-11T12:36:39.741030",
          "exception": false,
          "start_time": "2021-07-11T12:36:39.709768",
          "status": "completed"
        },
        "run_control": {
          "read_only": false
        },
        "tags": [],
        "id": "d2385eb8"
      },
      "source": [
        "The KMeans class has many parameters that can be used, but we will be using these three:\n",
        "\n",
        "<ul>\n",
        "    <li> <b>init</b>: Initialization method of the centroids. </li>\n",
        "    <ul>\n",
        "        <li> Value will be: \"k-means++\" </li>\n",
        "        <li> k-means++: Selects initial cluster centers for k-mean clustering in a smart way to speed up convergence.</li>\n",
        "    </ul>\n",
        "    <li> <b>n_clusters</b>: The number of clusters to form as well as the number of centroids to generate. </li>\n",
        "    <ul> <li> Value will be: 4 (since we have 4 centers)</li> </ul>\n",
        "    <li> <b>n_init</b>: Number of time the k-means algorithm will be run with different centroid seeds. The final results will be the best output of n_init consecutive runs in terms of inertia. </li>\n",
        "    <ul> <li> Value will be: 12 </li> </ul>\n",
        "</ul>\n",
        "\n",
        "Initialize KMeans with these parameters, where the output parameter is called <b>k_means</b>.\n"
      ]
    },
    {
      "cell_type": "code",
      "execution_count": null,
      "id": "f480f7c0",
      "metadata": {
        "button": false,
        "execution": {
          "iopub.execute_input": "2021-07-11T12:36:39.802424Z",
          "iopub.status.busy": "2021-07-11T12:36:39.801777Z",
          "iopub.status.idle": "2021-07-11T12:36:39.805490Z",
          "shell.execute_reply": "2021-07-11T12:36:39.806126Z",
          "shell.execute_reply.started": "2021-07-11T12:18:15.573293Z"
        },
        "new_sheet": false,
        "papermill": {
          "duration": 0.032954,
          "end_time": "2021-07-11T12:36:39.806302",
          "exception": false,
          "start_time": "2021-07-11T12:36:39.773348",
          "status": "completed"
        },
        "run_control": {
          "read_only": false
        },
        "tags": [],
        "id": "f480f7c0"
      },
      "outputs": [],
      "source": [
        "#YOUR CODE HERE"
      ]
    },
    {
      "cell_type": "markdown",
      "id": "658d552c",
      "metadata": {
        "button": false,
        "new_sheet": false,
        "papermill": {
          "duration": 0.025441,
          "end_time": "2021-07-11T12:36:39.858903",
          "exception": false,
          "start_time": "2021-07-11T12:36:39.833462",
          "status": "completed"
        },
        "run_control": {
          "read_only": false
        },
        "tags": [],
        "id": "658d552c"
      },
      "source": [
        "Fit the KMeans model with the feature matrix we created above, <b> X </b>.\n"
      ]
    },
    {
      "cell_type": "code",
      "execution_count": null,
      "id": "d2ee9ed9",
      "metadata": {
        "button": false,
        "execution": {
          "iopub.execute_input": "2021-07-11T12:36:39.911669Z",
          "iopub.status.busy": "2021-07-11T12:36:39.910986Z",
          "iopub.status.idle": "2021-07-11T12:36:41.477637Z",
          "shell.execute_reply": "2021-07-11T12:36:41.478241Z",
          "shell.execute_reply.started": "2021-07-11T12:18:20.587511Z"
        },
        "new_sheet": false,
        "papermill": {
          "duration": 1.594675,
          "end_time": "2021-07-11T12:36:41.478448",
          "exception": false,
          "start_time": "2021-07-11T12:36:39.883773",
          "status": "completed"
        },
        "run_control": {
          "read_only": false
        },
        "tags": [],
        "id": "d2ee9ed9"
      },
      "outputs": [],
      "source": [
        "#YOUR CODE HERE"
      ]
    },
    {
      "cell_type": "markdown",
      "id": "bb87ad34",
      "metadata": {
        "button": false,
        "new_sheet": false,
        "papermill": {
          "duration": 0.03153,
          "end_time": "2021-07-11T12:36:41.541531",
          "exception": false,
          "start_time": "2021-07-11T12:36:41.510001",
          "status": "completed"
        },
        "run_control": {
          "read_only": false
        },
        "tags": [],
        "id": "bb87ad34"
      },
      "source": [
        "Grab the labels for each point in the model using KMeans' <b> .labels\\_ </b> attribute and save it as <b> k_means_labels </b>.\n"
      ]
    },
    {
      "cell_type": "code",
      "execution_count": null,
      "id": "551d3448",
      "metadata": {
        "button": false,
        "execution": {
          "iopub.execute_input": "2021-07-11T12:36:41.612750Z",
          "iopub.status.busy": "2021-07-11T12:36:41.612052Z",
          "iopub.status.idle": "2021-07-11T12:36:41.616348Z",
          "shell.execute_reply": "2021-07-11T12:36:41.616798Z",
          "shell.execute_reply.started": "2021-07-11T12:18:29.422786Z"
        },
        "new_sheet": false,
        "papermill": {
          "duration": 0.042977,
          "end_time": "2021-07-11T12:36:41.616983",
          "exception": false,
          "start_time": "2021-07-11T12:36:41.574006",
          "status": "completed"
        },
        "run_control": {
          "read_only": false
        },
        "tags": [],
        "id": "551d3448"
      },
      "outputs": [],
      "source": [
        "#YOUR CODE HERE\n"
      ]
    },
    {
      "cell_type": "markdown",
      "id": "4f5d4dcc",
      "metadata": {
        "button": false,
        "new_sheet": false,
        "papermill": {
          "duration": 0.032689,
          "end_time": "2021-07-11T12:36:41.681813",
          "exception": false,
          "start_time": "2021-07-11T12:36:41.649124",
          "status": "completed"
        },
        "run_control": {
          "read_only": false
        },
        "tags": [],
        "id": "4f5d4dcc"
      },
      "source": [
        "Get the coordinates of the cluster centers using KMeans' <b> .cluster_centers\\_ </b> and save it as <b> k_means_cluster_centers </b>.\n"
      ]
    },
    {
      "cell_type": "code",
      "execution_count": null,
      "id": "9f1eb80d",
      "metadata": {
        "button": false,
        "execution": {
          "iopub.execute_input": "2021-07-11T12:36:41.754916Z",
          "iopub.status.busy": "2021-07-11T12:36:41.754147Z",
          "iopub.status.idle": "2021-07-11T12:36:41.757172Z",
          "shell.execute_reply": "2021-07-11T12:36:41.755490Z",
          "shell.execute_reply.started": "2021-07-11T12:18:38.101534Z"
        },
        "new_sheet": false,
        "papermill": {
          "duration": 0.043258,
          "end_time": "2021-07-11T12:36:41.757325",
          "exception": false,
          "start_time": "2021-07-11T12:36:41.714067",
          "status": "completed"
        },
        "run_control": {
          "read_only": false
        },
        "tags": [],
        "id": "9f1eb80d"
      },
      "outputs": [],
      "source": [
        "#YOUR CODE HERE"
      ]
    },
    {
      "cell_type": "markdown",
      "id": "c01f310c",
      "metadata": {
        "button": false,
        "new_sheet": false,
        "papermill": {
          "duration": 0.032843,
          "end_time": "2021-07-11T12:36:41.822507",
          "exception": false,
          "start_time": "2021-07-11T12:36:41.789664",
          "status": "completed"
        },
        "run_control": {
          "read_only": false
        },
        "tags": [],
        "id": "c01f310c"
      },
      "source": [
        "<h2 id=\"creating_visual_plot\">Creating the Visual Plot</h2>\n",
        "\n",
        "So now that we have the random data generated and the KMeans model initialized, let's plot them and see what it looks like!\n"
      ]
    },
    {
      "cell_type": "markdown",
      "id": "ce177a7a",
      "metadata": {
        "button": false,
        "new_sheet": false,
        "papermill": {
          "duration": 0.030552,
          "end_time": "2021-07-11T12:36:41.886848",
          "exception": false,
          "start_time": "2021-07-11T12:36:41.856296",
          "status": "completed"
        },
        "run_control": {
          "read_only": false
        },
        "tags": [],
        "id": "ce177a7a"
      },
      "source": [
        "No code to write here - please read through the code and comments to understand how to plot the model.\n"
      ]
    },
    {
      "cell_type": "code",
      "execution_count": null,
      "id": "283ec4d4",
      "metadata": {
        "button": false,
        "execution": {
          "iopub.execute_input": "2021-07-11T12:36:41.946235Z",
          "iopub.status.busy": "2021-07-11T12:36:41.945576Z",
          "iopub.status.idle": "2021-07-11T12:36:42.050766Z",
          "shell.execute_reply": "2021-07-11T12:36:42.051235Z",
          "shell.execute_reply.started": "2021-07-11T12:19:53.281003Z"
        },
        "new_sheet": false,
        "papermill": {
          "duration": 0.139136,
          "end_time": "2021-07-11T12:36:42.051423",
          "exception": false,
          "start_time": "2021-07-11T12:36:41.912287",
          "status": "completed"
        },
        "run_control": {
          "read_only": false
        },
        "tags": [],
        "id": "283ec4d4",
        "outputId": "f052f3e9-f66d-4d76-e8b0-65225329d980"
      },
      "outputs": [
        {
          "data": {
            "image/png": "[encoded data removed]",
            "text/plain": [
              "<Figure size 432x288 with 1 Axes>"
            ]
          },
          "metadata": {},
          "output_type": "display_data"
        }
      ],
      "source": [
        "# Initialize the plot with the specified dimensions.\n",
        "fig = plt.figure(figsize=(6, 4))\n",
        "\n",
        "# Colors uses a color map, which will produce an array of colors based on\n",
        "# the number of labels there are. We use set(k_means_labels) to get the\n",
        "# unique labels.\n",
        "colors = plt.cm.Spectral(np.linspace(0, 1, len(set(k_means_labels))))\n",
        "\n",
        "# Create a plot\n",
        "ax = fig.add_subplot(1, 1, 1)\n",
        "\n",
        "# For loop that plots the data points and centroids.\n",
        "# k will range from 0-3, which will match the possible clusters that each\n",
        "# data point is in.\n",
        "for k, col in zip(range(len([[4,4], [-2, -1], [2, -3], [1, 1]])), colors):\n",
        "\n",
        "    # Create a list of all data points, where the data points that are \n",
        "    # in the cluster (ex. cluster 0) are labeled as true, else they are\n",
        "    # labeled as false.\n",
        "    my_members = (k_means_labels == k)\n",
        "    \n",
        "    # Define the centroid, or cluster center.\n",
        "    cluster_center = k_means_cluster_centers[k]\n",
        "    \n",
        "    # Plots the datapoints with color col.\n",
        "    ax.plot(X[my_members, 0], X[my_members, 1], 'w', markerfacecolor=col, marker='.')\n",
        "    \n",
        "    # Plots the centroids with specified color, but with a darker outline\n",
        "    ax.plot(cluster_center[0], cluster_center[1], 'o', markerfacecolor=col,  markeredgecolor='k', markersize=6)\n",
        "\n",
        "# Title of the plot\n",
        "ax.set_title('KMeans')\n",
        "\n",
        "# Remove x-axis ticks\n",
        "ax.set_xticks(())\n",
        "\n",
        "# Remove y-axis ticks\n",
        "ax.set_yticks(())\n",
        "\n",
        "# Show the plot\n",
        "plt.show()\n"
      ]
    },
    {
      "cell_type": "markdown",
      "id": "d39080c3",
      "metadata": {
        "papermill": {
          "duration": 0.026535,
          "end_time": "2021-07-11T12:36:42.105099",
          "exception": false,
          "start_time": "2021-07-11T12:36:42.078564",
          "status": "completed"
        },
        "tags": [],
        "id": "d39080c3"
      },
      "source": [
        "## Practice\n",
        "\n",
        "Try to cluster the above dataset into 3 clusters.\\\n",
        "Notice: do not generate the data again, use the same dataset as above.\n"
      ]
    },
    {
      "cell_type": "code",
      "execution_count": null,
      "id": "8431e0b5",
      "metadata": {
        "execution": {
          "iopub.execute_input": "2021-07-11T12:36:42.167006Z",
          "iopub.status.busy": "2021-07-11T12:36:42.166329Z",
          "iopub.status.idle": "2021-07-11T12:36:43.993175Z",
          "shell.execute_reply": "2021-07-11T12:36:43.993722Z",
          "shell.execute_reply.started": "2021-07-11T12:21:29.165503Z"
        },
        "papermill": {
          "duration": 1.861396,
          "end_time": "2021-07-11T12:36:43.993906",
          "exception": false,
          "start_time": "2021-07-11T12:36:42.132510",
          "status": "completed"
        },
        "tags": [],
        "id": "8431e0b5"
      },
      "outputs": [],
      "source": [
        "#YOUR CODE HERE\n",
        "k_means3 = ___\n",
        "\n",
        "\n",
        "\n",
        "fig = plt.figure(figsize=(6, 4))\n",
        "colors = plt.cm.Spectral(np.linspace(0, 1, len(set(k_means3.labels_))))\n",
        "ax = fig.add_subplot(1, 1, 1)\n",
        "for k, col in zip(range(len(k_means3.cluster_centers_)), colors):\n",
        "    my_members = (k_means3.labels_ == k)\n",
        "    cluster_center = k_means3.cluster_centers_[k]\n",
        "    ax.plot(X[my_members, 0], X[my_members, 1], 'w', markerfacecolor=col, marker='.')\n",
        "    ax.plot(cluster_center[0], cluster_center[1], 'o', markerfacecolor=col,  markeredgecolor='k', markersize=6)\n",
        "plt.show()\n"
      ]
    },
    {
      "cell_type": "markdown",
      "id": "a12a9f28",
      "metadata": {
        "papermill": {
          "duration": 0.035754,
          "end_time": "2021-07-11T12:36:44.065174",
          "exception": false,
          "start_time": "2021-07-11T12:36:44.029420",
          "status": "completed"
        },
        "tags": [],
        "id": "a12a9f28"
      },
      "source": [
        "<details><summary>Click here for the solution</summary>\n",
        "\n",
        "```python\n",
        "k_means3 = KMeans(init = \"k-means++\", n_clusters = 3, n_init = 12)\n",
        "k_means3.fit(X)\n",
        "fig = plt.figure(figsize=(6, 4))\n",
        "colors = plt.cm.Spectral(np.linspace(0, 1, len(set(k_means3.labels_))))\n",
        "ax = fig.add_subplot(1, 1, 1)\n",
        "for k, col in zip(range(len(k_means3.cluster_centers_)), colors):\n",
        "    my_members = (k_means3.labels_ == k)\n",
        "    cluster_center = k_means3.cluster_centers_[k]\n",
        "    ax.plot(X[my_members, 0], X[my_members, 1], 'w', markerfacecolor=col, marker='.')\n",
        "    ax.plot(cluster_center[0], cluster_center[1], 'o', markerfacecolor=col,  markeredgecolor='k', markersize=6)\n",
        "plt.show()\n",
        "\n",
        "```\n",
        "\n",
        "</details>\n"
      ]
    },
    {
      "cell_type": "markdown",
      "id": "c3b0d855",
      "metadata": {
        "button": false,
        "new_sheet": false,
        "papermill": {
          "duration": 0.035867,
          "end_time": "2021-07-11T12:36:44.137488",
          "exception": false,
          "start_time": "2021-07-11T12:36:44.101621",
          "status": "completed"
        },
        "run_control": {
          "read_only": false
        },
        "tags": [],
        "id": "c3b0d855"
      },
      "source": [
        "<h1 id=\"customer_segmentation_K_means\">Customer Segmentation with K-Means</h1>\n",
        "\n",
        "Imagine that you have a customer dataset, and you need to apply customer segmentation on this historical data.\n",
        "Customer segmentation is the practice of partitioning a customer base into groups of individuals that have similar characteristics. It is a significant strategy as a business can target these specific groups of customers and effectively allocate marketing resources. For example, one group might contain customers who are high-profit and low-risk, that is, more likely to purchase products, or subscribe for a service. A business task is to retain those customers. Another group might include customers from non-profit organizations and so on.\n",
        "\n",
        "Let's download the dataset. To download the data, we will use **`!wget`** to download it from IBM Object Storage.\\\n"
      ]
    },
    {
      "cell_type": "code",
      "execution_count": null,
      "id": "18f47e52",
      "metadata": {
        "button": false,
        "execution": {
          "iopub.execute_input": "2021-07-11T12:36:44.210273Z",
          "iopub.status.busy": "2021-07-11T12:36:44.209572Z",
          "iopub.status.idle": "2021-07-11T12:36:46.064607Z",
          "shell.execute_reply": "2021-07-11T12:36:46.063837Z",
          "shell.execute_reply.started": "2021-07-11T12:23:11.983791Z"
        },
        "new_sheet": false,
        "papermill": {
          "duration": 1.891297,
          "end_time": "2021-07-11T12:36:46.064759",
          "exception": false,
          "start_time": "2021-07-11T12:36:44.173462",
          "status": "completed"
        },
        "run_control": {
          "read_only": false
        },
        "tags": [],
        "id": "18f47e52",
        "outputId": "d9d58d8d-2d3d-4bfe-c71f-157771b566a9",
        "colab": {
          "base_uri": "https://localhost:8080/"
        }
      },
      "outputs": [
        {
          "output_type": "stream",
          "name": "stdout",
          "text": [
            "--2022-12-12 14:51:13--  https://cf-courses-data.s3.us.cloud-object-storage.appdomain.cloud/IBMDeveloperSkillsNetwork-ML0101EN-SkillsNetwork/labs/Module%204/data/Cust_Segmentation.csv\n",
            "Resolving cf-courses-data.s3.us.cloud-object-storage.appdomain.cloud (cf-courses-data.s3.us.cloud-object-storage.appdomain.cloud)... 169.45.118.108\n",
            "Connecting to cf-courses-data.s3.us.cloud-object-storage.appdomain.cloud (cf-courses-data.s3.us.cloud-object-storage.appdomain.cloud)|169.45.118.108|:443... connected.\n",
            "HTTP request sent, awaiting response... 200 OK\n",
            "Length: 33426 (33K) [text/csv]\n",
            "Saving to: ‘Cust_Segmentation.csv’\n",
            "\n",
            "Cust_Segmentation.c 100%[===================>]  32.64K  --.-KB/s    in 0.1s    \n",
            "\n",
            "2022-12-12 14:51:14 (220 KB/s) - ‘Cust_Segmentation.csv’ saved [33426/33426]\n",
            "\n"
          ]
        }
      ],
      "source": [
        "!wget -O Cust_Segmentation.csv https://cf-courses-data.s3.us.cloud-object-storage.appdomain.cloud/IBMDeveloperSkillsNetwork-ML0101EN-SkillsNetwork/labs/Module%204/data/Cust_Segmentation.csv"
      ]
    },
    {
      "cell_type": "markdown",
      "id": "636768fa",
      "metadata": {
        "button": false,
        "new_sheet": false,
        "papermill": {
          "duration": 0.030061,
          "end_time": "2021-07-11T12:36:46.126323",
          "exception": false,
          "start_time": "2021-07-11T12:36:46.096262",
          "status": "completed"
        },
        "run_control": {
          "read_only": false
        },
        "tags": [],
        "id": "636768fa"
      },
      "source": [
        "### Load Data From CSV File\n",
        "\n",
        "Before you can work with the data, you must use the URL to get the Cust_Segmentation.csv.\n"
      ]
    },
    {
      "cell_type": "code",
      "execution_count": null,
      "id": "9bca1181",
      "metadata": {
        "button": false,
        "execution": {
          "iopub.execute_input": "2021-07-11T12:36:46.193956Z",
          "iopub.status.busy": "2021-07-11T12:36:46.193354Z",
          "iopub.status.idle": "2021-07-11T12:36:46.227635Z",
          "shell.execute_reply": "2021-07-11T12:36:46.227154Z",
          "shell.execute_reply.started": "2021-07-11T12:23:21.488657Z"
        },
        "new_sheet": false,
        "papermill": {
          "duration": 0.070825,
          "end_time": "2021-07-11T12:36:46.227774",
          "exception": false,
          "start_time": "2021-07-11T12:36:46.156949",
          "status": "completed"
        },
        "run_control": {
          "read_only": false
        },
        "tags": [],
        "id": "9bca1181",
        "outputId": "b8c75006-49b7-42a7-a6b7-f75a5b3aacc6",
        "colab": {
          "base_uri": "https://localhost:8080/",
          "height": 204
        }
      },
      "outputs": [
        {
          "output_type": "execute_result",
          "data": {
            "text/plain": [
              "   Customer Id  Age  Edu  Years Employed  Income  Card Debt  Other Debt  \\\n",
              "0            1   41    2               6      19      0.124       1.073   \n",
              "1            2   47    1              26     100      4.582       8.218   \n",
              "2            3   33    2              10      57      6.111       5.802   \n",
              "3            4   29    2               4      19      0.681       0.516   \n",
              "4            5   47    1              31     253      9.308       8.908   \n",
              "\n",
              "   Defaulted Address  DebtIncomeRatio  \n",
              "0        0.0  NBA001              6.3  \n",
              "1        0.0  NBA021             12.8  \n",
              "2        1.0  NBA013             20.9  \n",
              "3        0.0  NBA009              6.3  \n",
              "4        0.0  NBA008              7.2  "
            ],
            "text/html": [
              "\n",
              "  <div id=\"df-ef146c5f-bfee-41d2-b78e-4918dab3bf6c\">\n",
              "    <div class=\"colab-df-container\">\n",
              "      <div>\n",
              "<style scoped>\n",
              "    .dataframe tbody tr th:only-of-type {\n",
              "        vertical-align: middle;\n",
              "    }\n",
              "\n",
              "    .dataframe tbody tr th {\n",
              "        vertical-align: top;\n",
              "    }\n",
              "\n",
              "    .dataframe thead th {\n",
              "        text-align: right;\n",
              "    }\n",
              "</style>\n",
              "<table border=\"1\" class=\"dataframe\">\n",
              "  <thead>\n",
              "    <tr style=\"text-align: right;\">\n",
              "      <th></th>\n",
              "      <th>Customer Id</th>\n",
              "      <th>Age</th>\n",
              "      <th>Edu</th>\n",
              "      <th>Years Employed</th>\n",
              "      <th>Income</th>\n",
              "      <th>Card Debt</th>\n",
              "      <th>Other Debt</th>\n",
              "      <th>Defaulted</th>\n",
              "      <th>Address</th>\n",
              "      <th>DebtIncomeRatio</th>\n",
              "    </tr>\n",
              "  </thead>\n",
              "  <tbody>\n",
              "    <tr>\n",
              "      <th>0</th>\n",
              "      <td>1</td>\n",
              "      <td>41</td>\n",
              "      <td>2</td>\n",
              "      <td>6</td>\n",
              "      <td>19</td>\n",
              "      <td>0.124</td>\n",
              "      <td>1.073</td>\n",
              "      <td>0.0</td>\n",
              "      <td>NBA001</td>\n",
              "      <td>6.3</td>\n",
              "    </tr>\n",
              "    <tr>\n",
              "      <th>1</th>\n",
              "      <td>2</td>\n",
              "      <td>47</td>\n",
              "      <td>1</td>\n",
              "      <td>26</td>\n",
              "      <td>100</td>\n",
              "      <td>4.582</td>\n",
              "      <td>8.218</td>\n",
              "      <td>0.0</td>\n",
              "      <td>NBA021</td>\n",
              "      <td>12.8</td>\n",
              "    </tr>\n",
              "    <tr>\n",
              "      <th>2</th>\n",
              "      <td>3</td>\n",
              "      <td>33</td>\n",
              "      <td>2</td>\n",
              "      <td>10</td>\n",
              "      <td>57</td>\n",
              "      <td>6.111</td>\n",
              "      <td>5.802</td>\n",
              "      <td>1.0</td>\n",
              "      <td>NBA013</td>\n",
              "      <td>20.9</td>\n",
              "    </tr>\n",
              "    <tr>\n",
              "      <th>3</th>\n",
              "      <td>4</td>\n",
              "      <td>29</td>\n",
              "      <td>2</td>\n",
              "      <td>4</td>\n",
              "      <td>19</td>\n",
              "      <td>0.681</td>\n",
              "      <td>0.516</td>\n",
              "      <td>0.0</td>\n",
              "      <td>NBA009</td>\n",
              "      <td>6.3</td>\n",
              "    </tr>\n",
              "    <tr>\n",
              "      <th>4</th>\n",
              "      <td>5</td>\n",
              "      <td>47</td>\n",
              "      <td>1</td>\n",
              "      <td>31</td>\n",
              "      <td>253</td>\n",
              "      <td>9.308</td>\n",
              "      <td>8.908</td>\n",
              "      <td>0.0</td>\n",
              "      <td>NBA008</td>\n",
              "      <td>7.2</td>\n",
              "    </tr>\n",
              "  </tbody>\n",
              "</table>\n",
              "</div>\n",
              "      <button class=\"colab-df-convert\" onclick=\"convertToInteractive('df-ef146c5f-bfee-41d2-b78e-4918dab3bf6c')\"\n",
              "              title=\"Convert this dataframe to an interactive table.\"\n",
              "              style=\"display:none;\">\n",
              "        \n",
              "  <svg xmlns=\"http://www.w3.org/2000/svg\" height=\"24px\"viewBox=\"0 0 24 24\"\n",
              "       width=\"24px\">\n",
              "    <path d=\"M0 0h24v24H0V0z\" fill=\"none\"/>\n",
              "    <path d=\"M18.56 5.44l.94 2.06.94-2.06 2.06-.94-2.06-.94-.94-2.06-.94 2.06-2.06.94zm-11 1L8.5 8.5l.94-2.06 2.06-.94-2.06-.94L8.5 2.5l-.94 2.06-2.06.94zm10 10l.94 2.06.94-2.06 2.06-.94-2.06-.94-.94-2.06-.94 2.06-2.06.94z\"/><path d=\"M17.41 7.96l-1.37-1.37c-.4-.4-.92-.59-1.43-.59-.52 0-1.04.2-1.43.59L10.3 9.45l-7.72 7.72c-.78.78-.78 2.05 0 2.83L4 21.41c.39.39.9.59 1.41.59.51 0 1.02-.2 1.41-.59l7.78-7.78 2.81-2.81c.8-.78.8-2.07 0-2.86zM5.41 20L4 18.59l7.72-7.72 1.47 1.35L5.41 20z\"/>\n",
              "  </svg>\n",
              "      </button>\n",
              "      \n",
              "  <style>\n",
              "    .colab-df-container {\n",
              "      display:flex;\n",
              "      flex-wrap:wrap;\n",
              "      gap: 12px;\n",
              "    }\n",
              "\n",
              "    .colab-df-convert {\n",
              "      background-color: #E8F0FE;\n",
              "      border: none;\n",
              "      border-radius: 50%;\n",
              "      cursor: pointer;\n",
              "      display: none;\n",
              "      fill: #1967D2;\n",
              "      height: 32px;\n",
              "      padding: 0 0 0 0;\n",
              "      width: 32px;\n",
              "    }\n",
              "\n",
              "    .colab-df-convert:hover {\n",
              "      background-color: #E2EBFA;\n",
              "      box-shadow: 0px 1px 2px rgba(60, 64, 67, 0.3), 0px 1px 3px 1px rgba(60, 64, 67, 0.15);\n",
              "      fill: #174EA6;\n",
              "    }\n",
              "\n",
              "    [theme=dark] .colab-df-convert {\n",
              "      background-color: #3B4455;\n",
              "      fill: #D2E3FC;\n",
              "    }\n",
              "\n",
              "    [theme=dark] .colab-df-convert:hover {\n",
              "      background-color: #434B5C;\n",
              "      box-shadow: 0px 1px 3px 1px rgba(0, 0, 0, 0.15);\n",
              "      filter: drop-shadow(0px 1px 2px rgba(0, 0, 0, 0.3));\n",
              "      fill: #FFFFFF;\n",
              "    }\n",
              "  </style>\n",
              "\n",
              "      <script>\n",
              "        const buttonEl =\n",
              "          document.querySelector('#df-ef146c5f-bfee-41d2-b78e-4918dab3bf6c button.colab-df-convert');\n",
              "        buttonEl.style.display =\n",
              "          google.colab.kernel.accessAllowed ? 'block' : 'none';\n",
              "\n",
              "        async function convertToInteractive(key) {\n",
              "          const element = document.querySelector('#df-ef146c5f-bfee-41d2-b78e-4918dab3bf6c');\n",
              "          const dataTable =\n",
              "            await google.colab.kernel.invokeFunction('convertToInteractive',\n",
              "                                                     [key], {});\n",
              "          if (!dataTable) return;\n",
              "\n",
              "          const docLinkHtml = 'Like what you see? Visit the ' +\n",
              "            '<a target=\"_blank\" href=https://colab.research.google.com/notebooks/data_table.ipynb>data table notebook</a>'\n",
              "            + ' to learn more about interactive tables.';\n",
              "          element.innerHTML = '';\n",
              "          dataTable['output_type'] = 'display_data';\n",
              "          await google.colab.output.renderOutput(dataTable, element);\n",
              "          const docLink = document.createElement('div');\n",
              "          docLink.innerHTML = docLinkHtml;\n",
              "          element.appendChild(docLink);\n",
              "        }\n",
              "      </script>\n",
              "    </div>\n",
              "  </div>\n",
              "  "
            ]
          },
          "metadata": {},
          "execution_count": 7
        }
      ],
      "source": [
        "import pandas as pd\n",
        "cust_df = pd.read_csv(\"Cust_Segmentation.csv\")\n",
        "cust_df.head()"
      ]
    },
    {
      "cell_type": "markdown",
      "id": "4360b66d",
      "metadata": {
        "papermill": {
          "duration": 0.030059,
          "end_time": "2021-07-11T12:36:46.288647",
          "exception": false,
          "start_time": "2021-07-11T12:36:46.258588",
          "status": "completed"
        },
        "tags": [],
        "id": "4360b66d"
      },
      "source": [
        "<h2 id=\"pre_processing\">Pre-processing</h2\n"
      ]
    },
    {
      "cell_type": "markdown",
      "id": "7c6ae9aa",
      "metadata": {
        "button": false,
        "new_sheet": false,
        "papermill": {
          "duration": 0.030027,
          "end_time": "2021-07-11T12:36:46.349247",
          "exception": false,
          "start_time": "2021-07-11T12:36:46.319220",
          "status": "completed"
        },
        "run_control": {
          "read_only": false
        },
        "tags": [],
        "id": "7c6ae9aa"
      },
      "source": [
        "As you can see, **Address** in this dataset is a categorical variable. The k-means algorithm isn't directly applicable to categorical variables because the Euclidean distance function isn't really meaningful for discrete variables. So, let's drop this feature and run clustering.\n"
      ]
    },
    {
      "cell_type": "code",
      "execution_count": null,
      "id": "df765572",
      "metadata": {
        "button": false,
        "execution": {
          "iopub.execute_input": "2021-07-11T12:36:46.426416Z",
          "iopub.status.busy": "2021-07-11T12:36:46.425622Z",
          "iopub.status.idle": "2021-07-11T12:36:46.429675Z",
          "shell.execute_reply": "2021-07-11T12:36:46.429228Z",
          "shell.execute_reply.started": "2021-07-11T12:23:52.032308Z"
        },
        "new_sheet": false,
        "papermill": {
          "duration": 0.049928,
          "end_time": "2021-07-11T12:36:46.429822",
          "exception": false,
          "start_time": "2021-07-11T12:36:46.379894",
          "status": "completed"
        },
        "run_control": {
          "read_only": false
        },
        "tags": [],
        "id": "df765572"
      },
      "outputs": [],
      "source": [
        "##YOUR CODE HERE"
      ]
    },
    {
      "cell_type": "markdown",
      "id": "d9cd3a27",
      "metadata": {
        "button": false,
        "new_sheet": false,
        "papermill": {
          "duration": 0.031595,
          "end_time": "2021-07-11T12:36:46.492908",
          "exception": false,
          "start_time": "2021-07-11T12:36:46.461313",
          "status": "completed"
        },
        "run_control": {
          "read_only": false
        },
        "tags": [],
        "id": "d9cd3a27"
      },
      "source": [
        "#### Normalizing over the standard deviation\n",
        "\n",
        "Now let's normalize the dataset. But why do we need normalization in the first place? Normalization is a statistical method that helps mathematical-based algorithms to interpret features with different magnitudes and distributions equally. We use **StandardScaler()** to normalize our dataset.\n"
      ]
    },
    {
      "cell_type": "code",
      "execution_count": null,
      "id": "8bde331c",
      "metadata": {
        "button": false,
        "execution": {
          "iopub.execute_input": "2021-07-11T12:36:46.561424Z",
          "iopub.status.busy": "2021-07-11T12:36:46.560339Z",
          "iopub.status.idle": "2021-07-11T12:36:46.567845Z",
          "shell.execute_reply": "2021-07-11T12:36:46.567335Z",
          "shell.execute_reply.started": "2021-07-11T12:27:10.975718Z"
        },
        "new_sheet": false,
        "papermill": {
          "duration": 0.043119,
          "end_time": "2021-07-11T12:36:46.567977",
          "exception": false,
          "start_time": "2021-07-11T12:36:46.524858",
          "status": "completed"
        },
        "run_control": {
          "read_only": false
        },
        "tags": [],
        "id": "8bde331c"
      },
      "outputs": [],
      "source": [
        "#YOUR CODE HERE"
      ]
    },
    {
      "cell_type": "markdown",
      "id": "5c362124",
      "metadata": {
        "papermill": {
          "duration": 0.031214,
          "end_time": "2021-07-11T12:36:46.630126",
          "exception": false,
          "start_time": "2021-07-11T12:36:46.598912",
          "status": "completed"
        },
        "tags": [],
        "id": "5c362124"
      },
      "source": [
        "<h2 id=\"modeling\">Modeling</h2>\n"
      ]
    },
    {
      "cell_type": "markdown",
      "id": "db8b3b92",
      "metadata": {
        "button": false,
        "new_sheet": false,
        "papermill": {
          "duration": 0.030699,
          "end_time": "2021-07-11T12:36:46.691645",
          "exception": false,
          "start_time": "2021-07-11T12:36:46.660946",
          "status": "completed"
        },
        "run_control": {
          "read_only": false
        },
        "tags": [],
        "id": "db8b3b92"
      },
      "source": [
        "In our example (if we didn't have access to the k-means algorithm), it would be the same as guessing that each customer group would have certain age, income, education, etc, with multiple tests and experiments. However, using the K-means clustering we can do all this process much easier.\n",
        "\n",
        "Let's apply k-means on our dataset, and take look at cluster labels.\n"
      ]
    },
    {
      "cell_type": "code",
      "execution_count": null,
      "id": "6da2e191",
      "metadata": {
        "button": false,
        "execution": {
          "iopub.execute_input": "2021-07-11T12:36:46.759439Z",
          "iopub.status.busy": "2021-07-11T12:36:46.758775Z",
          "iopub.status.idle": "2021-07-11T12:36:46.858842Z",
          "shell.execute_reply": "2021-07-11T12:36:46.859429Z",
          "shell.execute_reply.started": "2021-07-11T12:28:06.441282Z"
        },
        "new_sheet": false,
        "papermill": {
          "duration": 0.136991,
          "end_time": "2021-07-11T12:36:46.859624",
          "exception": false,
          "start_time": "2021-07-11T12:36:46.722633",
          "status": "completed"
        },
        "run_control": {
          "read_only": false
        },
        "tags": [],
        "id": "6da2e191"
      },
      "outputs": [],
      "source": [
        "#YOUR CODE HERE"
      ]
    },
    {
      "cell_type": "markdown",
      "id": "75934850",
      "metadata": {
        "button": false,
        "new_sheet": false,
        "papermill": {
          "duration": 0.040299,
          "end_time": "2021-07-11T12:36:46.940484",
          "exception": false,
          "start_time": "2021-07-11T12:36:46.900185",
          "status": "completed"
        },
        "run_control": {
          "read_only": false
        },
        "tags": [],
        "id": "75934850"
      },
      "source": [
        "<h2 id=\"insights\">Insights</h2>\n",
        "\n",
        "We assign the labels to each row in dataframe (new column)\n"
      ]
    },
    {
      "cell_type": "code",
      "execution_count": null,
      "id": "1ff5c1fa",
      "metadata": {
        "button": false,
        "execution": {
          "iopub.execute_input": "2021-07-11T12:36:47.040375Z",
          "iopub.status.busy": "2021-07-11T12:36:47.039563Z",
          "iopub.status.idle": "2021-07-11T12:36:47.047462Z",
          "shell.execute_reply": "2021-07-11T12:36:47.048420Z",
          "shell.execute_reply.started": "2021-07-11T12:28:36.130981Z"
        },
        "new_sheet": false,
        "papermill": {
          "duration": 0.066361,
          "end_time": "2021-07-11T12:36:47.048630",
          "exception": false,
          "start_time": "2021-07-11T12:36:46.982269",
          "status": "completed"
        },
        "run_control": {
          "read_only": false
        },
        "tags": [],
        "id": "1ff5c1fa"
      },
      "outputs": [],
      "source": [
        "#YOUR CODE HERE"
      ]
    },
    {
      "cell_type": "markdown",
      "id": "f4c074e7",
      "metadata": {
        "button": false,
        "new_sheet": false,
        "papermill": {
          "duration": 0.0445,
          "end_time": "2021-07-11T12:36:47.135222",
          "exception": false,
          "start_time": "2021-07-11T12:36:47.090722",
          "status": "completed"
        },
        "run_control": {
          "read_only": false
        },
        "tags": [],
        "id": "f4c074e7"
      },
      "source": [
        "We can easily check the centroid values by averaging the features in each cluster.\n"
      ]
    },
    {
      "cell_type": "code",
      "execution_count": null,
      "id": "44626dd2",
      "metadata": {
        "button": false,
        "execution": {
          "iopub.execute_input": "2021-07-11T12:36:47.227766Z",
          "iopub.status.busy": "2021-07-11T12:36:47.225715Z",
          "iopub.status.idle": "2021-07-11T12:36:47.248060Z",
          "shell.execute_reply": "2021-07-11T12:36:47.248600Z",
          "shell.execute_reply.started": "2021-07-11T12:29:03.952980Z"
        },
        "new_sheet": false,
        "papermill": {
          "duration": 0.073181,
          "end_time": "2021-07-11T12:36:47.248815",
          "exception": false,
          "start_time": "2021-07-11T12:36:47.175634",
          "status": "completed"
        },
        "run_control": {
          "read_only": false
        },
        "tags": [],
        "id": "44626dd2"
      },
      "outputs": [],
      "source": [
        "#YOUR CODE HERE"
      ]
    },
    {
      "cell_type": "markdown",
      "id": "971bc0be",
      "metadata": {
        "papermill": {
          "duration": 0.033249,
          "end_time": "2021-07-11T12:36:47.319870",
          "exception": false,
          "start_time": "2021-07-11T12:36:47.286621",
          "status": "completed"
        },
        "tags": [],
        "id": "971bc0be"
      },
      "source": [
        "Now, let's look at the distribution of customers based on their age and income:\n"
      ]
    },
    {
      "cell_type": "code",
      "execution_count": null,
      "id": "b6bff545",
      "metadata": {
        "button": false,
        "execution": {
          "iopub.execute_input": "2021-07-11T12:36:47.414001Z",
          "iopub.status.busy": "2021-07-11T12:36:47.413384Z",
          "iopub.status.idle": "2021-07-11T12:36:47.537030Z",
          "shell.execute_reply": "2021-07-11T12:36:47.536435Z",
          "shell.execute_reply.started": "2021-07-11T12:29:51.406498Z"
        },
        "new_sheet": false,
        "papermill": {
          "duration": 0.18502,
          "end_time": "2021-07-11T12:36:47.537183",
          "exception": false,
          "start_time": "2021-07-11T12:36:47.352163",
          "status": "completed"
        },
        "run_control": {
          "read_only": false
        },
        "tags": [],
        "id": "b6bff545",
        "outputId": "61fb1c61-37a5-465f-afc9-c90ae00bec6e"
      },
      "outputs": [
        {
          "data": {
            "image/png": "[encoded data removed]",
            "text/plain": [
              "<Figure size 432x288 with 1 Axes>"
            ]
          },
          "metadata": {
            "needs_background": "light"
          },
          "output_type": "display_data"
        }
      ],
      "source": [
        "area = np.pi * ( X[:, 1])**2  \n",
        "plt.scatter(X[:, 0], X[:, 3], s=area, c=labels.astype(np.float), alpha=0.5)\n",
        "plt.xlabel('Age', fontsize=18)\n",
        "plt.ylabel('Income', fontsize=16)\n",
        "\n",
        "plt.show()\n"
      ]
    },
    {
      "cell_type": "code",
      "execution_count": null,
      "id": "a690a1ae",
      "metadata": {
        "execution": {
          "iopub.execute_input": "2021-07-11T12:36:47.764286Z",
          "iopub.status.busy": "2021-07-11T12:36:47.763195Z",
          "iopub.status.idle": "2021-07-11T12:36:48.068636Z",
          "shell.execute_reply": "2021-07-11T12:36:48.068142Z",
          "shell.execute_reply.started": "2021-07-11T12:34:33.077758Z"
        },
        "papermill": {
          "duration": 0.497818,
          "end_time": "2021-07-11T12:36:48.068784",
          "exception": false,
          "start_time": "2021-07-11T12:36:47.570966",
          "status": "completed"
        },
        "tags": [],
        "id": "a690a1ae",
        "outputId": "9b16cf2a-f6af-4d99-c0a5-1c3b914d9a07"
      },
      "outputs": [
        {
          "name": "stderr",
          "output_type": "stream",
          "text": [
            "/opt/conda/lib/python3.7/site-packages/ipykernel_launcher.py:4: MatplotlibDeprecationWarning: Axes3D(fig) adding itself to the figure is deprecated since 3.4. Pass the keyword argument auto_add_to_figure=False and use fig.add_axes(ax) to suppress this warning. The default value of auto_add_to_figure will change to False in mpl3.5 and True values will no longer work in 3.6.  This is consistent with other Axes classes.\n",
            "  after removing the cwd from sys.path.\n"
          ]
        },
        {
          "data": {
            "text/plain": [
              "<mpl_toolkits.mplot3d.art3d.Path3DCollection at 0x7f689692ff10>"
            ]
          },
          "execution_count": 19,
          "metadata": {},
          "output_type": "execute_result"
        },
        {
          "data": {
            "image/png": "[encoded data removed]",
            "text/plain": [
              "<Figure size 576x432 with 1 Axes>"
            ]
          },
          "metadata": {
            "needs_background": "light"
          },
          "output_type": "display_data"
        }
      ],
      "source": [
        "from mpl_toolkits.mplot3d import Axes3D \n",
        "fig = plt.figure(1, figsize=(8, 6))\n",
        "plt.clf()\n",
        "ax = Axes3D(fig, rect=[0, 0, .95, 1], elev=48, azim=134)\n",
        "\n",
        "plt.cla()\n",
        "# plt.ylabel('Age', fontsize=18)\n",
        "# plt.xlabel('Income', fontsize=16)\n",
        "# plt.zlabel('Education', fontsize=16)\n",
        "ax.set_xlabel('Education')\n",
        "ax.set_ylabel('Age')\n",
        "ax.set_zlabel('Income')\n",
        "\n",
        "ax.scatter(X[:, 1], X[:, 0], X[:, 3], c= labels.astype(np.float))\n"
      ]
    },
    {
      "cell_type": "markdown",
      "id": "516b7ae2",
      "metadata": {
        "button": false,
        "new_sheet": false,
        "papermill": {
          "duration": 0.038277,
          "end_time": "2021-07-11T12:36:48.145265",
          "exception": false,
          "start_time": "2021-07-11T12:36:48.106988",
          "status": "completed"
        },
        "run_control": {
          "read_only": false
        },
        "tags": [],
        "id": "516b7ae2"
      },
      "source": [
        "k-means will partition your customers into mutually exclusive groups, for example, into 3 clusters. The customers in each cluster are similar to each other demographically.\n",
        "Now we can create a profile for each group, considering the common characteristics of each cluster.\n",
        "For example, the 3 clusters can be:\n",
        "\n",
        "*   AFFLUENT, EDUCATED AND OLD AGED\n",
        "*   MIDDLE AGED AND MIDDLE INCOME\n",
        "*   YOUNG AND LOW INCOME\n"
      ]
    }
  ],
  "metadata": {
    "kernelspec": {
      "display_name": "Python 3",
      "language": "python",
      "name": "python3"
    },
    "language_info": {
      "codemirror_mode": {
        "name": "ipython",
        "version": 3
      },
      "file_extension": ".py",
      "mimetype": "text/x-python",
      "name": "python",
      "nbconvert_exporter": "python",
      "pygments_lexer": "ipython3",
      "version": "3.7.10"
    },
    "papermill": {
      "default_parameters": {},
      "duration": 19.845788,
      "end_time": "2021-07-11T12:36:49.840533",
      "environment_variables": {},
      "exception": null,
      "input_path": "__notebook__.ipynb",
      "output_path": "__notebook__.ipynb",
      "parameters": {},
      "start_time": "2021-07-11T12:36:29.994745",
      "version": "2.3.3"
    },
    "colab": {
      "provenance": []
    }
  },
  "nbformat": 4,
  "nbformat_minor": 5
}